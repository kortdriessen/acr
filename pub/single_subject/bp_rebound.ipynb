{
 "cells": [
  {
   "cell_type": "code",
   "execution_count": 1,
   "metadata": {},
   "outputs": [
    {
     "name": "stderr",
     "output_type": "stream",
     "text": [
      "/home/kdriessen/miniconda3/envs/acr/lib/python3.11/site-packages/tqdm/auto.py:21: TqdmWarning: IProgress not found. Please update jupyter and ipywidgets. See https://ipywidgets.readthedocs.io/en/stable/user_install.html\n",
      "  from .autonotebook import tqdm as notebook_tqdm\n",
      "/home/kdriessen/miniconda3/envs/acr/lib/python3.11/site-packages/outdated/utils.py:14: OutdatedCacheFailedWarning: Failed to use cache while checking for outdated package.\n",
      "Set the environment variable OUTDATED_RAISE_EXCEPTION=1 for a full traceback.\n",
      "Set the environment variable OUTDATED_IGNORE=1 to disable these warnings.\n",
      "  return warn(\n",
      "/home/kdriessen/miniconda3/envs/acr/lib/python3.11/site-packages/outdated/utils.py:14: OutdatedPackageWarning: The package pingouin is out of date. Your version is 0.5.3, the latest is 0.5.4.\n",
      "Set the environment variable OUTDATED_IGNORE=1 to disable these warnings.\n",
      "  return warn(\n"
     ]
    }
   ],
   "source": [
    "#-------------------------- Standard Imports --------------------------#\n",
    "%reload_ext autoreload\n",
    "%autoreload 2\n",
    "import kdephys as kde\n",
    "import pandas as pd\n",
    "import polars as pl\n",
    "import matplotlib.pyplot as plt\n",
    "import seaborn as sns\n",
    "import plotly.express as px\n",
    "import numpy as np\n",
    "import acr\n",
    "plt.style.use('fast')\n",
    "plt.style.use('/home/kdriessen/gh_master/kdephys/kdephys/plot/acr_plots.mplstyle')\n",
    "\n",
    "# ---------------------------- EXTRAS --------------------------------#\n",
    "from acr.utils import swi_subs_exps, sub_probe_locations, sub_exp_types\n",
    "import pingouin as pg\n",
    "band_def = list(kde.utils.spectral.bands.keys())"
   ]
  },
  {
   "cell_type": "code",
   "execution_count": 2,
   "metadata": {},
   "outputs": [],
   "source": [
    "save_base = '/Volumes/opto_loc/Data/ACR_PROJECT_MATERIALS/plots_presentations_etc/pure_rebound_bp_2-6-24'"
   ]
  },
  {
   "cell_type": "code",
   "execution_count": 3,
   "metadata": {},
   "outputs": [
    {
     "name": "stderr",
     "output_type": "stream",
     "text": [
      "/tmp/ipykernel_1414591/1485064609.py:3: DtypeWarning: Columns (11) have mixed types. Specify dtype option on import or set low_memory=False.\n",
      "  reb_df = pd.read_csv(rdf_path)\n"
     ]
    }
   ],
   "source": [
    "# this deletes any unneeded columns from the rebound dataframe before saving again. \n",
    "rdf_path = '/home/kdriessen/gh_master/acr/pub/data/reb_df.csv'\n",
    "reb_df = pd.read_csv(rdf_path)\n",
    "for col in reb_df.columns:\n",
    "    if \"Unnamed\" in col:\n",
    "        del reb_df[col]\n",
    "reb_df = reb_df.loc[reb_df.state == 'NREM']"
   ]
  },
  {
   "cell_type": "code",
   "execution_count": 6,
   "metadata": {},
   "outputs": [],
   "source": [
    "def get_diff_df(reb_df, sub, exp, band='delta'):\n",
    "    chans = reb_df.loc[reb_df.exp==exp].sbj(sub).channel.unique()\n",
    "    avg = reb_df.loc[reb_df.Band==band].loc[reb_df.exp==exp].sbj(sub).groupby(['store', 'channel']).Bandpower.median()\n",
    "    avgs = avg.to_frame().reset_index()\n",
    "    diffs = avgs.prb('NNXo').Bandpower.values / avgs.prb('NNXr').Bandpower.values\n",
    "    diff_df = pd.DataFrame({'channel': chans, 'diff': diffs, \"exp\":exp, \"sub\":sub, \"band\":band})\n",
    "    return diff_df\n",
    "\n",
    "def full_subject_diffs(reb_df, sub, band='delta'):\n",
    "    from acr.utils import swi_subs_exps\n",
    "    exps = swi_subs_exps[sub]\n",
    "    dfs = {}\n",
    "    for exp in exps:\n",
    "        dfs[exp] = get_diff_df(reb_df, sub, exp, band=band)\n",
    "    return pd.concat(dfs.values())\n",
    "\n",
    "def full_subject_all_bands(reb_df, sub):\n",
    "    bands = list(kde.utils.spectral.bands.keys())\n",
    "    dfs = {}\n",
    "    for band in bands:\n",
    "        dfs[band] = full_subject_diffs(reb_df, sub, band=band)\n",
    "    return pd.concat(dfs.values())"
   ]
  },
  {
   "cell_type": "code",
   "execution_count": 7,
   "metadata": {},
   "outputs": [
    {
     "data": {
      "application/vnd.plotly.v1+json": {
       "config": {
        "plotlyServerURL": "https://plot.ly"
       },
       "data": [
        {
         "alignmentgroup": "True",
         "hovertemplate": "exp=swi2<br>band=delta<br>diff=%{x}<br>channel=%{y}<extra></extra>",
         "legendgroup": "swi2",
         "marker": {
          "color": "royalblue",
          "pattern": {
           "shape": ""
          }
         },
         "name": "swi2",
         "offsetgroup": "swi2",
         "orientation": "h",
         "showlegend": true,
         "textposition": "auto",
         "type": "bar",
         "x": [
          0.9393059166766062,
          0.9519570973093366,
          1.0704644705931352,
          0.689174956482128,
          1.0213235756791663,
          1.0082550144803788,
          0.9566994137590683,
          0.9065075734065773,
          0.8782689057850438,
          0.8623369686504491,
          0.8805741827512041,
          0.843331728917729,
          0.8640656312793698,
          0.8942101610078923,
          0.8356388457592242,
          0.8302417732219424
         ],
         "xaxis": "x",
         "y": [
          "1",
          "2",
          "3",
          "4",
          "5",
          "6",
          "7",
          "8",
          "9",
          "10",
          "11",
          "12",
          "13",
          "14",
          "15",
          "16"
         ],
         "yaxis": "y"
        },
        {
         "alignmentgroup": "True",
         "hovertemplate": "exp=swi2<br>band=delta1<br>diff=%{x}<br>channel=%{y}<extra></extra>",
         "legendgroup": "swi2",
         "marker": {
          "color": "royalblue",
          "pattern": {
           "shape": ""
          }
         },
         "name": "swi2",
         "offsetgroup": "swi2",
         "orientation": "h",
         "showlegend": false,
         "textposition": "auto",
         "type": "bar",
         "x": [
          0.7887162996362083,
          0.7539342711690086,
          0.9781209320353197,
          0.3688896509612357,
          0.8598493005343846,
          0.8396959302656362,
          0.8446115901049007,
          0.7469124930943314,
          0.7947461166542911,
          0.7151335089615221,
          0.7576311582622915,
          0.7365136024765594,
          0.7541350947236594,
          0.8108186616170767,
          0.7207284104918256,
          0.7069947129883168
         ],
         "xaxis": "x2",
         "y": [
          "1",
          "2",
          "3",
          "4",
          "5",
          "6",
          "7",
          "8",
          "9",
          "10",
          "11",
          "12",
          "13",
          "14",
          "15",
          "16"
         ],
         "yaxis": "y2"
        },
        {
         "alignmentgroup": "True",
         "hovertemplate": "exp=swi2<br>band=delta2<br>diff=%{x}<br>channel=%{y}<extra></extra>",
         "legendgroup": "swi2",
         "marker": {
          "color": "royalblue",
          "pattern": {
           "shape": ""
          }
         },
         "name": "swi2",
         "offsetgroup": "swi2",
         "orientation": "h",
         "showlegend": false,
         "textposition": "auto",
         "type": "bar",
         "x": [
          1.0941387030046146,
          1.1163106894950903,
          1.144597932397928,
          1.0893016951118797,
          1.093344418920989,
          1.0855444184102452,
          1.0240544784750092,
          1.0633648664663604,
          1.015777564774759,
          1.0091603407781171,
          0.9640891518818233,
          0.9220082273678554,
          0.9443884904479446,
          0.942451050594217,
          0.9320441015373696,
          0.9550465537816617
         ],
         "xaxis": "x3",
         "y": [
          "1",
          "2",
          "3",
          "4",
          "5",
          "6",
          "7",
          "8",
          "9",
          "10",
          "11",
          "12",
          "13",
          "14",
          "15",
          "16"
         ],
         "yaxis": "y3"
        },
        {
         "alignmentgroup": "True",
         "hovertemplate": "exp=swi2<br>band=theta<br>diff=%{x}<br>channel=%{y}<extra></extra>",
         "legendgroup": "swi2",
         "marker": {
          "color": "royalblue",
          "pattern": {
           "shape": ""
          }
         },
         "name": "swi2",
         "offsetgroup": "swi2",
         "orientation": "h",
         "showlegend": false,
         "textposition": "auto",
         "type": "bar",
         "x": [
          1.012414191011276,
          1.004278318175254,
          0.999229296414924,
          0.972014604370188,
          0.9887373944740979,
          0.9826511862859411,
          0.9571817687882815,
          0.9854222233828928,
          0.9480262485535603,
          0.9523596176886543,
          0.9411551825141996,
          0.9090015652810616,
          0.9331695154993724,
          0.9440308894937286,
          0.9326111655812451,
          0.9289876876559795
         ],
         "xaxis": "x4",
         "y": [
          "1",
          "2",
          "3",
          "4",
          "5",
          "6",
          "7",
          "8",
          "9",
          "10",
          "11",
          "12",
          "13",
          "14",
          "15",
          "16"
         ],
         "yaxis": "y4"
        },
        {
         "alignmentgroup": "True",
         "hovertemplate": "exp=swi2<br>band=alpha<br>diff=%{x}<br>channel=%{y}<extra></extra>",
         "legendgroup": "swi2",
         "marker": {
          "color": "royalblue",
          "pattern": {
           "shape": ""
          }
         },
         "name": "swi2",
         "offsetgroup": "swi2",
         "orientation": "h",
         "showlegend": false,
         "textposition": "auto",
         "type": "bar",
         "x": [
          1.0163732216705956,
          1.040610010142239,
          1.0688711556315083,
          1.0349080654973017,
          1.026676643829595,
          1.0239978216510464,
          1.001344051487922,
          1.0239287302231843,
          0.9897267197707935,
          0.9863728524975863,
          0.9653957272597717,
          0.9551367127014841,
          0.9698195068853827,
          0.9776983528113787,
          0.9754475762122011,
          0.9673501071035473
         ],
         "xaxis": "x5",
         "y": [
          "1",
          "2",
          "3",
          "4",
          "5",
          "6",
          "7",
          "8",
          "9",
          "10",
          "11",
          "12",
          "13",
          "14",
          "15",
          "16"
         ],
         "yaxis": "y5"
        },
        {
         "alignmentgroup": "True",
         "hovertemplate": "exp=swi2<br>band=sigma<br>diff=%{x}<br>channel=%{y}<extra></extra>",
         "legendgroup": "swi2",
         "marker": {
          "color": "royalblue",
          "pattern": {
           "shape": ""
          }
         },
         "name": "swi2",
         "offsetgroup": "swi2",
         "orientation": "h",
         "showlegend": false,
         "textposition": "auto",
         "type": "bar",
         "x": [
          1.0361317358328677,
          1.081370489863505,
          1.1049436121802734,
          1.0910949533209204,
          1.0964302039796423,
          1.0621857410142683,
          1.017077458587243,
          1.0251800976456156,
          1.015620807039173,
          1.0268810467215579,
          1.0007491389119083,
          0.9788763169995941,
          0.9816544138957659,
          0.9751935533535147,
          0.9475173990608564,
          0.9493331509293021
         ],
         "xaxis": "x6",
         "y": [
          "1",
          "2",
          "3",
          "4",
          "5",
          "6",
          "7",
          "8",
          "9",
          "10",
          "11",
          "12",
          "13",
          "14",
          "15",
          "16"
         ],
         "yaxis": "y6"
        },
        {
         "alignmentgroup": "True",
         "hovertemplate": "exp=swi2<br>band=beta<br>diff=%{x}<br>channel=%{y}<extra></extra>",
         "legendgroup": "swi2",
         "marker": {
          "color": "royalblue",
          "pattern": {
           "shape": ""
          }
         },
         "name": "swi2",
         "offsetgroup": "swi2",
         "orientation": "h",
         "showlegend": false,
         "textposition": "auto",
         "type": "bar",
         "x": [
          1.0441197201103365,
          1.069866717656945,
          1.081093637191198,
          1.0568529552263495,
          1.0495771779957521,
          0.9926133709514305,
          0.9452038001450819,
          0.957667901987049,
          0.9533813082150008,
          0.9588947154397588,
          0.9564030450960325,
          0.9702416236790542,
          0.974245881233216,
          0.9411302147250269,
          0.9291286605487176,
          0.9380394785057414
         ],
         "xaxis": "x7",
         "y": [
          "1",
          "2",
          "3",
          "4",
          "5",
          "6",
          "7",
          "8",
          "9",
          "10",
          "11",
          "12",
          "13",
          "14",
          "15",
          "16"
         ],
         "yaxis": "y7"
        },
        {
         "alignmentgroup": "True",
         "hovertemplate": "exp=swi2<br>band=low_gamma<br>diff=%{x}<br>channel=%{y}<extra></extra>",
         "legendgroup": "swi2",
         "marker": {
          "color": "royalblue",
          "pattern": {
           "shape": ""
          }
         },
         "name": "swi2",
         "offsetgroup": "swi2",
         "orientation": "h",
         "showlegend": false,
         "textposition": "auto",
         "type": "bar",
         "x": [
          0.8410662281542096,
          0.8311716414778505,
          0.7876480103868262,
          0.770476763309022,
          0.7813316544872636,
          0.820648536503944,
          0.8509343047755474,
          0.9065742208617038,
          0.8948382805069548,
          0.9167243963368693,
          0.9173159361028321,
          0.9162333162203917,
          0.9219035076643753,
          0.9256337852670583,
          0.9285052259228269,
          0.9281284289292735
         ],
         "xaxis": "x8",
         "y": [
          "1",
          "2",
          "3",
          "4",
          "5",
          "6",
          "7",
          "8",
          "9",
          "10",
          "11",
          "12",
          "13",
          "14",
          "15",
          "16"
         ],
         "yaxis": "y8"
        },
        {
         "alignmentgroup": "True",
         "hovertemplate": "exp=swi2<br>band=high_gamma<br>diff=%{x}<br>channel=%{y}<extra></extra>",
         "legendgroup": "swi2",
         "marker": {
          "color": "royalblue",
          "pattern": {
           "shape": ""
          }
         },
         "name": "swi2",
         "offsetgroup": "swi2",
         "orientation": "h",
         "showlegend": false,
         "textposition": "auto",
         "type": "bar",
         "x": [
          0.8564063790117941,
          0.8403799420808596,
          0.8156137940449277,
          0.8519905767937632,
          0.8333864276113209,
          0.8117622962785127,
          0.7734909974520836,
          0.8547984765525368,
          0.852168250365226,
          0.8631177741370784,
          0.859967776154143,
          0.9146219468351969,
          0.9832129196265094,
          0.9344279284437094,
          0.9199462260266099,
          0.9632500791955895
         ],
         "xaxis": "x9",
         "y": [
          "1",
          "2",
          "3",
          "4",
          "5",
          "6",
          "7",
          "8",
          "9",
          "10",
          "11",
          "12",
          "13",
          "14",
          "15",
          "16"
         ],
         "yaxis": "y9"
        },
        {
         "alignmentgroup": "True",
         "hovertemplate": "exp=swisin<br>band=delta<br>diff=%{x}<br>channel=%{y}<extra></extra>",
         "legendgroup": "swisin",
         "marker": {
          "color": "crimson",
          "pattern": {
           "shape": ""
          }
         },
         "name": "swisin",
         "offsetgroup": "swisin",
         "orientation": "h",
         "showlegend": true,
         "textposition": "auto",
         "type": "bar",
         "x": [
          1.0764929847406466,
          1.035214516209414,
          1.104998817744544,
          1.0695825343976957,
          1.0919511873736094,
          1.0023383244546602,
          0.9801231823883816,
          0.9576488938269618,
          0.9390671993655596,
          0.9138936641811629,
          0.9129612149625351,
          0.9336567675006395,
          0.9309809394159366,
          0.9360183866728947,
          0.9363032433491182,
          0.8967369064727447
         ],
         "xaxis": "x",
         "y": [
          "1",
          "2",
          "3",
          "4",
          "5",
          "6",
          "7",
          "8",
          "9",
          "10",
          "11",
          "12",
          "13",
          "14",
          "15",
          "16"
         ],
         "yaxis": "y"
        },
        {
         "alignmentgroup": "True",
         "hovertemplate": "exp=swisin<br>band=delta1<br>diff=%{x}<br>channel=%{y}<extra></extra>",
         "legendgroup": "swisin",
         "marker": {
          "color": "crimson",
          "pattern": {
           "shape": ""
          }
         },
         "name": "swisin",
         "offsetgroup": "swisin",
         "orientation": "h",
         "showlegend": false,
         "textposition": "auto",
         "type": "bar",
         "x": [
          1.1091752146364189,
          1.0156882820372146,
          1.061732533195251,
          1.0362904454808866,
          1.0740608491882067,
          0.9972949002763357,
          0.8906344295793234,
          0.9149814911432189,
          0.8901293968519678,
          0.8799908103828141,
          0.892259962264485,
          0.9414912267318007,
          0.9342419373530129,
          0.9402682830137845,
          0.9110066628105669,
          0.867934690302996
         ],
         "xaxis": "x2",
         "y": [
          "1",
          "2",
          "3",
          "4",
          "5",
          "6",
          "7",
          "8",
          "9",
          "10",
          "11",
          "12",
          "13",
          "14",
          "15",
          "16"
         ],
         "yaxis": "y2"
        },
        {
         "alignmentgroup": "True",
         "hovertemplate": "exp=swisin<br>band=delta2<br>diff=%{x}<br>channel=%{y}<extra></extra>",
         "legendgroup": "swisin",
         "marker": {
          "color": "crimson",
          "pattern": {
           "shape": ""
          }
         },
         "name": "swisin",
         "offsetgroup": "swisin",
         "orientation": "h",
         "showlegend": false,
         "textposition": "auto",
         "type": "bar",
         "x": [
          1.0913458995425775,
          1.0584375779795956,
          1.0958482233046467,
          1.0839543056392205,
          1.110603589559666,
          1.0270274913191602,
          0.999755758953899,
          0.9482607634163207,
          0.9768595345578182,
          0.9492406279854265,
          0.9503586961708,
          0.9616664100587536,
          0.9587095263833252,
          0.9817070841236912,
          0.9784418467208994,
          0.984898951996057
         ],
         "xaxis": "x3",
         "y": [
          "1",
          "2",
          "3",
          "4",
          "5",
          "6",
          "7",
          "8",
          "9",
          "10",
          "11",
          "12",
          "13",
          "14",
          "15",
          "16"
         ],
         "yaxis": "y3"
        },
        {
         "alignmentgroup": "True",
         "hovertemplate": "exp=swisin<br>band=theta<br>diff=%{x}<br>channel=%{y}<extra></extra>",
         "legendgroup": "swisin",
         "marker": {
          "color": "crimson",
          "pattern": {
           "shape": ""
          }
         },
         "name": "swisin",
         "offsetgroup": "swisin",
         "orientation": "h",
         "showlegend": false,
         "textposition": "auto",
         "type": "bar",
         "x": [
          1.0881491772580736,
          1.0602721232059957,
          1.0630357600252416,
          1.0315692999412498,
          1.0443654445116468,
          1.0169510203628596,
          1.0055966904381723,
          1.0009581804050207,
          0.9828967379607984,
          0.9761866754485791,
          0.9575936466533368,
          0.9489403276259757,
          0.9786733351789537,
          0.989619544944125,
          1.0182179972161836,
          1.03919958081827
         ],
         "xaxis": "x4",
         "y": [
          "1",
          "2",
          "3",
          "4",
          "5",
          "6",
          "7",
          "8",
          "9",
          "10",
          "11",
          "12",
          "13",
          "14",
          "15",
          "16"
         ],
         "yaxis": "y4"
        },
        {
         "alignmentgroup": "True",
         "hovertemplate": "exp=swisin<br>band=alpha<br>diff=%{x}<br>channel=%{y}<extra></extra>",
         "legendgroup": "swisin",
         "marker": {
          "color": "crimson",
          "pattern": {
           "shape": ""
          }
         },
         "name": "swisin",
         "offsetgroup": "swisin",
         "orientation": "h",
         "showlegend": false,
         "textposition": "auto",
         "type": "bar",
         "x": [
          1.0428654796595995,
          1.0379383177021857,
          1.077293306227075,
          1.0731569030859234,
          1.084162874769986,
          1.0791027201755397,
          1.0616947328382214,
          1.0578314020162676,
          1.0450789520072512,
          1.0317006445957748,
          1.0139512674285613,
          1.0273636673452629,
          1.0087374427543079,
          1.0196815745429346,
          1.027319539491861,
          1.0265519164056516
         ],
         "xaxis": "x5",
         "y": [
          "1",
          "2",
          "3",
          "4",
          "5",
          "6",
          "7",
          "8",
          "9",
          "10",
          "11",
          "12",
          "13",
          "14",
          "15",
          "16"
         ],
         "yaxis": "y5"
        },
        {
         "alignmentgroup": "True",
         "hovertemplate": "exp=swisin<br>band=sigma<br>diff=%{x}<br>channel=%{y}<extra></extra>",
         "legendgroup": "swisin",
         "marker": {
          "color": "crimson",
          "pattern": {
           "shape": ""
          }
         },
         "name": "swisin",
         "offsetgroup": "swisin",
         "orientation": "h",
         "showlegend": false,
         "textposition": "auto",
         "type": "bar",
         "x": [
          1.102198305181251,
          1.1207425195126586,
          1.1738765652058718,
          1.185393419637211,
          1.1491391128211834,
          1.0820993552627904,
          1.0427768610106567,
          1.0499391591177594,
          1.07468392503039,
          1.052967295076542,
          1.0204627071740267,
          1.009197962720098,
          1.0176751299081352,
          1.0050848956042404,
          0.9847372504900677,
          0.9896447264408333
         ],
         "xaxis": "x6",
         "y": [
          "1",
          "2",
          "3",
          "4",
          "5",
          "6",
          "7",
          "8",
          "9",
          "10",
          "11",
          "12",
          "13",
          "14",
          "15",
          "16"
         ],
         "yaxis": "y6"
        },
        {
         "alignmentgroup": "True",
         "hovertemplate": "exp=swisin<br>band=beta<br>diff=%{x}<br>channel=%{y}<extra></extra>",
         "legendgroup": "swisin",
         "marker": {
          "color": "crimson",
          "pattern": {
           "shape": ""
          }
         },
         "name": "swisin",
         "offsetgroup": "swisin",
         "orientation": "h",
         "showlegend": false,
         "textposition": "auto",
         "type": "bar",
         "x": [
          1.093525453606994,
          1.1052932071726163,
          1.1103663750098585,
          1.0947494069747585,
          1.0504042365748953,
          0.9885751074674237,
          0.9468131025996354,
          0.9652900280570403,
          0.9729901250964311,
          0.9701766143528318,
          0.9610001123026066,
          0.9739981855798898,
          0.9889940116026698,
          0.9694870931503856,
          0.9778218201810633,
          0.9844224073123863
         ],
         "xaxis": "x7",
         "y": [
          "1",
          "2",
          "3",
          "4",
          "5",
          "6",
          "7",
          "8",
          "9",
          "10",
          "11",
          "12",
          "13",
          "14",
          "15",
          "16"
         ],
         "yaxis": "y7"
        },
        {
         "alignmentgroup": "True",
         "hovertemplate": "exp=swisin<br>band=low_gamma<br>diff=%{x}<br>channel=%{y}<extra></extra>",
         "legendgroup": "swisin",
         "marker": {
          "color": "crimson",
          "pattern": {
           "shape": ""
          }
         },
         "name": "swisin",
         "offsetgroup": "swisin",
         "orientation": "h",
         "showlegend": false,
         "textposition": "auto",
         "type": "bar",
         "x": [
          0.9287144524654519,
          0.8794306192339743,
          0.8660904438405136,
          0.8548173352278362,
          0.839013442399543,
          0.8439780302378618,
          0.834741155616997,
          0.9170234319765227,
          0.896737284612355,
          0.9120566524333857,
          0.9163692280358747,
          0.9351902104739127,
          0.9435398937601378,
          0.952436744253286,
          0.9491780695136998,
          0.9635004468914184
         ],
         "xaxis": "x8",
         "y": [
          "1",
          "2",
          "3",
          "4",
          "5",
          "6",
          "7",
          "8",
          "9",
          "10",
          "11",
          "12",
          "13",
          "14",
          "15",
          "16"
         ],
         "yaxis": "y8"
        },
        {
         "alignmentgroup": "True",
         "hovertemplate": "exp=swisin<br>band=high_gamma<br>diff=%{x}<br>channel=%{y}<extra></extra>",
         "legendgroup": "swisin",
         "marker": {
          "color": "crimson",
          "pattern": {
           "shape": ""
          }
         },
         "name": "swisin",
         "offsetgroup": "swisin",
         "orientation": "h",
         "showlegend": false,
         "textposition": "auto",
         "type": "bar",
         "x": [
          0.9855233380768242,
          0.8938933019763772,
          0.906413799507309,
          0.8824365562045534,
          0.8774402828986521,
          0.8814470184786432,
          0.8576653535496671,
          0.8886952672054977,
          0.9156697769388747,
          0.9907397972766255,
          0.9097783281533165,
          0.9381118925153493,
          0.9820943663771095,
          0.966704084343292,
          0.9705938127158333,
          0.9986218027858178
         ],
         "xaxis": "x9",
         "y": [
          "1",
          "2",
          "3",
          "4",
          "5",
          "6",
          "7",
          "8",
          "9",
          "10",
          "11",
          "12",
          "13",
          "14",
          "15",
          "16"
         ],
         "yaxis": "y9"
        }
       ],
       "layout": {
        "annotations": [
         {
          "font": {},
          "showarrow": false,
          "text": "band=delta",
          "x": 0.04666666666666666,
          "xanchor": "center",
          "xref": "paper",
          "y": 1,
          "yanchor": "bottom",
          "yref": "paper"
         },
         {
          "font": {},
          "showarrow": false,
          "text": "band=delta1",
          "x": 0.16,
          "xanchor": "center",
          "xref": "paper",
          "y": 1,
          "yanchor": "bottom",
          "yref": "paper"
         },
         {
          "font": {},
          "showarrow": false,
          "text": "band=delta2",
          "x": 0.2733333333333333,
          "xanchor": "center",
          "xref": "paper",
          "y": 1,
          "yanchor": "bottom",
          "yref": "paper"
         },
         {
          "font": {},
          "showarrow": false,
          "text": "band=theta",
          "x": 0.3866666666666666,
          "xanchor": "center",
          "xref": "paper",
          "y": 1,
          "yanchor": "bottom",
          "yref": "paper"
         },
         {
          "font": {},
          "showarrow": false,
          "text": "band=alpha",
          "x": 0.5,
          "xanchor": "center",
          "xref": "paper",
          "y": 1,
          "yanchor": "bottom",
          "yref": "paper"
         },
         {
          "font": {},
          "showarrow": false,
          "text": "band=sigma",
          "x": 0.6133333333333333,
          "xanchor": "center",
          "xref": "paper",
          "y": 1,
          "yanchor": "bottom",
          "yref": "paper"
         },
         {
          "font": {},
          "showarrow": false,
          "text": "band=beta",
          "x": 0.7266666666666666,
          "xanchor": "center",
          "xref": "paper",
          "y": 1,
          "yanchor": "bottom",
          "yref": "paper"
         },
         {
          "font": {},
          "showarrow": false,
          "text": "band=low_gamma",
          "x": 0.8400000000000001,
          "xanchor": "center",
          "xref": "paper",
          "y": 1,
          "yanchor": "bottom",
          "yref": "paper"
         },
         {
          "font": {},
          "showarrow": false,
          "text": "band=high_gamma",
          "x": 0.9533333333333334,
          "xanchor": "center",
          "xref": "paper",
          "y": 1,
          "yanchor": "bottom",
          "yref": "paper"
         }
        ],
        "barmode": "group",
        "font": {
         "color": "black",
         "size": 20
        },
        "height": 1800,
        "legend": {
         "title": {
          "text": "exp"
         },
         "tracegroupgap": 0
        },
        "template": {
         "data": {
          "bar": [
           {
            "error_x": {
             "color": "rgb(51,51,51)"
            },
            "error_y": {
             "color": "rgb(51,51,51)"
            },
            "marker": {
             "line": {
              "color": "rgb(237,237,237)",
              "width": 0.5
             },
             "pattern": {
              "fillmode": "overlay",
              "size": 10,
              "solidity": 0.2
             }
            },
            "type": "bar"
           }
          ],
          "barpolar": [
           {
            "marker": {
             "line": {
              "color": "rgb(237,237,237)",
              "width": 0.5
             },
             "pattern": {
              "fillmode": "overlay",
              "size": 10,
              "solidity": 0.2
             }
            },
            "type": "barpolar"
           }
          ],
          "carpet": [
           {
            "aaxis": {
             "endlinecolor": "rgb(51,51,51)",
             "gridcolor": "white",
             "linecolor": "white",
             "minorgridcolor": "white",
             "startlinecolor": "rgb(51,51,51)"
            },
            "baxis": {
             "endlinecolor": "rgb(51,51,51)",
             "gridcolor": "white",
             "linecolor": "white",
             "minorgridcolor": "white",
             "startlinecolor": "rgb(51,51,51)"
            },
            "type": "carpet"
           }
          ],
          "choropleth": [
           {
            "colorbar": {
             "outlinewidth": 0,
             "tickcolor": "rgb(237,237,237)",
             "ticklen": 6,
             "ticks": "inside"
            },
            "type": "choropleth"
           }
          ],
          "contour": [
           {
            "colorbar": {
             "outlinewidth": 0,
             "tickcolor": "rgb(237,237,237)",
             "ticklen": 6,
             "ticks": "inside"
            },
            "colorscale": [
             [
              0,
              "rgb(20,44,66)"
             ],
             [
              1,
              "rgb(90,179,244)"
             ]
            ],
            "type": "contour"
           }
          ],
          "contourcarpet": [
           {
            "colorbar": {
             "outlinewidth": 0,
             "tickcolor": "rgb(237,237,237)",
             "ticklen": 6,
             "ticks": "inside"
            },
            "type": "contourcarpet"
           }
          ],
          "heatmap": [
           {
            "colorbar": {
             "outlinewidth": 0,
             "tickcolor": "rgb(237,237,237)",
             "ticklen": 6,
             "ticks": "inside"
            },
            "colorscale": [
             [
              0,
              "rgb(20,44,66)"
             ],
             [
              1,
              "rgb(90,179,244)"
             ]
            ],
            "type": "heatmap"
           }
          ],
          "heatmapgl": [
           {
            "colorbar": {
             "outlinewidth": 0,
             "tickcolor": "rgb(237,237,237)",
             "ticklen": 6,
             "ticks": "inside"
            },
            "colorscale": [
             [
              0,
              "rgb(20,44,66)"
             ],
             [
              1,
              "rgb(90,179,244)"
             ]
            ],
            "type": "heatmapgl"
           }
          ],
          "histogram": [
           {
            "marker": {
             "pattern": {
              "fillmode": "overlay",
              "size": 10,
              "solidity": 0.2
             }
            },
            "type": "histogram"
           }
          ],
          "histogram2d": [
           {
            "colorbar": {
             "outlinewidth": 0,
             "tickcolor": "rgb(237,237,237)",
             "ticklen": 6,
             "ticks": "inside"
            },
            "colorscale": [
             [
              0,
              "rgb(20,44,66)"
             ],
             [
              1,
              "rgb(90,179,244)"
             ]
            ],
            "type": "histogram2d"
           }
          ],
          "histogram2dcontour": [
           {
            "colorbar": {
             "outlinewidth": 0,
             "tickcolor": "rgb(237,237,237)",
             "ticklen": 6,
             "ticks": "inside"
            },
            "colorscale": [
             [
              0,
              "rgb(20,44,66)"
             ],
             [
              1,
              "rgb(90,179,244)"
             ]
            ],
            "type": "histogram2dcontour"
           }
          ],
          "mesh3d": [
           {
            "colorbar": {
             "outlinewidth": 0,
             "tickcolor": "rgb(237,237,237)",
             "ticklen": 6,
             "ticks": "inside"
            },
            "type": "mesh3d"
           }
          ],
          "parcoords": [
           {
            "line": {
             "colorbar": {
              "outlinewidth": 0,
              "tickcolor": "rgb(237,237,237)",
              "ticklen": 6,
              "ticks": "inside"
             }
            },
            "type": "parcoords"
           }
          ],
          "pie": [
           {
            "automargin": true,
            "type": "pie"
           }
          ],
          "scatter": [
           {
            "fillpattern": {
             "fillmode": "overlay",
             "size": 10,
             "solidity": 0.2
            },
            "type": "scatter"
           }
          ],
          "scatter3d": [
           {
            "line": {
             "colorbar": {
              "outlinewidth": 0,
              "tickcolor": "rgb(237,237,237)",
              "ticklen": 6,
              "ticks": "inside"
             }
            },
            "marker": {
             "colorbar": {
              "outlinewidth": 0,
              "tickcolor": "rgb(237,237,237)",
              "ticklen": 6,
              "ticks": "inside"
             }
            },
            "type": "scatter3d"
           }
          ],
          "scattercarpet": [
           {
            "marker": {
             "colorbar": {
              "outlinewidth": 0,
              "tickcolor": "rgb(237,237,237)",
              "ticklen": 6,
              "ticks": "inside"
             }
            },
            "type": "scattercarpet"
           }
          ],
          "scattergeo": [
           {
            "marker": {
             "colorbar": {
              "outlinewidth": 0,
              "tickcolor": "rgb(237,237,237)",
              "ticklen": 6,
              "ticks": "inside"
             }
            },
            "type": "scattergeo"
           }
          ],
          "scattergl": [
           {
            "marker": {
             "colorbar": {
              "outlinewidth": 0,
              "tickcolor": "rgb(237,237,237)",
              "ticklen": 6,
              "ticks": "inside"
             }
            },
            "type": "scattergl"
           }
          ],
          "scattermapbox": [
           {
            "marker": {
             "colorbar": {
              "outlinewidth": 0,
              "tickcolor": "rgb(237,237,237)",
              "ticklen": 6,
              "ticks": "inside"
             }
            },
            "type": "scattermapbox"
           }
          ],
          "scatterpolar": [
           {
            "marker": {
             "colorbar": {
              "outlinewidth": 0,
              "tickcolor": "rgb(237,237,237)",
              "ticklen": 6,
              "ticks": "inside"
             }
            },
            "type": "scatterpolar"
           }
          ],
          "scatterpolargl": [
           {
            "marker": {
             "colorbar": {
              "outlinewidth": 0,
              "tickcolor": "rgb(237,237,237)",
              "ticklen": 6,
              "ticks": "inside"
             }
            },
            "type": "scatterpolargl"
           }
          ],
          "scatterternary": [
           {
            "marker": {
             "colorbar": {
              "outlinewidth": 0,
              "tickcolor": "rgb(237,237,237)",
              "ticklen": 6,
              "ticks": "inside"
             }
            },
            "type": "scatterternary"
           }
          ],
          "surface": [
           {
            "colorbar": {
             "outlinewidth": 0,
             "tickcolor": "rgb(237,237,237)",
             "ticklen": 6,
             "ticks": "inside"
            },
            "colorscale": [
             [
              0,
              "rgb(20,44,66)"
             ],
             [
              1,
              "rgb(90,179,244)"
             ]
            ],
            "type": "surface"
           }
          ],
          "table": [
           {
            "cells": {
             "fill": {
              "color": "rgb(237,237,237)"
             },
             "line": {
              "color": "white"
             }
            },
            "header": {
             "fill": {
              "color": "rgb(217,217,217)"
             },
             "line": {
              "color": "white"
             }
            },
            "type": "table"
           }
          ]
         },
         "layout": {
          "annotationdefaults": {
           "arrowhead": 0,
           "arrowwidth": 1
          },
          "autotypenumbers": "strict",
          "coloraxis": {
           "colorbar": {
            "outlinewidth": 0,
            "tickcolor": "rgb(237,237,237)",
            "ticklen": 6,
            "ticks": "inside"
           }
          },
          "colorscale": {
           "sequential": [
            [
             0,
             "rgb(20,44,66)"
            ],
            [
             1,
             "rgb(90,179,244)"
            ]
           ],
           "sequentialminus": [
            [
             0,
             "rgb(20,44,66)"
            ],
            [
             1,
             "rgb(90,179,244)"
            ]
           ]
          },
          "colorway": [
           "#F8766D",
           "#A3A500",
           "#00BF7D",
           "#00B0F6",
           "#E76BF3"
          ],
          "font": {
           "color": "rgb(51,51,51)"
          },
          "geo": {
           "bgcolor": "white",
           "lakecolor": "white",
           "landcolor": "rgb(237,237,237)",
           "showlakes": true,
           "showland": true,
           "subunitcolor": "white"
          },
          "hoverlabel": {
           "align": "left"
          },
          "hovermode": "closest",
          "paper_bgcolor": "white",
          "plot_bgcolor": "rgb(237,237,237)",
          "polar": {
           "angularaxis": {
            "gridcolor": "white",
            "linecolor": "white",
            "showgrid": true,
            "tickcolor": "rgb(51,51,51)",
            "ticks": "outside"
           },
           "bgcolor": "rgb(237,237,237)",
           "radialaxis": {
            "gridcolor": "white",
            "linecolor": "white",
            "showgrid": true,
            "tickcolor": "rgb(51,51,51)",
            "ticks": "outside"
           }
          },
          "scene": {
           "xaxis": {
            "backgroundcolor": "rgb(237,237,237)",
            "gridcolor": "white",
            "gridwidth": 2,
            "linecolor": "white",
            "showbackground": true,
            "showgrid": true,
            "tickcolor": "rgb(51,51,51)",
            "ticks": "outside",
            "zerolinecolor": "white"
           },
           "yaxis": {
            "backgroundcolor": "rgb(237,237,237)",
            "gridcolor": "white",
            "gridwidth": 2,
            "linecolor": "white",
            "showbackground": true,
            "showgrid": true,
            "tickcolor": "rgb(51,51,51)",
            "ticks": "outside",
            "zerolinecolor": "white"
           },
           "zaxis": {
            "backgroundcolor": "rgb(237,237,237)",
            "gridcolor": "white",
            "gridwidth": 2,
            "linecolor": "white",
            "showbackground": true,
            "showgrid": true,
            "tickcolor": "rgb(51,51,51)",
            "ticks": "outside",
            "zerolinecolor": "white"
           }
          },
          "shapedefaults": {
           "fillcolor": "black",
           "line": {
            "width": 0
           },
           "opacity": 0.3
          },
          "ternary": {
           "aaxis": {
            "gridcolor": "white",
            "linecolor": "white",
            "showgrid": true,
            "tickcolor": "rgb(51,51,51)",
            "ticks": "outside"
           },
           "baxis": {
            "gridcolor": "white",
            "linecolor": "white",
            "showgrid": true,
            "tickcolor": "rgb(51,51,51)",
            "ticks": "outside"
           },
           "bgcolor": "rgb(237,237,237)",
           "caxis": {
            "gridcolor": "white",
            "linecolor": "white",
            "showgrid": true,
            "tickcolor": "rgb(51,51,51)",
            "ticks": "outside"
           }
          },
          "xaxis": {
           "automargin": true,
           "gridcolor": "white",
           "linecolor": "white",
           "showgrid": true,
           "tickcolor": "rgb(51,51,51)",
           "ticks": "outside",
           "title": {
            "standoff": 15
           },
           "zerolinecolor": "white"
          },
          "yaxis": {
           "automargin": true,
           "gridcolor": "white",
           "linecolor": "white",
           "showgrid": true,
           "tickcolor": "rgb(51,51,51)",
           "ticks": "outside",
           "title": {
            "standoff": 15
           },
           "zerolinecolor": "white"
          }
         }
        },
        "title": {
         "font": {
          "size": 28
         },
         "text": "ACR_19 Bandpower | MEDIAN NNXo-NNXr | Rebound = 1hr NREM"
        },
        "width": 2200,
        "xaxis": {
         "anchor": "y",
         "domain": [
          0,
          0.09333333333333332
         ],
         "title": {
          "text": "diff"
         }
        },
        "xaxis2": {
         "anchor": "y2",
         "domain": [
          0.11333333333333333,
          0.20666666666666667
         ],
         "title": {
          "text": "diff"
         }
        },
        "xaxis3": {
         "anchor": "y3",
         "domain": [
          0.22666666666666666,
          0.31999999999999995
         ],
         "title": {
          "text": "diff"
         }
        },
        "xaxis4": {
         "anchor": "y4",
         "domain": [
          0.33999999999999997,
          0.4333333333333333
         ],
         "title": {
          "text": "diff"
         }
        },
        "xaxis5": {
         "anchor": "y5",
         "domain": [
          0.4533333333333333,
          0.5466666666666666
         ],
         "title": {
          "text": "diff"
         }
        },
        "xaxis6": {
         "anchor": "y6",
         "domain": [
          0.5666666666666667,
          0.6599999999999999
         ],
         "title": {
          "text": "diff"
         }
        },
        "xaxis7": {
         "anchor": "y7",
         "domain": [
          0.6799999999999999,
          0.7733333333333332
         ],
         "title": {
          "text": "diff"
         }
        },
        "xaxis8": {
         "anchor": "y8",
         "domain": [
          0.7933333333333333,
          0.8866666666666667
         ],
         "title": {
          "text": "diff"
         }
        },
        "xaxis9": {
         "anchor": "y9",
         "domain": [
          0.9066666666666666,
          1
         ],
         "title": {
          "text": "diff"
         }
        },
        "yaxis": {
         "anchor": "x",
         "autorange": "reversed",
         "domain": [
          0,
          1
         ],
         "title": {
          "text": "channel"
         }
        },
        "yaxis2": {
         "anchor": "x2",
         "autorange": "reversed",
         "domain": [
          0,
          1
         ],
         "matches": "y",
         "showticklabels": false
        },
        "yaxis3": {
         "anchor": "x3",
         "autorange": "reversed",
         "domain": [
          0,
          1
         ],
         "matches": "y",
         "showticklabels": false
        },
        "yaxis4": {
         "anchor": "x4",
         "autorange": "reversed",
         "domain": [
          0,
          1
         ],
         "matches": "y",
         "showticklabels": false
        },
        "yaxis5": {
         "anchor": "x5",
         "autorange": "reversed",
         "domain": [
          0,
          1
         ],
         "matches": "y",
         "showticklabels": false
        },
        "yaxis6": {
         "anchor": "x6",
         "autorange": "reversed",
         "domain": [
          0,
          1
         ],
         "matches": "y",
         "showticklabels": false
        },
        "yaxis7": {
         "anchor": "x7",
         "autorange": "reversed",
         "domain": [
          0,
          1
         ],
         "matches": "y",
         "showticklabels": false
        },
        "yaxis8": {
         "anchor": "x8",
         "autorange": "reversed",
         "domain": [
          0,
          1
         ],
         "matches": "y",
         "showticklabels": false
        },
        "yaxis9": {
         "anchor": "x9",
         "autorange": "reversed",
         "domain": [
          0,
          1
         ],
         "matches": "y",
         "showticklabels": false
        }
       }
      },
      "text/html": [
       "<div>                            <div id=\"4092fff0-e241-40c8-ab2b-e0f2f17f0458\" class=\"plotly-graph-div\" style=\"height:1800px; width:2200px;\"></div>            <script type=\"text/javascript\">                require([\"plotly\"], function(Plotly) {                    window.PLOTLYENV=window.PLOTLYENV || {};                                    if (document.getElementById(\"4092fff0-e241-40c8-ab2b-e0f2f17f0458\")) {                    Plotly.newPlot(                        \"4092fff0-e241-40c8-ab2b-e0f2f17f0458\",                        [{\"alignmentgroup\":\"True\",\"hovertemplate\":\"exp=swi2\\u003cbr\\u003eband=delta\\u003cbr\\u003ediff=%{x}\\u003cbr\\u003echannel=%{y}\\u003cextra\\u003e\\u003c\\u002fextra\\u003e\",\"legendgroup\":\"swi2\",\"marker\":{\"color\":\"royalblue\",\"pattern\":{\"shape\":\"\"}},\"name\":\"swi2\",\"offsetgroup\":\"swi2\",\"orientation\":\"h\",\"showlegend\":true,\"textposition\":\"auto\",\"x\":[0.9393059166766062,0.9519570973093366,1.0704644705931352,0.689174956482128,1.0213235756791663,1.0082550144803788,0.9566994137590683,0.9065075734065773,0.8782689057850438,0.8623369686504491,0.8805741827512041,0.843331728917729,0.8640656312793698,0.8942101610078923,0.8356388457592242,0.8302417732219424],\"xaxis\":\"x\",\"y\":[\"1\",\"2\",\"3\",\"4\",\"5\",\"6\",\"7\",\"8\",\"9\",\"10\",\"11\",\"12\",\"13\",\"14\",\"15\",\"16\"],\"yaxis\":\"y\",\"type\":\"bar\"},{\"alignmentgroup\":\"True\",\"hovertemplate\":\"exp=swi2\\u003cbr\\u003eband=delta1\\u003cbr\\u003ediff=%{x}\\u003cbr\\u003echannel=%{y}\\u003cextra\\u003e\\u003c\\u002fextra\\u003e\",\"legendgroup\":\"swi2\",\"marker\":{\"color\":\"royalblue\",\"pattern\":{\"shape\":\"\"}},\"name\":\"swi2\",\"offsetgroup\":\"swi2\",\"orientation\":\"h\",\"showlegend\":false,\"textposition\":\"auto\",\"x\":[0.7887162996362083,0.7539342711690086,0.9781209320353197,0.3688896509612357,0.8598493005343846,0.8396959302656362,0.8446115901049007,0.7469124930943314,0.7947461166542911,0.7151335089615221,0.7576311582622915,0.7365136024765594,0.7541350947236594,0.8108186616170767,0.7207284104918256,0.7069947129883168],\"xaxis\":\"x2\",\"y\":[\"1\",\"2\",\"3\",\"4\",\"5\",\"6\",\"7\",\"8\",\"9\",\"10\",\"11\",\"12\",\"13\",\"14\",\"15\",\"16\"],\"yaxis\":\"y2\",\"type\":\"bar\"},{\"alignmentgroup\":\"True\",\"hovertemplate\":\"exp=swi2\\u003cbr\\u003eband=delta2\\u003cbr\\u003ediff=%{x}\\u003cbr\\u003echannel=%{y}\\u003cextra\\u003e\\u003c\\u002fextra\\u003e\",\"legendgroup\":\"swi2\",\"marker\":{\"color\":\"royalblue\",\"pattern\":{\"shape\":\"\"}},\"name\":\"swi2\",\"offsetgroup\":\"swi2\",\"orientation\":\"h\",\"showlegend\":false,\"textposition\":\"auto\",\"x\":[1.0941387030046146,1.1163106894950903,1.144597932397928,1.0893016951118797,1.093344418920989,1.0855444184102452,1.0240544784750092,1.0633648664663604,1.015777564774759,1.0091603407781171,0.9640891518818233,0.9220082273678554,0.9443884904479446,0.942451050594217,0.9320441015373696,0.9550465537816617],\"xaxis\":\"x3\",\"y\":[\"1\",\"2\",\"3\",\"4\",\"5\",\"6\",\"7\",\"8\",\"9\",\"10\",\"11\",\"12\",\"13\",\"14\",\"15\",\"16\"],\"yaxis\":\"y3\",\"type\":\"bar\"},{\"alignmentgroup\":\"True\",\"hovertemplate\":\"exp=swi2\\u003cbr\\u003eband=theta\\u003cbr\\u003ediff=%{x}\\u003cbr\\u003echannel=%{y}\\u003cextra\\u003e\\u003c\\u002fextra\\u003e\",\"legendgroup\":\"swi2\",\"marker\":{\"color\":\"royalblue\",\"pattern\":{\"shape\":\"\"}},\"name\":\"swi2\",\"offsetgroup\":\"swi2\",\"orientation\":\"h\",\"showlegend\":false,\"textposition\":\"auto\",\"x\":[1.012414191011276,1.004278318175254,0.999229296414924,0.972014604370188,0.9887373944740979,0.9826511862859411,0.9571817687882815,0.9854222233828928,0.9480262485535603,0.9523596176886543,0.9411551825141996,0.9090015652810616,0.9331695154993724,0.9440308894937286,0.9326111655812451,0.9289876876559795],\"xaxis\":\"x4\",\"y\":[\"1\",\"2\",\"3\",\"4\",\"5\",\"6\",\"7\",\"8\",\"9\",\"10\",\"11\",\"12\",\"13\",\"14\",\"15\",\"16\"],\"yaxis\":\"y4\",\"type\":\"bar\"},{\"alignmentgroup\":\"True\",\"hovertemplate\":\"exp=swi2\\u003cbr\\u003eband=alpha\\u003cbr\\u003ediff=%{x}\\u003cbr\\u003echannel=%{y}\\u003cextra\\u003e\\u003c\\u002fextra\\u003e\",\"legendgroup\":\"swi2\",\"marker\":{\"color\":\"royalblue\",\"pattern\":{\"shape\":\"\"}},\"name\":\"swi2\",\"offsetgroup\":\"swi2\",\"orientation\":\"h\",\"showlegend\":false,\"textposition\":\"auto\",\"x\":[1.0163732216705956,1.040610010142239,1.0688711556315083,1.0349080654973017,1.026676643829595,1.0239978216510464,1.001344051487922,1.0239287302231843,0.9897267197707935,0.9863728524975863,0.9653957272597717,0.9551367127014841,0.9698195068853827,0.9776983528113787,0.9754475762122011,0.9673501071035473],\"xaxis\":\"x5\",\"y\":[\"1\",\"2\",\"3\",\"4\",\"5\",\"6\",\"7\",\"8\",\"9\",\"10\",\"11\",\"12\",\"13\",\"14\",\"15\",\"16\"],\"yaxis\":\"y5\",\"type\":\"bar\"},{\"alignmentgroup\":\"True\",\"hovertemplate\":\"exp=swi2\\u003cbr\\u003eband=sigma\\u003cbr\\u003ediff=%{x}\\u003cbr\\u003echannel=%{y}\\u003cextra\\u003e\\u003c\\u002fextra\\u003e\",\"legendgroup\":\"swi2\",\"marker\":{\"color\":\"royalblue\",\"pattern\":{\"shape\":\"\"}},\"name\":\"swi2\",\"offsetgroup\":\"swi2\",\"orientation\":\"h\",\"showlegend\":false,\"textposition\":\"auto\",\"x\":[1.0361317358328677,1.081370489863505,1.1049436121802734,1.0910949533209204,1.0964302039796423,1.0621857410142683,1.017077458587243,1.0251800976456156,1.015620807039173,1.0268810467215579,1.0007491389119083,0.9788763169995941,0.9816544138957659,0.9751935533535147,0.9475173990608564,0.9493331509293021],\"xaxis\":\"x6\",\"y\":[\"1\",\"2\",\"3\",\"4\",\"5\",\"6\",\"7\",\"8\",\"9\",\"10\",\"11\",\"12\",\"13\",\"14\",\"15\",\"16\"],\"yaxis\":\"y6\",\"type\":\"bar\"},{\"alignmentgroup\":\"True\",\"hovertemplate\":\"exp=swi2\\u003cbr\\u003eband=beta\\u003cbr\\u003ediff=%{x}\\u003cbr\\u003echannel=%{y}\\u003cextra\\u003e\\u003c\\u002fextra\\u003e\",\"legendgroup\":\"swi2\",\"marker\":{\"color\":\"royalblue\",\"pattern\":{\"shape\":\"\"}},\"name\":\"swi2\",\"offsetgroup\":\"swi2\",\"orientation\":\"h\",\"showlegend\":false,\"textposition\":\"auto\",\"x\":[1.0441197201103365,1.069866717656945,1.081093637191198,1.0568529552263495,1.0495771779957521,0.9926133709514305,0.9452038001450819,0.957667901987049,0.9533813082150008,0.9588947154397588,0.9564030450960325,0.9702416236790542,0.974245881233216,0.9411302147250269,0.9291286605487176,0.9380394785057414],\"xaxis\":\"x7\",\"y\":[\"1\",\"2\",\"3\",\"4\",\"5\",\"6\",\"7\",\"8\",\"9\",\"10\",\"11\",\"12\",\"13\",\"14\",\"15\",\"16\"],\"yaxis\":\"y7\",\"type\":\"bar\"},{\"alignmentgroup\":\"True\",\"hovertemplate\":\"exp=swi2\\u003cbr\\u003eband=low_gamma\\u003cbr\\u003ediff=%{x}\\u003cbr\\u003echannel=%{y}\\u003cextra\\u003e\\u003c\\u002fextra\\u003e\",\"legendgroup\":\"swi2\",\"marker\":{\"color\":\"royalblue\",\"pattern\":{\"shape\":\"\"}},\"name\":\"swi2\",\"offsetgroup\":\"swi2\",\"orientation\":\"h\",\"showlegend\":false,\"textposition\":\"auto\",\"x\":[0.8410662281542096,0.8311716414778505,0.7876480103868262,0.770476763309022,0.7813316544872636,0.820648536503944,0.8509343047755474,0.9065742208617038,0.8948382805069548,0.9167243963368693,0.9173159361028321,0.9162333162203917,0.9219035076643753,0.9256337852670583,0.9285052259228269,0.9281284289292735],\"xaxis\":\"x8\",\"y\":[\"1\",\"2\",\"3\",\"4\",\"5\",\"6\",\"7\",\"8\",\"9\",\"10\",\"11\",\"12\",\"13\",\"14\",\"15\",\"16\"],\"yaxis\":\"y8\",\"type\":\"bar\"},{\"alignmentgroup\":\"True\",\"hovertemplate\":\"exp=swi2\\u003cbr\\u003eband=high_gamma\\u003cbr\\u003ediff=%{x}\\u003cbr\\u003echannel=%{y}\\u003cextra\\u003e\\u003c\\u002fextra\\u003e\",\"legendgroup\":\"swi2\",\"marker\":{\"color\":\"royalblue\",\"pattern\":{\"shape\":\"\"}},\"name\":\"swi2\",\"offsetgroup\":\"swi2\",\"orientation\":\"h\",\"showlegend\":false,\"textposition\":\"auto\",\"x\":[0.8564063790117941,0.8403799420808596,0.8156137940449277,0.8519905767937632,0.8333864276113209,0.8117622962785127,0.7734909974520836,0.8547984765525368,0.852168250365226,0.8631177741370784,0.859967776154143,0.9146219468351969,0.9832129196265094,0.9344279284437094,0.9199462260266099,0.9632500791955895],\"xaxis\":\"x9\",\"y\":[\"1\",\"2\",\"3\",\"4\",\"5\",\"6\",\"7\",\"8\",\"9\",\"10\",\"11\",\"12\",\"13\",\"14\",\"15\",\"16\"],\"yaxis\":\"y9\",\"type\":\"bar\"},{\"alignmentgroup\":\"True\",\"hovertemplate\":\"exp=swisin\\u003cbr\\u003eband=delta\\u003cbr\\u003ediff=%{x}\\u003cbr\\u003echannel=%{y}\\u003cextra\\u003e\\u003c\\u002fextra\\u003e\",\"legendgroup\":\"swisin\",\"marker\":{\"color\":\"crimson\",\"pattern\":{\"shape\":\"\"}},\"name\":\"swisin\",\"offsetgroup\":\"swisin\",\"orientation\":\"h\",\"showlegend\":true,\"textposition\":\"auto\",\"x\":[1.0764929847406466,1.035214516209414,1.104998817744544,1.0695825343976957,1.0919511873736094,1.0023383244546602,0.9801231823883816,0.9576488938269618,0.9390671993655596,0.9138936641811629,0.9129612149625351,0.9336567675006395,0.9309809394159366,0.9360183866728947,0.9363032433491182,0.8967369064727447],\"xaxis\":\"x\",\"y\":[\"1\",\"2\",\"3\",\"4\",\"5\",\"6\",\"7\",\"8\",\"9\",\"10\",\"11\",\"12\",\"13\",\"14\",\"15\",\"16\"],\"yaxis\":\"y\",\"type\":\"bar\"},{\"alignmentgroup\":\"True\",\"hovertemplate\":\"exp=swisin\\u003cbr\\u003eband=delta1\\u003cbr\\u003ediff=%{x}\\u003cbr\\u003echannel=%{y}\\u003cextra\\u003e\\u003c\\u002fextra\\u003e\",\"legendgroup\":\"swisin\",\"marker\":{\"color\":\"crimson\",\"pattern\":{\"shape\":\"\"}},\"name\":\"swisin\",\"offsetgroup\":\"swisin\",\"orientation\":\"h\",\"showlegend\":false,\"textposition\":\"auto\",\"x\":[1.1091752146364189,1.0156882820372146,1.061732533195251,1.0362904454808866,1.0740608491882067,0.9972949002763357,0.8906344295793234,0.9149814911432189,0.8901293968519678,0.8799908103828141,0.892259962264485,0.9414912267318007,0.9342419373530129,0.9402682830137845,0.9110066628105669,0.867934690302996],\"xaxis\":\"x2\",\"y\":[\"1\",\"2\",\"3\",\"4\",\"5\",\"6\",\"7\",\"8\",\"9\",\"10\",\"11\",\"12\",\"13\",\"14\",\"15\",\"16\"],\"yaxis\":\"y2\",\"type\":\"bar\"},{\"alignmentgroup\":\"True\",\"hovertemplate\":\"exp=swisin\\u003cbr\\u003eband=delta2\\u003cbr\\u003ediff=%{x}\\u003cbr\\u003echannel=%{y}\\u003cextra\\u003e\\u003c\\u002fextra\\u003e\",\"legendgroup\":\"swisin\",\"marker\":{\"color\":\"crimson\",\"pattern\":{\"shape\":\"\"}},\"name\":\"swisin\",\"offsetgroup\":\"swisin\",\"orientation\":\"h\",\"showlegend\":false,\"textposition\":\"auto\",\"x\":[1.0913458995425775,1.0584375779795956,1.0958482233046467,1.0839543056392205,1.110603589559666,1.0270274913191602,0.999755758953899,0.9482607634163207,0.9768595345578182,0.9492406279854265,0.9503586961708,0.9616664100587536,0.9587095263833252,0.9817070841236912,0.9784418467208994,0.984898951996057],\"xaxis\":\"x3\",\"y\":[\"1\",\"2\",\"3\",\"4\",\"5\",\"6\",\"7\",\"8\",\"9\",\"10\",\"11\",\"12\",\"13\",\"14\",\"15\",\"16\"],\"yaxis\":\"y3\",\"type\":\"bar\"},{\"alignmentgroup\":\"True\",\"hovertemplate\":\"exp=swisin\\u003cbr\\u003eband=theta\\u003cbr\\u003ediff=%{x}\\u003cbr\\u003echannel=%{y}\\u003cextra\\u003e\\u003c\\u002fextra\\u003e\",\"legendgroup\":\"swisin\",\"marker\":{\"color\":\"crimson\",\"pattern\":{\"shape\":\"\"}},\"name\":\"swisin\",\"offsetgroup\":\"swisin\",\"orientation\":\"h\",\"showlegend\":false,\"textposition\":\"auto\",\"x\":[1.0881491772580736,1.0602721232059957,1.0630357600252416,1.0315692999412498,1.0443654445116468,1.0169510203628596,1.0055966904381723,1.0009581804050207,0.9828967379607984,0.9761866754485791,0.9575936466533368,0.9489403276259757,0.9786733351789537,0.989619544944125,1.0182179972161836,1.03919958081827],\"xaxis\":\"x4\",\"y\":[\"1\",\"2\",\"3\",\"4\",\"5\",\"6\",\"7\",\"8\",\"9\",\"10\",\"11\",\"12\",\"13\",\"14\",\"15\",\"16\"],\"yaxis\":\"y4\",\"type\":\"bar\"},{\"alignmentgroup\":\"True\",\"hovertemplate\":\"exp=swisin\\u003cbr\\u003eband=alpha\\u003cbr\\u003ediff=%{x}\\u003cbr\\u003echannel=%{y}\\u003cextra\\u003e\\u003c\\u002fextra\\u003e\",\"legendgroup\":\"swisin\",\"marker\":{\"color\":\"crimson\",\"pattern\":{\"shape\":\"\"}},\"name\":\"swisin\",\"offsetgroup\":\"swisin\",\"orientation\":\"h\",\"showlegend\":false,\"textposition\":\"auto\",\"x\":[1.0428654796595995,1.0379383177021857,1.077293306227075,1.0731569030859234,1.084162874769986,1.0791027201755397,1.0616947328382214,1.0578314020162676,1.0450789520072512,1.0317006445957748,1.0139512674285613,1.0273636673452629,1.0087374427543079,1.0196815745429346,1.027319539491861,1.0265519164056516],\"xaxis\":\"x5\",\"y\":[\"1\",\"2\",\"3\",\"4\",\"5\",\"6\",\"7\",\"8\",\"9\",\"10\",\"11\",\"12\",\"13\",\"14\",\"15\",\"16\"],\"yaxis\":\"y5\",\"type\":\"bar\"},{\"alignmentgroup\":\"True\",\"hovertemplate\":\"exp=swisin\\u003cbr\\u003eband=sigma\\u003cbr\\u003ediff=%{x}\\u003cbr\\u003echannel=%{y}\\u003cextra\\u003e\\u003c\\u002fextra\\u003e\",\"legendgroup\":\"swisin\",\"marker\":{\"color\":\"crimson\",\"pattern\":{\"shape\":\"\"}},\"name\":\"swisin\",\"offsetgroup\":\"swisin\",\"orientation\":\"h\",\"showlegend\":false,\"textposition\":\"auto\",\"x\":[1.102198305181251,1.1207425195126586,1.1738765652058718,1.185393419637211,1.1491391128211834,1.0820993552627904,1.0427768610106567,1.0499391591177594,1.07468392503039,1.052967295076542,1.0204627071740267,1.009197962720098,1.0176751299081352,1.0050848956042404,0.9847372504900677,0.9896447264408333],\"xaxis\":\"x6\",\"y\":[\"1\",\"2\",\"3\",\"4\",\"5\",\"6\",\"7\",\"8\",\"9\",\"10\",\"11\",\"12\",\"13\",\"14\",\"15\",\"16\"],\"yaxis\":\"y6\",\"type\":\"bar\"},{\"alignmentgroup\":\"True\",\"hovertemplate\":\"exp=swisin\\u003cbr\\u003eband=beta\\u003cbr\\u003ediff=%{x}\\u003cbr\\u003echannel=%{y}\\u003cextra\\u003e\\u003c\\u002fextra\\u003e\",\"legendgroup\":\"swisin\",\"marker\":{\"color\":\"crimson\",\"pattern\":{\"shape\":\"\"}},\"name\":\"swisin\",\"offsetgroup\":\"swisin\",\"orientation\":\"h\",\"showlegend\":false,\"textposition\":\"auto\",\"x\":[1.093525453606994,1.1052932071726163,1.1103663750098585,1.0947494069747585,1.0504042365748953,0.9885751074674237,0.9468131025996354,0.9652900280570403,0.9729901250964311,0.9701766143528318,0.9610001123026066,0.9739981855798898,0.9889940116026698,0.9694870931503856,0.9778218201810633,0.9844224073123863],\"xaxis\":\"x7\",\"y\":[\"1\",\"2\",\"3\",\"4\",\"5\",\"6\",\"7\",\"8\",\"9\",\"10\",\"11\",\"12\",\"13\",\"14\",\"15\",\"16\"],\"yaxis\":\"y7\",\"type\":\"bar\"},{\"alignmentgroup\":\"True\",\"hovertemplate\":\"exp=swisin\\u003cbr\\u003eband=low_gamma\\u003cbr\\u003ediff=%{x}\\u003cbr\\u003echannel=%{y}\\u003cextra\\u003e\\u003c\\u002fextra\\u003e\",\"legendgroup\":\"swisin\",\"marker\":{\"color\":\"crimson\",\"pattern\":{\"shape\":\"\"}},\"name\":\"swisin\",\"offsetgroup\":\"swisin\",\"orientation\":\"h\",\"showlegend\":false,\"textposition\":\"auto\",\"x\":[0.9287144524654519,0.8794306192339743,0.8660904438405136,0.8548173352278362,0.839013442399543,0.8439780302378618,0.834741155616997,0.9170234319765227,0.896737284612355,0.9120566524333857,0.9163692280358747,0.9351902104739127,0.9435398937601378,0.952436744253286,0.9491780695136998,0.9635004468914184],\"xaxis\":\"x8\",\"y\":[\"1\",\"2\",\"3\",\"4\",\"5\",\"6\",\"7\",\"8\",\"9\",\"10\",\"11\",\"12\",\"13\",\"14\",\"15\",\"16\"],\"yaxis\":\"y8\",\"type\":\"bar\"},{\"alignmentgroup\":\"True\",\"hovertemplate\":\"exp=swisin\\u003cbr\\u003eband=high_gamma\\u003cbr\\u003ediff=%{x}\\u003cbr\\u003echannel=%{y}\\u003cextra\\u003e\\u003c\\u002fextra\\u003e\",\"legendgroup\":\"swisin\",\"marker\":{\"color\":\"crimson\",\"pattern\":{\"shape\":\"\"}},\"name\":\"swisin\",\"offsetgroup\":\"swisin\",\"orientation\":\"h\",\"showlegend\":false,\"textposition\":\"auto\",\"x\":[0.9855233380768242,0.8938933019763772,0.906413799507309,0.8824365562045534,0.8774402828986521,0.8814470184786432,0.8576653535496671,0.8886952672054977,0.9156697769388747,0.9907397972766255,0.9097783281533165,0.9381118925153493,0.9820943663771095,0.966704084343292,0.9705938127158333,0.9986218027858178],\"xaxis\":\"x9\",\"y\":[\"1\",\"2\",\"3\",\"4\",\"5\",\"6\",\"7\",\"8\",\"9\",\"10\",\"11\",\"12\",\"13\",\"14\",\"15\",\"16\"],\"yaxis\":\"y9\",\"type\":\"bar\"}],                        {\"template\":{\"data\":{\"barpolar\":[{\"marker\":{\"line\":{\"color\":\"rgb(237,237,237)\",\"width\":0.5},\"pattern\":{\"fillmode\":\"overlay\",\"size\":10,\"solidity\":0.2}},\"type\":\"barpolar\"}],\"bar\":[{\"error_x\":{\"color\":\"rgb(51,51,51)\"},\"error_y\":{\"color\":\"rgb(51,51,51)\"},\"marker\":{\"line\":{\"color\":\"rgb(237,237,237)\",\"width\":0.5},\"pattern\":{\"fillmode\":\"overlay\",\"size\":10,\"solidity\":0.2}},\"type\":\"bar\"}],\"carpet\":[{\"aaxis\":{\"endlinecolor\":\"rgb(51,51,51)\",\"gridcolor\":\"white\",\"linecolor\":\"white\",\"minorgridcolor\":\"white\",\"startlinecolor\":\"rgb(51,51,51)\"},\"baxis\":{\"endlinecolor\":\"rgb(51,51,51)\",\"gridcolor\":\"white\",\"linecolor\":\"white\",\"minorgridcolor\":\"white\",\"startlinecolor\":\"rgb(51,51,51)\"},\"type\":\"carpet\"}],\"choropleth\":[{\"colorbar\":{\"outlinewidth\":0,\"tickcolor\":\"rgb(237,237,237)\",\"ticklen\":6,\"ticks\":\"inside\"},\"type\":\"choropleth\"}],\"contourcarpet\":[{\"colorbar\":{\"outlinewidth\":0,\"tickcolor\":\"rgb(237,237,237)\",\"ticklen\":6,\"ticks\":\"inside\"},\"type\":\"contourcarpet\"}],\"contour\":[{\"colorbar\":{\"outlinewidth\":0,\"tickcolor\":\"rgb(237,237,237)\",\"ticklen\":6,\"ticks\":\"inside\"},\"colorscale\":[[0,\"rgb(20,44,66)\"],[1,\"rgb(90,179,244)\"]],\"type\":\"contour\"}],\"heatmapgl\":[{\"colorbar\":{\"outlinewidth\":0,\"tickcolor\":\"rgb(237,237,237)\",\"ticklen\":6,\"ticks\":\"inside\"},\"colorscale\":[[0,\"rgb(20,44,66)\"],[1,\"rgb(90,179,244)\"]],\"type\":\"heatmapgl\"}],\"heatmap\":[{\"colorbar\":{\"outlinewidth\":0,\"tickcolor\":\"rgb(237,237,237)\",\"ticklen\":6,\"ticks\":\"inside\"},\"colorscale\":[[0,\"rgb(20,44,66)\"],[1,\"rgb(90,179,244)\"]],\"type\":\"heatmap\"}],\"histogram2dcontour\":[{\"colorbar\":{\"outlinewidth\":0,\"tickcolor\":\"rgb(237,237,237)\",\"ticklen\":6,\"ticks\":\"inside\"},\"colorscale\":[[0,\"rgb(20,44,66)\"],[1,\"rgb(90,179,244)\"]],\"type\":\"histogram2dcontour\"}],\"histogram2d\":[{\"colorbar\":{\"outlinewidth\":0,\"tickcolor\":\"rgb(237,237,237)\",\"ticklen\":6,\"ticks\":\"inside\"},\"colorscale\":[[0,\"rgb(20,44,66)\"],[1,\"rgb(90,179,244)\"]],\"type\":\"histogram2d\"}],\"histogram\":[{\"marker\":{\"pattern\":{\"fillmode\":\"overlay\",\"size\":10,\"solidity\":0.2}},\"type\":\"histogram\"}],\"mesh3d\":[{\"colorbar\":{\"outlinewidth\":0,\"tickcolor\":\"rgb(237,237,237)\",\"ticklen\":6,\"ticks\":\"inside\"},\"type\":\"mesh3d\"}],\"parcoords\":[{\"line\":{\"colorbar\":{\"outlinewidth\":0,\"tickcolor\":\"rgb(237,237,237)\",\"ticklen\":6,\"ticks\":\"inside\"}},\"type\":\"parcoords\"}],\"pie\":[{\"automargin\":true,\"type\":\"pie\"}],\"scatter3d\":[{\"line\":{\"colorbar\":{\"outlinewidth\":0,\"tickcolor\":\"rgb(237,237,237)\",\"ticklen\":6,\"ticks\":\"inside\"}},\"marker\":{\"colorbar\":{\"outlinewidth\":0,\"tickcolor\":\"rgb(237,237,237)\",\"ticklen\":6,\"ticks\":\"inside\"}},\"type\":\"scatter3d\"}],\"scattercarpet\":[{\"marker\":{\"colorbar\":{\"outlinewidth\":0,\"tickcolor\":\"rgb(237,237,237)\",\"ticklen\":6,\"ticks\":\"inside\"}},\"type\":\"scattercarpet\"}],\"scattergeo\":[{\"marker\":{\"colorbar\":{\"outlinewidth\":0,\"tickcolor\":\"rgb(237,237,237)\",\"ticklen\":6,\"ticks\":\"inside\"}},\"type\":\"scattergeo\"}],\"scattergl\":[{\"marker\":{\"colorbar\":{\"outlinewidth\":0,\"tickcolor\":\"rgb(237,237,237)\",\"ticklen\":6,\"ticks\":\"inside\"}},\"type\":\"scattergl\"}],\"scattermapbox\":[{\"marker\":{\"colorbar\":{\"outlinewidth\":0,\"tickcolor\":\"rgb(237,237,237)\",\"ticklen\":6,\"ticks\":\"inside\"}},\"type\":\"scattermapbox\"}],\"scatterpolargl\":[{\"marker\":{\"colorbar\":{\"outlinewidth\":0,\"tickcolor\":\"rgb(237,237,237)\",\"ticklen\":6,\"ticks\":\"inside\"}},\"type\":\"scatterpolargl\"}],\"scatterpolar\":[{\"marker\":{\"colorbar\":{\"outlinewidth\":0,\"tickcolor\":\"rgb(237,237,237)\",\"ticklen\":6,\"ticks\":\"inside\"}},\"type\":\"scatterpolar\"}],\"scatter\":[{\"fillpattern\":{\"fillmode\":\"overlay\",\"size\":10,\"solidity\":0.2},\"type\":\"scatter\"}],\"scatterternary\":[{\"marker\":{\"colorbar\":{\"outlinewidth\":0,\"tickcolor\":\"rgb(237,237,237)\",\"ticklen\":6,\"ticks\":\"inside\"}},\"type\":\"scatterternary\"}],\"surface\":[{\"colorbar\":{\"outlinewidth\":0,\"tickcolor\":\"rgb(237,237,237)\",\"ticklen\":6,\"ticks\":\"inside\"},\"colorscale\":[[0,\"rgb(20,44,66)\"],[1,\"rgb(90,179,244)\"]],\"type\":\"surface\"}],\"table\":[{\"cells\":{\"fill\":{\"color\":\"rgb(237,237,237)\"},\"line\":{\"color\":\"white\"}},\"header\":{\"fill\":{\"color\":\"rgb(217,217,217)\"},\"line\":{\"color\":\"white\"}},\"type\":\"table\"}]},\"layout\":{\"annotationdefaults\":{\"arrowhead\":0,\"arrowwidth\":1},\"autotypenumbers\":\"strict\",\"coloraxis\":{\"colorbar\":{\"outlinewidth\":0,\"tickcolor\":\"rgb(237,237,237)\",\"ticklen\":6,\"ticks\":\"inside\"}},\"colorscale\":{\"sequential\":[[0,\"rgb(20,44,66)\"],[1,\"rgb(90,179,244)\"]],\"sequentialminus\":[[0,\"rgb(20,44,66)\"],[1,\"rgb(90,179,244)\"]]},\"colorway\":[\"#F8766D\",\"#A3A500\",\"#00BF7D\",\"#00B0F6\",\"#E76BF3\"],\"font\":{\"color\":\"rgb(51,51,51)\"},\"geo\":{\"bgcolor\":\"white\",\"lakecolor\":\"white\",\"landcolor\":\"rgb(237,237,237)\",\"showlakes\":true,\"showland\":true,\"subunitcolor\":\"white\"},\"hoverlabel\":{\"align\":\"left\"},\"hovermode\":\"closest\",\"paper_bgcolor\":\"white\",\"plot_bgcolor\":\"rgb(237,237,237)\",\"polar\":{\"angularaxis\":{\"gridcolor\":\"white\",\"linecolor\":\"white\",\"showgrid\":true,\"tickcolor\":\"rgb(51,51,51)\",\"ticks\":\"outside\"},\"bgcolor\":\"rgb(237,237,237)\",\"radialaxis\":{\"gridcolor\":\"white\",\"linecolor\":\"white\",\"showgrid\":true,\"tickcolor\":\"rgb(51,51,51)\",\"ticks\":\"outside\"}},\"scene\":{\"xaxis\":{\"backgroundcolor\":\"rgb(237,237,237)\",\"gridcolor\":\"white\",\"gridwidth\":2,\"linecolor\":\"white\",\"showbackground\":true,\"showgrid\":true,\"tickcolor\":\"rgb(51,51,51)\",\"ticks\":\"outside\",\"zerolinecolor\":\"white\"},\"yaxis\":{\"backgroundcolor\":\"rgb(237,237,237)\",\"gridcolor\":\"white\",\"gridwidth\":2,\"linecolor\":\"white\",\"showbackground\":true,\"showgrid\":true,\"tickcolor\":\"rgb(51,51,51)\",\"ticks\":\"outside\",\"zerolinecolor\":\"white\"},\"zaxis\":{\"backgroundcolor\":\"rgb(237,237,237)\",\"gridcolor\":\"white\",\"gridwidth\":2,\"linecolor\":\"white\",\"showbackground\":true,\"showgrid\":true,\"tickcolor\":\"rgb(51,51,51)\",\"ticks\":\"outside\",\"zerolinecolor\":\"white\"}},\"shapedefaults\":{\"fillcolor\":\"black\",\"line\":{\"width\":0},\"opacity\":0.3},\"ternary\":{\"aaxis\":{\"gridcolor\":\"white\",\"linecolor\":\"white\",\"showgrid\":true,\"tickcolor\":\"rgb(51,51,51)\",\"ticks\":\"outside\"},\"baxis\":{\"gridcolor\":\"white\",\"linecolor\":\"white\",\"showgrid\":true,\"tickcolor\":\"rgb(51,51,51)\",\"ticks\":\"outside\"},\"bgcolor\":\"rgb(237,237,237)\",\"caxis\":{\"gridcolor\":\"white\",\"linecolor\":\"white\",\"showgrid\":true,\"tickcolor\":\"rgb(51,51,51)\",\"ticks\":\"outside\"}},\"xaxis\":{\"automargin\":true,\"gridcolor\":\"white\",\"linecolor\":\"white\",\"showgrid\":true,\"tickcolor\":\"rgb(51,51,51)\",\"ticks\":\"outside\",\"title\":{\"standoff\":15},\"zerolinecolor\":\"white\"},\"yaxis\":{\"automargin\":true,\"gridcolor\":\"white\",\"linecolor\":\"white\",\"showgrid\":true,\"tickcolor\":\"rgb(51,51,51)\",\"ticks\":\"outside\",\"title\":{\"standoff\":15},\"zerolinecolor\":\"white\"}}},\"xaxis\":{\"anchor\":\"y\",\"domain\":[0.0,0.09333333333333332],\"title\":{\"text\":\"diff\"}},\"yaxis\":{\"anchor\":\"x\",\"domain\":[0.0,1.0],\"title\":{\"text\":\"channel\"},\"autorange\":\"reversed\"},\"xaxis2\":{\"anchor\":\"y2\",\"domain\":[0.11333333333333333,0.20666666666666667],\"title\":{\"text\":\"diff\"}},\"yaxis2\":{\"anchor\":\"x2\",\"domain\":[0.0,1.0],\"matches\":\"y\",\"showticklabels\":false,\"autorange\":\"reversed\"},\"xaxis3\":{\"anchor\":\"y3\",\"domain\":[0.22666666666666666,0.31999999999999995],\"title\":{\"text\":\"diff\"}},\"yaxis3\":{\"anchor\":\"x3\",\"domain\":[0.0,1.0],\"matches\":\"y\",\"showticklabels\":false,\"autorange\":\"reversed\"},\"xaxis4\":{\"anchor\":\"y4\",\"domain\":[0.33999999999999997,0.4333333333333333],\"title\":{\"text\":\"diff\"}},\"yaxis4\":{\"anchor\":\"x4\",\"domain\":[0.0,1.0],\"matches\":\"y\",\"showticklabels\":false,\"autorange\":\"reversed\"},\"xaxis5\":{\"anchor\":\"y5\",\"domain\":[0.4533333333333333,0.5466666666666666],\"title\":{\"text\":\"diff\"}},\"yaxis5\":{\"anchor\":\"x5\",\"domain\":[0.0,1.0],\"matches\":\"y\",\"showticklabels\":false,\"autorange\":\"reversed\"},\"xaxis6\":{\"anchor\":\"y6\",\"domain\":[0.5666666666666667,0.6599999999999999],\"title\":{\"text\":\"diff\"}},\"yaxis6\":{\"anchor\":\"x6\",\"domain\":[0.0,1.0],\"matches\":\"y\",\"showticklabels\":false,\"autorange\":\"reversed\"},\"xaxis7\":{\"anchor\":\"y7\",\"domain\":[0.6799999999999999,0.7733333333333332],\"title\":{\"text\":\"diff\"}},\"yaxis7\":{\"anchor\":\"x7\",\"domain\":[0.0,1.0],\"matches\":\"y\",\"showticklabels\":false,\"autorange\":\"reversed\"},\"xaxis8\":{\"anchor\":\"y8\",\"domain\":[0.7933333333333333,0.8866666666666667],\"title\":{\"text\":\"diff\"}},\"yaxis8\":{\"anchor\":\"x8\",\"domain\":[0.0,1.0],\"matches\":\"y\",\"showticklabels\":false,\"autorange\":\"reversed\"},\"xaxis9\":{\"anchor\":\"y9\",\"domain\":[0.9066666666666666,1.0],\"title\":{\"text\":\"diff\"}},\"yaxis9\":{\"anchor\":\"x9\",\"domain\":[0.0,1.0],\"matches\":\"y\",\"showticklabels\":false,\"autorange\":\"reversed\"},\"annotations\":[{\"font\":{},\"showarrow\":false,\"text\":\"band=delta\",\"x\":0.04666666666666666,\"xanchor\":\"center\",\"xref\":\"paper\",\"y\":1.0,\"yanchor\":\"bottom\",\"yref\":\"paper\"},{\"font\":{},\"showarrow\":false,\"text\":\"band=delta1\",\"x\":0.16,\"xanchor\":\"center\",\"xref\":\"paper\",\"y\":1.0,\"yanchor\":\"bottom\",\"yref\":\"paper\"},{\"font\":{},\"showarrow\":false,\"text\":\"band=delta2\",\"x\":0.2733333333333333,\"xanchor\":\"center\",\"xref\":\"paper\",\"y\":1.0,\"yanchor\":\"bottom\",\"yref\":\"paper\"},{\"font\":{},\"showarrow\":false,\"text\":\"band=theta\",\"x\":0.3866666666666666,\"xanchor\":\"center\",\"xref\":\"paper\",\"y\":1.0,\"yanchor\":\"bottom\",\"yref\":\"paper\"},{\"font\":{},\"showarrow\":false,\"text\":\"band=alpha\",\"x\":0.5,\"xanchor\":\"center\",\"xref\":\"paper\",\"y\":1.0,\"yanchor\":\"bottom\",\"yref\":\"paper\"},{\"font\":{},\"showarrow\":false,\"text\":\"band=sigma\",\"x\":0.6133333333333333,\"xanchor\":\"center\",\"xref\":\"paper\",\"y\":1.0,\"yanchor\":\"bottom\",\"yref\":\"paper\"},{\"font\":{},\"showarrow\":false,\"text\":\"band=beta\",\"x\":0.7266666666666666,\"xanchor\":\"center\",\"xref\":\"paper\",\"y\":1.0,\"yanchor\":\"bottom\",\"yref\":\"paper\"},{\"font\":{},\"showarrow\":false,\"text\":\"band=low_gamma\",\"x\":0.8400000000000001,\"xanchor\":\"center\",\"xref\":\"paper\",\"y\":1.0,\"yanchor\":\"bottom\",\"yref\":\"paper\"},{\"font\":{},\"showarrow\":false,\"text\":\"band=high_gamma\",\"x\":0.9533333333333334,\"xanchor\":\"center\",\"xref\":\"paper\",\"y\":1.0,\"yanchor\":\"bottom\",\"yref\":\"paper\"}],\"legend\":{\"title\":{\"text\":\"exp\"},\"tracegroupgap\":0},\"title\":{\"text\":\"ACR_19 Bandpower | MEDIAN NNXo-NNXr | Rebound = 1hr NREM\",\"font\":{\"size\":28}},\"barmode\":\"group\",\"height\":1800,\"width\":2200,\"font\":{\"color\":\"black\",\"size\":20}},                        {\"responsive\": true}                    ).then(function(){\n",
       "                            \n",
       "var gd = document.getElementById('4092fff0-e241-40c8-ab2b-e0f2f17f0458');\n",
       "var x = new MutationObserver(function (mutations, observer) {{\n",
       "        var display = window.getComputedStyle(gd).display;\n",
       "        if (!display || display === 'none') {{\n",
       "            console.log([gd, 'removed!']);\n",
       "            Plotly.purge(gd);\n",
       "            observer.disconnect();\n",
       "        }}\n",
       "}});\n",
       "\n",
       "// Listen for the removal of the full notebook cells\n",
       "var notebookContainer = gd.closest('#notebook-container');\n",
       "if (notebookContainer) {{\n",
       "    x.observe(notebookContainer, {childList: true});\n",
       "}}\n",
       "\n",
       "// Listen for the clearing of the current output cell\n",
       "var outputEl = gd.closest('.output');\n",
       "if (outputEl) {{\n",
       "    x.observe(outputEl, {childList: true});\n",
       "}}\n",
       "\n",
       "                        })                };                });            </script>        </div>"
      ]
     },
     "metadata": {},
     "output_type": "display_data"
    }
   ],
   "source": [
    "for subject in ['ACR_19']:\n",
    "    ab = full_subject_all_bands(reb_df, subject)\n",
    "    ab.reset_index(drop=True, inplace=True)\n",
    "    ab.channel = ab.channel.astype(str)\n",
    "    fig = px.bar(ab, x='diff', y='channel', color='exp', facet_col='band', barmode='group', facet_col_spacing=0.02, width=2200, height=1800, color_discrete_sequence=['royalblue', 'crimson', 'green'], template='ggplot2', title=f'{subject} Bandpower | MEDIAN NNXo-NNXr | Rebound = 1hr NREM')\n",
    "    fig.update_xaxes(matches=None)\n",
    "    fig.update_yaxes(autorange='reversed')\n",
    "    fig.update_layout(\n",
    "        font_color=\"black\",\n",
    "        font_size=20,\n",
    "        title_font_size=28,\n",
    "    )\n",
    "    fig.show()\n",
    "    #fig.write_image(f'{save_base}/{subject}--MEDIAN_bp_diffs.png', scale=3, engine=\"kaleido\")"
   ]
  },
  {
   "cell_type": "markdown",
   "metadata": {},
   "source": [
    "# Combining Subjects"
   ]
  },
  {
   "cell_type": "code",
   "execution_count": 8,
   "metadata": {},
   "outputs": [],
   "source": [
    "new_reb_df = {}\n",
    "for subject in swi_subs_exps:\n",
    "    for exp in swi_subs_exps[subject]:\n",
    "        new_reb_df[f'{subject}_{exp}'] = reb_df.sbj(subject).loc[reb_df.exp==exp]"
   ]
  },
  {
   "cell_type": "code",
   "execution_count": 9,
   "metadata": {},
   "outputs": [],
   "source": [
    "rdf = pd.concat(new_reb_df.values())"
   ]
  },
  {
   "cell_type": "code",
   "execution_count": 10,
   "metadata": {},
   "outputs": [],
   "source": [
    "ctrl = rdf.loc[rdf.exp_type=='control'].loc[rdf.Band=='delta']\n",
    "gtacr = rdf.loc[rdf.exp_type=='exp'].loc[rdf.Band=='delta']\n",
    "#gtacr = gtacr.loc[gtacr.subject != 'ACR_14']\n",
    "som = rdf.loc[rdf.exp_type=='som'].loc[rdf.Band=='delta']"
   ]
  },
  {
   "cell_type": "code",
   "execution_count": 11,
   "metadata": {},
   "outputs": [
    {
     "data": {
      "text/plain": [
       "Text(0.5, 0.98, 'Control Subjects | Delta Bandpower | 1hr NREM Rebound | ALL CHANNELS')"
      ]
     },
     "execution_count": 11,
     "metadata": {},
     "output_type": "execute_result"
    },
    {
     "data": {
      "image/png": "[encoded data removed]",
      "text/plain": [
       "<Figure size 1000x1000 with 2 Axes>"
      ]
     },
     "metadata": {},
     "output_type": "display_data"
    }
   ],
   "source": [
    "f, ax = plt.subplots(2, 1, figsize=(20, 20))\n",
    "\n",
    "sns.boxplot(data=ctrl.exp_names(), x='exp', y='Bandpower', hue='store', palette=['royalblue', 'darkgrey'], hue_order=['NNXo', 'NNXr'], showfliers=False, ax=ax[0])\n",
    "sns.barplot(data=ctrl.exp_names(), x='exp', y='Bandpower', hue='store', palette=['royalblue', 'darkgrey'], hue_order=['NNXo', 'NNXr'], ax=ax[1])\n",
    "\n",
    "f.suptitle('Control Subjects | Delta Bandpower | 1hr NREM Rebound | ALL CHANNELS')"
   ]
  },
  {
   "cell_type": "code",
   "execution_count": 12,
   "metadata": {},
   "outputs": [
    {
     "data": {
      "text/plain": [
       "Text(0.5, 0.98, 'ACR Subjects | Delta Bandpower | 1hr NREM Rebound | ALL CHANNELS')"
      ]
     },
     "execution_count": 12,
     "metadata": {},
     "output_type": "execute_result"
    },
    {
     "data": {
      "image/png": "[encoded data removed]",
      "text/plain": [
       "<Figure size 1000x1000 with 2 Axes>"
      ]
     },
     "metadata": {},
     "output_type": "display_data"
    }
   ],
   "source": [
    "f, ax = plt.subplots(2, 1, figsize=(20, 20))\n",
    "\n",
    "sns.boxplot(data=gtacr.exp_names(), x='exp', y='Bandpower', hue='store', palette=['royalblue', 'darkgrey'], hue_order=['NNXo', 'NNXr'], showfliers=False, ax=ax[0])\n",
    "sns.barplot(data=gtacr.exp_names(), x='exp', y='Bandpower', hue='store', palette=['royalblue', 'darkgrey'], hue_order=['NNXo', 'NNXr'], ax=ax[1])\n",
    "\n",
    "f.suptitle('ACR Subjects | Delta Bandpower | 1hr NREM Rebound | ALL CHANNELS')"
   ]
  },
  {
   "cell_type": "code",
   "execution_count": 13,
   "metadata": {},
   "outputs": [
    {
     "data": {
      "text/plain": [
       "Text(0.5, 0.98, 'SOM-ChR2 Subjects | Delta Bandpower | 1hr NREM Rebound | ALL CHANNELS')"
      ]
     },
     "execution_count": 13,
     "metadata": {},
     "output_type": "execute_result"
    },
    {
     "data": {
      "image/png": "[encoded data removed]",
      "text/plain": [
       "<Figure size 1000x1000 with 2 Axes>"
      ]
     },
     "metadata": {},
     "output_type": "display_data"
    }
   ],
   "source": [
    "f, ax = plt.subplots(2, 1, figsize=(20, 20))\n",
    "\n",
    "sns.boxplot(data=som.exp_names(), x='exp', y='Bandpower', hue='store', palette=['royalblue', 'darkgrey'], hue_order=['NNXo', 'NNXr'], showfliers=False, ax=ax[0])\n",
    "sns.barplot(data=som.exp_names(), x='exp', y='Bandpower', hue='store', palette=['royalblue', 'darkgrey'], hue_order=['NNXo', 'NNXr'], ax=ax[1])\n",
    "\n",
    "f.suptitle('SOM-ChR2 Subjects | Delta Bandpower | 1hr NREM Rebound | ALL CHANNELS')"
   ]
  },
  {
   "cell_type": "markdown",
   "metadata": {},
   "source": [
    "# Histology based"
   ]
  },
  {
   "cell_type": "code",
   "execution_count": null,
   "metadata": {},
   "outputs": [],
   "source": [
    "# convert all layers to strings\n",
    "rdf.layer = rdf.layer.astype(str)"
   ]
  },
  {
   "cell_type": "code",
   "execution_count": null,
   "metadata": {},
   "outputs": [],
   "source": [
    "rdf['pure_chan'] = 'N/A'\n",
    "rdf['histo_based'] = 'N/A'"
   ]
  },
  {
   "cell_type": "code",
   "execution_count": null,
   "metadata": {},
   "outputs": [],
   "source": [
    "rdf.loc[rdf['channel'] <= 8, 'pure_chan'] = 'lower'\n",
    "rdf.loc[rdf['channel'] >= 9, 'pure_chan'] = 'upper'"
   ]
  },
  {
   "cell_type": "code",
   "execution_count": null,
   "metadata": {},
   "outputs": [],
   "source": [
    "rdf.loc[rdf.layer.isin(['0', '1', '2/3']), 'histo_based'] = 'superficial'\n",
    "#rdf.loc[rdf.layer.isin(['4']), 'histo_based'] = 'middle'\n",
    "rdf.loc[rdf.layer.isin(['5', '6a']), 'histo_based'] = 'deep'"
   ]
  },
  {
   "cell_type": "code",
   "execution_count": null,
   "metadata": {},
   "outputs": [],
   "source": [
    "ctrl = rdf.loc[rdf.exp_type=='control'].loc[rdf.Band=='delta']\n",
    "gtacr = rdf.loc[rdf.exp_type=='exp'].loc[rdf.Band=='delta']\n",
    "#gtacr = gtacr.loc[gtacr.subject != 'ACR_14']\n",
    "som = rdf.loc[rdf.exp_type=='som'].loc[rdf.Band=='delta']"
   ]
  },
  {
   "cell_type": "code",
   "execution_count": null,
   "metadata": {},
   "outputs": [],
   "source": [
    "f, ax = plt.subplots(2, 1, figsize=(20, 20))\n",
    "\n",
    "sns.barplot(data=gtacr.loc[gtacr.pure_chan=='lower'].exp_names(), x='exp', y='Bandpower', hue='store', palette=['royalblue', 'darkgrey'], hue_order=['NNXo', 'NNXr'], ax=ax[0])\n",
    "ax[0].set_title('Lower Channels (1-8)')\n",
    "sns.barplot(data=gtacr.loc[gtacr.pure_chan=='upper'].exp_names(), x='exp', y='Bandpower', hue='store', palette=['royalblue', 'darkgrey'], hue_order=['NNXo', 'NNXr'], ax=ax[1])\n",
    "ax[1].set_title('Upper Channels (9-16)')\n",
    "\n",
    "f.suptitle('ACR Subjects | Delta Bandpower | 1hr NREM Rebound')"
   ]
  },
  {
   "cell_type": "code",
   "execution_count": null,
   "metadata": {},
   "outputs": [],
   "source": [
    "f, ax = plt.subplots(2, 1, figsize=(20, 20))\n",
    "\n",
    "sns.barplot(data=gtacr.loc[gtacr.histo_based=='superficial'].exp_names(), x='exp', y='Bandpower', hue='store', palette=['royalblue', 'darkgrey'], hue_order=['NNXo', 'NNXr'], ax=ax[0])\n",
    "ax[0].set_title('Superficial Layers (0, 1, 2/3)')\n",
    "sns.barplot(data=gtacr.loc[gtacr.histo_based=='deep'].exp_names(), x='exp', y='Bandpower', hue='store', palette=['royalblue', 'darkgrey'], hue_order=['NNXo', 'NNXr'], ax=ax[1])\n",
    "ax[1].set_title('Deep Layers (5, 6a)')\n",
    "\n",
    "f.suptitle('ACR Subjects | Delta Bandpower | 1hr NREM Rebound')"
   ]
  },
  {
   "cell_type": "code",
   "execution_count": null,
   "metadata": {},
   "outputs": [],
   "source": [
    "f, ax = plt.subplots(2, 1, figsize=(20, 20))\n",
    "\n",
    "sns.barplot(data=som.loc[som.pure_chan=='lower'].exp_names(), x='exp', y='Bandpower', hue='store', palette=['royalblue', 'darkgrey'], hue_order=['NNXo', 'NNXr'], ax=ax[0])\n",
    "ax[0].set_title('Lower Channels (1-8)')\n",
    "sns.barplot(data=som.loc[som.pure_chan=='upper'].exp_names(), x='exp', y='Bandpower', hue='store', palette=['royalblue', 'darkgrey'], hue_order=['NNXo', 'NNXr'], ax=ax[1])\n",
    "ax[1].set_title('Upper Channels (9-16)')\n",
    "\n",
    "f.suptitle('SOM-ChR2 Subjects | Delta Bandpower | 1hr NREM Rebound')"
   ]
  },
  {
   "cell_type": "code",
   "execution_count": null,
   "metadata": {},
   "outputs": [],
   "source": [
    "f, ax = plt.subplots(2, 1, figsize=(20, 20))\n",
    "\n",
    "sns.barplot(data=som.loc[som.histo_based=='superficial'].exp_names(), x='exp', y='Bandpower', hue='store', palette=['royalblue', 'darkgrey'], hue_order=['NNXo', 'NNXr'], ax=ax[0])\n",
    "ax[0].set_title('Superficial Layers (0, 1, 2/3)')\n",
    "sns.barplot(data=som.loc[som.histo_based=='deep'].exp_names(), x='exp', y='Bandpower', hue='store', palette=['royalblue', 'darkgrey'], hue_order=['NNXo', 'NNXr'], ax=ax[1])\n",
    "ax[1].set_title('Deep Layers (5, 6a)')\n",
    "\n",
    "f.suptitle('SOM-ChR2 Subjects | Delta Bandpower | 1hr NREM Rebound')"
   ]
  },
  {
   "cell_type": "code",
   "execution_count": null,
   "metadata": {},
   "outputs": [],
   "source": [
    "new_rdf = rdf.loc[rdf.Band=='delta'].groupby(['subject', 'exp', 'layer', 'store']).Bandpower.median().to_frame().reset_index()\n",
    "new_rdf['diff'] = new_rdf.groupby(['subject', 'exp', 'layer'])['Bandpower'].diff().fillna(0)"
   ]
  },
  {
   "cell_type": "code",
   "execution_count": null,
   "metadata": {},
   "outputs": [],
   "source": [
    "histo_diffs = new_rdf.loc[new_rdf['diff'] != 0]\n",
    "# invert the diff column\n",
    "histo_diffs['diff'] = histo_diffs['diff'] * -1"
   ]
  },
  {
   "cell_type": "code",
   "execution_count": null,
   "metadata": {},
   "outputs": [],
   "source": [
    "sns.barplot(data=histo_diffs.loc[histo_diffs.layer.isin(['1'])].exp_names(), x='subject', y='diff', hue='exp', palette=['royalblue', 'crimson'], hue_order=['swi', 'swisin'])"
   ]
  },
  {
   "cell_type": "code",
   "execution_count": null,
   "metadata": {},
   "outputs": [],
   "source": [
    "sns.barplot(data=histo_diffs.loc[histo_diffs.layer.isin(['2/3'])].exp_names(), x='subject', y='diff', hue='exp', palette=['royalblue', 'crimson'], hue_order=['swi', 'swisin'])"
   ]
  },
  {
   "cell_type": "code",
   "execution_count": null,
   "metadata": {},
   "outputs": [],
   "source": [
    "sns.barplot(data=histo_diffs.loc[histo_diffs.layer.isin(['4'])].exp_names(), x='subject', y='diff', hue='exp', palette=['royalblue', 'crimson'], hue_order=['swi', 'swisin'])"
   ]
  },
  {
   "cell_type": "code",
   "execution_count": null,
   "metadata": {},
   "outputs": [],
   "source": [
    "sns.barplot(data=histo_diffs.loc[histo_diffs.layer.isin(['5'])].exp_names(), x='subject', y='diff', hue='exp', palette=['royalblue', 'crimson'], hue_order=['swi', 'swisin'])"
   ]
  },
  {
   "cell_type": "code",
   "execution_count": null,
   "metadata": {},
   "outputs": [],
   "source": [
    "sns.barplot(data=histo_diffs.loc[histo_diffs.layer.isin(['6a'])].exp_names(), x='subject', y='diff', hue='exp', palette=['royalblue', 'crimson'], hue_order=['swi', 'swisin'])"
   ]
  },
  {
   "cell_type": "markdown",
   "metadata": {},
   "source": [
    "# SWI ONLY"
   ]
  },
  {
   "cell_type": "code",
   "execution_count": null,
   "metadata": {},
   "outputs": [],
   "source": [
    "swa = rdf.loc[rdf.Band=='delta']"
   ]
  },
  {
   "cell_type": "code",
   "execution_count": null,
   "metadata": {},
   "outputs": [],
   "source": [
    "control_means = swa.prb('NNXr').groupby(['subject', 'exp', 'channel']).Bandpower.mean().to_frame().reset_index()"
   ]
  },
  {
   "cell_type": "code",
   "execution_count": null,
   "metadata": {},
   "outputs": [],
   "source": [
    "control_means.sbj('ACR_14').chnl(1).loc[control_means.exp=='swi']['Bandpower'].values[0]"
   ]
  },
  {
   "cell_type": "code",
   "execution_count": null,
   "metadata": {},
   "outputs": [],
   "source": [
    "swa_op = swa.prb('NNXo')"
   ]
  },
  {
   "cell_type": "code",
   "execution_count": null,
   "metadata": {},
   "outputs": [],
   "source": [
    "op_rel = swa_op.sbj('ACR_14').loc[swa_op.exp=='swi'].loc[swa_op.channel==1]['Bandpower'].values / control_means.sbj('ACR_14').chnl(1).loc[control_means.exp=='swi']['Bandpower'].values[0]"
   ]
  },
  {
   "cell_type": "code",
   "execution_count": null,
   "metadata": {},
   "outputs": [],
   "source": [
    "swa_op.sbj('ACR_14').loc[swa_op.exp=='swi'].loc[swa_op.channel==1, 'Bandpower'] = op_rel "
   ]
  },
  {
   "cell_type": "code",
   "execution_count": null,
   "metadata": {},
   "outputs": [],
   "source": [
    "swa_op.groupby(['subject', 'exp', 'channel'])['Bandpower']/control_means['Bandpower'].values"
   ]
  },
  {
   "cell_type": "code",
   "execution_count": null,
   "metadata": {},
   "outputs": [],
   "source": [
    "swa_14 = swa.loc[swa.subject=='ACR_14']"
   ]
  }
 ],
 "metadata": {
  "kernelspec": {
   "display_name": "acr",
   "language": "python",
   "name": "python3"
  },
  "language_info": {
   "codemirror_mode": {
    "name": "ipython",
    "version": 3
   },
   "file_extension": ".py",
   "mimetype": "text/x-python",
   "name": "python",
   "nbconvert_exporter": "python",
   "pygments_lexer": "ipython3",
   "version": "3.11.4"
  }
 },
 "nbformat": 4,
 "nbformat_minor": 2
}

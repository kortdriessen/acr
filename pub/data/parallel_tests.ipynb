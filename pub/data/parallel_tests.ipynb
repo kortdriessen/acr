{
 "cells": [
  {
   "cell_type": "code",
   "execution_count": 1,
   "metadata": {},
   "outputs": [
    {
     "name": "stderr",
     "output_type": "stream",
     "text": [
      "/home/kdriessen/miniconda3/envs/acr/lib/python3.11/site-packages/tqdm/auto.py:21: TqdmWarning: IProgress not found. Please update jupyter and ipywidgets. See https://ipywidgets.readthedocs.io/en/stable/user_install.html\n",
      "  from .autonotebook import tqdm as notebook_tqdm\n"
     ]
    }
   ],
   "source": [
    "%reload_ext autoreload\n",
    "%autoreload 2\n",
    "import acr\n",
    "import yaml\n",
    "import os\n",
    "import multiprocessing\n",
    "from functools import partial\n",
    "from acr.utils import swi_subs_exps, sub_probe_locations, sub_exp_types"
   ]
  },
  {
   "cell_type": "code",
   "execution_count": 2,
   "metadata": {},
   "outputs": [],
   "source": [
    "subs = list(swi_subs_exps.keys())"
   ]
  },
  {
   "cell_type": "code",
   "execution_count": 3,
   "metadata": {},
   "outputs": [],
   "source": [
    "def update_hyp(sub):\n",
    "    acr.io.update_hypno_yaml(sub)"
   ]
  },
  {
   "cell_type": "code",
   "execution_count": 4,
   "metadata": {},
   "outputs": [
    {
     "name": "stdout",
     "output_type": "stream",
     "text": [
      "updating hypno yaml for ACR_17updating hypno yaml for ACR_21updating hypno yaml for ACR_20updating hypno yaml for ACR_18updating hypno yaml for ACR_16updating hypno yaml for ACR_23updating hypno yaml for ACR_14updating hypno yaml for ACR_19\n",
      "\n",
      "\n",
      "\n",
      "\n",
      "\n",
      "\n",
      "\n"
     ]
    },
    {
     "ename": "ScannerError",
     "evalue": "while scanning a simple key\n  in \"/Volumes/opto_loc/Data/ACR_PROJECT_MATERIALS/acr-hypno-paths.yaml\", line 397, column 1\ncould not find expected ':'\n  in \"/Volumes/opto_loc/Data/ACR_PROJECT_MATERIALS/acr-hypno-paths.yaml\", line 401, column 9",
     "output_type": "error",
     "traceback": [
      "\u001b[0;31m---------------------------------------------------------------------------\u001b[0m",
      "\u001b[0;31mRemoteTraceback\u001b[0m                           Traceback (most recent call last)",
      "\u001b[0;31mRemoteTraceback\u001b[0m: \n\"\"\"\nTraceback (most recent call last):\n  File \"/home/kdriessen/miniconda3/envs/acr/lib/python3.11/multiprocessing/pool.py\", line 125, in worker\n    result = (True, func(*args, **kwds))\n                    ^^^^^^^^^^^^^^^^^^^\n  File \"/home/kdriessen/miniconda3/envs/acr/lib/python3.11/multiprocessing/pool.py\", line 48, in mapstar\n    return list(map(*args))\n           ^^^^^^^^^^^^^^^^\n  File \"/tmp/ipykernel_3607595/627089694.py\", line 2, in update_hyp\n    acr.io.update_hypno_yaml(sub)\n  File \"/home/kdriessen/gh_master/acr/acr/io.py\", line 75, in update_hypno_yaml\n    hypno_info = yaml.load(f, Loader=yaml.FullLoader)\n                 ^^^^^^^^^^^^^^^^^^^^^^^^^^^^^^^^^^^^\n  File \"/home/kdriessen/miniconda3/envs/acr/lib/python3.11/site-packages/yaml/__init__.py\", line 81, in load\n    return loader.get_single_data()\n           ^^^^^^^^^^^^^^^^^^^^^^^^\n  File \"/home/kdriessen/miniconda3/envs/acr/lib/python3.11/site-packages/yaml/constructor.py\", line 49, in get_single_data\n    node = self.get_single_node()\n           ^^^^^^^^^^^^^^^^^^^^^^\n  File \"/home/kdriessen/miniconda3/envs/acr/lib/python3.11/site-packages/yaml/composer.py\", line 36, in get_single_node\n    document = self.compose_document()\n               ^^^^^^^^^^^^^^^^^^^^^^^\n  File \"/home/kdriessen/miniconda3/envs/acr/lib/python3.11/site-packages/yaml/composer.py\", line 55, in compose_document\n    node = self.compose_node(None, None)\n           ^^^^^^^^^^^^^^^^^^^^^^^^^^^^^\n  File \"/home/kdriessen/miniconda3/envs/acr/lib/python3.11/site-packages/yaml/composer.py\", line 84, in compose_node\n    node = self.compose_mapping_node(anchor)\n           ^^^^^^^^^^^^^^^^^^^^^^^^^^^^^^^^^\n  File \"/home/kdriessen/miniconda3/envs/acr/lib/python3.11/site-packages/yaml/composer.py\", line 133, in compose_mapping_node\n    item_value = self.compose_node(node, item_key)\n                 ^^^^^^^^^^^^^^^^^^^^^^^^^^^^^^^^^\n  File \"/home/kdriessen/miniconda3/envs/acr/lib/python3.11/site-packages/yaml/composer.py\", line 84, in compose_node\n    node = self.compose_mapping_node(anchor)\n           ^^^^^^^^^^^^^^^^^^^^^^^^^^^^^^^^^\n  File \"/home/kdriessen/miniconda3/envs/acr/lib/python3.11/site-packages/yaml/composer.py\", line 133, in compose_mapping_node\n    item_value = self.compose_node(node, item_key)\n                 ^^^^^^^^^^^^^^^^^^^^^^^^^^^^^^^^^\n  File \"/home/kdriessen/miniconda3/envs/acr/lib/python3.11/site-packages/yaml/composer.py\", line 82, in compose_node\n    node = self.compose_sequence_node(anchor)\n           ^^^^^^^^^^^^^^^^^^^^^^^^^^^^^^^^^^\n  File \"/home/kdriessen/miniconda3/envs/acr/lib/python3.11/site-packages/yaml/composer.py\", line 110, in compose_sequence_node\n    while not self.check_event(SequenceEndEvent):\n              ^^^^^^^^^^^^^^^^^^^^^^^^^^^^^^^^^^\n  File \"/home/kdriessen/miniconda3/envs/acr/lib/python3.11/site-packages/yaml/parser.py\", line 98, in check_event\n    self.current_event = self.state()\n                         ^^^^^^^^^^^^\n  File \"/home/kdriessen/miniconda3/envs/acr/lib/python3.11/site-packages/yaml/parser.py\", line 403, in parse_indentless_sequence_entry\n    if self.check_token(BlockEntryToken):\n       ^^^^^^^^^^^^^^^^^^^^^^^^^^^^^^^^^\n  File \"/home/kdriessen/miniconda3/envs/acr/lib/python3.11/site-packages/yaml/scanner.py\", line 115, in check_token\n    while self.need_more_tokens():\n          ^^^^^^^^^^^^^^^^^^^^^^^\n  File \"/home/kdriessen/miniconda3/envs/acr/lib/python3.11/site-packages/yaml/scanner.py\", line 152, in need_more_tokens\n    self.stale_possible_simple_keys()\n  File \"/home/kdriessen/miniconda3/envs/acr/lib/python3.11/site-packages/yaml/scanner.py\", line 291, in stale_possible_simple_keys\n    raise ScannerError(\"while scanning a simple key\", key.mark,\nyaml.scanner.ScannerError: while scanning a simple key\n  in \"/Volumes/opto_loc/Data/ACR_PROJECT_MATERIALS/acr-hypno-paths.yaml\", line 397, column 1\ncould not find expected ':'\n  in \"/Volumes/opto_loc/Data/ACR_PROJECT_MATERIALS/acr-hypno-paths.yaml\", line 401, column 9\n\"\"\"",
      "\nThe above exception was the direct cause of the following exception:\n",
      "\u001b[0;31mScannerError\u001b[0m                              Traceback (most recent call last)",
      "Cell \u001b[0;32mIn[4], line 9\u001b[0m\n\u001b[1;32m      6\u001b[0m run_script_partial \u001b[39m=\u001b[39m partial(update_hyp)\n\u001b[1;32m      8\u001b[0m \u001b[39m# Map the function to the list of subject names\u001b[39;00m\n\u001b[0;32m----> 9\u001b[0m pool\u001b[39m.\u001b[39;49mmap(run_script_partial, subs)\n\u001b[1;32m     11\u001b[0m \u001b[39m# Close the pool and wait for the processes to finish\u001b[39;00m\n\u001b[1;32m     12\u001b[0m pool\u001b[39m.\u001b[39mclose()\n",
      "File \u001b[0;32m~/miniconda3/envs/acr/lib/python3.11/multiprocessing/pool.py:367\u001b[0m, in \u001b[0;36mPool.map\u001b[0;34m(self, func, iterable, chunksize)\u001b[0m\n\u001b[1;32m    362\u001b[0m \u001b[39mdef\u001b[39;00m \u001b[39mmap\u001b[39m(\u001b[39mself\u001b[39m, func, iterable, chunksize\u001b[39m=\u001b[39m\u001b[39mNone\u001b[39;00m):\n\u001b[1;32m    363\u001b[0m \u001b[39m    \u001b[39m\u001b[39m'''\u001b[39;00m\n\u001b[1;32m    364\u001b[0m \u001b[39m    Apply `func` to each element in `iterable`, collecting the results\u001b[39;00m\n\u001b[1;32m    365\u001b[0m \u001b[39m    in a list that is returned.\u001b[39;00m\n\u001b[1;32m    366\u001b[0m \u001b[39m    '''\u001b[39;00m\n\u001b[0;32m--> 367\u001b[0m     \u001b[39mreturn\u001b[39;00m \u001b[39mself\u001b[39;49m\u001b[39m.\u001b[39;49m_map_async(func, iterable, mapstar, chunksize)\u001b[39m.\u001b[39;49mget()\n",
      "File \u001b[0;32m~/miniconda3/envs/acr/lib/python3.11/multiprocessing/pool.py:774\u001b[0m, in \u001b[0;36mApplyResult.get\u001b[0;34m(self, timeout)\u001b[0m\n\u001b[1;32m    772\u001b[0m     \u001b[39mreturn\u001b[39;00m \u001b[39mself\u001b[39m\u001b[39m.\u001b[39m_value\n\u001b[1;32m    773\u001b[0m \u001b[39melse\u001b[39;00m:\n\u001b[0;32m--> 774\u001b[0m     \u001b[39mraise\u001b[39;00m \u001b[39mself\u001b[39m\u001b[39m.\u001b[39m_value\n",
      "\u001b[0;31mScannerError\u001b[0m: while scanning a simple key\n  in \"/Volumes/opto_loc/Data/ACR_PROJECT_MATERIALS/acr-hypno-paths.yaml\", line 397, column 1\ncould not find expected ':'\n  in \"/Volumes/opto_loc/Data/ACR_PROJECT_MATERIALS/acr-hypno-paths.yaml\", line 401, column 9"
     ]
    }
   ],
   "source": [
    "if __name__ == \"__main__\":\n",
    "    num_processes = multiprocessing.cpu_count()  # Get the number of available CPU cores\n",
    "    pool = multiprocessing.Pool(processes=num_processes)\n",
    "\n",
    "    # Use partial to fix the first argument of the run_script function\n",
    "    run_script_partial = partial(update_hyp)\n",
    "\n",
    "    # Map the function to the list of subject names\n",
    "    pool.map(run_script_partial, subs)\n",
    "\n",
    "    # Close the pool and wait for the processes to finish\n",
    "    pool.close()\n",
    "    pool.join()\n",
    "\n",
    "    print(\"All processes have finished.\")"
   ]
  }
 ],
 "metadata": {
  "kernelspec": {
   "display_name": "acr",
   "language": "python",
   "name": "python3"
  },
  "language_info": {
   "codemirror_mode": {
    "name": "ipython",
    "version": 3
   },
   "file_extension": ".py",
   "mimetype": "text/x-python",
   "name": "python",
   "nbconvert_exporter": "python",
   "pygments_lexer": "ipython3",
   "version": "3.11.4"
  },
  "orig_nbformat": 4
 },
 "nbformat": 4,
 "nbformat_minor": 2
}

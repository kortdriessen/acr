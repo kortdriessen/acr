{
 "cells": [
  {
   "cell_type": "markdown",
   "metadata": {},
   "source": [
    "# Data Generation Needed for ACR/SWI Paper"
   ]
  },
  {
   "cell_type": "code",
   "execution_count": 1,
   "metadata": {},
   "outputs": [
    {
     "name": "stderr",
     "output_type": "stream",
     "text": [
      "/home/kdriessen/miniconda3/envs/acr/lib/python3.11/site-packages/tqdm/auto.py:21: TqdmWarning: IProgress not found. Please update jupyter and ipywidgets. See https://ipywidgets.readthedocs.io/en/stable/user_install.html\n",
      "  from .autonotebook import tqdm as notebook_tqdm\n"
     ]
    }
   ],
   "source": [
    "#-------------------------- Standard Imports --------------------------#\n",
    "%reload_ext autoreload\n",
    "%autoreload 2\n",
    "import kdephys as kde\n",
    "import pandas as pd\n",
    "import polars as pl\n",
    "import matplotlib.pyplot as plt\n",
    "import seaborn as sns\n",
    "import numpy as np\n",
    "import acr\n",
    "import os\n",
    "plt.style.use('fast')\n",
    "plt.style.use('/home/kdriessen/gh_master/kdephys/kdephys/plot/acr_plots.mplstyle')\n",
    "\n",
    "# ---------------------------- EXTRAS --------------------------------#\n",
    "from acr.utils import swi_subs_exps, sub_probe_locations, sub_exp_types\n",
    "import pub_funcs as pf"
   ]
  },
  {
   "cell_type": "code",
   "execution_count": 4,
   "metadata": {},
   "outputs": [],
   "source": [
    "# IMPORTANT INFORMAION\n",
    "# --------------------\n",
    "\n",
    "# Check the IMPORTANT PARAMETERS section of pub_funcs.py to ensure that the rebound length and relative state are as they should be."
   ]
  },
  {
   "cell_type": "markdown",
   "metadata": {},
   "source": [
    "# Bandpower - During Sleep Rebound"
   ]
  },
  {
   "cell_type": "code",
   "execution_count": 5,
   "metadata": {},
   "outputs": [],
   "source": [
    "# NOTES:\n",
    "# ------\n",
    "\n",
    "# We take as the start of the rebound the first time that NREM occurs after the stimulation has ended.\n",
    "# Then we simply add the variable REBOUND_LENGTH to that start time to get the end of the rebound.\n",
    "# So, subjects may have differing amounts of NREM in this initial 1 hr following the start of the sleep rebound. "
   ]
  },
  {
   "cell_type": "code",
   "execution_count": 7,
   "metadata": {},
   "outputs": [
    {
     "name": "stdout",
     "output_type": "stream",
     "text": [
      "swi-bl has no channel 7\n",
      "swi-bl has no channel 10\n",
      "swi-bl has no channel 13\n",
      "swi has no channel 7\n",
      "swi has no channel 10\n",
      "swi has no channel 13\n",
      "swi-bl has no channel 7\n",
      "swi-bl has no channel 10\n",
      "swi-bl has no channel 13\n",
      "swi has no channel 7\n",
      "swi has no channel 10\n",
      "swi has no channel 13\n",
      "swisin-bl has no channel 7\n",
      "swisin-bl has no channel 10\n",
      "swisin-bl has no channel 13\n",
      "swisin has no channel 7\n",
      "swisin has no channel 10\n",
      "swisin has no channel 13\n",
      "swisin-bl has no channel 7\n",
      "swisin-bl has no channel 10\n",
      "swisin-bl has no channel 13\n",
      "swisin has no channel 7\n",
      "swisin has no channel 10\n",
      "swisin has no channel 13\n"
     ]
    }
   ],
   "source": [
    "# Note that as currently configured, this does NOT reprocess subject-experiment combinations that are already in the dataframe. \n",
    "# If this needs to be done, call the function with reprocess_existing=True, for the particular subject-experiment combination\n",
    "for subject in swi_subs_exps:\n",
    "    for exp in swi_subs_exps[subject]:\n",
    "        pf.get_rebound_df(subject, exp)"
   ]
  },
  {
   "cell_type": "code",
   "execution_count": 5,
   "metadata": {},
   "outputs": [
    {
     "name": "stderr",
     "output_type": "stream",
     "text": [
      "/home/kdriessen/gh_master/acr/pub/data/pub_funcs.py:24: DtypeWarning: Columns (11) have mixed types. Specify dtype option on import or set low_memory=False.\n",
      "  df = pd.read_csv(path)\n"
     ]
    },
    {
     "name": "stdout",
     "output_type": "stream",
     "text": [
      "No hypnogram for swi-post\n",
      "No hypnogram for swi-post\n"
     ]
    }
   ],
   "source": [
    "pf.get_rebound_df('ACR_26', 'swi')"
   ]
  },
  {
   "cell_type": "code",
   "execution_count": 2,
   "metadata": {},
   "outputs": [],
   "source": [
    "reb_df = pd.read_csv('reb_df.csv')\n",
    "for col in reb_df.columns:\n",
    "    if \"Unnamed\" in col:\n",
    "        del reb_df[col]\n",
    "for subject in swi_subs_exps:\n",
    "    reb_df = pf.add_layer_info_to_df(reb_df, subject)\n",
    "reb_df.to_csv('reb_df.csv')"
   ]
  },
  {
   "cell_type": "markdown",
   "metadata": {},
   "source": [
    "# Bandpower - During Experimental Manipulation "
   ]
  },
  {
   "cell_type": "code",
   "execution_count": 3,
   "metadata": {},
   "outputs": [
    {
     "name": "stdout",
     "output_type": "stream",
     "text": [
      "No hypnogram for swi-post\n",
      "No hypnogram for swi-post\n"
     ]
    }
   ],
   "source": [
    "pf.get_stim_df('ACR_26', 'swi')"
   ]
  },
  {
   "cell_type": "code",
   "execution_count": null,
   "metadata": {},
   "outputs": [],
   "source": [
    "for subject in swi_subs_exps:\n",
    "    for exp in swi_subs_exps[subject]:\n",
    "        pf.get_stim_df(subject, exp)"
   ]
  },
  {
   "cell_type": "code",
   "execution_count": 6,
   "metadata": {},
   "outputs": [
    {
     "name": "stdout",
     "output_type": "stream",
     "text": [
      "No channel map for ACR_17\n",
      "No channel map for ACR_25\n",
      "No channel map for ACR_26\n"
     ]
    }
   ],
   "source": [
    "stim_df = pd.read_csv('stim_df.csv')\n",
    "for col in stim_df.columns:\n",
    "    if \"Unnamed\" in col:\n",
    "        del stim_df[col]\n",
    "for subject in swi_subs_exps:\n",
    "    stim_df = pf.add_layer_info_to_df(stim_df, subject)\n",
    "stim_df.to_csv('stim_df.csv')"
   ]
  }
 ],
 "metadata": {
  "kernelspec": {
   "display_name": "acr",
   "language": "python",
   "name": "python3"
  },
  "language_info": {
   "codemirror_mode": {
    "name": "ipython",
    "version": 3
   },
   "file_extension": ".py",
   "mimetype": "text/x-python",
   "name": "python",
   "nbconvert_exporter": "python",
   "pygments_lexer": "ipython3",
   "version": "3.11.4"
  },
  "orig_nbformat": 4
 },
 "nbformat": 4,
 "nbformat_minor": 2
}

{
 "cells": [
  {
   "cell_type": "markdown",
   "metadata": {},
   "source": [
    "# Data Generation Needed for ACR/SWI Paper"
   ]
  },
  {
   "cell_type": "code",
   "execution_count": 2,
   "metadata": {},
   "outputs": [
    {
     "name": "stderr",
     "output_type": "stream",
     "text": [
      "/home/kdriessen/miniconda3/envs/acr/lib/python3.11/site-packages/tqdm/auto.py:21: TqdmWarning: IProgress not found. Please update jupyter and ipywidgets. See https://ipywidgets.readthedocs.io/en/stable/user_install.html\n",
      "  from .autonotebook import tqdm as notebook_tqdm\n"
     ]
    }
   ],
   "source": [
    "#-------------------------- Standard Imports --------------------------#\n",
    "%reload_ext autoreload\n",
    "%autoreload 2\n",
    "import kdephys as kde\n",
    "import pandas as pd\n",
    "import polars as pl\n",
    "import matplotlib.pyplot as plt\n",
    "import seaborn as sns\n",
    "import numpy as np\n",
    "import acr\n",
    "import os\n",
    "plt.style.use('fast')\n",
    "plt.style.use('/home/kdriessen/gh_master/kdephys/kdephys/plot/acr_plots.mplstyle')\n",
    "\n",
    "# ---------------------------- EXTRAS --------------------------------#\n",
    "from acr.utils import swi_subs_exps, sub_probe_locations, sub_exp_types\n"
   ]
  },
  {
   "cell_type": "code",
   "execution_count": 3,
   "metadata": {},
   "outputs": [],
   "source": [
    "def check_df(subject, exp, path):\n",
    "    if os.path.exists(path) == False:\n",
    "        already_added = False\n",
    "        df = pd.DataFrame()\n",
    "        return df, already_added\n",
    "    df = pd.read_csv(path)\n",
    "    for col in df.columns:\n",
    "        if \"Unnamed\" in col:\n",
    "            del df[col]\n",
    "    already_added = not df.loc[(df.subject==subject)&(df.exp==exp)].empty\n",
    "    return df, already_added"
   ]
  },
  {
   "cell_type": "code",
   "execution_count": 4,
   "metadata": {},
   "outputs": [],
   "source": [
    "# IMPORTANT PARAMETERS\n",
    "# --------------------\n",
    "REBOUND_LENGTH = '1h'\n",
    "REL_STATE = 'NREM'"
   ]
  },
  {
   "cell_type": "markdown",
   "metadata": {},
   "source": [
    "# Bandpower - During Sleep Rebound"
   ]
  },
  {
   "cell_type": "code",
   "execution_count": 5,
   "metadata": {},
   "outputs": [],
   "source": [
    "# NOTES:\n",
    "# ------\n",
    "\n",
    "# We take as the start of the rebound the first time that NREM occurs after the stimulation has ended.\n",
    "# Then we simply add the variable REBOUND_LENGTH to that start time to get the end of the rebound.\n",
    "# So, subjects may have differing amounts of NREM in this initial 1 hr following the start of the sleep rebound. "
   ]
  },
  {
   "cell_type": "code",
   "execution_count": 6,
   "metadata": {},
   "outputs": [],
   "source": [
    "def get_rebound_df(subject, exp, reprocess_existing=False, save=True):\n",
    "    reb_df, already_added = check_df(subject, exp, 'data/reb_df.csv')\n",
    "    if already_added == True:\n",
    "        if reprocess_existing:\n",
    "            reb_df = reb_df.loc[(reb_df.subject!=subject)|(reb_df.exp!=exp)]\n",
    "        else:\n",
    "            return\n",
    "    \n",
    "    # load some basic information, and the hypnogram\n",
    "    h = acr.io.load_hypno_full_exp(subject, exp)\n",
    "    si = acr.info_pipeline.load_subject_info(subject)\n",
    "    params = acr.info_pipeline.subject_params(subject)\n",
    "    stores = params['time_stores']\n",
    "    sort_ids = [f'{exp}-{store}' for store in stores]\n",
    "    recordings = acr.info_pipeline.get_exp_recs(subject, exp)\n",
    "    \n",
    "    # load some temporal information about the rebound, baseline, sd, etc. \n",
    "    stim_start, stim_end = acr.stim.stim_bookends(subject, exp)\n",
    "    reb_start = h.hts(stim_end-pd.Timedelta('15min'), stim_end+pd.Timedelta('1h')).st('NREM').iloc[0].start_time\n",
    "    if reb_start < stim_end:\n",
    "        stim_end_hypno = h.loc[(h.start_time<stim_end)&(h.end_time>stim_end)] # if stim time is in the middle of a nrem bout, then it can be the start of the rebound\n",
    "        if stim_end_hypno.state.values[0] == 'NREM':\n",
    "            reb_start = stim_end\n",
    "        else:\n",
    "            raise ValueError('Rebound start time is before stim end time, need to inspect')\n",
    "\n",
    "    assert reb_start >= stim_end, 'Rebound start time is before stim end time'\n",
    "\n",
    "    bl_start_actual = si[\"rec_times\"][f'{exp}-bl'][\"start\"]\n",
    "    bl_day = bl_start_actual.split(\"T\")[0]\n",
    "    bl_start = pd.Timestamp(bl_day + \"T09:00:00\")\n",
    "\n",
    "    if f'{exp}-sd' in si['rec_times'].keys():\n",
    "        sd_rec = f'{exp}-sd'\n",
    "        sd_end = pd.Timestamp(si['rec_times'][sd_rec]['end'])\n",
    "    else:\n",
    "        sd_rec = exp\n",
    "        sd_end = stim_start\n",
    "    sd_start_actual = pd.Timestamp(si['rec_times'][sd_rec]['start'])\n",
    "    sd_day = si['rec_times'][sd_rec]['start'].split(\"T\")[0]\n",
    "    sd_start = pd.Timestamp(sd_day + \"T09:00:00\")\n",
    "    \n",
    "    # Load the BANDPOWER DATA\n",
    "    #-------------------------------\n",
    "    bp = acr.io.load_concat_bandpower(subject, recordings, stores, hypno=True);\n",
    "    bp_rel = kde.xr.utils.rel_by_store(bp, state=REL_STATE, t1=None, t2=None);\n",
    "\n",
    "    # Get the rebound values:\n",
    "    rebound_dur = pd.Timedelta(REBOUND_LENGTH)\n",
    "    reb_bp = bp_rel.ts(reb_start, reb_start+rebound_dur) \n",
    "    bp_df = kde.xr.spectral.bp_melt(reb_bp.to_dataframe().reset_index()) #convert to dataframe\n",
    "    bp_df['region'] = sub_probe_locations[subject]\n",
    "    bp_df['exp_type'] = sub_exp_types[subject]\n",
    "    bp_df['subject'] = subject\n",
    "    bp_df['exp'] = exp\n",
    "    reb_df = pd.concat([reb_df, bp_df])\n",
    "    if save:\n",
    "        reb_df.to_csv('reb_df.csv') \n",
    "    return"
   ]
  },
  {
   "cell_type": "markdown",
   "metadata": {},
   "source": [
    "# Bandpower - During Experimental Manipulation "
   ]
  },
  {
   "cell_type": "code",
   "execution_count": 7,
   "metadata": {},
   "outputs": [],
   "source": [
    "def get_stim_df(subject, exp, reprocess_existing=False, save=True):\n",
    "    stim_df, already_added = check_df(subject, exp, 'data/stim_df.csv')\n",
    "    if already_added == True:\n",
    "        if reprocess_existing:\n",
    "            stim_df = stim_df.loc[(stim_df.subject!=subject)|(stim_df.exp!=exp)]\n",
    "        else:\n",
    "            return\n",
    "    \n",
    "    # load some basic information, and the hypnogram\n",
    "    h = acr.io.load_hypno_full_exp(subject, exp)\n",
    "    si = acr.info_pipeline.load_subject_info(subject)\n",
    "    params = acr.info_pipeline.subject_params(subject)\n",
    "    stores = params['time_stores']\n",
    "    sort_ids = [f'{exp}-{store}' for store in stores]\n",
    "    recordings = acr.info_pipeline.get_exp_recs(subject, exp)\n",
    "    \n",
    "    # load some temporal information about the rebound, baseline, sd, etc. \n",
    "    stim_start, stim_end = acr.stim.stim_bookends(subject, exp)\n",
    "    reb_start = h.hts(stim_end-pd.Timedelta('15min'), stim_end+pd.Timedelta('1h')).st('NREM').iloc[0].start_time\n",
    "    if reb_start < stim_end:\n",
    "        stim_end_hypno = h.loc[(h.start_time<stim_end)&(h.end_time>stim_end)] # if stim time is in the middle of a nrem bout, then it can be the start of the rebound\n",
    "        if stim_end_hypno.state.values[0] == 'NREM':\n",
    "            reb_start = stim_end\n",
    "        else:\n",
    "            raise ValueError('Rebound start time is before stim end time, need to inspect')\n",
    "\n",
    "    assert reb_start >= stim_end, 'Rebound start time is before stim end time'\n",
    "\n",
    "    bl_start_actual = si[\"rec_times\"][f'{exp}-bl'][\"start\"]\n",
    "    bl_day = bl_start_actual.split(\"T\")[0]\n",
    "    bl_start = pd.Timestamp(bl_day + \"T09:00:00\")\n",
    "\n",
    "    if f'{exp}-sd' in si['rec_times'].keys():\n",
    "        sd_rec = f'{exp}-sd'\n",
    "        sd_end = pd.Timestamp(si['rec_times'][sd_rec]['end'])\n",
    "    else:\n",
    "        sd_rec = exp\n",
    "        sd_end = stim_start\n",
    "    sd_start_actual = pd.Timestamp(si['rec_times'][sd_rec]['start'])\n",
    "    sd_day = si['rec_times'][sd_rec]['start'].split(\"T\")[0]\n",
    "    sd_start = pd.Timestamp(sd_day + \"T09:00:00\")\n",
    "    \n",
    "    # Load the BANDPOWER DATA\n",
    "    #-------------------------------\n",
    "    bp = acr.io.load_concat_bandpower(subject, recordings, stores, hypno=True);\n",
    "    bp_rel = kde.xr.utils.rel_by_store(bp, state=REL_STATE, t1=None, t2=None);\n",
    "\n",
    "    # Get the SD values during the experimental manipulation:\n",
    "    sd_bp = bp_rel.ts(stim_start, stim_end) \n",
    "    bp_df = kde.xr.spectral.bp_melt(sd_bp.to_dataframe().reset_index()) #convert to dataframe\n",
    "    bp_df['region'] = sub_probe_locations[subject]\n",
    "    bp_df['exp_type'] = sub_exp_types[subject]\n",
    "    bp_df['subject'] = subject\n",
    "    bp_df['exp'] = exp\n",
    "    stim_df = pd.concat([stim_df, bp_df])\n",
    "    if save:\n",
    "        stim_df.to_csv('stim_df.csv') \n",
    "    return"
   ]
  },
  {
   "cell_type": "markdown",
   "metadata": {},
   "source": [
    "# Generate Data"
   ]
  },
  {
   "cell_type": "code",
   "execution_count": 9,
   "metadata": {},
   "outputs": [],
   "source": [
    "# Sleep Rebound Bandpower\n",
    "# ------------------------\n",
    "# Note that as currently configured, this does NOT reprocess subject-experiment combinations that are already in the dataframe. \n",
    "# If this needs to be done, call the function with reprocess_existing=True, for the particular subject-experiment combination\n",
    "\n",
    "get_rebound_df('ACR_20', 'swi')"
   ]
  },
  {
   "cell_type": "code",
   "execution_count": null,
   "metadata": {},
   "outputs": [],
   "source": []
  }
 ],
 "metadata": {
  "kernelspec": {
   "display_name": "acr",
   "language": "python",
   "name": "python3"
  },
  "language_info": {
   "codemirror_mode": {
    "name": "ipython",
    "version": 3
   },
   "file_extension": ".py",
   "mimetype": "text/x-python",
   "name": "python",
   "nbconvert_exporter": "python",
   "pygments_lexer": "ipython3",
   "version": "3.11.4"
  },
  "orig_nbformat": 4
 },
 "nbformat": 4,
 "nbformat_minor": 2
}

{
 "cells": [
  {
   "cell_type": "markdown",
   "metadata": {},
   "source": [
    "# Data Generation Needed for ACR/SWI Paper"
   ]
  },
  {
   "cell_type": "code",
   "execution_count": 2,
   "metadata": {},
   "outputs": [],
   "source": [
    "#-------------------------- Standard Imports --------------------------#\n",
    "%reload_ext autoreload\n",
    "%autoreload 2\n",
    "import kdephys as kde\n",
    "import pandas as pd\n",
    "import polars as pl\n",
    "import matplotlib.pyplot as plt\n",
    "import seaborn as sns\n",
    "import numpy as np\n",
    "import acr\n",
    "import os\n",
    "plt.style.use('fast')\n",
    "plt.style.use('/home/kdriessen/gh_master/kdephys/kdephys/plot/acr_plots.mplstyle')\n",
    "\n",
    "# ---------------------------- EXTRAS --------------------------------#\n",
    "from acr.utils import swi_subs_exps, sub_probe_locations, sub_exp_types\n",
    "import pub_funcs as pf"
   ]
  },
  {
   "cell_type": "code",
   "execution_count": 4,
   "metadata": {},
   "outputs": [],
   "source": [
    "# IMPORTANT INFORMAION\n",
    "# --------------------\n",
    "\n",
    "# Check the IMPORTANT PARAMETERS section of pub_funcs.py to ensure that the rebound length and relative state are as they should be."
   ]
  },
  {
   "cell_type": "markdown",
   "metadata": {},
   "source": [
    "# Bandpower - During Sleep Rebound"
   ]
  },
  {
   "cell_type": "code",
   "execution_count": 5,
   "metadata": {},
   "outputs": [],
   "source": [
    "# NOTES:\n",
    "# ------\n",
    "\n",
    "# We take as the start of the rebound the first time that NREM occurs after the stimulation has ended.\n",
    "# Then we simply add the variable REBOUND_LENGTH to that start time to get the end of the rebound.\n",
    "# So, subjects may have differing amounts of NREM in this initial 1 hr following the start of the sleep rebound. "
   ]
  },
  {
   "cell_type": "code",
   "execution_count": 7,
   "metadata": {},
   "outputs": [
    {
     "name": "stdout",
     "output_type": "stream",
     "text": [
      "swi-bl has no channel 7\n",
      "swi-bl has no channel 10\n",
      "swi-bl has no channel 13\n",
      "swi has no channel 7\n",
      "swi has no channel 10\n",
      "swi has no channel 13\n",
      "swi-bl has no channel 7\n",
      "swi-bl has no channel 10\n",
      "swi-bl has no channel 13\n",
      "swi has no channel 7\n",
      "swi has no channel 10\n",
      "swi has no channel 13\n",
      "swisin-bl has no channel 7\n",
      "swisin-bl has no channel 10\n",
      "swisin-bl has no channel 13\n",
      "swisin has no channel 7\n",
      "swisin has no channel 10\n",
      "swisin has no channel 13\n",
      "swisin-bl has no channel 7\n",
      "swisin-bl has no channel 10\n",
      "swisin-bl has no channel 13\n",
      "swisin has no channel 7\n",
      "swisin has no channel 10\n",
      "swisin has no channel 13\n"
     ]
    }
   ],
   "source": [
    "# Note that as currently configured, this does NOT reprocess subject-experiment combinations that are already in the dataframe. \n",
    "# If this needs to be done, call the function with reprocess_existing=True, for the particular subject-experiment combination\n",
    "for subject in swi_subs_exps:\n",
    "    for exp in swi_subs_exps[subject]:\n",
    "        pf.get_rebound_df(subject, exp)"
   ]
  },
  {
   "cell_type": "markdown",
   "metadata": {},
   "source": [
    "# Bandpower - During Experimental Manipulation "
   ]
  },
  {
   "cell_type": "code",
   "execution_count": 8,
   "metadata": {},
   "outputs": [
    {
     "name": "stdout",
     "output_type": "stream",
     "text": [
      "swi-bl has no channel 7\n",
      "swi-bl has no channel 10\n",
      "swi-bl has no channel 13\n",
      "swi has no channel 7\n",
      "swi has no channel 10\n",
      "swi has no channel 13\n",
      "swi-bl has no channel 7\n",
      "swi-bl has no channel 10\n",
      "swi-bl has no channel 13\n",
      "swi has no channel 7\n",
      "swi has no channel 10\n",
      "swi has no channel 13\n",
      "swisin-bl has no channel 7\n",
      "swisin-bl has no channel 10\n",
      "swisin-bl has no channel 13\n",
      "swisin has no channel 7\n",
      "swisin has no channel 10\n",
      "swisin has no channel 13\n",
      "swisin-bl has no channel 7\n",
      "swisin-bl has no channel 10\n",
      "swisin-bl has no channel 13\n",
      "swisin has no channel 7\n",
      "swisin has no channel 10\n",
      "swisin has no channel 13\n"
     ]
    }
   ],
   "source": [
    "for subject in swi_subs_exps:\n",
    "    for exp in swi_subs_exps[subject]:\n",
    "        pf.get_stim_df(subject, exp)"
   ]
  }
 ],
 "metadata": {
  "kernelspec": {
   "display_name": "acr",
   "language": "python",
   "name": "python3"
  },
  "language_info": {
   "codemirror_mode": {
    "name": "ipython",
    "version": 3
   },
   "file_extension": ".py",
   "mimetype": "text/x-python",
   "name": "python",
   "nbconvert_exporter": "python",
   "pygments_lexer": "ipython3",
   "version": "3.11.4"
  },
  "orig_nbformat": 4
 },
 "nbformat": 4,
 "nbformat_minor": 2
}

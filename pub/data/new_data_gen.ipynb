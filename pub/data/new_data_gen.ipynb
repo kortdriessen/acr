{
 "cells": [
  {
   "cell_type": "code",
   "execution_count": 1,
   "metadata": {},
   "outputs": [
    {
     "name": "stderr",
     "output_type": "stream",
     "text": [
      "/home/kdriessen/miniconda3/envs/acr/lib/python3.11/site-packages/tqdm/auto.py:21: TqdmWarning: IProgress not found. Please update jupyter and ipywidgets. See https://ipywidgets.readthedocs.io/en/stable/user_install.html\n",
      "  from .autonotebook import tqdm as notebook_tqdm\n"
     ]
    }
   ],
   "source": [
    "#-------------------------- Standard Imports --------------------------#\n",
    "%reload_ext autoreload\n",
    "%autoreload 2\n",
    "import kdephys as kde\n",
    "import pandas as pd\n",
    "import polars as pl\n",
    "import matplotlib.pyplot as plt\n",
    "import seaborn as sns\n",
    "import numpy as np\n",
    "import acr\n",
    "import os\n",
    "plt.style.use('fast')\n",
    "plt.style.use('/home/kdriessen/gh_master/kdephys/kdephys/plot/acr_plots.mplstyle')\n",
    "\n",
    "# ---------------------------- EXTRAS --------------------------------#\n",
    "from acr.utils import swi_subs_exps, sub_probe_locations, sub_exp_types\n",
    "import pub_funcs as pf"
   ]
  },
  {
   "cell_type": "code",
   "execution_count": 4,
   "metadata": {},
   "outputs": [
    {
     "name": "stderr",
     "output_type": "stream",
     "text": [
      "/tmp/ipykernel_173971/1579778436.py:1: DtypeWarning: Columns (11) have mixed types. Specify dtype option on import or set low_memory=False.\n",
      "  reb_df = pd.read_csv('reb_df.csv')\n"
     ]
    }
   ],
   "source": [
    "reb_df = pd.read_csv('reb_df.csv')\n",
    "for col in reb_df.columns:\n",
    "    if \"Unnamed\" in col:\n",
    "        del reb_df[col]"
   ]
  },
  {
   "cell_type": "code",
   "execution_count": 9,
   "metadata": {},
   "outputs": [],
   "source": [
    "subject = 'ACR_26'\n",
    "exp = 'swi'\n",
    "reb_dur = '1h'\n",
    "reb_df.loc[reb_df.exp == exp].sbj(subject).to_csv(f'./rebound_data/{subject}--{exp}--reb_{reb_dur}.csv')"
   ]
  },
  {
   "cell_type": "code",
   "execution_count": 10,
   "metadata": {},
   "outputs": [],
   "source": [
    "r = pd.read_csv(f'./rebound_data/{subject}--{exp}--reb_{reb_dur}.csv')"
   ]
  },
  {
   "cell_type": "code",
   "execution_count": null,
   "metadata": {},
   "outputs": [],
   "source": [
    "def get_rebound_df(subject, exp, reb_dur='1h', reprocess_existing=False, save=True):\n",
    "    \"\"\"Generate a dataframe of bandpower values during the rebound period following sleep deprivation\n",
    "\n",
    "    Parameters\n",
    "    ----------\n",
    "    subject : str\n",
    "        subject name\n",
    "    exp : str\n",
    "        experiment name\n",
    "    reprocess_existing : bool, optional\n",
    "        whether to reprocess data that is already in the dataframe, by default False\n",
    "    save : bool, optional\n",
    "        whether to save the data, by default True\n",
    "    \"\"\"\n",
    "    reb_df, already_added = check_df(subject, exp, f'{data_path_root}/reb_df.csv')\n",
    "    if already_added == True:\n",
    "        if reprocess_existing:\n",
    "            reb_df = reb_df.loc[(reb_df.subject!=subject)|(reb_df.exp!=exp)]\n",
    "        else:\n",
    "            return\n",
    "    \n",
    "    # load some basic information, and the hypnogram\n",
    "    h = acr.io.load_hypno_full_exp(subject, exp, update=True)\n",
    "    rec_times = acr.info_pipeline.subject_info_section(subject, 'rec_times')\n",
    "    params = acr.info_pipeline.subject_params(subject)\n",
    "    stores = params['time_stores']\n",
    "    sort_ids = [f'{exp}-{store}' for store in stores]\n",
    "    recordings = acr.info_pipeline.get_exp_recs(subject, exp)\n",
    "    \n",
    "    # load some temporal information about the rebound, baseline, sd, etc. \n",
    "    stim_start, stim_end = acr.stim.stim_bookends(subject, exp)\n",
    "    reb_start = h.hts(stim_end-pd.Timedelta('15min'), stim_end+pd.Timedelta('1h')).st('NREM').iloc[0].start_time\n",
    "    if reb_start < stim_end:\n",
    "        stim_end_hypno = h.loc[(h.start_time<stim_end)&(h.end_time>stim_end)] # if stim time is in the middle of a nrem bout, then it can be the start of the rebound\n",
    "        if stim_end_hypno.state.values[0] == 'NREM':\n",
    "            reb_start = stim_end\n",
    "        else:\n",
    "            raise ValueError('Rebound start time is before stim end time, need to inspect')\n",
    "\n",
    "    assert reb_start >= stim_end, 'Rebound start time is before stim end time'\n",
    "\n",
    "    bl_start_actual = rec_times[f'{exp}-bl'][\"start\"]\n",
    "    bl_day = bl_start_actual.split(\"T\")[0]\n",
    "    bl_start = pd.Timestamp(bl_day + \"T09:00:00\")\n",
    "\n",
    "    if f'{exp}-sd' in rec_times.keys():\n",
    "        sd_rec = f'{exp}-sd'\n",
    "        sd_end = pd.Timestamp(rec_times[sd_rec]['end'])\n",
    "    else:\n",
    "        sd_rec = exp\n",
    "        sd_end = stim_start\n",
    "    sd_start_actual = pd.Timestamp(rec_times[sd_rec]['start'])\n",
    "    sd_day = rec_times[sd_rec]['start'].split(\"T\")[0]\n",
    "    sd_start = pd.Timestamp(sd_day + \"T09:00:00\")\n",
    "    \n",
    "    # Load the BANDPOWER DATA\n",
    "    #-------------------------------\n",
    "    bp = acr.io.load_concat_bandpower(subject, recordings, stores, hypno=True, update_hyp=False);\n",
    "    bp_rel = kde.xr.utils.rel_by_store(bp, state=REL_STATE, t1=None, t2=None);\n",
    "\n",
    "    # Get the rebound values:\n",
    "    rebound_dur = pd.Timedelta(REBOUND_LENGTH)\n",
    "    reb_bp = bp_rel.ts(reb_start, reb_start+rebound_dur) \n",
    "    bp_df = kde.xr.spectral.bp_melt(reb_bp.to_dataframe().reset_index()) #convert to dataframe\n",
    "    bp_df['region'] = sub_probe_locations[subject]\n",
    "    bp_df['exp_type'] = sub_exp_types[subject]\n",
    "    bp_df['subject'] = subject\n",
    "    bp_df['exp'] = exp\n",
    "    reb_df = pd.concat([reb_df, bp_df])\n",
    "    if save:\n",
    "        reb_df.to_csv(f'{data_path_root}/reb_df.csv') \n",
    "    return"
   ]
  }
 ],
 "metadata": {
  "kernelspec": {
   "display_name": "acr",
   "language": "python",
   "name": "python3"
  },
  "language_info": {
   "codemirror_mode": {
    "name": "ipython",
    "version": 3
   },
   "file_extension": ".py",
   "mimetype": "text/x-python",
   "name": "python",
   "nbconvert_exporter": "python",
   "pygments_lexer": "ipython3",
   "version": "3.11.4"
  }
 },
 "nbformat": 4,
 "nbformat_minor": 2
}

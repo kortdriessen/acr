{
 "cells": [
  {
   "attachments": {},
   "cell_type": "markdown",
   "metadata": {},
   "source": [
    "# Imports"
   ]
  },
  {
   "cell_type": "code",
   "execution_count": null,
   "metadata": {},
   "outputs": [],
   "source": [
    "#-------------------------- Standard Imports --------------------------#\n",
    "%reload_ext autoreload\n",
    "%autoreload 2\n",
    "import kdephys as kde\n",
    "import pandas as pd\n",
    "import polars as pl\n",
    "import matplotlib.pyplot as plt\n",
    "import seaborn as sns\n",
    "import numpy as np\n",
    "import acr\n",
    "plt.style.use('fast')\n",
    "plt.style.use('/home/kdriessen/gh_master/kdephys/kdephys/plot/acr_plots.mplstyle')\n",
    "\n",
    "# ---------------------------- EXTRAS --------------------------------#"
   ]
  },
  {
   "attachments": {},
   "cell_type": "markdown",
   "metadata": {},
   "source": [
    "# Load Basic Info"
   ]
  },
  {
   "cell_type": "code",
   "execution_count": null,
   "metadata": {},
   "outputs": [],
   "source": [
    "#---------------- Adjust Parameters Here -----------------# \n",
    "subject = \"ACR_#\"\n",
    "exp = 'EXP'\n",
    "stores = ['NNXo', 'NNXr']\n",
    "rel_state='NREM'\n",
    "#---------------------------------------------------------#"
   ]
  },
  {
   "cell_type": "code",
   "execution_count": null,
   "metadata": {},
   "outputs": [],
   "source": [
    "# ----------------------------------------- subject_info + Hypno -----------------------------------------\n",
    "h = acr.io.load_hypno_full_exp(subject, exp)\n",
    "si = acr.info_pipeline.load_subject_info(subject)\n",
    "sort_ids = [f'{exp}-{store}' for store in stores]\n",
    "recordings = acr.info_pipeline.get_exp_recs(subject, exp)\n",
    "#---------------------------------------------------------------------------------------------------------"
   ]
  },
  {
   "cell_type": "code",
   "execution_count": null,
   "metadata": {},
   "outputs": [],
   "source": [
    "# ----------------------------------------- Load Basic Info -----------------------------------------\n",
    "stim_start, stim_end = acr.stim.stim_bookends(subject, exp)\n",
    "reb_start = h.hts(stim_end-pd.Timedelta('15min'), stim_end+pd.Timedelta('1h')).st('NREM').iloc[0].start_time\n",
    "if reb_start < stim_end:\n",
    "    stim_end_hypno = h.loc[(h.start_time<stim_end)&(h.end_time>stim_end)] # if stim time is in the middle of a nrem bout, then it can be the start of the rebound\n",
    "    if stim_end_hypno.state.values[0] == 'NREM':\n",
    "        reb_start = stim_end\n",
    "    else:\n",
    "        raise ValueError('Rebound start time is before stim end time, need to inspect')\n",
    "\n",
    "assert reb_start >= stim_end, 'Rebound start time is before stim end time'\n",
    "\n",
    "bl_start_actual = si[\"rec_times\"][f'{exp}-bl'][\"start\"]\n",
    "bl_day = bl_start_actual.split(\"T\")[0]\n",
    "bl_start = pd.Timestamp(bl_day + \"T09:00:00\")\n",
    "\n",
    "if f'{exp}-sd' in si['rec_times'].keys():\n",
    "    sd_rec = f'{exp}-sd'\n",
    "    sd_end = pd.Timestamp(si['rec_times'][sd_rec]['end'])\n",
    "else:\n",
    "    sd_rec = exp\n",
    "    sd_end = stim_start\n",
    "sd_start_actual = pd.Timestamp(si['rec_times'][sd_rec]['start'])\n",
    "sd_day = si['rec_times'][sd_rec]['start'].split(\"T\")[0]\n",
    "sd_start = pd.Timestamp(sd_day + \"T09:00:00\")"
   ]
  },
  {
   "attachments": {},
   "cell_type": "markdown",
   "metadata": {},
   "source": [
    "# Load Data"
   ]
  },
  {
   "cell_type": "code",
   "execution_count": null,
   "metadata": {},
   "outputs": [],
   "source": [
    "# BANDPOWER DATA\n",
    "#-------------------------------\n",
    "bp = acr.io.load_concat_bandpower(subject, recordings, stores, hypno=True);\n",
    "bp_rel = kde.xr.utils.rel_by_store(bp, state=rel_state, t1=None, t2=None);"
   ]
  },
  {
   "cell_type": "code",
   "execution_count": null,
   "metadata": {},
   "outputs": [],
   "source": [
    "# UNIT DATA\n",
    "#-------------------------------\n",
    "df, idf = acr.pl_units.load_spikes_polars(subject, sort_ids, info=True, exclude_bad_units=True)\n",
    "\n",
    "# relative firing rate\n",
    "window = '30s'\n",
    "df_rel = acr.pl_units.get_rel_fr_df(df, h, window=window, rel_state=rel_state, t1=None, t2=None)\n",
    "\n",
    "# relative firing rate - Course Grained\n",
    "window_course = '300s'\n",
    "df_rel_course = acr.pl_units.get_rel_fr_df(df, h, window=window_course, rel_state=rel_state, t1=None, t2=None)"
   ]
  },
  {
   "cell_type": "code",
   "execution_count": null,
   "metadata": {},
   "outputs": [],
   "source": [
    "# ON OFF DATA\n",
    "#-------------------------------\n",
    "off_period_min = .05\n",
    "oodf = acr.onoff.on_off_detection_basic(df, off_period_min=off_period_min)\n",
    "oodf = acr.onoff.add_datetime_to_oodf(oodf, subject, exp)\n",
    "oodf = acr.onoff.states_to_oodf(oodf, h)\n",
    "oodf = acr.onoff.time_zones_to_oodf(oodf, bl_start, bl_start+pd.Timedelta('12h'), \"baseline\")\n",
    "oodf = acr.onoff.time_zones_to_oodf(oodf, reb_start, reb_start+pd.Timedelta('6h'), \"rebound\")\n",
    "oodf = pl.from_pandas(oodf)\n",
    "oodf = acr.onoff.oodf_durations_rel2bl(oodf)"
   ]
  }
 ],
 "metadata": {
  "kernelspec": {
   "display_name": "Python 3.9.13 ('acrdev_cuda')",
   "language": "python",
   "name": "python3"
  },
  "language_info": {
   "codemirror_mode": {
    "name": "ipython",
    "version": 3
   },
   "file_extension": ".py",
   "mimetype": "text/x-python",
   "name": "python",
   "nbconvert_exporter": "python",
   "pygments_lexer": "ipython3",
   "version": "3.9.13"
  },
  "orig_nbformat": 4,
  "vscode": {
   "interpreter": {
    "hash": "d5c6c841b232f98dd4881af1f66797d0987ad91fe05d136be079e1a3a24e545a"
   }
  }
 },
 "nbformat": 4,
 "nbformat_minor": 2
}

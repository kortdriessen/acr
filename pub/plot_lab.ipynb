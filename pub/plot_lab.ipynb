{
 "cells": [
  {
   "cell_type": "code",
   "execution_count": 1,
   "metadata": {},
   "outputs": [
    {
     "name": "stderr",
     "output_type": "stream",
     "text": [
      "/home/kdriessen/miniconda3/envs/acr/lib/python3.11/site-packages/tqdm/auto.py:21: TqdmWarning: IProgress not found. Please update jupyter and ipywidgets. See https://ipywidgets.readthedocs.io/en/stable/user_install.html\n",
      "  from .autonotebook import tqdm as notebook_tqdm\n",
      "/home/kdriessen/miniconda3/envs/acr/lib/python3.11/site-packages/outdated/utils.py:14: OutdatedPackageWarning: The package pingouin is out of date. Your version is 0.5.3, the latest is 0.5.4.\n",
      "Set the environment variable OUTDATED_IGNORE=1 to disable these warnings.\n",
      "  return warn(\n"
     ]
    }
   ],
   "source": [
    "#-------------------------- Standard Imports --------------------------#\n",
    "%reload_ext autoreload\n",
    "%autoreload 2\n",
    "import kdephys as kde\n",
    "import pandas as pd\n",
    "import polars as pl\n",
    "import matplotlib.pyplot as plt\n",
    "import seaborn as sns\n",
    "import numpy as np\n",
    "import acr\n",
    "#plt.style.use('fast')\n",
    "#plt.style.use('/home/kdriessen/gh_master/kdephys/kdephys/plot/acr_plots.mplstyle')\n",
    "\n",
    "# ---------------------------- EXTRAS --------------------------------#\n",
    "from acr.utils import swi_subs_exps, sub_probe_locations, sub_exp_types\n",
    "import pingouin as pg\n",
    "band_def = list(kde.utils.spectral.bands.keys())"
   ]
  },
  {
   "cell_type": "code",
   "execution_count": 2,
   "metadata": {},
   "outputs": [
    {
     "name": "stderr",
     "output_type": "stream",
     "text": [
      "/home/kdriessen/miniconda3/envs/acr/lib/python3.11/site-packages/outdated/utils.py:14: OutdatedCacheFailedWarning: Failed to use cache while checking for outdated package.\n",
      "Set the environment variable OUTDATED_RAISE_EXCEPTION=1 for a full traceback.\n",
      "Set the environment variable OUTDATED_IGNORE=1 to disable these warnings.\n",
      "  return warn(\n"
     ]
    }
   ],
   "source": [
    "reb_df = acr.io.read_full_df(folder='rebound_data_1h')\n",
    "#reb_df = reb_df.loc[reb_df.state == 'NREM']\n",
    "#reb_df = reb_df.loc[reb_df['Band']=='delta']\n",
    "reb_df = reb_df.sort_values('subject')"
   ]
  },
  {
   "cell_type": "code",
   "execution_count": 3,
   "metadata": {},
   "outputs": [],
   "source": [
    "delta_acr = reb_df.loc[reb_df['Band']=='delta'].loc[reb_df['state']=='NREM'].loc[reb_df['exp_type']=='acr']\n",
    "delta_acr_means = delta_acr.groupby(['subject', 'exp', 'store'])['Bandpower'].mean().to_frame().reset_index().sort_values('Bandpower')\n",
    "acr_swa = delta_acr_means.exp_names()"
   ]
  },
  {
   "cell_type": "code",
   "execution_count": 20,
   "metadata": {},
   "outputs": [],
   "source": [
    "# Colors\n",
    "BG_WHITE = \"#fbf9f4\"\n",
    "GREY_LIGHT = \"#b4aea9\"\n",
    "GREY50 = \"#7F7F7F\"\n",
    "BLUE_DARK = \"#1B2838\"\n",
    "BLUE = \"#2a475e\"\n",
    "BLACK = \"#282724\"\n",
    "GREY_DARK = \"#747473\"\n",
    "RED_DARK = \"#850e00\"\n",
    "\n",
    "# Colors taken from Dark2 palette in RColorBrewer R library\n",
    "COLOR_SCALE = [\"#1B9E77\", \"#D95F02\", \"#7570B3\"]\n",
    "\n",
    "# Horizontal positions for the violins. \n",
    "# They are arbitrary numbers. They could have been [-1, 0, 1] for example.\n",
    "POSITIONS = [1, 2]\n",
    "\n",
    "# Horizontal lines\n",
    "HLINES = [1.5, 2, 2.5]"
   ]
  },
  {
   "cell_type": "code",
   "execution_count": 21,
   "metadata": {},
   "outputs": [],
   "source": [
    "y_data = [[acr_swa.expmt('swi').prb('NNXr')['Bandpower'].values], [acr_swa.expmt('swi').prb('NNXo')['Bandpower'].values]]"
   ]
  },
  {
   "cell_type": "code",
   "execution_count": 26,
   "metadata": {},
   "outputs": [
    {
     "data": {
      "text/plain": [
       "[[array([1.6279908, 1.792361 , 1.914755 , 2.063528 , 2.4540882, 2.6580534,\n",
       "         2.912399 ], dtype=float32)],\n",
       " [array([1.3978883, 1.4653416, 1.4795825, 1.6479127, 1.6738507, 2.044872 ,\n",
       "         2.5592384], dtype=float32)]]"
      ]
     },
     "execution_count": 26,
     "metadata": {},
     "output_type": "execute_result"
    }
   ],
   "source": [
    "y_data"
   ]
  },
  {
   "cell_type": "code",
   "execution_count": 22,
   "metadata": {},
   "outputs": [
    {
     "ename": "ValueError",
     "evalue": "X must have 2 or fewer dimensions",
     "output_type": "error",
     "traceback": [
      "\u001b[0;31m---------------------------------------------------------------------------\u001b[0m",
      "\u001b[0;31mValueError\u001b[0m                                Traceback (most recent call last)",
      "Cell \u001b[0;32mIn[22], line 18\u001b[0m\n\u001b[1;32m     10\u001b[0m     ax\u001b[38;5;241m.\u001b[39maxhline(h, color\u001b[38;5;241m=\u001b[39mGREY50, ls\u001b[38;5;241m=\u001b[39m(\u001b[38;5;241m0\u001b[39m, (\u001b[38;5;241m5\u001b[39m, \u001b[38;5;241m5\u001b[39m)), alpha\u001b[38;5;241m=\u001b[39m\u001b[38;5;241m0.8\u001b[39m, zorder\u001b[38;5;241m=\u001b[39m\u001b[38;5;241m0\u001b[39m)\n\u001b[1;32m     12\u001b[0m \u001b[38;5;66;03m# Add violins ----------------------------------------------------\u001b[39;00m\n\u001b[1;32m     13\u001b[0m \u001b[38;5;66;03m# bw_method=\"silverman\" means the bandwidth of the kernel density\u001b[39;00m\n\u001b[1;32m     14\u001b[0m \u001b[38;5;66;03m# estimator is computed via Silverman's rule of thumb. \u001b[39;00m\n\u001b[1;32m     15\u001b[0m \u001b[38;5;66;03m# More on this in the bonus track ;)\u001b[39;00m\n\u001b[1;32m     16\u001b[0m \n\u001b[1;32m     17\u001b[0m \u001b[38;5;66;03m# The output is stored in 'violins', used to customize their appearence\u001b[39;00m\n\u001b[0;32m---> 18\u001b[0m violins \u001b[38;5;241m=\u001b[39m \u001b[43max\u001b[49m\u001b[38;5;241;43m.\u001b[39;49m\u001b[43mviolinplot\u001b[49m\u001b[43m(\u001b[49m\n\u001b[1;32m     19\u001b[0m \u001b[43m    \u001b[49m\u001b[43my_data\u001b[49m\u001b[43m,\u001b[49m\n\u001b[1;32m     20\u001b[0m \u001b[43m    \u001b[49m\u001b[43mpositions\u001b[49m\u001b[38;5;241;43m=\u001b[39;49m\u001b[43mPOSITIONS\u001b[49m\u001b[43m,\u001b[49m\n\u001b[1;32m     21\u001b[0m \u001b[43m    \u001b[49m\u001b[43mwidths\u001b[49m\u001b[38;5;241;43m=\u001b[39;49m\u001b[38;5;241;43m0.45\u001b[39;49m\u001b[43m,\u001b[49m\n\u001b[1;32m     22\u001b[0m \u001b[43m    \u001b[49m\u001b[43mbw_method\u001b[49m\u001b[38;5;241;43m=\u001b[39;49m\u001b[38;5;124;43m\"\u001b[39;49m\u001b[38;5;124;43msilverman\u001b[39;49m\u001b[38;5;124;43m\"\u001b[39;49m\u001b[43m,\u001b[49m\n\u001b[1;32m     23\u001b[0m \u001b[43m    \u001b[49m\u001b[43mshowmeans\u001b[49m\u001b[38;5;241;43m=\u001b[39;49m\u001b[38;5;28;43;01mFalse\u001b[39;49;00m\u001b[43m,\u001b[49m\u001b[43m \u001b[49m\n\u001b[1;32m     24\u001b[0m \u001b[43m    \u001b[49m\u001b[43mshowmedians\u001b[49m\u001b[38;5;241;43m=\u001b[39;49m\u001b[38;5;28;43;01mFalse\u001b[39;49;00m\u001b[43m,\u001b[49m\n\u001b[1;32m     25\u001b[0m \u001b[43m    \u001b[49m\u001b[43mshowextrema\u001b[49m\u001b[38;5;241;43m=\u001b[39;49m\u001b[38;5;28;43;01mFalse\u001b[39;49;00m\u001b[43m,\u001b[49m\n\u001b[1;32m     26\u001b[0m \u001b[43m)\u001b[49m\n\u001b[1;32m     28\u001b[0m \u001b[38;5;66;03m# Customize violins (remove fill, customize line, etc.)\u001b[39;00m\n\u001b[1;32m     29\u001b[0m \u001b[38;5;28;01mfor\u001b[39;00m pc \u001b[38;5;129;01min\u001b[39;00m violins[\u001b[38;5;124m\"\u001b[39m\u001b[38;5;124mbodies\u001b[39m\u001b[38;5;124m\"\u001b[39m]:\n",
      "File \u001b[0;32m~/miniconda3/envs/acr/lib/python3.11/site-packages/matplotlib/__init__.py:1446\u001b[0m, in \u001b[0;36m_preprocess_data.<locals>.inner\u001b[0;34m(ax, data, *args, **kwargs)\u001b[0m\n\u001b[1;32m   1443\u001b[0m \u001b[38;5;129m@functools\u001b[39m\u001b[38;5;241m.\u001b[39mwraps(func)\n\u001b[1;32m   1444\u001b[0m \u001b[38;5;28;01mdef\u001b[39;00m \u001b[38;5;21minner\u001b[39m(ax, \u001b[38;5;241m*\u001b[39margs, data\u001b[38;5;241m=\u001b[39m\u001b[38;5;28;01mNone\u001b[39;00m, \u001b[38;5;241m*\u001b[39m\u001b[38;5;241m*\u001b[39mkwargs):\n\u001b[1;32m   1445\u001b[0m     \u001b[38;5;28;01mif\u001b[39;00m data \u001b[38;5;129;01mis\u001b[39;00m \u001b[38;5;28;01mNone\u001b[39;00m:\n\u001b[0;32m-> 1446\u001b[0m         \u001b[38;5;28;01mreturn\u001b[39;00m \u001b[43mfunc\u001b[49m\u001b[43m(\u001b[49m\u001b[43max\u001b[49m\u001b[43m,\u001b[49m\u001b[43m \u001b[49m\u001b[38;5;241;43m*\u001b[39;49m\u001b[38;5;28;43mmap\u001b[39;49m\u001b[43m(\u001b[49m\u001b[43msanitize_sequence\u001b[49m\u001b[43m,\u001b[49m\u001b[43m \u001b[49m\u001b[43margs\u001b[49m\u001b[43m)\u001b[49m\u001b[43m,\u001b[49m\u001b[43m \u001b[49m\u001b[38;5;241;43m*\u001b[39;49m\u001b[38;5;241;43m*\u001b[39;49m\u001b[43mkwargs\u001b[49m\u001b[43m)\u001b[49m\n\u001b[1;32m   1448\u001b[0m     bound \u001b[38;5;241m=\u001b[39m new_sig\u001b[38;5;241m.\u001b[39mbind(ax, \u001b[38;5;241m*\u001b[39margs, \u001b[38;5;241m*\u001b[39m\u001b[38;5;241m*\u001b[39mkwargs)\n\u001b[1;32m   1449\u001b[0m     auto_label \u001b[38;5;241m=\u001b[39m (bound\u001b[38;5;241m.\u001b[39marguments\u001b[38;5;241m.\u001b[39mget(label_namer)\n\u001b[1;32m   1450\u001b[0m                   \u001b[38;5;129;01mor\u001b[39;00m bound\u001b[38;5;241m.\u001b[39mkwargs\u001b[38;5;241m.\u001b[39mget(label_namer))\n",
      "File \u001b[0;32m~/miniconda3/envs/acr/lib/python3.11/site-packages/matplotlib/axes/_axes.py:8088\u001b[0m, in \u001b[0;36mAxes.violinplot\u001b[0;34m(self, dataset, positions, vert, widths, showmeans, showextrema, showmedians, quantiles, points, bw_method)\u001b[0m\n\u001b[1;32m   8085\u001b[0m     kde \u001b[38;5;241m=\u001b[39m mlab\u001b[38;5;241m.\u001b[39mGaussianKDE(X, bw_method)\n\u001b[1;32m   8086\u001b[0m     \u001b[38;5;28;01mreturn\u001b[39;00m kde\u001b[38;5;241m.\u001b[39mevaluate(coords)\n\u001b[0;32m-> 8088\u001b[0m vpstats \u001b[38;5;241m=\u001b[39m \u001b[43mcbook\u001b[49m\u001b[38;5;241;43m.\u001b[39;49m\u001b[43mviolin_stats\u001b[49m\u001b[43m(\u001b[49m\u001b[43mdataset\u001b[49m\u001b[43m,\u001b[49m\u001b[43m \u001b[49m\u001b[43m_kde_method\u001b[49m\u001b[43m,\u001b[49m\u001b[43m \u001b[49m\u001b[43mpoints\u001b[49m\u001b[38;5;241;43m=\u001b[39;49m\u001b[43mpoints\u001b[49m\u001b[43m,\u001b[49m\n\u001b[1;32m   8089\u001b[0m \u001b[43m                             \u001b[49m\u001b[43mquantiles\u001b[49m\u001b[38;5;241;43m=\u001b[39;49m\u001b[43mquantiles\u001b[49m\u001b[43m)\u001b[49m\n\u001b[1;32m   8090\u001b[0m \u001b[38;5;28;01mreturn\u001b[39;00m \u001b[38;5;28mself\u001b[39m\u001b[38;5;241m.\u001b[39mviolin(vpstats, positions\u001b[38;5;241m=\u001b[39mpositions, vert\u001b[38;5;241m=\u001b[39mvert,\n\u001b[1;32m   8091\u001b[0m                    widths\u001b[38;5;241m=\u001b[39mwidths, showmeans\u001b[38;5;241m=\u001b[39mshowmeans,\n\u001b[1;32m   8092\u001b[0m                    showextrema\u001b[38;5;241m=\u001b[39mshowextrema, showmedians\u001b[38;5;241m=\u001b[39mshowmedians)\n",
      "File \u001b[0;32m~/miniconda3/envs/acr/lib/python3.11/site-packages/matplotlib/cbook/__init__.py:1474\u001b[0m, in \u001b[0;36mviolin_stats\u001b[0;34m(X, method, points, quantiles)\u001b[0m\n\u001b[1;32m   1471\u001b[0m vpstats \u001b[38;5;241m=\u001b[39m []\n\u001b[1;32m   1473\u001b[0m \u001b[38;5;66;03m# Want X to be a list of data sequences\u001b[39;00m\n\u001b[0;32m-> 1474\u001b[0m X \u001b[38;5;241m=\u001b[39m \u001b[43m_reshape_2D\u001b[49m\u001b[43m(\u001b[49m\u001b[43mX\u001b[49m\u001b[43m,\u001b[49m\u001b[43m \u001b[49m\u001b[38;5;124;43m\"\u001b[39;49m\u001b[38;5;124;43mX\u001b[39;49m\u001b[38;5;124;43m\"\u001b[39;49m\u001b[43m)\u001b[49m\n\u001b[1;32m   1476\u001b[0m \u001b[38;5;66;03m# Want quantiles to be as the same shape as data sequences\u001b[39;00m\n\u001b[1;32m   1477\u001b[0m \u001b[38;5;28;01mif\u001b[39;00m quantiles \u001b[38;5;129;01mis\u001b[39;00m \u001b[38;5;129;01mnot\u001b[39;00m \u001b[38;5;28;01mNone\u001b[39;00m \u001b[38;5;129;01mand\u001b[39;00m \u001b[38;5;28mlen\u001b[39m(quantiles) \u001b[38;5;241m!=\u001b[39m \u001b[38;5;241m0\u001b[39m:\n",
      "File \u001b[0;32m~/miniconda3/envs/acr/lib/python3.11/site-packages/matplotlib/cbook/__init__.py:1407\u001b[0m, in \u001b[0;36m_reshape_2D\u001b[0;34m(X, name)\u001b[0m\n\u001b[1;32m   1405\u001b[0m     nd \u001b[38;5;241m=\u001b[39m np\u001b[38;5;241m.\u001b[39mndim(xi)\n\u001b[1;32m   1406\u001b[0m     \u001b[38;5;28;01mif\u001b[39;00m nd \u001b[38;5;241m>\u001b[39m \u001b[38;5;241m1\u001b[39m:\n\u001b[0;32m-> 1407\u001b[0m         \u001b[38;5;28;01mraise\u001b[39;00m \u001b[38;5;167;01mValueError\u001b[39;00m(\u001b[38;5;124mf\u001b[39m\u001b[38;5;124m'\u001b[39m\u001b[38;5;132;01m{\u001b[39;00mname\u001b[38;5;132;01m}\u001b[39;00m\u001b[38;5;124m must have 2 or fewer dimensions\u001b[39m\u001b[38;5;124m'\u001b[39m)\n\u001b[1;32m   1408\u001b[0m     result\u001b[38;5;241m.\u001b[39mappend(xi\u001b[38;5;241m.\u001b[39mreshape(\u001b[38;5;241m-\u001b[39m\u001b[38;5;241m1\u001b[39m))\n\u001b[1;32m   1410\u001b[0m \u001b[38;5;28;01mif\u001b[39;00m is_1d:\n\u001b[1;32m   1411\u001b[0m     \u001b[38;5;66;03m# 1D array of scalars: directly return it.\u001b[39;00m\n",
      "\u001b[0;31mValueError\u001b[0m: X must have 2 or fewer dimensions"
     ]
    },
    {
     "data": {
      "image/png": "[encoded data removed]",
      "text/plain": [
       "<Figure size 1400x1000 with 1 Axes>"
      ]
     },
     "metadata": {},
     "output_type": "display_data"
    }
   ],
   "source": [
    "fig, ax = plt.subplots(figsize= (14, 10))\n",
    "\n",
    "# Some layout stuff ----------------------------------------------\n",
    "# Background color\n",
    "fig.patch.set_facecolor(BG_WHITE)\n",
    "ax.set_facecolor(BG_WHITE)\n",
    "\n",
    "# Horizontal lines that are used as scale reference\n",
    "for h in HLINES:\n",
    "    ax.axhline(h, color=GREY50, ls=(0, (5, 5)), alpha=0.8, zorder=0)\n",
    "\n",
    "# Add violins ----------------------------------------------------\n",
    "# bw_method=\"silverman\" means the bandwidth of the kernel density\n",
    "# estimator is computed via Silverman's rule of thumb. \n",
    "# More on this in the bonus track ;)\n",
    "\n",
    "# The output is stored in 'violins', used to customize their appearence\n",
    "violins = ax.violinplot(\n",
    "    y_data,\n",
    "    positions=POSITIONS,\n",
    "    widths=0.45,\n",
    "    bw_method=\"silverman\",\n",
    "    showmeans=False, \n",
    "    showmedians=False,\n",
    "    showextrema=False,\n",
    ")\n",
    "\n",
    "# Customize violins (remove fill, customize line, etc.)\n",
    "for pc in violins[\"bodies\"]:\n",
    "    pc.set_facecolor(\"none\")\n",
    "    pc.set_edgecolor(BLACK)\n",
    "    pc.set_linewidth(1.4)\n",
    "    pc.set_alpha(1)"
   ]
  }
 ],
 "metadata": {
  "kernelspec": {
   "display_name": "acr",
   "language": "python",
   "name": "python3"
  },
  "language_info": {
   "codemirror_mode": {
    "name": "ipython",
    "version": 3
   },
   "file_extension": ".py",
   "mimetype": "text/x-python",
   "name": "python",
   "nbconvert_exporter": "python",
   "pygments_lexer": "ipython3",
   "version": "3.11.4"
  }
 },
 "nbformat": 4,
 "nbformat_minor": 2
}

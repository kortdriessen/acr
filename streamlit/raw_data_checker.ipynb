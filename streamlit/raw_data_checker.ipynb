{
 "cells": [
  {
   "cell_type": "code",
   "execution_count": 1,
   "metadata": {},
   "outputs": [
    {
     "name": "stderr",
     "output_type": "stream",
     "text": [
      "/home/kdriessen/miniconda3/envs/acr/lib/python3.11/site-packages/tqdm/auto.py:21: TqdmWarning: IProgress not found. Please update jupyter and ipywidgets. See https://ipywidgets.readthedocs.io/en/stable/user_install.html\n",
      "  from .autonotebook import tqdm as notebook_tqdm\n"
     ]
    }
   ],
   "source": [
    "#-------------------------- Standard Imports --------------------------#\n",
    "%reload_ext autoreload\n",
    "%autoreload 2\n",
    "import kdephys as kde\n",
    "import pandas as pd\n",
    "import polars as pl\n",
    "import matplotlib.pyplot as plt\n",
    "import seaborn as sns\n",
    "import numpy as np\n",
    "import acr\n",
    "plt.style.use('fast')\n",
    "plt.style.use('/home/kdriessen/gh_master/kdephys/kdephys/plot/acr_plots.mplstyle')\n",
    "\n",
    "import plotly.express as px\n",
    "from scipy.ndimage import gaussian_filter1d\n",
    "\n",
    "import kaleido\n",
    "save_base = '/Volumes/opto_loc/Data/ACR_PROJECT_MATERIALS/plots_presentations_etc/temp'\n",
    "from kdephys.utils.spectral import bands"
   ]
  },
  {
   "cell_type": "code",
   "execution_count": 2,
   "metadata": {},
   "outputs": [],
   "source": [
    "def bp_melt(bp, bp_def=bands):\n",
    "    \"\"\"Melts a bandpower set to long-form.\n",
    "\n",
    "    Parameters:\n",
    "    -----------\n",
    "    bp_def: bandpower dictionary, supplied automatically from kdephys.utils.spectral\n",
    "    \"\"\"\n",
    "\n",
    "    bp_melt = pd.melt(\n",
    "        bp,\n",
    "        id_vars=[\"datetime\", \"channel\", \"store\"],\n",
    "        value_vars=list(bp_def.keys()),\n",
    "    )\n",
    "    bp_melt.columns = [\"datetime\", \"channel\", \"store\", \"Band\", \"Bandpower\"]\n",
    "    return bp_melt"
   ]
  },
  {
   "cell_type": "code",
   "execution_count": 3,
   "metadata": {},
   "outputs": [],
   "source": [
    "def smooth_1d(array, sigma=14, fs=0.5, axis=0, truncate=8):\n",
    "    return gaussian_filter1d(array, sigma=sigma*fs, axis=axis, truncate=truncate)"
   ]
  },
  {
   "cell_type": "code",
   "execution_count": 4,
   "metadata": {},
   "outputs": [],
   "source": [
    "def smooth_whole_bp_set(ds, sigma=14, fs=0.5, axis=0, truncate=8):\n",
    "    for da_name, da in ds.items():\n",
    "        data = da.values\n",
    "        smoothed_data = np.apply_along_axis(smooth_1d, 1, da.data)\n",
    "        da.values = smoothed_data\n",
    "        ds[da_name] = da\n",
    "    return ds"
   ]
  },
  {
   "cell_type": "code",
   "execution_count": 13,
   "metadata": {},
   "outputs": [],
   "source": [
    "subject = 'ACR_26'\n",
    "recording = 'swi'\n",
    "bp_xr = acr.io.load_concat_bandpower(subject, [recording], stores=['NNXo', 'NNXr'], hypno=False, exclude_bad_channels=False)\n",
    "bp_xr_smooth = smooth_whole_bp_set(bp_xr, sigma=14, fs=0.5, axis=0, truncate=8)\n",
    "bp = bp_xr.to_dataframe().reset_index()\n",
    "bp_sm = bp_xr_smooth.to_dataframe().reset_index()"
   ]
  },
  {
   "cell_type": "code",
   "execution_count": 14,
   "metadata": {},
   "outputs": [],
   "source": [
    "bp_melted = bp_melt(bp)\n",
    "medians = bp_melted.groupby(['store', 'channel', 'Band']).Bandpower.median()\n",
    "medians = medians.to_frame().reset_index()"
   ]
  },
  {
   "cell_type": "code",
   "execution_count": 15,
   "metadata": {},
   "outputs": [],
   "source": [
    "# LINE PLOT\n",
    "# ---------------\n",
    "band = 'delta'\n",
    "fig = px.line(bp_sm.ts(0, 43200), x='datetime', y=band, title=f'{subject} | {recording} | RAW {band}', color='store', facet_row='channel', facet_row_spacing=0.01, width=2400, height=2000, color_discrete_sequence=['royalblue', 'darkred'], range_y=[0, 300000], template='plotly_white')\n",
    "fig.update_layout(\n",
    "    font_color=\"black\",\n",
    "    font_size=18,\n",
    "    title_font_size=28,\n",
    ")\n",
    "#fig.show()\n",
    "fig.write_image(f'{save_base}/{subject}_{recording}_RAW-{band}.png', engine=\"kaleido\")"
   ]
  },
  {
   "cell_type": "code",
   "execution_count": 18,
   "metadata": {},
   "outputs": [
    {
     "data": {
      "text/plain": [
       "(Timestamp('2023-11-02 13:29:59.961133080'),\n",
       " Timestamp('2023-11-02 14:13:34.040621080'))"
      ]
     },
     "execution_count": 18,
     "metadata": {},
     "output_type": "execute_result"
    }
   ],
   "source": [
    "acr.stim.stim_bookends('ACR_26', 'swisin2')"
   ]
  },
  {
   "cell_type": "code",
   "execution_count": 21,
   "metadata": {},
   "outputs": [
    {
     "data": {
      "text/plain": [
       "16029.961134"
      ]
     },
     "execution_count": 21,
     "metadata": {},
     "output_type": "execute_result"
    }
   ],
   "source": [
    "acr.utils.dt_to_tdt(subject, 'swisin2', '2023-11-02 13:29:59.961133080')"
   ]
  },
  {
   "cell_type": "code",
   "execution_count": 16,
   "metadata": {},
   "outputs": [
    {
     "data": {
      "application/vnd.plotly.v1+json": {
       "config": {
        "plotlyServerURL": "https://plot.ly"
       },
       "data": [
        {
         "alignmentgroup": "True",
         "hovertemplate": "store=NNXo<br>Band=delta<br>channel=%{x}<br>Bandpower=%{y}<extra></extra>",
         "legendgroup": "NNXo",
         "marker": {
          "color": "royalblue",
          "pattern": {
           "shape": ""
          }
         },
         "name": "NNXo",
         "offsetgroup": "NNXo",
         "orientation": "v",
         "showlegend": true,
         "textposition": "auto",
         "type": "bar",
         "x": [
          1,
          2,
          3,
          4,
          5,
          6,
          7,
          8,
          9,
          10,
          11,
          12,
          13,
          14,
          15,
          16
         ],
         "xaxis": "x9",
         "y": [
          69695.5703125,
          64279.68359375,
          68844.421875,
          72062.6796875,
          84897.421875,
          96263.0546875,
          120403.0625,
          116971.9140625,
          35060.23828125,
          35418.296875,
          34358.15625,
          24399.28125,
          34555.94921875,
          27223.2109375,
          72175.71875,
          41880.62890625
         ],
         "yaxis": "y9"
        },
        {
         "alignmentgroup": "True",
         "hovertemplate": "store=NNXo<br>Band=delta1<br>channel=%{x}<br>Bandpower=%{y}<extra></extra>",
         "legendgroup": "NNXo",
         "marker": {
          "color": "royalblue",
          "pattern": {
           "shape": ""
          }
         },
         "name": "NNXo",
         "offsetgroup": "NNXo",
         "orientation": "v",
         "showlegend": false,
         "textposition": "auto",
         "type": "bar",
         "x": [
          1,
          2,
          3,
          4,
          5,
          6,
          7,
          8,
          9,
          10,
          11,
          12,
          13,
          14,
          15,
          16
         ],
         "xaxis": "x8",
         "y": [
          30087.974609375,
          27105.576171875,
          30538.060546875,
          31437.080078125,
          37535.75,
          43924.86328125,
          57179.8125,
          54444.49609375,
          17190.720703125,
          21644.01171875,
          17146.83203125,
          11714.49609375,
          17295.384765625,
          12936.365234375,
          35467.7421875,
          21012.037109375
         ],
         "yaxis": "y8"
        },
        {
         "alignmentgroup": "True",
         "hovertemplate": "store=NNXo<br>Band=delta2<br>channel=%{x}<br>Bandpower=%{y}<extra></extra>",
         "legendgroup": "NNXo",
         "marker": {
          "color": "royalblue",
          "pattern": {
           "shape": ""
          }
         },
         "name": "NNXo",
         "offsetgroup": "NNXo",
         "orientation": "v",
         "showlegend": false,
         "textposition": "auto",
         "type": "bar",
         "x": [
          1,
          2,
          3,
          4,
          5,
          6,
          7,
          8,
          9,
          10,
          11,
          12,
          13,
          14,
          15,
          16
         ],
         "xaxis": "x7",
         "y": [
          31188.826171875,
          29655.283203125,
          31089.3046875,
          31737.283203125,
          37832.00390625,
          41204.32421875,
          51294.67578125,
          48707.92578125,
          11908.8583984375,
          10865.013671875,
          11460.220703125,
          9789.5205078125,
          11457.3857421875,
          10769.7685546875,
          22795.400390625,
          15076.6630859375
         ],
         "yaxis": "y7"
        },
        {
         "alignmentgroup": "True",
         "hovertemplate": "store=NNXo<br>Band=theta<br>channel=%{x}<br>Bandpower=%{y}<extra></extra>",
         "legendgroup": "NNXo",
         "marker": {
          "color": "royalblue",
          "pattern": {
           "shape": ""
          }
         },
         "name": "NNXo",
         "offsetgroup": "NNXo",
         "orientation": "v",
         "showlegend": false,
         "textposition": "auto",
         "type": "bar",
         "x": [
          1,
          2,
          3,
          4,
          5,
          6,
          7,
          8,
          9,
          10,
          11,
          12,
          13,
          14,
          15,
          16
         ],
         "xaxis": "x6",
         "y": [
          31911.958984375,
          33123.76953125,
          35449.5546875,
          36816.5234375,
          42035.99609375,
          44346.00390625,
          49354.37890625,
          44631.07421875,
          21654.00390625,
          20355.7109375,
          19976.99609375,
          19452.294921875,
          20263.25,
          20808.8125,
          24767.755859375,
          22729.416015625
         ],
         "yaxis": "y6"
        },
        {
         "alignmentgroup": "True",
         "hovertemplate": "store=NNXo<br>Band=alpha<br>channel=%{x}<br>Bandpower=%{y}<extra></extra>",
         "legendgroup": "NNXo",
         "marker": {
          "color": "royalblue",
          "pattern": {
           "shape": ""
          }
         },
         "name": "NNXo",
         "offsetgroup": "NNXo",
         "orientation": "v",
         "showlegend": false,
         "textposition": "auto",
         "type": "bar",
         "x": [
          1,
          2,
          3,
          4,
          5,
          6,
          7,
          8,
          9,
          10,
          11,
          12,
          13,
          14,
          15,
          16
         ],
         "xaxis": "x5",
         "y": [
          17943.599609375,
          18839.03515625,
          20163.775390625,
          20623.4453125,
          23571.361328125,
          23798.001953125,
          26820.533203125,
          21985.08203125,
          16256.5673828125,
          15314.1728515625,
          14969.4443359375,
          14524.7060546875,
          14720.0908203125,
          14602.1484375,
          14676.4130859375,
          13614.701171875
         ],
         "yaxis": "y5"
        },
        {
         "alignmentgroup": "True",
         "hovertemplate": "store=NNXo<br>Band=sigma<br>channel=%{x}<br>Bandpower=%{y}<extra></extra>",
         "legendgroup": "NNXo",
         "marker": {
          "color": "royalblue",
          "pattern": {
           "shape": ""
          }
         },
         "name": "NNXo",
         "offsetgroup": "NNXo",
         "orientation": "v",
         "showlegend": false,
         "textposition": "auto",
         "type": "bar",
         "x": [
          1,
          2,
          3,
          4,
          5,
          6,
          7,
          8,
          9,
          10,
          11,
          12,
          13,
          14,
          15,
          16
         ],
         "xaxis": "x4",
         "y": [
          9421.8115234375,
          10035.5654296875,
          10867.18359375,
          10825.2734375,
          13275.3056640625,
          13041.646484375,
          15078.5712890625,
          11404.7841796875,
          6292.5419921875,
          5726.201171875,
          5389.3134765625,
          5191.14990234375,
          5257.2646484375,
          5298.55322265625,
          5726.5859375,
          5248.42529296875
         ],
         "yaxis": "y4"
        },
        {
         "alignmentgroup": "True",
         "hovertemplate": "store=NNXo<br>Band=beta<br>channel=%{x}<br>Bandpower=%{y}<extra></extra>",
         "legendgroup": "NNXo",
         "marker": {
          "color": "royalblue",
          "pattern": {
           "shape": ""
          }
         },
         "name": "NNXo",
         "offsetgroup": "NNXo",
         "orientation": "v",
         "showlegend": false,
         "textposition": "auto",
         "type": "bar",
         "x": [
          1,
          2,
          3,
          4,
          5,
          6,
          7,
          8,
          9,
          10,
          11,
          12,
          13,
          14,
          15,
          16
         ],
         "xaxis": "x3",
         "y": [
          13272.443359375,
          13977.5263671875,
          14879.654296875,
          15096.1943359375,
          18095.5,
          18150.1875,
          20210.23828125,
          15540.6533203125,
          9471.7919921875,
          8074.3056640625,
          7605.84912109375,
          7037.8623046875,
          7322.27734375,
          7193.77587890625,
          8177.96484375,
          7172.82470703125
         ],
         "yaxis": "y3"
        },
        {
         "alignmentgroup": "True",
         "hovertemplate": "store=NNXo<br>Band=low_gamma<br>channel=%{x}<br>Bandpower=%{y}<extra></extra>",
         "legendgroup": "NNXo",
         "marker": {
          "color": "royalblue",
          "pattern": {
           "shape": ""
          }
         },
         "name": "NNXo",
         "offsetgroup": "NNXo",
         "orientation": "v",
         "showlegend": false,
         "textposition": "auto",
         "type": "bar",
         "x": [
          1,
          2,
          3,
          4,
          5,
          6,
          7,
          8,
          9,
          10,
          11,
          12,
          13,
          14,
          15,
          16
         ],
         "xaxis": "x2",
         "y": [
          6844.65966796875,
          6939.22021484375,
          7040.43896484375,
          7622.724609375,
          8091.93212890625,
          8649.138671875,
          8686.181640625,
          7418.13671875,
          5954.0498046875,
          5145.056640625,
          4826.6201171875,
          4739.783203125,
          5024.63427734375,
          4931.91650390625,
          4873.76318359375,
          4741.15478515625
         ],
         "yaxis": "y2"
        },
        {
         "alignmentgroup": "True",
         "hovertemplate": "store=NNXo<br>Band=high_gamma<br>channel=%{x}<br>Bandpower=%{y}<extra></extra>",
         "legendgroup": "NNXo",
         "marker": {
          "color": "royalblue",
          "pattern": {
           "shape": ""
          }
         },
         "name": "NNXo",
         "offsetgroup": "NNXo",
         "orientation": "v",
         "showlegend": false,
         "textposition": "auto",
         "type": "bar",
         "x": [
          1,
          2,
          3,
          4,
          5,
          6,
          7,
          8,
          9,
          10,
          11,
          12,
          13,
          14,
          15,
          16
         ],
         "xaxis": "x",
         "y": [
          1788.53466796875,
          1879.4755859375,
          1986.8212890625,
          2225.912841796875,
          2329.248291015625,
          2573.310791015625,
          2557.177490234375,
          2214.2666015625,
          1785.2313232421875,
          1774.2476806640625,
          2071.505126953125,
          2238.92919921875,
          2515.64501953125,
          2027.5164794921875,
          1636.347900390625,
          1396.4259033203125
         ],
         "yaxis": "y"
        },
        {
         "alignmentgroup": "True",
         "hovertemplate": "store=NNXr<br>Band=delta<br>channel=%{x}<br>Bandpower=%{y}<extra></extra>",
         "legendgroup": "NNXr",
         "marker": {
          "color": "darkred",
          "pattern": {
           "shape": ""
          }
         },
         "name": "NNXr",
         "offsetgroup": "NNXr",
         "orientation": "v",
         "showlegend": true,
         "textposition": "auto",
         "type": "bar",
         "x": [
          1,
          2,
          3,
          4,
          5,
          6,
          7,
          8,
          9,
          10,
          11,
          12,
          13,
          14,
          15,
          16
         ],
         "xaxis": "x9",
         "y": [
          34066.10546875,
          38405.02734375,
          36131.4375,
          49428.671875,
          44239.3828125,
          61692.54296875,
          39190.96875,
          72859.4453125,
          22704.478515625,
          23107.162109375,
          22386.09375,
          26891.013671875,
          22402.796875,
          26636.193359375,
          21894.8671875,
          44628.48828125
         ],
         "yaxis": "y9"
        },
        {
         "alignmentgroup": "True",
         "hovertemplate": "store=NNXr<br>Band=delta1<br>channel=%{x}<br>Bandpower=%{y}<extra></extra>",
         "legendgroup": "NNXr",
         "marker": {
          "color": "darkred",
          "pattern": {
           "shape": ""
          }
         },
         "name": "NNXr",
         "offsetgroup": "NNXr",
         "orientation": "v",
         "showlegend": false,
         "textposition": "auto",
         "type": "bar",
         "x": [
          1,
          2,
          3,
          4,
          5,
          6,
          7,
          8,
          9,
          10,
          11,
          12,
          13,
          14,
          15,
          16
         ],
         "xaxis": "x8",
         "y": [
          15244.8984375,
          17560.2421875,
          15443.267578125,
          23415.529296875,
          22770.30859375,
          34687.83984375,
          21759.181640625,
          33256.18359375,
          11646.9560546875,
          11438.6455078125,
          10301.4091796875,
          13537.201171875,
          9962.5302734375,
          12355.8427734375,
          9456.318359375,
          19118.869140625
         ],
         "yaxis": "y8"
        },
        {
         "alignmentgroup": "True",
         "hovertemplate": "store=NNXr<br>Band=delta2<br>channel=%{x}<br>Bandpower=%{y}<extra></extra>",
         "legendgroup": "NNXr",
         "marker": {
          "color": "darkred",
          "pattern": {
           "shape": ""
          }
         },
         "name": "NNXr",
         "offsetgroup": "NNXr",
         "orientation": "v",
         "showlegend": false,
         "textposition": "auto",
         "type": "bar",
         "x": [
          1,
          2,
          3,
          4,
          5,
          6,
          7,
          8,
          9,
          10,
          11,
          12,
          13,
          14,
          15,
          16
         ],
         "xaxis": "x7",
         "y": [
          12241.53515625,
          13664.7568359375,
          13824.1396484375,
          17991.708984375,
          15201.998046875,
          19347.541015625,
          13099.123046875,
          27338.25390625,
          9446.59375,
          9351.7373046875,
          9578.3408203125,
          10078.0478515625,
          9792.4013671875,
          10456.212890625,
          9211.6748046875,
          15985.7919921875
         ],
         "yaxis": "y7"
        },
        {
         "alignmentgroup": "True",
         "hovertemplate": "store=NNXr<br>Band=theta<br>channel=%{x}<br>Bandpower=%{y}<extra></extra>",
         "legendgroup": "NNXr",
         "marker": {
          "color": "darkred",
          "pattern": {
           "shape": ""
          }
         },
         "name": "NNXr",
         "offsetgroup": "NNXr",
         "orientation": "v",
         "showlegend": false,
         "textposition": "auto",
         "type": "bar",
         "x": [
          1,
          2,
          3,
          4,
          5,
          6,
          7,
          8,
          9,
          10,
          11,
          12,
          13,
          14,
          15,
          16
         ],
         "xaxis": "x6",
         "y": [
          24365.98046875,
          26336.392578125,
          27408.595703125,
          29836.45703125,
          27529.7578125,
          28597.037109375,
          25092.1015625,
          32596.75390625,
          23316.1171875,
          23117.908203125,
          23807.619140625,
          24057.001953125,
          24149.3125,
          24035.591796875,
          23724.548828125,
          25762.72265625
         ],
         "yaxis": "y6"
        },
        {
         "alignmentgroup": "True",
         "hovertemplate": "store=NNXr<br>Band=alpha<br>channel=%{x}<br>Bandpower=%{y}<extra></extra>",
         "legendgroup": "NNXr",
         "marker": {
          "color": "darkred",
          "pattern": {
           "shape": ""
          }
         },
         "name": "NNXr",
         "offsetgroup": "NNXr",
         "orientation": "v",
         "showlegend": false,
         "textposition": "auto",
         "type": "bar",
         "x": [
          1,
          2,
          3,
          4,
          5,
          6,
          7,
          8,
          9,
          10,
          11,
          12,
          13,
          14,
          15,
          16
         ],
         "xaxis": "x5",
         "y": [
          16391.78125,
          17377.67578125,
          18155.013671875,
          18944.958984375,
          18159.314453125,
          17156.54296875,
          16608.275390625,
          16764.6484375,
          15627.64453125,
          15041.8876953125,
          15153.466796875,
          14980.220703125,
          14553.9501953125,
          13993.1875,
          13663.3125,
          13805.326171875
         ],
         "yaxis": "y5"
        },
        {
         "alignmentgroup": "True",
         "hovertemplate": "store=NNXr<br>Band=sigma<br>channel=%{x}<br>Bandpower=%{y}<extra></extra>",
         "legendgroup": "NNXr",
         "marker": {
          "color": "darkred",
          "pattern": {
           "shape": ""
          }
         },
         "name": "NNXr",
         "offsetgroup": "NNXr",
         "orientation": "v",
         "showlegend": false,
         "textposition": "auto",
         "type": "bar",
         "x": [
          1,
          2,
          3,
          4,
          5,
          6,
          7,
          8,
          9,
          10,
          11,
          12,
          13,
          14,
          15,
          16
         ],
         "xaxis": "x4",
         "y": [
          6738.94482421875,
          7344.30224609375,
          7873.8369140625,
          8240.1533203125,
          7682.73046875,
          7148.28515625,
          6605.94482421875,
          7025.732421875,
          5920.697265625,
          5681.59765625,
          5708.05712890625,
          5683.19775390625,
          5588.4013671875,
          5535.33935546875,
          5558.9677734375,
          5879.1982421875
         ],
         "yaxis": "y4"
        },
        {
         "alignmentgroup": "True",
         "hovertemplate": "store=NNXr<br>Band=beta<br>channel=%{x}<br>Bandpower=%{y}<extra></extra>",
         "legendgroup": "NNXr",
         "marker": {
          "color": "darkred",
          "pattern": {
           "shape": ""
          }
         },
         "name": "NNXr",
         "offsetgroup": "NNXr",
         "orientation": "v",
         "showlegend": false,
         "textposition": "auto",
         "type": "bar",
         "x": [
          1,
          2,
          3,
          4,
          5,
          6,
          7,
          8,
          9,
          10,
          11,
          12,
          13,
          14,
          15,
          16
         ],
         "xaxis": "x3",
         "y": [
          9695.763671875,
          10836.154296875,
          11803.966796875,
          12374.2646484375,
          11247.5537109375,
          10157.4365234375,
          9127.220703125,
          9388.650390625,
          7746.59619140625,
          7299.66357421875,
          7322.8115234375,
          7302.57666015625,
          7198.25830078125,
          7291.93798828125,
          7397.8671875,
          7970.0439453125
         ],
         "yaxis": "y3"
        },
        {
         "alignmentgroup": "True",
         "hovertemplate": "store=NNXr<br>Band=low_gamma<br>channel=%{x}<br>Bandpower=%{y}<extra></extra>",
         "legendgroup": "NNXr",
         "marker": {
          "color": "darkred",
          "pattern": {
           "shape": ""
          }
         },
         "name": "NNXr",
         "offsetgroup": "NNXr",
         "orientation": "v",
         "showlegend": false,
         "textposition": "auto",
         "type": "bar",
         "x": [
          1,
          2,
          3,
          4,
          5,
          6,
          7,
          8,
          9,
          10,
          11,
          12,
          13,
          14,
          15,
          16
         ],
         "xaxis": "x2",
         "y": [
          6247.17529296875,
          6918.3251953125,
          7587.59375,
          8081.9140625,
          7265.220703125,
          6199.1279296875,
          5612.93994140625,
          5049.73681640625,
          4656.0654296875,
          4345.96337890625,
          4383.89306640625,
          4272.95361328125,
          4182.859375,
          4113.828125,
          4083.5703125,
          4164.54052734375
         ],
         "yaxis": "y2"
        },
        {
         "alignmentgroup": "True",
         "hovertemplate": "store=NNXr<br>Band=high_gamma<br>channel=%{x}<br>Bandpower=%{y}<extra></extra>",
         "legendgroup": "NNXr",
         "marker": {
          "color": "darkred",
          "pattern": {
           "shape": ""
          }
         },
         "name": "NNXr",
         "offsetgroup": "NNXr",
         "orientation": "v",
         "showlegend": false,
         "textposition": "auto",
         "type": "bar",
         "x": [
          1,
          2,
          3,
          4,
          5,
          6,
          7,
          8,
          9,
          10,
          11,
          12,
          13,
          14,
          15,
          16
         ],
         "xaxis": "x",
         "y": [
          1881.3349609375,
          2185.58154296875,
          2428.788818359375,
          2671.779296875,
          2395.368408203125,
          1891.022216796875,
          1723.9029541015625,
          1712.130615234375,
          1903.8062744140625,
          2079.032958984375,
          1964.9703369140625,
          1528.6903076171875,
          1431.094970703125,
          1169.6512451171875,
          1037.8580322265625,
          973.76416015625
         ],
         "yaxis": "y"
        }
       ],
       "layout": {
        "annotations": [
         {
          "font": {},
          "showarrow": false,
          "text": "Band=high_gamma",
          "textangle": 90,
          "x": 0.98,
          "xanchor": "left",
          "xref": "paper",
          "y": 0.05111111111111111,
          "yanchor": "middle",
          "yref": "paper"
         },
         {
          "font": {},
          "showarrow": false,
          "text": "Band=low_gamma",
          "textangle": 90,
          "x": 0.98,
          "xanchor": "left",
          "xref": "paper",
          "y": 0.16333333333333333,
          "yanchor": "middle",
          "yref": "paper"
         },
         {
          "font": {},
          "showarrow": false,
          "text": "Band=beta",
          "textangle": 90,
          "x": 0.98,
          "xanchor": "left",
          "xref": "paper",
          "y": 0.27555555555555555,
          "yanchor": "middle",
          "yref": "paper"
         },
         {
          "font": {},
          "showarrow": false,
          "text": "Band=sigma",
          "textangle": 90,
          "x": 0.98,
          "xanchor": "left",
          "xref": "paper",
          "y": 0.3877777777777778,
          "yanchor": "middle",
          "yref": "paper"
         },
         {
          "font": {},
          "showarrow": false,
          "text": "Band=alpha",
          "textangle": 90,
          "x": 0.98,
          "xanchor": "left",
          "xref": "paper",
          "y": 0.5,
          "yanchor": "middle",
          "yref": "paper"
         },
         {
          "font": {},
          "showarrow": false,
          "text": "Band=theta",
          "textangle": 90,
          "x": 0.98,
          "xanchor": "left",
          "xref": "paper",
          "y": 0.6122222222222222,
          "yanchor": "middle",
          "yref": "paper"
         },
         {
          "font": {},
          "showarrow": false,
          "text": "Band=delta2",
          "textangle": 90,
          "x": 0.98,
          "xanchor": "left",
          "xref": "paper",
          "y": 0.7244444444444444,
          "yanchor": "middle",
          "yref": "paper"
         },
         {
          "font": {},
          "showarrow": false,
          "text": "Band=delta1",
          "textangle": 90,
          "x": 0.98,
          "xanchor": "left",
          "xref": "paper",
          "y": 0.8366666666666667,
          "yanchor": "middle",
          "yref": "paper"
         },
         {
          "font": {},
          "showarrow": false,
          "text": "Band=delta",
          "textangle": 90,
          "x": 0.98,
          "xanchor": "left",
          "xref": "paper",
          "y": 0.9488888888888888,
          "yanchor": "middle",
          "yref": "paper"
         }
        ],
        "barmode": "group",
        "font": {
         "color": "black",
         "size": 18
        },
        "height": 1800,
        "legend": {
         "title": {
          "text": "store"
         },
         "tracegroupgap": 0
        },
        "template": {
         "data": {
          "bar": [
           {
            "error_x": {
             "color": "#2a3f5f"
            },
            "error_y": {
             "color": "#2a3f5f"
            },
            "marker": {
             "line": {
              "color": "white",
              "width": 0.5
             },
             "pattern": {
              "fillmode": "overlay",
              "size": 10,
              "solidity": 0.2
             }
            },
            "type": "bar"
           }
          ],
          "barpolar": [
           {
            "marker": {
             "line": {
              "color": "white",
              "width": 0.5
             },
             "pattern": {
              "fillmode": "overlay",
              "size": 10,
              "solidity": 0.2
             }
            },
            "type": "barpolar"
           }
          ],
          "carpet": [
           {
            "aaxis": {
             "endlinecolor": "#2a3f5f",
             "gridcolor": "#C8D4E3",
             "linecolor": "#C8D4E3",
             "minorgridcolor": "#C8D4E3",
             "startlinecolor": "#2a3f5f"
            },
            "baxis": {
             "endlinecolor": "#2a3f5f",
             "gridcolor": "#C8D4E3",
             "linecolor": "#C8D4E3",
             "minorgridcolor": "#C8D4E3",
             "startlinecolor": "#2a3f5f"
            },
            "type": "carpet"
           }
          ],
          "choropleth": [
           {
            "colorbar": {
             "outlinewidth": 0,
             "ticks": ""
            },
            "type": "choropleth"
           }
          ],
          "contour": [
           {
            "colorbar": {
             "outlinewidth": 0,
             "ticks": ""
            },
            "colorscale": [
             [
              0,
              "#0d0887"
             ],
             [
              0.1111111111111111,
              "#46039f"
             ],
             [
              0.2222222222222222,
              "#7201a8"
             ],
             [
              0.3333333333333333,
              "#9c179e"
             ],
             [
              0.4444444444444444,
              "#bd3786"
             ],
             [
              0.5555555555555556,
              "#d8576b"
             ],
             [
              0.6666666666666666,
              "#ed7953"
             ],
             [
              0.7777777777777778,
              "#fb9f3a"
             ],
             [
              0.8888888888888888,
              "#fdca26"
             ],
             [
              1,
              "#f0f921"
             ]
            ],
            "type": "contour"
           }
          ],
          "contourcarpet": [
           {
            "colorbar": {
             "outlinewidth": 0,
             "ticks": ""
            },
            "type": "contourcarpet"
           }
          ],
          "heatmap": [
           {
            "colorbar": {
             "outlinewidth": 0,
             "ticks": ""
            },
            "colorscale": [
             [
              0,
              "#0d0887"
             ],
             [
              0.1111111111111111,
              "#46039f"
             ],
             [
              0.2222222222222222,
              "#7201a8"
             ],
             [
              0.3333333333333333,
              "#9c179e"
             ],
             [
              0.4444444444444444,
              "#bd3786"
             ],
             [
              0.5555555555555556,
              "#d8576b"
             ],
             [
              0.6666666666666666,
              "#ed7953"
             ],
             [
              0.7777777777777778,
              "#fb9f3a"
             ],
             [
              0.8888888888888888,
              "#fdca26"
             ],
             [
              1,
              "#f0f921"
             ]
            ],
            "type": "heatmap"
           }
          ],
          "heatmapgl": [
           {
            "colorbar": {
             "outlinewidth": 0,
             "ticks": ""
            },
            "colorscale": [
             [
              0,
              "#0d0887"
             ],
             [
              0.1111111111111111,
              "#46039f"
             ],
             [
              0.2222222222222222,
              "#7201a8"
             ],
             [
              0.3333333333333333,
              "#9c179e"
             ],
             [
              0.4444444444444444,
              "#bd3786"
             ],
             [
              0.5555555555555556,
              "#d8576b"
             ],
             [
              0.6666666666666666,
              "#ed7953"
             ],
             [
              0.7777777777777778,
              "#fb9f3a"
             ],
             [
              0.8888888888888888,
              "#fdca26"
             ],
             [
              1,
              "#f0f921"
             ]
            ],
            "type": "heatmapgl"
           }
          ],
          "histogram": [
           {
            "marker": {
             "pattern": {
              "fillmode": "overlay",
              "size": 10,
              "solidity": 0.2
             }
            },
            "type": "histogram"
           }
          ],
          "histogram2d": [
           {
            "colorbar": {
             "outlinewidth": 0,
             "ticks": ""
            },
            "colorscale": [
             [
              0,
              "#0d0887"
             ],
             [
              0.1111111111111111,
              "#46039f"
             ],
             [
              0.2222222222222222,
              "#7201a8"
             ],
             [
              0.3333333333333333,
              "#9c179e"
             ],
             [
              0.4444444444444444,
              "#bd3786"
             ],
             [
              0.5555555555555556,
              "#d8576b"
             ],
             [
              0.6666666666666666,
              "#ed7953"
             ],
             [
              0.7777777777777778,
              "#fb9f3a"
             ],
             [
              0.8888888888888888,
              "#fdca26"
             ],
             [
              1,
              "#f0f921"
             ]
            ],
            "type": "histogram2d"
           }
          ],
          "histogram2dcontour": [
           {
            "colorbar": {
             "outlinewidth": 0,
             "ticks": ""
            },
            "colorscale": [
             [
              0,
              "#0d0887"
             ],
             [
              0.1111111111111111,
              "#46039f"
             ],
             [
              0.2222222222222222,
              "#7201a8"
             ],
             [
              0.3333333333333333,
              "#9c179e"
             ],
             [
              0.4444444444444444,
              "#bd3786"
             ],
             [
              0.5555555555555556,
              "#d8576b"
             ],
             [
              0.6666666666666666,
              "#ed7953"
             ],
             [
              0.7777777777777778,
              "#fb9f3a"
             ],
             [
              0.8888888888888888,
              "#fdca26"
             ],
             [
              1,
              "#f0f921"
             ]
            ],
            "type": "histogram2dcontour"
           }
          ],
          "mesh3d": [
           {
            "colorbar": {
             "outlinewidth": 0,
             "ticks": ""
            },
            "type": "mesh3d"
           }
          ],
          "parcoords": [
           {
            "line": {
             "colorbar": {
              "outlinewidth": 0,
              "ticks": ""
             }
            },
            "type": "parcoords"
           }
          ],
          "pie": [
           {
            "automargin": true,
            "type": "pie"
           }
          ],
          "scatter": [
           {
            "fillpattern": {
             "fillmode": "overlay",
             "size": 10,
             "solidity": 0.2
            },
            "type": "scatter"
           }
          ],
          "scatter3d": [
           {
            "line": {
             "colorbar": {
              "outlinewidth": 0,
              "ticks": ""
             }
            },
            "marker": {
             "colorbar": {
              "outlinewidth": 0,
              "ticks": ""
             }
            },
            "type": "scatter3d"
           }
          ],
          "scattercarpet": [
           {
            "marker": {
             "colorbar": {
              "outlinewidth": 0,
              "ticks": ""
             }
            },
            "type": "scattercarpet"
           }
          ],
          "scattergeo": [
           {
            "marker": {
             "colorbar": {
              "outlinewidth": 0,
              "ticks": ""
             }
            },
            "type": "scattergeo"
           }
          ],
          "scattergl": [
           {
            "marker": {
             "colorbar": {
              "outlinewidth": 0,
              "ticks": ""
             }
            },
            "type": "scattergl"
           }
          ],
          "scattermapbox": [
           {
            "marker": {
             "colorbar": {
              "outlinewidth": 0,
              "ticks": ""
             }
            },
            "type": "scattermapbox"
           }
          ],
          "scatterpolar": [
           {
            "marker": {
             "colorbar": {
              "outlinewidth": 0,
              "ticks": ""
             }
            },
            "type": "scatterpolar"
           }
          ],
          "scatterpolargl": [
           {
            "marker": {
             "colorbar": {
              "outlinewidth": 0,
              "ticks": ""
             }
            },
            "type": "scatterpolargl"
           }
          ],
          "scatterternary": [
           {
            "marker": {
             "colorbar": {
              "outlinewidth": 0,
              "ticks": ""
             }
            },
            "type": "scatterternary"
           }
          ],
          "surface": [
           {
            "colorbar": {
             "outlinewidth": 0,
             "ticks": ""
            },
            "colorscale": [
             [
              0,
              "#0d0887"
             ],
             [
              0.1111111111111111,
              "#46039f"
             ],
             [
              0.2222222222222222,
              "#7201a8"
             ],
             [
              0.3333333333333333,
              "#9c179e"
             ],
             [
              0.4444444444444444,
              "#bd3786"
             ],
             [
              0.5555555555555556,
              "#d8576b"
             ],
             [
              0.6666666666666666,
              "#ed7953"
             ],
             [
              0.7777777777777778,
              "#fb9f3a"
             ],
             [
              0.8888888888888888,
              "#fdca26"
             ],
             [
              1,
              "#f0f921"
             ]
            ],
            "type": "surface"
           }
          ],
          "table": [
           {
            "cells": {
             "fill": {
              "color": "#EBF0F8"
             },
             "line": {
              "color": "white"
             }
            },
            "header": {
             "fill": {
              "color": "#C8D4E3"
             },
             "line": {
              "color": "white"
             }
            },
            "type": "table"
           }
          ]
         },
         "layout": {
          "annotationdefaults": {
           "arrowcolor": "#2a3f5f",
           "arrowhead": 0,
           "arrowwidth": 1
          },
          "autotypenumbers": "strict",
          "coloraxis": {
           "colorbar": {
            "outlinewidth": 0,
            "ticks": ""
           }
          },
          "colorscale": {
           "diverging": [
            [
             0,
             "#8e0152"
            ],
            [
             0.1,
             "#c51b7d"
            ],
            [
             0.2,
             "#de77ae"
            ],
            [
             0.3,
             "#f1b6da"
            ],
            [
             0.4,
             "#fde0ef"
            ],
            [
             0.5,
             "#f7f7f7"
            ],
            [
             0.6,
             "#e6f5d0"
            ],
            [
             0.7,
             "#b8e186"
            ],
            [
             0.8,
             "#7fbc41"
            ],
            [
             0.9,
             "#4d9221"
            ],
            [
             1,
             "#276419"
            ]
           ],
           "sequential": [
            [
             0,
             "#0d0887"
            ],
            [
             0.1111111111111111,
             "#46039f"
            ],
            [
             0.2222222222222222,
             "#7201a8"
            ],
            [
             0.3333333333333333,
             "#9c179e"
            ],
            [
             0.4444444444444444,
             "#bd3786"
            ],
            [
             0.5555555555555556,
             "#d8576b"
            ],
            [
             0.6666666666666666,
             "#ed7953"
            ],
            [
             0.7777777777777778,
             "#fb9f3a"
            ],
            [
             0.8888888888888888,
             "#fdca26"
            ],
            [
             1,
             "#f0f921"
            ]
           ],
           "sequentialminus": [
            [
             0,
             "#0d0887"
            ],
            [
             0.1111111111111111,
             "#46039f"
            ],
            [
             0.2222222222222222,
             "#7201a8"
            ],
            [
             0.3333333333333333,
             "#9c179e"
            ],
            [
             0.4444444444444444,
             "#bd3786"
            ],
            [
             0.5555555555555556,
             "#d8576b"
            ],
            [
             0.6666666666666666,
             "#ed7953"
            ],
            [
             0.7777777777777778,
             "#fb9f3a"
            ],
            [
             0.8888888888888888,
             "#fdca26"
            ],
            [
             1,
             "#f0f921"
            ]
           ]
          },
          "colorway": [
           "#636efa",
           "#EF553B",
           "#00cc96",
           "#ab63fa",
           "#FFA15A",
           "#19d3f3",
           "#FF6692",
           "#B6E880",
           "#FF97FF",
           "#FECB52"
          ],
          "font": {
           "color": "#2a3f5f"
          },
          "geo": {
           "bgcolor": "white",
           "lakecolor": "white",
           "landcolor": "white",
           "showlakes": true,
           "showland": true,
           "subunitcolor": "#C8D4E3"
          },
          "hoverlabel": {
           "align": "left"
          },
          "hovermode": "closest",
          "mapbox": {
           "style": "light"
          },
          "paper_bgcolor": "white",
          "plot_bgcolor": "white",
          "polar": {
           "angularaxis": {
            "gridcolor": "#EBF0F8",
            "linecolor": "#EBF0F8",
            "ticks": ""
           },
           "bgcolor": "white",
           "radialaxis": {
            "gridcolor": "#EBF0F8",
            "linecolor": "#EBF0F8",
            "ticks": ""
           }
          },
          "scene": {
           "xaxis": {
            "backgroundcolor": "white",
            "gridcolor": "#DFE8F3",
            "gridwidth": 2,
            "linecolor": "#EBF0F8",
            "showbackground": true,
            "ticks": "",
            "zerolinecolor": "#EBF0F8"
           },
           "yaxis": {
            "backgroundcolor": "white",
            "gridcolor": "#DFE8F3",
            "gridwidth": 2,
            "linecolor": "#EBF0F8",
            "showbackground": true,
            "ticks": "",
            "zerolinecolor": "#EBF0F8"
           },
           "zaxis": {
            "backgroundcolor": "white",
            "gridcolor": "#DFE8F3",
            "gridwidth": 2,
            "linecolor": "#EBF0F8",
            "showbackground": true,
            "ticks": "",
            "zerolinecolor": "#EBF0F8"
           }
          },
          "shapedefaults": {
           "line": {
            "color": "#2a3f5f"
           }
          },
          "ternary": {
           "aaxis": {
            "gridcolor": "#DFE8F3",
            "linecolor": "#A2B1C6",
            "ticks": ""
           },
           "baxis": {
            "gridcolor": "#DFE8F3",
            "linecolor": "#A2B1C6",
            "ticks": ""
           },
           "bgcolor": "white",
           "caxis": {
            "gridcolor": "#DFE8F3",
            "linecolor": "#A2B1C6",
            "ticks": ""
           }
          },
          "title": {
           "x": 0.05
          },
          "xaxis": {
           "automargin": true,
           "gridcolor": "#EBF0F8",
           "linecolor": "#EBF0F8",
           "ticks": "",
           "title": {
            "standoff": 15
           },
           "zerolinecolor": "#EBF0F8",
           "zerolinewidth": 2
          },
          "yaxis": {
           "automargin": true,
           "gridcolor": "#EBF0F8",
           "linecolor": "#EBF0F8",
           "ticks": "",
           "title": {
            "standoff": 15
           },
           "zerolinecolor": "#EBF0F8",
           "zerolinewidth": 2
          }
         }
        },
        "title": {
         "font": {
          "size": 28
         },
         "text": "ACR_26 | swi | Median Bandpower"
        },
        "width": 1800,
        "xaxis": {
         "anchor": "y",
         "domain": [
          0,
          0.98
         ],
         "title": {
          "text": "channel"
         }
        },
        "xaxis2": {
         "anchor": "y2",
         "domain": [
          0,
          0.98
         ],
         "matches": "x",
         "showticklabels": false
        },
        "xaxis3": {
         "anchor": "y3",
         "domain": [
          0,
          0.98
         ],
         "matches": "x",
         "showticklabels": false
        },
        "xaxis4": {
         "anchor": "y4",
         "domain": [
          0,
          0.98
         ],
         "matches": "x",
         "showticklabels": false
        },
        "xaxis5": {
         "anchor": "y5",
         "domain": [
          0,
          0.98
         ],
         "matches": "x",
         "showticklabels": false
        },
        "xaxis6": {
         "anchor": "y6",
         "domain": [
          0,
          0.98
         ],
         "matches": "x",
         "showticklabels": false
        },
        "xaxis7": {
         "anchor": "y7",
         "domain": [
          0,
          0.98
         ],
         "matches": "x",
         "showticklabels": false
        },
        "xaxis8": {
         "anchor": "y8",
         "domain": [
          0,
          0.98
         ],
         "matches": "x",
         "showticklabels": false
        },
        "xaxis9": {
         "anchor": "y9",
         "domain": [
          0,
          0.98
         ],
         "matches": "x",
         "showticklabels": false
        },
        "yaxis": {
         "anchor": "x",
         "domain": [
          0,
          0.10222222222222221
         ],
         "title": {
          "text": "Bandpower"
         }
        },
        "yaxis2": {
         "anchor": "x2",
         "domain": [
          0.11222222222222221,
          0.21444444444444444
         ],
         "title": {
          "text": "Bandpower"
         }
        },
        "yaxis3": {
         "anchor": "x3",
         "domain": [
          0.22444444444444442,
          0.32666666666666666
         ],
         "title": {
          "text": "Bandpower"
         }
        },
        "yaxis4": {
         "anchor": "x4",
         "domain": [
          0.33666666666666667,
          0.4388888888888889
         ],
         "title": {
          "text": "Bandpower"
         }
        },
        "yaxis5": {
         "anchor": "x5",
         "domain": [
          0.44888888888888884,
          0.5511111111111111
         ],
         "title": {
          "text": "Bandpower"
         }
        },
        "yaxis6": {
         "anchor": "x6",
         "domain": [
          0.5611111111111111,
          0.6633333333333333
         ],
         "title": {
          "text": "Bandpower"
         }
        },
        "yaxis7": {
         "anchor": "x7",
         "domain": [
          0.6733333333333333,
          0.7755555555555556
         ],
         "title": {
          "text": "Bandpower"
         }
        },
        "yaxis8": {
         "anchor": "x8",
         "domain": [
          0.7855555555555556,
          0.8877777777777778
         ],
         "title": {
          "text": "Bandpower"
         }
        },
        "yaxis9": {
         "anchor": "x9",
         "domain": [
          0.8977777777777777,
          0.9999999999999999
         ],
         "title": {
          "text": "Bandpower"
         }
        }
       }
      },
      "text/html": [
       "<div>                            <div id=\"740e4fbb-1959-4db1-af0e-07fd16138ab8\" class=\"plotly-graph-div\" style=\"height:1800px; width:1800px;\"></div>            <script type=\"text/javascript\">                require([\"plotly\"], function(Plotly) {                    window.PLOTLYENV=window.PLOTLYENV || {};                                    if (document.getElementById(\"740e4fbb-1959-4db1-af0e-07fd16138ab8\")) {                    Plotly.newPlot(                        \"740e4fbb-1959-4db1-af0e-07fd16138ab8\",                        [{\"alignmentgroup\":\"True\",\"hovertemplate\":\"store=NNXo\\u003cbr\\u003eBand=delta\\u003cbr\\u003echannel=%{x}\\u003cbr\\u003eBandpower=%{y}\\u003cextra\\u003e\\u003c\\u002fextra\\u003e\",\"legendgroup\":\"NNXo\",\"marker\":{\"color\":\"royalblue\",\"pattern\":{\"shape\":\"\"}},\"name\":\"NNXo\",\"offsetgroup\":\"NNXo\",\"orientation\":\"v\",\"showlegend\":true,\"textposition\":\"auto\",\"x\":[1,2,3,4,5,6,7,8,9,10,11,12,13,14,15,16],\"xaxis\":\"x9\",\"y\":[69695.5703125,64279.68359375,68844.421875,72062.6796875,84897.421875,96263.0546875,120403.0625,116971.9140625,35060.23828125,35418.296875,34358.15625,24399.28125,34555.94921875,27223.2109375,72175.71875,41880.62890625],\"yaxis\":\"y9\",\"type\":\"bar\"},{\"alignmentgroup\":\"True\",\"hovertemplate\":\"store=NNXo\\u003cbr\\u003eBand=delta1\\u003cbr\\u003echannel=%{x}\\u003cbr\\u003eBandpower=%{y}\\u003cextra\\u003e\\u003c\\u002fextra\\u003e\",\"legendgroup\":\"NNXo\",\"marker\":{\"color\":\"royalblue\",\"pattern\":{\"shape\":\"\"}},\"name\":\"NNXo\",\"offsetgroup\":\"NNXo\",\"orientation\":\"v\",\"showlegend\":false,\"textposition\":\"auto\",\"x\":[1,2,3,4,5,6,7,8,9,10,11,12,13,14,15,16],\"xaxis\":\"x8\",\"y\":[30087.974609375,27105.576171875,30538.060546875,31437.080078125,37535.75,43924.86328125,57179.8125,54444.49609375,17190.720703125,21644.01171875,17146.83203125,11714.49609375,17295.384765625,12936.365234375,35467.7421875,21012.037109375],\"yaxis\":\"y8\",\"type\":\"bar\"},{\"alignmentgroup\":\"True\",\"hovertemplate\":\"store=NNXo\\u003cbr\\u003eBand=delta2\\u003cbr\\u003echannel=%{x}\\u003cbr\\u003eBandpower=%{y}\\u003cextra\\u003e\\u003c\\u002fextra\\u003e\",\"legendgroup\":\"NNXo\",\"marker\":{\"color\":\"royalblue\",\"pattern\":{\"shape\":\"\"}},\"name\":\"NNXo\",\"offsetgroup\":\"NNXo\",\"orientation\":\"v\",\"showlegend\":false,\"textposition\":\"auto\",\"x\":[1,2,3,4,5,6,7,8,9,10,11,12,13,14,15,16],\"xaxis\":\"x7\",\"y\":[31188.826171875,29655.283203125,31089.3046875,31737.283203125,37832.00390625,41204.32421875,51294.67578125,48707.92578125,11908.8583984375,10865.013671875,11460.220703125,9789.5205078125,11457.3857421875,10769.7685546875,22795.400390625,15076.6630859375],\"yaxis\":\"y7\",\"type\":\"bar\"},{\"alignmentgroup\":\"True\",\"hovertemplate\":\"store=NNXo\\u003cbr\\u003eBand=theta\\u003cbr\\u003echannel=%{x}\\u003cbr\\u003eBandpower=%{y}\\u003cextra\\u003e\\u003c\\u002fextra\\u003e\",\"legendgroup\":\"NNXo\",\"marker\":{\"color\":\"royalblue\",\"pattern\":{\"shape\":\"\"}},\"name\":\"NNXo\",\"offsetgroup\":\"NNXo\",\"orientation\":\"v\",\"showlegend\":false,\"textposition\":\"auto\",\"x\":[1,2,3,4,5,6,7,8,9,10,11,12,13,14,15,16],\"xaxis\":\"x6\",\"y\":[31911.958984375,33123.76953125,35449.5546875,36816.5234375,42035.99609375,44346.00390625,49354.37890625,44631.07421875,21654.00390625,20355.7109375,19976.99609375,19452.294921875,20263.25,20808.8125,24767.755859375,22729.416015625],\"yaxis\":\"y6\",\"type\":\"bar\"},{\"alignmentgroup\":\"True\",\"hovertemplate\":\"store=NNXo\\u003cbr\\u003eBand=alpha\\u003cbr\\u003echannel=%{x}\\u003cbr\\u003eBandpower=%{y}\\u003cextra\\u003e\\u003c\\u002fextra\\u003e\",\"legendgroup\":\"NNXo\",\"marker\":{\"color\":\"royalblue\",\"pattern\":{\"shape\":\"\"}},\"name\":\"NNXo\",\"offsetgroup\":\"NNXo\",\"orientation\":\"v\",\"showlegend\":false,\"textposition\":\"auto\",\"x\":[1,2,3,4,5,6,7,8,9,10,11,12,13,14,15,16],\"xaxis\":\"x5\",\"y\":[17943.599609375,18839.03515625,20163.775390625,20623.4453125,23571.361328125,23798.001953125,26820.533203125,21985.08203125,16256.5673828125,15314.1728515625,14969.4443359375,14524.7060546875,14720.0908203125,14602.1484375,14676.4130859375,13614.701171875],\"yaxis\":\"y5\",\"type\":\"bar\"},{\"alignmentgroup\":\"True\",\"hovertemplate\":\"store=NNXo\\u003cbr\\u003eBand=sigma\\u003cbr\\u003echannel=%{x}\\u003cbr\\u003eBandpower=%{y}\\u003cextra\\u003e\\u003c\\u002fextra\\u003e\",\"legendgroup\":\"NNXo\",\"marker\":{\"color\":\"royalblue\",\"pattern\":{\"shape\":\"\"}},\"name\":\"NNXo\",\"offsetgroup\":\"NNXo\",\"orientation\":\"v\",\"showlegend\":false,\"textposition\":\"auto\",\"x\":[1,2,3,4,5,6,7,8,9,10,11,12,13,14,15,16],\"xaxis\":\"x4\",\"y\":[9421.8115234375,10035.5654296875,10867.18359375,10825.2734375,13275.3056640625,13041.646484375,15078.5712890625,11404.7841796875,6292.5419921875,5726.201171875,5389.3134765625,5191.14990234375,5257.2646484375,5298.55322265625,5726.5859375,5248.42529296875],\"yaxis\":\"y4\",\"type\":\"bar\"},{\"alignmentgroup\":\"True\",\"hovertemplate\":\"store=NNXo\\u003cbr\\u003eBand=beta\\u003cbr\\u003echannel=%{x}\\u003cbr\\u003eBandpower=%{y}\\u003cextra\\u003e\\u003c\\u002fextra\\u003e\",\"legendgroup\":\"NNXo\",\"marker\":{\"color\":\"royalblue\",\"pattern\":{\"shape\":\"\"}},\"name\":\"NNXo\",\"offsetgroup\":\"NNXo\",\"orientation\":\"v\",\"showlegend\":false,\"textposition\":\"auto\",\"x\":[1,2,3,4,5,6,7,8,9,10,11,12,13,14,15,16],\"xaxis\":\"x3\",\"y\":[13272.443359375,13977.5263671875,14879.654296875,15096.1943359375,18095.5,18150.1875,20210.23828125,15540.6533203125,9471.7919921875,8074.3056640625,7605.84912109375,7037.8623046875,7322.27734375,7193.77587890625,8177.96484375,7172.82470703125],\"yaxis\":\"y3\",\"type\":\"bar\"},{\"alignmentgroup\":\"True\",\"hovertemplate\":\"store=NNXo\\u003cbr\\u003eBand=low_gamma\\u003cbr\\u003echannel=%{x}\\u003cbr\\u003eBandpower=%{y}\\u003cextra\\u003e\\u003c\\u002fextra\\u003e\",\"legendgroup\":\"NNXo\",\"marker\":{\"color\":\"royalblue\",\"pattern\":{\"shape\":\"\"}},\"name\":\"NNXo\",\"offsetgroup\":\"NNXo\",\"orientation\":\"v\",\"showlegend\":false,\"textposition\":\"auto\",\"x\":[1,2,3,4,5,6,7,8,9,10,11,12,13,14,15,16],\"xaxis\":\"x2\",\"y\":[6844.65966796875,6939.22021484375,7040.43896484375,7622.724609375,8091.93212890625,8649.138671875,8686.181640625,7418.13671875,5954.0498046875,5145.056640625,4826.6201171875,4739.783203125,5024.63427734375,4931.91650390625,4873.76318359375,4741.15478515625],\"yaxis\":\"y2\",\"type\":\"bar\"},{\"alignmentgroup\":\"True\",\"hovertemplate\":\"store=NNXo\\u003cbr\\u003eBand=high_gamma\\u003cbr\\u003echannel=%{x}\\u003cbr\\u003eBandpower=%{y}\\u003cextra\\u003e\\u003c\\u002fextra\\u003e\",\"legendgroup\":\"NNXo\",\"marker\":{\"color\":\"royalblue\",\"pattern\":{\"shape\":\"\"}},\"name\":\"NNXo\",\"offsetgroup\":\"NNXo\",\"orientation\":\"v\",\"showlegend\":false,\"textposition\":\"auto\",\"x\":[1,2,3,4,5,6,7,8,9,10,11,12,13,14,15,16],\"xaxis\":\"x\",\"y\":[1788.53466796875,1879.4755859375,1986.8212890625,2225.912841796875,2329.248291015625,2573.310791015625,2557.177490234375,2214.2666015625,1785.2313232421875,1774.2476806640625,2071.505126953125,2238.92919921875,2515.64501953125,2027.5164794921875,1636.347900390625,1396.4259033203125],\"yaxis\":\"y\",\"type\":\"bar\"},{\"alignmentgroup\":\"True\",\"hovertemplate\":\"store=NNXr\\u003cbr\\u003eBand=delta\\u003cbr\\u003echannel=%{x}\\u003cbr\\u003eBandpower=%{y}\\u003cextra\\u003e\\u003c\\u002fextra\\u003e\",\"legendgroup\":\"NNXr\",\"marker\":{\"color\":\"darkred\",\"pattern\":{\"shape\":\"\"}},\"name\":\"NNXr\",\"offsetgroup\":\"NNXr\",\"orientation\":\"v\",\"showlegend\":true,\"textposition\":\"auto\",\"x\":[1,2,3,4,5,6,7,8,9,10,11,12,13,14,15,16],\"xaxis\":\"x9\",\"y\":[34066.10546875,38405.02734375,36131.4375,49428.671875,44239.3828125,61692.54296875,39190.96875,72859.4453125,22704.478515625,23107.162109375,22386.09375,26891.013671875,22402.796875,26636.193359375,21894.8671875,44628.48828125],\"yaxis\":\"y9\",\"type\":\"bar\"},{\"alignmentgroup\":\"True\",\"hovertemplate\":\"store=NNXr\\u003cbr\\u003eBand=delta1\\u003cbr\\u003echannel=%{x}\\u003cbr\\u003eBandpower=%{y}\\u003cextra\\u003e\\u003c\\u002fextra\\u003e\",\"legendgroup\":\"NNXr\",\"marker\":{\"color\":\"darkred\",\"pattern\":{\"shape\":\"\"}},\"name\":\"NNXr\",\"offsetgroup\":\"NNXr\",\"orientation\":\"v\",\"showlegend\":false,\"textposition\":\"auto\",\"x\":[1,2,3,4,5,6,7,8,9,10,11,12,13,14,15,16],\"xaxis\":\"x8\",\"y\":[15244.8984375,17560.2421875,15443.267578125,23415.529296875,22770.30859375,34687.83984375,21759.181640625,33256.18359375,11646.9560546875,11438.6455078125,10301.4091796875,13537.201171875,9962.5302734375,12355.8427734375,9456.318359375,19118.869140625],\"yaxis\":\"y8\",\"type\":\"bar\"},{\"alignmentgroup\":\"True\",\"hovertemplate\":\"store=NNXr\\u003cbr\\u003eBand=delta2\\u003cbr\\u003echannel=%{x}\\u003cbr\\u003eBandpower=%{y}\\u003cextra\\u003e\\u003c\\u002fextra\\u003e\",\"legendgroup\":\"NNXr\",\"marker\":{\"color\":\"darkred\",\"pattern\":{\"shape\":\"\"}},\"name\":\"NNXr\",\"offsetgroup\":\"NNXr\",\"orientation\":\"v\",\"showlegend\":false,\"textposition\":\"auto\",\"x\":[1,2,3,4,5,6,7,8,9,10,11,12,13,14,15,16],\"xaxis\":\"x7\",\"y\":[12241.53515625,13664.7568359375,13824.1396484375,17991.708984375,15201.998046875,19347.541015625,13099.123046875,27338.25390625,9446.59375,9351.7373046875,9578.3408203125,10078.0478515625,9792.4013671875,10456.212890625,9211.6748046875,15985.7919921875],\"yaxis\":\"y7\",\"type\":\"bar\"},{\"alignmentgroup\":\"True\",\"hovertemplate\":\"store=NNXr\\u003cbr\\u003eBand=theta\\u003cbr\\u003echannel=%{x}\\u003cbr\\u003eBandpower=%{y}\\u003cextra\\u003e\\u003c\\u002fextra\\u003e\",\"legendgroup\":\"NNXr\",\"marker\":{\"color\":\"darkred\",\"pattern\":{\"shape\":\"\"}},\"name\":\"NNXr\",\"offsetgroup\":\"NNXr\",\"orientation\":\"v\",\"showlegend\":false,\"textposition\":\"auto\",\"x\":[1,2,3,4,5,6,7,8,9,10,11,12,13,14,15,16],\"xaxis\":\"x6\",\"y\":[24365.98046875,26336.392578125,27408.595703125,29836.45703125,27529.7578125,28597.037109375,25092.1015625,32596.75390625,23316.1171875,23117.908203125,23807.619140625,24057.001953125,24149.3125,24035.591796875,23724.548828125,25762.72265625],\"yaxis\":\"y6\",\"type\":\"bar\"},{\"alignmentgroup\":\"True\",\"hovertemplate\":\"store=NNXr\\u003cbr\\u003eBand=alpha\\u003cbr\\u003echannel=%{x}\\u003cbr\\u003eBandpower=%{y}\\u003cextra\\u003e\\u003c\\u002fextra\\u003e\",\"legendgroup\":\"NNXr\",\"marker\":{\"color\":\"darkred\",\"pattern\":{\"shape\":\"\"}},\"name\":\"NNXr\",\"offsetgroup\":\"NNXr\",\"orientation\":\"v\",\"showlegend\":false,\"textposition\":\"auto\",\"x\":[1,2,3,4,5,6,7,8,9,10,11,12,13,14,15,16],\"xaxis\":\"x5\",\"y\":[16391.78125,17377.67578125,18155.013671875,18944.958984375,18159.314453125,17156.54296875,16608.275390625,16764.6484375,15627.64453125,15041.8876953125,15153.466796875,14980.220703125,14553.9501953125,13993.1875,13663.3125,13805.326171875],\"yaxis\":\"y5\",\"type\":\"bar\"},{\"alignmentgroup\":\"True\",\"hovertemplate\":\"store=NNXr\\u003cbr\\u003eBand=sigma\\u003cbr\\u003echannel=%{x}\\u003cbr\\u003eBandpower=%{y}\\u003cextra\\u003e\\u003c\\u002fextra\\u003e\",\"legendgroup\":\"NNXr\",\"marker\":{\"color\":\"darkred\",\"pattern\":{\"shape\":\"\"}},\"name\":\"NNXr\",\"offsetgroup\":\"NNXr\",\"orientation\":\"v\",\"showlegend\":false,\"textposition\":\"auto\",\"x\":[1,2,3,4,5,6,7,8,9,10,11,12,13,14,15,16],\"xaxis\":\"x4\",\"y\":[6738.94482421875,7344.30224609375,7873.8369140625,8240.1533203125,7682.73046875,7148.28515625,6605.94482421875,7025.732421875,5920.697265625,5681.59765625,5708.05712890625,5683.19775390625,5588.4013671875,5535.33935546875,5558.9677734375,5879.1982421875],\"yaxis\":\"y4\",\"type\":\"bar\"},{\"alignmentgroup\":\"True\",\"hovertemplate\":\"store=NNXr\\u003cbr\\u003eBand=beta\\u003cbr\\u003echannel=%{x}\\u003cbr\\u003eBandpower=%{y}\\u003cextra\\u003e\\u003c\\u002fextra\\u003e\",\"legendgroup\":\"NNXr\",\"marker\":{\"color\":\"darkred\",\"pattern\":{\"shape\":\"\"}},\"name\":\"NNXr\",\"offsetgroup\":\"NNXr\",\"orientation\":\"v\",\"showlegend\":false,\"textposition\":\"auto\",\"x\":[1,2,3,4,5,6,7,8,9,10,11,12,13,14,15,16],\"xaxis\":\"x3\",\"y\":[9695.763671875,10836.154296875,11803.966796875,12374.2646484375,11247.5537109375,10157.4365234375,9127.220703125,9388.650390625,7746.59619140625,7299.66357421875,7322.8115234375,7302.57666015625,7198.25830078125,7291.93798828125,7397.8671875,7970.0439453125],\"yaxis\":\"y3\",\"type\":\"bar\"},{\"alignmentgroup\":\"True\",\"hovertemplate\":\"store=NNXr\\u003cbr\\u003eBand=low_gamma\\u003cbr\\u003echannel=%{x}\\u003cbr\\u003eBandpower=%{y}\\u003cextra\\u003e\\u003c\\u002fextra\\u003e\",\"legendgroup\":\"NNXr\",\"marker\":{\"color\":\"darkred\",\"pattern\":{\"shape\":\"\"}},\"name\":\"NNXr\",\"offsetgroup\":\"NNXr\",\"orientation\":\"v\",\"showlegend\":false,\"textposition\":\"auto\",\"x\":[1,2,3,4,5,6,7,8,9,10,11,12,13,14,15,16],\"xaxis\":\"x2\",\"y\":[6247.17529296875,6918.3251953125,7587.59375,8081.9140625,7265.220703125,6199.1279296875,5612.93994140625,5049.73681640625,4656.0654296875,4345.96337890625,4383.89306640625,4272.95361328125,4182.859375,4113.828125,4083.5703125,4164.54052734375],\"yaxis\":\"y2\",\"type\":\"bar\"},{\"alignmentgroup\":\"True\",\"hovertemplate\":\"store=NNXr\\u003cbr\\u003eBand=high_gamma\\u003cbr\\u003echannel=%{x}\\u003cbr\\u003eBandpower=%{y}\\u003cextra\\u003e\\u003c\\u002fextra\\u003e\",\"legendgroup\":\"NNXr\",\"marker\":{\"color\":\"darkred\",\"pattern\":{\"shape\":\"\"}},\"name\":\"NNXr\",\"offsetgroup\":\"NNXr\",\"orientation\":\"v\",\"showlegend\":false,\"textposition\":\"auto\",\"x\":[1,2,3,4,5,6,7,8,9,10,11,12,13,14,15,16],\"xaxis\":\"x\",\"y\":[1881.3349609375,2185.58154296875,2428.788818359375,2671.779296875,2395.368408203125,1891.022216796875,1723.9029541015625,1712.130615234375,1903.8062744140625,2079.032958984375,1964.9703369140625,1528.6903076171875,1431.094970703125,1169.6512451171875,1037.8580322265625,973.76416015625],\"yaxis\":\"y\",\"type\":\"bar\"}],                        {\"template\":{\"data\":{\"barpolar\":[{\"marker\":{\"line\":{\"color\":\"white\",\"width\":0.5},\"pattern\":{\"fillmode\":\"overlay\",\"size\":10,\"solidity\":0.2}},\"type\":\"barpolar\"}],\"bar\":[{\"error_x\":{\"color\":\"#2a3f5f\"},\"error_y\":{\"color\":\"#2a3f5f\"},\"marker\":{\"line\":{\"color\":\"white\",\"width\":0.5},\"pattern\":{\"fillmode\":\"overlay\",\"size\":10,\"solidity\":0.2}},\"type\":\"bar\"}],\"carpet\":[{\"aaxis\":{\"endlinecolor\":\"#2a3f5f\",\"gridcolor\":\"#C8D4E3\",\"linecolor\":\"#C8D4E3\",\"minorgridcolor\":\"#C8D4E3\",\"startlinecolor\":\"#2a3f5f\"},\"baxis\":{\"endlinecolor\":\"#2a3f5f\",\"gridcolor\":\"#C8D4E3\",\"linecolor\":\"#C8D4E3\",\"minorgridcolor\":\"#C8D4E3\",\"startlinecolor\":\"#2a3f5f\"},\"type\":\"carpet\"}],\"choropleth\":[{\"colorbar\":{\"outlinewidth\":0,\"ticks\":\"\"},\"type\":\"choropleth\"}],\"contourcarpet\":[{\"colorbar\":{\"outlinewidth\":0,\"ticks\":\"\"},\"type\":\"contourcarpet\"}],\"contour\":[{\"colorbar\":{\"outlinewidth\":0,\"ticks\":\"\"},\"colorscale\":[[0.0,\"#0d0887\"],[0.1111111111111111,\"#46039f\"],[0.2222222222222222,\"#7201a8\"],[0.3333333333333333,\"#9c179e\"],[0.4444444444444444,\"#bd3786\"],[0.5555555555555556,\"#d8576b\"],[0.6666666666666666,\"#ed7953\"],[0.7777777777777778,\"#fb9f3a\"],[0.8888888888888888,\"#fdca26\"],[1.0,\"#f0f921\"]],\"type\":\"contour\"}],\"heatmapgl\":[{\"colorbar\":{\"outlinewidth\":0,\"ticks\":\"\"},\"colorscale\":[[0.0,\"#0d0887\"],[0.1111111111111111,\"#46039f\"],[0.2222222222222222,\"#7201a8\"],[0.3333333333333333,\"#9c179e\"],[0.4444444444444444,\"#bd3786\"],[0.5555555555555556,\"#d8576b\"],[0.6666666666666666,\"#ed7953\"],[0.7777777777777778,\"#fb9f3a\"],[0.8888888888888888,\"#fdca26\"],[1.0,\"#f0f921\"]],\"type\":\"heatmapgl\"}],\"heatmap\":[{\"colorbar\":{\"outlinewidth\":0,\"ticks\":\"\"},\"colorscale\":[[0.0,\"#0d0887\"],[0.1111111111111111,\"#46039f\"],[0.2222222222222222,\"#7201a8\"],[0.3333333333333333,\"#9c179e\"],[0.4444444444444444,\"#bd3786\"],[0.5555555555555556,\"#d8576b\"],[0.6666666666666666,\"#ed7953\"],[0.7777777777777778,\"#fb9f3a\"],[0.8888888888888888,\"#fdca26\"],[1.0,\"#f0f921\"]],\"type\":\"heatmap\"}],\"histogram2dcontour\":[{\"colorbar\":{\"outlinewidth\":0,\"ticks\":\"\"},\"colorscale\":[[0.0,\"#0d0887\"],[0.1111111111111111,\"#46039f\"],[0.2222222222222222,\"#7201a8\"],[0.3333333333333333,\"#9c179e\"],[0.4444444444444444,\"#bd3786\"],[0.5555555555555556,\"#d8576b\"],[0.6666666666666666,\"#ed7953\"],[0.7777777777777778,\"#fb9f3a\"],[0.8888888888888888,\"#fdca26\"],[1.0,\"#f0f921\"]],\"type\":\"histogram2dcontour\"}],\"histogram2d\":[{\"colorbar\":{\"outlinewidth\":0,\"ticks\":\"\"},\"colorscale\":[[0.0,\"#0d0887\"],[0.1111111111111111,\"#46039f\"],[0.2222222222222222,\"#7201a8\"],[0.3333333333333333,\"#9c179e\"],[0.4444444444444444,\"#bd3786\"],[0.5555555555555556,\"#d8576b\"],[0.6666666666666666,\"#ed7953\"],[0.7777777777777778,\"#fb9f3a\"],[0.8888888888888888,\"#fdca26\"],[1.0,\"#f0f921\"]],\"type\":\"histogram2d\"}],\"histogram\":[{\"marker\":{\"pattern\":{\"fillmode\":\"overlay\",\"size\":10,\"solidity\":0.2}},\"type\":\"histogram\"}],\"mesh3d\":[{\"colorbar\":{\"outlinewidth\":0,\"ticks\":\"\"},\"type\":\"mesh3d\"}],\"parcoords\":[{\"line\":{\"colorbar\":{\"outlinewidth\":0,\"ticks\":\"\"}},\"type\":\"parcoords\"}],\"pie\":[{\"automargin\":true,\"type\":\"pie\"}],\"scatter3d\":[{\"line\":{\"colorbar\":{\"outlinewidth\":0,\"ticks\":\"\"}},\"marker\":{\"colorbar\":{\"outlinewidth\":0,\"ticks\":\"\"}},\"type\":\"scatter3d\"}],\"scattercarpet\":[{\"marker\":{\"colorbar\":{\"outlinewidth\":0,\"ticks\":\"\"}},\"type\":\"scattercarpet\"}],\"scattergeo\":[{\"marker\":{\"colorbar\":{\"outlinewidth\":0,\"ticks\":\"\"}},\"type\":\"scattergeo\"}],\"scattergl\":[{\"marker\":{\"colorbar\":{\"outlinewidth\":0,\"ticks\":\"\"}},\"type\":\"scattergl\"}],\"scattermapbox\":[{\"marker\":{\"colorbar\":{\"outlinewidth\":0,\"ticks\":\"\"}},\"type\":\"scattermapbox\"}],\"scatterpolargl\":[{\"marker\":{\"colorbar\":{\"outlinewidth\":0,\"ticks\":\"\"}},\"type\":\"scatterpolargl\"}],\"scatterpolar\":[{\"marker\":{\"colorbar\":{\"outlinewidth\":0,\"ticks\":\"\"}},\"type\":\"scatterpolar\"}],\"scatter\":[{\"fillpattern\":{\"fillmode\":\"overlay\",\"size\":10,\"solidity\":0.2},\"type\":\"scatter\"}],\"scatterternary\":[{\"marker\":{\"colorbar\":{\"outlinewidth\":0,\"ticks\":\"\"}},\"type\":\"scatterternary\"}],\"surface\":[{\"colorbar\":{\"outlinewidth\":0,\"ticks\":\"\"},\"colorscale\":[[0.0,\"#0d0887\"],[0.1111111111111111,\"#46039f\"],[0.2222222222222222,\"#7201a8\"],[0.3333333333333333,\"#9c179e\"],[0.4444444444444444,\"#bd3786\"],[0.5555555555555556,\"#d8576b\"],[0.6666666666666666,\"#ed7953\"],[0.7777777777777778,\"#fb9f3a\"],[0.8888888888888888,\"#fdca26\"],[1.0,\"#f0f921\"]],\"type\":\"surface\"}],\"table\":[{\"cells\":{\"fill\":{\"color\":\"#EBF0F8\"},\"line\":{\"color\":\"white\"}},\"header\":{\"fill\":{\"color\":\"#C8D4E3\"},\"line\":{\"color\":\"white\"}},\"type\":\"table\"}]},\"layout\":{\"annotationdefaults\":{\"arrowcolor\":\"#2a3f5f\",\"arrowhead\":0,\"arrowwidth\":1},\"autotypenumbers\":\"strict\",\"coloraxis\":{\"colorbar\":{\"outlinewidth\":0,\"ticks\":\"\"}},\"colorscale\":{\"diverging\":[[0,\"#8e0152\"],[0.1,\"#c51b7d\"],[0.2,\"#de77ae\"],[0.3,\"#f1b6da\"],[0.4,\"#fde0ef\"],[0.5,\"#f7f7f7\"],[0.6,\"#e6f5d0\"],[0.7,\"#b8e186\"],[0.8,\"#7fbc41\"],[0.9,\"#4d9221\"],[1,\"#276419\"]],\"sequential\":[[0.0,\"#0d0887\"],[0.1111111111111111,\"#46039f\"],[0.2222222222222222,\"#7201a8\"],[0.3333333333333333,\"#9c179e\"],[0.4444444444444444,\"#bd3786\"],[0.5555555555555556,\"#d8576b\"],[0.6666666666666666,\"#ed7953\"],[0.7777777777777778,\"#fb9f3a\"],[0.8888888888888888,\"#fdca26\"],[1.0,\"#f0f921\"]],\"sequentialminus\":[[0.0,\"#0d0887\"],[0.1111111111111111,\"#46039f\"],[0.2222222222222222,\"#7201a8\"],[0.3333333333333333,\"#9c179e\"],[0.4444444444444444,\"#bd3786\"],[0.5555555555555556,\"#d8576b\"],[0.6666666666666666,\"#ed7953\"],[0.7777777777777778,\"#fb9f3a\"],[0.8888888888888888,\"#fdca26\"],[1.0,\"#f0f921\"]]},\"colorway\":[\"#636efa\",\"#EF553B\",\"#00cc96\",\"#ab63fa\",\"#FFA15A\",\"#19d3f3\",\"#FF6692\",\"#B6E880\",\"#FF97FF\",\"#FECB52\"],\"font\":{\"color\":\"#2a3f5f\"},\"geo\":{\"bgcolor\":\"white\",\"lakecolor\":\"white\",\"landcolor\":\"white\",\"showlakes\":true,\"showland\":true,\"subunitcolor\":\"#C8D4E3\"},\"hoverlabel\":{\"align\":\"left\"},\"hovermode\":\"closest\",\"mapbox\":{\"style\":\"light\"},\"paper_bgcolor\":\"white\",\"plot_bgcolor\":\"white\",\"polar\":{\"angularaxis\":{\"gridcolor\":\"#EBF0F8\",\"linecolor\":\"#EBF0F8\",\"ticks\":\"\"},\"bgcolor\":\"white\",\"radialaxis\":{\"gridcolor\":\"#EBF0F8\",\"linecolor\":\"#EBF0F8\",\"ticks\":\"\"}},\"scene\":{\"xaxis\":{\"backgroundcolor\":\"white\",\"gridcolor\":\"#DFE8F3\",\"gridwidth\":2,\"linecolor\":\"#EBF0F8\",\"showbackground\":true,\"ticks\":\"\",\"zerolinecolor\":\"#EBF0F8\"},\"yaxis\":{\"backgroundcolor\":\"white\",\"gridcolor\":\"#DFE8F3\",\"gridwidth\":2,\"linecolor\":\"#EBF0F8\",\"showbackground\":true,\"ticks\":\"\",\"zerolinecolor\":\"#EBF0F8\"},\"zaxis\":{\"backgroundcolor\":\"white\",\"gridcolor\":\"#DFE8F3\",\"gridwidth\":2,\"linecolor\":\"#EBF0F8\",\"showbackground\":true,\"ticks\":\"\",\"zerolinecolor\":\"#EBF0F8\"}},\"shapedefaults\":{\"line\":{\"color\":\"#2a3f5f\"}},\"ternary\":{\"aaxis\":{\"gridcolor\":\"#DFE8F3\",\"linecolor\":\"#A2B1C6\",\"ticks\":\"\"},\"baxis\":{\"gridcolor\":\"#DFE8F3\",\"linecolor\":\"#A2B1C6\",\"ticks\":\"\"},\"bgcolor\":\"white\",\"caxis\":{\"gridcolor\":\"#DFE8F3\",\"linecolor\":\"#A2B1C6\",\"ticks\":\"\"}},\"title\":{\"x\":0.05},\"xaxis\":{\"automargin\":true,\"gridcolor\":\"#EBF0F8\",\"linecolor\":\"#EBF0F8\",\"ticks\":\"\",\"title\":{\"standoff\":15},\"zerolinecolor\":\"#EBF0F8\",\"zerolinewidth\":2},\"yaxis\":{\"automargin\":true,\"gridcolor\":\"#EBF0F8\",\"linecolor\":\"#EBF0F8\",\"ticks\":\"\",\"title\":{\"standoff\":15},\"zerolinecolor\":\"#EBF0F8\",\"zerolinewidth\":2}}},\"xaxis\":{\"anchor\":\"y\",\"domain\":[0.0,0.98],\"title\":{\"text\":\"channel\"}},\"yaxis\":{\"anchor\":\"x\",\"domain\":[0.0,0.10222222222222221],\"title\":{\"text\":\"Bandpower\"}},\"xaxis2\":{\"anchor\":\"y2\",\"domain\":[0.0,0.98],\"matches\":\"x\",\"showticklabels\":false},\"yaxis2\":{\"anchor\":\"x2\",\"domain\":[0.11222222222222221,0.21444444444444444],\"title\":{\"text\":\"Bandpower\"}},\"xaxis3\":{\"anchor\":\"y3\",\"domain\":[0.0,0.98],\"matches\":\"x\",\"showticklabels\":false},\"yaxis3\":{\"anchor\":\"x3\",\"domain\":[0.22444444444444442,0.32666666666666666],\"title\":{\"text\":\"Bandpower\"}},\"xaxis4\":{\"anchor\":\"y4\",\"domain\":[0.0,0.98],\"matches\":\"x\",\"showticklabels\":false},\"yaxis4\":{\"anchor\":\"x4\",\"domain\":[0.33666666666666667,0.4388888888888889],\"title\":{\"text\":\"Bandpower\"}},\"xaxis5\":{\"anchor\":\"y5\",\"domain\":[0.0,0.98],\"matches\":\"x\",\"showticklabels\":false},\"yaxis5\":{\"anchor\":\"x5\",\"domain\":[0.44888888888888884,0.5511111111111111],\"title\":{\"text\":\"Bandpower\"}},\"xaxis6\":{\"anchor\":\"y6\",\"domain\":[0.0,0.98],\"matches\":\"x\",\"showticklabels\":false},\"yaxis6\":{\"anchor\":\"x6\",\"domain\":[0.5611111111111111,0.6633333333333333],\"title\":{\"text\":\"Bandpower\"}},\"xaxis7\":{\"anchor\":\"y7\",\"domain\":[0.0,0.98],\"matches\":\"x\",\"showticklabels\":false},\"yaxis7\":{\"anchor\":\"x7\",\"domain\":[0.6733333333333333,0.7755555555555556],\"title\":{\"text\":\"Bandpower\"}},\"xaxis8\":{\"anchor\":\"y8\",\"domain\":[0.0,0.98],\"matches\":\"x\",\"showticklabels\":false},\"yaxis8\":{\"anchor\":\"x8\",\"domain\":[0.7855555555555556,0.8877777777777778],\"title\":{\"text\":\"Bandpower\"}},\"xaxis9\":{\"anchor\":\"y9\",\"domain\":[0.0,0.98],\"matches\":\"x\",\"showticklabels\":false},\"yaxis9\":{\"anchor\":\"x9\",\"domain\":[0.8977777777777777,0.9999999999999999],\"title\":{\"text\":\"Bandpower\"}},\"annotations\":[{\"font\":{},\"showarrow\":false,\"text\":\"Band=high_gamma\",\"textangle\":90,\"x\":0.98,\"xanchor\":\"left\",\"xref\":\"paper\",\"y\":0.05111111111111111,\"yanchor\":\"middle\",\"yref\":\"paper\"},{\"font\":{},\"showarrow\":false,\"text\":\"Band=low_gamma\",\"textangle\":90,\"x\":0.98,\"xanchor\":\"left\",\"xref\":\"paper\",\"y\":0.16333333333333333,\"yanchor\":\"middle\",\"yref\":\"paper\"},{\"font\":{},\"showarrow\":false,\"text\":\"Band=beta\",\"textangle\":90,\"x\":0.98,\"xanchor\":\"left\",\"xref\":\"paper\",\"y\":0.27555555555555555,\"yanchor\":\"middle\",\"yref\":\"paper\"},{\"font\":{},\"showarrow\":false,\"text\":\"Band=sigma\",\"textangle\":90,\"x\":0.98,\"xanchor\":\"left\",\"xref\":\"paper\",\"y\":0.3877777777777778,\"yanchor\":\"middle\",\"yref\":\"paper\"},{\"font\":{},\"showarrow\":false,\"text\":\"Band=alpha\",\"textangle\":90,\"x\":0.98,\"xanchor\":\"left\",\"xref\":\"paper\",\"y\":0.5,\"yanchor\":\"middle\",\"yref\":\"paper\"},{\"font\":{},\"showarrow\":false,\"text\":\"Band=theta\",\"textangle\":90,\"x\":0.98,\"xanchor\":\"left\",\"xref\":\"paper\",\"y\":0.6122222222222222,\"yanchor\":\"middle\",\"yref\":\"paper\"},{\"font\":{},\"showarrow\":false,\"text\":\"Band=delta2\",\"textangle\":90,\"x\":0.98,\"xanchor\":\"left\",\"xref\":\"paper\",\"y\":0.7244444444444444,\"yanchor\":\"middle\",\"yref\":\"paper\"},{\"font\":{},\"showarrow\":false,\"text\":\"Band=delta1\",\"textangle\":90,\"x\":0.98,\"xanchor\":\"left\",\"xref\":\"paper\",\"y\":0.8366666666666667,\"yanchor\":\"middle\",\"yref\":\"paper\"},{\"font\":{},\"showarrow\":false,\"text\":\"Band=delta\",\"textangle\":90,\"x\":0.98,\"xanchor\":\"left\",\"xref\":\"paper\",\"y\":0.9488888888888888,\"yanchor\":\"middle\",\"yref\":\"paper\"}],\"legend\":{\"title\":{\"text\":\"store\"},\"tracegroupgap\":0},\"title\":{\"text\":\"ACR_26 | swi | Median Bandpower\",\"font\":{\"size\":28}},\"barmode\":\"group\",\"height\":1800,\"width\":1800,\"font\":{\"color\":\"black\",\"size\":18}},                        {\"responsive\": true}                    ).then(function(){\n",
       "                            \n",
       "var gd = document.getElementById('740e4fbb-1959-4db1-af0e-07fd16138ab8');\n",
       "var x = new MutationObserver(function (mutations, observer) {{\n",
       "        var display = window.getComputedStyle(gd).display;\n",
       "        if (!display || display === 'none') {{\n",
       "            console.log([gd, 'removed!']);\n",
       "            Plotly.purge(gd);\n",
       "            observer.disconnect();\n",
       "        }}\n",
       "}});\n",
       "\n",
       "// Listen for the removal of the full notebook cells\n",
       "var notebookContainer = gd.closest('#notebook-container');\n",
       "if (notebookContainer) {{\n",
       "    x.observe(notebookContainer, {childList: true});\n",
       "}}\n",
       "\n",
       "// Listen for the clearing of the current output cell\n",
       "var outputEl = gd.closest('.output');\n",
       "if (outputEl) {{\n",
       "    x.observe(outputEl, {childList: true});\n",
       "}}\n",
       "\n",
       "                        })                };                });            </script>        </div>"
      ]
     },
     "metadata": {},
     "output_type": "display_data"
    }
   ],
   "source": [
    "# BAR PLOT of MEDIANS\n",
    "# -----------------------\n",
    "cat_ord={\"Band\": bands.keys()}\n",
    "title=f'{subject} | {recording} | Median Bandpower'\n",
    "fbar = px.bar(medians, x='channel', y='Bandpower', color='store', facet_row='Band', barmode='group', facet_row_spacing=0.01, category_orders=cat_ord, width=1800, height=1800, color_discrete_sequence=['royalblue', 'darkred'], template='plotly_white', title=title)\n",
    "fbar.update_yaxes(matches=None)\n",
    "fbar.update_layout(\n",
    "    font_color=\"black\",\n",
    "    font_size=18,\n",
    "    title_font_size=28,\n",
    ")\n",
    "fbar.show()\n",
    "fbar.write_image(f'{save_base}/{subject}_{recording}_RAW-median-bandpower.png', engine=\"kaleido\")"
   ]
  }
 ],
 "metadata": {
  "kernelspec": {
   "display_name": "acr",
   "language": "python",
   "name": "python3"
  },
  "language_info": {
   "codemirror_mode": {
    "name": "ipython",
    "version": 3
   },
   "file_extension": ".py",
   "mimetype": "text/x-python",
   "name": "python",
   "nbconvert_exporter": "python",
   "pygments_lexer": "ipython3",
   "version": "3.11.4"
  }
 },
 "nbformat": 4,
 "nbformat_minor": 2
}

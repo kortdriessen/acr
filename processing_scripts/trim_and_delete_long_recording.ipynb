{
 "cells": [
  {
   "cell_type": "code",
   "execution_count": 5,
   "metadata": {},
   "outputs": [],
   "source": [
    "#-------------------------- Standard Imports --------------------------#\n",
    "%reload_ext autoreload\n",
    "%autoreload 2\n",
    "import kdephys as kde\n",
    "import pandas as pd\n",
    "import polars as pl\n",
    "import matplotlib.pyplot as plt\n",
    "import seaborn as sns\n",
    "import numpy as np\n",
    "import acr\n",
    "plt.style.use('fast')\n",
    "import tdt\n",
    "import os\n",
    "# ---------------------------- EXTRAS --------------------------------#"
   ]
  },
  {
   "cell_type": "code",
   "execution_count": 4,
   "metadata": {},
   "outputs": [],
   "source": [
    "path = acr.io.acr_path('ACR_46', 'swisin2-bl')"
   ]
  },
  {
   "cell_type": "code",
   "execution_count": 13,
   "metadata": {},
   "outputs": [
    {
     "name": "stderr",
     "output_type": "stream",
     "text": [
      "/home/kdriessen/miniconda3/envs/offdet/lib/python3.10/site-packages/tdt/TDTbin2py.py:979: Warning: Bad tbk file, try running the TankRestore tool to correct. See https://www.tdt.com/docs/technotes/#tn0935\n",
      "  block_notes = parse_tbk(tbk_path)\n",
      "/tmp/ipykernel_3372932/3509055586.py:1: Warning: Block end marker not found, block did not end cleanly. Try setting T2 smaller if errors occur\n",
      "  d = tdt.read_block(path, channel=1, store='NNXr', t1=0, t2=3600)\n"
     ]
    },
    {
     "name": "stdout",
     "output_type": "stream",
     "text": [
      "read from t=0s to t=3600s\n"
     ]
    }
   ],
   "source": [
    "d = tdt.read_block(path, channel=1, store='NNXr', t1=0, t2=3600)"
   ]
  },
  {
   "cell_type": "code",
   "execution_count": null,
   "metadata": {},
   "outputs": [],
   "source": []
  },
  {
   "cell_type": "code",
   "execution_count": 16,
   "metadata": {},
   "outputs": [
    {
     "data": {
      "text/plain": [
       "3600.009216023593"
      ]
     },
     "execution_count": 16,
     "metadata": {},
     "output_type": "execute_result"
    }
   ],
   "source": []
  }
 ],
 "metadata": {
  "kernelspec": {
   "display_name": "offdet",
   "language": "python",
   "name": "python3"
  },
  "language_info": {
   "codemirror_mode": {
    "name": "ipython",
    "version": 3
   },
   "file_extension": ".py",
   "mimetype": "text/x-python",
   "name": "python",
   "nbconvert_exporter": "python",
   "pygments_lexer": "ipython3",
   "version": "3.10.14"
  }
 },
 "nbformat": 4,
 "nbformat_minor": 2
}

{
 "cells": [
  {
   "cell_type": "code",
   "execution_count": 7,
   "metadata": {},
   "outputs": [],
   "source": [
    "import xarray as xr\n",
    "import acr\n",
    "import tdt"
   ]
  },
  {
   "cell_type": "code",
   "execution_count": 2,
   "metadata": {},
   "outputs": [
    {
     "name": "stderr",
     "output_type": "stream",
     "text": [
      "/home/kdriessen/miniconda3/envs/acrdev/lib/python3.10/site-packages/xarray/backends/plugins.py:71: RuntimeWarning: Engine 'cfgrib' loading failed:\n",
      "Cannot find the ecCodes library\n",
      "  warnings.warn(f\"Engine {name!r} loading failed:\\n{ex}\", RuntimeWarning)\n"
     ]
    }
   ],
   "source": [
    "p = xr.open_dataarray('/Volumes/opto_loc/Data/ACR_14/sdpi-bl-NNXo.nc').sel(channel=15)"
   ]
  },
  {
   "cell_type": "code",
   "execution_count": 6,
   "metadata": {},
   "outputs": [
    {
     "data": {
      "text/plain": [
       "86519.26368256"
      ]
     },
     "execution_count": 6,
     "metadata": {},
     "output_type": "execute_result"
    }
   ],
   "source": [
    "p.time.values.max()"
   ]
  },
  {
   "cell_type": "code",
   "execution_count": 9,
   "metadata": {},
   "outputs": [
    {
     "name": "stdout",
     "output_type": "stream",
     "text": [
      "read from t=0s to t=915.66s\n",
      "Using 24414.0625 Hz as SEV sampling rate for NNXo\n",
      "Using 24414.0625 Hz as SEV sampling rate for NNXr\n"
     ]
    }
   ],
   "source": [
    "d = tdt.read_block('/Volumes/opto_loc/Data/ACR_14/ACR_14-sdpi-bl/', store=['NNXo', 'NNXr'], channel=[1], t1=0, t2=2)"
   ]
  },
  {
   "cell_type": "code",
   "execution_count": 5,
   "metadata": {},
   "outputs": [
    {
     "data": {
      "text/plain": [
       "False"
      ]
     },
     "execution_count": 5,
     "metadata": {},
     "output_type": "execute_result"
    }
   ],
   "source": [
    "np.datetime64('1969-12-31T18:00:00.100000')np.datetime64('2022-09-11T07:01:12.855653')"
   ]
  },
  {
   "cell_type": "code",
   "execution_count": 1,
   "metadata": {},
   "outputs": [
    {
     "name": "stderr",
     "output_type": "stream",
     "text": [
      "/home/kdriessen/miniconda3/envs/acrdev/lib/python3.10/site-packages/xarray/backends/cfgrib_.py:29: UserWarning: Failed to load cfgrib - most likely there is a problem accessing the ecCodes library. Try `import cfgrib` to get the full error message\n",
      "  warnings.warn(\n",
      "/home/kdriessen/github_t2/kdephys/kdephys/xr/utils.py:4: DeprecationWarning: Please use `gaussian_filter1d` from the `scipy.ndimage` namespace, the `scipy.ndimage.filters` namespace is deprecated.\n",
      "  from scipy.ndimage.filters import gaussian_filter1d\n"
     ]
    }
   ],
   "source": [
    "import numpy as np\n",
    "import pandas as pd\n",
    "import acr.info_pipeline as aip\n",
    "import tdt"
   ]
  },
  {
   "cell_type": "code",
   "execution_count": 2,
   "metadata": {},
   "outputs": [
    {
     "name": "stdout",
     "output_type": "stream",
     "text": [
      "read from t=0s to t=1148.44s\n",
      "Using 152.5879 Hz as SEV sampling rate for EEG_\n",
      "Using 305.1758 Hz as SEV sampling rate for LFP_\n",
      "Using 305.1758 Hz as SEV sampling rate for LFPo\n",
      "Using 305.1758 Hz as SEV sampling rate for NNXo\n",
      "Using 305.1758 Hz as SEV sampling rate for EEGr\n",
      "Using 1017.2526 Hz as SEV sampling rate for EMGr\n",
      "Using 305.1758 Hz as SEV sampling rate for NNXr\n",
      "read from t=0s to t=0.0s\n",
      "Using 1017.2526 Hz as SEV sampling rate for EMGr\n",
      "read from t=0s to t=837.39s\n",
      "Using 152.5879 Hz as SEV sampling rate for EEG_\n",
      "Using 610.3516 Hz as SEV sampling rate for LFP_\n",
      "Using 610.3516 Hz as SEV sampling rate for LFPo\n",
      "Using 24414.0625 Hz as SEV sampling rate for NNXo\n",
      "Using 1017.2526 Hz as SEV sampling rate for EEGr\n",
      "Using 1017.2526 Hz as SEV sampling rate for EMGr\n",
      "Using 24414.0625 Hz as SEV sampling rate for NNXr\n",
      "read from t=86307s to t=86337.2s\n",
      "Using 24414.0625 Hz as SEV sampling rate for NNXo\n",
      "Using 24414.0625 Hz as SEV sampling rate for NNXr\n"
     ]
    }
   ],
   "source": [
    "t = aip.get_rec_times('ACR_14', ['mon1', 'laser1-bl'])"
   ]
  },
  {
   "cell_type": "code",
   "execution_count": 3,
   "metadata": {},
   "outputs": [
    {
     "data": {
      "text/plain": [
       "{'mon1': {'start': '2022-09-07T20:33:36.999999',\n",
       "  'duration': 109523.55222479765,\n",
       "  'end': '2022-09-09 02:59:00.552223798'},\n",
       " 'laser1-bl': {'start': '2022-09-11T07:01:48.999999',\n",
       "  'NNXo-duration': 86337.14741248,\n",
       "  'NNXoend': Timestamp('2022-09-12 07:00:46.147411480'),\n",
       "  'NNXr-duration': 86337.14741248,\n",
       "  'NNXrend': Timestamp('2022-09-12 07:00:46.147411480')}}"
      ]
     },
     "execution_count": 3,
     "metadata": {},
     "output_type": "execute_result"
    }
   ],
   "source": [
    "t"
   ]
  },
  {
   "cell_type": "code",
   "execution_count": 35,
   "metadata": {},
   "outputs": [
    {
     "name": "stdout",
     "output_type": "stream",
     "text": [
      "read from t=0s to t=837.39s\n",
      "read from t=86307s to t=86337.2s\n",
      "Using 24414.0625 Hz as SEV sampling rate for NNXo\n",
      "Using 24414.0625 Hz as SEV sampling rate for NNXr\n",
      "NNXo: total samples = 2107840513, total time = 86337.14741248\n",
      "NNXr: total samples = 2107840513, total time = 86337.14741248\n",
      "read from t=0s to t=856.79s\n",
      "read from t=50121s to t=50151.31s\n",
      "Using 24414.0625 Hz as SEV sampling rate for NNXo\n",
      "Using 24414.0625 Hz as SEV sampling rate for NNXr\n",
      "NNXo: total samples = 1224396801, total time = 50151.29296896\n",
      "NNXr: total samples = 1224151041, total time = 50141.22663936\n",
      "read from t=0s to t=745.24s\n",
      "read from t=43265s to t=43295.81s\n",
      "Using 24414.0625 Hz as SEV sampling rate for NNXo\n",
      "Using 24414.0625 Hz as SEV sampling rate for NNXr\n",
      "NNXo: total samples = 1057024001, total time = 43295.70308096\n",
      "NNXr: total samples = 1057024001, total time = 43295.70308096\n"
     ]
    }
   ],
   "source": [
    "times = get_rec_times('ACR_14', ['laser1-bl', 'laser1', 'laser1-post1'])"
   ]
  },
  {
   "cell_type": "code",
   "execution_count": 7,
   "metadata": {},
   "outputs": [
    {
     "name": "stdout",
     "output_type": "stream",
     "text": [
      "read from t=0s to t=0.0s\n",
      "Using 1017.2526 Hz as SEV sampling rate for EMGr\n"
     ]
    }
   ],
   "source": [
    "d = tdt.read_block('/Volumes/opto_loc/Data/ACR_14/ACR_14-mon1', evtype=['streams'], store=['EMGr'])"
   ]
  },
  {
   "cell_type": "code",
   "execution_count": 8,
   "metadata": {},
   "outputs": [
    {
     "data": {
      "text/plain": [
       "(2, 111413121)"
      ]
     },
     "execution_count": 8,
     "metadata": {},
     "output_type": "execute_result"
    }
   ],
   "source": [
    "len()"
   ]
  },
  {
   "cell_type": "code",
   "execution_count": 64,
   "metadata": {},
   "outputs": [
    {
     "name": "stderr",
     "output_type": "stream",
     "text": [
      "/home/kdriessen/miniconda3/envs/acrdev/lib/python3.10/site-packages/tdt/__init__.py:49: DeprecationWarning: invalid escape sequence '\\W'\n",
      "  fixed_name = re.sub('\\W|^(?=\\d)', '_', var_str)\n"
     ]
    },
    {
     "ename": "AttributeError",
     "evalue": "'StructType' object has no attribute 'NRe2'",
     "output_type": "error",
     "traceback": [
      "\u001b[0;31m---------------------------------------------------------------------------\u001b[0m",
      "\u001b[0;31mAttributeError\u001b[0m                            Traceback (most recent call last)",
      "Cell \u001b[0;32mIn [64], line 1\u001b[0m\n\u001b[0;32m----> 1\u001b[0m fs_list \u001b[39m=\u001b[39m [d[s]\u001b[39m.\u001b[39mfs \u001b[39mfor\u001b[39;00m s \u001b[39min\u001b[39;00m streams]\n",
      "Cell \u001b[0;32mIn [64], line 1\u001b[0m, in \u001b[0;36m<listcomp>\u001b[0;34m(.0)\u001b[0m\n\u001b[0;32m----> 1\u001b[0m fs_list \u001b[39m=\u001b[39m [d[s]\u001b[39m.\u001b[39mfs \u001b[39mfor\u001b[39;00m s \u001b[39min\u001b[39;00m streams]\n",
      "File \u001b[0;32m~/miniconda3/envs/acrdev/lib/python3.10/site-packages/tdt/__init__.py:77\u001b[0m, in \u001b[0;36mStructType.__getitem__\u001b[0;34m(self, key)\u001b[0m\n\u001b[1;32m     76\u001b[0m \u001b[39mdef\u001b[39;00m \u001b[39m__getitem__\u001b[39m(\u001b[39mself\u001b[39m, key):\n\u001b[0;32m---> 77\u001b[0m     val \u001b[39m=\u001b[39m \u001b[39mgetattr\u001b[39;49m(\u001b[39mself\u001b[39;49m, key)\n\u001b[1;32m     78\u001b[0m     \u001b[39mreturn\u001b[39;00m val\n",
      "\u001b[0;31mAttributeError\u001b[0m: 'StructType' object has no attribute 'NRe2'"
     ]
    }
   ],
   "source": [
    "fs_list = "
   ]
  },
  {
   "cell_type": "code",
   "execution_count": 49,
   "metadata": {},
   "outputs": [],
   "source": [
    "streams = list(d.streams.keys())"
   ]
  },
  {
   "cell_type": "code",
   "execution_count": 61,
   "metadata": {},
   "outputs": [],
   "source": [
    "time_stores=[\"NNXo\", \"NNXo\"]"
   ]
  },
  {
   "cell_type": "code",
   "execution_count": 52,
   "metadata": {},
   "outputs": [
    {
     "data": {
      "text/plain": [
       "False"
      ]
     },
     "execution_count": 52,
     "metadata": {},
     "output_type": "execute_result"
    }
   ],
   "source": [
    "time_stores in streams"
   ]
  },
  {
   "cell_type": "code",
   "execution_count": 62,
   "metadata": {},
   "outputs": [],
   "source": [
    "assert all([s in streams for s in time_stores])"
   ]
  },
  {
   "cell_type": "code",
   "execution_count": 46,
   "metadata": {},
   "outputs": [
    {
     "data": {
      "text/plain": [
       "NRe2\t[struct]\n",
       "Wav2\t[struct]\n",
       "NRe3\t[struct]\n",
       "EEG_\t[struct]\n",
       "LFP_\t[struct]\n",
       "LFPo\t[struct]\n",
       "NNXo\t[struct]\n",
       "uS2r\t[struct]\n",
       "EEGr\t[struct]\n",
       "EMGr\t[struct]\n",
       "NNXr\t[struct]"
      ]
     },
     "execution_count": 46,
     "metadata": {},
     "output_type": "execute_result"
    }
   ],
   "source": [
    "d.streams"
   ]
  },
  {
   "cell_type": "code",
   "execution_count": 38,
   "metadata": {},
   "outputs": [
    {
     "data": {
      "text/plain": [
       "'2022-09-12 21:02:32.292967960'"
      ]
     },
     "execution_count": 38,
     "metadata": {},
     "output_type": "execute_result"
    }
   ],
   "source": [
    "str(times['laser1']['NNXoend'])"
   ]
  },
  {
   "cell_type": "code",
   "execution_count": 32,
   "metadata": {},
   "outputs": [
    {
     "data": {
      "text/plain": [
       "2107840513.0"
      ]
     },
     "execution_count": 32,
     "metadata": {},
     "output_type": "execute_result"
    }
   ],
   "source": [
    "def round_up_float_to_int(x):\n",
    "    return np.ceil(x)\n",
    "round_up_float_to_int(2107840512.1875)"
   ]
  },
  {
   "cell_type": "code",
   "execution_count": 1,
   "metadata": {},
   "outputs": [
    {
     "name": "stderr",
     "output_type": "stream",
     "text": [
      "/home/kdriessen/miniconda3/envs/acrdev/lib/python3.10/site-packages/xarray/backends/cfgrib_.py:29: UserWarning: Failed to load cfgrib - most likely there is a problem accessing the ecCodes library. Try `import cfgrib` to get the full error message\n",
      "  warnings.warn(\n",
      "/home/kdriessen/github_t2/kdephys/kdephys/xr/utils.py:4: DeprecationWarning: Please use `gaussian_filter1d` from the `scipy.ndimage` namespace, the `scipy.ndimage.filters` namespace is deprecated.\n",
      "  from scipy.ndimage.filters import gaussian_filter1d\n"
     ]
    }
   ],
   "source": [
    "import pandas as pd\n",
    "import acr.info_pipeline as aip"
   ]
  },
  {
   "cell_type": "code",
   "execution_count": 2,
   "metadata": {},
   "outputs": [
    {
     "name": "stdout",
     "output_type": "stream",
     "text": [
      "read from t=0s to t=1064.3s\n",
      "Using 152.5879 Hz as SEV sampling rate for EEG_\n",
      "Using 305.1758 Hz as SEV sampling rate for LFP_\n",
      "Using 305.1758 Hz as SEV sampling rate for LFPo\n",
      "Using 24414.0625 Hz as SEV sampling rate for NNXo\n",
      "Using 305.1758 Hz as SEV sampling rate for EEGr\n",
      "Using 1017.2526 Hz as SEV sampling rate for EMGr\n",
      "Using 24414.0625 Hz as SEV sampling rate for NNXr\n",
      "read from t=9621s to t=9651.56s\n",
      "Using 24414.0625 Hz as SEV sampling rate for NNXo\n",
      "Using 24414.0625 Hz as SEV sampling rate for NNXr\n",
      "read from t=0s to t=1148.44s\n",
      "Using 152.5879 Hz as SEV sampling rate for EEG_\n",
      "Using 305.1758 Hz as SEV sampling rate for LFP_\n",
      "Using 305.1758 Hz as SEV sampling rate for LFPo\n",
      "Using 305.1758 Hz as SEV sampling rate for NNXo\n",
      "Using 305.1758 Hz as SEV sampling rate for EEGr\n",
      "Using 1017.2526 Hz as SEV sampling rate for EMGr\n",
      "Using 305.1758 Hz as SEV sampling rate for NNXr\n",
      "read from t=0s to t=0.0s\n",
      "Using 152.5879 Hz as SEV sampling rate for EEG_\n"
     ]
    },
    {
     "ename": "FileNotFoundError",
     "evalue": "[Errno 2] No such file or directory: '/Volumes/opto_loc/Data/ACR_14/ACR_14-/'",
     "output_type": "error",
     "traceback": [
      "\u001b[0;31m---------------------------------------------------------------------------\u001b[0m",
      "\u001b[0;31mFileNotFoundError\u001b[0m                         Traceback (most recent call last)",
      "Cell \u001b[0;32mIn [2], line 32\u001b[0m\n\u001b[1;32m     20\u001b[0m params[\u001b[39m\"\u001b[39m\u001b[39mchannels\u001b[39m\u001b[39m\"\u001b[39m] \u001b[39m=\u001b[39m {\n\u001b[1;32m     21\u001b[0m     \u001b[39m\"\u001b[39m\u001b[39mNNXr\u001b[39m\u001b[39m\"\u001b[39m: [\u001b[39m1\u001b[39m, \u001b[39m2\u001b[39m, \u001b[39m3\u001b[39m, \u001b[39m4\u001b[39m, \u001b[39m5\u001b[39m, \u001b[39m6\u001b[39m, \u001b[39m7\u001b[39m, \u001b[39m8\u001b[39m, \u001b[39m9\u001b[39m, \u001b[39m10\u001b[39m, \u001b[39m11\u001b[39m, \u001b[39m12\u001b[39m, \u001b[39m13\u001b[39m, \u001b[39m14\u001b[39m, \u001b[39m15\u001b[39m, \u001b[39m16\u001b[39m],\n\u001b[1;32m     22\u001b[0m     \u001b[39m\"\u001b[39m\u001b[39mNNXo\u001b[39m\u001b[39m\"\u001b[39m: [\u001b[39m1\u001b[39m, \u001b[39m2\u001b[39m, \u001b[39m3\u001b[39m, \u001b[39m4\u001b[39m, \u001b[39m5\u001b[39m, \u001b[39m6\u001b[39m, \u001b[39m7\u001b[39m, \u001b[39m8\u001b[39m, \u001b[39m9\u001b[39m, \u001b[39m10\u001b[39m, \u001b[39m11\u001b[39m, \u001b[39m12\u001b[39m, \u001b[39m13\u001b[39m, \u001b[39m14\u001b[39m, \u001b[39m15\u001b[39m, \u001b[39m16\u001b[39m],\n\u001b[0;32m   (...)\u001b[0m\n\u001b[1;32m     27\u001b[0m     \u001b[39m\"\u001b[39m\u001b[39mLFPo\u001b[39m\u001b[39m\"\u001b[39m: [\u001b[39m2\u001b[39m, \u001b[39m6\u001b[39m, \u001b[39m10\u001b[39m, \u001b[39m14\u001b[39m],\n\u001b[1;32m     28\u001b[0m }\n\u001b[1;32m     30\u001b[0m params[\u001b[39m\"\u001b[39m\u001b[39mstim-exps\u001b[39m\u001b[39m\"\u001b[39m] \u001b[39m=\u001b[39m {\u001b[39m\"\u001b[39m\u001b[39mlaser1\u001b[39m\u001b[39m\"\u001b[39m: \u001b[39m\"\u001b[39m\u001b[39mWav2\u001b[39m\u001b[39m\"\u001b[39m, \u001b[39m\"\u001b[39m\u001b[39msdpi\u001b[39m\u001b[39m\"\u001b[39m: \u001b[39m\"\u001b[39m\u001b[39mWav2\u001b[39m\u001b[39m\"\u001b[39m, \u001b[39m\"\u001b[39m\u001b[39mswi\u001b[39m\u001b[39m\"\u001b[39m: \u001b[39m\"\u001b[39m\u001b[39mPu1_\u001b[39m\u001b[39m\"\u001b[39m}\n\u001b[0;32m---> 32\u001b[0m aip\u001b[39m.\u001b[39;49msubject_info_gen(params)\n",
      "File \u001b[0;32m~/github_t2/acr/acr/info_pipeline.py:144\u001b[0m, in \u001b[0;36msubject_info_gen\u001b[0;34m(params)\u001b[0m\n\u001b[1;32m    142\u001b[0m data \u001b[39m=\u001b[39m {}\n\u001b[1;32m    143\u001b[0m data[\u001b[39m\"\u001b[39m\u001b[39msubject\u001b[39m\u001b[39m\"\u001b[39m] \u001b[39m=\u001b[39m subject\n\u001b[0;32m--> 144\u001b[0m times \u001b[39m=\u001b[39m get_rec_times(\n\u001b[1;32m    145\u001b[0m     subject,\n\u001b[1;32m    146\u001b[0m     recordings,\n\u001b[1;32m    147\u001b[0m     time_stores\u001b[39m=\u001b[39;49mparams[\u001b[39m\"\u001b[39;49m\u001b[39mtime_stores\u001b[39;49m\u001b[39m\"\u001b[39;49m],\n\u001b[1;32m    148\u001b[0m     backup_store\u001b[39m=\u001b[39;49m[params[\u001b[39m\"\u001b[39;49m\u001b[39mlite_stores\u001b[39;49m\u001b[39m\"\u001b[39;49m][\u001b[39m0\u001b[39;49m]],\n\u001b[1;32m    149\u001b[0m )\n\u001b[1;32m    151\u001b[0m data[\u001b[39m\"\u001b[39m\u001b[39mrec_times\u001b[39m\u001b[39m\"\u001b[39m] \u001b[39m=\u001b[39m times\n\u001b[1;32m    153\u001b[0m data[\u001b[39m\"\u001b[39m\u001b[39mchannels\u001b[39m\u001b[39m\"\u001b[39m] \u001b[39m=\u001b[39m channels\n",
      "File \u001b[0;32m~/github_t2/acr/acr/info_pipeline.py:76\u001b[0m, in \u001b[0;36mget_rec_times\u001b[0;34m(sub, exps, time_stores, backup_store)\u001b[0m\n\u001b[1;32m     74\u001b[0m \u001b[39mfor\u001b[39;00m exp \u001b[39min\u001b[39;00m exps:\n\u001b[1;32m     75\u001b[0m     p \u001b[39m=\u001b[39m acr\u001b[39m.\u001b[39mio\u001b[39m.\u001b[39macr_path(sub, exp)\n\u001b[0;32m---> 76\u001b[0m     d \u001b[39m=\u001b[39m tdt\u001b[39m.\u001b[39;49mread_block(p, t1\u001b[39m=\u001b[39;49m\u001b[39m0\u001b[39;49m, t2\u001b[39m=\u001b[39;49m\u001b[39m1\u001b[39;49m, evtype\u001b[39m=\u001b[39;49m[\u001b[39m\"\u001b[39;49m\u001b[39mstreams\u001b[39;49m\u001b[39m\"\u001b[39;49m])\n\u001b[1;32m     77\u001b[0m     streams \u001b[39m=\u001b[39m \u001b[39mlist\u001b[39m(d\u001b[39m.\u001b[39mstreams\u001b[39m.\u001b[39mkeys())\n\u001b[1;32m     78\u001b[0m     i \u001b[39m=\u001b[39m d\u001b[39m.\u001b[39minfo\n",
      "File \u001b[0;32m~/miniconda3/envs/acrdev/lib/python3.10/site-packages/tdt/TDTbin2py.py:878\u001b[0m, in \u001b[0;36mread_block\u001b[0;34m(block_path, bitwise, channel, combine, headers, nodata, ranges, store, t1, t2, evtype, verbose, sortname, export, scale, dtype, outdir, prefix, outfile)\u001b[0m\n\u001b[1;32m    875\u001b[0m block_path \u001b[39m=\u001b[39m os\u001b[39m.\u001b[39mpath\u001b[39m.\u001b[39mjoin(block_path, \u001b[39m'\u001b[39m\u001b[39m'\u001b[39m)\n\u001b[1;32m    877\u001b[0m \u001b[39mif\u001b[39;00m \u001b[39mnot\u001b[39;00m use_outside_headers:\n\u001b[0;32m--> 878\u001b[0m     tsq_list \u001b[39m=\u001b[39m tdt\u001b[39m.\u001b[39;49mget_files(block_path, \u001b[39m'\u001b[39;49m\u001b[39m.tsq\u001b[39;49m\u001b[39m'\u001b[39;49m)\n\u001b[1;32m    880\u001b[0m     \u001b[39mif\u001b[39;00m \u001b[39mlen\u001b[39m(tsq_list) \u001b[39m<\u001b[39m \u001b[39m1\u001b[39m:\n\u001b[1;32m    881\u001b[0m         \u001b[39mif\u001b[39;00m \u001b[39mnot\u001b[39;00m os\u001b[39m.\u001b[39mpath\u001b[39m.\u001b[39misdir(block_path):\n",
      "File \u001b[0;32m~/miniconda3/envs/acrdev/lib/python3.10/site-packages/tdt/__init__.py:38\u001b[0m, in \u001b[0;36mget_files\u001b[0;34m(dir, ext)\u001b[0m\n\u001b[1;32m     36\u001b[0m \u001b[39mdef\u001b[39;00m \u001b[39mget_files\u001b[39m(\u001b[39mdir\u001b[39m, ext):\n\u001b[1;32m     37\u001b[0m     result \u001b[39m=\u001b[39m []\n\u001b[0;32m---> 38\u001b[0m     \u001b[39mfor\u001b[39;00m file \u001b[39min\u001b[39;00m os\u001b[39m.\u001b[39;49mlistdir(\u001b[39mdir\u001b[39;49m):\n\u001b[1;32m     39\u001b[0m         \u001b[39mif\u001b[39;00m file\u001b[39m.\u001b[39mendswith(ext):\n\u001b[1;32m     40\u001b[0m             result\u001b[39m.\u001b[39mappend(os\u001b[39m.\u001b[39mpath\u001b[39m.\u001b[39mjoin(\u001b[39mdir\u001b[39m, file))\n",
      "\u001b[0;31mFileNotFoundError\u001b[0m: [Errno 2] No such file or directory: '/Volumes/opto_loc/Data/ACR_14/ACR_14-/'"
     ]
    }
   ],
   "source": [
    "params = {}\n",
    "params[\"subject\"] = \"ACR_14\"\n",
    "params[\"raw_stores\"] = [\"NNXo\", \"NNXr\", \"EEGr\", \"EMGr\"]\n",
    "params[\"lite_stores\"] = [\"EEG_\", \"EMGr\", \"LFP_\", \"LFPo\"]\n",
    "params[\"time_stores\"] = ['NNXr', 'NNXo']\n",
    "\n",
    "params[\"preprocess-list\"] = [\n",
    "    \"sdpi-bl\",\n",
    "    \"sdpi-post\",\n",
    "    \"swi-bl\",\n",
    "    \"sdpi\",\n",
    "    \"swi\",\n",
    "    \"laser1-post1\",\n",
    "    \"laser1\",\n",
    "    \"swi-sd\",\n",
    "    \"laser1-post2\",\n",
    "    \"laser1-bl\",\n",
    "]\n",
    "\n",
    "params[\"channels\"] = {\n",
    "    \"NNXr\": [1, 2, 3, 4, 5, 6, 7, 8, 9, 10, 11, 12, 13, 14, 15, 16],\n",
    "    \"NNXo\": [1, 2, 3, 4, 5, 6, 7, 8, 9, 10, 11, 12, 13, 14, 15, 16],\n",
    "    \"EEGr\": [1, 2],\n",
    "    \"EMGr\": [1, 2],\n",
    "    \"EEG_\": [1, 2],\n",
    "    \"LFP_\": [2, 6, 10, 14],\n",
    "    \"LFPo\": [2, 6, 10, 14],\n",
    "}\n",
    "\n",
    "params[\"stim-exps\"] = {\"laser1\": \"Wav2\", \"sdpi\": \"Wav2\", \"swi\": \"Pu1_\"}\n",
    "\n",
    "aip.subject_info_gen(params)"
   ]
  },
  {
   "cell_type": "code",
   "execution_count": 3,
   "metadata": {},
   "outputs": [],
   "source": [
    "tk = aip.get_all_tank_keys('/Volumes/opto_loc/Data/ACR_14/', 'ACR_14')"
   ]
  },
  {
   "cell_type": "code",
   "execution_count": 4,
   "metadata": {},
   "outputs": [
    {
     "data": {
      "text/plain": [
       "['plugged_test',\n",
       " 'mon1',\n",
       " 'sdpi-bl',\n",
       " 'sdpi-post',\n",
       " 'short1-iso',\n",
       " 'mon2',\n",
       " 'short1-plug',\n",
       " 'full-day',\n",
       " 'swi-bl',\n",
       " 'sdpi',\n",
       " 'ep-test1',\n",
       " 'swi',\n",
       " 'laser1-post1',\n",
       " 'short3-plug',\n",
       " 'isolated_test',\n",
       " 'short2-plug',\n",
       " 'laser1',\n",
       " 'short2-iso',\n",
       " 'swi-sd',\n",
       " 'laser1-post2',\n",
       " 'mon3',\n",
       " 'laser1-bl']"
      ]
     },
     "execution_count": 4,
     "metadata": {},
     "output_type": "execute_result"
    }
   ],
   "source": [
    "tk"
   ]
  }
 ],
 "metadata": {
  "kernelspec": {
   "display_name": "Python 3.10.6 ('acrdev')",
   "language": "python",
   "name": "python3"
  },
  "language_info": {
   "codemirror_mode": {
    "name": "ipython",
    "version": 3
   },
   "file_extension": ".py",
   "mimetype": "text/x-python",
   "name": "python",
   "nbconvert_exporter": "python",
   "pygments_lexer": "ipython3",
   "version": "3.10.6"
  },
  "orig_nbformat": 4,
  "vscode": {
   "interpreter": {
    "hash": "f1d71d528ced425d3e458548722e2339c6e39870f631ffe4f2412117d27fa354"
   }
  }
 },
 "nbformat": 4,
 "nbformat_minor": 2
}

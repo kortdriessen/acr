{
 "cells": [
  {
   "cell_type": "code",
   "execution_count": 1,
   "metadata": {},
   "outputs": [
    {
     "name": "stderr",
     "output_type": "stream",
     "text": [
      "/home/kdriessen/miniconda3/envs/acrdev/lib/python3.10/site-packages/xarray/backends/cfgrib_.py:29: UserWarning: Failed to load cfgrib - most likely there is a problem accessing the ecCodes library. Try `import cfgrib` to get the full error message\n",
      "  warnings.warn(\n",
      "/home/kdriessen/github_t2/kdephys/kdephys/xr/utils.py:4: DeprecationWarning: Please use `gaussian_filter1d` from the `scipy.ndimage` namespace, the `scipy.ndimage.filters` namespace is deprecated.\n",
      "  from scipy.ndimage.filters import gaussian_filter1d\n"
     ]
    }
   ],
   "source": [
    "%matplotlib inline\n",
    "%reload_ext autoreload\n",
    "%autoreload 2\n",
    "\n",
    "import numpy as np\n",
    "import pandas as pd\n",
    "import tdt\n",
    "from pathlib import Path\n",
    "import matplotlib.pyplot as plt\n",
    "import seaborn as sns\n",
    "import yaml\n",
    "import xarray as xr\n",
    "\n",
    "import kdephys.hypno as kh\n",
    "import kdephys.pd as kpd\n",
    "import kdephys.xr as kx\n",
    "import kdephys.utils as ku\n",
    "\n",
    "import ecephys.units as eu\n",
    "\n",
    "import ecephys"
   ]
  },
  {
   "cell_type": "code",
   "execution_count": null,
   "metadata": {},
   "outputs": [],
   "source": [
    "import ecephys.units.io as uio"
   ]
  },
  {
   "cell_type": "code",
   "execution_count": null,
   "metadata": {},
   "outputs": [],
   "source": [
    "min_fr, max_fr = (0, float(\"inf\"))\n",
    "min_depth, max_depth = (0, float(\"inf\"))\n",
    "\n",
    "ks_dir = Path(\"path/to/ks/dir\")\n",
    "\n",
    "ksdir = Path('/nvme/sorting/tdt/ACR_14-short-iso-NNXo/ks2_5_nblocks=1_8s-batches/')\n",
    "sorting = uio.load_sorting_extractor(ksdir, good_only=False, drop_noise=True, selection_intervals={'fr': (min_fr, max_fr), 'depth': (min_depth, max_depth)})"
   ]
  },
  {
   "cell_type": "code",
   "execution_count": null,
   "metadata": {},
   "outputs": [],
   "source": [
    "trn = sorting.get_all_spike_trains()"
   ]
  },
  {
   "cell_type": "code",
   "execution_count": null,
   "metadata": {},
   "outputs": [],
   "source": [
    "sorting.get_unit_ids()"
   ]
  },
  {
   "cell_type": "code",
   "execution_count": null,
   "metadata": {},
   "outputs": [],
   "source": [
    "cluster_info = uio.get_cluster_info(ksdir)\n",
    "cluster_info = cluster_info[\n",
    "    cluster_info.cluster_id.isin(sorting.get_unit_ids())\n",
    "]"
   ]
  },
  {
   "cell_type": "code",
   "execution_count": null,
   "metadata": {},
   "outputs": [],
   "source": [
    "all_spike_times = ecephys.units.get_spike_times_list(sorting, sorting.get_unit_ids())"
   ]
  },
  {
   "cell_type": "code",
   "execution_count": null,
   "metadata": {},
   "outputs": [],
   "source": [
    "sdf = ecephys.units.spikeinterface_sorting_to_dataframe(sorting)"
   ]
  },
  {
   "cell_type": "code",
   "execution_count": null,
   "metadata": {},
   "outputs": [],
   "source": []
  },
  {
   "cell_type": "code",
   "execution_count": null,
   "metadata": {},
   "outputs": [],
   "source": []
  },
  {
   "cell_type": "code",
   "execution_count": null,
   "metadata": {},
   "outputs": [],
   "source": [
    "s2 = sdf.loc[np.logical_and(sdf['t'] > 150, sdf['t'] < 300)]\n",
    "s2"
   ]
  },
  {
   "cell_type": "code",
   "execution_count": null,
   "metadata": {},
   "outputs": [],
   "source": [
    "quick = sdf.where(sdf.cluster_id == 3).dropna()"
   ]
  },
  {
   "cell_type": "code",
   "execution_count": null,
   "metadata": {},
   "outputs": [],
   "source": [
    "q2 = quick.iloc[0:2000]"
   ]
  },
  {
   "cell_type": "code",
   "execution_count": null,
   "metadata": {},
   "outputs": [],
   "source": [
    "bp = '/Volumes/opto_loc/Data/ACR_14/ACR_14-short1-iso/'\n",
    "chan = [2, 5, 7, 12]\n",
    "lfp = kx.io.get_data(bp, 'LFPo', t1=0, t2=1000, channel=chan)"
   ]
  },
  {
   "cell_type": "code",
   "execution_count": null,
   "metadata": {},
   "outputs": [],
   "source": [
    "from plotly.subplots import make_subplots\n",
    "import plotly.graph_objects as go\n",
    "# duplicate above matplotlib plot in plotly\n",
    "fig = make_subplots(rows=2, cols=1, shared_xaxes=True, vertical_spacing=0.02)\n",
    "fig.add_trace(go.Scatter(x=lfp.sel(channel=12).time, y=lfp.sel(channel=12).values, mode='lines', name='LFP'), row=1, col=1)\n",
    "fig.add_trace(go.Scatter(x=s2.t, y=s2.cluster_id, mode='markers', marker=dict(size=5)), row=2, col=1)\n",
    "fig"
   ]
  },
  {
   "cell_type": "markdown",
   "metadata": {},
   "source": [
    "# Unit + Field Potential Inspector"
   ]
  },
  {
   "cell_type": "code",
   "execution_count": 13,
   "metadata": {},
   "outputs": [],
   "source": [
    "%matplotlib inline\n",
    "%reload_ext autoreload\n",
    "%autoreload 2\n",
    "\n",
    "import numpy as np\n",
    "import pandas as pd\n",
    "import tdt\n",
    "from pathlib import Path\n",
    "import matplotlib.pyplot as plt\n",
    "import seaborn as sns\n",
    "import yaml\n",
    "import xarray as xr\n",
    "\n",
    "import kdephys.hypno as kh\n",
    "import kdephys.pd as kpd\n",
    "import kdephys.xr as kx\n",
    "import kdephys.utils as ku\n",
    "\n",
    "import acr\n",
    "import plotly.express as px\n",
    "import ecephys.units as eu\n",
    "import acr.hypnogram_utils as ahu\n",
    "import acr.units as au\n",
    "import acr.info_pipeline as aip\n",
    "import kdephys.units.methods as kum"
   ]
  },
  {
   "cell_type": "markdown",
   "metadata": {},
   "source": [
    "# ACR_14 SDPI"
   ]
  },
  {
   "cell_type": "code",
   "execution_count": 2,
   "metadata": {},
   "outputs": [],
   "source": [
    "d1 = au.load_spike_dfs('ACR_14', sort_id='sdpi-NNXr')\n",
    "d2 = au.load_spike_dfs('ACR_14', sort_id='sdpi-NNXo')"
   ]
  },
  {
   "cell_type": "code",
   "execution_count": 3,
   "metadata": {},
   "outputs": [],
   "source": [
    "df = pd.concat([d1, d2], ignore_index=True)"
   ]
  },
  {
   "cell_type": "code",
   "execution_count": 5,
   "metadata": {},
   "outputs": [],
   "source": [
    "# count how many times each cluster_id appears in the df\n",
    "count = df.groupby('cluster_id').count()"
   ]
  },
  {
   "cell_type": "code",
   "execution_count": 9,
   "metadata": {},
   "outputs": [],
   "source": [
    "\n",
    "cid = df.cluster_id\n",
    "# count the number of times each value appears in cid\n",
    "cid_count = cid.value_counts()"
   ]
  },
  {
   "cell_type": "code",
   "execution_count": 19,
   "metadata": {},
   "outputs": [
    {
     "data": {
      "text/plain": [
       "22     4271600\n",
       "141    2217335\n",
       "139    2148243\n",
       "152    1885466\n",
       "12     1863281\n",
       "19      945505\n",
       "154     835323\n",
       "44      510140\n",
       "36      229661\n",
       "Name: cluster_id, dtype: int64"
      ]
     },
     "execution_count": 19,
     "metadata": {},
     "output_type": "execute_result"
    }
   ],
   "source": [
    "df.sid('sdpi-NNXr').cluster_id.value_counts()"
   ]
  },
  {
   "cell_type": "code",
   "execution_count": 11,
   "metadata": {},
   "outputs": [
    {
     "data": {
      "text/plain": [
       "<pandas.core.groupby.generic.DataFrameGroupBy object at 0x7f44f1556b90>"
      ]
     },
     "execution_count": 11,
     "metadata": {},
     "output_type": "execute_result"
    }
   ],
   "source": [
    "df.sid('')"
   ]
  },
  {
   "cell_type": "code",
   "execution_count": 15,
   "metadata": {},
   "outputs": [
    {
     "name": "stdout",
     "output_type": "stream",
     "text": [
      "\u001b[0;31mSignature:\u001b[0m \u001b[0mkum\u001b[0m\u001b[0;34m.\u001b[0m\u001b[0msid\u001b[0m\u001b[0;34m(\u001b[0m\u001b[0mself\u001b[0m\u001b[0;34m,\u001b[0m \u001b[0msort_id\u001b[0m\u001b[0;34m)\u001b[0m\u001b[0;34m\u001b[0m\u001b[0;34m\u001b[0m\u001b[0m\n",
      "\u001b[0;31mDocstring:\u001b[0m <no docstring>\n",
      "\u001b[0;31mFile:\u001b[0m      ~/github_t2/kdephys/kdephys/units/methods.py\n",
      "\u001b[0;31mType:\u001b[0m      function\n"
     ]
    }
   ],
   "source": [
    "kum.sid?\n"
   ]
  }
 ],
 "metadata": {
  "kernelspec": {
   "display_name": "Python 3.10.6 ('acrdev')",
   "language": "python",
   "name": "python3"
  },
  "language_info": {
   "codemirror_mode": {
    "name": "ipython",
    "version": 3
   },
   "file_extension": ".py",
   "mimetype": "text/x-python",
   "name": "python",
   "nbconvert_exporter": "python",
   "pygments_lexer": "ipython3",
   "version": "3.10.6"
  },
  "orig_nbformat": 4,
  "vscode": {
   "interpreter": {
    "hash": "f1d71d528ced425d3e458548722e2339c6e39870f631ffe4f2412117d27fa354"
   }
  }
 },
 "nbformat": 4,
 "nbformat_minor": 2
}

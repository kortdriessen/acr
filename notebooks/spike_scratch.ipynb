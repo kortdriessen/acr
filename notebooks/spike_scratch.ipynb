{
 "cells": [
  {
   "cell_type": "code",
   "execution_count": 1,
   "metadata": {},
   "outputs": [
    {
     "name": "stderr",
     "output_type": "stream",
     "text": [
      "/home/kdriessen/github_t2/kdephys/kdephys/xr/utils.py:4: DeprecationWarning: Please use `gaussian_filter1d` from the `scipy.ndimage` namespace, the `scipy.ndimage.filters` namespace is deprecated.\n",
      "  from scipy.ndimage.filters import gaussian_filter1d\n"
     ]
    }
   ],
   "source": [
    "%matplotlib inline\n",
    "%reload_ext autoreload\n",
    "%autoreload 2\n",
    "\n",
    "import numpy as np\n",
    "import pandas as pd\n",
    "import tdt\n",
    "from pathlib import Path\n",
    "import matplotlib.pyplot as plt\n",
    "import seaborn as sns\n",
    "import yaml\n",
    "import xarray as xr\n",
    "\n",
    "import kdephys.hypno as kh\n",
    "import kdephys.pd as kpd\n",
    "import kdephys.xr as kx\n",
    "import kdephys.utils as ku\n",
    "import kdephys.ssfm as ss\n",
    "\n",
    "import ecephys.units as eu\n",
    "\n",
    "import ecephys"
   ]
  },
  {
   "cell_type": "code",
   "execution_count": null,
   "metadata": {},
   "outputs": [],
   "source": [
    "import ecephys.units.io as uio"
   ]
  },
  {
   "cell_type": "code",
   "execution_count": null,
   "metadata": {},
   "outputs": [],
   "source": [
    "min_fr, max_fr = (0, float(\"inf\"))\n",
    "min_depth, max_depth = (0, float(\"inf\"))\n",
    "\n",
    "ks_dir = Path(\"path/to/ks/dir\")\n",
    "\n",
    "ksdir = Path('/nvme/sorting/tdt/ACR_14-short-iso-NNXo/ks2_5_nblocks=1_8s-batches/')\n",
    "sorting = uio.load_sorting_extractor(ksdir, good_only=False, drop_noise=True, selection_intervals={'fr': (min_fr, max_fr), 'depth': (min_depth, max_depth)})"
   ]
  },
  {
   "cell_type": "code",
   "execution_count": null,
   "metadata": {},
   "outputs": [],
   "source": [
    "trn = sorting.get_all_spike_trains()"
   ]
  },
  {
   "cell_type": "code",
   "execution_count": null,
   "metadata": {},
   "outputs": [],
   "source": [
    "sorting.get_unit_ids()"
   ]
  },
  {
   "cell_type": "code",
   "execution_count": null,
   "metadata": {},
   "outputs": [],
   "source": [
    "cluster_info = uio.get_cluster_info(ksdir)\n",
    "cluster_info = cluster_info[\n",
    "    cluster_info.cluster_id.isin(sorting.get_unit_ids())\n",
    "]"
   ]
  },
  {
   "cell_type": "code",
   "execution_count": null,
   "metadata": {},
   "outputs": [],
   "source": [
    "all_spike_times = ecephys.units.get_spike_times_list(sorting, sorting.get_unit_ids())"
   ]
  },
  {
   "cell_type": "code",
   "execution_count": null,
   "metadata": {},
   "outputs": [],
   "source": [
    "sdf = ecephys.units.spikeinterface_sorting_to_dataframe(sorting)"
   ]
  },
  {
   "cell_type": "code",
   "execution_count": null,
   "metadata": {},
   "outputs": [],
   "source": []
  },
  {
   "cell_type": "code",
   "execution_count": null,
   "metadata": {},
   "outputs": [],
   "source": []
  },
  {
   "cell_type": "code",
   "execution_count": null,
   "metadata": {},
   "outputs": [],
   "source": [
    "s2 = sdf.loc[np.logical_and(sdf['t'] > 150, sdf['t'] < 300)]\n",
    "s2"
   ]
  },
  {
   "cell_type": "code",
   "execution_count": null,
   "metadata": {},
   "outputs": [],
   "source": [
    "quick = sdf.where(sdf.cluster_id == 3).dropna()"
   ]
  },
  {
   "cell_type": "code",
   "execution_count": null,
   "metadata": {},
   "outputs": [],
   "source": [
    "q2 = quick.iloc[0:2000]"
   ]
  },
  {
   "cell_type": "code",
   "execution_count": null,
   "metadata": {},
   "outputs": [],
   "source": [
    "bp = '/Volumes/opto_loc/Data/ACR_14/ACR_14-short1-iso/'\n",
    "chan = [2, 5, 7, 12]\n",
    "lfp = kx.io.get_data(bp, 'LFPo', t1=0, t2=1000, channel=chan)"
   ]
  },
  {
   "cell_type": "code",
   "execution_count": null,
   "metadata": {},
   "outputs": [],
   "source": [
    "from plotly.subplots import make_subplots\n",
    "import plotly.graph_objects as go\n",
    "# duplicate above matplotlib plot in plotly\n",
    "fig = make_subplots(rows=2, cols=1, shared_xaxes=True, vertical_spacing=0.02)\n",
    "fig.add_trace(go.Scatter(x=lfp.sel(channel=12).time, y=lfp.sel(channel=12).values, mode='lines', name='LFP'), row=1, col=1)\n",
    "fig.add_trace(go.Scatter(x=s2.t, y=s2.cluster_id, mode='markers', marker=dict(size=5)), row=2, col=1)\n",
    "fig"
   ]
  },
  {
   "cell_type": "markdown",
   "metadata": {},
   "source": [
    "# Unit + Field Potential Inspector"
   ]
  },
  {
   "cell_type": "code",
   "execution_count": 1,
   "metadata": {},
   "outputs": [
    {
     "name": "stderr",
     "output_type": "stream",
     "text": [
      "/home/kdriessen/github_t2/kdephys/kdephys/xr/utils.py:4: DeprecationWarning: Please use `gaussian_filter1d` from the `scipy.ndimage` namespace, the `scipy.ndimage.filters` namespace is deprecated.\n",
      "  from scipy.ndimage.filters import gaussian_filter1d\n"
     ]
    }
   ],
   "source": [
    "%matplotlib inline\n",
    "%reload_ext autoreload\n",
    "%autoreload 2\n",
    "\n",
    "import numpy as np\n",
    "import pandas as pd\n",
    "import tdt\n",
    "from pathlib import Path\n",
    "import matplotlib.pyplot as plt\n",
    "import seaborn as sns\n",
    "import yaml\n",
    "import xarray as xr\n",
    "\n",
    "import kdephys.hypno as kh\n",
    "import kdephys.pd as kpd\n",
    "import kdephys.xr as kx\n",
    "import kdephys.utils as ku\n",
    "import kdephys.ssfm as ss\n",
    "\n",
    "import acr.subjects as subs\n",
    "import acr\n",
    "import plotly.express as px\n",
    "import ecephys.units as eu"
   ]
  },
  {
   "cell_type": "code",
   "execution_count": 2,
   "metadata": {},
   "outputs": [],
   "source": [
    "rec = 'short2-iso'\n",
    "root = '/nvme/sorting/tdt/' \n",
    "ss582 = 'ACR_14-test-short-582/ks2_5_nblocks=1_8s-batches'\n",
    "ss5104 = 'ACR_14-test-short-5104/ks2_5_nblocks=1_8s-batches'"
   ]
  },
  {
   "cell_type": "code",
   "execution_count": 3,
   "metadata": {},
   "outputs": [],
   "source": [
    "dp = '/Volumes/opto_loc/Data/ACR_14/short2-iso-LFP_.nc'"
   ]
  },
  {
   "cell_type": "code",
   "execution_count": 4,
   "metadata": {},
   "outputs": [],
   "source": [
    "fp = xr.load_dataarray(dp)"
   ]
  },
  {
   "cell_type": "code",
   "execution_count": null,
   "metadata": {},
   "outputs": [],
   "source": [
    "d1 = Path(f'/nvme/sorting/tdt/test-short-582/ks2_5_nblocks=1_8s-batches/')\n",
    "d2 = Path(f'/nvme/sorting/tdt/test-short-5104/ks2_5_nblocks=1_8s-batches/')\n",
    "ex1 = eu.load_sorting_extractor(d1)\n",
    "ex2 = eu.load_sorting_extractor(d2)"
   ]
  },
  {
   "cell_type": "code",
   "execution_count": null,
   "metadata": {},
   "outputs": [],
   "source": [
    "ci1 = eu.get_cluster_info(d1)\n",
    "ci1"
   ]
  },
  {
   "cell_type": "code",
   "execution_count": null,
   "metadata": {},
   "outputs": [],
   "source": [
    "df1 = eu.spikeinterface_sorting_to_dataframe(ex1)\n",
    "df2 = eu.spikeinterface_sorting_to_dataframe(ex2)"
   ]
  },
  {
   "cell_type": "code",
   "execution_count": null,
   "metadata": {},
   "outputs": [],
   "source": [
    "dti = pd.to_timedelta(df1.t.values, unit='s') + fp.datetime.values.min()\n",
    "df1['datetime'] = dti"
   ]
  },
  {
   "cell_type": "code",
   "execution_count": null,
   "metadata": {},
   "outputs": [],
   "source": [
    "s2 = sdf.loc[np.logical_and(sdf['t'] > 150, sdf['t'] < 300)]"
   ]
  },
  {
   "cell_type": "code",
   "execution_count": null,
   "metadata": {},
   "outputs": [],
   "source": [
    "def unit_fp_inspector(fp, spk, channel=14, t1=0, t2=120):\n",
    "    fp = fp.swap_dims({'datetime': 'time'}).sel(time=slice(t1, t2), channel=channel)\n",
    "    spk = spk.loc[np.logical_and(spk['t'] > t1, spk['t'] < t2)]\n",
    "    return fp, spk"
   ]
  },
  {
   "cell_type": "code",
   "execution_count": null,
   "metadata": {},
   "outputs": [],
   "source": [
    "f, s = unit_fp_inspector(fp, df1, channel=14, t1=0, t2=120)"
   ]
  },
  {
   "cell_type": "code",
   "execution_count": null,
   "metadata": {},
   "outputs": [],
   "source": [
    "fp.channel.values"
   ]
  },
  {
   "cell_type": "code",
   "execution_count": null,
   "metadata": {},
   "outputs": [],
   "source": [
    "\n",
    "# plotly subplots\n",
    "from plotly.subplots import make_subplots\n",
    "import plotly.graph_objects as go\n",
    "fig = make_subplots(rows=2, cols=1, shared_xaxes=True, vertical_spacing=0.02)\n",
    "fig.add_trace(go.Scatter(x=f.time, y=f.values, name='LFP'), row=1, col=1)\n",
    "fig.add_trace(go.Scatter(x=s.t, y=s.cluster_id, mode='markers', marker=dict(size=2)), row=2, col=1)"
   ]
  },
  {
   "cell_type": "code",
   "execution_count": 6,
   "metadata": {},
   "outputs": [],
   "source": [
    "def spectro_data(data, chan, f_range=slice(0, 35)):\n",
    "    spg = kx.spectral.get_spextrogram(data)\n",
    "    ax = kx.plots.spectro_plotter(spg, chan=chan, f_range=f_range)\n",
    "    return ax\n",
    "    "
   ]
  },
  {
   "cell_type": "markdown",
   "metadata": {},
   "source": [
    "# Unit Dev"
   ]
  },
  {
   "cell_type": "code",
   "execution_count": 1,
   "metadata": {},
   "outputs": [
    {
     "name": "stderr",
     "output_type": "stream",
     "text": [
      "/home/kdriessen/miniconda3/envs/acr/lib/python3.10/site-packages/xarray/backends/cfgrib_.py:29: UserWarning: Failed to load cfgrib - most likely there is a problem accessing the ecCodes library. Try `import cfgrib` to get the full error message\n",
      "  warnings.warn(\n"
     ]
    },
    {
     "ename": "ModuleNotFoundError",
     "evalue": "No module named 'pyedflib'",
     "output_type": "error",
     "traceback": [
      "\u001b[0;31m---------------------------------------------------------------------------\u001b[0m",
      "\u001b[0;31mModuleNotFoundError\u001b[0m                       Traceback (most recent call last)",
      "Cell \u001b[0;32mIn [1], line 1\u001b[0m\n\u001b[0;32m----> 1\u001b[0m \u001b[39mimport\u001b[39;00m \u001b[39macr\u001b[39;00m\n\u001b[1;32m      2\u001b[0m \u001b[39mimport\u001b[39;00m \u001b[39mspikeinterface\u001b[39;00m\u001b[39m.\u001b[39;00m\u001b[39mextractors\u001b[39;00m \u001b[39mas\u001b[39;00m \u001b[39mse\u001b[39;00m\n\u001b[1;32m      3\u001b[0m \u001b[39mimport\u001b[39;00m \u001b[39mspikeinterface\u001b[39;00m\u001b[39m.\u001b[39;00m\u001b[39mcore\u001b[39;00m \u001b[39mas\u001b[39;00m \u001b[39msi\u001b[39;00m\n",
      "File \u001b[0;32m~/github_t2/acr/acr/__init__.py:1\u001b[0m\n\u001b[0;32m----> 1\u001b[0m \u001b[39mfrom\u001b[39;00m \u001b[39m.\u001b[39;00m \u001b[39mimport\u001b[39;00m (\n\u001b[1;32m      2\u001b[0m     io,\n\u001b[1;32m      3\u001b[0m     plots,\n\u001b[1;32m      4\u001b[0m     utils,\n\u001b[1;32m      5\u001b[0m     info_pipeline,\n\u001b[1;32m      6\u001b[0m     units,\n\u001b[1;32m      7\u001b[0m )\n",
      "File \u001b[0;32m~/github_t2/acr/acr/io.py:6\u001b[0m\n\u001b[1;32m      3\u001b[0m \u001b[39mimport\u001b[39;00m \u001b[39myaml\u001b[39;00m\n\u001b[1;32m      4\u001b[0m \u001b[39mimport\u001b[39;00m \u001b[39mtdt\u001b[39;00m\n\u001b[0;32m----> 6\u001b[0m \u001b[39mimport\u001b[39;00m \u001b[39mkdephys\u001b[39;00m\u001b[39m.\u001b[39;00m\u001b[39mhypno\u001b[39;00m \u001b[39mas\u001b[39;00m \u001b[39mkh\u001b[39;00m\n\u001b[1;32m      7\u001b[0m \u001b[39mfrom\u001b[39;00m \u001b[39mkdephys\u001b[39;00m\u001b[39m.\u001b[39;00m\u001b[39mpd\u001b[39;00m\u001b[39m.\u001b[39;00m\u001b[39mecdata\u001b[39;00m \u001b[39mimport\u001b[39;00m ecdata\n\u001b[1;32m      8\u001b[0m \u001b[39mimport\u001b[39;00m \u001b[39mkdephys\u001b[39;00m\u001b[39m.\u001b[39;00m\u001b[39mxr\u001b[39;00m \u001b[39mas\u001b[39;00m \u001b[39mkx\u001b[39;00m\n",
      "File \u001b[0;32m~/github_t2/kdephys/kdephys/__init__.py:1\u001b[0m\n\u001b[0;32m----> 1\u001b[0m \u001b[39mfrom\u001b[39;00m \u001b[39m.\u001b[39;00m \u001b[39mimport\u001b[39;00m (\n\u001b[1;32m      2\u001b[0m     hypno,\n\u001b[1;32m      3\u001b[0m     pd,\n\u001b[1;32m      4\u001b[0m     ssfm,\n\u001b[1;32m      5\u001b[0m     utils,\n\u001b[1;32m      6\u001b[0m     xr,\n\u001b[1;32m      7\u001b[0m )\n",
      "File \u001b[0;32m~/github_t2/kdephys/kdephys/hypno/__init__.py:1\u001b[0m\n\u001b[0;32m----> 1\u001b[0m \u001b[39mfrom\u001b[39;00m \u001b[39m.\u001b[39;00m\u001b[39mhypno\u001b[39;00m \u001b[39mimport\u001b[39;00m \u001b[39m*\u001b[39m\n",
      "File \u001b[0;32m~/github_t2/kdephys/kdephys/hypno/hypno.py:4\u001b[0m\n\u001b[1;32m      2\u001b[0m \u001b[39mimport\u001b[39;00m \u001b[39myaml\u001b[39;00m\n\u001b[1;32m      3\u001b[0m \u001b[39mfrom\u001b[39;00m \u001b[39mpathlib\u001b[39;00m \u001b[39mimport\u001b[39;00m Path\n\u001b[0;32m----> 4\u001b[0m \u001b[39mimport\u001b[39;00m \u001b[39mecephys\u001b[39;00m\u001b[39m.\u001b[39;00m\u001b[39mhypnogram\u001b[39;00m \u001b[39mas\u001b[39;00m \u001b[39mhp\u001b[39;00m\n\u001b[1;32m      5\u001b[0m \u001b[39mfrom\u001b[39;00m \u001b[39mecephys\u001b[39;00m\u001b[39m.\u001b[39;00m\u001b[39mhypnogram\u001b[39;00m \u001b[39mimport\u001b[39;00m DatetimeHypnogram\n\u001b[1;32m      8\u001b[0m \u001b[39mdef\u001b[39;00m \u001b[39m_infer_bout_start\u001b[39m(df, bout):\n",
      "File \u001b[0;32m~/github_t2/ecephys/ecephys/__init__.py:1\u001b[0m\n\u001b[0;32m----> 1\u001b[0m \u001b[39mfrom\u001b[39;00m \u001b[39m.\u001b[39;00m \u001b[39mimport\u001b[39;00m (\n\u001b[1;32m      2\u001b[0m     sharptrack,\n\u001b[1;32m      3\u001b[0m     data_mgmt,\n\u001b[1;32m      4\u001b[0m     emg_from_lfp,\n\u001b[1;32m      5\u001b[0m     hypnogram,\n\u001b[1;32m      6\u001b[0m     plot,\n\u001b[1;32m      7\u001b[0m     sglx,\n\u001b[1;32m      8\u001b[0m     sglxr,\n\u001b[1;32m      9\u001b[0m     signal,\n\u001b[1;32m     10\u001b[0m     tdtxr,\n\u001b[1;32m     11\u001b[0m     sync,\n\u001b[1;32m     12\u001b[0m     units,\n\u001b[1;32m     13\u001b[0m     utils,\n\u001b[1;32m     14\u001b[0m     xrsig,\n\u001b[1;32m     15\u001b[0m     wne,\n\u001b[1;32m     16\u001b[0m )\n",
      "File \u001b[0;32m~/github_t2/ecephys/ecephys/wne/__init__.py:3\u001b[0m\n\u001b[1;32m      1\u001b[0m \u001b[39mfrom\u001b[39;00m \u001b[39m.\u001b[39;00m\u001b[39mprojects\u001b[39;00m \u001b[39mimport\u001b[39;00m \u001b[39m*\u001b[39m\n\u001b[1;32m      2\u001b[0m \u001b[39mfrom\u001b[39;00m \u001b[39m.\u001b[39;00m\u001b[39mconstants\u001b[39;00m \u001b[39mimport\u001b[39;00m \u001b[39m*\u001b[39m\n\u001b[0;32m----> 3\u001b[0m \u001b[39mfrom\u001b[39;00m \u001b[39m.\u001b[39;00m \u001b[39mimport\u001b[39;00m sglx\n",
      "File \u001b[0;32m~/github_t2/ecephys/ecephys/wne/sglx/__init__.py:4\u001b[0m\n\u001b[1;32m      2\u001b[0m \u001b[39mfrom\u001b[39;00m \u001b[39m.\u001b[39;00m\u001b[39msessions\u001b[39;00m \u001b[39mimport\u001b[39;00m \u001b[39m*\u001b[39m\n\u001b[1;32m      3\u001b[0m \u001b[39mfrom\u001b[39;00m \u001b[39m.\u001b[39;00m\u001b[39msubjects\u001b[39;00m \u001b[39mimport\u001b[39;00m \u001b[39m*\u001b[39m\n\u001b[0;32m----> 4\u001b[0m \u001b[39mfrom\u001b[39;00m \u001b[39m.\u001b[39;00m \u001b[39mimport\u001b[39;00m pipeline\n",
      "File \u001b[0;32m~/github_t2/ecephys/ecephys/wne/sglx/pipeline/__init__.py:1\u001b[0m\n\u001b[0;32m----> 1\u001b[0m \u001b[39mfrom\u001b[39;00m \u001b[39m.\u001b[39;00m \u001b[39mimport\u001b[39;00m (\n\u001b[1;32m      2\u001b[0m     preprocess_lfps,\n\u001b[1;32m      3\u001b[0m     emg_from_lfp,\n\u001b[1;32m      4\u001b[0m     utils,\n\u001b[1;32m      5\u001b[0m     generate_scoring_edf,\n\u001b[1;32m      6\u001b[0m     consolidate_artifact_annotations,\n\u001b[1;32m      7\u001b[0m )\n",
      "File \u001b[0;32m~/github_t2/ecephys/ecephys/wne/sglx/pipeline/generate_scoring_edf.py:7\u001b[0m\n\u001b[1;32m      5\u001b[0m \u001b[39mfrom\u001b[39;00m \u001b[39mtqdm\u001b[39;00m\u001b[39m.\u001b[39;00m\u001b[39mauto\u001b[39;00m \u001b[39mimport\u001b[39;00m tqdm\n\u001b[1;32m      6\u001b[0m \u001b[39mfrom\u001b[39;00m \u001b[39mscipy\u001b[39;00m \u001b[39mimport\u001b[39;00m interpolate \u001b[39mas\u001b[39;00m interp\n\u001b[0;32m----> 7\u001b[0m \u001b[39mfrom\u001b[39;00m \u001b[39mpyedflib\u001b[39;00m \u001b[39mimport\u001b[39;00m highlevel \u001b[39mas\u001b[39;00m edf\n\u001b[1;32m     10\u001b[0m \u001b[39mdef\u001b[39;00m \u001b[39mresample\u001b[39m(sig, target_fs):\n\u001b[1;32m     11\u001b[0m     f \u001b[39m=\u001b[39m interp\u001b[39m.\u001b[39minterp1d(sig\u001b[39m.\u001b[39mtime, sig\u001b[39m.\u001b[39mT, kind\u001b[39m=\u001b[39m\u001b[39m\"\u001b[39m\u001b[39mcubic\u001b[39m\u001b[39m\"\u001b[39m)\n",
      "\u001b[0;31mModuleNotFoundError\u001b[0m: No module named 'pyedflib'"
     ]
    }
   ],
   "source": [
    "import acr\n",
    "import spikeinterface.extractors as se\n",
    "import spikeinterface.core as si"
   ]
  },
  {
   "cell_type": "code",
   "execution_count": 8,
   "metadata": {},
   "outputs": [
    {
     "ename": "TypeError",
     "evalue": "KiloSortSortingExtractor.__init__() got an unexpected keyword argument 'exclude_cluster_groups'",
     "output_type": "error",
     "traceback": [
      "\u001b[0;31m---------------------------------------------------------------------------\u001b[0m",
      "\u001b[0;31mTypeError\u001b[0m                                 Traceback (most recent call last)",
      "\u001b[1;32m/home/kdriessen/github_t2/acr/notebooks/spike_scratch.ipynb Cell 34\u001b[0m in \u001b[0;36m<cell line: 2>\u001b[0;34m()\u001b[0m\n\u001b[1;32m      <a href='vscode-notebook-cell://ssh-remote%2Btononi-2/home/kdriessen/github_t2/acr/notebooks/spike_scratch.ipynb#X46sdnNjb2RlLXJlbW90ZQ%3D%3D?line=0'>1</a>\u001b[0m path \u001b[39m=\u001b[39m acr\u001b[39m.\u001b[39munits\u001b[39m.\u001b[39msorting_path(\u001b[39m'\u001b[39m\u001b[39mACR_14\u001b[39m\u001b[39m'\u001b[39m, \u001b[39m'\u001b[39m\u001b[39mlaser1\u001b[39m\u001b[39m'\u001b[39m, \u001b[39m'\u001b[39m\u001b[39mNNXr\u001b[39m\u001b[39m'\u001b[39m)\n\u001b[0;32m----> <a href='vscode-notebook-cell://ssh-remote%2Btononi-2/home/kdriessen/github_t2/acr/notebooks/spike_scratch.ipynb#X46sdnNjb2RlLXJlbW90ZQ%3D%3D?line=1'>2</a>\u001b[0m sorting \u001b[39m=\u001b[39m se\u001b[39m.\u001b[39;49mread_kilosort(path, exclude_cluster_groups\u001b[39m=\u001b[39;49m\u001b[39m'\u001b[39;49m\u001b[39mnoise\u001b[39;49m\u001b[39m'\u001b[39;49m)\n",
      "File \u001b[0;32m~/miniconda3/envs/acr/lib/python3.10/site-packages/spikeinterface/core/core_tools.py:27\u001b[0m, in \u001b[0;36mdefine_function_from_class.<locals>.reader_func\u001b[0;34m(*args, **kwargs)\u001b[0m\n\u001b[1;32m     25\u001b[0m \u001b[39m@copy_signature\u001b[39m(source_class)\n\u001b[1;32m     26\u001b[0m \u001b[39mdef\u001b[39;00m \u001b[39mreader_func\u001b[39m(\u001b[39m*\u001b[39margs, \u001b[39m*\u001b[39m\u001b[39m*\u001b[39mkwargs):\n\u001b[0;32m---> 27\u001b[0m     \u001b[39mreturn\u001b[39;00m source_class(\u001b[39m*\u001b[39;49margs, \u001b[39m*\u001b[39;49m\u001b[39m*\u001b[39;49mkwargs)\n",
      "\u001b[0;31mTypeError\u001b[0m: KiloSortSortingExtractor.__init__() got an unexpected keyword argument 'exclude_cluster_groups'"
     ]
    }
   ],
   "source": [
    "path = acr.units.sorting_path('ACR_14', 'laser1', 'NNXr')\n",
    "sorting = se.read_kilosort(path, exclude_cluster_groups='noise')"
   ]
  },
  {
   "cell_type": "code",
   "execution_count": 11,
   "metadata": {},
   "outputs": [],
   "source": [
    "import ecephys"
   ]
  },
  {
   "cell_type": "code",
   "execution_count": 3,
   "metadata": {},
   "outputs": [
    {
     "ename": "ModuleNotFoundError",
     "evalue": "No module named 'pyedflib'",
     "output_type": "error",
     "traceback": [
      "\u001b[0;31m---------------------------------------------------------------------------\u001b[0m",
      "\u001b[0;31mModuleNotFoundError\u001b[0m                       Traceback (most recent call last)",
      "\u001b[1;32m/home/kdriessen/github_t2/acr/notebooks/spike_scratch.ipynb Cell 36\u001b[0m in \u001b[0;36m<cell line: 1>\u001b[0;34m()\u001b[0m\n\u001b[0;32m----> <a href='vscode-notebook-cell://ssh-remote%2Btononi-2/home/kdriessen/github_t2/acr/notebooks/spike_scratch.ipynb#X52sdnNjb2RlLXJlbW90ZQ%3D%3D?line=0'>1</a>\u001b[0m \u001b[39mimport\u001b[39;00m \u001b[39mecephys\u001b[39;00m\n",
      "File \u001b[0;32m~/github_t2/ecephys/ecephys/__init__.py:1\u001b[0m, in \u001b[0;36m<module>\u001b[0;34m\u001b[0m\n\u001b[0;32m----> 1\u001b[0m \u001b[39mfrom\u001b[39;00m \u001b[39m.\u001b[39;00m \u001b[39mimport\u001b[39;00m (\n\u001b[1;32m      2\u001b[0m     sharptrack,\n\u001b[1;32m      3\u001b[0m     data_mgmt,\n\u001b[1;32m      4\u001b[0m     emg_from_lfp,\n\u001b[1;32m      5\u001b[0m     hypnogram,\n\u001b[1;32m      6\u001b[0m     plot,\n\u001b[1;32m      7\u001b[0m     sglx,\n\u001b[1;32m      8\u001b[0m     sglxr,\n\u001b[1;32m      9\u001b[0m     signal,\n\u001b[1;32m     10\u001b[0m     tdtxr,\n\u001b[1;32m     11\u001b[0m     sync,\n\u001b[1;32m     12\u001b[0m     units,\n\u001b[1;32m     13\u001b[0m     utils,\n\u001b[1;32m     14\u001b[0m     xrsig,\n\u001b[1;32m     15\u001b[0m     wne,\n\u001b[1;32m     16\u001b[0m )\n",
      "File \u001b[0;32m~/github_t2/ecephys/ecephys/wne/__init__.py:3\u001b[0m, in \u001b[0;36m<module>\u001b[0;34m\u001b[0m\n\u001b[1;32m      1\u001b[0m \u001b[39mfrom\u001b[39;00m \u001b[39m.\u001b[39;00m\u001b[39mprojects\u001b[39;00m \u001b[39mimport\u001b[39;00m \u001b[39m*\u001b[39m\n\u001b[1;32m      2\u001b[0m \u001b[39mfrom\u001b[39;00m \u001b[39m.\u001b[39;00m\u001b[39mconstants\u001b[39;00m \u001b[39mimport\u001b[39;00m \u001b[39m*\u001b[39m\n\u001b[0;32m----> 3\u001b[0m \u001b[39mfrom\u001b[39;00m \u001b[39m.\u001b[39;00m \u001b[39mimport\u001b[39;00m sglx\n",
      "File \u001b[0;32m~/github_t2/ecephys/ecephys/wne/sglx/__init__.py:4\u001b[0m, in \u001b[0;36m<module>\u001b[0;34m\u001b[0m\n\u001b[1;32m      2\u001b[0m \u001b[39mfrom\u001b[39;00m \u001b[39m.\u001b[39;00m\u001b[39msessions\u001b[39;00m \u001b[39mimport\u001b[39;00m \u001b[39m*\u001b[39m\n\u001b[1;32m      3\u001b[0m \u001b[39mfrom\u001b[39;00m \u001b[39m.\u001b[39;00m\u001b[39msubjects\u001b[39;00m \u001b[39mimport\u001b[39;00m \u001b[39m*\u001b[39m\n\u001b[0;32m----> 4\u001b[0m \u001b[39mfrom\u001b[39;00m \u001b[39m.\u001b[39;00m \u001b[39mimport\u001b[39;00m pipeline\n",
      "File \u001b[0;32m~/github_t2/ecephys/ecephys/wne/sglx/pipeline/__init__.py:1\u001b[0m, in \u001b[0;36m<module>\u001b[0;34m\u001b[0m\n\u001b[0;32m----> 1\u001b[0m \u001b[39mfrom\u001b[39;00m \u001b[39m.\u001b[39;00m \u001b[39mimport\u001b[39;00m (\n\u001b[1;32m      2\u001b[0m     preprocess_lfps,\n\u001b[1;32m      3\u001b[0m     emg_from_lfp,\n\u001b[1;32m      4\u001b[0m     utils,\n\u001b[1;32m      5\u001b[0m     generate_scoring_edf,\n\u001b[1;32m      6\u001b[0m     consolidate_artifact_annotations,\n\u001b[1;32m      7\u001b[0m )\n",
      "File \u001b[0;32m~/github_t2/ecephys/ecephys/wne/sglx/pipeline/generate_scoring_edf.py:7\u001b[0m, in \u001b[0;36m<module>\u001b[0;34m\u001b[0m\n\u001b[1;32m      5\u001b[0m \u001b[39mfrom\u001b[39;00m \u001b[39mtqdm\u001b[39;00m\u001b[39m.\u001b[39;00m\u001b[39mauto\u001b[39;00m \u001b[39mimport\u001b[39;00m tqdm\n\u001b[1;32m      6\u001b[0m \u001b[39mfrom\u001b[39;00m \u001b[39mscipy\u001b[39;00m \u001b[39mimport\u001b[39;00m interpolate \u001b[39mas\u001b[39;00m interp\n\u001b[0;32m----> 7\u001b[0m \u001b[39mfrom\u001b[39;00m \u001b[39mpyedflib\u001b[39;00m \u001b[39mimport\u001b[39;00m highlevel \u001b[39mas\u001b[39;00m edf\n\u001b[1;32m     10\u001b[0m \u001b[39mdef\u001b[39;00m \u001b[39mresample\u001b[39m(sig, target_fs):\n\u001b[1;32m     11\u001b[0m     f \u001b[39m=\u001b[39m interp\u001b[39m.\u001b[39minterp1d(sig\u001b[39m.\u001b[39mtime, sig\u001b[39m.\u001b[39mT, kind\u001b[39m=\u001b[39m\u001b[39m\"\u001b[39m\u001b[39mcubic\u001b[39m\u001b[39m\"\u001b[39m)\n",
      "\u001b[0;31mModuleNotFoundError\u001b[0m: No module named 'pyedflib'"
     ]
    }
   ],
   "source": [
    "import ecephys"
   ]
  },
  {
   "cell_type": "code",
   "execution_count": null,
   "metadata": {},
   "outputs": [],
   "source": []
  }
 ],
 "metadata": {
  "kernelspec": {
   "display_name": "Python 3.10.6 ('acr')",
   "language": "python",
   "name": "python3"
  },
  "language_info": {
   "codemirror_mode": {
    "name": "ipython",
    "version": 3
   },
   "file_extension": ".py",
   "mimetype": "text/x-python",
   "name": "python",
   "nbconvert_exporter": "python",
   "pygments_lexer": "ipython3",
   "version": "3.10.6"
  },
  "orig_nbformat": 4,
  "vscode": {
   "interpreter": {
    "hash": "8452ab91a3948d5467ebd39dafa915e230ab5ad1e9d110d083c75b8319b6ff58"
   }
  }
 },
 "nbformat": 4,
 "nbformat_minor": 2
}

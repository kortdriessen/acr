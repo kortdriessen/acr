{
 "cells": [
  {
   "cell_type": "code",
   "execution_count": 1,
   "metadata": {},
   "outputs": [
    {
     "name": "stderr",
     "output_type": "stream",
     "text": [
      "/home/kdriessen/miniconda3/envs/acrdev/lib/python3.10/site-packages/xarray/backends/cfgrib_.py:29: UserWarning: Failed to load cfgrib - most likely there is a problem accessing the ecCodes library. Try `import cfgrib` to get the full error message\n",
      "  warnings.warn(\n",
      "/home/kdriessen/github_t2/kdephys/kdephys/xr/utils.py:4: DeprecationWarning: Please use `gaussian_filter1d` from the `scipy.ndimage` namespace, the `scipy.ndimage.filters` namespace is deprecated.\n",
      "  from scipy.ndimage.filters import gaussian_filter1d\n"
     ]
    }
   ],
   "source": [
    "%matplotlib inline\n",
    "%reload_ext autoreload\n",
    "%autoreload 2\n",
    "\n",
    "import numpy as np\n",
    "import pandas as pd\n",
    "import tdt\n",
    "from pathlib import Path\n",
    "import matplotlib.pyplot as plt\n",
    "import seaborn as sns\n",
    "import yaml\n",
    "import xarray as xr\n",
    "\n",
    "import kdephys.hypno as kh\n",
    "import kdephys.pd as kpd\n",
    "import kdephys.xr as kx\n",
    "import kdephys.utils as ku\n",
    "\n",
    "import ecephys.units as eu\n",
    "\n",
    "import ecephys"
   ]
  },
  {
   "cell_type": "code",
   "execution_count": null,
   "metadata": {},
   "outputs": [],
   "source": [
    "import ecephys.units.io as uio"
   ]
  },
  {
   "cell_type": "code",
   "execution_count": null,
   "metadata": {},
   "outputs": [],
   "source": [
    "min_fr, max_fr = (0, float(\"inf\"))\n",
    "min_depth, max_depth = (0, float(\"inf\"))\n",
    "\n",
    "ks_dir = Path(\"path/to/ks/dir\")\n",
    "\n",
    "ksdir = Path('/nvme/sorting/tdt/ACR_14-short-iso-NNXo/ks2_5_nblocks=1_8s-batches/')\n",
    "sorting = uio.load_sorting_extractor(ksdir, good_only=False, drop_noise=True, selection_intervals={'fr': (min_fr, max_fr), 'depth': (min_depth, max_depth)})"
   ]
  },
  {
   "cell_type": "code",
   "execution_count": null,
   "metadata": {},
   "outputs": [],
   "source": [
    "trn = sorting.get_all_spike_trains()"
   ]
  },
  {
   "cell_type": "code",
   "execution_count": null,
   "metadata": {},
   "outputs": [],
   "source": [
    "sorting.get_unit_ids()"
   ]
  },
  {
   "cell_type": "code",
   "execution_count": null,
   "metadata": {},
   "outputs": [],
   "source": [
    "cluster_info = uio.get_cluster_info(ksdir)\n",
    "cluster_info = cluster_info[\n",
    "    cluster_info.cluster_id.isin(sorting.get_unit_ids())\n",
    "]"
   ]
  },
  {
   "cell_type": "code",
   "execution_count": null,
   "metadata": {},
   "outputs": [],
   "source": [
    "all_spike_times = ecephys.units.get_spike_times_list(sorting, sorting.get_unit_ids())"
   ]
  },
  {
   "cell_type": "code",
   "execution_count": null,
   "metadata": {},
   "outputs": [],
   "source": [
    "sdf = ecephys.units.spikeinterface_sorting_to_dataframe(sorting)"
   ]
  },
  {
   "cell_type": "code",
   "execution_count": null,
   "metadata": {},
   "outputs": [],
   "source": []
  },
  {
   "cell_type": "code",
   "execution_count": null,
   "metadata": {},
   "outputs": [],
   "source": []
  },
  {
   "cell_type": "code",
   "execution_count": null,
   "metadata": {},
   "outputs": [],
   "source": [
    "s2 = sdf.loc[np.logical_and(sdf['t'] > 150, sdf['t'] < 300)]\n",
    "s2"
   ]
  },
  {
   "cell_type": "code",
   "execution_count": null,
   "metadata": {},
   "outputs": [],
   "source": [
    "quick = sdf.where(sdf.cluster_id == 3).dropna()"
   ]
  },
  {
   "cell_type": "code",
   "execution_count": null,
   "metadata": {},
   "outputs": [],
   "source": [
    "q2 = quick.iloc[0:2000]"
   ]
  },
  {
   "cell_type": "code",
   "execution_count": null,
   "metadata": {},
   "outputs": [],
   "source": [
    "bp = '/Volumes/opto_loc/Data/ACR_14/ACR_14-short1-iso/'\n",
    "chan = [2, 5, 7, 12]\n",
    "lfp = kx.io.get_data(bp, 'LFPo', t1=0, t2=1000, channel=chan)"
   ]
  },
  {
   "cell_type": "code",
   "execution_count": null,
   "metadata": {},
   "outputs": [],
   "source": [
    "from plotly.subplots import make_subplots\n",
    "import plotly.graph_objects as go\n",
    "# duplicate above matplotlib plot in plotly\n",
    "fig = make_subplots(rows=2, cols=1, shared_xaxes=True, vertical_spacing=0.02)\n",
    "fig.add_trace(go.Scatter(x=lfp.sel(channel=12).time, y=lfp.sel(channel=12).values, mode='lines', name='LFP'), row=1, col=1)\n",
    "fig.add_trace(go.Scatter(x=s2.t, y=s2.cluster_id, mode='markers', marker=dict(size=5)), row=2, col=1)\n",
    "fig"
   ]
  },
  {
   "cell_type": "markdown",
   "metadata": {},
   "source": [
    "# Unit + Field Potential Inspector"
   ]
  },
  {
   "cell_type": "code",
   "execution_count": 1,
   "metadata": {},
   "outputs": [
    {
     "name": "stderr",
     "output_type": "stream",
     "text": [
      "/home/kdriessen/github_t2/kdephys/kdephys/xr/utils.py:4: DeprecationWarning: Please use `gaussian_filter1d` from the `scipy.ndimage` namespace, the `scipy.ndimage.filters` namespace is deprecated.\n",
      "  from scipy.ndimage.filters import gaussian_filter1d\n"
     ]
    }
   ],
   "source": [
    "%matplotlib inline\n",
    "%reload_ext autoreload\n",
    "%autoreload 2\n",
    "\n",
    "import numpy as np\n",
    "import pandas as pd\n",
    "import tdt\n",
    "from pathlib import Path\n",
    "import matplotlib.pyplot as plt\n",
    "import seaborn as sns\n",
    "import yaml\n",
    "import xarray as xr\n",
    "\n",
    "import kdephys.hypno as kh\n",
    "import kdephys.pd as kpd\n",
    "import kdephys.xr as kx\n",
    "import kdephys.utils as ku\n",
    "import kdephys.ssfm as ss\n",
    "\n",
    "import acr.subjects as subs\n",
    "import acr\n",
    "import plotly.express as px\n",
    "import ecephys.units as eu"
   ]
  },
  {
   "cell_type": "code",
   "execution_count": 2,
   "metadata": {},
   "outputs": [],
   "source": [
    "rec = 'short2-iso'\n",
    "root = '/nvme/sorting/tdt/' \n",
    "ss582 = 'ACR_14-test-short-582/ks2_5_nblocks=1_8s-batches'\n",
    "ss5104 = 'ACR_14-test-short-5104/ks2_5_nblocks=1_8s-batches'"
   ]
  },
  {
   "cell_type": "code",
   "execution_count": 3,
   "metadata": {},
   "outputs": [],
   "source": [
    "dp = '/Volumes/opto_loc/Data/ACR_14/short2-iso-LFP_.nc'"
   ]
  },
  {
   "cell_type": "code",
   "execution_count": 4,
   "metadata": {},
   "outputs": [],
   "source": [
    "fp = xr.load_dataarray(dp)"
   ]
  },
  {
   "cell_type": "code",
   "execution_count": null,
   "metadata": {},
   "outputs": [],
   "source": [
    "d1 = Path(f'/nvme/sorting/tdt/test-short-582/ks2_5_nblocks=1_8s-batches/')\n",
    "d2 = Path(f'/nvme/sorting/tdt/test-short-5104/ks2_5_nblocks=1_8s-batches/')\n",
    "ex1 = eu.load_sorting_extractor(d1)\n",
    "ex2 = eu.load_sorting_extractor(d2)"
   ]
  },
  {
   "cell_type": "code",
   "execution_count": null,
   "metadata": {},
   "outputs": [],
   "source": [
    "ci1 = eu.get_cluster_info(d1)\n",
    "ci1"
   ]
  },
  {
   "cell_type": "code",
   "execution_count": null,
   "metadata": {},
   "outputs": [],
   "source": [
    "df1 = eu.spikeinterface_sorting_to_dataframe(ex1)\n",
    "df2 = eu.spikeinterface_sorting_to_dataframe(ex2)"
   ]
  },
  {
   "cell_type": "code",
   "execution_count": null,
   "metadata": {},
   "outputs": [],
   "source": [
    "dti = pd.to_timedelta(df1.t.values, unit='s') + fp.datetime.values.min()\n",
    "df1['datetime'] = dti"
   ]
  },
  {
   "cell_type": "code",
   "execution_count": null,
   "metadata": {},
   "outputs": [],
   "source": [
    "s2 = sdf.loc[np.logical_and(sdf['t'] > 150, sdf['t'] < 300)]"
   ]
  },
  {
   "cell_type": "code",
   "execution_count": null,
   "metadata": {},
   "outputs": [],
   "source": [
    "def unit_fp_inspector(fp, spk, channel=14, t1=0, t2=120):\n",
    "    fp = fp.swap_dims({'datetime': 'time'}).sel(time=slice(t1, t2), channel=channel)\n",
    "    spk = spk.loc[np.logical_and(spk['t'] > t1, spk['t'] < t2)]\n",
    "    return fp, spk"
   ]
  },
  {
   "cell_type": "code",
   "execution_count": null,
   "metadata": {},
   "outputs": [],
   "source": [
    "f, s = unit_fp_inspector(fp, df1, channel=14, t1=0, t2=120)"
   ]
  },
  {
   "cell_type": "code",
   "execution_count": null,
   "metadata": {},
   "outputs": [],
   "source": [
    "fp.channel.values"
   ]
  },
  {
   "cell_type": "code",
   "execution_count": null,
   "metadata": {},
   "outputs": [],
   "source": [
    "\n",
    "# plotly subplots\n",
    "from plotly.subplots import make_subplots\n",
    "import plotly.graph_objects as go\n",
    "fig = make_subplots(rows=2, cols=1, shared_xaxes=True, vertical_spacing=0.02)\n",
    "fig.add_trace(go.Scatter(x=f.time, y=f.values, name='LFP'), row=1, col=1)\n",
    "fig.add_trace(go.Scatter(x=s.t, y=s.cluster_id, mode='markers', marker=dict(size=2)), row=2, col=1)"
   ]
  },
  {
   "cell_type": "code",
   "execution_count": 6,
   "metadata": {},
   "outputs": [],
   "source": [
    "def spectro_data(data, chan, f_range=slice(0, 35)):\n",
    "    spg = kx.spectral.get_spextrogram(data)\n",
    "    ax = kx.plots.spectro_plotter(spg, chan=chan, f_range=f_range)\n",
    "    return ax\n",
    "    "
   ]
  },
  {
   "cell_type": "markdown",
   "metadata": {},
   "source": [
    "# Unit Dev"
   ]
  },
  {
   "cell_type": "markdown",
   "metadata": {},
   "source": [
    "- figure out how to handle differing times between probes"
   ]
  },
  {
   "cell_type": "code",
   "execution_count": 1,
   "metadata": {},
   "outputs": [
    {
     "name": "stderr",
     "output_type": "stream",
     "text": [
      "/home/kdriessen/miniconda3/envs/acrdev/lib/python3.10/site-packages/xarray/backends/cfgrib_.py:29: UserWarning: Failed to load cfgrib - most likely there is a problem accessing the ecCodes library. Try `import cfgrib` to get the full error message\n",
      "  warnings.warn(\n",
      "/home/kdriessen/github_t2/kdephys/kdephys/xr/utils.py:4: DeprecationWarning: Please use `gaussian_filter1d` from the `scipy.ndimage` namespace, the `scipy.ndimage.filters` namespace is deprecated.\n",
      "  from scipy.ndimage.filters import gaussian_filter1d\n"
     ]
    }
   ],
   "source": [
    "%matplotlib inline\n",
    "%reload_ext autoreload\n",
    "%autoreload 2\n",
    "\n",
    "import acr\n",
    "import spikeinterface.extractors as se\n",
    "import spikeinterface.core as si\n",
    "import kdephys.units as ku\n",
    "import pandas as pd\n",
    "import numpy as np\n",
    "import acr.info_pipeline as aip\n",
    "import tdt\n",
    "import acr.units as au"
   ]
  },
  {
   "cell_type": "code",
   "execution_count": 4,
   "metadata": {},
   "outputs": [
    {
     "name": "stdout",
     "output_type": "stream",
     "text": [
      "\u001b[0;31mSignature:\u001b[0m\n",
      "\u001b[0mdf\u001b[0m\u001b[0;34m.\u001b[0m\u001b[0mrolling\u001b[0m\u001b[0;34m(\u001b[0m\u001b[0;34m\u001b[0m\n",
      "\u001b[0;34m\u001b[0m    \u001b[0mwindow\u001b[0m\u001b[0;34m:\u001b[0m \u001b[0;34m'int | timedelta | BaseOffset | BaseIndexer'\u001b[0m\u001b[0;34m,\u001b[0m\u001b[0;34m\u001b[0m\n",
      "\u001b[0;34m\u001b[0m    \u001b[0mmin_periods\u001b[0m\u001b[0;34m:\u001b[0m \u001b[0;34m'int | None'\u001b[0m \u001b[0;34m=\u001b[0m \u001b[0;32mNone\u001b[0m\u001b[0;34m,\u001b[0m\u001b[0;34m\u001b[0m\n",
      "\u001b[0;34m\u001b[0m    \u001b[0mcenter\u001b[0m\u001b[0;34m:\u001b[0m \u001b[0;34m'bool_t'\u001b[0m \u001b[0;34m=\u001b[0m \u001b[0;32mFalse\u001b[0m\u001b[0;34m,\u001b[0m\u001b[0;34m\u001b[0m\n",
      "\u001b[0;34m\u001b[0m    \u001b[0mwin_type\u001b[0m\u001b[0;34m:\u001b[0m \u001b[0;34m'str | None'\u001b[0m \u001b[0;34m=\u001b[0m \u001b[0;32mNone\u001b[0m\u001b[0;34m,\u001b[0m\u001b[0;34m\u001b[0m\n",
      "\u001b[0;34m\u001b[0m    \u001b[0mon\u001b[0m\u001b[0;34m:\u001b[0m \u001b[0;34m'str | None'\u001b[0m \u001b[0;34m=\u001b[0m \u001b[0;32mNone\u001b[0m\u001b[0;34m,\u001b[0m\u001b[0;34m\u001b[0m\n",
      "\u001b[0;34m\u001b[0m    \u001b[0maxis\u001b[0m\u001b[0;34m:\u001b[0m \u001b[0;34m'Axis'\u001b[0m \u001b[0;34m=\u001b[0m \u001b[0;36m0\u001b[0m\u001b[0;34m,\u001b[0m\u001b[0;34m\u001b[0m\n",
      "\u001b[0;34m\u001b[0m    \u001b[0mclosed\u001b[0m\u001b[0;34m:\u001b[0m \u001b[0;34m'str | None'\u001b[0m \u001b[0;34m=\u001b[0m \u001b[0;32mNone\u001b[0m\u001b[0;34m,\u001b[0m\u001b[0;34m\u001b[0m\n",
      "\u001b[0;34m\u001b[0m    \u001b[0mstep\u001b[0m\u001b[0;34m:\u001b[0m \u001b[0;34m'int | None'\u001b[0m \u001b[0;34m=\u001b[0m \u001b[0;32mNone\u001b[0m\u001b[0;34m,\u001b[0m\u001b[0;34m\u001b[0m\n",
      "\u001b[0;34m\u001b[0m    \u001b[0mmethod\u001b[0m\u001b[0;34m:\u001b[0m \u001b[0;34m'str'\u001b[0m \u001b[0;34m=\u001b[0m \u001b[0;34m'single'\u001b[0m\u001b[0;34m,\u001b[0m\u001b[0;34m\u001b[0m\n",
      "\u001b[0;34m\u001b[0m\u001b[0;34m)\u001b[0m \u001b[0;34m->\u001b[0m \u001b[0;34m'Window | Rolling'\u001b[0m\u001b[0;34m\u001b[0m\u001b[0;34m\u001b[0m\u001b[0m\n",
      "\u001b[0;31mDocstring:\u001b[0m\n",
      "Provide rolling window calculations.\n",
      "\n",
      "Parameters\n",
      "----------\n",
      "window : int, offset, or BaseIndexer subclass\n",
      "    Size of the moving window.\n",
      "\n",
      "    If an integer, the fixed number of observations used for\n",
      "    each window.\n",
      "\n",
      "    If an offset, the time period of each window. Each\n",
      "    window will be a variable sized based on the observations included in\n",
      "    the time-period. This is only valid for datetimelike indexes.\n",
      "    To learn more about the offsets & frequency strings, please see `this link\n",
      "    <https://pandas.pydata.org/pandas-docs/stable/user_guide/timeseries.html#offset-aliases>`__.\n",
      "\n",
      "    If a BaseIndexer subclass, the window boundaries\n",
      "    based on the defined ``get_window_bounds`` method. Additional rolling\n",
      "    keyword arguments, namely ``min_periods``, ``center``, ``closed`` and\n",
      "    ``step`` will be passed to ``get_window_bounds``.\n",
      "\n",
      "min_periods : int, default None\n",
      "    Minimum number of observations in window required to have a value;\n",
      "    otherwise, result is ``np.nan``.\n",
      "\n",
      "    For a window that is specified by an offset, ``min_periods`` will default to 1.\n",
      "\n",
      "    For a window that is specified by an integer, ``min_periods`` will default\n",
      "    to the size of the window.\n",
      "\n",
      "center : bool, default False\n",
      "    If False, set the window labels as the right edge of the window index.\n",
      "\n",
      "    If True, set the window labels as the center of the window index.\n",
      "\n",
      "win_type : str, default None\n",
      "    If ``None``, all points are evenly weighted.\n",
      "\n",
      "    If a string, it must be a valid `scipy.signal window function\n",
      "    <https://docs.scipy.org/doc/scipy/reference/signal.windows.html#module-scipy.signal.windows>`__.\n",
      "\n",
      "    Certain Scipy window types require additional parameters to be passed\n",
      "    in the aggregation function. The additional parameters must match\n",
      "    the keywords specified in the Scipy window type method signature.\n",
      "\n",
      "on : str, optional\n",
      "    For a DataFrame, a column label or Index level on which\n",
      "    to calculate the rolling window, rather than the DataFrame's index.\n",
      "\n",
      "    Provided integer column is ignored and excluded from result since\n",
      "    an integer index is not used to calculate the rolling window.\n",
      "\n",
      "axis : int or str, default 0\n",
      "    If ``0`` or ``'index'``, roll across the rows.\n",
      "\n",
      "    If ``1`` or ``'columns'``, roll across the columns.\n",
      "\n",
      "    For `Series` this parameter is unused and defaults to 0.\n",
      "\n",
      "closed : str, default None\n",
      "    If ``'right'``, the first point in the window is excluded from calculations.\n",
      "\n",
      "    If ``'left'``, the last point in the window is excluded from calculations.\n",
      "\n",
      "    If ``'both'``, the no points in the window are excluded from calculations.\n",
      "\n",
      "    If ``'neither'``, the first and last points in the window are excluded\n",
      "    from calculations.\n",
      "\n",
      "    Default ``None`` (``'right'``).\n",
      "\n",
      "    .. versionchanged:: 1.2.0\n",
      "\n",
      "        The closed parameter with fixed windows is now supported.\n",
      "\n",
      "step : int, default None\n",
      "\n",
      "    ..versionadded:: 1.5.0\n",
      "\n",
      "    Evaluate the window at every ``step`` result, equivalent to slicing as\n",
      "    ``[::step]``. ``window`` must be an integer. Using a step argument other\n",
      "    than None or 1 will produce a result with a different shape than the input.\n",
      "\n",
      "method : str {'single', 'table'}, default 'single'\n",
      "\n",
      "    .. versionadded:: 1.3.0\n",
      "\n",
      "    Execute the rolling operation per single column or row (``'single'``)\n",
      "    or over the entire object (``'table'``).\n",
      "\n",
      "    This argument is only implemented when specifying ``engine='numba'``\n",
      "    in the method call.\n",
      "\n",
      "Returns\n",
      "-------\n",
      "``Window`` subclass if a ``win_type`` is passed\n",
      "\n",
      "``Rolling`` subclass if ``win_type`` is not passed\n",
      "\n",
      "See Also\n",
      "--------\n",
      "expanding : Provides expanding transformations.\n",
      "ewm : Provides exponential weighted functions.\n",
      "\n",
      "Notes\n",
      "-----\n",
      "See :ref:`Windowing Operations <window.generic>` for further usage details\n",
      "and examples.\n",
      "\n",
      "Examples\n",
      "--------\n",
      ">>> df = pd.DataFrame({'B': [0, 1, 2, np.nan, 4]})\n",
      ">>> df\n",
      "     B\n",
      "0  0.0\n",
      "1  1.0\n",
      "2  2.0\n",
      "3  NaN\n",
      "4  4.0\n",
      "\n",
      "**window**\n",
      "\n",
      "Rolling sum with a window length of 2 observations.\n",
      "\n",
      ">>> df.rolling(2).sum()\n",
      "     B\n",
      "0  NaN\n",
      "1  1.0\n",
      "2  3.0\n",
      "3  NaN\n",
      "4  NaN\n",
      "\n",
      "Rolling sum with a window span of 2 seconds.\n",
      "\n",
      ">>> df_time = pd.DataFrame({'B': [0, 1, 2, np.nan, 4]},\n",
      "...                        index = [pd.Timestamp('20130101 09:00:00'),\n",
      "...                                 pd.Timestamp('20130101 09:00:02'),\n",
      "...                                 pd.Timestamp('20130101 09:00:03'),\n",
      "...                                 pd.Timestamp('20130101 09:00:05'),\n",
      "...                                 pd.Timestamp('20130101 09:00:06')])\n",
      "\n",
      ">>> df_time\n",
      "                       B\n",
      "2013-01-01 09:00:00  0.0\n",
      "2013-01-01 09:00:02  1.0\n",
      "2013-01-01 09:00:03  2.0\n",
      "2013-01-01 09:00:05  NaN\n",
      "2013-01-01 09:00:06  4.0\n",
      "\n",
      ">>> df_time.rolling('2s').sum()\n",
      "                       B\n",
      "2013-01-01 09:00:00  0.0\n",
      "2013-01-01 09:00:02  1.0\n",
      "2013-01-01 09:00:03  3.0\n",
      "2013-01-01 09:00:05  NaN\n",
      "2013-01-01 09:00:06  4.0\n",
      "\n",
      "Rolling sum with forward looking windows with 2 observations.\n",
      "\n",
      ">>> indexer = pd.api.indexers.FixedForwardWindowIndexer(window_size=2)\n",
      ">>> df.rolling(window=indexer, min_periods=1).sum()\n",
      "     B\n",
      "0  1.0\n",
      "1  3.0\n",
      "2  2.0\n",
      "3  4.0\n",
      "4  4.0\n",
      "\n",
      "**min_periods**\n",
      "\n",
      "Rolling sum with a window length of 2 observations, but only needs a minimum of 1\n",
      "observation to calculate a value.\n",
      "\n",
      ">>> df.rolling(2, min_periods=1).sum()\n",
      "     B\n",
      "0  0.0\n",
      "1  1.0\n",
      "2  3.0\n",
      "3  2.0\n",
      "4  4.0\n",
      "\n",
      "**center**\n",
      "\n",
      "Rolling sum with the result assigned to the center of the window index.\n",
      "\n",
      ">>> df.rolling(3, min_periods=1, center=True).sum()\n",
      "     B\n",
      "0  1.0\n",
      "1  3.0\n",
      "2  3.0\n",
      "3  6.0\n",
      "4  4.0\n",
      "\n",
      ">>> df.rolling(3, min_periods=1, center=False).sum()\n",
      "     B\n",
      "0  0.0\n",
      "1  1.0\n",
      "2  3.0\n",
      "3  3.0\n",
      "4  6.0\n",
      "\n",
      "**step**\n",
      "\n",
      "Rolling sum with a window length of 2 observations, minimum of 1 observation to\n",
      "calculate a value, and a step of 2.\n",
      "\n",
      ">>> df.rolling(2, min_periods=1, step=2).sum()\n",
      "     B\n",
      "0  0.0\n",
      "2  3.0\n",
      "4  4.0\n",
      "\n",
      "**win_type**\n",
      "\n",
      "Rolling sum with a window length of 2, using the Scipy ``'gaussian'``\n",
      "window type. ``std`` is required in the aggregation function.\n",
      "\n",
      ">>> df.rolling(2, win_type='gaussian').sum(std=3)\n",
      "          B\n",
      "0       NaN\n",
      "1  0.986207\n",
      "2  2.958621\n",
      "3       NaN\n",
      "4       NaN\n",
      "\u001b[0;31mFile:\u001b[0m      ~/miniconda3/envs/acrdev/lib/python3.10/site-packages/pandas/core/generic.py\n",
      "\u001b[0;31mType:\u001b[0m      method\n"
     ]
    }
   ],
   "source": [
    "df.rolling?"
   ]
  },
  {
   "cell_type": "code",
   "execution_count": 7,
   "metadata": {},
   "outputs": [
    {
     "data": {
      "text/html": [
       "<div>\n",
       "<style scoped>\n",
       "    .dataframe tbody tr th:only-of-type {\n",
       "        vertical-align: middle;\n",
       "    }\n",
       "\n",
       "    .dataframe tbody tr th {\n",
       "        vertical-align: top;\n",
       "    }\n",
       "\n",
       "    .dataframe thead th {\n",
       "        text-align: right;\n",
       "    }\n",
       "</style>\n",
       "<table border=\"1\" class=\"dataframe\">\n",
       "  <thead>\n",
       "    <tr style=\"text-align: right;\">\n",
       "      <th></th>\n",
       "      <th>state</th>\n",
       "      <th>end_time</th>\n",
       "      <th>start_time</th>\n",
       "      <th>duration</th>\n",
       "    </tr>\n",
       "  </thead>\n",
       "  <tbody>\n",
       "    <tr>\n",
       "      <th>0</th>\n",
       "      <td>Wake</td>\n",
       "      <td>2022-09-21 11:15:19.990233375</td>\n",
       "      <td>2022-09-21 09:15:19.999999000</td>\n",
       "      <td>0 days 01:59:59.990234375</td>\n",
       "    </tr>\n",
       "    <tr>\n",
       "      <th>0</th>\n",
       "      <td>Wake</td>\n",
       "      <td>2022-09-21 13:15:19.980467750</td>\n",
       "      <td>2022-09-21 11:15:19.990233375</td>\n",
       "      <td>0 days 01:59:59.990234375</td>\n",
       "    </tr>\n",
       "    <tr>\n",
       "      <th>0</th>\n",
       "      <td>Wake</td>\n",
       "      <td>2022-09-21 13:26:07.760497047</td>\n",
       "      <td>2022-09-21 13:15:19.980467750</td>\n",
       "      <td>0 days 00:10:47.780029297</td>\n",
       "    </tr>\n",
       "    <tr>\n",
       "      <th>1</th>\n",
       "      <td>Transition-to-NREM</td>\n",
       "      <td>2022-09-21 13:26:49.170470191</td>\n",
       "      <td>2022-09-21 13:26:07.760497047</td>\n",
       "      <td>0 days 00:00:41.409973145</td>\n",
       "    </tr>\n",
       "    <tr>\n",
       "      <th>2</th>\n",
       "      <td>Wake</td>\n",
       "      <td>2022-09-21 13:32:04.870482398</td>\n",
       "      <td>2022-09-21 13:26:49.170470191</td>\n",
       "      <td>0 days 00:05:15.700012207</td>\n",
       "    </tr>\n",
       "    <tr>\n",
       "      <th>...</th>\n",
       "      <td>...</td>\n",
       "      <td>...</td>\n",
       "      <td>...</td>\n",
       "      <td>...</td>\n",
       "    </tr>\n",
       "    <tr>\n",
       "      <th>131</th>\n",
       "      <td>Wake</td>\n",
       "      <td>2022-09-21 21:01:19.241209937</td>\n",
       "      <td>2022-09-21 21:01:10.141112281</td>\n",
       "      <td>0 days 00:00:09.100097656</td>\n",
       "    </tr>\n",
       "    <tr>\n",
       "      <th>132</th>\n",
       "      <td>NREM</td>\n",
       "      <td>2022-09-21 21:02:43.241209937</td>\n",
       "      <td>2022-09-21 21:01:19.241209937</td>\n",
       "      <td>0 days 00:01:24</td>\n",
       "    </tr>\n",
       "    <tr>\n",
       "      <th>133</th>\n",
       "      <td>Transition-to-REM</td>\n",
       "      <td>2022-09-21 21:03:01.341307594</td>\n",
       "      <td>2022-09-21 21:02:43.241209937</td>\n",
       "      <td>0 days 00:00:18.100097656</td>\n",
       "    </tr>\n",
       "    <tr>\n",
       "      <th>134</th>\n",
       "      <td>REM</td>\n",
       "      <td>2022-09-21 21:05:05.241209937</td>\n",
       "      <td>2022-09-21 21:03:01.341307594</td>\n",
       "      <td>0 days 00:02:03.899902344</td>\n",
       "    </tr>\n",
       "    <tr>\n",
       "      <th>135</th>\n",
       "      <td>Wake</td>\n",
       "      <td>2022-09-21 21:15:19.941405250</td>\n",
       "      <td>2022-09-21 21:05:05.241209937</td>\n",
       "      <td>0 days 00:10:14.700195312</td>\n",
       "    </tr>\n",
       "  </tbody>\n",
       "</table>\n",
       "<p>469 rows × 4 columns</p>\n",
       "</div>"
      ],
      "text/plain": [
       "                  state                      end_time  \\\n",
       "0                  Wake 2022-09-21 11:15:19.990233375   \n",
       "0                  Wake 2022-09-21 13:15:19.980467750   \n",
       "0                  Wake 2022-09-21 13:26:07.760497047   \n",
       "1    Transition-to-NREM 2022-09-21 13:26:49.170470191   \n",
       "2                  Wake 2022-09-21 13:32:04.870482398   \n",
       "..                  ...                           ...   \n",
       "131                Wake 2022-09-21 21:01:19.241209937   \n",
       "132                NREM 2022-09-21 21:02:43.241209937   \n",
       "133   Transition-to-REM 2022-09-21 21:03:01.341307594   \n",
       "134                 REM 2022-09-21 21:05:05.241209937   \n",
       "135                Wake 2022-09-21 21:15:19.941405250   \n",
       "\n",
       "                       start_time                  duration  \n",
       "0   2022-09-21 09:15:19.999999000 0 days 01:59:59.990234375  \n",
       "0   2022-09-21 11:15:19.990233375 0 days 01:59:59.990234375  \n",
       "0   2022-09-21 13:15:19.980467750 0 days 00:10:47.780029297  \n",
       "1   2022-09-21 13:26:07.760497047 0 days 00:00:41.409973145  \n",
       "2   2022-09-21 13:26:49.170470191 0 days 00:05:15.700012207  \n",
       "..                            ...                       ...  \n",
       "131 2022-09-21 21:01:10.141112281 0 days 00:00:09.100097656  \n",
       "132 2022-09-21 21:01:19.241209937           0 days 00:01:24  \n",
       "133 2022-09-21 21:02:43.241209937 0 days 00:00:18.100097656  \n",
       "134 2022-09-21 21:03:01.341307594 0 days 00:02:03.899902344  \n",
       "135 2022-09-21 21:05:05.241209937 0 days 00:10:14.700195312  \n",
       "\n",
       "[469 rows x 4 columns]"
      ]
     },
     "execution_count": 7,
     "metadata": {},
     "output_type": "execute_result"
    }
   ],
   "source": [
    "hyp['sdpi']"
   ]
  },
  {
   "cell_type": "markdown",
   "metadata": {},
   "source": [
    "# To be Del'd"
   ]
  }
 ],
 "metadata": {
  "kernelspec": {
   "display_name": "Python 3.10.6 ('acrdev')",
   "language": "python",
   "name": "python3"
  },
  "language_info": {
   "codemirror_mode": {
    "name": "ipython",
    "version": 3
   },
   "file_extension": ".py",
   "mimetype": "text/x-python",
   "name": "python",
   "nbconvert_exporter": "python",
   "pygments_lexer": "ipython3",
   "version": "3.10.6"
  },
  "orig_nbformat": 4,
  "vscode": {
   "interpreter": {
    "hash": "f1d71d528ced425d3e458548722e2339c6e39870f631ffe4f2412117d27fa354"
   }
  }
 },
 "nbformat": 4,
 "nbformat_minor": 2
}

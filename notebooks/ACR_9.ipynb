{
 "cells": [
  {
   "cell_type": "markdown",
   "metadata": {},
   "source": [
    "# ACR_9"
   ]
  },
  {
   "cell_type": "code",
   "execution_count": null,
   "metadata": {},
   "outputs": [],
   "source": [
    "%matplotlib widget\n",
    "%reload_ext autoreload\n",
    "%autoreload 2\n",
    "\n",
    "import numpy as np\n",
    "import pandas as pd\n",
    "import tdt\n",
    "from pathlib import Path\n",
    "import matplotlib.pyplot as plt\n",
    "import seaborn as sns\n",
    "\n",
    "import kd_analysis.main.kd_utils as kd\n",
    "import kd_analysis.main.kd_plotting as kp\n",
    "import kd_analysis.main.kd_hypno as kh\n",
    "import kd_analysis.ACR.acr_utils as acu\n",
    "import sleep_score_for_me.v4 as ssfm\n",
    "\n",
    "bp_def = dict(delta=(0.75, 4), theta=(4, 8), alpha = (8, 13), sigma = (11, 16), beta = (13, 30), gamma=(35, 55))\n",
    "\n",
    "kd_ref = {}\n",
    "kd_ref['echans'] = [1,2]\n",
    "kd_ref['fchans']=[1,2,3,4,5,6,7,8,9,10,11,12,13,14,15,16]\n",
    "kd_ref['analysis_root'] = Path('/Volumes/opto_loc/Data/ACHR_PROJECT_MATERIALS/ACHR_3/ACHR_3-analysis-data')\n",
    "kd_ref['tank_root'] = Path('/Volumes/opto_loc/Data/ACHR_3/ACHR_3_TANK')\n",
    "\n",
    "import plotly.express as px\n",
    "import plotly.io as pio\n",
    "\n",
    "pio.templates.default = \"plotly_dark\"\n"
   ]
  },
  {
   "cell_type": "code",
   "execution_count": null,
   "metadata": {},
   "outputs": [],
   "source": [
    "acr9_info = {}\n",
    "acr9_info['subject'] = 'ACR_9'\n",
    "acr9_info['complete_key_list'] = ['control1', 'laser1']"
   ]
  },
  {
   "cell_type": "code",
   "execution_count": null,
   "metadata": {},
   "outputs": [],
   "source": [
    "cds = ['white', 'cyan']"
   ]
  },
  {
   "cell_type": "markdown",
   "metadata": {},
   "source": [
    "# Functions"
   ]
  },
  {
   "cell_type": "code",
   "execution_count": null,
   "metadata": {},
   "outputs": [],
   "source": [
    "def ss_times(sub, exp):\n",
    "    def acr_get_times(sub, exp):\n",
    "        block_path = '/Volumes/opto_loc/Data/'+sub+'/'+sub+'-'+exp\n",
    "        ep = tdt.read_block(block_path, t1=0, t2=0, evtype=['epocs'])\n",
    "        times = {}\n",
    "        times['bl_sleep_start'] = ep.epocs.Bttn.onset[0]\n",
    "        times['stim_on'] = ep.epocs.Wdr_.onset[-1]\n",
    "        times['stim_off'] = ep.epocs.Wdr_.offset[-1]\n",
    "\n",
    "        dt_start = pd.to_datetime(ep.info.start_date)\n",
    "\n",
    "        on_sec = pd.to_timedelta(times['stim_on'], unit='S')\n",
    "        off_sec = pd.to_timedelta(times['stim_off'], unit='S')\n",
    "\n",
    "        times['stim_on_dt'] = dt_start+on_sec\n",
    "        times['stim_off_dt'] = dt_start+off_sec\n",
    "        return times\n",
    "    \n",
    "    times = acr_get_times(sub, exp)\n",
    "\n",
    "    start1 = times['bl_sleep_start'] - 30\n",
    "    end1 = start1 + 7200\n",
    "    print('FILE #1'), print(start1), print(end1)\n",
    "\n",
    "    start2 = end1\n",
    "    end2 = times['stim_off']\n",
    "    print('FILE #2'), print(start2), print(end2)\n",
    "    return times"
   ]
  },
  {
   "cell_type": "code",
   "execution_count": null,
   "metadata": {},
   "outputs": [],
   "source": [
    "def load_data(sub_info, exp_list=None, add_time=None):\n",
    "    sub = sub_info['subject']\n",
    "    times = {}\n",
    "\n",
    "    if exp_list == None:\n",
    "        exp_list = sub_info['complete_key_list']\n",
    "    \n",
    "    for condition in exp_list:\n",
    "        times[condition] = ss_times(sub, condition)\n",
    "    paths = acu.get_paths(sub, sub_info['complete_key_list'])   \n",
    "\n",
    "    a = {}\n",
    "    h={}\n",
    "    for condition in exp_list:\n",
    "       if add_time is not None:\n",
    "           a[condition+'-e-d'], a[condition+'-e-s'] = kd.get_data_spg(paths[condition], store='EEGr', t1=times[condition]['bl_sleep_start']-30, t2=times[condition]['stim_off']+add_time, channel=[1,2])\n",
    "           a[condition+'-f-d'], a[condition+'-f-s'] = kd.get_data_spg(paths[condition], store='LFP_', t1=times[condition]['bl_sleep_start']-30, t2=times[condition]['stim_off']+add_time, channel=[2, 8, 15])\n",
    "       else:\n",
    "           a[condition+'-e-d'], a[condition+'-e-s'] = kd.get_data_spg(paths[condition], store='EEGr', t1=times[condition]['bl_sleep_start']-30, t2=times[condition]['stim_off'], channel=[1,2])\n",
    "           a[condition+'-f-d'], a[condition+'-f-s'] = kd.get_data_spg(paths[condition], store='LFP_', t1=times[condition]['bl_sleep_start']-30, t2=times[condition]['stim_off'], channel=[2, 8, 15])\n",
    "       start_time = a[condition+'-e-d'].datetime.values[0]\n",
    "       h[condition] = acu.load_hypno_set(sub, condition, scoring_start_time=start_time)\n",
    "    return a, h, times\n"
   ]
  },
  {
   "cell_type": "code",
   "execution_count": null,
   "metadata": {},
   "outputs": [],
   "source": [
    "def acr_rel2peak(spg, hyp, times, band='delta', ylim=None):\n",
    "    \"\"\"\n",
    "    spg --> xarray.dataarray\n",
    "    hyp --> hypnogram object\n",
    "    times --> dictionary (make sure to select the condition)\n",
    "     \"\"\"\n",
    "    \n",
    "    bp = kd.get_bp_set2(spg, bp_def)\n",
    "    smooth_bp = kd.get_smoothed_ds(bp, smoothing_sigma=6)\n",
    "    smooth_nrem_bp = kh.keep_states(smooth_bp, hyp, ['NREM'])\n",
    "\n",
    "    nrem_spg = kh.keep_states(spg, hyp, ['NREM'])\n",
    "    nrem_bp = kd.get_bp_set2(nrem_spg, bands=bp_def)\n",
    "    rel_time_index = np.arange(0, len(smooth_nrem_bp.datetime.values))\n",
    "\n",
    "    t1 = smooth_nrem_bp.datetime.values[0]\n",
    "    t2 = times['stim_on_dt']\n",
    "    avg_period = slice(t1, t2)\n",
    "    avgs = smooth_nrem_bp.sel(datetime=avg_period).mean(dim='datetime')\n",
    "\n",
    "    bp_nrem_rel2peak = smooth_nrem_bp/avgs\n",
    "\n",
    "    bp_nrem_rel2peak = bp_nrem_rel2peak.assign_coords(time_rel=('datetime', rel_time_index))\n",
    "\n",
    "    return bp_nrem_rel2peak.to_dataframe().reset_index()"
   ]
  },
  {
   "cell_type": "code",
   "execution_count": null,
   "metadata": {},
   "outputs": [],
   "source": [
    "def acr_rel_allstates(spg, hyp, times, band='delta', ylim=None):\n",
    "    \"\"\"\n",
    "    spg --> xarray.dataarray\n",
    "    hyp --> hypnogram object\n",
    "    times --> dictionary (make sure to select the condition)\n",
    "     \"\"\"\n",
    "    \n",
    "    bp = kd.get_bp_set2(spg, bp_def)\n",
    "    smooth_bp = kd.get_smoothed_ds(bp, smoothing_sigma=6)\n",
    "    smooth_nrem_bp = kh.keep_states(smooth_bp, hyp, ['NREM'])\n",
    "\n",
    "    nrem_spg = kh.keep_states(spg, hyp, ['NREM'])\n",
    "    nrem_bp = kd.get_bp_set2(nrem_spg, bands=bp_def)\n",
    "    rel_time_index = np.arange(0, len(smooth_bp.datetime.values))\n",
    "\n",
    "    t1 = smooth_nrem_bp.datetime.values[0]\n",
    "    t2 = times['stim_on_dt']\n",
    "    avg_period = slice(t1, t2)\n",
    "    avgs = smooth_nrem_bp.sel(datetime=avg_period).mean(dim='datetime')\n",
    "\n",
    "    bp_rel2peak = smooth_bp/avgs\n",
    "\n",
    "    bp_rel2peak = bp_rel2peak.assign_coords(time_rel=('datetime', rel_time_index))\n",
    "\n",
    "    return bp_rel2peak.to_dataframe().reset_index()"
   ]
  },
  {
   "cell_type": "code",
   "execution_count": null,
   "metadata": {},
   "outputs": [],
   "source": [
    "def acr(spg, hyp, times, band='delta', ylim=None):\n",
    "    \"\"\"\n",
    "    spg --> xarray.dataarray\n",
    "    hyp --> hypnogram object\n",
    "    times --> dictionary (make sure to select the condition)\n",
    "     \"\"\"\n",
    "    \n",
    "    bp = kd.get_bp_set2(spg, bp_def)\n",
    "    smooth_bp = kd.get_smoothed_ds(bp, smoothing_sigma=6)\n",
    "    smooth_nrem_bp = kh.keep_states(smooth_bp, hyp, ['NREM'])\n",
    "\n",
    "    nrem_spg = kh.keep_states(spg, hyp, ['NREM'])\n",
    "    nrem_bp = kd.get_bp_set2(nrem_spg, bands=bp_def)\n",
    "    rel_time_index = np.arange(0, len(smooth_nrem_bp.datetime.values))\n",
    "\n",
    "    t1 = smooth_nrem_bp.datetime.values[0]\n",
    "    t2 = times['stim_on_dt']\n",
    "    avg_period = slice(t1, t2)\n",
    "    avgs = smooth_nrem_bp.sel(datetime=avg_period).mean(dim='datetime')\n",
    "\n",
    "    bp_nrem_rel2peak = smooth_nrem_bp/avgs\n",
    "\n",
    "    bp_nrem_rel2peak = bp_nrem_rel2peak.assign_coords(time_rel=('datetime', rel_time_index))\n",
    "\n",
    "    df4plot = bp_nrem_rel2peak.to_dataframe()\n",
    "    df4plot.reset_index(inplace=True)\n",
    "    \n",
    "    g = sns.FacetGrid(df4plot, row='channel', ylim=ylim, height=3, aspect=6)\n",
    "    g.map(sns.lineplot, 'time_rel', band)\n",
    "\n",
    "    return g"
   ]
  },
  {
   "cell_type": "markdown",
   "metadata": {},
   "source": [
    "# Nights"
   ]
  },
  {
   "cell_type": "code",
   "execution_count": null,
   "metadata": {},
   "outputs": [],
   "source": [
    "t1 = np.datetime64('2022-06-10T21:00')\n",
    "t2 = np.datetime64('2022-06-11T09:00')\n",
    "t3 = np.datetime64('2022-06-11T21:00')\n",
    "t4 = np.datetime64('2022-06-12T09:00')\n",
    "t5 = np.datetime64('2022-06-12T21:00')\n",
    "t6 = np.datetime64('2022-06-13T09:00')\n",
    "\n",
    "s1 = slice(t1, t2)\n",
    "s2 = slice(t2, t3)\n",
    "s3 = slice(t3, t4)\n",
    "s4 = slice(t4, t5)\n",
    "s5 = slice(t5, t6)"
   ]
  },
  {
   "cell_type": "code",
   "execution_count": null,
   "metadata": {},
   "outputs": [],
   "source": [
    "#Friday Night\n",
    "en1 = a9ed['test1'].sel(datetime=s1)\n",
    "mn1 = a9md['test1'].sel(datetime=s1)\n",
    "hyp1 = ssfm.ssfm_v4(en1, mn1, 1)"
   ]
  },
  {
   "cell_type": "code",
   "execution_count": null,
   "metadata": {},
   "outputs": [],
   "source": [
    "#Saturday Night\n",
    "en2 = a9ed['test1'].sel(datetime=s3)\n",
    "mn2 = a9md['test1'].sel(datetime=s3)\n",
    "hyp2 = ssfm.ssfm_v4(en2, mn2, 1)"
   ]
  },
  {
   "cell_type": "code",
   "execution_count": null,
   "metadata": {},
   "outputs": [],
   "source": [
    "#Sunday Night\n",
    "en3 = a9ed['test1'].sel(datetime=s5)\n",
    "mn3 = a9md['test1'].sel(datetime=s5)\n",
    "hyp3 = ssfm.ssfm_v4(en3, mn3, 1)"
   ]
  },
  {
   "cell_type": "markdown",
   "metadata": {},
   "source": [
    "# Peak in Morn"
   ]
  },
  {
   "cell_type": "code",
   "execution_count": null,
   "metadata": {},
   "outputs": [],
   "source": [
    "m1 = np.datetime64('2022-06-15T09:00')\n",
    "m2 = np.datetime64('2022-06-15T21:00')\n",
    "m3 = np.datetime64('2022-06-16T09:00')\n",
    "m4 = np.datetime64('2022-06-16T15:00')\n",
    "\n",
    "ms1 = slice(m1, m2)\n",
    "ms2 = slice(m2, m3)\n",
    "ms3 = slice(m3, m4)"
   ]
  },
  {
   "cell_type": "code",
   "execution_count": null,
   "metadata": {},
   "outputs": [],
   "source": [
    "#Tuesday night - Light was incorrectly ON\n",
    "t1 = np.datetime64('2022-06-14T21:00')\n",
    "t2 = np.datetime64('2022-06-15T09:00')\n",
    "ts = slice(t1, t2)\n",
    "ec = a9ed['control1'].sel(datetime=ts)\n",
    "mc = a9md['control1'].sel(datetime=ts)\n",
    "hyp1 = ssfm.ssfm_v4(ec, mc, 1)"
   ]
  },
  {
   "cell_type": "code",
   "execution_count": null,
   "metadata": {},
   "outputs": [],
   "source": [
    "# Wednesday-light\n",
    "e1 = a9ed['mon1'].sel(datetime=ms1)\n",
    "m1 = a9md['mon1'].sel(datetime=ms1)\n",
    "hyp1 = ssfm.ssfm_v4(e1, m1, 1)"
   ]
  },
  {
   "cell_type": "code",
   "execution_count": null,
   "metadata": {},
   "outputs": [],
   "source": [
    "# Wednesday NIGHT into thursday morn (DARK)\n",
    "e2 = a9ed['mon1'].sel(datetime=ms2)\n",
    "m2 = a9md['mon1'].sel(datetime=ms2)\n",
    "ssfm.ssfm_v4(e2, m2, 1)"
   ]
  },
  {
   "cell_type": "code",
   "execution_count": null,
   "metadata": {},
   "outputs": [],
   "source": [
    "# Thursday morn (light)\n",
    "e3 = a9ed['mon1'].sel(datetime=ms3)\n",
    "m3 = a9md['mon1'].sel(datetime=ms3)\n",
    "ssfm.ssfm_v4(e3, m3, 1)"
   ]
  },
  {
   "cell_type": "markdown",
   "metadata": {},
   "source": [
    "# Relevant Times for Scoring/Analysis"
   ]
  },
  {
   "cell_type": "markdown",
   "metadata": {},
   "source": [
    "Scoring plan \n",
    "- start 30 sec before Bttn sleep start\n",
    "- score all of 15-min 'baseline' period, and entire 4-hour stim"
   ]
  },
  {
   "cell_type": "code",
   "execution_count": null,
   "metadata": {},
   "outputs": [],
   "source": [
    "ctrl_times = ss_times('ACR_9', 'control1')"
   ]
  },
  {
   "cell_type": "code",
   "execution_count": null,
   "metadata": {},
   "outputs": [],
   "source": [
    "lsr_times = ss_times('ACR_9', 'laser1')"
   ]
  },
  {
   "cell_type": "markdown",
   "metadata": {},
   "source": [
    "# Load Data + Quick Plots"
   ]
  },
  {
   "cell_type": "code",
   "execution_count": null,
   "metadata": {},
   "outputs": [],
   "source": [
    "a9, h9, a9_times = load_data(acr9_info, add_time=None)"
   ]
  },
  {
   "cell_type": "code",
   "execution_count": null,
   "metadata": {},
   "outputs": [],
   "source": [
    "f, ax = plt.subplots()\n",
    "kp.plot_shaded_bp(a9['control1-e-s'], 1, bp_def, 'delta', h9['control1'], ax=ax)"
   ]
  },
  {
   "cell_type": "markdown",
   "metadata": {},
   "source": [
    "# Quantify relative to \"Sleep Peak\""
   ]
  },
  {
   "cell_type": "markdown",
   "metadata": {},
   "source": [
    "Procedure:\n",
    "- Get nrem only\n",
    "- chunk in some way\n",
    "    - or take the average of the entire sleep period\n",
    "- express everything relative to that peak\n",
    "\n",
    "Then should have the option to plot NREM only, or all states expressed relative to NREM peak"
   ]
  },
  {
   "cell_type": "markdown",
   "metadata": {},
   "source": [
    "Need:\n",
    "- A way to get continuous NREM Data, (i.e. w/o gaps from other states)"
   ]
  },
  {
   "cell_type": "code",
   "execution_count": null,
   "metadata": {},
   "outputs": [],
   "source": [
    "c = acr_rel2peak(a9['control1-e-s'], h9['control1'], a9_times['control1'])\n",
    "l = acr_rel2peak(a9['laser1-e-s'], h9['laser1'], a9_times['laser1'])\n",
    "cf = acr_rel2peak(a9['control1-f-s'], h9['control1'], a9_times['control1'])\n",
    "lf = acr_rel2peak(a9['laser1-f-s'], h9['laser1'], a9_times['laser1'])\n",
    "c['Condition'] = 'Control'\n",
    "l['Condition'] = 'Laser'\n",
    "cf['Condition'] = 'Control'\n",
    "lf['Condition'] = 'Laser'\n",
    "cl = pd.concat([c, l])\n",
    "clf = pd.concat([cf, lf])"
   ]
  },
  {
   "cell_type": "code",
   "execution_count": null,
   "metadata": {},
   "outputs": [],
   "source": [
    "title = \"Delta Power (0.75-4Hz) During Sinusoidal Laser Stimulation vs Control - LFP | NREM Only\"\n",
    "fig = px.line(clf, x='time_rel', y='delta', color='Condition', facet_row='channel', height=600, width=2200, color_discrete_sequence=['lightgray', 'cyan'], title=title)\n",
    "fig.update_xaxes(range=[0, 4000], title='Time')\n",
    "fig.update_yaxes(range=[0, 2], title='Norm. Delta Power')\n",
    "fig.add_vrect(x0=307, x1=4000, line_width=0, fillcolor=\"turquoise\", opacity=0.05)\n",
    "fig.add_vline(x=307, line_width=2, opacity=1, line_color='red')\n",
    "fig.update_traces(line=dict(width=3))\n",
    "fig"
   ]
  },
  {
   "cell_type": "code",
   "execution_count": null,
   "metadata": {},
   "outputs": [],
   "source": [
    "title = \"Delta Power (0.75-4Hz) During Sinusoidal Laser Stimulation vs Control - EEG | NREM Only\"\n",
    "fig = px.line(cl, x='time_rel', y='delta', color='Condition', facet_row='channel', height=600, width=2200, color_discrete_sequence=['lightgray', 'cyan'], title=title)\n",
    "fig.update_xaxes(range=[0, 4000], title='Time')\n",
    "fig.update_yaxes(range=[0, 2], title='Norm. Delta Power')\n",
    "fig.add_vrect(x0=307, x1=4000, line_width=0, fillcolor=\"turquoise\", opacity=0.05)\n",
    "fig.add_vline(x=307, line_width=2, opacity=1, line_color='red')\n",
    "fig.update_traces(line=dict(width=2))\n",
    "fig"
   ]
  },
  {
   "cell_type": "markdown",
   "metadata": {},
   "source": [
    "# Histograms/Quantify"
   ]
  },
  {
   "cell_type": "code",
   "execution_count": null,
   "metadata": {},
   "outputs": [],
   "source": [
    "def x2df(xl, keys):\n",
    "    dfs = []\n",
    "    for x, key in zip(xl, keys):\n",
    "        x = x.to_dataframe(name=key)\n",
    "        x.reset_index(inplace=True)\n",
    "        x['key'] = key\n",
    "        dfs.append(x)\n",
    "    df = pd.concat(dfs)\n",
    "    return df"
   ]
  },
  {
   "cell_type": "code",
   "execution_count": null,
   "metadata": {},
   "outputs": [],
   "source": [
    "def acr_bp(spg, hyp, times, state=['NREM'], type='df', key=''):\n",
    "    t1 = times['stim_on_dt']\n",
    "    t2 = times['stim_off_dt']\n",
    "    bp = kd.get_bp_set2(spg, bp_def)\n",
    "\n",
    "    bp = bp.sel(datetime=slice(t1, t2))\n",
    "\n",
    "    bp = kh.keep_states(bp, hyp, state)\n",
    "\n",
    "\n",
    "    if type == 'xr':\n",
    "        return bp\n",
    "    elif type == 'df':\n",
    "        bp_df = bp.to_dataframe()\n",
    "        bp_df = bp_df.reset_index()\n",
    "        bp_df['key'] = key\n",
    "        return bp_df\n",
    "    "
   ]
  },
  {
   "cell_type": "code",
   "execution_count": null,
   "metadata": {},
   "outputs": [],
   "source": [
    "def acr_bp_rel(spg, hyp, times, state=['NREM'], type='df', key=''):\n",
    "    #Time values that we will need\n",
    "    start = spg.datetime.values[0]\n",
    "    t1 = times['stim_on_dt']\n",
    "    t2 = times['stim_off_dt']\n",
    "    \n",
    "    #Calculate the bandpower values, then cut out only the desired states \n",
    "    bp = kd.get_bp_set2(spg, bp_def)\n",
    "    bp = kh.keep_states(bp, hyp, state)\n",
    "\n",
    "    #Gets the average bandpowers over the peak period (for the given state)\n",
    "    avg_period = slice(start, t1)\n",
    "    avgs = bp.sel(datetime=avg_period).mean(dim='datetime')\n",
    "\n",
    "    #This expresses everything relative to that mean value over the peak period\n",
    "    bp = bp/avgs\n",
    "\n",
    "    #This selects out only the stim period\n",
    "    bp = bp.sel(datetime=slice(t1, t2))\n",
    "    \n",
    "    # NOW HAVE: Stim period bandpower values, from only the desired state(s), relative to their mean value during the peak period\n",
    "\n",
    "    #This outputs the data in the desired format:\n",
    "    if type == 'xr':\n",
    "        return bp\n",
    "    elif type == 'df':\n",
    "        bp_df = bp.to_dataframe()\n",
    "        bp_df = bp_df.reset_index()\n",
    "        bp_df['Key'] = key\n",
    "        return bp_df\n",
    "    "
   ]
  },
  {
   "cell_type": "code",
   "execution_count": null,
   "metadata": {},
   "outputs": [],
   "source": [
    "ct_eeg = acr_bp_rel(a9['control1-e-s'], h9['control1'], a9_times['control1'], key='Control')\n",
    "ls_eeg = acr_bp_rel(a9['laser1-e-s'], h9['laser1'], a9_times['laser1'], key='Laser')\n",
    "ct_lfp = acr_bp_rel(a9['control1-f-s'], h9['control1'], a9_times['control1'], key='Control')\n",
    "ls_lfp = acr_bp_rel(a9['laser1-f-s'], h9['laser1'], a9_times['laser1'], key='Laser')"
   ]
  },
  {
   "cell_type": "code",
   "execution_count": null,
   "metadata": {},
   "outputs": [],
   "source": [
    "rel_stim_bp = pd.concat([ct_eeg, ls_eeg])\n",
    "rel_stim_bp_lfp = pd.concat([ct_lfp, ls_lfp])\n",
    "new_rsbp = rel_stim_bp.melt(id_vars=['Key', 'channel'], value_vars=['delta', 'theta', 'alpha', 'beta', 'gamma'], var_name='band', value_name='power')\n",
    "new_rsbp_lfp = rel_stim_bp_lfp.melt(id_vars=['Key', 'channel'], value_vars=['delta', 'theta', 'alpha', 'beta', 'gamma'], var_name='band', value_name='power')"
   ]
  },
  {
   "cell_type": "code",
   "execution_count": null,
   "metadata": {},
   "outputs": [],
   "source": [
    "bp1eeg = rel_stim_bp[rel_stim_bp['channel']==1]"
   ]
  },
  {
   "cell_type": "code",
   "execution_count": null,
   "metadata": {},
   "outputs": [],
   "source": [
    "title = 'Contralateral-EEG Delta Values During Sinusoidal Laser Stimulation vs Control, Normalized to Baseline Period | NREM Only'\n",
    "f = px.histogram(rel_stim_bp.loc[(rel_stim_bp['channel']==1)], x='delta', color='key', barmode='overlay', opacity=0.6, marginal='box', color_discrete_sequence=['white', 'cornflowerblue'], title=title)\n",
    "f.update_xaxes(title='Normalized Delta Power')"
   ]
  },
  {
   "cell_type": "code",
   "execution_count": null,
   "metadata": {},
   "outputs": [],
   "source": [
    "title = 'Ipsilateral-EEG Delta Values During Sinusoidal Laser Stimulation vs Control, Normalized to Baseline Period | NREM Only'\n",
    "f = px.histogram(rel_stim_bp.loc[(rel_stim_bp['channel']==2)], x='delta', color='key', barmode='overlay', opacity=0.6, marginal='box', color_discrete_sequence=['white', 'cornflowerblue'], title=title)\n",
    "f.update_xaxes(title='Normalized Delta Power')"
   ]
  },
  {
   "cell_type": "code",
   "execution_count": null,
   "metadata": {},
   "outputs": [],
   "source": [
    "title = 'Superficial-LFP Delta Values During Sinusoidal Laser Stimulation vs Control, Normalized to Baseline Period | NREM Only'\n",
    "f = px.histogram(rel_stim_bp_lfp.loc[(rel_stim_bp_lfp['channel']==2)], x='delta', color='key', barmode='overlay', opacity=0.6, marginal='box', color_discrete_sequence=['white', 'cornflowerblue'], title=title, nbins=250)\n",
    "f.update_xaxes(title='Normalized Delta Power', range=[0, 2.5])"
   ]
  },
  {
   "cell_type": "code",
   "execution_count": null,
   "metadata": {},
   "outputs": [],
   "source": [
    "title = 'Mid-LFP Delta Values During Sinusoidal Laser Stimulation vs Control, Normalized to Baseline Period | NREM Only'\n",
    "f = px.histogram(rel_stim_bp_lfp.loc[(rel_stim_bp_lfp['channel']==8)], x='delta', color='key', barmode='overlay', opacity=0.6, marginal='box', color_discrete_sequence=['white', 'cornflowerblue'], title=title, nbins=250)\n",
    "f.update_xaxes(title='Normalized Delta Power', range=[0, 2.5])"
   ]
  },
  {
   "cell_type": "code",
   "execution_count": null,
   "metadata": {},
   "outputs": [],
   "source": [
    "title = 'Deep-LFP Delta Values During Sinusoidal Laser Stimulation vs Control, Normalized to Baseline Period | NREM Only'\n",
    "f = px.histogram(rel_stim_bp_lfp.loc[(rel_stim_bp_lfp['channel']==15)], x='delta', color='key', barmode='overlay', opacity=0.6, marginal='box', color_discrete_sequence=['white', 'cornflowerblue'], title=title, nbins=250)\n",
    "f.update_xaxes(title='Normalized Delta Power', range=[0, 2.5])"
   ]
  },
  {
   "cell_type": "code",
   "execution_count": null,
   "metadata": {},
   "outputs": [],
   "source": [
    "sns.set(style=\"ticks\", context=\"talk\")\n",
    "plt.style.use(\"dark_background\")"
   ]
  },
  {
   "cell_type": "code",
   "execution_count": null,
   "metadata": {},
   "outputs": [],
   "source": [
    "rel_stim_bp.reset_index(inplace=True)\n",
    "rel_stim_bp_lfp.reset_index(inplace=True)"
   ]
  },
  {
   "cell_type": "code",
   "execution_count": null,
   "metadata": {},
   "outputs": [],
   "source": [
    "%matplotlib inline"
   ]
  },
  {
   "cell_type": "code",
   "execution_count": null,
   "metadata": {},
   "outputs": [],
   "source": [
    "#f, ax = plt.subplots(figsize=(15, 5))\n",
    "f = sns.displot(rel_stim_bp, x=\"delta\", hue=\"Key\", palette=cds, row='channel', kind=\"kde\", fill=True)\n",
    "f.set_axis_labels(\"Delta Power Normalized to Baseline\", \"\")\n",
    "f.set_titles(\"\")"
   ]
  },
  {
   "cell_type": "code",
   "execution_count": null,
   "metadata": {},
   "outputs": [],
   "source": [
    "#f, ax = plt.subplots(figsize=(15, 5))\n",
    "f = sns.displot(rel_stim_bp_lfp, x=\"delta\", hue=\"Key\", palette=cds, row='channel', kind=\"kde\", fill=True)\n",
    "f.set_axis_labels(\"Delta Power Normalized to Baseline\", \"\")\n",
    "f.set_titles(\"\")"
   ]
  },
  {
   "cell_type": "code",
   "execution_count": null,
   "metadata": {},
   "outputs": [],
   "source": [
    "#f, ax = plt.subplots(figsize=(5, 7))\n",
    "f = sns.catplot(x=\"Key\", y=\"delta\", data=bp1eeg, palette=cds, kind=\"box\", height=8, aspect=1)\n",
    "f.set(ylim=(0,1.5))\n",
    "f.set_axis_labels(\"Condition\", \"Delta Power Normalized to Baseline\")\n",
    "f.set_titles(\"\")"
   ]
  },
  {
   "cell_type": "code",
   "execution_count": null,
   "metadata": {},
   "outputs": [],
   "source": [
    "#f, ax = plt.subplots(figsize=(5, 7))\n",
    "f = sns.catplot(x=\"Key\", y=\"delta\", row='channel', data=rel_stim_bp_lfp, palette=cds, kind=\"box\", height=8, aspect=1)\n",
    "f.set(ylim=(0,2))\n",
    "f.set_axis_labels(\"Condition\", \"Delta Power Normalized to Baseline\")\n",
    "f.set_titles(\"\")"
   ]
  },
  {
   "cell_type": "code",
   "execution_count": null,
   "metadata": {},
   "outputs": [],
   "source": [
    "#f, ax = plt.subplots(figsize=(15, 5))\n",
    "f = sns.displot(rel_stim_bp_lfp, x=\"delta\", hue=\"Key\", palette=cds, row='channel', kind=\"kde\", fill=True)\n",
    "f.set_axis_labels(\"Delta Power as % of Baseline\", \"\")\n",
    "f.set_titles(\"\")"
   ]
  },
  {
   "cell_type": "code",
   "execution_count": null,
   "metadata": {},
   "outputs": [],
   "source": [
    "f = sns.catplot(x='band', y='power', hue='Key', kind='box', row='channel', data=new_rsbp, palette=cds)\n",
    "f.set_axis_labels( \"\", \"Delta Power Normalized to Baseline\")\n",
    "f.set_titles(\"\")\n",
    "f.set(ylim=(0,2))"
   ]
  },
  {
   "cell_type": "code",
   "execution_count": null,
   "metadata": {},
   "outputs": [],
   "source": [
    "bands=['delta', 'theta', 'alpha', 'beta']\n",
    "f = sns.catplot(x='band', y='power', hue='Key', kind='box', row='channel', data=new_rsbp_lfp, palette=cds)\n",
    "f.set_axis_labels( \"\", \"Delta Power Normalized to Baseline\")\n",
    "f.set_titles(\"\")\n",
    "f.set(ylim=(0,2))"
   ]
  },
  {
   "cell_type": "code",
   "execution_count": null,
   "metadata": {},
   "outputs": [],
   "source": [
    "f, ax = plt.subplots(figsize=(10, 18))\n",
    "ax = sns.catplot(x=\"band\", y=\"power\", kind=\"boxen\",\n",
    "            data=new_rsbp, fig=f)"
   ]
  },
  {
   "cell_type": "markdown",
   "metadata": {},
   "source": [
    "# Boxplots"
   ]
  },
  {
   "cell_type": "code",
   "execution_count": null,
   "metadata": {},
   "outputs": [],
   "source": [
    "fig = px.box(x='band', y='power', data_frame=new_rsbp, color='key', points=False, notched=True, facet_row='channel', color_discrete_sequence=['white', 'cornflowerblue'])\n",
    "fig"
   ]
  },
  {
   "cell_type": "code",
   "execution_count": null,
   "metadata": {},
   "outputs": [],
   "source": [
    "fig = px.box(x='band', y='power', data_frame=new_rsbp_lfp, color='key', points=False, notched=True, facet_row='channel', color_discrete_sequence=['white', 'cornflowerblue'])\n",
    "fig"
   ]
  },
  {
   "cell_type": "markdown",
   "metadata": {},
   "source": [
    "# PSD Plots"
   ]
  },
  {
   "cell_type": "code",
   "execution_count": null,
   "metadata": {},
   "outputs": [],
   "source": [
    "control_peak = slice(a9['control1-e-d'].datetime.values[0], a9_times['control1']['stim_on_dt'])\n",
    "control_stim = slice(a9_times['control1']['stim_on_dt'], a9_times['control1']['stim_off_dt'])"
   ]
  },
  {
   "cell_type": "code",
   "execution_count": null,
   "metadata": {},
   "outputs": [],
   "source": [
    "laser_peak = slice(a9['laser1-e-d'].datetime.values[0], a9_times['laser1']['stim_on_dt'])\n",
    "laser_stim = slice(a9_times['laser1']['stim_on_dt'], a9_times['laser1']['stim_off_dt'])"
   ]
  },
  {
   "cell_type": "code",
   "execution_count": null,
   "metadata": {},
   "outputs": [],
   "source": [
    "control_psd_nrem_peak = kd.get_ss_psd(a9['control1-e-s'].sel(datetime=control_peak), h9['control1'], ['NREM'])\n",
    "control_psd_nrem_stim = kd.get_ss_psd(a9['control1-e-s'].sel(datetime=control_stim), h9['control1'], ['NREM'])"
   ]
  },
  {
   "cell_type": "code",
   "execution_count": null,
   "metadata": {},
   "outputs": [],
   "source": [
    "laser_psd_nrem_peak = kd.get_ss_psd(a9['laser1-e-s'].sel(datetime=laser_peak), h9['laser1'], ['NREM'])\n",
    "laser_psd_nrem_stim = kd.get_ss_psd(a9['laser1-e-s'].sel(datetime=laser_stim), h9['laser1'], ['NREM'])"
   ]
  },
  {
   "cell_type": "code",
   "execution_count": null,
   "metadata": {},
   "outputs": [],
   "source": [
    "control_psd_eeg = control_psd_nrem_stim/control_psd_nrem_peak"
   ]
  },
  {
   "cell_type": "code",
   "execution_count": null,
   "metadata": {},
   "outputs": [],
   "source": [
    "laser_psd_eeg = laser_psd_nrem_stim/laser_psd_nrem_peak"
   ]
  },
  {
   "cell_type": "code",
   "execution_count": null,
   "metadata": {},
   "outputs": [],
   "source": [
    "c1 = control_psd_eeg.sel(channel=1)\n",
    "l1 = laser_psd_eeg.sel(channel=1)"
   ]
  },
  {
   "cell_type": "code",
   "execution_count": null,
   "metadata": {},
   "outputs": [],
   "source": [
    "f = kp.compare_psd(l1, c1, 'NREM', keys=['Laser', 'Control'], scale='linear')\n",
    "f.set(ylim=(0,1.25), xlim=(0.75,30))"
   ]
  },
  {
   "cell_type": "code",
   "execution_count": null,
   "metadata": {},
   "outputs": [],
   "source": [
    "f = kp.compare_psd(laser_psd_nrem_peak, control_psd_nrem_peak, 'NREM', scale='linear')\n",
    "f.set(xlim=(0,10))"
   ]
  },
  {
   "cell_type": "code",
   "execution_count": null,
   "metadata": {},
   "outputs": [],
   "source": [
    "f = kp.compare_psd(laser_psd_nrem_stim.sel(channel=1), control_psd_nrem_stim.sel(channel=1), 'NREM', scale='linear')\n",
    "f.set(xlim=(0,20), ylabel='NREM Power Spectral Density')"
   ]
  },
  {
   "cell_type": "code",
   "execution_count": null,
   "metadata": {},
   "outputs": [],
   "source": [
    "control_psd_nrem_peak_lfp = kd.get_ss_psd(a9['control1-f-s'].sel(datetime=control_peak), h9['control1'], ['NREM'])\n",
    "control_psd_nrem_stim_lfp = kd.get_ss_psd(a9['control1-f-s'].sel(datetime=control_stim), h9['control1'], ['NREM'])"
   ]
  },
  {
   "cell_type": "code",
   "execution_count": null,
   "metadata": {},
   "outputs": [],
   "source": [
    "laser_psd_nrem_peak_lfp = kd.get_ss_psd(a9['laser1-f-s'].sel(datetime=laser_peak), h9['laser1'], ['NREM'])\n",
    "laser_psd_nrem_stim_lfp = kd.get_ss_psd(a9['laser1-f-s'].sel(datetime=laser_stim), h9['laser1'], ['NREM'])"
   ]
  },
  {
   "cell_type": "code",
   "execution_count": null,
   "metadata": {},
   "outputs": [],
   "source": [
    "control_psd_lfp = control_psd_nrem_stim_lfp/control_psd_nrem_peak_lfp"
   ]
  },
  {
   "cell_type": "code",
   "execution_count": null,
   "metadata": {},
   "outputs": [],
   "source": [
    "laser_psd_lfp = laser_psd_nrem_stim_lfp/laser_psd_nrem_peak_lfp"
   ]
  },
  {
   "cell_type": "code",
   "execution_count": null,
   "metadata": {
    "tags": []
   },
   "outputs": [],
   "source": [
    "kp.compare_psd(laser_psd_nrem_peak_lfp, control_psd_nrem_peak_lfp, 'NREM', scale='linear')"
   ]
  },
  {
   "cell_type": "code",
   "execution_count": null,
   "metadata": {
    "tags": []
   },
   "outputs": [],
   "source": [
    "f = kp.compare_psd(laser_psd_nrem_stim_lfp.sel(channel=15), control_psd_nrem_stim_lfp.sel(channel=15), 'NREM', scale='linear')\n",
    "f.set(xlim=(0,20), ylabel='NREM Power Spectral Density')"
   ]
  },
  {
   "cell_type": "code",
   "execution_count": null,
   "metadata": {
    "tags": []
   },
   "outputs": [],
   "source": [
    "f = kp.compare_psd(laser_psd_lfp, control_psd_lfp, 'NREM', keys=['Laser', 'Control'], scale='linear')\n",
    "f.set(ylim=(0,1.25), xlim=(0.75,30))"
   ]
  },
  {
   "cell_type": "code",
   "execution_count": null,
   "metadata": {},
   "outputs": [],
   "source": [
    "bp = kd.get_bp_set2(a9['control1-e-s'], bp_def, pandas=True).reset_index()"
   ]
  },
  {
   "cell_type": "markdown",
   "metadata": {},
   "source": [
    "# Sleep Pressure Relief"
   ]
  },
  {
   "cell_type": "code",
   "execution_count": null,
   "metadata": {},
   "outputs": [],
   "source": [
    "dsn = ds.filt_state().ch(1).ri()"
   ]
  },
  {
   "cell_type": "code",
   "execution_count": null,
   "metadata": {},
   "outputs": [],
   "source": [
    "def get_time_iterables(df, time='1h', period = '5m'):\n",
    "    total = pd.to_timedelta(time)\n",
    "    num_periods = total / pd.to_timedelta(period)\n",
    "    print(num_periods)\n",
    "    time_iterables = [dsn.datetime.min()]\n",
    "    for i in range(int(num_periods)):\n",
    "        time_iterables.append(time_iterables[-1] + pd.to_timedelta(period))\n",
    "    return time_iterables"
   ]
  },
  {
   "cell_type": "code",
   "execution_count": null,
   "metadata": {},
   "outputs": [
    {
     "name": "stdout",
     "output_type": "stream",
     "text": [
      "36.0\n"
     ]
    }
   ],
   "source": [
    "times = get_time_iterables(dsn, time='3h', period = '5m')"
   ]
  },
  {
   "cell_type": "code",
   "execution_count": null,
   "metadata": {},
   "outputs": [],
   "source": [
    "def get_delta_means_by_dt(df, times):\n",
    "    delta_means = []\n",
    "    for i in range(len(times)-1):\n",
    "        t1 = times[i]\n",
    "        t2 = times[i+1]\n",
    "        df_slice = df.ts(slice(t1, t2))\n",
    "        print(len(df_slice))\n",
    "        delta_means.append(df_slice.delta.mean())\n",
    "    return delta_means"
   ]
  },
  {
   "cell_type": "code",
   "execution_count": null,
   "metadata": {},
   "outputs": [
    {
     "data": {
      "text/plain": [
       "12"
      ]
     },
     "metadata": {},
     "output_type": "display_data"
    }
   ],
   "source": [
    "len(times[0:12])"
   ]
  },
  {
   "cell_type": "code",
   "execution_count": null,
   "metadata": {},
   "outputs": [],
   "source": [
    "def get_delta_means_by_index(dsn, period=5, total_time=60):\n",
    "    delta_means = []\n",
    "    datetimes = []\n",
    "    interval = (dsn.datetime[1] - dsn.datetime[0]).seconds\n",
    "    total_time = total_time*60\n",
    "    total_ints = total_time/interval\n",
    "    step_size = (period*60)/interval\n",
    "    for i in np.arange(0, total_ints, step_size):\n",
    "        df_slice = dsn.loc[i:i+step_size]\n",
    "        dt = df_slice.datetime.values.min()\n",
    "        datetimes.append(dt)\n",
    "        delta_means.append(df_slice.delta.mean())\n",
    "    return delta_means, datetimes"
   ]
  },
  {
   "cell_type": "code",
   "execution_count": null,
   "metadata": {},
   "outputs": [],
   "source": [
    "dm_ix, dt = get_delta_means_by_index(dsn, period=3, total_time=180)"
   ]
  },
  {
   "cell_type": "code",
   "execution_count": null,
   "metadata": {},
   "outputs": [],
   "source": [
    "late_dm = dsn[dsn.time_class=='Post Stim, 4-6Hr'].delta.mean()"
   ]
  },
  {
   "cell_type": "code",
   "execution_count": null,
   "metadata": {},
   "outputs": [],
   "source": [
    "delta_decay = pd.DataFrame()\n",
    "delta_decay['datetime'] = dt\n",
    "delta_decay['delta_mean'] = dm_ix\n",
    "delta_decay['delta_mean_norm'] = delta_decay['delta_mean']/late_dm"
   ]
  },
  {
   "cell_type": "code",
   "execution_count": null,
   "metadata": {},
   "outputs": [
    {
     "data": {
      "application/vnd.plotly.v1+json": {
       "config": {
        "plotlyServerURL": "https://plot.ly"
       },
       "data": [
        {
         "hovertemplate": "x=%{x}<br>y=%{y}<extra></extra>",
         "legendgroup": "",
         "line": {
          "color": "#636efa",
          "dash": "solid"
         },
         "marker": {
          "symbol": "circle"
         },
         "mode": "lines",
         "name": "",
         "orientation": "v",
         "showlegend": false,
         "type": "scatter",
         "x": [
          "2022-06-17T11:04:53.006251",
          "2022-06-17T11:07:59.051482",
          "2022-06-17T11:12:01.110331",
          "2022-06-17T11:15:19.158481",
          "2022-06-17T11:21:35.249916",
          "2022-06-17T11:24:35.293689",
          "2022-06-17T11:27:39.338434",
          "2022-06-17T11:34:31.438624",
          "2022-06-17T11:37:41.484828",
          "2022-06-17T11:40:53.531518",
          "2022-06-17T11:45:09.593772",
          "2022-06-17T11:56:55.765457",
          "2022-06-17T12:00:35.818956",
          "2022-06-17T12:04:01.869051",
          "2022-06-17T12:07:09.914769",
          "2022-06-17T12:11:39.980428",
          "2022-06-17T12:20:12.104936",
          "2022-06-17T12:23:48.157462",
          "2022-06-17T12:26:48.201235",
          "2022-06-17T12:29:54.246466",
          "2022-06-17T12:33:00.291697",
          "2022-06-17T12:36:28.342279",
          "2022-06-17T12:40:54.406965",
          "2022-06-17T12:45:12.469705",
          "2022-06-17T12:52:02.569408",
          "2022-06-17T12:55:28.619503",
          "2022-06-17T12:58:44.667167",
          "2022-06-17T13:02:02.715316",
          "2022-06-17T13:05:40.768329",
          "2022-06-17T13:11:38.855388",
          "2022-06-17T13:16:10.921532",
          "2022-06-17T13:45:55.355365",
          "2022-06-17T13:49:59.414700",
          "2022-06-17T13:53:15.462364",
          "2022-06-17T13:56:31.510027",
          "2022-06-17T13:59:57.560122",
          "2022-06-17T14:05:27.640371",
          "2022-06-17T14:08:55.690952",
          "2022-06-17T14:14:25.771202",
          "2022-06-17T14:17:37.817892",
          "2022-06-17T14:22:45.892791",
          "2022-06-17T14:25:45.936564",
          "2022-06-17T14:29:09.986172",
          "2022-06-17T14:50:46.301333",
          "2022-06-17T14:53:46.345105",
          "2022-06-17T14:58:12.409791",
          "2022-06-17T15:01:12.453563",
          "2022-06-17T15:06:02.524085",
          "2022-06-17T15:10:00.581962",
          "2022-06-17T15:14:42.650539",
          "2022-06-17T15:19:08.715224",
          "2022-06-17T15:24:24.792069",
          "2022-06-17T15:31:52.901014",
          "2022-06-17T15:38:06.991963",
          "2022-06-17T15:41:19.038653",
          "2022-06-17T15:44:49.089721",
          "2022-06-17T15:50:33.173375",
          "2022-06-17T15:53:47.220552",
          "2022-06-17T15:57:09.269674",
          "2022-06-17T16:06:31.406341"
         ],
         "xaxis": "x",
         "y": [
          2.3896741638535,
          1.8541651627985936,
          1.7538758725131416,
          1.3569537698093652,
          1.3630883069673108,
          1.163032948027813,
          1.0972284935249457,
          1.1684206124431165,
          1.3021368451079773,
          1.101538600165579,
          1.385782360710287,
          1.6421451539272238,
          1.4753166088268634,
          1.3646247415628645,
          1.1131393347667582,
          1.2972950536887125,
          1.1769631639027853,
          1.1857820122277543,
          1.1520157972110445,
          1.0084876032317274,
          1.0692643882214896,
          0.8590577953302345,
          0.9960352644409917,
          1.0420118095752047,
          1.0264738446434998,
          1.0753899644000202,
          0.9385866743266447,
          0.9202711791503896,
          0.9844911582513943,
          0.9203876096537627,
          1.085386434769795,
          1.6362239378625774,
          1.3866387565346698,
          1.0298893468391888,
          1.062186832438148,
          1.0480582304355683,
          1.1261407202337421,
          1.0540327145445159,
          0.9990106207519357,
          0.9286584691958865,
          0.9959500729075241,
          0.9784568720506555,
          1.6795538826181393,
          1.3785324305312516,
          1.3779056598043817,
          1.2655110819934594,
          1.1931433323592417,
          0.9523321322302036,
          0.8847307524385065,
          0.9008032646839338,
          1.261284984534843,
          1.290427334173342,
          0.9785604833751429,
          1.1649844502115538,
          1.0029627860481534,
          1.0403887521786381,
          0.8753009395586917,
          1.0643449349806269,
          0.8824585840955559,
          1.064133729674134
         ],
         "yaxis": "y"
        }
       ],
       "layout": {
        "legend": {
         "tracegroupgap": 0
        },
        "shapes": [
         {
          "line": {
           "color": "green",
           "dash": "dash",
           "width": 3
          },
          "type": "line",
          "x0": "2022-06-17T11:18:33.631271960",
          "x1": "2022-06-17T11:18:33.631271960",
          "xref": "x",
          "y0": 0,
          "y1": 1,
          "yref": "y domain"
         }
        ],
        "template": {
         "data": {
          "bar": [
           {
            "error_x": {
             "color": "#f2f5fa"
            },
            "error_y": {
             "color": "#f2f5fa"
            },
            "marker": {
             "line": {
              "color": "rgb(17,17,17)",
              "width": 0.5
             },
             "pattern": {
              "fillmode": "overlay",
              "size": 10,
              "solidity": 0.2
             }
            },
            "type": "bar"
           }
          ],
          "barpolar": [
           {
            "marker": {
             "line": {
              "color": "rgb(17,17,17)",
              "width": 0.5
             },
             "pattern": {
              "fillmode": "overlay",
              "size": 10,
              "solidity": 0.2
             }
            },
            "type": "barpolar"
           }
          ],
          "carpet": [
           {
            "aaxis": {
             "endlinecolor": "#A2B1C6",
             "gridcolor": "#506784",
             "linecolor": "#506784",
             "minorgridcolor": "#506784",
             "startlinecolor": "#A2B1C6"
            },
            "baxis": {
             "endlinecolor": "#A2B1C6",
             "gridcolor": "#506784",
             "linecolor": "#506784",
             "minorgridcolor": "#506784",
             "startlinecolor": "#A2B1C6"
            },
            "type": "carpet"
           }
          ],
          "choropleth": [
           {
            "colorbar": {
             "outlinewidth": 0,
             "ticks": ""
            },
            "type": "choropleth"
           }
          ],
          "contour": [
           {
            "colorbar": {
             "outlinewidth": 0,
             "ticks": ""
            },
            "colorscale": [
             [
              0,
              "#0d0887"
             ],
             [
              0.1111111111111111,
              "#46039f"
             ],
             [
              0.2222222222222222,
              "#7201a8"
             ],
             [
              0.3333333333333333,
              "#9c179e"
             ],
             [
              0.4444444444444444,
              "#bd3786"
             ],
             [
              0.5555555555555556,
              "#d8576b"
             ],
             [
              0.6666666666666666,
              "#ed7953"
             ],
             [
              0.7777777777777778,
              "#fb9f3a"
             ],
             [
              0.8888888888888888,
              "#fdca26"
             ],
             [
              1,
              "#f0f921"
             ]
            ],
            "type": "contour"
           }
          ],
          "contourcarpet": [
           {
            "colorbar": {
             "outlinewidth": 0,
             "ticks": ""
            },
            "type": "contourcarpet"
           }
          ],
          "heatmap": [
           {
            "colorbar": {
             "outlinewidth": 0,
             "ticks": ""
            },
            "colorscale": [
             [
              0,
              "#0d0887"
             ],
             [
              0.1111111111111111,
              "#46039f"
             ],
             [
              0.2222222222222222,
              "#7201a8"
             ],
             [
              0.3333333333333333,
              "#9c179e"
             ],
             [
              0.4444444444444444,
              "#bd3786"
             ],
             [
              0.5555555555555556,
              "#d8576b"
             ],
             [
              0.6666666666666666,
              "#ed7953"
             ],
             [
              0.7777777777777778,
              "#fb9f3a"
             ],
             [
              0.8888888888888888,
              "#fdca26"
             ],
             [
              1,
              "#f0f921"
             ]
            ],
            "type": "heatmap"
           }
          ],
          "heatmapgl": [
           {
            "colorbar": {
             "outlinewidth": 0,
             "ticks": ""
            },
            "colorscale": [
             [
              0,
              "#0d0887"
             ],
             [
              0.1111111111111111,
              "#46039f"
             ],
             [
              0.2222222222222222,
              "#7201a8"
             ],
             [
              0.3333333333333333,
              "#9c179e"
             ],
             [
              0.4444444444444444,
              "#bd3786"
             ],
             [
              0.5555555555555556,
              "#d8576b"
             ],
             [
              0.6666666666666666,
              "#ed7953"
             ],
             [
              0.7777777777777778,
              "#fb9f3a"
             ],
             [
              0.8888888888888888,
              "#fdca26"
             ],
             [
              1,
              "#f0f921"
             ]
            ],
            "type": "heatmapgl"
           }
          ],
          "histogram": [
           {
            "marker": {
             "pattern": {
              "fillmode": "overlay",
              "size": 10,
              "solidity": 0.2
             }
            },
            "type": "histogram"
           }
          ],
          "histogram2d": [
           {
            "colorbar": {
             "outlinewidth": 0,
             "ticks": ""
            },
            "colorscale": [
             [
              0,
              "#0d0887"
             ],
             [
              0.1111111111111111,
              "#46039f"
             ],
             [
              0.2222222222222222,
              "#7201a8"
             ],
             [
              0.3333333333333333,
              "#9c179e"
             ],
             [
              0.4444444444444444,
              "#bd3786"
             ],
             [
              0.5555555555555556,
              "#d8576b"
             ],
             [
              0.6666666666666666,
              "#ed7953"
             ],
             [
              0.7777777777777778,
              "#fb9f3a"
             ],
             [
              0.8888888888888888,
              "#fdca26"
             ],
             [
              1,
              "#f0f921"
             ]
            ],
            "type": "histogram2d"
           }
          ],
          "histogram2dcontour": [
           {
            "colorbar": {
             "outlinewidth": 0,
             "ticks": ""
            },
            "colorscale": [
             [
              0,
              "#0d0887"
             ],
             [
              0.1111111111111111,
              "#46039f"
             ],
             [
              0.2222222222222222,
              "#7201a8"
             ],
             [
              0.3333333333333333,
              "#9c179e"
             ],
             [
              0.4444444444444444,
              "#bd3786"
             ],
             [
              0.5555555555555556,
              "#d8576b"
             ],
             [
              0.6666666666666666,
              "#ed7953"
             ],
             [
              0.7777777777777778,
              "#fb9f3a"
             ],
             [
              0.8888888888888888,
              "#fdca26"
             ],
             [
              1,
              "#f0f921"
             ]
            ],
            "type": "histogram2dcontour"
           }
          ],
          "mesh3d": [
           {
            "colorbar": {
             "outlinewidth": 0,
             "ticks": ""
            },
            "type": "mesh3d"
           }
          ],
          "parcoords": [
           {
            "line": {
             "colorbar": {
              "outlinewidth": 0,
              "ticks": ""
             }
            },
            "type": "parcoords"
           }
          ],
          "pie": [
           {
            "automargin": true,
            "type": "pie"
           }
          ],
          "scatter": [
           {
            "marker": {
             "line": {
              "color": "#283442"
             }
            },
            "type": "scatter"
           }
          ],
          "scatter3d": [
           {
            "line": {
             "colorbar": {
              "outlinewidth": 0,
              "ticks": ""
             }
            },
            "marker": {
             "colorbar": {
              "outlinewidth": 0,
              "ticks": ""
             }
            },
            "type": "scatter3d"
           }
          ],
          "scattercarpet": [
           {
            "marker": {
             "colorbar": {
              "outlinewidth": 0,
              "ticks": ""
             }
            },
            "type": "scattercarpet"
           }
          ],
          "scattergeo": [
           {
            "marker": {
             "colorbar": {
              "outlinewidth": 0,
              "ticks": ""
             }
            },
            "type": "scattergeo"
           }
          ],
          "scattergl": [
           {
            "marker": {
             "line": {
              "color": "#283442"
             }
            },
            "type": "scattergl"
           }
          ],
          "scattermapbox": [
           {
            "marker": {
             "colorbar": {
              "outlinewidth": 0,
              "ticks": ""
             }
            },
            "type": "scattermapbox"
           }
          ],
          "scatterpolar": [
           {
            "marker": {
             "colorbar": {
              "outlinewidth": 0,
              "ticks": ""
             }
            },
            "type": "scatterpolar"
           }
          ],
          "scatterpolargl": [
           {
            "marker": {
             "colorbar": {
              "outlinewidth": 0,
              "ticks": ""
             }
            },
            "type": "scatterpolargl"
           }
          ],
          "scatterternary": [
           {
            "marker": {
             "colorbar": {
              "outlinewidth": 0,
              "ticks": ""
             }
            },
            "type": "scatterternary"
           }
          ],
          "surface": [
           {
            "colorbar": {
             "outlinewidth": 0,
             "ticks": ""
            },
            "colorscale": [
             [
              0,
              "#0d0887"
             ],
             [
              0.1111111111111111,
              "#46039f"
             ],
             [
              0.2222222222222222,
              "#7201a8"
             ],
             [
              0.3333333333333333,
              "#9c179e"
             ],
             [
              0.4444444444444444,
              "#bd3786"
             ],
             [
              0.5555555555555556,
              "#d8576b"
             ],
             [
              0.6666666666666666,
              "#ed7953"
             ],
             [
              0.7777777777777778,
              "#fb9f3a"
             ],
             [
              0.8888888888888888,
              "#fdca26"
             ],
             [
              1,
              "#f0f921"
             ]
            ],
            "type": "surface"
           }
          ],
          "table": [
           {
            "cells": {
             "fill": {
              "color": "#506784"
             },
             "line": {
              "color": "rgb(17,17,17)"
             }
            },
            "header": {
             "fill": {
              "color": "#2a3f5f"
             },
             "line": {
              "color": "rgb(17,17,17)"
             }
            },
            "type": "table"
           }
          ]
         },
         "layout": {
          "annotationdefaults": {
           "arrowcolor": "#f2f5fa",
           "arrowhead": 0,
           "arrowwidth": 1
          },
          "autotypenumbers": "strict",
          "coloraxis": {
           "colorbar": {
            "outlinewidth": 0,
            "ticks": ""
           }
          },
          "colorscale": {
           "diverging": [
            [
             0,
             "#8e0152"
            ],
            [
             0.1,
             "#c51b7d"
            ],
            [
             0.2,
             "#de77ae"
            ],
            [
             0.3,
             "#f1b6da"
            ],
            [
             0.4,
             "#fde0ef"
            ],
            [
             0.5,
             "#f7f7f7"
            ],
            [
             0.6,
             "#e6f5d0"
            ],
            [
             0.7,
             "#b8e186"
            ],
            [
             0.8,
             "#7fbc41"
            ],
            [
             0.9,
             "#4d9221"
            ],
            [
             1,
             "#276419"
            ]
           ],
           "sequential": [
            [
             0,
             "#0d0887"
            ],
            [
             0.1111111111111111,
             "#46039f"
            ],
            [
             0.2222222222222222,
             "#7201a8"
            ],
            [
             0.3333333333333333,
             "#9c179e"
            ],
            [
             0.4444444444444444,
             "#bd3786"
            ],
            [
             0.5555555555555556,
             "#d8576b"
            ],
            [
             0.6666666666666666,
             "#ed7953"
            ],
            [
             0.7777777777777778,
             "#fb9f3a"
            ],
            [
             0.8888888888888888,
             "#fdca26"
            ],
            [
             1,
             "#f0f921"
            ]
           ],
           "sequentialminus": [
            [
             0,
             "#0d0887"
            ],
            [
             0.1111111111111111,
             "#46039f"
            ],
            [
             0.2222222222222222,
             "#7201a8"
            ],
            [
             0.3333333333333333,
             "#9c179e"
            ],
            [
             0.4444444444444444,
             "#bd3786"
            ],
            [
             0.5555555555555556,
             "#d8576b"
            ],
            [
             0.6666666666666666,
             "#ed7953"
            ],
            [
             0.7777777777777778,
             "#fb9f3a"
            ],
            [
             0.8888888888888888,
             "#fdca26"
            ],
            [
             1,
             "#f0f921"
            ]
           ]
          },
          "colorway": [
           "#636efa",
           "#EF553B",
           "#00cc96",
           "#ab63fa",
           "#FFA15A",
           "#19d3f3",
           "#FF6692",
           "#B6E880",
           "#FF97FF",
           "#FECB52"
          ],
          "font": {
           "color": "#f2f5fa"
          },
          "geo": {
           "bgcolor": "rgb(17,17,17)",
           "lakecolor": "rgb(17,17,17)",
           "landcolor": "rgb(17,17,17)",
           "showlakes": true,
           "showland": true,
           "subunitcolor": "#506784"
          },
          "hoverlabel": {
           "align": "left"
          },
          "hovermode": "closest",
          "mapbox": {
           "style": "dark"
          },
          "paper_bgcolor": "rgb(17,17,17)",
          "plot_bgcolor": "rgb(17,17,17)",
          "polar": {
           "angularaxis": {
            "gridcolor": "#506784",
            "linecolor": "#506784",
            "ticks": ""
           },
           "bgcolor": "rgb(17,17,17)",
           "radialaxis": {
            "gridcolor": "#506784",
            "linecolor": "#506784",
            "ticks": ""
           }
          },
          "scene": {
           "xaxis": {
            "backgroundcolor": "rgb(17,17,17)",
            "gridcolor": "#506784",
            "gridwidth": 2,
            "linecolor": "#506784",
            "showbackground": true,
            "ticks": "",
            "zerolinecolor": "#C8D4E3"
           },
           "yaxis": {
            "backgroundcolor": "rgb(17,17,17)",
            "gridcolor": "#506784",
            "gridwidth": 2,
            "linecolor": "#506784",
            "showbackground": true,
            "ticks": "",
            "zerolinecolor": "#C8D4E3"
           },
           "zaxis": {
            "backgroundcolor": "rgb(17,17,17)",
            "gridcolor": "#506784",
            "gridwidth": 2,
            "linecolor": "#506784",
            "showbackground": true,
            "ticks": "",
            "zerolinecolor": "#C8D4E3"
           }
          },
          "shapedefaults": {
           "line": {
            "color": "#f2f5fa"
           }
          },
          "sliderdefaults": {
           "bgcolor": "#C8D4E3",
           "bordercolor": "rgb(17,17,17)",
           "borderwidth": 1,
           "tickwidth": 0
          },
          "ternary": {
           "aaxis": {
            "gridcolor": "#506784",
            "linecolor": "#506784",
            "ticks": ""
           },
           "baxis": {
            "gridcolor": "#506784",
            "linecolor": "#506784",
            "ticks": ""
           },
           "bgcolor": "rgb(17,17,17)",
           "caxis": {
            "gridcolor": "#506784",
            "linecolor": "#506784",
            "ticks": ""
           }
          },
          "title": {
           "x": 0.05
          },
          "updatemenudefaults": {
           "bgcolor": "#506784",
           "borderwidth": 0
          },
          "xaxis": {
           "automargin": true,
           "gridcolor": "#283442",
           "linecolor": "#506784",
           "ticks": "",
           "title": {
            "standoff": 15
           },
           "zerolinecolor": "#283442",
           "zerolinewidth": 2
          },
          "yaxis": {
           "automargin": true,
           "gridcolor": "#283442",
           "linecolor": "#506784",
           "ticks": "",
           "title": {
            "standoff": 15
           },
           "zerolinecolor": "#283442",
           "zerolinewidth": 2
          }
         }
        },
        "title": {
         "text": "Delta Power in 3 Min Averages, Laser Experiment"
        },
        "xaxis": {
         "anchor": "y",
         "domain": [
          0,
          1
         ],
         "title": {
          "text": "x"
         }
        },
        "yaxis": {
         "anchor": "x",
         "domain": [
          0,
          1
         ],
         "title": {
          "text": "y"
         }
        }
       }
      },
      "text/html": [
       "<div>                            <div id=\"f61656b8-ccce-4a1e-b2b8-7576e7a5f1e9\" class=\"plotly-graph-div\" style=\"height:525px; width:100%;\"></div>            <script type=\"text/javascript\">                require([\"plotly\"], function(Plotly) {                    window.PLOTLYENV=window.PLOTLYENV || {};                                    if (document.getElementById(\"f61656b8-ccce-4a1e-b2b8-7576e7a5f1e9\")) {                    Plotly.newPlot(                        \"f61656b8-ccce-4a1e-b2b8-7576e7a5f1e9\",                        [{\"hovertemplate\":\"x=%{x}<br>y=%{y}<extra></extra>\",\"legendgroup\":\"\",\"line\":{\"color\":\"#636efa\",\"dash\":\"solid\"},\"marker\":{\"symbol\":\"circle\"},\"mode\":\"lines\",\"name\":\"\",\"orientation\":\"v\",\"showlegend\":false,\"x\":[\"2022-06-17T11:04:53.006251\",\"2022-06-17T11:07:59.051482\",\"2022-06-17T11:12:01.110331\",\"2022-06-17T11:15:19.158481\",\"2022-06-17T11:21:35.249916\",\"2022-06-17T11:24:35.293689\",\"2022-06-17T11:27:39.338434\",\"2022-06-17T11:34:31.438624\",\"2022-06-17T11:37:41.484828\",\"2022-06-17T11:40:53.531518\",\"2022-06-17T11:45:09.593772\",\"2022-06-17T11:56:55.765457\",\"2022-06-17T12:00:35.818956\",\"2022-06-17T12:04:01.869051\",\"2022-06-17T12:07:09.914769\",\"2022-06-17T12:11:39.980428\",\"2022-06-17T12:20:12.104936\",\"2022-06-17T12:23:48.157462\",\"2022-06-17T12:26:48.201235\",\"2022-06-17T12:29:54.246466\",\"2022-06-17T12:33:00.291697\",\"2022-06-17T12:36:28.342279\",\"2022-06-17T12:40:54.406965\",\"2022-06-17T12:45:12.469705\",\"2022-06-17T12:52:02.569408\",\"2022-06-17T12:55:28.619503\",\"2022-06-17T12:58:44.667167\",\"2022-06-17T13:02:02.715316\",\"2022-06-17T13:05:40.768329\",\"2022-06-17T13:11:38.855388\",\"2022-06-17T13:16:10.921532\",\"2022-06-17T13:45:55.355365\",\"2022-06-17T13:49:59.414700\",\"2022-06-17T13:53:15.462364\",\"2022-06-17T13:56:31.510027\",\"2022-06-17T13:59:57.560122\",\"2022-06-17T14:05:27.640371\",\"2022-06-17T14:08:55.690952\",\"2022-06-17T14:14:25.771202\",\"2022-06-17T14:17:37.817892\",\"2022-06-17T14:22:45.892791\",\"2022-06-17T14:25:45.936564\",\"2022-06-17T14:29:09.986172\",\"2022-06-17T14:50:46.301333\",\"2022-06-17T14:53:46.345105\",\"2022-06-17T14:58:12.409791\",\"2022-06-17T15:01:12.453563\",\"2022-06-17T15:06:02.524085\",\"2022-06-17T15:10:00.581962\",\"2022-06-17T15:14:42.650539\",\"2022-06-17T15:19:08.715224\",\"2022-06-17T15:24:24.792069\",\"2022-06-17T15:31:52.901014\",\"2022-06-17T15:38:06.991963\",\"2022-06-17T15:41:19.038653\",\"2022-06-17T15:44:49.089721\",\"2022-06-17T15:50:33.173375\",\"2022-06-17T15:53:47.220552\",\"2022-06-17T15:57:09.269674\",\"2022-06-17T16:06:31.406341\"],\"xaxis\":\"x\",\"y\":[2.3896741638535,1.8541651627985936,1.7538758725131416,1.3569537698093652,1.3630883069673108,1.163032948027813,1.0972284935249457,1.1684206124431165,1.3021368451079773,1.101538600165579,1.385782360710287,1.6421451539272238,1.4753166088268634,1.3646247415628645,1.1131393347667582,1.2972950536887125,1.1769631639027853,1.1857820122277543,1.1520157972110445,1.0084876032317274,1.0692643882214896,0.8590577953302345,0.9960352644409917,1.0420118095752047,1.0264738446434998,1.0753899644000202,0.9385866743266447,0.9202711791503896,0.9844911582513943,0.9203876096537627,1.085386434769795,1.6362239378625774,1.3866387565346698,1.0298893468391888,1.062186832438148,1.0480582304355683,1.1261407202337421,1.0540327145445159,0.9990106207519357,0.9286584691958865,0.9959500729075241,0.9784568720506555,1.6795538826181393,1.3785324305312516,1.3779056598043817,1.2655110819934594,1.1931433323592417,0.9523321322302036,0.8847307524385065,0.9008032646839338,1.261284984534843,1.290427334173342,0.9785604833751429,1.1649844502115538,1.0029627860481534,1.0403887521786381,0.8753009395586917,1.0643449349806269,0.8824585840955559,1.064133729674134],\"yaxis\":\"y\",\"type\":\"scatter\"}],                        {\"template\":{\"data\":{\"bar\":[{\"error_x\":{\"color\":\"#f2f5fa\"},\"error_y\":{\"color\":\"#f2f5fa\"},\"marker\":{\"line\":{\"color\":\"rgb(17,17,17)\",\"width\":0.5},\"pattern\":{\"fillmode\":\"overlay\",\"size\":10,\"solidity\":0.2}},\"type\":\"bar\"}],\"barpolar\":[{\"marker\":{\"line\":{\"color\":\"rgb(17,17,17)\",\"width\":0.5},\"pattern\":{\"fillmode\":\"overlay\",\"size\":10,\"solidity\":0.2}},\"type\":\"barpolar\"}],\"carpet\":[{\"aaxis\":{\"endlinecolor\":\"#A2B1C6\",\"gridcolor\":\"#506784\",\"linecolor\":\"#506784\",\"minorgridcolor\":\"#506784\",\"startlinecolor\":\"#A2B1C6\"},\"baxis\":{\"endlinecolor\":\"#A2B1C6\",\"gridcolor\":\"#506784\",\"linecolor\":\"#506784\",\"minorgridcolor\":\"#506784\",\"startlinecolor\":\"#A2B1C6\"},\"type\":\"carpet\"}],\"choropleth\":[{\"colorbar\":{\"outlinewidth\":0,\"ticks\":\"\"},\"type\":\"choropleth\"}],\"contour\":[{\"colorbar\":{\"outlinewidth\":0,\"ticks\":\"\"},\"colorscale\":[[0.0,\"#0d0887\"],[0.1111111111111111,\"#46039f\"],[0.2222222222222222,\"#7201a8\"],[0.3333333333333333,\"#9c179e\"],[0.4444444444444444,\"#bd3786\"],[0.5555555555555556,\"#d8576b\"],[0.6666666666666666,\"#ed7953\"],[0.7777777777777778,\"#fb9f3a\"],[0.8888888888888888,\"#fdca26\"],[1.0,\"#f0f921\"]],\"type\":\"contour\"}],\"contourcarpet\":[{\"colorbar\":{\"outlinewidth\":0,\"ticks\":\"\"},\"type\":\"contourcarpet\"}],\"heatmap\":[{\"colorbar\":{\"outlinewidth\":0,\"ticks\":\"\"},\"colorscale\":[[0.0,\"#0d0887\"],[0.1111111111111111,\"#46039f\"],[0.2222222222222222,\"#7201a8\"],[0.3333333333333333,\"#9c179e\"],[0.4444444444444444,\"#bd3786\"],[0.5555555555555556,\"#d8576b\"],[0.6666666666666666,\"#ed7953\"],[0.7777777777777778,\"#fb9f3a\"],[0.8888888888888888,\"#fdca26\"],[1.0,\"#f0f921\"]],\"type\":\"heatmap\"}],\"heatmapgl\":[{\"colorbar\":{\"outlinewidth\":0,\"ticks\":\"\"},\"colorscale\":[[0.0,\"#0d0887\"],[0.1111111111111111,\"#46039f\"],[0.2222222222222222,\"#7201a8\"],[0.3333333333333333,\"#9c179e\"],[0.4444444444444444,\"#bd3786\"],[0.5555555555555556,\"#d8576b\"],[0.6666666666666666,\"#ed7953\"],[0.7777777777777778,\"#fb9f3a\"],[0.8888888888888888,\"#fdca26\"],[1.0,\"#f0f921\"]],\"type\":\"heatmapgl\"}],\"histogram\":[{\"marker\":{\"pattern\":{\"fillmode\":\"overlay\",\"size\":10,\"solidity\":0.2}},\"type\":\"histogram\"}],\"histogram2d\":[{\"colorbar\":{\"outlinewidth\":0,\"ticks\":\"\"},\"colorscale\":[[0.0,\"#0d0887\"],[0.1111111111111111,\"#46039f\"],[0.2222222222222222,\"#7201a8\"],[0.3333333333333333,\"#9c179e\"],[0.4444444444444444,\"#bd3786\"],[0.5555555555555556,\"#d8576b\"],[0.6666666666666666,\"#ed7953\"],[0.7777777777777778,\"#fb9f3a\"],[0.8888888888888888,\"#fdca26\"],[1.0,\"#f0f921\"]],\"type\":\"histogram2d\"}],\"histogram2dcontour\":[{\"colorbar\":{\"outlinewidth\":0,\"ticks\":\"\"},\"colorscale\":[[0.0,\"#0d0887\"],[0.1111111111111111,\"#46039f\"],[0.2222222222222222,\"#7201a8\"],[0.3333333333333333,\"#9c179e\"],[0.4444444444444444,\"#bd3786\"],[0.5555555555555556,\"#d8576b\"],[0.6666666666666666,\"#ed7953\"],[0.7777777777777778,\"#fb9f3a\"],[0.8888888888888888,\"#fdca26\"],[1.0,\"#f0f921\"]],\"type\":\"histogram2dcontour\"}],\"mesh3d\":[{\"colorbar\":{\"outlinewidth\":0,\"ticks\":\"\"},\"type\":\"mesh3d\"}],\"parcoords\":[{\"line\":{\"colorbar\":{\"outlinewidth\":0,\"ticks\":\"\"}},\"type\":\"parcoords\"}],\"pie\":[{\"automargin\":true,\"type\":\"pie\"}],\"scatter\":[{\"marker\":{\"line\":{\"color\":\"#283442\"}},\"type\":\"scatter\"}],\"scatter3d\":[{\"line\":{\"colorbar\":{\"outlinewidth\":0,\"ticks\":\"\"}},\"marker\":{\"colorbar\":{\"outlinewidth\":0,\"ticks\":\"\"}},\"type\":\"scatter3d\"}],\"scattercarpet\":[{\"marker\":{\"colorbar\":{\"outlinewidth\":0,\"ticks\":\"\"}},\"type\":\"scattercarpet\"}],\"scattergeo\":[{\"marker\":{\"colorbar\":{\"outlinewidth\":0,\"ticks\":\"\"}},\"type\":\"scattergeo\"}],\"scattergl\":[{\"marker\":{\"line\":{\"color\":\"#283442\"}},\"type\":\"scattergl\"}],\"scattermapbox\":[{\"marker\":{\"colorbar\":{\"outlinewidth\":0,\"ticks\":\"\"}},\"type\":\"scattermapbox\"}],\"scatterpolar\":[{\"marker\":{\"colorbar\":{\"outlinewidth\":0,\"ticks\":\"\"}},\"type\":\"scatterpolar\"}],\"scatterpolargl\":[{\"marker\":{\"colorbar\":{\"outlinewidth\":0,\"ticks\":\"\"}},\"type\":\"scatterpolargl\"}],\"scatterternary\":[{\"marker\":{\"colorbar\":{\"outlinewidth\":0,\"ticks\":\"\"}},\"type\":\"scatterternary\"}],\"surface\":[{\"colorbar\":{\"outlinewidth\":0,\"ticks\":\"\"},\"colorscale\":[[0.0,\"#0d0887\"],[0.1111111111111111,\"#46039f\"],[0.2222222222222222,\"#7201a8\"],[0.3333333333333333,\"#9c179e\"],[0.4444444444444444,\"#bd3786\"],[0.5555555555555556,\"#d8576b\"],[0.6666666666666666,\"#ed7953\"],[0.7777777777777778,\"#fb9f3a\"],[0.8888888888888888,\"#fdca26\"],[1.0,\"#f0f921\"]],\"type\":\"surface\"}],\"table\":[{\"cells\":{\"fill\":{\"color\":\"#506784\"},\"line\":{\"color\":\"rgb(17,17,17)\"}},\"header\":{\"fill\":{\"color\":\"#2a3f5f\"},\"line\":{\"color\":\"rgb(17,17,17)\"}},\"type\":\"table\"}]},\"layout\":{\"annotationdefaults\":{\"arrowcolor\":\"#f2f5fa\",\"arrowhead\":0,\"arrowwidth\":1},\"autotypenumbers\":\"strict\",\"coloraxis\":{\"colorbar\":{\"outlinewidth\":0,\"ticks\":\"\"}},\"colorscale\":{\"diverging\":[[0,\"#8e0152\"],[0.1,\"#c51b7d\"],[0.2,\"#de77ae\"],[0.3,\"#f1b6da\"],[0.4,\"#fde0ef\"],[0.5,\"#f7f7f7\"],[0.6,\"#e6f5d0\"],[0.7,\"#b8e186\"],[0.8,\"#7fbc41\"],[0.9,\"#4d9221\"],[1,\"#276419\"]],\"sequential\":[[0.0,\"#0d0887\"],[0.1111111111111111,\"#46039f\"],[0.2222222222222222,\"#7201a8\"],[0.3333333333333333,\"#9c179e\"],[0.4444444444444444,\"#bd3786\"],[0.5555555555555556,\"#d8576b\"],[0.6666666666666666,\"#ed7953\"],[0.7777777777777778,\"#fb9f3a\"],[0.8888888888888888,\"#fdca26\"],[1.0,\"#f0f921\"]],\"sequentialminus\":[[0.0,\"#0d0887\"],[0.1111111111111111,\"#46039f\"],[0.2222222222222222,\"#7201a8\"],[0.3333333333333333,\"#9c179e\"],[0.4444444444444444,\"#bd3786\"],[0.5555555555555556,\"#d8576b\"],[0.6666666666666666,\"#ed7953\"],[0.7777777777777778,\"#fb9f3a\"],[0.8888888888888888,\"#fdca26\"],[1.0,\"#f0f921\"]]},\"colorway\":[\"#636efa\",\"#EF553B\",\"#00cc96\",\"#ab63fa\",\"#FFA15A\",\"#19d3f3\",\"#FF6692\",\"#B6E880\",\"#FF97FF\",\"#FECB52\"],\"font\":{\"color\":\"#f2f5fa\"},\"geo\":{\"bgcolor\":\"rgb(17,17,17)\",\"lakecolor\":\"rgb(17,17,17)\",\"landcolor\":\"rgb(17,17,17)\",\"showlakes\":true,\"showland\":true,\"subunitcolor\":\"#506784\"},\"hoverlabel\":{\"align\":\"left\"},\"hovermode\":\"closest\",\"mapbox\":{\"style\":\"dark\"},\"paper_bgcolor\":\"rgb(17,17,17)\",\"plot_bgcolor\":\"rgb(17,17,17)\",\"polar\":{\"angularaxis\":{\"gridcolor\":\"#506784\",\"linecolor\":\"#506784\",\"ticks\":\"\"},\"bgcolor\":\"rgb(17,17,17)\",\"radialaxis\":{\"gridcolor\":\"#506784\",\"linecolor\":\"#506784\",\"ticks\":\"\"}},\"scene\":{\"xaxis\":{\"backgroundcolor\":\"rgb(17,17,17)\",\"gridcolor\":\"#506784\",\"gridwidth\":2,\"linecolor\":\"#506784\",\"showbackground\":true,\"ticks\":\"\",\"zerolinecolor\":\"#C8D4E3\"},\"yaxis\":{\"backgroundcolor\":\"rgb(17,17,17)\",\"gridcolor\":\"#506784\",\"gridwidth\":2,\"linecolor\":\"#506784\",\"showbackground\":true,\"ticks\":\"\",\"zerolinecolor\":\"#C8D4E3\"},\"zaxis\":{\"backgroundcolor\":\"rgb(17,17,17)\",\"gridcolor\":\"#506784\",\"gridwidth\":2,\"linecolor\":\"#506784\",\"showbackground\":true,\"ticks\":\"\",\"zerolinecolor\":\"#C8D4E3\"}},\"shapedefaults\":{\"line\":{\"color\":\"#f2f5fa\"}},\"sliderdefaults\":{\"bgcolor\":\"#C8D4E3\",\"bordercolor\":\"rgb(17,17,17)\",\"borderwidth\":1,\"tickwidth\":0},\"ternary\":{\"aaxis\":{\"gridcolor\":\"#506784\",\"linecolor\":\"#506784\",\"ticks\":\"\"},\"baxis\":{\"gridcolor\":\"#506784\",\"linecolor\":\"#506784\",\"ticks\":\"\"},\"bgcolor\":\"rgb(17,17,17)\",\"caxis\":{\"gridcolor\":\"#506784\",\"linecolor\":\"#506784\",\"ticks\":\"\"}},\"title\":{\"x\":0.05},\"updatemenudefaults\":{\"bgcolor\":\"#506784\",\"borderwidth\":0},\"xaxis\":{\"automargin\":true,\"gridcolor\":\"#283442\",\"linecolor\":\"#506784\",\"ticks\":\"\",\"title\":{\"standoff\":15},\"zerolinecolor\":\"#283442\",\"zerolinewidth\":2},\"yaxis\":{\"automargin\":true,\"gridcolor\":\"#283442\",\"linecolor\":\"#506784\",\"ticks\":\"\",\"title\":{\"standoff\":15},\"zerolinecolor\":\"#283442\",\"zerolinewidth\":2}}},\"xaxis\":{\"anchor\":\"y\",\"domain\":[0.0,1.0],\"title\":{\"text\":\"x\"}},\"yaxis\":{\"anchor\":\"x\",\"domain\":[0.0,1.0],\"title\":{\"text\":\"y\"}},\"legend\":{\"tracegroupgap\":0},\"title\":{\"text\":\"Delta Power in 3 Min Averages, Laser Experiment\"},\"shapes\":[{\"line\":{\"color\":\"green\",\"dash\":\"dash\",\"width\":3},\"type\":\"line\",\"x0\":\"2022-06-17T11:18:33.631271960\",\"x1\":\"2022-06-17T11:18:33.631271960\",\"xref\":\"x\",\"y0\":0,\"y1\":1,\"yref\":\"y domain\"}]},                        {\"responsive\": true}                    ).then(function(){\n",
       "                            \n",
       "var gd = document.getElementById('f61656b8-ccce-4a1e-b2b8-7576e7a5f1e9');\n",
       "var x = new MutationObserver(function (mutations, observer) {{\n",
       "        var display = window.getComputedStyle(gd).display;\n",
       "        if (!display || display === 'none') {{\n",
       "            console.log([gd, 'removed!']);\n",
       "            Plotly.purge(gd);\n",
       "            observer.disconnect();\n",
       "        }}\n",
       "}});\n",
       "\n",
       "// Listen for the removal of the full notebook cells\n",
       "var notebookContainer = gd.closest('#notebook-container');\n",
       "if (notebookContainer) {{\n",
       "    x.observe(notebookContainer, {childList: true});\n",
       "}}\n",
       "\n",
       "// Listen for the clearing of the current output cell\n",
       "var outputEl = gd.closest('.output');\n",
       "if (outputEl) {{\n",
       "    x.observe(outputEl, {childList: true});\n",
       "}}\n",
       "\n",
       "                        })                };                });            </script>        </div>"
      ]
     },
     "metadata": {},
     "output_type": "display_data"
    }
   ],
   "source": [
    "import plotly.graph_objects as go\n",
    "fig = px.line(x=delta_decay['datetime'], y=delta_decay['delta_mean_norm'], title='Delta Power in 3 Min Averages, Laser Experiment')\n",
    "fig.add_vline(x=laser_laser_on, line_width=3, line_dash=\"dash\", line_color=\"green\")"
   ]
  },
  {
   "cell_type": "code",
   "execution_count": null,
   "metadata": {},
   "outputs": [
    {
     "data": {
      "application/vnd.plotly.v1+json": {
       "config": {
        "plotlyServerURL": "https://plot.ly"
       },
       "data": [
        {
         "type": "scatter",
         "x": [
          "2022-06-14T10:29:32.047393",
          "2022-06-14T10:31:44.079493",
          "2022-06-14T10:33:44.108675",
          "2022-06-14T10:36:20.146611",
          "2022-06-14T10:38:28.177738",
          "2022-06-14T10:42:40.239019",
          "2022-06-14T10:44:50.270632",
          "2022-06-14T10:46:58.301759",
          "2022-06-14T10:49:12.334345",
          "2022-06-14T10:51:12.363527",
          "2022-06-14T10:54:28.411190",
          "2022-06-14T10:56:48.445235",
          "2022-06-14T11:00:24.497762",
          "2022-06-14T11:05:14.568284",
          "2022-06-14T11:07:26.600384",
          "2022-06-14T11:09:32.631024",
          "2022-06-14T11:13:12.684524",
          "2022-06-14T11:15:46.721973",
          "2022-06-14T11:18:02.755046",
          "2022-06-14T11:30:32.937430",
          "2022-06-14T11:32:40.968557",
          "2022-06-14T11:35:59.016707",
          "2022-06-14T11:37:59.045889",
          "2022-06-14T11:44:41.143647",
          "2022-06-14T11:46:59.177205",
          "2022-06-14T11:49:55.220005",
          "2022-06-14T11:52:05.251618",
          "2022-06-14T11:57:29.330409",
          "2022-06-14T11:59:49.364454",
          "2022-06-14T12:02:07.398012",
          "2022-06-14T12:04:35.434003",
          "2022-06-14T12:09:01.498689",
          "2022-06-14T12:11:17.531761",
          "2022-06-14T12:13:21.561915",
          "2022-06-14T12:15:25.592070",
          "2022-06-14T12:17:47.626601",
          "2022-06-14T12:23:11.705391",
          "2022-06-14T12:25:23.737491",
          "2022-06-14T12:28:31.783209",
          "2022-06-14T12:30:49.816768",
          "2022-06-14T12:36:01.892640",
          "2022-06-14T12:38:53.934466",
          "2022-06-14T12:41:11.968025",
          "2022-06-14T12:43:50.006448",
          "2022-06-14T12:49:14.085238",
          "2022-06-14T13:21:16.552629",
          "2022-06-14T13:23:38.587160",
          "2022-06-14T13:25:40.616828",
          "2022-06-14T13:27:58.650387",
          "2022-06-14T13:30:42.690268",
          "2022-06-14T13:32:42.719450",
          "2022-06-14T13:37:14.785595",
          "2022-06-14T13:41:16.844444",
          "2022-06-14T13:46:26.919830",
          "2022-06-14T14:07:39.229154",
          "2022-06-14T14:09:45.259795",
          "2022-06-14T14:12:01.292867",
          "2022-06-14T14:15:01.336640",
          "2022-06-14T14:17:51.377980",
          "2022-06-14T14:19:51.407162",
          "2022-06-14T14:25:09.484493",
          "2022-06-14T14:27:15.515133",
          "2022-06-14T14:29:15.544315",
          "2022-06-14T14:31:39.579333",
          "2022-06-14T14:37:39.666877",
          "2022-06-14T14:39:39.696059",
          "2022-06-14T14:42:29.737399",
          "2022-06-14T14:44:51.771931",
          "2022-06-14T14:47:27.809867",
          "2022-06-14T14:50:51.859476",
          "2022-06-14T14:53:13.894007",
          "2022-06-14T14:59:01.978633",
          "2022-06-14T15:01:20.012192",
          "2022-06-14T15:03:26.042833",
          "2022-06-14T15:06:04.081255",
          "2022-06-14T15:08:56.123082",
          "2022-06-14T15:13:08.184363",
          "2022-06-14T15:19:54.283094",
          "2022-06-14T15:22:10.316167",
          "2022-06-14T15:24:52.355562",
          "2022-06-14T15:47:52.691149",
          "2022-06-14T15:50:02.722763",
          "2022-06-14T15:52:24.757294",
          "2022-06-14T15:55:40.804957",
          "2022-06-14T15:58:06.840462",
          "2022-06-14T16:01:24.888611",
          "2022-06-14T16:04:24.932384",
          "2022-06-14T16:06:30.963024",
          "2022-06-14T16:13:11.060296",
          "2022-06-14T16:15:15.090450"
         ],
         "y": [
          8177.43798828125,
          6579.13427734375,
          6282.37060546875,
          6335.384765625,
          5240.3203125,
          4787.205078125,
          4686.57861328125,
          4906.36376953125,
          3692.73291015625,
          4349.4443359375,
          4683.45263671875,
          4307.4755859375,
          4142.93505859375,
          3569.364013671875,
          4052.131103515625,
          3778.550537109375,
          3282.066650390625,
          4028.30078125,
          3614.6416015625,
          4927.94677734375,
          4312.22265625,
          4059.159423828125,
          3419.82568359375,
          3233.630126953125,
          3858.79150390625,
          3790.973876953125,
          2858.154541015625,
          3134.701171875,
          3471.731689453125,
          3535.510498046875,
          3128.347900390625,
          3079.24853515625,
          3926.113037109375,
          3376.3994140625,
          3081.25439453125,
          2847.81103515625,
          3268.54736328125,
          2597.599609375,
          2460.9462890625,
          2856.817626953125,
          2337.019775390625,
          2831.11865234375,
          2999.517822265625,
          2957.81787109375,
          3156.38525390625,
          2582.790283203125,
          5450.27880859375,
          3831.81103515625,
          3824.81005859375,
          3734.861083984375,
          3944.218505859375,
          2792.94580078125,
          2029.3359375,
          2689.685546875,
          4640.4501953125,
          4119.408203125,
          5079.9501953125,
          4022.98193359375,
          4178.55419921875,
          2782.30322265625,
          2732.634521484375,
          3145.921630859375,
          2782.767822265625,
          3395.20849609375,
          3117.166015625,
          3106.033935546875,
          3247.462890625,
          3517.5849609375,
          2325.751220703125,
          2492.505615234375,
          2853.125732421875,
          2355.29296875,
          3274.49365234375,
          3189.232177734375,
          3395.430908203125,
          2741.819091796875,
          2353.7412109375,
          2486.8798828125,
          2872.46923828125,
          2276.846923828125,
          4537.4140625,
          3534.62548828125,
          3231.060546875,
          3273.23388671875,
          2403.240478515625,
          2816.99853515625,
          3319.1455078125,
          3137.65673828125,
          2477.764892578125,
          3472.907470703125
         ]
        }
       ],
       "layout": {
        "template": {
         "data": {
          "bar": [
           {
            "error_x": {
             "color": "#f2f5fa"
            },
            "error_y": {
             "color": "#f2f5fa"
            },
            "marker": {
             "line": {
              "color": "rgb(17,17,17)",
              "width": 0.5
             },
             "pattern": {
              "fillmode": "overlay",
              "size": 10,
              "solidity": 0.2
             }
            },
            "type": "bar"
           }
          ],
          "barpolar": [
           {
            "marker": {
             "line": {
              "color": "rgb(17,17,17)",
              "width": 0.5
             },
             "pattern": {
              "fillmode": "overlay",
              "size": 10,
              "solidity": 0.2
             }
            },
            "type": "barpolar"
           }
          ],
          "carpet": [
           {
            "aaxis": {
             "endlinecolor": "#A2B1C6",
             "gridcolor": "#506784",
             "linecolor": "#506784",
             "minorgridcolor": "#506784",
             "startlinecolor": "#A2B1C6"
            },
            "baxis": {
             "endlinecolor": "#A2B1C6",
             "gridcolor": "#506784",
             "linecolor": "#506784",
             "minorgridcolor": "#506784",
             "startlinecolor": "#A2B1C6"
            },
            "type": "carpet"
           }
          ],
          "choropleth": [
           {
            "colorbar": {
             "outlinewidth": 0,
             "ticks": ""
            },
            "type": "choropleth"
           }
          ],
          "contour": [
           {
            "colorbar": {
             "outlinewidth": 0,
             "ticks": ""
            },
            "colorscale": [
             [
              0,
              "#0d0887"
             ],
             [
              0.1111111111111111,
              "#46039f"
             ],
             [
              0.2222222222222222,
              "#7201a8"
             ],
             [
              0.3333333333333333,
              "#9c179e"
             ],
             [
              0.4444444444444444,
              "#bd3786"
             ],
             [
              0.5555555555555556,
              "#d8576b"
             ],
             [
              0.6666666666666666,
              "#ed7953"
             ],
             [
              0.7777777777777778,
              "#fb9f3a"
             ],
             [
              0.8888888888888888,
              "#fdca26"
             ],
             [
              1,
              "#f0f921"
             ]
            ],
            "type": "contour"
           }
          ],
          "contourcarpet": [
           {
            "colorbar": {
             "outlinewidth": 0,
             "ticks": ""
            },
            "type": "contourcarpet"
           }
          ],
          "heatmap": [
           {
            "colorbar": {
             "outlinewidth": 0,
             "ticks": ""
            },
            "colorscale": [
             [
              0,
              "#0d0887"
             ],
             [
              0.1111111111111111,
              "#46039f"
             ],
             [
              0.2222222222222222,
              "#7201a8"
             ],
             [
              0.3333333333333333,
              "#9c179e"
             ],
             [
              0.4444444444444444,
              "#bd3786"
             ],
             [
              0.5555555555555556,
              "#d8576b"
             ],
             [
              0.6666666666666666,
              "#ed7953"
             ],
             [
              0.7777777777777778,
              "#fb9f3a"
             ],
             [
              0.8888888888888888,
              "#fdca26"
             ],
             [
              1,
              "#f0f921"
             ]
            ],
            "type": "heatmap"
           }
          ],
          "heatmapgl": [
           {
            "colorbar": {
             "outlinewidth": 0,
             "ticks": ""
            },
            "colorscale": [
             [
              0,
              "#0d0887"
             ],
             [
              0.1111111111111111,
              "#46039f"
             ],
             [
              0.2222222222222222,
              "#7201a8"
             ],
             [
              0.3333333333333333,
              "#9c179e"
             ],
             [
              0.4444444444444444,
              "#bd3786"
             ],
             [
              0.5555555555555556,
              "#d8576b"
             ],
             [
              0.6666666666666666,
              "#ed7953"
             ],
             [
              0.7777777777777778,
              "#fb9f3a"
             ],
             [
              0.8888888888888888,
              "#fdca26"
             ],
             [
              1,
              "#f0f921"
             ]
            ],
            "type": "heatmapgl"
           }
          ],
          "histogram": [
           {
            "marker": {
             "pattern": {
              "fillmode": "overlay",
              "size": 10,
              "solidity": 0.2
             }
            },
            "type": "histogram"
           }
          ],
          "histogram2d": [
           {
            "colorbar": {
             "outlinewidth": 0,
             "ticks": ""
            },
            "colorscale": [
             [
              0,
              "#0d0887"
             ],
             [
              0.1111111111111111,
              "#46039f"
             ],
             [
              0.2222222222222222,
              "#7201a8"
             ],
             [
              0.3333333333333333,
              "#9c179e"
             ],
             [
              0.4444444444444444,
              "#bd3786"
             ],
             [
              0.5555555555555556,
              "#d8576b"
             ],
             [
              0.6666666666666666,
              "#ed7953"
             ],
             [
              0.7777777777777778,
              "#fb9f3a"
             ],
             [
              0.8888888888888888,
              "#fdca26"
             ],
             [
              1,
              "#f0f921"
             ]
            ],
            "type": "histogram2d"
           }
          ],
          "histogram2dcontour": [
           {
            "colorbar": {
             "outlinewidth": 0,
             "ticks": ""
            },
            "colorscale": [
             [
              0,
              "#0d0887"
             ],
             [
              0.1111111111111111,
              "#46039f"
             ],
             [
              0.2222222222222222,
              "#7201a8"
             ],
             [
              0.3333333333333333,
              "#9c179e"
             ],
             [
              0.4444444444444444,
              "#bd3786"
             ],
             [
              0.5555555555555556,
              "#d8576b"
             ],
             [
              0.6666666666666666,
              "#ed7953"
             ],
             [
              0.7777777777777778,
              "#fb9f3a"
             ],
             [
              0.8888888888888888,
              "#fdca26"
             ],
             [
              1,
              "#f0f921"
             ]
            ],
            "type": "histogram2dcontour"
           }
          ],
          "mesh3d": [
           {
            "colorbar": {
             "outlinewidth": 0,
             "ticks": ""
            },
            "type": "mesh3d"
           }
          ],
          "parcoords": [
           {
            "line": {
             "colorbar": {
              "outlinewidth": 0,
              "ticks": ""
             }
            },
            "type": "parcoords"
           }
          ],
          "pie": [
           {
            "automargin": true,
            "type": "pie"
           }
          ],
          "scatter": [
           {
            "marker": {
             "line": {
              "color": "#283442"
             }
            },
            "type": "scatter"
           }
          ],
          "scatter3d": [
           {
            "line": {
             "colorbar": {
              "outlinewidth": 0,
              "ticks": ""
             }
            },
            "marker": {
             "colorbar": {
              "outlinewidth": 0,
              "ticks": ""
             }
            },
            "type": "scatter3d"
           }
          ],
          "scattercarpet": [
           {
            "marker": {
             "colorbar": {
              "outlinewidth": 0,
              "ticks": ""
             }
            },
            "type": "scattercarpet"
           }
          ],
          "scattergeo": [
           {
            "marker": {
             "colorbar": {
              "outlinewidth": 0,
              "ticks": ""
             }
            },
            "type": "scattergeo"
           }
          ],
          "scattergl": [
           {
            "marker": {
             "line": {
              "color": "#283442"
             }
            },
            "type": "scattergl"
           }
          ],
          "scattermapbox": [
           {
            "marker": {
             "colorbar": {
              "outlinewidth": 0,
              "ticks": ""
             }
            },
            "type": "scattermapbox"
           }
          ],
          "scatterpolar": [
           {
            "marker": {
             "colorbar": {
              "outlinewidth": 0,
              "ticks": ""
             }
            },
            "type": "scatterpolar"
           }
          ],
          "scatterpolargl": [
           {
            "marker": {
             "colorbar": {
              "outlinewidth": 0,
              "ticks": ""
             }
            },
            "type": "scatterpolargl"
           }
          ],
          "scatterternary": [
           {
            "marker": {
             "colorbar": {
              "outlinewidth": 0,
              "ticks": ""
             }
            },
            "type": "scatterternary"
           }
          ],
          "surface": [
           {
            "colorbar": {
             "outlinewidth": 0,
             "ticks": ""
            },
            "colorscale": [
             [
              0,
              "#0d0887"
             ],
             [
              0.1111111111111111,
              "#46039f"
             ],
             [
              0.2222222222222222,
              "#7201a8"
             ],
             [
              0.3333333333333333,
              "#9c179e"
             ],
             [
              0.4444444444444444,
              "#bd3786"
             ],
             [
              0.5555555555555556,
              "#d8576b"
             ],
             [
              0.6666666666666666,
              "#ed7953"
             ],
             [
              0.7777777777777778,
              "#fb9f3a"
             ],
             [
              0.8888888888888888,
              "#fdca26"
             ],
             [
              1,
              "#f0f921"
             ]
            ],
            "type": "surface"
           }
          ],
          "table": [
           {
            "cells": {
             "fill": {
              "color": "#506784"
             },
             "line": {
              "color": "rgb(17,17,17)"
             }
            },
            "header": {
             "fill": {
              "color": "#2a3f5f"
             },
             "line": {
              "color": "rgb(17,17,17)"
             }
            },
            "type": "table"
           }
          ]
         },
         "layout": {
          "annotationdefaults": {
           "arrowcolor": "#f2f5fa",
           "arrowhead": 0,
           "arrowwidth": 1
          },
          "autotypenumbers": "strict",
          "coloraxis": {
           "colorbar": {
            "outlinewidth": 0,
            "ticks": ""
           }
          },
          "colorscale": {
           "diverging": [
            [
             0,
             "#8e0152"
            ],
            [
             0.1,
             "#c51b7d"
            ],
            [
             0.2,
             "#de77ae"
            ],
            [
             0.3,
             "#f1b6da"
            ],
            [
             0.4,
             "#fde0ef"
            ],
            [
             0.5,
             "#f7f7f7"
            ],
            [
             0.6,
             "#e6f5d0"
            ],
            [
             0.7,
             "#b8e186"
            ],
            [
             0.8,
             "#7fbc41"
            ],
            [
             0.9,
             "#4d9221"
            ],
            [
             1,
             "#276419"
            ]
           ],
           "sequential": [
            [
             0,
             "#0d0887"
            ],
            [
             0.1111111111111111,
             "#46039f"
            ],
            [
             0.2222222222222222,
             "#7201a8"
            ],
            [
             0.3333333333333333,
             "#9c179e"
            ],
            [
             0.4444444444444444,
             "#bd3786"
            ],
            [
             0.5555555555555556,
             "#d8576b"
            ],
            [
             0.6666666666666666,
             "#ed7953"
            ],
            [
             0.7777777777777778,
             "#fb9f3a"
            ],
            [
             0.8888888888888888,
             "#fdca26"
            ],
            [
             1,
             "#f0f921"
            ]
           ],
           "sequentialminus": [
            [
             0,
             "#0d0887"
            ],
            [
             0.1111111111111111,
             "#46039f"
            ],
            [
             0.2222222222222222,
             "#7201a8"
            ],
            [
             0.3333333333333333,
             "#9c179e"
            ],
            [
             0.4444444444444444,
             "#bd3786"
            ],
            [
             0.5555555555555556,
             "#d8576b"
            ],
            [
             0.6666666666666666,
             "#ed7953"
            ],
            [
             0.7777777777777778,
             "#fb9f3a"
            ],
            [
             0.8888888888888888,
             "#fdca26"
            ],
            [
             1,
             "#f0f921"
            ]
           ]
          },
          "colorway": [
           "#636efa",
           "#EF553B",
           "#00cc96",
           "#ab63fa",
           "#FFA15A",
           "#19d3f3",
           "#FF6692",
           "#B6E880",
           "#FF97FF",
           "#FECB52"
          ],
          "font": {
           "color": "#f2f5fa"
          },
          "geo": {
           "bgcolor": "rgb(17,17,17)",
           "lakecolor": "rgb(17,17,17)",
           "landcolor": "rgb(17,17,17)",
           "showlakes": true,
           "showland": true,
           "subunitcolor": "#506784"
          },
          "hoverlabel": {
           "align": "left"
          },
          "hovermode": "closest",
          "mapbox": {
           "style": "dark"
          },
          "paper_bgcolor": "rgb(17,17,17)",
          "plot_bgcolor": "rgb(17,17,17)",
          "polar": {
           "angularaxis": {
            "gridcolor": "#506784",
            "linecolor": "#506784",
            "ticks": ""
           },
           "bgcolor": "rgb(17,17,17)",
           "radialaxis": {
            "gridcolor": "#506784",
            "linecolor": "#506784",
            "ticks": ""
           }
          },
          "scene": {
           "xaxis": {
            "backgroundcolor": "rgb(17,17,17)",
            "gridcolor": "#506784",
            "gridwidth": 2,
            "linecolor": "#506784",
            "showbackground": true,
            "ticks": "",
            "zerolinecolor": "#C8D4E3"
           },
           "yaxis": {
            "backgroundcolor": "rgb(17,17,17)",
            "gridcolor": "#506784",
            "gridwidth": 2,
            "linecolor": "#506784",
            "showbackground": true,
            "ticks": "",
            "zerolinecolor": "#C8D4E3"
           },
           "zaxis": {
            "backgroundcolor": "rgb(17,17,17)",
            "gridcolor": "#506784",
            "gridwidth": 2,
            "linecolor": "#506784",
            "showbackground": true,
            "ticks": "",
            "zerolinecolor": "#C8D4E3"
           }
          },
          "shapedefaults": {
           "line": {
            "color": "#f2f5fa"
           }
          },
          "sliderdefaults": {
           "bgcolor": "#C8D4E3",
           "bordercolor": "rgb(17,17,17)",
           "borderwidth": 1,
           "tickwidth": 0
          },
          "ternary": {
           "aaxis": {
            "gridcolor": "#506784",
            "linecolor": "#506784",
            "ticks": ""
           },
           "baxis": {
            "gridcolor": "#506784",
            "linecolor": "#506784",
            "ticks": ""
           },
           "bgcolor": "rgb(17,17,17)",
           "caxis": {
            "gridcolor": "#506784",
            "linecolor": "#506784",
            "ticks": ""
           }
          },
          "title": {
           "x": 0.05
          },
          "updatemenudefaults": {
           "bgcolor": "#506784",
           "borderwidth": 0
          },
          "xaxis": {
           "automargin": true,
           "gridcolor": "#283442",
           "linecolor": "#506784",
           "ticks": "",
           "title": {
            "standoff": 15
           },
           "zerolinecolor": "#283442",
           "zerolinewidth": 2
          },
          "yaxis": {
           "automargin": true,
           "gridcolor": "#283442",
           "linecolor": "#506784",
           "ticks": "",
           "title": {
            "standoff": 15
           },
           "zerolinecolor": "#283442",
           "zerolinewidth": 2
          }
         }
        }
       }
      },
      "text/html": [
       "<div>                            <div id=\"eada4600-e4a5-46ed-8d4c-9cc2cca37599\" class=\"plotly-graph-div\" style=\"height:525px; width:100%;\"></div>            <script type=\"text/javascript\">                require([\"plotly\"], function(Plotly) {                    window.PLOTLYENV=window.PLOTLYENV || {};                                    if (document.getElementById(\"eada4600-e4a5-46ed-8d4c-9cc2cca37599\")) {                    Plotly.newPlot(                        \"eada4600-e4a5-46ed-8d4c-9cc2cca37599\",                        [{\"x\":[\"2022-06-14T10:29:32.047393\",\"2022-06-14T10:31:44.079493\",\"2022-06-14T10:33:44.108675\",\"2022-06-14T10:36:20.146611\",\"2022-06-14T10:38:28.177738\",\"2022-06-14T10:42:40.239019\",\"2022-06-14T10:44:50.270632\",\"2022-06-14T10:46:58.301759\",\"2022-06-14T10:49:12.334345\",\"2022-06-14T10:51:12.363527\",\"2022-06-14T10:54:28.411190\",\"2022-06-14T10:56:48.445235\",\"2022-06-14T11:00:24.497762\",\"2022-06-14T11:05:14.568284\",\"2022-06-14T11:07:26.600384\",\"2022-06-14T11:09:32.631024\",\"2022-06-14T11:13:12.684524\",\"2022-06-14T11:15:46.721973\",\"2022-06-14T11:18:02.755046\",\"2022-06-14T11:30:32.937430\",\"2022-06-14T11:32:40.968557\",\"2022-06-14T11:35:59.016707\",\"2022-06-14T11:37:59.045889\",\"2022-06-14T11:44:41.143647\",\"2022-06-14T11:46:59.177205\",\"2022-06-14T11:49:55.220005\",\"2022-06-14T11:52:05.251618\",\"2022-06-14T11:57:29.330409\",\"2022-06-14T11:59:49.364454\",\"2022-06-14T12:02:07.398012\",\"2022-06-14T12:04:35.434003\",\"2022-06-14T12:09:01.498689\",\"2022-06-14T12:11:17.531761\",\"2022-06-14T12:13:21.561915\",\"2022-06-14T12:15:25.592070\",\"2022-06-14T12:17:47.626601\",\"2022-06-14T12:23:11.705391\",\"2022-06-14T12:25:23.737491\",\"2022-06-14T12:28:31.783209\",\"2022-06-14T12:30:49.816768\",\"2022-06-14T12:36:01.892640\",\"2022-06-14T12:38:53.934466\",\"2022-06-14T12:41:11.968025\",\"2022-06-14T12:43:50.006448\",\"2022-06-14T12:49:14.085238\",\"2022-06-14T13:21:16.552629\",\"2022-06-14T13:23:38.587160\",\"2022-06-14T13:25:40.616828\",\"2022-06-14T13:27:58.650387\",\"2022-06-14T13:30:42.690268\",\"2022-06-14T13:32:42.719450\",\"2022-06-14T13:37:14.785595\",\"2022-06-14T13:41:16.844444\",\"2022-06-14T13:46:26.919830\",\"2022-06-14T14:07:39.229154\",\"2022-06-14T14:09:45.259795\",\"2022-06-14T14:12:01.292867\",\"2022-06-14T14:15:01.336640\",\"2022-06-14T14:17:51.377980\",\"2022-06-14T14:19:51.407162\",\"2022-06-14T14:25:09.484493\",\"2022-06-14T14:27:15.515133\",\"2022-06-14T14:29:15.544315\",\"2022-06-14T14:31:39.579333\",\"2022-06-14T14:37:39.666877\",\"2022-06-14T14:39:39.696059\",\"2022-06-14T14:42:29.737399\",\"2022-06-14T14:44:51.771931\",\"2022-06-14T14:47:27.809867\",\"2022-06-14T14:50:51.859476\",\"2022-06-14T14:53:13.894007\",\"2022-06-14T14:59:01.978633\",\"2022-06-14T15:01:20.012192\",\"2022-06-14T15:03:26.042833\",\"2022-06-14T15:06:04.081255\",\"2022-06-14T15:08:56.123082\",\"2022-06-14T15:13:08.184363\",\"2022-06-14T15:19:54.283094\",\"2022-06-14T15:22:10.316167\",\"2022-06-14T15:24:52.355562\",\"2022-06-14T15:47:52.691149\",\"2022-06-14T15:50:02.722763\",\"2022-06-14T15:52:24.757294\",\"2022-06-14T15:55:40.804957\",\"2022-06-14T15:58:06.840462\",\"2022-06-14T16:01:24.888611\",\"2022-06-14T16:04:24.932384\",\"2022-06-14T16:06:30.963024\",\"2022-06-14T16:13:11.060296\",\"2022-06-14T16:15:15.090450\"],\"y\":[8177.43798828125,6579.13427734375,6282.37060546875,6335.384765625,5240.3203125,4787.205078125,4686.57861328125,4906.36376953125,3692.73291015625,4349.4443359375,4683.45263671875,4307.4755859375,4142.93505859375,3569.364013671875,4052.131103515625,3778.550537109375,3282.066650390625,4028.30078125,3614.6416015625,4927.94677734375,4312.22265625,4059.159423828125,3419.82568359375,3233.630126953125,3858.79150390625,3790.973876953125,2858.154541015625,3134.701171875,3471.731689453125,3535.510498046875,3128.347900390625,3079.24853515625,3926.113037109375,3376.3994140625,3081.25439453125,2847.81103515625,3268.54736328125,2597.599609375,2460.9462890625,2856.817626953125,2337.019775390625,2831.11865234375,2999.517822265625,2957.81787109375,3156.38525390625,2582.790283203125,5450.27880859375,3831.81103515625,3824.81005859375,3734.861083984375,3944.218505859375,2792.94580078125,2029.3359375,2689.685546875,4640.4501953125,4119.408203125,5079.9501953125,4022.98193359375,4178.55419921875,2782.30322265625,2732.634521484375,3145.921630859375,2782.767822265625,3395.20849609375,3117.166015625,3106.033935546875,3247.462890625,3517.5849609375,2325.751220703125,2492.505615234375,2853.125732421875,2355.29296875,3274.49365234375,3189.232177734375,3395.430908203125,2741.819091796875,2353.7412109375,2486.8798828125,2872.46923828125,2276.846923828125,4537.4140625,3534.62548828125,3231.060546875,3273.23388671875,2403.240478515625,2816.99853515625,3319.1455078125,3137.65673828125,2477.764892578125,3472.907470703125],\"type\":\"scatter\"}],                        {\"template\":{\"data\":{\"bar\":[{\"error_x\":{\"color\":\"#f2f5fa\"},\"error_y\":{\"color\":\"#f2f5fa\"},\"marker\":{\"line\":{\"color\":\"rgb(17,17,17)\",\"width\":0.5},\"pattern\":{\"fillmode\":\"overlay\",\"size\":10,\"solidity\":0.2}},\"type\":\"bar\"}],\"barpolar\":[{\"marker\":{\"line\":{\"color\":\"rgb(17,17,17)\",\"width\":0.5},\"pattern\":{\"fillmode\":\"overlay\",\"size\":10,\"solidity\":0.2}},\"type\":\"barpolar\"}],\"carpet\":[{\"aaxis\":{\"endlinecolor\":\"#A2B1C6\",\"gridcolor\":\"#506784\",\"linecolor\":\"#506784\",\"minorgridcolor\":\"#506784\",\"startlinecolor\":\"#A2B1C6\"},\"baxis\":{\"endlinecolor\":\"#A2B1C6\",\"gridcolor\":\"#506784\",\"linecolor\":\"#506784\",\"minorgridcolor\":\"#506784\",\"startlinecolor\":\"#A2B1C6\"},\"type\":\"carpet\"}],\"choropleth\":[{\"colorbar\":{\"outlinewidth\":0,\"ticks\":\"\"},\"type\":\"choropleth\"}],\"contour\":[{\"colorbar\":{\"outlinewidth\":0,\"ticks\":\"\"},\"colorscale\":[[0.0,\"#0d0887\"],[0.1111111111111111,\"#46039f\"],[0.2222222222222222,\"#7201a8\"],[0.3333333333333333,\"#9c179e\"],[0.4444444444444444,\"#bd3786\"],[0.5555555555555556,\"#d8576b\"],[0.6666666666666666,\"#ed7953\"],[0.7777777777777778,\"#fb9f3a\"],[0.8888888888888888,\"#fdca26\"],[1.0,\"#f0f921\"]],\"type\":\"contour\"}],\"contourcarpet\":[{\"colorbar\":{\"outlinewidth\":0,\"ticks\":\"\"},\"type\":\"contourcarpet\"}],\"heatmap\":[{\"colorbar\":{\"outlinewidth\":0,\"ticks\":\"\"},\"colorscale\":[[0.0,\"#0d0887\"],[0.1111111111111111,\"#46039f\"],[0.2222222222222222,\"#7201a8\"],[0.3333333333333333,\"#9c179e\"],[0.4444444444444444,\"#bd3786\"],[0.5555555555555556,\"#d8576b\"],[0.6666666666666666,\"#ed7953\"],[0.7777777777777778,\"#fb9f3a\"],[0.8888888888888888,\"#fdca26\"],[1.0,\"#f0f921\"]],\"type\":\"heatmap\"}],\"heatmapgl\":[{\"colorbar\":{\"outlinewidth\":0,\"ticks\":\"\"},\"colorscale\":[[0.0,\"#0d0887\"],[0.1111111111111111,\"#46039f\"],[0.2222222222222222,\"#7201a8\"],[0.3333333333333333,\"#9c179e\"],[0.4444444444444444,\"#bd3786\"],[0.5555555555555556,\"#d8576b\"],[0.6666666666666666,\"#ed7953\"],[0.7777777777777778,\"#fb9f3a\"],[0.8888888888888888,\"#fdca26\"],[1.0,\"#f0f921\"]],\"type\":\"heatmapgl\"}],\"histogram\":[{\"marker\":{\"pattern\":{\"fillmode\":\"overlay\",\"size\":10,\"solidity\":0.2}},\"type\":\"histogram\"}],\"histogram2d\":[{\"colorbar\":{\"outlinewidth\":0,\"ticks\":\"\"},\"colorscale\":[[0.0,\"#0d0887\"],[0.1111111111111111,\"#46039f\"],[0.2222222222222222,\"#7201a8\"],[0.3333333333333333,\"#9c179e\"],[0.4444444444444444,\"#bd3786\"],[0.5555555555555556,\"#d8576b\"],[0.6666666666666666,\"#ed7953\"],[0.7777777777777778,\"#fb9f3a\"],[0.8888888888888888,\"#fdca26\"],[1.0,\"#f0f921\"]],\"type\":\"histogram2d\"}],\"histogram2dcontour\":[{\"colorbar\":{\"outlinewidth\":0,\"ticks\":\"\"},\"colorscale\":[[0.0,\"#0d0887\"],[0.1111111111111111,\"#46039f\"],[0.2222222222222222,\"#7201a8\"],[0.3333333333333333,\"#9c179e\"],[0.4444444444444444,\"#bd3786\"],[0.5555555555555556,\"#d8576b\"],[0.6666666666666666,\"#ed7953\"],[0.7777777777777778,\"#fb9f3a\"],[0.8888888888888888,\"#fdca26\"],[1.0,\"#f0f921\"]],\"type\":\"histogram2dcontour\"}],\"mesh3d\":[{\"colorbar\":{\"outlinewidth\":0,\"ticks\":\"\"},\"type\":\"mesh3d\"}],\"parcoords\":[{\"line\":{\"colorbar\":{\"outlinewidth\":0,\"ticks\":\"\"}},\"type\":\"parcoords\"}],\"pie\":[{\"automargin\":true,\"type\":\"pie\"}],\"scatter\":[{\"marker\":{\"line\":{\"color\":\"#283442\"}},\"type\":\"scatter\"}],\"scatter3d\":[{\"line\":{\"colorbar\":{\"outlinewidth\":0,\"ticks\":\"\"}},\"marker\":{\"colorbar\":{\"outlinewidth\":0,\"ticks\":\"\"}},\"type\":\"scatter3d\"}],\"scattercarpet\":[{\"marker\":{\"colorbar\":{\"outlinewidth\":0,\"ticks\":\"\"}},\"type\":\"scattercarpet\"}],\"scattergeo\":[{\"marker\":{\"colorbar\":{\"outlinewidth\":0,\"ticks\":\"\"}},\"type\":\"scattergeo\"}],\"scattergl\":[{\"marker\":{\"line\":{\"color\":\"#283442\"}},\"type\":\"scattergl\"}],\"scattermapbox\":[{\"marker\":{\"colorbar\":{\"outlinewidth\":0,\"ticks\":\"\"}},\"type\":\"scattermapbox\"}],\"scatterpolar\":[{\"marker\":{\"colorbar\":{\"outlinewidth\":0,\"ticks\":\"\"}},\"type\":\"scatterpolar\"}],\"scatterpolargl\":[{\"marker\":{\"colorbar\":{\"outlinewidth\":0,\"ticks\":\"\"}},\"type\":\"scatterpolargl\"}],\"scatterternary\":[{\"marker\":{\"colorbar\":{\"outlinewidth\":0,\"ticks\":\"\"}},\"type\":\"scatterternary\"}],\"surface\":[{\"colorbar\":{\"outlinewidth\":0,\"ticks\":\"\"},\"colorscale\":[[0.0,\"#0d0887\"],[0.1111111111111111,\"#46039f\"],[0.2222222222222222,\"#7201a8\"],[0.3333333333333333,\"#9c179e\"],[0.4444444444444444,\"#bd3786\"],[0.5555555555555556,\"#d8576b\"],[0.6666666666666666,\"#ed7953\"],[0.7777777777777778,\"#fb9f3a\"],[0.8888888888888888,\"#fdca26\"],[1.0,\"#f0f921\"]],\"type\":\"surface\"}],\"table\":[{\"cells\":{\"fill\":{\"color\":\"#506784\"},\"line\":{\"color\":\"rgb(17,17,17)\"}},\"header\":{\"fill\":{\"color\":\"#2a3f5f\"},\"line\":{\"color\":\"rgb(17,17,17)\"}},\"type\":\"table\"}]},\"layout\":{\"annotationdefaults\":{\"arrowcolor\":\"#f2f5fa\",\"arrowhead\":0,\"arrowwidth\":1},\"autotypenumbers\":\"strict\",\"coloraxis\":{\"colorbar\":{\"outlinewidth\":0,\"ticks\":\"\"}},\"colorscale\":{\"diverging\":[[0,\"#8e0152\"],[0.1,\"#c51b7d\"],[0.2,\"#de77ae\"],[0.3,\"#f1b6da\"],[0.4,\"#fde0ef\"],[0.5,\"#f7f7f7\"],[0.6,\"#e6f5d0\"],[0.7,\"#b8e186\"],[0.8,\"#7fbc41\"],[0.9,\"#4d9221\"],[1,\"#276419\"]],\"sequential\":[[0.0,\"#0d0887\"],[0.1111111111111111,\"#46039f\"],[0.2222222222222222,\"#7201a8\"],[0.3333333333333333,\"#9c179e\"],[0.4444444444444444,\"#bd3786\"],[0.5555555555555556,\"#d8576b\"],[0.6666666666666666,\"#ed7953\"],[0.7777777777777778,\"#fb9f3a\"],[0.8888888888888888,\"#fdca26\"],[1.0,\"#f0f921\"]],\"sequentialminus\":[[0.0,\"#0d0887\"],[0.1111111111111111,\"#46039f\"],[0.2222222222222222,\"#7201a8\"],[0.3333333333333333,\"#9c179e\"],[0.4444444444444444,\"#bd3786\"],[0.5555555555555556,\"#d8576b\"],[0.6666666666666666,\"#ed7953\"],[0.7777777777777778,\"#fb9f3a\"],[0.8888888888888888,\"#fdca26\"],[1.0,\"#f0f921\"]]},\"colorway\":[\"#636efa\",\"#EF553B\",\"#00cc96\",\"#ab63fa\",\"#FFA15A\",\"#19d3f3\",\"#FF6692\",\"#B6E880\",\"#FF97FF\",\"#FECB52\"],\"font\":{\"color\":\"#f2f5fa\"},\"geo\":{\"bgcolor\":\"rgb(17,17,17)\",\"lakecolor\":\"rgb(17,17,17)\",\"landcolor\":\"rgb(17,17,17)\",\"showlakes\":true,\"showland\":true,\"subunitcolor\":\"#506784\"},\"hoverlabel\":{\"align\":\"left\"},\"hovermode\":\"closest\",\"mapbox\":{\"style\":\"dark\"},\"paper_bgcolor\":\"rgb(17,17,17)\",\"plot_bgcolor\":\"rgb(17,17,17)\",\"polar\":{\"angularaxis\":{\"gridcolor\":\"#506784\",\"linecolor\":\"#506784\",\"ticks\":\"\"},\"bgcolor\":\"rgb(17,17,17)\",\"radialaxis\":{\"gridcolor\":\"#506784\",\"linecolor\":\"#506784\",\"ticks\":\"\"}},\"scene\":{\"xaxis\":{\"backgroundcolor\":\"rgb(17,17,17)\",\"gridcolor\":\"#506784\",\"gridwidth\":2,\"linecolor\":\"#506784\",\"showbackground\":true,\"ticks\":\"\",\"zerolinecolor\":\"#C8D4E3\"},\"yaxis\":{\"backgroundcolor\":\"rgb(17,17,17)\",\"gridcolor\":\"#506784\",\"gridwidth\":2,\"linecolor\":\"#506784\",\"showbackground\":true,\"ticks\":\"\",\"zerolinecolor\":\"#C8D4E3\"},\"zaxis\":{\"backgroundcolor\":\"rgb(17,17,17)\",\"gridcolor\":\"#506784\",\"gridwidth\":2,\"linecolor\":\"#506784\",\"showbackground\":true,\"ticks\":\"\",\"zerolinecolor\":\"#C8D4E3\"}},\"shapedefaults\":{\"line\":{\"color\":\"#f2f5fa\"}},\"sliderdefaults\":{\"bgcolor\":\"#C8D4E3\",\"bordercolor\":\"rgb(17,17,17)\",\"borderwidth\":1,\"tickwidth\":0},\"ternary\":{\"aaxis\":{\"gridcolor\":\"#506784\",\"linecolor\":\"#506784\",\"ticks\":\"\"},\"baxis\":{\"gridcolor\":\"#506784\",\"linecolor\":\"#506784\",\"ticks\":\"\"},\"bgcolor\":\"rgb(17,17,17)\",\"caxis\":{\"gridcolor\":\"#506784\",\"linecolor\":\"#506784\",\"ticks\":\"\"}},\"title\":{\"x\":0.05},\"updatemenudefaults\":{\"bgcolor\":\"#506784\",\"borderwidth\":0},\"xaxis\":{\"automargin\":true,\"gridcolor\":\"#283442\",\"linecolor\":\"#506784\",\"ticks\":\"\",\"title\":{\"standoff\":15},\"zerolinecolor\":\"#283442\",\"zerolinewidth\":2},\"yaxis\":{\"automargin\":true,\"gridcolor\":\"#283442\",\"linecolor\":\"#506784\",\"ticks\":\"\",\"title\":{\"standoff\":15},\"zerolinecolor\":\"#283442\",\"zerolinewidth\":2}}}},                        {\"responsive\": true}                    ).then(function(){\n",
       "                            \n",
       "var gd = document.getElementById('eada4600-e4a5-46ed-8d4c-9cc2cca37599');\n",
       "var x = new MutationObserver(function (mutations, observer) {{\n",
       "        var display = window.getComputedStyle(gd).display;\n",
       "        if (!display || display === 'none') {{\n",
       "            console.log([gd, 'removed!']);\n",
       "            Plotly.purge(gd);\n",
       "            observer.disconnect();\n",
       "        }}\n",
       "}});\n",
       "\n",
       "// Listen for the removal of the full notebook cells\n",
       "var notebookContainer = gd.closest('#notebook-container');\n",
       "if (notebookContainer) {{\n",
       "    x.observe(notebookContainer, {childList: true});\n",
       "}}\n",
       "\n",
       "// Listen for the clearing of the current output cell\n",
       "var outputEl = gd.closest('.output');\n",
       "if (outputEl) {{\n",
       "    x.observe(outputEl, {childList: true});\n",
       "}}\n",
       "\n",
       "                        })                };                });            </script>        </div>"
      ]
     },
     "metadata": {},
     "output_type": "display_data"
    }
   ],
   "source": [
    "import plotly.graph_objects as go\n",
    "fig = go.Figure(data=[go.Scatter(x=delta_decay['datetime'], y=delta_decay['delta_mean'])])\n",
    "fig"
   ]
  },
  {
   "cell_type": "markdown",
   "metadata": {},
   "source": [
    "# Units"
   ]
  },
  {
   "cell_type": "code",
   "execution_count": null,
   "metadata": {},
   "outputs": [],
   "source": [
    "lp = '/Volumes/opto_loc/Data/ACR_9/ACR_9-laser1'\n",
    "cp = '/Volumes/opto_loc/Data/ACR_9/ACR_9-control1'\n",
    "\n",
    "sp15_con = kpd.get_spike_df(cp, t1=5723, t2=42575, chan=15, hyp=h['control1'], condition='control1')\n",
    "sp15_las = kpd.get_spike_df(lp, t1=9077, t2=45922, chan=15, hyp=h['laser1'], condition='laser1')"
   ]
  },
  {
   "cell_type": "code",
   "execution_count": null,
   "metadata": {},
   "outputs": [
    {
     "data": {
      "text/plain": [
       "state\n",
       "Brief-Arousal         0.000860\n",
       "NREM                  0.503469\n",
       "REM                   0.096036\n",
       "Transition-to-NREM    0.001612\n",
       "Transition-to-REM     0.018505\n",
       "Unsure                0.000105\n",
       "Wake                  0.379413\n",
       "Name: duration, dtype: float64"
      ]
     },
     "metadata": {},
     "output_type": "display_data"
    }
   ],
   "source": [
    "hyp.fractional_occupancy("
   ]
  },
  {
   "cell_type": "code",
   "execution_count": null,
   "metadata": {},
   "outputs": [],
   "source": [
    "def total_time_in_state_over_period(hyp, state, t1, t2):\n",
    "    \n",
    "    def time_in_state(hyp, state):\n",
    "        \"\"\"Return the total time spent in a given state.\"\"\"\n",
    "        return hyp.keep_states([state]).duration.sum()\n",
    "    \n",
    "    hyp = hyp[hyp.end_time.between(t1, t2)]\n",
    "    return time_in_state(hyp, state)"
   ]
  },
  {
   "cell_type": "code",
   "execution_count": null,
   "metadata": {},
   "outputs": [
    {
     "data": {
      "text/plain": [
       "Timedelta('0 days 02:18:09.478446959')"
      ]
     },
     "metadata": {},
     "output_type": "display_data"
    }
   ],
   "source": [
    "total_time_in_state_over_period(hyp, 'NREM', laser_laser_on, laser_laser_off)"
   ]
  },
  {
   "cell_type": "code",
   "execution_count": null,
   "metadata": {},
   "outputs": [],
   "source": [
    "def get_spikes_per_min(spike_df, hyp):\n",
    "    \"\"\"Return the number of spikes per minute in a given state.\"\"\"\n",
    "    return spike_df.groupby('state').apply(lambda x: x.between(t1, t2).sum() / (t2 - t1) * 60)"
   ]
  },
  {
   "cell_type": "code",
   "execution_count": null,
   "metadata": {},
   "outputs": [],
   "source": [
    "sp15_con = add_time_class(sp15_con, t)"
   ]
  },
  {
   "cell_type": "code",
   "execution_count": null,
   "metadata": {},
   "outputs": [],
   "source": [
    "sp15_las = add_time_class(sp15_las, t)"
   ]
  },
  {
   "cell_type": "code",
   "execution_count": null,
   "metadata": {},
   "outputs": [
    {
     "data": {
      "text/plain": [
       "array(['Baseline', 'Photostim, 0-2Hr', 'Photostim, 2-4Hr',\n",
       "       'Post Stim, 0-2Hr', 'Post Stim, 2-4Hr', 'Post Stim, 4-6Hr', 'NA'],\n",
       "      dtype=object)"
      ]
     },
     "metadata": {},
     "output_type": "display_data"
    }
   ],
   "source": [
    "sp15_las.time_class.unique()"
   ]
  },
  {
   "cell_type": "code",
   "execution_count": null,
   "metadata": {},
   "outputs": [],
   "source": [
    "for tc in sp15_las.time_class.unique():\n",
    "    spikes_in_tc = sp15_las.loc[sp15_las.time_class == tc]\n",
    "    spikes_in_tc_state = \n",
    "    t1 = spikes_in_tc.datetime.min()\n",
    "    t2 = spikes_in_tc.datetime.max()"
   ]
  },
  {
   "cell_type": "code",
   "execution_count": null,
   "metadata": {},
   "outputs": [
    {
     "ename": "KeyError",
     "evalue": "'hypnogram'",
     "output_type": "error",
     "traceback": [
      "\u001b[0;31m---------------------------------------------------------------------------\u001b[0m\n",
      "\u001b[0;31mKeyError\u001b[0m                                  Traceback (most recent call last)\n",
      "\u001b[0;32m/tmp/ipykernel_2246482/3898705849.py\u001b[0m in \u001b[0;36m<module>\u001b[0;34m\u001b[0m\n",
      "\u001b[0;32m----> 1\u001b[0;31m \u001b[0mget_spikes_per_min\u001b[0m\u001b[0;34m(\u001b[0m\u001b[0msp15_con\u001b[0m\u001b[0;34m,\u001b[0m \u001b[0mhyp\u001b[0m\u001b[0;34m,\u001b[0m \u001b[0;34m'NREM'\u001b[0m\u001b[0;34m,\u001b[0m \u001b[0mlaser_laser_on\u001b[0m\u001b[0;34m,\u001b[0m \u001b[0mlaser_laser_off\u001b[0m\u001b[0;34m)\u001b[0m\u001b[0;34m\u001b[0m\u001b[0;34m\u001b[0m\u001b[0m\n",
      "\u001b[0m\n",
      "\u001b[0;32m/tmp/ipykernel_2246482/266380181.py\u001b[0m in \u001b[0;36mget_spikes_per_min\u001b[0;34m(spike_df, hyp, state, t1, t2)\u001b[0m\n",
      "\u001b[1;32m      1\u001b[0m \u001b[0;32mdef\u001b[0m \u001b[0mget_spikes_per_min\u001b[0m\u001b[0;34m(\u001b[0m\u001b[0mspike_df\u001b[0m\u001b[0;34m,\u001b[0m \u001b[0mhyp\u001b[0m\u001b[0;34m,\u001b[0m \u001b[0mstate\u001b[0m\u001b[0;34m,\u001b[0m \u001b[0mt1\u001b[0m\u001b[0;34m,\u001b[0m \u001b[0mt2\u001b[0m\u001b[0;34m)\u001b[0m\u001b[0;34m:\u001b[0m\u001b[0;34m\u001b[0m\u001b[0;34m\u001b[0m\u001b[0m\n",
      "\u001b[1;32m      2\u001b[0m     \u001b[0;34m\"\"\"Return the number of spikes per minute in a given state.\"\"\"\u001b[0m\u001b[0;34m\u001b[0m\u001b[0;34m\u001b[0m\u001b[0m\n",
      "\u001b[0;32m----> 3\u001b[0;31m     \u001b[0;32mreturn\u001b[0m \u001b[0mspike_df\u001b[0m\u001b[0;34m.\u001b[0m\u001b[0mgroupby\u001b[0m\u001b[0;34m(\u001b[0m\u001b[0;34m'hypnogram'\u001b[0m\u001b[0;34m)\u001b[0m\u001b[0;34m.\u001b[0m\u001b[0mapply\u001b[0m\u001b[0;34m(\u001b[0m\u001b[0;32mlambda\u001b[0m \u001b[0mx\u001b[0m\u001b[0;34m:\u001b[0m \u001b[0mx\u001b[0m\u001b[0;34m.\u001b[0m\u001b[0mbetween\u001b[0m\u001b[0;34m(\u001b[0m\u001b[0mt1\u001b[0m\u001b[0;34m,\u001b[0m \u001b[0mt2\u001b[0m\u001b[0;34m)\u001b[0m\u001b[0;34m.\u001b[0m\u001b[0msum\u001b[0m\u001b[0;34m(\u001b[0m\u001b[0;34m)\u001b[0m \u001b[0;34m/\u001b[0m \u001b[0;34m(\u001b[0m\u001b[0mt2\u001b[0m \u001b[0;34m-\u001b[0m \u001b[0mt1\u001b[0m\u001b[0;34m)\u001b[0m \u001b[0;34m*\u001b[0m \u001b[0;36m60\u001b[0m\u001b[0;34m)\u001b[0m\u001b[0;34m\u001b[0m\u001b[0;34m\u001b[0m\u001b[0m\n",
      "\u001b[0m\n",
      "\u001b[0;32m~/miniconda3/envs/ecephys_t2/lib/python3.9/site-packages/pandas/core/frame.py\u001b[0m in \u001b[0;36mgroupby\u001b[0;34m(self, by, axis, level, as_index, sort, group_keys, squeeze, observed, dropna)\u001b[0m\n",
      "\u001b[1;32m   7629\u001b[0m         \u001b[0;31m# error: Argument \"squeeze\" to \"DataFrameGroupBy\" has incompatible type\u001b[0m\u001b[0;34m\u001b[0m\u001b[0;34m\u001b[0m\u001b[0m\n",
      "\u001b[1;32m   7630\u001b[0m         \u001b[0;31m# \"Union[bool, NoDefault]\"; expected \"bool\"\u001b[0m\u001b[0;34m\u001b[0m\u001b[0;34m\u001b[0m\u001b[0m\n",
      "\u001b[0;32m-> 7631\u001b[0;31m         return DataFrameGroupBy(\n",
      "\u001b[0m\u001b[1;32m   7632\u001b[0m             \u001b[0mobj\u001b[0m\u001b[0;34m=\u001b[0m\u001b[0mself\u001b[0m\u001b[0;34m,\u001b[0m\u001b[0;34m\u001b[0m\u001b[0;34m\u001b[0m\u001b[0m\n",
      "\u001b[1;32m   7633\u001b[0m             \u001b[0mkeys\u001b[0m\u001b[0;34m=\u001b[0m\u001b[0mby\u001b[0m\u001b[0;34m,\u001b[0m\u001b[0;34m\u001b[0m\u001b[0;34m\u001b[0m\u001b[0m\n",
      "\n",
      "\u001b[0;32m~/miniconda3/envs/ecephys_t2/lib/python3.9/site-packages/pandas/core/groupby/groupby.py\u001b[0m in \u001b[0;36m__init__\u001b[0;34m(self, obj, keys, axis, level, grouper, exclusions, selection, as_index, sort, group_keys, squeeze, observed, mutated, dropna)\u001b[0m\n",
      "\u001b[1;32m    887\u001b[0m             \u001b[0;32mfrom\u001b[0m \u001b[0mpandas\u001b[0m\u001b[0;34m.\u001b[0m\u001b[0mcore\u001b[0m\u001b[0;34m.\u001b[0m\u001b[0mgroupby\u001b[0m\u001b[0;34m.\u001b[0m\u001b[0mgrouper\u001b[0m \u001b[0;32mimport\u001b[0m \u001b[0mget_grouper\u001b[0m\u001b[0;34m\u001b[0m\u001b[0;34m\u001b[0m\u001b[0m\n",
      "\u001b[1;32m    888\u001b[0m \u001b[0;34m\u001b[0m\u001b[0m\n",
      "\u001b[0;32m--> 889\u001b[0;31m             grouper, exclusions, obj = get_grouper(\n",
      "\u001b[0m\u001b[1;32m    890\u001b[0m                 \u001b[0mobj\u001b[0m\u001b[0;34m,\u001b[0m\u001b[0;34m\u001b[0m\u001b[0;34m\u001b[0m\u001b[0m\n",
      "\u001b[1;32m    891\u001b[0m                 \u001b[0mkeys\u001b[0m\u001b[0;34m,\u001b[0m\u001b[0;34m\u001b[0m\u001b[0;34m\u001b[0m\u001b[0m\n",
      "\n",
      "\u001b[0;32m~/miniconda3/envs/ecephys_t2/lib/python3.9/site-packages/pandas/core/groupby/grouper.py\u001b[0m in \u001b[0;36mget_grouper\u001b[0;34m(obj, key, axis, level, sort, observed, mutated, validate, dropna)\u001b[0m\n",
      "\u001b[1;32m    860\u001b[0m                 \u001b[0min_axis\u001b[0m\u001b[0;34m,\u001b[0m \u001b[0mlevel\u001b[0m\u001b[0;34m,\u001b[0m \u001b[0mgpr\u001b[0m \u001b[0;34m=\u001b[0m \u001b[0;32mFalse\u001b[0m\u001b[0;34m,\u001b[0m \u001b[0mgpr\u001b[0m\u001b[0;34m,\u001b[0m \u001b[0;32mNone\u001b[0m\u001b[0;34m\u001b[0m\u001b[0;34m\u001b[0m\u001b[0m\n",
      "\u001b[1;32m    861\u001b[0m             \u001b[0;32melse\u001b[0m\u001b[0;34m:\u001b[0m\u001b[0;34m\u001b[0m\u001b[0;34m\u001b[0m\u001b[0m\n",
      "\u001b[0;32m--> 862\u001b[0;31m                 \u001b[0;32mraise\u001b[0m \u001b[0mKeyError\u001b[0m\u001b[0;34m(\u001b[0m\u001b[0mgpr\u001b[0m\u001b[0;34m)\u001b[0m\u001b[0;34m\u001b[0m\u001b[0;34m\u001b[0m\u001b[0m\n",
      "\u001b[0m\u001b[1;32m    863\u001b[0m         \u001b[0;32melif\u001b[0m \u001b[0misinstance\u001b[0m\u001b[0;34m(\u001b[0m\u001b[0mgpr\u001b[0m\u001b[0;34m,\u001b[0m \u001b[0mGrouper\u001b[0m\u001b[0;34m)\u001b[0m \u001b[0;32mand\u001b[0m \u001b[0mgpr\u001b[0m\u001b[0;34m.\u001b[0m\u001b[0mkey\u001b[0m \u001b[0;32mis\u001b[0m \u001b[0;32mnot\u001b[0m \u001b[0;32mNone\u001b[0m\u001b[0;34m:\u001b[0m\u001b[0;34m\u001b[0m\u001b[0;34m\u001b[0m\u001b[0m\n",
      "\u001b[1;32m    864\u001b[0m             \u001b[0;31m# Add key to exclusions\u001b[0m\u001b[0;34m\u001b[0m\u001b[0;34m\u001b[0m\u001b[0m\n",
      "\n",
      "\u001b[0;31mKeyError\u001b[0m: 'hypnogram'"
     ]
    }
   ],
   "source": [
    "get_spikes_per_min(sp15_con, hyp, 'NREM', laser_laser_on, laser_laser_off)"
   ]
  },
  {
   "cell_type": "code",
   "execution_count": null,
   "metadata": {},
   "outputs": [
    {
     "data": {
      "text/plain": [
       "Timedelta('0 days 02:18:09.478446959')"
      ]
     },
     "metadata": {},
     "output_type": "display_data"
    }
   ],
   "source": [
    "nrem_times[nrem_times.end_time.between(laser_laser_on, laser_laser_off)].duration.sum()"
   ]
  },
  {
   "cell_type": "code",
   "execution_count": null,
   "metadata": {},
   "outputs": [
    {
     "data": {
      "text/html": [
       "<div>\n",
       "<style scoped>\n",
       "    .dataframe tbody tr th:only-of-type {\n",
       "        vertical-align: middle;\n",
       "    }\n",
       "\n",
       "    .dataframe tbody tr th {\n",
       "        vertical-align: top;\n",
       "    }\n",
       "\n",
       "    .dataframe thead th {\n",
       "        text-align: right;\n",
       "    }\n",
       "</style>\n",
       "<table border=\"1\" class=\"dataframe\">\n",
       "  <thead>\n",
       "    <tr style=\"text-align: right;\">\n",
       "      <th></th>\n",
       "      <th>datetime</th>\n",
       "      <th>spikes</th>\n",
       "      <th>state</th>\n",
       "      <th>condition</th>\n",
       "    </tr>\n",
       "  </thead>\n",
       "  <tbody>\n",
       "    <tr>\n",
       "      <th>0</th>\n",
       "      <td>2022-06-14 10:41:14.536746520</td>\n",
       "      <td>1.0</td>\n",
       "      <td>NREM</td>\n",
       "      <td>control1</td>\n",
       "    </tr>\n",
       "    <tr>\n",
       "      <th>1</th>\n",
       "      <td>2022-06-14 10:41:14.863935000</td>\n",
       "      <td>1.0</td>\n",
       "      <td>NREM</td>\n",
       "      <td>control1</td>\n",
       "    </tr>\n",
       "    <tr>\n",
       "      <th>2</th>\n",
       "      <td>2022-06-14 10:41:15.022491160</td>\n",
       "      <td>1.0</td>\n",
       "      <td>NREM</td>\n",
       "      <td>control1</td>\n",
       "    </tr>\n",
       "    <tr>\n",
       "      <th>3</th>\n",
       "      <td>2022-06-14 10:41:15.039489560</td>\n",
       "      <td>1.0</td>\n",
       "      <td>NREM</td>\n",
       "      <td>control1</td>\n",
       "    </tr>\n",
       "    <tr>\n",
       "      <th>4</th>\n",
       "      <td>2022-06-14 10:41:15.046247960</td>\n",
       "      <td>1.0</td>\n",
       "      <td>NREM</td>\n",
       "      <td>control1</td>\n",
       "    </tr>\n",
       "    <tr>\n",
       "      <th>...</th>\n",
       "      <td>...</td>\n",
       "      <td>...</td>\n",
       "      <td>...</td>\n",
       "      <td>...</td>\n",
       "    </tr>\n",
       "    <tr>\n",
       "      <th>125155</th>\n",
       "      <td>2022-06-14 14:40:10.494844440</td>\n",
       "      <td>1.0</td>\n",
       "      <td>NREM</td>\n",
       "      <td>control1</td>\n",
       "    </tr>\n",
       "    <tr>\n",
       "      <th>125156</th>\n",
       "      <td>2022-06-14 14:40:10.503036439</td>\n",
       "      <td>1.0</td>\n",
       "      <td>NREM</td>\n",
       "      <td>control1</td>\n",
       "    </tr>\n",
       "    <tr>\n",
       "      <th>125157</th>\n",
       "      <td>2022-06-14 14:40:10.792787480</td>\n",
       "      <td>1.0</td>\n",
       "      <td>NREM</td>\n",
       "      <td>control1</td>\n",
       "    </tr>\n",
       "    <tr>\n",
       "      <th>125158</th>\n",
       "      <td>2022-06-14 14:40:10.980875800</td>\n",
       "      <td>1.0</td>\n",
       "      <td>NREM</td>\n",
       "      <td>control1</td>\n",
       "    </tr>\n",
       "    <tr>\n",
       "      <th>125159</th>\n",
       "      <td>2022-06-14 14:40:11.051408920</td>\n",
       "      <td>1.0</td>\n",
       "      <td>NREM</td>\n",
       "      <td>control1</td>\n",
       "    </tr>\n",
       "  </tbody>\n",
       "</table>\n",
       "<p>125160 rows × 4 columns</p>\n",
       "</div>"
      ],
      "text/plain": [
       "                            datetime  spikes state condition\n",
       "0      2022-06-14 10:41:14.536746520     1.0  NREM  control1\n",
       "1      2022-06-14 10:41:14.863935000     1.0  NREM  control1\n",
       "2      2022-06-14 10:41:15.022491160     1.0  NREM  control1\n",
       "3      2022-06-14 10:41:15.039489560     1.0  NREM  control1\n",
       "4      2022-06-14 10:41:15.046247960     1.0  NREM  control1\n",
       "...                              ...     ...   ...       ...\n",
       "125155 2022-06-14 14:40:10.494844440     1.0  NREM  control1\n",
       "125156 2022-06-14 14:40:10.503036439     1.0  NREM  control1\n",
       "125157 2022-06-14 14:40:10.792787480     1.0  NREM  control1\n",
       "125158 2022-06-14 14:40:10.980875800     1.0  NREM  control1\n",
       "125159 2022-06-14 14:40:11.051408920     1.0  NREM  control1\n",
       "\n",
       "[125160 rows x 4 columns]"
      ]
     },
     "metadata": {},
     "output_type": "display_data"
    }
   ],
   "source": [
    "sp15_con.ts(slice(control_laser_on, control_laser_off)).filt_state()"
   ]
  },
  {
   "cell_type": "code",
   "execution_count": null,
   "metadata": {},
   "outputs": [
    {
     "data": {
      "text/html": [
       "<div>\n",
       "<style scoped>\n",
       "    .dataframe tbody tr th:only-of-type {\n",
       "        vertical-align: middle;\n",
       "    }\n",
       "\n",
       "    .dataframe tbody tr th {\n",
       "        vertical-align: top;\n",
       "    }\n",
       "\n",
       "    .dataframe thead th {\n",
       "        text-align: right;\n",
       "    }\n",
       "</style>\n",
       "<table border=\"1\" class=\"dataframe\">\n",
       "  <thead>\n",
       "    <tr style=\"text-align: right;\">\n",
       "      <th></th>\n",
       "      <th>datetime</th>\n",
       "      <th>spikes</th>\n",
       "      <th>state</th>\n",
       "      <th>condition</th>\n",
       "    </tr>\n",
       "  </thead>\n",
       "  <tbody>\n",
       "    <tr>\n",
       "      <th>0</th>\n",
       "      <td>2022-06-17 11:19:14.181180440</td>\n",
       "      <td>1.0</td>\n",
       "      <td>NREM</td>\n",
       "      <td>laser1</td>\n",
       "    </tr>\n",
       "    <tr>\n",
       "      <th>1</th>\n",
       "      <td>2022-06-17 11:19:14.225499160</td>\n",
       "      <td>1.0</td>\n",
       "      <td>NREM</td>\n",
       "      <td>laser1</td>\n",
       "    </tr>\n",
       "    <tr>\n",
       "      <th>2</th>\n",
       "      <td>2022-06-17 11:19:14.246061080</td>\n",
       "      <td>1.0</td>\n",
       "      <td>NREM</td>\n",
       "      <td>laser1</td>\n",
       "    </tr>\n",
       "    <tr>\n",
       "      <th>3</th>\n",
       "      <td>2022-06-17 11:19:14.316225560</td>\n",
       "      <td>1.0</td>\n",
       "      <td>NREM</td>\n",
       "      <td>laser1</td>\n",
       "    </tr>\n",
       "    <tr>\n",
       "      <th>4</th>\n",
       "      <td>2022-06-17 11:19:14.538515480</td>\n",
       "      <td>1.0</td>\n",
       "      <td>NREM</td>\n",
       "      <td>laser1</td>\n",
       "    </tr>\n",
       "    <tr>\n",
       "      <th>...</th>\n",
       "      <td>...</td>\n",
       "      <td>...</td>\n",
       "      <td>...</td>\n",
       "      <td>...</td>\n",
       "    </tr>\n",
       "    <tr>\n",
       "      <th>55773</th>\n",
       "      <td>2022-06-17 15:18:32.137092120</td>\n",
       "      <td>1.0</td>\n",
       "      <td>NREM</td>\n",
       "      <td>laser1</td>\n",
       "    </tr>\n",
       "    <tr>\n",
       "      <th>55774</th>\n",
       "      <td>2022-06-17 15:18:32.305314840</td>\n",
       "      <td>1.0</td>\n",
       "      <td>NREM</td>\n",
       "      <td>laser1</td>\n",
       "    </tr>\n",
       "    <tr>\n",
       "      <th>55775</th>\n",
       "      <td>2022-06-17 15:18:32.708688920</td>\n",
       "      <td>1.0</td>\n",
       "      <td>NREM</td>\n",
       "      <td>laser1</td>\n",
       "    </tr>\n",
       "    <tr>\n",
       "      <th>55776</th>\n",
       "      <td>2022-06-17 15:18:32.905010200</td>\n",
       "      <td>1.0</td>\n",
       "      <td>NREM</td>\n",
       "      <td>laser1</td>\n",
       "    </tr>\n",
       "    <tr>\n",
       "      <th>55777</th>\n",
       "      <td>2022-06-17 15:18:33.223269400</td>\n",
       "      <td>1.0</td>\n",
       "      <td>NREM</td>\n",
       "      <td>laser1</td>\n",
       "    </tr>\n",
       "  </tbody>\n",
       "</table>\n",
       "<p>55778 rows × 4 columns</p>\n",
       "</div>"
      ],
      "text/plain": [
       "                           datetime  spikes state condition\n",
       "0     2022-06-17 11:19:14.181180440     1.0  NREM    laser1\n",
       "1     2022-06-17 11:19:14.225499160     1.0  NREM    laser1\n",
       "2     2022-06-17 11:19:14.246061080     1.0  NREM    laser1\n",
       "3     2022-06-17 11:19:14.316225560     1.0  NREM    laser1\n",
       "4     2022-06-17 11:19:14.538515480     1.0  NREM    laser1\n",
       "...                             ...     ...   ...       ...\n",
       "55773 2022-06-17 15:18:32.137092120     1.0  NREM    laser1\n",
       "55774 2022-06-17 15:18:32.305314840     1.0  NREM    laser1\n",
       "55775 2022-06-17 15:18:32.708688920     1.0  NREM    laser1\n",
       "55776 2022-06-17 15:18:32.905010200     1.0  NREM    laser1\n",
       "55777 2022-06-17 15:18:33.223269400     1.0  NREM    laser1\n",
       "\n",
       "[55778 rows x 4 columns]"
      ]
     },
     "metadata": {},
     "output_type": "display_data"
    }
   ],
   "source": [
    "sp15_las.ts(slice(laser_laser_on, laser_laser_off)).filt_state()"
   ]
  },
  {
   "cell_type": "markdown",
   "metadata": {},
   "source": [
    "# Scratch"
   ]
  },
  {
   "cell_type": "code",
   "execution_count": null,
   "metadata": {},
   "outputs": [],
   "source": [
    "cond_list = ['control1-eeg', 'control1-lfp', 'laser1-eeg', 'laser1-lfp']\n",
    "path_root = '/Volumes/opto_loc/Data/ACR_PROJECT_MATERIALS/ACR_9/analysis-data/'\n",
    "bp = kpd.load_dataset(path_root, cond_list, '-bp')\n",
    "h = load_hypnos(path_root, ['control1', 'laser1'])"
   ]
  },
  {
   "cell_type": "code",
   "execution_count": null,
   "metadata": {},
   "outputs": [],
   "source": [
    "hyp = h['laser1']"
   ]
  },
  {
   "cell_type": "code",
   "execution_count": null,
   "metadata": {},
   "outputs": [],
   "source": [
    "ds = bp['laser1-eeg']"
   ]
  }
 ],
 "metadata": {
  "interpreter": {
   "hash": "8b4e5f83c5c43fbba261d328a2df1f0567bfa5b389d8ccfa34ce3cfd2f216fff"
  },
  "kernelspec": {
   "display_name": "Python 3.9.7 ('ecephys_t2')",
   "language": "python",
   "name": "python3"
  },
  "language_info": {
   "codemirror_mode": {
    "name": "ipython",
    "version": 3
   },
   "file_extension": ".py",
   "mimetype": "text/x-python",
   "name": "python",
   "nbconvert_exporter": "python",
   "pygments_lexer": "ipython3",
   "version": "3.9.7"
  }
 },
 "nbformat": 4,
 "nbformat_minor": 4
}

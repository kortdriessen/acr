{
 "cells": [
  {
   "cell_type": "code",
   "execution_count": 1,
   "metadata": {},
   "outputs": [
    {
     "name": "stderr",
     "output_type": "stream",
     "text": [
      "/home/kdriessen/github_t2/kdephys/kdephys/xr/utils.py:4: DeprecationWarning: Please use `gaussian_filter1d` from the `scipy.ndimage` namespace, the `scipy.ndimage.filters` namespace is deprecated.\n",
      "  from scipy.ndimage.filters import gaussian_filter1d\n"
     ]
    }
   ],
   "source": [
    "%matplotlib widget\n",
    "%reload_ext autoreload\n",
    "%autoreload 2\n",
    "\n",
    "import numpy as np\n",
    "import pandas as pd\n",
    "import tdt\n",
    "from pathlib import Path\n",
    "import matplotlib.pyplot as plt\n",
    "import seaborn as sns\n",
    "import yaml\n",
    "import xarray as xr\n",
    "\n",
    "import kdephys.hypno as kh\n",
    "import kdephys.pd as kpd\n",
    "import kdephys.xr as kx\n",
    "import kdephys.utils as ku\n",
    "import kdephys.ssfm as ss\n",
    "\n",
    "import acr.subjects as subs\n",
    "import acr\n",
    "import plotly.express as px"
   ]
  },
  {
   "cell_type": "code",
   "execution_count": 5,
   "metadata": {},
   "outputs": [],
   "source": [
    "m = pd.read_excel(\"/Volumes/opto_loc/Data/ACR_PROJECT_MATERIALS/ACR_analysis.xlsx\", sheet_name='Master')"
   ]
  },
  {
   "cell_type": "code",
   "execution_count": 6,
   "metadata": {},
   "outputs": [
    {
     "data": {
      "text/html": [
       "<div>\n",
       "<style scoped>\n",
       "    .dataframe tbody tr th:only-of-type {\n",
       "        vertical-align: middle;\n",
       "    }\n",
       "\n",
       "    .dataframe tbody tr th {\n",
       "        vertical-align: top;\n",
       "    }\n",
       "\n",
       "    .dataframe thead th {\n",
       "        text-align: right;\n",
       "    }\n",
       "</style>\n",
       "<table border=\"1\" class=\"dataframe\">\n",
       "  <thead>\n",
       "    <tr style=\"text-align: right;\">\n",
       "      <th></th>\n",
       "      <th>Hypnograms</th>\n",
       "      <th>Unnamed: 1</th>\n",
       "      <th>Unnamed: 2</th>\n",
       "      <th>Unnamed: 3</th>\n",
       "      <th>Unnamed: 4</th>\n",
       "      <th>Unnamed: 5</th>\n",
       "    </tr>\n",
       "  </thead>\n",
       "  <tbody>\n",
       "    <tr>\n",
       "      <th>0</th>\n",
       "      <td>Subject</td>\n",
       "      <td>Recording</td>\n",
       "      <td>Hypno</td>\n",
       "      <td>Scored?</td>\n",
       "      <td>Complete?</td>\n",
       "      <td>Scored By</td>\n",
       "    </tr>\n",
       "    <tr>\n",
       "      <th>1</th>\n",
       "      <td>ACR_14</td>\n",
       "      <td>swi-bl</td>\n",
       "      <td>swi-bl_chunk1</td>\n",
       "      <td>yes</td>\n",
       "      <td>yes</td>\n",
       "      <td>KD</td>\n",
       "    </tr>\n",
       "    <tr>\n",
       "      <th>2</th>\n",
       "      <td>ACR_13</td>\n",
       "      <td>laser1</td>\n",
       "      <td>laser1_chunk1</td>\n",
       "      <td>yes</td>\n",
       "      <td>yes</td>\n",
       "      <td>KD</td>\n",
       "    </tr>\n",
       "    <tr>\n",
       "      <th>3</th>\n",
       "      <td>NaN</td>\n",
       "      <td>NaN</td>\n",
       "      <td>NaN</td>\n",
       "      <td>NaN</td>\n",
       "      <td>NaN</td>\n",
       "      <td>NaN</td>\n",
       "    </tr>\n",
       "    <tr>\n",
       "      <th>4</th>\n",
       "      <td>Spike Sorting</td>\n",
       "      <td>NaN</td>\n",
       "      <td>NaN</td>\n",
       "      <td>NaN</td>\n",
       "      <td>NaN</td>\n",
       "      <td>NaN</td>\n",
       "    </tr>\n",
       "    <tr>\n",
       "      <th>5</th>\n",
       "      <td>Subject</td>\n",
       "      <td>Experiement</td>\n",
       "      <td>Recordings</td>\n",
       "      <td>Sorted</td>\n",
       "      <td>Curated By</td>\n",
       "      <td>NaN</td>\n",
       "    </tr>\n",
       "    <tr>\n",
       "      <th>6</th>\n",
       "      <td>ACR_13</td>\n",
       "      <td>laser1</td>\n",
       "      <td>laser1-bl, laser1, laser1-post</td>\n",
       "      <td>N</td>\n",
       "      <td>NaN</td>\n",
       "      <td>NaN</td>\n",
       "    </tr>\n",
       "  </tbody>\n",
       "</table>\n",
       "</div>"
      ],
      "text/plain": [
       "      Hypnograms   Unnamed: 1                      Unnamed: 2 Unnamed: 3  \\\n",
       "0        Subject    Recording                           Hypno    Scored?   \n",
       "1         ACR_14       swi-bl                   swi-bl_chunk1        yes   \n",
       "2         ACR_13       laser1                   laser1_chunk1        yes   \n",
       "3            NaN          NaN                             NaN        NaN   \n",
       "4  Spike Sorting          NaN                             NaN        NaN   \n",
       "5        Subject  Experiement                      Recordings     Sorted   \n",
       "6         ACR_13       laser1  laser1-bl, laser1, laser1-post          N   \n",
       "\n",
       "   Unnamed: 4 Unnamed: 5  \n",
       "0   Complete?  Scored By  \n",
       "1         yes         KD  \n",
       "2         yes         KD  \n",
       "3         NaN        NaN  \n",
       "4         NaN        NaN  \n",
       "5  Curated By        NaN  \n",
       "6         NaN        NaN  "
      ]
     },
     "execution_count": 6,
     "metadata": {},
     "output_type": "execute_result"
    }
   ],
   "source": [
    "def hypno_status(subject):\n",
    "    "
   ]
  },
  {
   "cell_type": "code",
   "execution_count": 2,
   "metadata": {},
   "outputs": [],
   "source": [
    "import acr.info_pipeline as aip\n",
    "inf = aip.load_subject_info('ACR_14')"
   ]
  },
  {
   "cell_type": "code",
   "execution_count": 25,
   "metadata": {},
   "outputs": [
    {
     "data": {
      "text/plain": [
       "0"
      ]
     },
     "execution_count": 25,
     "metadata": {},
     "output_type": "execute_result"
    }
   ],
   "source": [
    "subject = 'ACR_14'\n",
    "t = '/Volumes/opto_loc/Data/ACR_PROJECT_MATERIALS/ACR_14/hypnograms/hypno_sdpi-bl_chunk1.txt'\n",
    "exp = t.split('/')[-1].split('.')[0].split('_')[1:][0]\n",
    "chunk = t.split('/')[-1].split('.')[0].split('_')[1:][1]\n",
    "\n",
    "config_path = Path(f'/Volumes/opto_loc/Data/ACR_PROJECT_MATERIALS/{subject}/config-files/{subject}_sleepscore-config_{exp}-{chunk}.yml')\n",
    "config = yaml.load(open(config_path, 'r'), Loader=yaml.FullLoader)\n",
    "config['tStart']"
   ]
  },
  {
   "cell_type": "code",
   "execution_count": null,
   "metadata": {},
   "outputs": [],
   "source": [
    "ACR_14_sleepscore-config_sdpi-bl-chunk1\n",
    "ACR_14_sleepscore-config_sdpi-bl-chunk1"
   ]
  },
  {
   "cell_type": "code",
   "execution_count": 44,
   "metadata": {},
   "outputs": [],
   "source": [
    "subject = 'ACR_14'\n",
    "root = Path(f'/Volumes/opto_loc/Data/ACR_PROJECT_MATERIALS/{subject}/hypnograms/')\n",
    "hyp_info = {}\n",
    "for rec in inf['recordings']:\n",
    "    name_root = f'hypno_{rec}_chunk'\n",
    "    hyp_info[rec] = {}\n",
    "    hyp_info[rec]['starts'] = []\n",
    "    hyp_info[rec]['ends'] = []\n",
    "    for file in root.glob(f'{name_root}*'):\n",
    "        file = str(file)\n",
    "        exp = file.split('/')[-1].split('.')[0].split('_')[1:][0]\n",
    "        chunk = file.split('/')[-1].split('.')[0].split('_')[1:][1]\n",
    "        config_path = Path(f'/Volumes/opto_loc/Data/ACR_PROJECT_MATERIALS/{subject}/config-files/{subject}_sleepscore-config_{exp}-{chunk}.yml')\n",
    "        config = yaml.load(open(config_path, 'r'), Loader=yaml.FullLoader)\n",
    "        hyp_info[rec]['starts'].append(config['tStart'])\n",
    "        hyp_info[rec]['ends'].append(config['tEnd'])"
   ]
  },
  {
   "cell_type": "code",
   "execution_count": 47,
   "metadata": {},
   "outputs": [
    {
     "data": {
      "text/plain": [
       "{'starts': [7200, 0, 14400, 0, 0], 'ends': [14400, 7200, 21600, 7200, 7200]}"
      ]
     },
     "execution_count": 47,
     "metadata": {},
     "output_type": "execute_result"
    }
   ],
   "source": [
    "hyp_info['swi-bl']"
   ]
  },
  {
   "cell_type": "code",
   "execution_count": 46,
   "metadata": {},
   "outputs": [
    {
     "name": "stdout",
     "output_type": "stream",
     "text": [
      "No hypnograms for plugged_test\n",
      "No hypnograms for mon1\n",
      "sdpi-bl\n",
      "[0, 7200, 14400]\n",
      "[7200, 14400, 21600]\n",
      "sdpi-bl covers: 0 - 21600\n",
      "sdpi-bl duration: 21600\n",
      "No hypnograms for sdpi-post\n",
      "No hypnograms for short1-iso\n",
      "No hypnograms for mon2\n",
      "No hypnograms for short1-plug\n",
      "No hypnograms for full-day\n",
      "swi-bl\n",
      "[0, 0, 0, 7200, 14400]\n",
      "[7200, 7200, 7200, 14400, 21600]\n",
      "swi-bl covers: 0 - 21600\n",
      "swi-bl duration: 21600\n",
      "sdpi\n",
      "[0, 7200, 14400, 21600, 28800, 36000]\n",
      "[7200, 14400, 21600, 28800, 36000, 43200]\n",
      "sdpi covers: 0 - 43200\n",
      "sdpi duration: 43200\n",
      "No hypnograms for ep-test1\n",
      "swi\n",
      "[0, 7200, 14400]\n",
      "[7200, 14400, 21600]\n",
      "swi covers: 0 - 21600\n",
      "swi duration: 21600\n",
      "No hypnograms for laser1-post1\n",
      "No hypnograms for short3-plug\n",
      "No hypnograms for isolated_test\n",
      "No hypnograms for short2-plug\n",
      "laser1\n",
      "[13999, 17599, 21199, 24799, 28399, 31999]\n",
      "[17599, 21199, 24799, 28399, 31999, 35599]\n",
      "laser1 covers: 13999 - 35599\n",
      "laser1 duration: 21600\n",
      "No hypnograms for short2-iso\n",
      "swi-sd\n",
      "[0, 7200, 14400]\n",
      "[7200, 14400, 21600]\n",
      "swi-sd covers: 0 - 21600\n",
      "swi-sd duration: 21600\n",
      "No hypnograms for laser1-post2\n",
      "No hypnograms for mon3\n",
      "laser1-bl\n",
      "[0, 7200, 14400, 21600, 28800, 36000]\n",
      "[7200, 14400, 21600, 28800, 36000, 43200]\n",
      "laser1-bl covers: 0 - 43200\n",
      "laser1-bl duration: 43200\n"
     ]
    }
   ],
   "source": [
    "for rec in hyp_info.keys():\n",
    "    if not hyp_info[rec]['starts']:\n",
    "        print(f'No hypnograms for {rec}')\n",
    "        pass\n",
    "    else:\n",
    "        starts = sorted(hyp_info[rec]['starts'])\n",
    "        ends = sorted(hyp_info[rec]['ends'])\n",
    "        print(rec)\n",
    "        print(starts)\n",
    "        print(ends)\n",
    "        start = starts[0]\n",
    "        end = ends[-1]\n",
    "        print(f'{rec} covers: {start} - {end}')\n",
    "        duration = end - start\n",
    "        print(f'{rec} duration: {duration}')"
   ]
  },
  {
   "cell_type": "code",
   "execution_count": 1,
   "metadata": {},
   "outputs": [],
   "source": [
    "import acr.info_pipeline as aip\n",
    "inf = aip.load_subject_info('ACR_14')"
   ]
  },
  {
   "cell_type": "code",
   "execution_count": 3,
   "metadata": {},
   "outputs": [
    {
     "data": {
      "text/plain": [
       "{'duration': 86464.616425,\n",
       " 'end': '2022-10-07T09:02:23.616424',\n",
       " 'start': '2022-10-06T09:01:18.999999'}"
      ]
     },
     "execution_count": 3,
     "metadata": {},
     "output_type": "execute_result"
    }
   ],
   "source": [
    "inf['rec_times']['swi-bl']"
   ]
  },
  {
   "cell_type": "code",
   "execution_count": 4,
   "metadata": {},
   "outputs": [
    {
     "data": {
      "text/plain": [
       "{'duration': 17884.876654,\n",
       " 'end': '2022-10-07T14:06:20.876653',\n",
       " 'start': '2022-10-07T09:08:15.999999'}"
      ]
     },
     "execution_count": 4,
     "metadata": {},
     "output_type": "execute_result"
    }
   ],
   "source": [
    "inf['rec_times']['swi-sd']"
   ]
  },
  {
   "cell_type": "code",
   "execution_count": 5,
   "metadata": {},
   "outputs": [
    {
     "data": {
      "text/plain": [
       "104348"
      ]
     },
     "execution_count": 5,
     "metadata": {},
     "output_type": "execute_result"
    }
   ],
   "source": [
    "86464+17884"
   ]
  }
 ],
 "metadata": {
  "kernelspec": {
   "display_name": "Python 3.10.6 ('acr')",
   "language": "python",
   "name": "python3"
  },
  "language_info": {
   "codemirror_mode": {
    "name": "ipython",
    "version": 3
   },
   "file_extension": ".py",
   "mimetype": "text/x-python",
   "name": "python",
   "nbconvert_exporter": "python",
   "pygments_lexer": "ipython3",
   "version": "3.10.6"
  },
  "orig_nbformat": 4,
  "vscode": {
   "interpreter": {
    "hash": "8452ab91a3948d5467ebd39dafa915e230ab5ad1e9d110d083c75b8319b6ff58"
   }
  }
 },
 "nbformat": 4,
 "nbformat_minor": 2
}

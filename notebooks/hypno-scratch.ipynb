{
 "cells": [
  {
   "cell_type": "code",
   "execution_count": 6,
   "metadata": {},
   "outputs": [],
   "source": [
    "%matplotlib widget\n",
    "%reload_ext autoreload\n",
    "%autoreload 2\n",
    "\n",
    "import numpy as np\n",
    "import pandas as pd\n",
    "import tdt\n",
    "from pathlib import Path\n",
    "import matplotlib.pyplot as plt\n",
    "import seaborn as sns\n",
    "import yaml\n",
    "import xarray as xr\n",
    "\n",
    "import kdephys.hypno as kh\n",
    "import kdephys.pd as kpd\n",
    "import kdephys.xr as kx\n",
    "import kdephys.utils as ku\n",
    "import kdephys.ssfm as ss\n",
    "\n",
    "import acr.subjects as subs\n",
    "import acr\n",
    "import plotly.express as px"
   ]
  },
  {
   "cell_type": "code",
   "execution_count": 8,
   "metadata": {},
   "outputs": [
    {
     "name": "stdout",
     "output_type": "stream",
     "text": [
      "read from t=0s to t=51460.02s\n"
     ]
    }
   ],
   "source": [
    "p13 = acr.io.get_acr_paths('ACR_13', ['laser1'])\n",
    "a13 = tdt.read_block(p13['laser1'], evtype=['epocs'])"
   ]
  },
  {
   "cell_type": "code",
   "execution_count": 9,
   "metadata": {},
   "outputs": [
    {
     "name": "stdout",
     "output_type": "stream",
     "text": [
      "read from t=0s to t=50151.31s\n"
     ]
    }
   ],
   "source": [
    "p14 = acr.io.get_acr_paths('ACR_14', ['laser1'])\n",
    "a14 = tdt.read_block(p14['laser1'], evtype=['epocs'])"
   ]
  },
  {
   "cell_type": "code",
   "execution_count": 11,
   "metadata": {},
   "outputs": [
    {
     "data": {
      "text/plain": [
       "numpy.datetime64('2022-09-09T21:23:52.999999')"
      ]
     },
     "execution_count": 11,
     "metadata": {},
     "output_type": "execute_result"
    }
   ],
   "source": [
    "np.timedelta64(51460, 's') + np.datetime64(a13.info.start_date)\n"
   ]
  },
  {
   "cell_type": "code",
   "execution_count": 10,
   "metadata": {},
   "outputs": [
    {
     "data": {
      "text/plain": [
       "numpy.datetime64('2022-09-12T21:02:31.999999')"
      ]
     },
     "execution_count": 10,
     "metadata": {},
     "output_type": "execute_result"
    }
   ],
   "source": [
    "np.timedelta64(50151, 's') + np.datetime64(a14.info.start_date)\n"
   ]
  },
  {
   "cell_type": "code",
   "execution_count": null,
   "metadata": {},
   "outputs": [],
   "source": []
  }
 ],
 "metadata": {
  "kernelspec": {
   "display_name": "Python 3.10.6 ('acr')",
   "language": "python",
   "name": "python3"
  },
  "language_info": {
   "codemirror_mode": {
    "name": "ipython",
    "version": 3
   },
   "file_extension": ".py",
   "mimetype": "text/x-python",
   "name": "python",
   "nbconvert_exporter": "python",
   "pygments_lexer": "ipython3",
   "version": "3.10.6"
  },
  "orig_nbformat": 4,
  "vscode": {
   "interpreter": {
    "hash": "8452ab91a3948d5467ebd39dafa915e230ab5ad1e9d110d083c75b8319b6ff58"
   }
  }
 },
 "nbformat": 4,
 "nbformat_minor": 2
}

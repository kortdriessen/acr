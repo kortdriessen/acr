{
 "cells": [
  {
   "cell_type": "code",
   "execution_count": 113,
   "metadata": {},
   "outputs": [],
   "source": [
    "%matplotlib inline\n",
    "%reload_ext autoreload\n",
    "%autoreload 2\n",
    "\n",
    "import numpy as np\n",
    "import pandas as pd\n",
    "import tdt\n",
    "from pathlib import Path\n",
    "import matplotlib.pyplot as plt\n",
    "import seaborn as sns\n",
    "import yaml\n",
    "import xarray as xr\n",
    "\n",
    "import kdephys.hypno as kh\n",
    "import kdephys.pd as kpd\n",
    "import kdephys.xr as kx\n",
    "import kdephys.utils as ku\n",
    "\n",
    "import acr\n",
    "import plotly.express as px\n",
    "import acr.info_pipeline as aip\n",
    "import os"
   ]
  },
  {
   "cell_type": "code",
   "execution_count": 114,
   "metadata": {},
   "outputs": [],
   "source": [
    "import acr.hypnogram_utils as ahu"
   ]
  },
  {
   "cell_type": "code",
   "execution_count": 121,
   "metadata": {},
   "outputs": [],
   "source": [
    "t = ahu.get_hypno_times(\"ACR_13\")"
   ]
  },
  {
   "cell_type": "code",
   "execution_count": 118,
   "metadata": {},
   "outputs": [
    {
     "data": {
      "text/plain": [
       "{'starts': [0, 7200, 14400, 28800, 36000, 43200, 50400],\n",
       " 'ends': [7200, 14400, 21600, 36000, 43200, 50400, 57600]}"
      ]
     },
     "execution_count": 118,
     "metadata": {},
     "output_type": "execute_result"
    }
   ],
   "source": [
    "t['laser1-post1']"
   ]
  },
  {
   "cell_type": "code",
   "execution_count": 122,
   "metadata": {},
   "outputs": [],
   "source": [
    "info = aip.load_subject_info(\"ACR_13\")\n",
    "h = acr.io.load_hypno(\"ACR_13\", \"sdpi\")"
   ]
  },
  {
   "cell_type": "code",
   "execution_count": 124,
   "metadata": {},
   "outputs": [
    {
     "data": {
      "text/plain": [
       "{'NNXo-duration': 42853.4556672,\n",
       " 'NNXo-end': '2022-09-23 20:59:31.455666200',\n",
       " 'NNXr-duration': 42853.28789504,\n",
       " 'NNXr-end': '2022-09-23 20:59:31.287894040',\n",
       " 'duration': 42853.28789504,\n",
       " 'end': '2022-09-23T20:59:31.287894040',\n",
       " 'start': '2022-09-23T09:05:17.999999'}"
      ]
     },
     "execution_count": 124,
     "metadata": {},
     "output_type": "execute_result"
    }
   ],
   "source": [
    "info['rec_times']['sdpi']"
   ]
  },
  {
   "cell_type": "code",
   "execution_count": 125,
   "metadata": {},
   "outputs": [
    {
     "data": {
      "text/html": [
       "<div>\n",
       "<style scoped>\n",
       "    .dataframe tbody tr th:only-of-type {\n",
       "        vertical-align: middle;\n",
       "    }\n",
       "\n",
       "    .dataframe tbody tr th {\n",
       "        vertical-align: top;\n",
       "    }\n",
       "\n",
       "    .dataframe thead th {\n",
       "        text-align: right;\n",
       "    }\n",
       "</style>\n",
       "<table border=\"1\" class=\"dataframe\">\n",
       "  <thead>\n",
       "    <tr style=\"text-align: right;\">\n",
       "      <th></th>\n",
       "      <th>state</th>\n",
       "      <th>end_time</th>\n",
       "      <th>start_time</th>\n",
       "      <th>duration</th>\n",
       "    </tr>\n",
       "  </thead>\n",
       "  <tbody>\n",
       "    <tr>\n",
       "      <th>0</th>\n",
       "      <td>Wake</td>\n",
       "      <td>2022-09-23 11:05:17.990233375</td>\n",
       "      <td>2022-09-23 09:05:17.999999000</td>\n",
       "      <td>0 days 01:59:59.990234375</td>\n",
       "    </tr>\n",
       "    <tr>\n",
       "      <th>0</th>\n",
       "      <td>Wake</td>\n",
       "      <td>2022-09-23 12:29:20.480467750</td>\n",
       "      <td>2022-09-23 11:05:17.990233375</td>\n",
       "      <td>0 days 01:24:02.490234375</td>\n",
       "    </tr>\n",
       "    <tr>\n",
       "      <th>1</th>\n",
       "      <td>NREM</td>\n",
       "      <td>2022-09-23 12:29:32.780272437</td>\n",
       "      <td>2022-09-23 12:29:20.480467750</td>\n",
       "      <td>0 days 00:00:12.299804688</td>\n",
       "    </tr>\n",
       "    <tr>\n",
       "      <th>2</th>\n",
       "      <td>Wake</td>\n",
       "      <td>2022-09-23 13:02:10.880370094</td>\n",
       "      <td>2022-09-23 12:29:32.780272437</td>\n",
       "      <td>0 days 00:32:38.100097656</td>\n",
       "    </tr>\n",
       "    <tr>\n",
       "      <th>3</th>\n",
       "      <td>NREM</td>\n",
       "      <td>2022-09-23 13:02:26.280272437</td>\n",
       "      <td>2022-09-23 13:02:10.880370094</td>\n",
       "      <td>0 days 00:00:15.399902344</td>\n",
       "    </tr>\n",
       "    <tr>\n",
       "      <th>...</th>\n",
       "      <td>...</td>\n",
       "      <td>...</td>\n",
       "      <td>...</td>\n",
       "      <td>...</td>\n",
       "    </tr>\n",
       "    <tr>\n",
       "      <th>150</th>\n",
       "      <td>Transition-to-REM</td>\n",
       "      <td>2022-09-23 20:55:53.741209937</td>\n",
       "      <td>2022-09-23 20:55:37.741209937</td>\n",
       "      <td>0 days 00:00:16</td>\n",
       "    </tr>\n",
       "    <tr>\n",
       "      <th>151</th>\n",
       "      <td>REM</td>\n",
       "      <td>2022-09-23 20:56:25.741209937</td>\n",
       "      <td>2022-09-23 20:55:53.741209937</td>\n",
       "      <td>0 days 00:00:32</td>\n",
       "    </tr>\n",
       "    <tr>\n",
       "      <th>152</th>\n",
       "      <td>Wake</td>\n",
       "      <td>2022-09-23 20:56:49.741209937</td>\n",
       "      <td>2022-09-23 20:56:25.741209937</td>\n",
       "      <td>0 days 00:00:24</td>\n",
       "    </tr>\n",
       "    <tr>\n",
       "      <th>153</th>\n",
       "      <td>NREM</td>\n",
       "      <td>2022-09-23 20:57:22.641112281</td>\n",
       "      <td>2022-09-23 20:56:49.741209937</td>\n",
       "      <td>0 days 00:00:32.899902344</td>\n",
       "    </tr>\n",
       "    <tr>\n",
       "      <th>154</th>\n",
       "      <td>Wake</td>\n",
       "      <td>2022-09-23 20:59:31.311034156</td>\n",
       "      <td>2022-09-23 20:57:22.641112281</td>\n",
       "      <td>0 days 00:02:08.669921875</td>\n",
       "    </tr>\n",
       "  </tbody>\n",
       "</table>\n",
       "<p>551 rows × 4 columns</p>\n",
       "</div>"
      ],
      "text/plain": [
       "                 state                      end_time  \\\n",
       "0                 Wake 2022-09-23 11:05:17.990233375   \n",
       "0                 Wake 2022-09-23 12:29:20.480467750   \n",
       "1                 NREM 2022-09-23 12:29:32.780272437   \n",
       "2                 Wake 2022-09-23 13:02:10.880370094   \n",
       "3                 NREM 2022-09-23 13:02:26.280272437   \n",
       "..                 ...                           ...   \n",
       "150  Transition-to-REM 2022-09-23 20:55:53.741209937   \n",
       "151                REM 2022-09-23 20:56:25.741209937   \n",
       "152               Wake 2022-09-23 20:56:49.741209937   \n",
       "153               NREM 2022-09-23 20:57:22.641112281   \n",
       "154               Wake 2022-09-23 20:59:31.311034156   \n",
       "\n",
       "                       start_time                  duration  \n",
       "0   2022-09-23 09:05:17.999999000 0 days 01:59:59.990234375  \n",
       "0   2022-09-23 11:05:17.990233375 0 days 01:24:02.490234375  \n",
       "1   2022-09-23 12:29:20.480467750 0 days 00:00:12.299804688  \n",
       "2   2022-09-23 12:29:32.780272437 0 days 00:32:38.100097656  \n",
       "3   2022-09-23 13:02:10.880370094 0 days 00:00:15.399902344  \n",
       "..                            ...                       ...  \n",
       "150 2022-09-23 20:55:37.741209937           0 days 00:00:16  \n",
       "151 2022-09-23 20:55:53.741209937           0 days 00:00:32  \n",
       "152 2022-09-23 20:56:25.741209937           0 days 00:00:24  \n",
       "153 2022-09-23 20:56:49.741209937 0 days 00:00:32.899902344  \n",
       "154 2022-09-23 20:57:22.641112281 0 days 00:02:08.669921875  \n",
       "\n",
       "[551 rows x 4 columns]"
      ]
     },
     "execution_count": 125,
     "metadata": {},
     "output_type": "execute_result"
    }
   ],
   "source": [
    "h"
   ]
  }
 ],
 "metadata": {
  "kernelspec": {
   "display_name": "Python 3.10.6 ('acrdev')",
   "language": "python",
   "name": "python3"
  },
  "language_info": {
   "codemirror_mode": {
    "name": "ipython",
    "version": 3
   },
   "file_extension": ".py",
   "mimetype": "text/x-python",
   "name": "python",
   "nbconvert_exporter": "python",
   "pygments_lexer": "ipython3",
   "version": "3.10.6"
  },
  "orig_nbformat": 4,
  "vscode": {
   "interpreter": {
    "hash": "f1d71d528ced425d3e458548722e2339c6e39870f631ffe4f2412117d27fa354"
   }
  }
 },
 "nbformat": 4,
 "nbformat_minor": 2
}

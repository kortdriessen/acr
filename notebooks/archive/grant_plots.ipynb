{
 "cells": [
  {
   "cell_type": "markdown",
   "metadata": {},
   "source": [
    "# ACHR PLOTS FOR GRANT"
   ]
  },
  {
   "cell_type": "code",
   "execution_count": null,
   "metadata": {},
   "outputs": [],
   "source": [
    "! jupyter nbconvert --output-dir='/Volumes/opto_loc/Data/ACHR_PROJECT_MATERIALS/ACHR_2/plots/' --to=slides --TemplateExporter.exclude_input=True -TagRemovePreprocessor.remove_cell_tags='hide' --allow-errors grant_plots.ipynb"
   ]
  },
  {
   "cell_type": "code",
   "execution_count": null,
   "id": "eecf1bff",
   "metadata": {
    "execution": {
     "iopub.execute_input": "2021-10-17T01:39:35.987671Z",
     "iopub.status.busy": "2021-10-17T01:39:35.987671Z",
     "iopub.status.idle": "2021-10-17T01:39:38.208901Z",
     "shell.execute_reply": "2021-10-17T01:39:38.207898Z",
     "shell.execute_reply.started": "2021-10-17T01:39:35.987671Z"
    },
    "tags": []
   },
   "outputs": [],
   "source": [
    "%matplotlib widget \n",
    "%reload_ext autoreload\n",
    "%autoreload 2\n",
    "\n",
    "import matplotlib.pyplot as plt\n",
    "plt.rcParams.update({'font.size': 22})\n",
    "\n",
    "import numpy as np\n",
    "import scipy\n",
    "import pandas as pd\n",
    "import tdt\n",
    "from pathlib import Path\n",
    "import seaborn as sns\n",
    "import xarray as xr\n",
    "import yaml\n",
    "import re\n",
    "import os\n",
    "\n",
    "import hypnogram as hp\n",
    "from ecephys.utils import replace_outliers\n",
    "import ecephys.plot as eplt\n",
    "import ecephys.signal.timefrequency as tfr\n",
    "import ecephys.signal.kd_utils as kd\n",
    "import ecephys.signal.kd_plotting as kp\n",
    "import ecephys.signal.kd_pax as kpx\n",
    "import ecephys.xrsig.hypnogram_utils as xh\n",
    "import tdt_xarray as tx\n",
    "\n",
    "bands_def = dict(delta=(1.0, 4.0), theta=(4, 8), alpha=(8,13), sigma=(11,16), beta = (15, 30), low_gamma = (30, 55), high_gamma = (65, 100))\n",
    "\n",
    "kd_ref = {}\n",
    "kd_ref['echans'] = [1,2,3]\n",
    "kd_ref['fchans']=[1,2,3,4,5,6,7,8,9,10,11,12,13,14,15,16]\n",
    "#kd_ref['analysis_root'] = Path('/Volumes/opto_loc/Data/ACHR_PROJECT_MATERIALS/ACHR_2/ACHR_2-analysis-data')\n",
    "#kd_ref['tank_root'] = Path('/Volumes/opto_loc/Data/ACHR_2_TANK')"
   ]
  },
  {
   "cell_type": "code",
   "execution_count": null,
   "id": "ffc72b12",
   "metadata": {},
   "outputs": [],
   "source": [
    "def plot_bp(spg, channel, band_frange, start_time, end_time, ss=12, figsize=(22,6), title='', color='black'):\n",
    "    spg = spg.sel(channel=channel, time=slice(start_time, end_time))\n",
    "    bp = kd.get_bandpower(spg, band_frange)\n",
    "    bp = kd.get_smoothed_da(bp, smoothing_sigma=ss)\n",
    "    fig, ax = plt.subplots(figsize=figsize)\n",
    "    ax = sns.lineplot(x=bp.time, y=bp, ax=ax, color=color, linewidth=2.0)\n",
    "    ax.set_ylabel('Delta (1-4Hz) Bandpower (uV²/Hz)')\n",
    "    ax.set_xlabel('Time (s)')\n",
    "    ax.set_title(title)\n",
    "    plt.savefig('plot.png', dpi=300, bbox_inches='tight')\n",
    "    return ax"
   ]
  },
  {
   "cell_type": "code",
   "execution_count": null,
   "metadata": {},
   "outputs": [],
   "source": [
    "def comp_psd(spg1, spg2, keys, test, median=True):\n",
    "    psd1 = spg1.median(dim='time')\n",
    "    psd2 = spg2.median(dim='time')\n",
    "    if median is not True: \n",
    "        psd1 = spg1.mean(dim='time')\n",
    "        psd2 = spg2.mean(dim='time')\n",
    "    psd_df = pd.concat([psd1.to_dataframe('power'), psd2.to_dataframe('power')], keys=keys).rename_axis(index={None: test})\n",
    "    ax = sns.relplot(data=psd_df, x='frequency', y='power', hue='Condition', col='channel', kind='line')\n",
    "    x = ax.axes\n",
    "    x[0,0].set_ylim(0, 250)\n",
    "    x[0,0].set_xlim(0, 120)\n",
    "    return ax\n"
   ]
  },
  {
   "cell_type": "markdown",
   "metadata": {},
   "source": [
    "## ACHR_2 Ex-1"
   ]
  },
  {
   "cell_type": "code",
   "execution_count": null,
   "id": "fa5af730",
   "metadata": {},
   "outputs": [],
   "source": [
    "x1p = '/Volumes/opto_loc/Data/ACHR_2/ACHR_2_TANK/ACHR_2-exp1'\n",
    "b1p = '/Volumes/opto_loc/Data/ACHR_2/ACHR_2_TANK/test_recordings/ACHR_2-test-a6'\n",
    "p1p = '/Volumes/opto_loc/Data/ACHR_2/ACHR_2_TANK/ACHR_2-exp1-post'\n"
   ]
  },
  {
   "cell_type": "code",
   "execution_count": null,
   "metadata": {},
   "outputs": [],
   "source": [
    "a2x1 = {}\n",
    "a2x1['e'], a2x1['espg'] = kd.get_data_spg(x1p, store='EEG_', t1=0, t2=0, channel=kd_ref['echans'])\n",
    "a2x1['f'], a2x1['fspg'] = kd.get_data_spg(x1p, store='LFP_', t1=0, t2=0, channel=kd_ref['fchans'])\n"
   ]
  },
  {
   "cell_type": "code",
   "execution_count": null,
   "metadata": {},
   "outputs": [],
   "source": [
    "a2x1['be'], a2x1['bespg'] = kd.get_data_spg(b1p, store='EEG_', t1=0, t2=0, channel=kd_ref['echans'])\n",
    "a2x1['bf'], a2x1['bfspg'] = kd.get_data_spg(b1p, store='LFP_', t1=0, t2=0, channel=kd_ref['fchans'])"
   ]
  },
  {
   "cell_type": "code",
   "execution_count": null,
   "metadata": {},
   "outputs": [],
   "source": [
    "plt.close('all')\n",
    "ax = plot_bp(a2x2['fspg'], channel=12, band_frange=(1.5,4), start_time=0, end_time=86400, ss=14, figsize=(25,4), title='Slow Wave Activity: 4-Hour Photoinhibition, 0.1mW (Deep LFP)')\n",
    "ax.set_ylim(0,250000)\n",
    "ax.axvspan(\n",
    "        2803.79,\n",
    "        16871.40,\n",
    "        alpha=0.4,\n",
    "        color='cornflowerblue',\n",
    "        zorder=1000,\n",
    "        ec=\"none\",\n",
    "    )\n",
    "ax.axvspan(\n",
    "        43200,\n",
    "        86400,\n",
    "        alpha=0.5,\n",
    "        color='k',\n",
    "        zorder=1000,\n",
    "        ec=\"none\",\n",
    "    )"
   ]
  },
  {
   "cell_type": "markdown",
   "metadata": {},
   "source": [
    "## ACHR_2 Ex-2"
   ]
  },
  {
   "cell_type": "code",
   "execution_count": null,
   "id": "fa5af730",
   "metadata": {},
   "outputs": [],
   "source": [
    "x2p = '/Volumes/opto_loc/Data/ACHR_2/ACHR_2_TANK/ACHR_2-exp2'\n",
    "b2p = '/Volumes/opto_loc/Data/ACHR_2/ACHR_2_TANK/ACHR_2-exp2-bl'\n",
    "p2p = '/Volumes/opto_loc/Data/ACHR_2/ACHR_2_TANK/ACHR_2-exp2-post'\n",
    "a2x2 = {}\n",
    "a2x2['e'], a2x2['espg'] = kd.get_data_spg(x2p, store='EEG_', t1=0, t2=0, channel=kd_ref['echans'])\n",
    "a2x2['f'], a2x2['fspg'] = kd.get_data_spg(x2p, store='LFP_', t1=0, t2=0, channel=kd_ref['fchans'])\n",
    "a2x2['be'], a2x2['bespg'] = kd.get_data_spg(b2p, store='EEG_', t1=0, t2=0, channel=kd_ref['echans'])\n",
    "a2x2['bf'], a2x2['bfspg'] = kd.get_data_spg(b2p, store='LFP_', t1=0, t2=0, channel=kd_ref['fchans'])"
   ]
  },
  {
   "cell_type": "code",
   "execution_count": null,
   "id": "dad4b0e9",
   "metadata": {},
   "outputs": [],
   "source": [
    "plt.close('all')\n",
    "ax = plot_bp(a2x2['fspg'], channel=12, band_frange=(1.5,4), start_time=0, end_time=43200, ss=14, figsize=(35,5), title='Slow Wave Activity: 4-Hour Photoinhibition, 0.1mW (Deep LFP)')\n",
    "ax.set_ylim(0,160000)\n",
    "ax.axvspan(\n",
    "        2803.79,\n",
    "        16871.40,\n",
    "        alpha=0.4,\n",
    "        color='cornflowerblue',\n",
    "        zorder=1000,\n",
    "        ec=\"none\",\n",
    "    )"
   ]
  },
  {
   "cell_type": "code",
   "execution_count": null,
   "id": "dad4b0e9",
   "metadata": {},
   "outputs": [],
   "source": [
    "plt.close('all')\n",
    "ax = plot_bp(a2x2['bfspg'], channel=12, band_frange=(1.5,4), start_time=0, end_time=43200, ss=14, figsize=(35,5), title='Slow Wave Activity: 12-Hour Baseline (Deep LFP)')\n",
    "ax.set_ylim(0,160000)"
   ]
  },
  {
   "cell_type": "markdown",
   "metadata": {},
   "source": [
    "# ACHR_2 Experiment 3"
   ]
  },
  {
   "cell_type": "code",
   "execution_count": null,
   "metadata": {},
   "outputs": [],
   "source": [
    "'/Volumes/opto_loc/Data/ACHR_PROJECT_MATERIALS/ACHR_2/plots/'"
   ]
  },
  {
   "cell_type": "code",
   "execution_count": null,
   "id": "fa5af730",
   "metadata": {},
   "outputs": [],
   "source": [
    "x3p = '/Volumes/opto_loc/Data/ACHR_2/ACHR_2_TANK/ACHR_2-exp3'\n",
    "b3p = '/Volumes/opto_loc/Data/ACHR_2/ACHR_2_TANK/ACHR_2-exp3-bl'\n",
    "p3p = '/Volumes/opto_loc/Data/ACHR_2/ACHR_2_TANK/ACHR_2-exp3-post'\n",
    "a2x3 = {}\n",
    "a2x3['e'], a2x3['espg'] = kd.get_data_spg(x3p, store='EEG_', t1=0, t2=0, channel=kd_ref['echans'])\n",
    "a2x3['f'], a2x3['fspg'] = kd.get_data_spg(x3p, store='LFP_', t1=0, t2=0, channel=kd_ref['fchans'])\n",
    "a2x3['be'], a2x3['bespg'] = kd.get_data_spg(b3p, store='EEG_', t1=0, t2=0, channel=kd_ref['echans'])\n",
    "a2x3['bf'], a2x3['bfspg'] = kd.get_data_spg(b3p, store='LFP_', t1=0, t2=0, channel=kd_ref['fchans'])"
   ]
  },
  {
   "cell_type": "code",
   "execution_count": null,
   "metadata": {},
   "outputs": [],
   "source": [
    "def comp_psd_lfp(spg1, spg2, keys, test, chans, median=True):\n",
    "    psd1 = spg1.sel(channel=chans).median(dim='time')\n",
    "    psd2 = spg2.sel(channel=chans).median(dim='time')\n",
    "    if median is not True: \n",
    "        psd1 = spg1.sel(channel=chans).mean(dim='time')\n",
    "        psd2 = spg2.sel(channel=chans).mean(dim='time')\n",
    "    psd_df = pd.concat([psd1.to_dataframe('power'), psd2.to_dataframe('power')], keys=keys).rename_axis(index={None: test})\n",
    "    ax = sns.relplot(data=psd_df, x='frequency', y='power', hue='Condition', col='channel', kind='line', palette=['k', 'cornflowerblue'], height=8, aspect=1.2, linewidth=3.5)\n",
    "    return psd1, psd2, ax"
   ]
  },
  {
   "cell_type": "code",
   "execution_count": null,
   "metadata": {},
   "outputs": [],
   "source": [
    "def plot_bp_set(spg, bands, hyp, channel, start_time, end_time, ss=12, figsize=(35,15), title=None, color='black'):\n",
    "    spg = spg.sel(channel=channel, time=slice(start_time, end_time))\n",
    "    bp_set = kd.get_bp_set2(spg, bands)\n",
    "    bp_set = kd.get_smoothed_ds(bp_set, smoothing_sigma=ss)\n",
    "    ax_index = np.arange(0, len(bands))\n",
    "    keys = kd.get_key_list(bands)\n",
    "\n",
    "    fig, axes = plt.subplots(ncols=1, nrows=len(bands), figsize=figsize)\n",
    "\n",
    "    for i, k in zip(ax_index, keys):\n",
    "        fr = bp_set[k].f_range\n",
    "        fr_str = '('+str(fr[0]) + ' -> ' +str(fr[1])+' Hz)'\n",
    "        ax = sns.lineplot(x=bp_set[k].time, y=bp_set[k], ax=axes[i], color=color, linewidth=2)\n",
    "        ax.set_ylabel('Raw '+k.capitalize()+' Power')\n",
    "        ax.set_title(k.capitalize()+' Bandpower '+fr_str)\n",
    "    fig.suptitle(title)\n",
    "    fig.tight_layout(pad=1)\n",
    "    return fig, axes"
   ]
  },
  {
   "cell_type": "code",
   "execution_count": null,
   "metadata": {},
   "outputs": [],
   "source": [
    "! jupyter nbconvert --output-dir='/Volumes/opto_loc/Data/ACHR_PROJECT_MATERIALS/ACHR_2/plots/' --to=slides --TemplateExporter.exclude_input=True -TagRemovePreprocessor.remove_cell_tags='hide' --allow-errors grant_plots.ipynb"
   ]
  },
  {
   "cell_type": "code",
   "execution_count": null,
   "metadata": {},
   "outputs": [],
   "source": [
    "xwake_times = (10750, 12700)\n",
    "bwake_times = (0,1650)"
   ]
  },
  {
   "cell_type": "code",
   "execution_count": null,
   "metadata": {},
   "outputs": [],
   "source": [
    "# Get hypnogram-filtered spectrogram\n",
    "x3hyp = hp.load_visbrain_hypnogram('/Volumes/opto_loc/Data/ACHR_PROJECT_MATERIALS/ACHR_2/hypnograms/ACHR_2-exp3-hypno.txt').as_datetime(a2x3['fspg'].datetime.values.min())\n",
    "x_wake_clean = xh.keep_states(x_laser, x3hyp, states=['Wake'])"
   ]
  },
  {
   "cell_type": "code",
   "execution_count": null,
   "metadata": {},
   "outputs": [],
   "source": [
    "# Get hypnogram-filtered spectrogram\n",
    "x3hyp = hp.load_visbrain_hypnogram('/Volumes/opto_loc/Data/ACHR_PROJECT_MATERIALS/ACHR_2/hypnograms/ACHR_2-exp3-hypno-picky.txt').as_datetime(a2x3['fspg'].datetime.values.min())\n",
    "x_wake_picky = xh.keep_states(x_laser_lfp, x3hyp, states=['Wake'])"
   ]
  },
  {
   "cell_type": "code",
   "execution_count": null,
   "metadata": {},
   "outputs": [],
   "source": [
    "# Get rem-only spectrograms\n",
    "x3hyp_rem = hp.load_visbrain_hypnogram('/Volumes/opto_loc/Data/ACHR_PROJECT_MATERIALS/ACHR_2/hypnograms/ACHR_2-exp3-hypno-picky-rem.txt').as_datetime(a2x3['fspg'].datetime.values.min())\n",
    "x_rem = xh.keep_states(x_laser_lfp, x3hyp_rem, states=['REM'])"
   ]
  },
  {
   "cell_type": "code",
   "execution_count": null,
   "metadata": {},
   "outputs": [],
   "source": [
    "# Get rem-only spectrograms\n",
    "b3hyp_rem = hp.load_visbrain_hypnogram('/Volumes/opto_loc/Data/ACHR_PROJECT_MATERIALS/ACHR_2/hypnograms/ACHR_2-exp3-bl-rem-hypno.txt').as_datetime(a2x3['bfspg'].datetime.values.min())\n",
    "bl_rem = xh.keep_states(bl_laser_lfp, b3hyp_rem, states=['REM'])"
   ]
  },
  {
   "cell_type": "code",
   "execution_count": null,
   "metadata": {},
   "outputs": [],
   "source": [
    "bp = (4,8)\n",
    "x_rem_theta = kd.get_bandpower(x_rem, bp)\n",
    "bl_rem_theta = kd.get_bandpower(bl_rem, bp)"
   ]
  },
  {
   "cell_type": "code",
   "execution_count": null,
   "metadata": {},
   "outputs": [],
   "source": [
    "x_rem_pob = (x_rem/bl_rem)*100\n",
    "x_rem_pob  = x_rem_pob.to_dataframe('Power')"
   ]
  },
  {
   "cell_type": "code",
   "execution_count": null,
   "metadata": {},
   "outputs": [],
   "source": [
    "# get the laser-alligned data for baseline and exp\n",
    "bl_laser = a2x3['bespg'].sel(time=slice(2355, 20421))\n",
    "x_laser = a2x3['espg'].sel(time=slice(2355, 20421)) "
   ]
  },
  {
   "cell_type": "code",
   "execution_count": null,
   "metadata": {},
   "outputs": [],
   "source": [
    "# get the laser-alligned data for baseline and exp (LFP Data)\n",
    "bl_laser_lfp = a2x3['bfspg'].sel(time=slice(2355, 20421))\n",
    "x_laser_lfp = a2x3['fspg'].sel(time=slice(2355, 20421)) "
   ]
  },
  {
   "cell_type": "code",
   "execution_count": null,
   "metadata": {},
   "outputs": [],
   "source": [
    "# get the wake spectrograms for baseline and exp.\n",
    "bl_wake = a2x3['bfspg'].sel(time=slice(0,1650))\n",
    "x_wake = a2x3['fspg'].sel(time=slice(10750, 12700)) \n",
    "bl_wake2 = a2x3['fspg'].sel(time=slice(0, 2000)) "
   ]
  },
  {
   "cell_type": "code",
   "execution_count": null,
   "metadata": {},
   "outputs": [],
   "source": [
    "# pob median-psd comps\n",
    "xpob_psd = (xpsd/bpsd)*100\n",
    "pd_psd = xpob_psd.to_dataframe('Power')"
   ]
  },
  {
   "cell_type": "code",
   "execution_count": null,
   "metadata": {},
   "outputs": [],
   "source": [
    "# pob mean psd comps\n",
    "xpob_mean_psd = (xmn_psd/bmn_psd)*100\n",
    "pd_mean_psd = xpob_mean_psd.to_dataframe('Power')\n",
    "\n",
    "\n",
    "# Mean POB plots\n",
    "f, ax = plt.subplots(figsize=(20,12))\n",
    "ax = sns.lineplot(data=pd_mean_psd, x='frequency', y='Power', ax=ax, linewidth=3, color='mediumblue')\n",
    "ax.set(xscale=\"log\", xlim=(0,55), ylim=(0,130), xlabel='Frequency', ylabel='Power as % of Baseline Mean', title='Stimulation Mean PSD as a Percentage of Baseline Mean PSD | Contralateral EEG')\n",
    "ax.axhline(y=100, color='firebrick')\n",
    "plt.savefig('/Volumes/opto_loc/Data/ACHR_PROJECT_MATERIALS/ACHR_2/plots/mean-rem-pob.png')"
   ]
  },
  {
   "cell_type": "code",
   "execution_count": null,
   "metadata": {},
   "outputs": [],
   "source": [
    "eeg_pob = (a2x3['espg'] / a2x3['bespg'])*100 "
   ]
  },
  {
   "cell_type": "code",
   "execution_count": null,
   "metadata": {},
   "outputs": [],
   "source": [
    "eeg_pob"
   ]
  },
  {
   "cell_type": "code",
   "execution_count": null,
   "id": "dad4b0e9",
   "metadata": {},
   "outputs": [],
   "source": [
    "# Exp Bandpower Plots\n",
    "plt.close('all')\n",
    "chans = [12]\n",
    "for chan in chans: \n",
    "    ax = plot_bp(a2x3['fspg'], channel=chan, band_frange=(1,4), start_time=0, end_time=43200, ss=20, figsize=(35,6), color='mediumblue', title='Slow Wave Activity During 5-Hour Photoinhibition | 0.1mW Laser Power | Deep LFP')\n",
    "    ax.set_ylim(0,200000)\n",
    "    ax.axvspan(\n",
    "            2355.13,\n",
    "            20421.34,\n",
    "            alpha=0.2,\n",
    "            color='blue',\n",
    "            zorder=1000,\n",
    "            ec=\"none\",\n",
    "        )\n",
    "plt.savefig('/Volumes/opto_loc/Data/ACHR_PROJECT_MATERIALS/ACHR_2/plots/bp_x12')"
   ]
  },
  {
   "cell_type": "code",
   "execution_count": null,
   "id": "dad4b0e9",
   "metadata": {},
   "outputs": [],
   "source": [
    "# Baseline Bandpower Plots\n",
    "plt.close('all')\n",
    "chans = [12]\n",
    "for chan in chans: \n",
    "    ax = plot_bp(a2x3['bfspg'], channel=chan, band_frange=(1,4), start_time=0, end_time=43200, ss=14, figsize=(35,6), title='Slow Wave Activity Baseline | 10am-10pm (Light Cycle) | Deep LFP')\n",
    "    #ax.set_ylim(0,2000)\n",
    "plt.savefig('/Volumes/opto_loc/Data/ACHR_PROJECT_MATERIALS/ACHR_2/plots/bp_bl12')"
   ]
  },
  {
   "cell_type": "code",
   "execution_count": null,
   "metadata": {},
   "outputs": [],
   "source": [
    "# Mean PSD Comp - slow\n",
    "fkeys2 = ['Baseline', 'Experiment']\n",
    "test2 = 'Condition'\n",
    "chans2 = [12]\n",
    "plt.close('all')\n",
    "bmn_psd, xmn_psd, ax = comp_psd_lfp(bl_rem, x_rem, keys=fkeys2, test=test2, chans=chans2, median=False)\n",
    "x = ax.axes\n",
    "#x[0,0].set_ylim(1, 10000)\n",
    "x[0,0].set_title('Deep-LFP Mean PSD Comparison (Full Experiment)')\n",
    "x[0,0].set_ylabel('Power (uV²/Hz)')\n",
    "x[0,0].set_xlabel('Frequency')\n",
    "x[0,0].set_yscale('log')\n",
    "x[0,0].set_xscale('log')\n",
    "x[0,0].set_xlim(0, 50)\n",
    "plt.savefig('/Volumes/opto_loc/Data/ACHR_PROJECT_MATERIALS/ACHR_2/plots/psd-lfp12')"
   ]
  },
  {
   "cell_type": "code",
   "execution_count": null,
   "metadata": {},
   "outputs": [],
   "source": [
    "# Mean PSD Comp - slow\n",
    "fkeys2 = ['Baseline', 'Experiment']\n",
    "test2 = 'Condition'\n",
    "chans2 = [12]\n",
    "plt.close('all')\n",
    "bmn_psd, xmn_psd, ax = comp_psd_lfp(bl_rem, x_rem, keys=fkeys2, test=test2, chans=chans2, median=False)\n",
    "x = ax.axes\n",
    "#x[0,0].set_ylim(1, 10000)\n",
    "x[0,0].set_title('Deep-LFP Mean PSD Comparison (REM)')\n",
    "x[0,0].set_ylabel('Power (uV²/Hz)')\n",
    "x[0,0].set_xlabel('Frequency')\n",
    "x[0,0].set_yscale('log')\n",
    "x[0,0].set_xscale('log')\n",
    "x[0,0].set_xlim(0, 50)\n",
    "#plt.savefig('/Volumes/opto_loc/Data/ACHR_PROJECT_MATERIALS/ACHR_2/plots/psd-rem')"
   ]
  },
  {
   "cell_type": "code",
   "execution_count": null,
   "metadata": {},
   "outputs": [],
   "source": [
    "# Mean PSD Comp - slow\n",
    "fkeys2 = ['Baseline', 'Experiment']\n",
    "test2 = 'Condition'\n",
    "chans2 = [1]\n",
    "plt.close('all')\n",
    "bmn_psd, xmn_psd, ax = comp_psd_lfp(bl_laser, x_laser, keys=fkeys2, test=test2, chans=chans2, median=False)\n",
    "x = ax.axes\n",
    "#x[0,0].set_ylim(1, 10000)\n",
    "x[0,0].set_title('Contralateral EEG Mean PSD Comparison (Full Experiment)')\n",
    "x[0,0].set_ylabel('Power (uV²/Hz)')\n",
    "x[0,0].set_xlabel('Frequency')\n",
    "#x[0,0].set_yscale('log')\n",
    "#x[0,0].set_xscale('log')\n",
    "x[0,0].set_xlim(0, 20)\n",
    "plt.savefig('/Volumes/opto_loc/Data/ACHR_PROJECT_MATERIALS/ACHR_2/plots/psd-eeg1')"
   ]
  },
  {
   "cell_type": "code",
   "execution_count": null,
   "metadata": {},
   "outputs": [],
   "source": [
    "# Median PSD Comp - slow\n",
    "fkeys2 = ['Baseline', 'Experiment']\n",
    "test2 = 'Condition'\n",
    "chans2 = [1,2,3]\n",
    "plt.close('all')\n",
    "bpsd, xpsd, ax = comp_psd_lfp(bl_rem, x_rem, keys=fkeys2, test=test2, chans=chans2)\n",
    "x = ax.axes\n",
    "#x[0,0].set_ylim(0.1, 8000)\n",
    "x[0,0].set_title('Deep-LFP Median PSD Comparison (REM-ONLY)')\n",
    "x[0,0].set_ylabel('Power (uV²/Hz)')\n",
    "x[0,0].set_xlabel('Frequency')\n",
    "#x[0,0].set_yscale('log')\n",
    "#x[0,0].set_xscale('log')\n",
    "x[0,0].set_xlim(0,55)\n",
    "plt.savefig('/Volumes/opto_loc/Data/ACHR_PROJECT_MATERIALS/ACHR_2/plots/auto_plots/med-rem-wide-log.png')"
   ]
  },
  {
   "cell_type": "code",
   "execution_count": null,
   "metadata": {},
   "outputs": [],
   "source": [
    "# Median PSD Comp - mid\n",
    "fkeys2 = ['Baseline', 'Experiment']\n",
    "test2 = 'Condition'\n",
    "chans2 = [12]\n",
    "plt.close('all')\n",
    "ax = comp_psd_lfp(bl_laser, x_laser, keys=fkeys2, test=test2, chans=chans2)\n",
    "x = ax.axes\n",
    "x[0,0].set_ylim(0, 150)\n",
    "x[0,0].set_xlim(10, 50)\n",
    "x[0,0].set_title('Deep-LFP Median PSD Comparison')\n",
    "x[0,0].set_ylabel('Power (uV²/Hz)')\n",
    "x[0,0].set_xlabel('Frequency')"
   ]
  },
  {
   "cell_type": "code",
   "execution_count": null,
   "metadata": {},
   "outputs": [],
   "source": [
    "# Mean PSD Comp - mid\n",
    "fkeys2 = ['Baseline', 'Experiment']\n",
    "test2 = 'Condition'\n",
    "chans2 = [12]\n",
    "plt.close('all')\n",
    "ax = comp_psd_lfp(bl_laser, x_laser, keys=fkeys2, test=test2, chans=chans2, median=False)\n",
    "x = ax.axes\n",
    "x[0,0].set_ylim(0, 300)\n",
    "x[0,0].set_xlim(10, 50)\n",
    "x[0,0].set_title('Deep-LFP Mean PSD Comparison')\n",
    "x[0,0].set_ylabel('Power (uV²/Hz)')\n",
    "x[0,0].set_xlabel('Frequency')"
   ]
  },
  {
   "cell_type": "code",
   "execution_count": null,
   "metadata": {},
   "outputs": [],
   "source": [
    "# Median PSD Comp - fast\n",
    "fkeys2 = ['Baseline', 'Experiment']\n",
    "test2 = 'Condition'\n",
    "chans2 = [12]\n",
    "plt.close('all')\n",
    "ax = comp_psd_lfp(bl_laser, x_laser, keys=fkeys2, test=test2, chans=chans2)\n",
    "x = ax.axes\n",
    "x[0,0].set_ylim(0, 10)\n",
    "x[0,0].set_xlim(65, 100)\n",
    "x[0,0].set_title('Deep-LFP Median PSD Comparison')\n",
    "x[0,0].set_ylabel('Power (uV²/Hz)')\n",
    "x[0,0].set_xlabel('Frequency')"
   ]
  },
  {
   "cell_type": "code",
   "execution_count": null,
   "metadata": {},
   "outputs": [],
   "source": [
    "# Mean PSD Comp - fast\n",
    "fkeys2 = ['Baseline', 'Experiment']\n",
    "test2 = 'Condition'\n",
    "chans2 = [12]\n",
    "plt.close('all')\n",
    "ax = comp_psd_lfp(bl_laser, x_laser, keys=fkeys2, test=test2, chans=chans2, median=False)\n",
    "x = ax.axes\n",
    "x[0,0].set_ylim(0, 10)\n",
    "x[0,0].set_xlim(65, 100)\n",
    "x[0,0].set_title('Deep-LFP Mean PSD Comparison')\n",
    "x[0,0].set_ylabel('Power (uV²/Hz)')\n",
    "x[0,0].set_xlabel('Frequency')"
   ]
  },
  {
   "cell_type": "code",
   "execution_count": null,
   "metadata": {},
   "outputs": [],
   "source": [
    "# median POB plots\n",
    "f, ax = plt.subplots(figsize=(20,12))\n",
    "ax = sns.lineplot(data=pd_psd, x='frequency', y='Power', ax=ax, linewidth=3, color='mediumblue')\n",
    "ax.set(xscale=\"linear\", xlim=(0,55), ylim=(0,130), xlabel='Frequency', ylabel='Power as % of Baseline Median', title='Stimulation Median REM-PSD as a Percentage of Baseline Median REM-PSD')\n",
    "ax.axhline(y=100, color='firebrick')\n",
    "plt.savefig('/Volumes/opto_loc/Data/ACHR_PROJECT_MATERIALS/ACHR_2/plots/auto_plots/median_mean-rem.png')"
   ]
  },
  {
   "cell_type": "code",
   "execution_count": null,
   "metadata": {},
   "outputs": [],
   "source": [
    "f, axe = plot_bp_set(a2x3['fspg'], bands_def, hyp=None, channel=12, start_time=0, end_time=43200)"
   ]
  },
  {
   "cell_type": "code",
   "execution_count": null,
   "metadata": {},
   "outputs": [],
   "source": [
    "f, axe = plot_bp_set(a2x3['bfspg'], bands_def, hyp=None, channel=12, start_time=0, end_time=43200)"
   ]
  },
  {
   "cell_type": "markdown",
   "metadata": {},
   "source": [
    "# PPT UTILS"
   ]
  },
  {
   "cell_type": "code",
   "execution_count": null,
   "metadata": {},
   "outputs": [],
   "source": [
    "import pptx\n",
    "ppt_path = '/Volumes/opto_loc/Data/ACHR_PROJECT_MATERIALS/ACHR_2/plots/plots-ppt.pptx' \n",
    "pts = pptx.Presentation(ppt_path)\n",
    "pts.save(ppt_path)\n",
    "slide_layout = pts.slide_layouts[6]"
   ]
  },
  {
   "cell_type": "code",
   "execution_count": null,
   "id": "dad4b0e9",
   "metadata": {},
   "outputs": [],
   "source": [
    "%matplotlib inline \n",
    "#Set up file information\n",
    "img_path = '/Volumes/opto_loc/Data/ACHR_PROJECT_MATERIALS/ACHR_2/plots/img1.tiff'\n",
    "left = top = pptx.util.Inches(0.1)\n",
    "width = pptx.util.Inches(12)\n",
    "slide = pts.slides.add_slide(slide_layout)\n",
    "\n",
    "# POB Bandpower Plots\n",
    "plt.close('all')\n",
    "chans = [1]\n",
    "for chan in chans: \n",
    "    ax = plot_bp(x_laser, channel=chan, band_frange=(1,4), start_time=0, end_time=43200, ss=14, figsize=(25,5), title='High-Frequency Activity Baseline | 10am-10pm (Light Cycle) | Deep LFP')\n",
    "    ax.set_ylim(0,5000)\n",
    "plt.savefig(img_path)\n",
    "slide.shapes.add_picture(img_path, left, top, width=width)\n",
    "pts.save('/Volumes/opto_loc/Data/ACHR_PROJECT_MATERIALS/ACHR_2/plots/plots-ppt.pptx')"
   ]
  }
 ],
 "metadata": {
  "interpreter": {
   "hash": "8b4e5f83c5c43fbba261d328a2df1f0567bfa5b389d8ccfa34ce3cfd2f216fff"
  },
  "kernelspec": {
   "display_name": "Python 3.9.7 64-bit ('ecephys_t2': conda)",
   "language": "python",
   "name": "python3"
  },
  "language_info": {
   "codemirror_mode": {
    "name": "ipython",
    "version": 3
   },
   "file_extension": ".py",
   "mimetype": "text/x-python",
   "name": "python",
   "nbconvert_exporter": "python",
   "pygments_lexer": "ipython3",
   "version": "3.9.7"
  },
  "orig_nbformat": 4
 },
 "nbformat": 4,
 "nbformat_minor": 2
}

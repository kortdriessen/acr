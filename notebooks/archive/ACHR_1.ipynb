{
 "cells": [
  {
   "cell_type": "markdown",
   "source": [
    "# PPT_ACHR_1"
   ],
   "metadata": {
    "tags": []
   }
  },
  {
   "cell_type": "code",
   "execution_count": null,
   "source": [
    "%matplotlib widget\r\n",
    "%reload_ext autoreload\r\n",
    "%autoreload 2\r\n",
    "\r\n",
    "import numpy as np\r\n",
    "import scipy\r\n",
    "import pandas as pd\r\n",
    "import tdt\r\n",
    "from pathlib import Path\r\n",
    "import matplotlib.pyplot as plt\r\n",
    "import seaborn as sns\r\n",
    "import xarray as xr\r\n",
    "import yaml\r\n",
    "import re\r\n",
    "\r\n",
    "import hypnogram as hp\r\n",
    "from ecephys.utils import replace_outliers\r\n",
    "import ecephys.plot as eplt\r\n",
    "import ecephys.signal.timefrequency as tfr\r\n",
    "import ecephys.signal.kd_utils as kd\r\n",
    "import ecephys.signal.kd_plotting as kp\r\n",
    "import ecephys.signal.kd_pax as kpx\r\n",
    "import tdt_xarray as tx\r\n",
    "\r\n",
    "bands_def = dict(delta=(0.5, 4.1), theta=(4.1, 8), beta = (13, 20), low_gamma = (40, 55), high_gamma = (65, 80))\r\n",
    "\r\n",
    "kd_ref = {}\r\n",
    "kd_ref['echans'] = [1,2,3]\r\n",
    "kd_ref['fchans']=[1,2,3,4,5,6,7,8,9,10,11,12,13,14,15,16]\r\n",
    "kd_ref['analysis_root'] = Path(r\"L:\\Data\\ACHR_PROJECT_MATERIALS\\PPT_ACHR_1\\analysis_data\")\r\n",
    "kd_ref['tank_root'] = Path(r\"L:\\Data\\PPT_ACHR_1_TANK\")"
   ],
   "outputs": [],
   "metadata": {
    "execution": {
     "iopub.execute_input": "2021-09-04T00:19:38.669120Z",
     "iopub.status.busy": "2021-09-04T00:19:38.669120Z",
     "iopub.status.idle": "2021-09-04T00:19:38.768734Z",
     "shell.execute_reply": "2021-09-04T00:19:38.768734Z",
     "shell.execute_reply.started": "2021-09-04T00:19:38.669120Z"
    },
    "tags": []
   }
  },
  {
   "cell_type": "markdown",
   "source": [
    "# Exp-1"
   ],
   "metadata": {
    "tags": []
   }
  },
  {
   "cell_type": "code",
   "execution_count": null,
   "source": [
    "data = tdt.read_block(e1bl1p, t1=0, t2=10)"
   ],
   "outputs": [],
   "metadata": {}
  },
  {
   "cell_type": "code",
   "execution_count": null,
   "source": [
    "data.streams['LFPr'].channels"
   ],
   "outputs": [],
   "metadata": {}
  },
  {
   "cell_type": "code",
   "execution_count": null,
   "source": [
    "channels=[12, 13, 11, 14, 10, 15, 9, 16, 5, 4, 6, 3, 7, 2, 8, 1]"
   ],
   "outputs": [],
   "metadata": {}
  },
  {
   "cell_type": "code",
   "execution_count": null,
   "source": [
    "channels"
   ],
   "outputs": [],
   "metadata": {}
  },
  {
   "cell_type": "code",
   "execution_count": null,
   "source": [
    "data.epocs.Bn1_"
   ],
   "outputs": [],
   "metadata": {}
  },
  {
   "cell_type": "code",
   "execution_count": null,
   "source": [
    "e1p = \"L:\\Data\\PPT_ACHR_1_TANK\\PPT_ACHR_1-exp1\"\r\n",
    "e1bl1p = \"L:\\Data\\PPT_ACHR_1_TANK\\PPT_ACHR_1-exp1-bl1\"\r\n",
    "e1bl2p = \"L:\\Data\\PPT_ACHR_1_TANK\\PPT_ACHR_1-exp1-bl2\"\r\n",
    "hyp_path = \"L:\\Data\\ACHR_PROJECT_MATERIALS\\PPT_ACHR_1\\laser_stims_8_27.txt\""
   ],
   "outputs": [],
   "metadata": {
    "execution": {
     "iopub.execute_input": "2021-08-28T15:41:36.614299Z",
     "iopub.status.busy": "2021-08-28T15:41:36.614299Z",
     "iopub.status.idle": "2021-08-28T15:41:36.622268Z",
     "shell.execute_reply": "2021-08-28T15:41:36.621293Z",
     "shell.execute_reply.started": "2021-08-28T15:41:36.614299Z"
    },
    "tags": []
   }
  },
  {
   "cell_type": "code",
   "execution_count": null,
   "source": [
    "e1_hyp = hp.load_visbrain_hypnogram(hyp_path)"
   ],
   "outputs": [],
   "metadata": {}
  },
  {
   "cell_type": "code",
   "execution_count": null,
   "source": [
    "x1be, x1be_spg, x1be_bp = get_dsb(e1bl1p, bands, t1=0, t2=0, channel=[1,2,3], store='EEGr')\r\n",
    "x1be2, x1be2_spg, x1be2_bp = get_dsb(e1bl2p, bands, t1=0, t2=0, channel=[1,2,3], store='EEGr')\r\n",
    "x1e, x1e_spg, x1e_bp = get_dsb(e1p, bands, t1=0, t2=0, channel=[1,2,3], store='EEGr')"
   ],
   "outputs": [],
   "metadata": {}
  },
  {
   "cell_type": "code",
   "execution_count": null,
   "source": [
    "x1bf, x1bf_spg, x1bf_bp = get_dsb(e1bl1p, bands, t1=0, t2=0, channel=[1,2,3,4,5,6,7,8,9,10,11,12,13,14,15,16], store='LFPr')\r\n",
    "x1bf2, x1bf2_spg, x1bf2_bp = get_dsb(e1bl2p, bands, t1=0, t2=0, channel=[1,2,3,4,5,6,7,8,9,10,11,12,13,14,15,16], store='LFPr')"
   ],
   "outputs": [],
   "metadata": {}
  },
  {
   "cell_type": "code",
   "execution_count": null,
   "source": [
    "x1f, x1f_spg, x1f_bp = get_dsb(e1p, bands, t1=0, t2=0, channel=[1,2,3,4,5,6,7,8,9,10,11,12,13,14,15,16], store='LFP_')"
   ],
   "outputs": [],
   "metadata": {}
  },
  {
   "cell_type": "code",
   "execution_count": null,
   "source": [
    "x1bf.to_netcdf(r\"L:\\Data\\ACHR_PROJECT_MATERIALS\\PPT_ACHR_1\\analysis_data\\x1bf.nc\")\r\n",
    "x1bf_spg.to_netcdf(r\"L:\\Data\\ACHR_PROJECT_MATERIALS\\PPT_ACHR_1\\analysis_data\\x1bf_spg.nc\")\r\n",
    "x1bf_bp.to_netcdf(r\"L:\\Data\\ACHR_PROJECT_MATERIALS\\PPT_ACHR_1\\analysis_data\\x1bf_bp.nc\")"
   ],
   "outputs": [],
   "metadata": {}
  },
  {
   "cell_type": "code",
   "execution_count": null,
   "source": [
    "x1bf2.to_netcdf(r\"L:\\Data\\ACHR_PROJECT_MATERIALS\\PPT_ACHR_1\\analysis_data\\x1bf2.nc\")\r\n",
    "x1bf2_spg.to_netcdf(r\"L:\\Data\\ACHR_PROJECT_MATERIALS\\PPT_ACHR_1\\analysis_data\\x1bf2_spg.nc\")\r\n",
    "x1bf2_bp.to_netcdf(r\"L:\\Data\\ACHR_PROJECT_MATERIALS\\PPT_ACHR_1\\analysis_data\\x1bf2_bp.nc\")"
   ],
   "outputs": [],
   "metadata": {}
  },
  {
   "cell_type": "markdown",
   "source": [
    "## Plots"
   ],
   "metadata": {}
  },
  {
   "cell_type": "markdown",
   "source": [
    "### EEG Plots"
   ],
   "metadata": {}
  },
  {
   "cell_type": "code",
   "execution_count": null,
   "source": [
    "channels=[1,2,3]\r\n",
    "for chan in channels:\r\n",
    "    b, s = kp.plot_spectrogram_with_bandpower(x1e_spg, x1e_bp.delta, hyp=e1_hyp, channel=chan, start_time=0, end_time=x1e_spg.time.values.max(), title=\"Delta Power, EEG-\"+str(chan)+\", Exp-1\")\r\n",
    "    b.axvspan(\r\n",
    "            42294,\r\n",
    "            85494,\r\n",
    "            alpha=0.3,\r\n",
    "            color='midnightblue',\r\n",
    "            zorder=1000,\r\n",
    "            ec=\"none\",\r\n",
    "        )\r\n",
    "    b.set_ylim(0, 4000)"
   ],
   "outputs": [],
   "metadata": {}
  },
  {
   "cell_type": "code",
   "execution_count": null,
   "source": [
    "channels=[1,2,3]\r\n",
    "for chan in channels:\r\n",
    "    b, s = kp.plot_spectrogram_with_bandpower(x1be_spg, x1be_bp.delta, hyp=None, channel=chan, start_time=0, end_time=x1be_spg.time.values.max(), title=\"Delta Power, EEG-\"+str(chan)+\", Exp-1 Baseline (9am-6pm)\")\r\n",
    "    b.set_ylim(0, 4000)"
   ],
   "outputs": [],
   "metadata": {}
  },
  {
   "cell_type": "code",
   "execution_count": null,
   "source": [
    "channels=[1,2,3]\r\n",
    "for chan in channels:\r\n",
    "    b, s = kp.plot_spectrogram_with_bandpower(x1be2_spg, x1be2_bp.delta, hyp=None, channel=chan, start_time=0, end_time=x1be2_spg.time.values.max(), title=\"Delta Power, EEG-\"+str(chan)+\", Exp-1 Baseline Part-2 (6pm-9am)\")\r\n",
    "    b.axvspan(\r\n",
    "            9524,\r\n",
    "            52724,\r\n",
    "            alpha=0.3,\r\n",
    "            color='midnightblue',\r\n",
    "            zorder=1000,\r\n",
    "            ec=\"none\",\r\n",
    "        )\r\n",
    "    b.set_ylim(0, 4000)"
   ],
   "outputs": [],
   "metadata": {}
  },
  {
   "cell_type": "markdown",
   "source": [
    "### LFP Plots"
   ],
   "metadata": {}
  },
  {
   "cell_type": "code",
   "execution_count": null,
   "source": [
    "channels=[1,9,13]\r\n",
    "for chan in channels:\r\n",
    "    b, s = kp.plot_spectrogram_with_bandpower(x1f_spg, x1f_bp.delta, hyp=e1_hyp, channel=chan, start_time=0, end_time=x1f_spg.time.max(), title=\"Delta Power, LFP-\"+str(chan)+\", Exp-1\")\r\n",
    "    b.axvspan(\r\n",
    "            42294,\r\n",
    "            85494,\r\n",
    "            alpha=0.3,\r\n",
    "            color='midnightblue',\r\n",
    "            zorder=1000,\r\n",
    "            ec=\"none\",\r\n",
    "        )\r\n",
    "    b.set_ylim(0, 130000)\r\n",
    "\r\n"
   ],
   "outputs": [],
   "metadata": {}
  },
  {
   "cell_type": "code",
   "execution_count": null,
   "source": [
    "band = 'delta'\r\n",
    "channels=[1,9,13]\r\n",
    "for chan in channels:\r\n",
    "    b, s = kp.plot_spectrogram_with_bandpower(x1bf_spg, x1bf_bp, band=band, hyp=None, channel=chan, start_time=0, end_time=20000, title=band.capitalize()+\" Power, LFP-\"+str(chan)+\", Exp-1 Baseline (9am-6pm)\")\r\n",
    "    b.set_ylim(0, 130000)"
   ],
   "outputs": [],
   "metadata": {}
  },
  {
   "cell_type": "code",
   "execution_count": null,
   "source": [
    "band = 'delta'\r\n",
    "channels=[1,9,13]\r\n",
    "for chan in channels:\r\n",
    "    b, s = kp.plot_spectrogram_with_bandpower(x1bf2_spg, x1bf2_bp, band=band, hyp=None, channel=chan, start_time=0, end_time=x1bf2_spg.time.max(), title=band.capitalize()+\" Power, LFP-\"+str(chan)+\", Exp-1 Baseline Part-2 (6pm-9am)\")\r\n",
    "    b.axvspan(\r\n",
    "            9524,\r\n",
    "            52724,\r\n",
    "            alpha=0.3,\r\n",
    "            color='midnightblue',\r\n",
    "            zorder=1000,\r\n",
    "            ec=\"none\",\r\n",
    "        )\r\n",
    "    b.set_ylim(0, 130000)"
   ],
   "outputs": [],
   "metadata": {}
  },
  {
   "cell_type": "markdown",
   "source": [
    "# Exp-2"
   ],
   "metadata": {}
  },
  {
   "cell_type": "code",
   "execution_count": null,
   "source": [
    "e2p = \"L:\\Data\\PPT_ACHR_1_TANK\\PPT_ACHR_1-exp2\"\r\n",
    "e2blp = \"L:\\Data\\PPT_ACHR_1_TANK\\PPT_ACHR_1-exp2-bl\""
   ],
   "outputs": [],
   "metadata": {
    "execution": {
     "iopub.execute_input": "2021-09-04T00:19:48.421007Z",
     "iopub.status.busy": "2021-09-04T00:19:48.421007Z",
     "iopub.status.idle": "2021-09-04T00:19:48.588505Z",
     "shell.execute_reply": "2021-09-04T00:19:48.588505Z",
     "shell.execute_reply.started": "2021-09-04T00:19:48.421007Z"
    },
    "tags": []
   }
  },
  {
   "cell_type": "code",
   "execution_count": null,
   "source": [
    "p1p = \"L:\\Data\\PPT_ACHR_1_TANK\\PPT_ACHR_1-exp2-post1\"\r\n",
    "p2p = \"L:\\Data\\PPT_ACHR_1_TANK\\PPT_ACHR_1-exp2-post2\""
   ],
   "outputs": [],
   "metadata": {
    "execution": {
     "iopub.execute_input": "2021-09-04T00:48:08.889765Z",
     "iopub.status.busy": "2021-09-04T00:48:08.888767Z",
     "iopub.status.idle": "2021-09-04T00:48:09.078269Z",
     "shell.execute_reply": "2021-09-04T00:48:09.078269Z",
     "shell.execute_reply.started": "2021-09-04T00:48:08.889765Z"
    },
    "tags": []
   }
  },
  {
   "cell_type": "code",
   "execution_count": null,
   "source": [
    "tp = \"L:\\Data\\PPT_ACHR_1_TANK\\PPT_ACHR_1-test_sept3\" \r\n"
   ],
   "outputs": [],
   "metadata": {
    "execution": {
     "iopub.execute_input": "2021-09-04T00:48:08.889765Z",
     "iopub.status.busy": "2021-09-04T00:48:08.888767Z",
     "iopub.status.idle": "2021-09-04T00:48:09.078269Z",
     "shell.execute_reply": "2021-09-04T00:48:09.078269Z",
     "shell.execute_reply.started": "2021-09-04T00:48:08.889765Z"
    },
    "tags": []
   }
  },
  {
   "cell_type": "code",
   "execution_count": null,
   "source": [
    "t1f, t1f_spg, t1f_bp = get_dsb(tp, bands, t1=0, t2=0, channel=[1,2,3,4,5,6,7,8,9,10,11,12,13,14,15,16], store='LFP_')\r\n",
    "t1e, t1e_spg, t1e_bp = get_dsb(tp, bands, t1=0, t2=0, channel=[1,2,3], store='EEG_')"
   ],
   "outputs": [],
   "metadata": {}
  },
  {
   "cell_type": "code",
   "execution_count": null,
   "source": [
    "x2be, x2be_spg, x2be_bp = get_dsb(e2blp, bands, t1=0, t2=0, channel=[1,2,3], store='EEG_')\r\n",
    "x2e, x2e_spg, x2e_bp = get_dsb(e2p, bands, t1=0, t2=0, channel=[1,2,3], store='EEG_')"
   ],
   "outputs": [],
   "metadata": {
    "execution": {
     "iopub.execute_input": "2021-09-04T00:19:48.590507Z",
     "iopub.status.busy": "2021-09-04T00:19:48.589534Z",
     "iopub.status.idle": "2021-09-04T00:22:24.983460Z",
     "shell.execute_reply": "2021-09-04T00:22:24.983460Z",
     "shell.execute_reply.started": "2021-09-04T00:19:48.590507Z"
    },
    "tags": []
   }
  },
  {
   "cell_type": "code",
   "execution_count": null,
   "source": [
    "x2bf, x2bf_spg, x2bf_bp = get_dsb(e2blp, bands, t1=0, t2=0, channel=[1,9,13], store='LFP_')\r\n",
    "\r\n",
    "x2f, x2f_spg, x2f_bp = get_dsb(e2p, bands, t1=0, t2=0, channel=[1,9,13], store='LFP_')"
   ],
   "outputs": [],
   "metadata": {
    "execution": {
     "iopub.execute_input": "2021-09-03T23:48:44.176797Z",
     "iopub.status.busy": "2021-09-03T23:48:44.175797Z",
     "iopub.status.idle": "2021-09-03T23:56:43.145458Z",
     "shell.execute_reply": "2021-09-03T23:56:43.145458Z",
     "shell.execute_reply.started": "2021-09-03T23:48:44.176797Z"
    },
    "tags": []
   }
  },
  {
   "cell_type": "code",
   "execution_count": null,
   "source": [
    "p2f, p2f_spg, p2f_bp = get_dsb(p2p, bands, t1=0, t2=0, channel=[1,2,3,4,5,6,7,8,9,10,11,12,13,14,15,16], store='LFP_')\r\n",
    "p2e, p2e_spg, p2e_bp = get_dsb(p2p, bands, t1=0, t2=0, channel=[1,2,3], store='EEG_')"
   ],
   "outputs": [],
   "metadata": {
    "execution": {
     "iopub.execute_input": "2021-09-04T00:50:23.974770Z",
     "iopub.status.busy": "2021-09-04T00:50:23.974770Z",
     "iopub.status.idle": "2021-09-04T00:51:43.761037Z",
     "shell.execute_reply": "2021-09-04T00:51:43.761037Z",
     "shell.execute_reply.started": "2021-09-04T00:50:23.974770Z"
    },
    "tags": []
   }
  },
  {
   "cell_type": "markdown",
   "source": [
    "## Plots"
   ],
   "metadata": {}
  },
  {
   "cell_type": "markdown",
   "source": [
    "### EEG Plots"
   ],
   "metadata": {
    "tags": []
   }
  },
  {
   "cell_type": "code",
   "execution_count": null,
   "source": [
    "channels=[1,2,3]\r\n",
    "for chan in channels:\r\n",
    "    b, s = kp.plot_spectrogram_with_bandpower(x2be_spg, x2be_bp.delta, hyp=None, channel=chan, start_time=0, end_time=x2be_spg.time.values.max(), title=\"Delta Power, EEG-\"+str(chan)+\", Exp-2 Baseline (9am-9am)\")\r\n",
    "    b.set_ylim(0, 4000)\r\n",
    "    b.axvspan(\r\n",
    "            43200,\r\n",
    "            86400,\r\n",
    "            alpha=0.3,\r\n",
    "            color='midnightblue',\r\n",
    "            zorder=1000,\r\n",
    "            ec=\"none\",\r\n",
    "        )"
   ],
   "outputs": [],
   "metadata": {
    "execution": {
     "iopub.execute_input": "2021-09-04T00:46:06.971652Z",
     "iopub.status.busy": "2021-09-04T00:46:06.971652Z",
     "iopub.status.idle": "2021-09-04T00:46:11.654648Z",
     "shell.execute_reply": "2021-09-04T00:46:11.653643Z",
     "shell.execute_reply.started": "2021-09-04T00:46:06.971652Z"
    },
    "tags": []
   }
  },
  {
   "cell_type": "code",
   "execution_count": null,
   "source": [
    "channels=[1,2,3]\r\n",
    "for chan in channels:\r\n",
    "    b, s = kp.plot_spectrogram_with_bandpower(x2e_spg, x2e_bp.delta, hyp=None, channel=chan, start_time=0, end_time=x2e_spg.time.values.max(), title=\"Delta Power, EEG-\"+str(chan)+\", Exp-2 (9am-9am)\")\r\n",
    "    b.axvspan(\r\n",
    "            55.69,\r\n",
    "            21614.44,\r\n",
    "            alpha=0.3,\r\n",
    "            color='royalblue',\r\n",
    "            zorder=1000,\r\n",
    "            ec=\"none\",\r\n",
    "        )\r\n",
    "    b.set_ylim(0, 4000)\r\n",
    "    b.axvspan(\r\n",
    "            43200,\r\n",
    "            86400,\r\n",
    "            alpha=0.3,\r\n",
    "            color='midnightblue',\r\n",
    "            zorder=1000,\r\n",
    "            ec=\"none\",\r\n",
    "        )"
   ],
   "outputs": [],
   "metadata": {
    "execution": {
     "iopub.execute_input": "2021-09-04T00:44:04.856126Z",
     "iopub.status.busy": "2021-09-04T00:44:04.856126Z",
     "iopub.status.idle": "2021-09-04T00:44:09.589134Z",
     "shell.execute_reply": "2021-09-04T00:44:09.589134Z",
     "shell.execute_reply.started": "2021-09-04T00:44:04.856126Z"
    },
    "tags": []
   }
  },
  {
   "cell_type": "markdown",
   "source": [
    "### LFP Plots"
   ],
   "metadata": {
    "tags": []
   }
  },
  {
   "cell_type": "code",
   "execution_count": null,
   "source": [
    "channels=[1,9,13]\r\n",
    "for chan in channels:\r\n",
    "    b, s = kp.plot_spectrogram_with_bandpower(x2bf_spg, x2bf_bp.high_gamma, hyp=None, channel=chan, start_time=0, end_time=x2bf_spg.time.max(), title=\"High Gamma (65-80Hz) Power, LFP-\"+str(chan)+\", Exp-2 Baseline (9am-9am)\")\r\n",
    "    b.axvspan(\r\n",
    "            43200,\r\n",
    "            86400,\r\n",
    "            alpha=0.3,\r\n",
    "            color='midnightblue',\r\n",
    "            zorder=1000,\r\n",
    "            ec=\"none\",\r\n",
    "        )\r\n",
    "    b.set_ylim(0, 1600)"
   ],
   "outputs": [],
   "metadata": {}
  },
  {
   "cell_type": "code",
   "execution_count": null,
   "source": [
    "channels=[1,9,13]\r\n",
    "for chan in channels:\r\n",
    "    b, s = kp.plot_spectrogram_with_bandpower(x2f_spg, x2f_bp.high_gamma, hyp=None, channel=chan, start_time=0, end_time=x2f_spg.time.max(), title=\"High Gamma (65-80Hz) Power, LFP-\"+str(chan)+\", Exp-2 (9am-9am)\")\r\n",
    "    b.axvspan(\r\n",
    "            0,\r\n",
    "            24600,\r\n",
    "            alpha=0.3,\r\n",
    "            color='royalblue',\r\n",
    "            zorder=1000,\r\n",
    "            ec=\"none\",\r\n",
    "        )\r\n",
    "    b.set_ylim(0, 1600)\r\n",
    "    b.axvspan(\r\n",
    "            43200,\r\n",
    "            86400,\r\n",
    "            alpha=0.3,\r\n",
    "            color='midnightblue',\r\n",
    "            zorder=1000,\r\n",
    "            ec=\"none\",\r\n",
    "        )"
   ],
   "outputs": [],
   "metadata": {}
  },
  {
   "cell_type": "code",
   "execution_count": null,
   "source": [
    "channels=[1,9,13]\r\n",
    "for chan in channels:\r\n",
    "    b, s = kp.plot_spectrogram_with_bandpower(x2bf_spg, x2bf_bp.low_gamma, hyp=None, channel=chan, start_time=0, end_time=x2bf_spg.time.max(), title=\"Low Gamma (40-55Hz) Power, LFP-\"+str(chan)+\", Exp-2 Baseline (9am-9am)\")\r\n",
    "    b.axvspan(\r\n",
    "            43200,\r\n",
    "            86400,\r\n",
    "            alpha=0.3,\r\n",
    "            color='midnightblue',\r\n",
    "            zorder=1000,\r\n",
    "            ec=\"none\",\r\n",
    "        )\r\n",
    "    b.set_ylim(0, 5000)"
   ],
   "outputs": [],
   "metadata": {
    "execution": {
     "iopub.execute_input": "2021-09-03T23:57:28.149484Z",
     "iopub.status.busy": "2021-09-03T23:57:28.149484Z",
     "iopub.status.idle": "2021-09-03T23:57:51.386528Z",
     "shell.execute_reply": "2021-09-03T23:57:51.386528Z",
     "shell.execute_reply.started": "2021-09-03T23:57:28.149484Z"
    },
    "tags": []
   }
  },
  {
   "cell_type": "code",
   "execution_count": null,
   "source": [
    "channels=[1,9,13]\r\n",
    "for chan in channels:\r\n",
    "    b, s = kp.plot_spectrogram_with_bandpower(x2f_spg, x2f_bp.low_gamma, hyp=None, channel=chan, start_time=0, end_time=x2f_spg.time.max(), title=\"Low Gamma Power, LFP-\"+str(chan)+\", Exp-2 (9am-9am)\")\r\n",
    "    b.axvspan(\r\n",
    "            0,\r\n",
    "            24600,\r\n",
    "            alpha=0.3,\r\n",
    "            color='royalblue',\r\n",
    "            zorder=1000,\r\n",
    "            ec=\"none\",\r\n",
    "        )\r\n",
    "    b.set_ylim(0, 5000)\r\n",
    "    b.axvspan(\r\n",
    "            43200,\r\n",
    "            86400,\r\n",
    "            alpha=0.3,\r\n",
    "            color='midnightblue',\r\n",
    "            zorder=1000,\r\n",
    "            ec=\"none\",\r\n",
    "        )"
   ],
   "outputs": [],
   "metadata": {
    "execution": {
     "iopub.execute_input": "2021-09-04T00:10:58.560384Z",
     "iopub.status.busy": "2021-09-04T00:10:58.559380Z",
     "iopub.status.idle": "2021-09-04T00:11:21.768685Z",
     "shell.execute_reply": "2021-09-04T00:11:21.767709Z",
     "shell.execute_reply.started": "2021-09-04T00:10:58.560384Z"
    },
    "tags": []
   }
  },
  {
   "cell_type": "markdown",
   "source": [
    "### Post-Plots"
   ],
   "metadata": {}
  },
  {
   "cell_type": "code",
   "execution_count": null,
   "source": [
    "channels=[1,2,3,4,5,6,7,8,9,10,11,12,13,14,15,16]\r\n",
    "for chan in channels:\r\n",
    "    b, s = kp.plot_spectrogram_with_bandpower(p2f_spg, p2f_bp.delta, hyp=None, channel=chan, start_time=0, end_time=p2f_spg.time.max(), title=\"Delta Power, LFP-\"+str(chan)+\", Exp-2-POST\")\r\n",
    "    b.set_ylim(0, 200000)\r\n"
   ],
   "outputs": [],
   "metadata": {
    "execution": {
     "iopub.execute_input": "2021-09-04T00:56:25.751576Z",
     "iopub.status.busy": "2021-09-04T00:56:25.750553Z",
     "iopub.status.idle": "2021-09-04T00:56:44.399991Z",
     "shell.execute_reply": "2021-09-04T00:56:44.398988Z",
     "shell.execute_reply.started": "2021-09-04T00:56:25.751576Z"
    },
    "tags": []
   }
  },
  {
   "cell_type": "code",
   "execution_count": null,
   "source": [
    "channels=[1,2,3]\r\n",
    "for chan in channels:\r\n",
    "    b, s = kp.plot_spectrogram_with_bandpower(p2e_spg, p2e_bp.delta, hyp=None, channel=chan, start_time=0, end_time=p2e_spg.time.values.max(), title=\"Delta Power, EEG-\"+str(chan)+\", Exp-2-POST\")\r\n",
    "    b.set_ylim(0, 4000)\r\n",
    "    "
   ],
   "outputs": [],
   "metadata": {
    "execution": {
     "iopub.execute_input": "2021-09-04T01:06:01.366410Z",
     "iopub.status.busy": "2021-09-04T01:06:01.366410Z",
     "iopub.status.idle": "2021-09-04T01:06:05.124770Z",
     "shell.execute_reply": "2021-09-04T01:06:05.123771Z",
     "shell.execute_reply.started": "2021-09-04T01:06:01.366410Z"
    },
    "tags": []
   }
  },
  {
   "cell_type": "markdown",
   "source": [
    "## Scratch"
   ],
   "metadata": {}
  },
  {
   "cell_type": "code",
   "execution_count": null,
   "source": [
    "channels=[1,2,3]\r\n",
    "for chan in channels:\r\n",
    "    b, s = kp.plot_spectrogram_with_bandpower(t1e_spg, t1e_bp.delta, hyp=None, channel=chan, start_time=0, end_time=t1e_spg.time.values.max(), title=\"Delta Power, EEG-\"+str(chan)+\", Sept. 3 Night\")\r\n",
    "    b.set_ylim(0, 4000)"
   ],
   "outputs": [],
   "metadata": {}
  },
  {
   "cell_type": "code",
   "execution_count": null,
   "source": [
    "channels=[1,2,3,4,5,6,7,8,9,10,11,12,13,14,15,16]\r\n",
    "for chan in channels:\r\n",
    "    b, s = kp.plot_spectrogram_with_bandpower(t1f_spg, t1f_bp.delta, hyp=None, channel=chan, start_time=0, end_time=t1f_spg.time.values.max(), title=\"Delta Power, LFP-\"+str(chan)+\", Sept. 3 Night\")\r\n",
    "    #b.set_ylim(0, 4000)"
   ],
   "outputs": [],
   "metadata": {}
  },
  {
   "cell_type": "markdown",
   "source": [
    "# Exp-3"
   ],
   "metadata": {}
  },
  {
   "cell_type": "code",
   "execution_count": null,
   "source": [
    "x3p = \"L:\\Data\\PPT_ACHR_1_TANK\\PPT_ACHR_1-exp3\"\r\n",
    "x3blp = \"L:\\Data\\PPT_ACHR_1_TANK\\PPT_ACHR_1-exp3-bl\"\r\n"
   ],
   "outputs": [],
   "metadata": {}
  },
  {
   "cell_type": "code",
   "execution_count": null,
   "source": [
    "epocs = tdt.read_block(x3p, evtype=['epocs'])"
   ],
   "outputs": [],
   "metadata": {}
  },
  {
   "cell_type": "code",
   "execution_count": null,
   "source": [
    "epocs.epocs.Bn1_"
   ],
   "outputs": [],
   "metadata": {}
  },
  {
   "cell_type": "code",
   "execution_count": null,
   "source": [
    "x3_stims['2.1.on'] = 26040\r\n",
    "x3_stims['2.1.off'] = 26941\r\n",
    "x3_stims['2.2.on'] = 27242\r\n",
    "x3_stims['2.2.off'] = 28144\r\n",
    "x3_stims['2.3.on'] = 28497\r\n",
    "x3_stims['2.3.off'] = 29412"
   ],
   "outputs": [],
   "metadata": {}
  },
  {
   "cell_type": "code",
   "execution_count": null,
   "source": [
    "\"Use get_data_spg to create xset\""
   ],
   "outputs": [],
   "metadata": {}
  },
  {
   "cell_type": "code",
   "execution_count": null,
   "source": [
    "x3_key_list = ['e', 'be', 'f', 'bf', 'e_spg', 'be_spg', 'f_spg', 'bf_spg']"
   ],
   "outputs": [],
   "metadata": {}
  },
  {
   "cell_type": "code",
   "execution_count": null,
   "source": [
    "save_xset(x3, analysis_root=ar)"
   ],
   "outputs": [],
   "metadata": {}
  },
  {
   "cell_type": "code",
   "execution_count": null,
   "source": [
    "x3 = kd.fetch_xset('x3', x3_key_list, ar)"
   ],
   "outputs": [],
   "metadata": {}
  },
  {
   "cell_type": "code",
   "execution_count": null,
   "source": [
    "bp = kd.get_bp_set(x3['e_spg'], bands)['delta']"
   ],
   "outputs": [],
   "metadata": {}
  },
  {
   "cell_type": "markdown",
   "source": [
    "## Plots"
   ],
   "metadata": {}
  },
  {
   "cell_type": "code",
   "execution_count": null,
   "source": [
    "t = x3[\"be_spg\"]"
   ],
   "outputs": [],
   "metadata": {}
  },
  {
   "cell_type": "code",
   "execution_count": null,
   "source": [
    "band='delta'\r\n",
    "channels=[1,2,3]\r\n",
    "for chan in channels:\r\n",
    "    b, s = kp.plot_spectrogram_with_bandpower(x3['be_spg'], bands_def, band, hyp=None, channel=chan, start_time=0, end_time=x3['be_spg'].time.max(), title=band.capitalize()+\" Power, EEG-\"+str(chan)+\", Exp-3 Baseline (9am-9am)\")\r\n",
    "    b.set_ylim(0, 4000)\r\n",
    "    b.axvspan(\r\n",
    "            43200,\r\n",
    "            86400,\r\n",
    "            alpha=0.3,\r\n",
    "            color='midnightblue',\r\n",
    "            zorder=1000,\r\n",
    "            ec=\"none\",\r\n",
    "        )"
   ],
   "outputs": [],
   "metadata": {
    "execution": {
     "iopub.execute_input": "2021-09-03T23:57:28.149484Z",
     "iopub.status.busy": "2021-09-03T23:57:28.149484Z",
     "iopub.status.idle": "2021-09-03T23:57:51.386528Z",
     "shell.execute_reply": "2021-09-03T23:57:51.386528Z",
     "shell.execute_reply.started": "2021-09-03T23:57:28.149484Z"
    },
    "tags": []
   }
  },
  {
   "cell_type": "code",
   "execution_count": null,
   "source": [
    "band='delta'\r\n",
    "for chan in echans:\r\n",
    "    b, s = kp.plot_spectrogram_with_bandpower(x3['e_spg'], bands_def, band, hyp=None, channel=chan, start_time=0, end_time=x3['e_spg'].time.max(), title=band.capitalize()+\" Power, EEG-\"+str(chan)+\", Exp-3 (9am-10am)\")\r\n",
    "    b.set_ylim(0, 4000)\r\n",
    "    b.axvspan(\r\n",
    "            43200,\r\n",
    "            86400,\r\n",
    "            alpha=0.3,\r\n",
    "            color='midnightblue',\r\n",
    "            zorder=1000,\r\n",
    "            ec=\"none\",\r\n",
    "        )\r\n",
    "    b.axvspan(\r\n",
    "            x3_stims[\"s1.start\"],\r\n",
    "            x3_stims[\"s1.stop\"],\r\n",
    "            alpha=0.3,\r\n",
    "            color='lightskyblue',\r\n",
    "            zorder=1000,\r\n",
    "            ec=\"none\",\r\n",
    "        )\r\n",
    "    b.axvspan(\r\n",
    "            x3_stims[\"s2.start\"],\r\n",
    "            x3_stims[\"s2.stop\"],\r\n",
    "            alpha=0.3,\r\n",
    "            color='lightskyblue',\r\n",
    "            zorder=1000,\r\n",
    "            ec=\"none\",\r\n",
    "        )\r\n",
    "    b.axvspan(\r\n",
    "            x3_stims[\"s3.start\"],\r\n",
    "            x3_stims[\"s3.stop\"],\r\n",
    "            alpha=0.3,\r\n",
    "            color='lightskyblue',\r\n",
    "            zorder=1000,\r\n",
    "            ec=\"none\",\r\n",
    "        )"
   ],
   "outputs": [],
   "metadata": {}
  },
  {
   "cell_type": "markdown",
   "source": [
    "### EEG-plots"
   ],
   "metadata": {}
  },
  {
   "cell_type": "code",
   "execution_count": null,
   "source": [
    "band='delta'\r\n",
    "chans = [1,2,3]\r\n",
    "for chan in chans:\r\n",
    "    b, s = kp.plot_spectrogram_with_bandpower(x3['e_spg'], bands_def, band, hyp=None, channel=chan, start_time=30100, end_time=32000, title=band.capitalize()+\" Power, EEG-\"+str(chan)+\", Exp-3, Stimulation #3\")\r\n",
    "    b.set_ylim(0, 4000)\r\n",
    "    for on in ons:\r\n",
    "        b.axvline(x=on, alpha=0.05, color='lightskyblue')\r\n",
    "    "
   ],
   "outputs": [],
   "metadata": {}
  },
  {
   "cell_type": "code",
   "execution_count": null,
   "source": [
    "band='delta'\r\n",
    "chans = [3,9,16]\r\n",
    "for chan in echans:\r\n",
    "    b, s = kp.plot_spectrogram_with_bandpower(x3['e_spg'], bands_def, band, hyp=None, channel=chan, start_time=30000, end_time=40000, title=band.capitalize()+\" Power, EEG-\"+str(chan)+\", Exp-3, Stimulation #4\")\r\n",
    "    b.set_ylim(0, 4000)\r\n",
    "    b.axvspan(\r\n",
    "            x3_stims[\"s4.start\"],\r\n",
    "            x3_stims[\"s4.stop\"],\r\n",
    "            alpha=0.3,\r\n",
    "            color='lightskyblue',\r\n",
    "            zorder=1000,\r\n",
    "            ec=\"none\",\r\n",
    "        )"
   ],
   "outputs": [],
   "metadata": {}
  },
  {
   "cell_type": "code",
   "execution_count": null,
   "source": [
    "band='delta'\r\n",
    "chans = [3,9,16]\r\n",
    "for chan in echans:\r\n",
    "    b, s = kp.plot_spectrogram_with_bandpower(x3['e_spg'], bands_def, band, hyp=None, channel=chan, start_time=23000, end_time=33000, title=band.capitalize()+\" Power, EEG-\"+str(chan)+\", Exp-3, Stimulation #2\")\r\n",
    "    b.set_ylim(0, 4000)\r\n",
    "    b.axvspan(\r\n",
    "            x3_stims[\"2.1.on\"],\r\n",
    "            x3_stims[\"2.1.off\"],\r\n",
    "            alpha=0.3,\r\n",
    "            color='lightskyblue',\r\n",
    "            zorder=1000,\r\n",
    "            ec=\"none\",\r\n",
    "        )\r\n",
    "    b.axvspan(\r\n",
    "            x3_stims[\"2.2.on\"],\r\n",
    "            x3_stims[\"2.2.off\"],\r\n",
    "            alpha=0.3,\r\n",
    "            color='lightskyblue',\r\n",
    "            zorder=1000,\r\n",
    "            ec=\"none\",\r\n",
    "        )\r\n",
    "    b.axvspan(\r\n",
    "            x3_stims[\"2.3.on\"],\r\n",
    "            x3_stims[\"2.3.off\"],\r\n",
    "            alpha=0.3,\r\n",
    "            color='lightskyblue',\r\n",
    "            zorder=1000,\r\n",
    "            ec=\"none\",\r\n",
    "        )"
   ],
   "outputs": [],
   "metadata": {}
  },
  {
   "cell_type": "markdown",
   "source": [
    "### LFP-Plots"
   ],
   "metadata": {}
  },
  {
   "cell_type": "code",
   "execution_count": null,
   "source": [
    "band='delta'\r\n",
    "chans = [3,9,16]\r\n",
    "for chan in chans:\r\n",
    "    b, s = kp.plot_spectrogram_with_bandpower(x3['bf_spg'], bands_def, band, hyp=None, channel=chan, start_time=0, end_time=x3['bf_spg'].time.max(), title=band.capitalize()+\" Power, LFP-\"+str(chan)+\", Exp-3 Baseline (9am-9am)\")\r\n",
    "    b.set_ylim(0, 130000)\r\n",
    "    b.axvspan(\r\n",
    "            43200,\r\n",
    "            86400,\r\n",
    "            alpha=0.3,\r\n",
    "            color='midnightblue',\r\n",
    "            zorder=1000,\r\n",
    "            ec=\"none\",\r\n",
    "        )"
   ],
   "outputs": [],
   "metadata": {}
  },
  {
   "cell_type": "code",
   "execution_count": null,
   "source": [
    "band='delta'\r\n",
    "chans = [3,9,16]\r\n",
    "for chan in chans:\r\n",
    "    b, s = kp.plot_spectrogram_with_bandpower(x3['f_spg'], bands_def, band, hyp=None, channel=chan, start_time=30100, end_time=32000, title=band.capitalize()+\" Power, LFP-\"+str(chan)+\", Exp-3, Stimulation #3\")\r\n",
    "    b.set_ylim(0, 130000)\r\n",
    "    for on in ons:\r\n",
    "        b.axvline(x=on, alpha=0.05, color='lightskyblue')\r\n",
    "    "
   ],
   "outputs": [],
   "metadata": {}
  },
  {
   "cell_type": "code",
   "execution_count": null,
   "source": [
    "band='delta'\r\n",
    "chans = [3,9,16]\r\n",
    "for chan in chans:\r\n",
    "    b, s = kp.plot_spectrogram_with_bandpower(x3['f_spg'], bands_def, band, hyp=None, channel=chan, start_time=0, end_time=x3['f_spg'].time.max(), title=band.capitalize()+\" Power, LFP-\"+str(chan)+\", Exp-3 (9am-10am)\")\r\n",
    "    b.set_ylim(0, 130000)\r\n",
    "    b.axvspan(\r\n",
    "            43200,\r\n",
    "            86400,\r\n",
    "            alpha=0.3,\r\n",
    "            color='midnightblue',\r\n",
    "            zorder=1000,\r\n",
    "            ec=\"none\",\r\n",
    "        )\r\n",
    "    b.axvspan(\r\n",
    "            x3_stims[\"s1.start\"],\r\n",
    "            x3_stims[\"s1.stop\"],\r\n",
    "            alpha=0.3,\r\n",
    "            color='lightskyblue',\r\n",
    "            zorder=1000,\r\n",
    "            ec=\"none\",\r\n",
    "        )\r\n",
    "    b.axvspan(\r\n",
    "            x3_stims[\"s2.start\"],\r\n",
    "            x3_stims[\"s2.stop\"],\r\n",
    "            alpha=0.3,\r\n",
    "            color='lightskyblue',\r\n",
    "            zorder=1000,\r\n",
    "            ec=\"none\",\r\n",
    "        )\r\n",
    "    b.axvspan(\r\n",
    "            x3_stims[\"s3.start\"],\r\n",
    "            x3_stims[\"s3.stop\"],\r\n",
    "            alpha=0.3,\r\n",
    "            color='lightskyblue',\r\n",
    "            zorder=1000,\r\n",
    "            ec=\"none\",\r\n",
    "        )"
   ],
   "outputs": [],
   "metadata": {}
  },
  {
   "cell_type": "code",
   "execution_count": null,
   "source": [
    "x3_stims[\"s2.stop\"]"
   ],
   "outputs": [],
   "metadata": {}
  },
  {
   "cell_type": "code",
   "execution_count": null,
   "source": [
    "band='delta'\r\n",
    "chans = [3,9,16]\r\n",
    "for chan in chans:\r\n",
    "    b, s = kp.plot_spectrogram_with_bandpower(x3['f_spg'], bands_def, band, hyp=None, channel=chan, start_time=23000, end_time=33000, title=band.capitalize()+\" Power, LFP-\"+str(chan)+\", Exp-3, Stimulation #2\")\r\n",
    "    b.set_ylim(0, 130000)\r\n",
    "    b.axvspan(\r\n",
    "            x3_stims[\"2.1.on\"],\r\n",
    "            x3_stims[\"2.1.off\"],\r\n",
    "            alpha=0.3,\r\n",
    "            color='lightskyblue',\r\n",
    "            zorder=1000,\r\n",
    "            ec=\"none\",\r\n",
    "        )\r\n",
    "    b.axvspan(\r\n",
    "            x3_stims[\"2.2.on\"],\r\n",
    "            x3_stims[\"2.2.off\"],\r\n",
    "            alpha=0.3,\r\n",
    "            color='lightskyblue',\r\n",
    "            zorder=1000,\r\n",
    "            ec=\"none\",\r\n",
    "        )\r\n",
    "    b.axvspan(\r\n",
    "            x3_stims[\"2.3.on\"],\r\n",
    "            x3_stims[\"2.3.off\"],\r\n",
    "            alpha=0.3,\r\n",
    "            color='lightskyblue',\r\n",
    "            zorder=1000,\r\n",
    "            ec=\"none\",\r\n",
    "        )"
   ],
   "outputs": [],
   "metadata": {}
  },
  {
   "cell_type": "code",
   "execution_count": null,
   "source": [
    "band='delta'\r\n",
    "chans = [3,9,16]\r\n",
    "for chan in chans:\r\n",
    "    b, s = kp.plot_spectrogram_with_bandpower(x3['f_spg'], bands_def, band, hyp=None, channel=chan, start_time=30000, end_time=40000, title=band.capitalize()+\" Power, LFP-\"+str(chan)+\", Exp-3, Stimulation #4\")\r\n",
    "    b.set_ylim(0, 130000)\r\n",
    "    b.axvspan(\r\n",
    "            x3_stims[\"s4.start\"],\r\n",
    "            x3_stims[\"s4.stop\"],\r\n",
    "            alpha=0.3,\r\n",
    "            color='lightskyblue',\r\n",
    "            zorder=1000,\r\n",
    "            ec=\"none\",\r\n",
    "        )"
   ],
   "outputs": [],
   "metadata": {}
  },
  {
   "cell_type": "markdown",
   "source": [
    "# Exp-4"
   ],
   "metadata": {}
  },
  {
   "cell_type": "code",
   "execution_count": null,
   "source": [
    "e4p = \"L:\\Data\\PPT_ACHR_1_TANK\\PPT_ACHR_1-exp4\""
   ],
   "outputs": [],
   "metadata": {}
  },
  {
   "cell_type": "code",
   "execution_count": null,
   "source": [
    "a1x4 = {}\r\n",
    "a1x4['e'], a1x4['e_spg'] = kd.get_data_spg(e4p, store='EEGr', t1=0, t2=0, channel=kd_ref['echans'])\r\n",
    "a1x4['f'], a1x4['f_spg'] = kd.get_data_spg(e4p, store='LFP_', t1=0, t2=0, channel=kd_ref['fchans'])"
   ],
   "outputs": [],
   "metadata": {}
  },
  {
   "cell_type": "code",
   "execution_count": null,
   "source": [
    "a1x4['epocs'] = tdt.read_block(e4p, evtype=['epocs'])"
   ],
   "outputs": [],
   "metadata": {}
  },
  {
   "cell_type": "code",
   "execution_count": null,
   "source": [
    "a1x4['onset'] = 2487.19306752\r\n",
    "a1x4['offset'] = 16887.86915328"
   ],
   "outputs": [],
   "metadata": {}
  },
  {
   "cell_type": "code",
   "execution_count": null,
   "source": [
    "a1x4['name'] = 'a1x4'\r\n",
    "\r\n",
    "kd.save_xset(a1x4, kd_ref['analysis_root'])"
   ],
   "outputs": [],
   "metadata": {}
  },
  {
   "cell_type": "code",
   "execution_count": null,
   "source": [
    "kl4 = kd.get_key_list(a1x4)\r\n",
    "kd.save_key_list(kl4)"
   ],
   "outputs": [],
   "metadata": {}
  },
  {
   "cell_type": "code",
   "execution_count": null,
   "source": [
    "a1x4['e'].datetime.max()"
   ],
   "outputs": [],
   "metadata": {}
  },
  {
   "cell_type": "code",
   "execution_count": null,
   "source": [
    "band='delta'\r\n",
    "for chan in kd_ref['echans']:\r\n",
    "    b, s = kp.plot_spectrogram_with_bandpower(a1x4['e_spg'], bands_def, band, hyp=None, channel=chan, start_time=0, end_time=a1x4['e_spg'].time.max(), title=band.capitalize()+\" Power, EEG-\"+str(chan)+\", Exp-4 (4-Hr Stim)\")\r\n",
    "    b.set_ylim(0, 4000)\r\n",
    "    b.axvspan(\r\n",
    "            a1x4['onset'],\r\n",
    "            a1x4['offset'],\r\n",
    "            alpha=0.3,\r\n",
    "            color='lightskyblue',\r\n",
    "            zorder=1000,\r\n",
    "            ec=\"none\",\r\n",
    "        )\r\n",
    "    b.axvspan(\r\n",
    "            43200,\r\n",
    "            86400,\r\n",
    "            alpha=0.3,\r\n",
    "            color='midnightblue',\r\n",
    "            zorder=1000,\r\n",
    "            ec=\"none\",\r\n",
    "        )\r\n",
    "    b.axvspan(\r\n",
    "            129600,\r\n",
    "            172800,\r\n",
    "            alpha=0.3,\r\n",
    "            color='midnightblue',\r\n",
    "            zorder=1000,\r\n",
    "            ec=\"none\",\r\n",
    "        )"
   ],
   "outputs": [],
   "metadata": {}
  },
  {
   "cell_type": "code",
   "execution_count": null,
   "source": [
    "plt.close('all')\r\n",
    "band='delta'\r\n",
    "for chan in kd_ref['echans']:\r\n",
    "    b, s = kp.plot_spectrogram_with_bandpower(a1x4['e_spg'], bands_def, band, hyp=None, channel=chan, start_time=0, end_time=43200, title=band.capitalize()+\" Power, EEG-\"+str(chan)+\", Exp-4 (4-Hr Stim)\")\r\n",
    "    b.set_ylim(0, 4000)\r\n",
    "    b.axvspan(\r\n",
    "            a1x4['onset'],\r\n",
    "            a1x4['offset'],\r\n",
    "            alpha=0.3,\r\n",
    "            color='lightskyblue',\r\n",
    "            zorder=1000,\r\n",
    "            ec=\"none\",\r\n",
    "        )"
   ],
   "outputs": [],
   "metadata": {}
  },
  {
   "cell_type": "code",
   "execution_count": null,
   "source": [
    "plt.close('all')\r\n",
    "band='delta'\r\n",
    "for chan in [3,11,16]:\r\n",
    "    b, s = kp.plot_spectrogram_with_bandpower(a1x4['f_spg'], bands_def, band, hyp=None, channel=chan, start_time=0, end_time=43200, title=band.capitalize()+\" Power, LFP-\"+str(chan)+\", Exp-4 (4-Hr Stim)\")\r\n",
    "    b.set_ylim(0, 120000)\r\n",
    "    b.axvspan(\r\n",
    "            a1x4['onset'],\r\n",
    "            a1x4['offset'],\r\n",
    "            alpha=0.3,\r\n",
    "            color='lightskyblue',\r\n",
    "            zorder=1000,\r\n",
    "            ec=\"none\",\r\n",
    "        )"
   ],
   "outputs": [],
   "metadata": {}
  }
 ],
 "metadata": {
  "interpreter": {
   "hash": "f43608876f49eb59662039e914f1622581ce242a9f40390c01ad83dbb0e66dc9"
  },
  "kernelspec": {
   "name": "python3",
   "display_name": "Python 3.9.6 64-bit ('ecephys': conda)"
  },
  "language_info": {
   "codemirror_mode": {
    "name": "ipython",
    "version": 3
   },
   "file_extension": ".py",
   "mimetype": "text/x-python",
   "name": "python",
   "nbconvert_exporter": "python",
   "pygments_lexer": "ipython3",
   "version": "3.9.6"
  }
 },
 "nbformat": 4,
 "nbformat_minor": 5
}
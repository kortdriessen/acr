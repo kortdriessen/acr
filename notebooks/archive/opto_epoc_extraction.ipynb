{
 "cells": [
  {
   "cell_type": "code",
   "execution_count": 1,
   "metadata": {},
   "outputs": [],
   "source": [
    "%matplotlib widget"
   ]
  },
  {
   "cell_type": "code",
   "execution_count": 1,
   "metadata": {},
   "outputs": [],
   "source": [
    "import numpy as np\n",
    "import pandas as pd\n",
    "import tdt\n",
    "from pathlib import Path\n",
    "import matplotlib.pyplot as plt\n",
    "\n",
    "from neurodsp.plts.time_series import plot_time_series\n",
    "from ripple_detection.core import gaussian_smooth"
   ]
  },
  {
   "cell_type": "code",
   "execution_count": 4,
   "metadata": {},
   "outputs": [],
   "source": [
    "# Setup paths\n",
    "opto_block_path = '/Volumes/opto_loc/Data/ACHR_3/ACHR_3_TANK/ACHR_3-calibration_pulses'"
   ]
  },
  {
   "cell_type": "code",
   "execution_count": 5,
   "metadata": {},
   "outputs": [
    {
     "name": "stdout",
     "output_type": "stream",
     "text": [
      "read from t=0s to t=1982.87s\n"
     ]
    }
   ],
   "source": [
    "# Load epoc data\n",
    "td = tdt.read_block(opto_block_path, evtype=['epocs'])"
   ]
  },
  {
   "cell_type": "code",
   "execution_count": 9,
   "id": "670286e3",
   "metadata": {},
   "outputs": [
    {
     "data": {
      "text/plain": [
       "name:\t'Bttn'\n",
       "onset:\tarray([  36.5201408 ,  395.5040256 ,  490.70768128,  566.81271296,\n",
       "        706.79146496,  830.4766976 ,  923.49673472, 1028.20081664,\n",
       "       1110.9107712 , 1327.42586368, 1545.248768  , 1675.74687744,\n",
       "       1883.81134848, 1932.29529088])\n",
       "offset:\tarray([  44.67318784,  405.45959936,  500.8795648 ,  579.9778304 ,\n",
       "        722.7445248 ,  846.68178432,  933.69434112, 1039.62898432,\n",
       "       1124.67083264, 1338.58095104, 1557.34888448, 1689.2106752 ,\n",
       "       1899.46650624, 1934.14119424])\n",
       "type:\t'onset'\n",
       "type_str:\t'epocs'\n",
       "data:\tarray([1., 1., 1., 1., 1., 1., 1., 1., 1., 1., 1., 1., 1., 1.])\n",
       "dform:\t4\n",
       "size:\t10"
      ]
     },
     "execution_count": 9,
     "metadata": {},
     "output_type": "execute_result"
    }
   ],
   "source": [
    "td.epocs.Bttn"
   ]
  },
  {
   "cell_type": "code",
   "execution_count": 10,
   "metadata": {},
   "outputs": [],
   "source": [
    "#extract the TDT onset times\n",
    "ons = td.epocs.Bttn.onset"
   ]
  },
  {
   "cell_type": "code",
   "execution_count": 11,
   "metadata": {},
   "outputs": [],
   "source": [
    "# Extract the true onset times\n",
    "idx = 0\n",
    "true_ons = [0]\n",
    "for i in ons:\n",
    "    if idx == 0:\n",
    "        true_ons.append(i)\n",
    "    elif (i-ons[idx-1]) > 10:\n",
    "        true_ons.append(i)\n",
    "    idx = idx + 1"
   ]
  },
  {
   "cell_type": "code",
   "execution_count": 12,
   "metadata": {},
   "outputs": [
    {
     "data": {
      "text/plain": [
       "(14,)"
      ]
     },
     "execution_count": 12,
     "metadata": {},
     "output_type": "execute_result"
    }
   ],
   "source": [
    "ons.shape"
   ]
  },
  {
   "cell_type": "code",
   "execution_count": 13,
   "metadata": {},
   "outputs": [
    {
     "data": {
      "text/plain": [
       "[(0, 0),\n",
       " (1, 36.5201408),\n",
       " (2, 395.50402560000003),\n",
       " (3, 490.70768128000003),\n",
       " (4, 566.81271296),\n",
       " (5, 706.79146496),\n",
       " (6, 830.4766976),\n",
       " (7, 923.4967347200001),\n",
       " (8, 1028.20081664),\n",
       " (9, 1110.9107712),\n",
       " (10, 1327.42586368),\n",
       " (11, 1545.248768),\n",
       " (12, 1675.74687744),\n",
       " (13, 1883.81134848),\n",
       " (14, 1932.29529088)]"
      ]
     },
     "execution_count": 13,
     "metadata": {},
     "output_type": "execute_result"
    }
   ],
   "source": [
    "list(enumerate(true_ons))"
   ]
  },
  {
   "cell_type": "code",
   "execution_count": null,
   "metadata": {},
   "outputs": [],
   "source": []
  },
  {
   "cell_type": "code",
   "execution_count": 7,
   "metadata": {},
   "outputs": [],
   "source": [
    "# Convert true onset times back into ndarry, and get rid of 0 in the first position, to give an array with ONLY the true onset times. \n",
    "true_onss = np.array(true_ons)\n",
    "true_onss = np.delete(true_onss, 0, 0)"
   ]
  },
  {
   "cell_type": "code",
   "execution_count": 8,
   "metadata": {},
   "outputs": [
    {
     "data": {
      "text/plain": [
       "array([16325.97737472, 16451.73813248, 16562.07089664, 16742.17017344,\n",
       "       17213.66188032, 18192.34168832, 18576.96456704])"
      ]
     },
     "execution_count": 8,
     "metadata": {},
     "output_type": "execute_result"
    }
   ],
   "source": [
    "true_onss"
   ]
  }
 ],
 "metadata": {
  "interpreter": {
   "hash": "f43608876f49eb59662039e914f1622581ce242a9f40390c01ad83dbb0e66dc9"
  },
  "kernelspec": {
   "display_name": "Python 3.9.6 64-bit ('ecephys': conda)",
   "name": "python3"
  },
  "language_info": {
   "codemirror_mode": {
    "name": "ipython",
    "version": 3
   },
   "file_extension": ".py",
   "mimetype": "text/x-python",
   "name": "python",
   "nbconvert_exporter": "python",
   "pygments_lexer": "ipython3",
   "version": "3.9.7"
  }
 },
 "nbformat": 4,
 "nbformat_minor": 5
}

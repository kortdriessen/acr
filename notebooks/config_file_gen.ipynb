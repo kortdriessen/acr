{
 "cells": [
  {
   "cell_type": "code",
   "execution_count": 10,
   "metadata": {},
   "outputs": [],
   "source": [
    "%reload_ext autoreload\n",
    "%autoreload 2"
   ]
  },
  {
   "cell_type": "code",
   "execution_count": 1,
   "metadata": {},
   "outputs": [
    {
     "name": "stderr",
     "output_type": "stream",
     "text": [
      "/home/kdriessen/github_t2/kdephys/kdephys/xr/utils.py:4: DeprecationWarning: Please use `gaussian_filter1d` from the `scipy.ndimage` namespace, the `scipy.ndimage.filters` namespace is deprecated.\n",
      "  from scipy.ndimage.filters import gaussian_filter1d\n"
     ]
    }
   ],
   "source": [
    "\n",
    "import yaml\n",
    "from pathlib import Path\n",
    "import acr.utils as acu"
   ]
  },
  {
   "cell_type": "code",
   "execution_count": 5,
   "metadata": {},
   "outputs": [
    {
     "data": {
      "text/plain": [
       "{'EMGdatapath': None,\n",
       " 'datasets': [{'binPath': 'L:\\\\Data\\\\ACR_12\\\\ACR_12-control1-bl',\n",
       "   'chanLabelsMap': None,\n",
       "   'chanList': ['EMGr-1',\n",
       "    'EEG_-1',\n",
       "    'EEG_-2',\n",
       "    'LFP_-2',\n",
       "    'LFP_-4',\n",
       "    'LFP_-6',\n",
       "    'LFP_-8',\n",
       "    'LFP_-12',\n",
       "    'LFP_-15'],\n",
       "   'datatype': 'TDT',\n",
       "   'name': None}],\n",
       " 'downSample': 100.0,\n",
       " 'ds_method': 'interpolation',\n",
       " 'kwargs_sleep': {'states_config_file': 'L:\\\\Data\\\\ACR_PROJECT_MATERIALS\\\\states_config.yml'},\n",
       " 'tEnd': 7200,\n",
       " 'tStart': 0}"
      ]
     },
     "execution_count": 5,
     "metadata": {},
     "output_type": "execute_result"
    }
   ],
   "source": [
    "#quick editing/exploration\n",
    "dp = f'/Volumes/opto_loc/Data/ACR_PROJECT_MATERIALS/ACR_12/config-files/'\n",
    "file = f'ACR_12_sleepscore-config_control1-bl-chunk1'\n",
    "fp = f'{dp}{file}.yml'\n",
    "with open(fp) as f:\n",
    "        data = yaml.load(f, Loader=yaml.FullLoader)\n",
    "data"
   ]
  },
  {
   "cell_type": "code",
   "execution_count": 17,
   "metadata": {},
   "outputs": [],
   "source": [
    "acu.gen_config(subject='ACR_13', chunks=10, chunk_length=3600, start_from=14027, exp='laser1', chans=[\"EMGr-1\", \"EEG_-1\", \"EEG_-2\", \"LFP_-3\", \"LFP_-13\", \"LFPo-3\", \"LFPo-13\"])"
   ]
  },
  {
   "cell_type": "code",
   "execution_count": null,
   "metadata": {},
   "outputs": [],
   "source": [
    "acu.gen_config(subject='ACR_13', chunks=10, chunk_length=3600, start_from=14027, exp='laser1', chans=[\"EMGr-1\", \"EEG_-1\", \"EEG_-2\", \"LFP_-3\", \"LFP_-13\", \"LFPo-3\", \"LFPo-13\"])"
   ]
  },
  {
   "cell_type": "code",
   "execution_count": 25,
   "metadata": {},
   "outputs": [],
   "source": [
    "acu.gen_config(subject='ACR_13', chunks=6, chunk_length=7200, start_from=0, exp='laser1-post1', chans=[\"EMGr-1\", \"EEG_-1\", \"EEG_-2\", \"LFP_-3\", \"LFP_-13\", \"LFPo-3\", \"LFPo-13\"])"
   ]
  },
  {
   "cell_type": "code",
   "execution_count": 26,
   "metadata": {},
   "outputs": [
    {
     "name": "stderr",
     "output_type": "stream",
     "text": [
      "/home/kdriessen/github_t2/kdephys/kdephys/xr/ecx.py:4: FutureWarning: xarray subclass ecxa should explicitly define __slots__\n",
      "  class ecxa(xr.DataArray):\n"
     ]
    }
   ],
   "source": [
    "acu.gen_config(subject='ACR_13', chunks=12, chunk_length=7200, start_from=0, exp='laser1-bl', chans=[\"EMGr-1\", \"EEG_-1\", \"EEG_-2\", \"LFP_-3\", \"LFP_-13\", \"LFPo-3\", \"LFPo-13\"])"
   ]
  },
  {
   "cell_type": "code",
   "execution_count": 3,
   "metadata": {},
   "outputs": [],
   "source": [
    "acu.gen_config(subject='ACR_13', chunks=9, chunk_length=7200, start_from=0, exp='laser1-post1', chans=[\"EMGr-1\", \"EEG_-1\", \"EEG_-2\", \"LFP_-3\", \"LFP_-13\", \"LFPo-3\", \"LFPo-13\"])"
   ]
  },
  {
   "cell_type": "code",
   "execution_count": 18,
   "metadata": {},
   "outputs": [],
   "source": [
    "acu.gen_config(subject='ACR_14', chunks=10, chunk_length=3600, start_from=13999, exp='laser1', chans=[\"EMGr-1\", \"EEG_-1\", \"EEG_-2\", \"LFP_-2\", \"LFP_-14\", \"LFPo-2\", \"LFPo-14\"])"
   ]
  },
  {
   "cell_type": "code",
   "execution_count": 4,
   "metadata": {},
   "outputs": [],
   "source": [
    "acu.gen_config(subject='ACR_13', chunks=6, chunk_length=7200, start_from=0, exp='sdpi', chans=[\"EMGr-1\", \"EEG_-1\", \"EEG_-2\", \"LFP_-3\", \"LFP_-13\", \"LFPo-3\", \"LFPo-13\"])"
   ]
  },
  {
   "cell_type": "code",
   "execution_count": 3,
   "metadata": {},
   "outputs": [],
   "source": [
    "acu.gen_config(subject='ACR_13', chunks=6, chunk_length=7200, start_from=0, exp='sdpi-bl', chans=[\"EMGr-1\", \"EEG_-1\", \"EEG_-2\", \"LFP_-3\", \"LFP_-13\", \"LFPo-3\", \"LFPo-13\"])"
   ]
  },
  {
   "cell_type": "code",
   "execution_count": 5,
   "metadata": {},
   "outputs": [],
   "source": [
    "acu.gen_config(subject='ACR_14', chunks=6, chunk_length=7200, start_from=0, exp='sdpi', chans=[\"EMGr-1\", \"EEG_-1\", \"EEG_-2\", \"LFP_-2\", \"LFP_-14\", \"LFPo-2\", \"LFPo-14\"])"
   ]
  },
  {
   "cell_type": "code",
   "execution_count": 2,
   "metadata": {},
   "outputs": [],
   "source": [
    "acu.gen_config(subject='ACR_14', chunks=6, chunk_length=7200, start_from=0, exp='sdpi-bl', chans=[\"EMGr-1\", \"EEG_-1\", \"EEG_-2\", \"LFP_-2\", \"LFP_-14\", \"LFPo-2\", \"LFPo-14\"])"
   ]
  },
  {
   "cell_type": "code",
   "execution_count": 4,
   "metadata": {},
   "outputs": [],
   "source": [
    "acu.gen_config(subject='ACR_14', chunks=6, chunk_length=7200, start_from=0, exp='swi-bl', chans=[\"EMGr-1\", \"EEG_-1\", \"EEG_-2\", \"LFP_-2\", \"LFP_-14\", \"LFPo-2\", \"LFPo-14\"])"
   ]
  },
  {
   "cell_type": "code",
   "execution_count": 5,
   "metadata": {},
   "outputs": [],
   "source": [
    "acu.gen_config(subject='ACR_14', chunks=6, chunk_length=7200, start_from=0, exp='swi', chans=[\"EMGr-1\", \"EEG_-1\", \"EEG_-2\", \"LFP_-2\", \"LFP_-14\", \"LFPo-2\", \"LFPo-14\"])"
   ]
  },
  {
   "cell_type": "code",
   "execution_count": 6,
   "metadata": {},
   "outputs": [],
   "source": [
    "acu.gen_config(subject='ACR_14', chunks=3, chunk_length=7200, start_from=0, exp='swi-sd', chans=[\"EMGr-1\", \"EEG_-1\", \"EEG_-2\", \"LFP_-2\", \"LFP_-14\", \"LFPo-2\", \"LFPo-14\"])"
   ]
  },
  {
   "cell_type": "code",
   "execution_count": null,
   "metadata": {},
   "outputs": [],
   "source": []
  }
 ],
 "metadata": {
  "kernelspec": {
   "display_name": "Python 3.10.6 ('acr')",
   "language": "python",
   "name": "python3"
  },
  "language_info": {
   "codemirror_mode": {
    "name": "ipython",
    "version": 3
   },
   "file_extension": ".py",
   "mimetype": "text/x-python",
   "name": "python",
   "nbconvert_exporter": "python",
   "pygments_lexer": "ipython3",
   "version": "3.10.6"
  },
  "orig_nbformat": 4,
  "vscode": {
   "interpreter": {
    "hash": "8452ab91a3948d5467ebd39dafa915e230ab5ad1e9d110d083c75b8319b6ff58"
   }
  }
 },
 "nbformat": 4,
 "nbformat_minor": 2
}

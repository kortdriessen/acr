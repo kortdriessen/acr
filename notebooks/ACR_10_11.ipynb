{
 "cells": [
  {
   "cell_type": "code",
   "execution_count": 2,
   "metadata": {},
   "outputs": [],
   "source": [
    "%matplotlib widget\n",
    "%reload_ext autoreload\n",
    "%autoreload 2\n",
    "\n",
    "import numpy as np\n",
    "import pandas as pd\n",
    "import tdt\n",
    "from pathlib import Path\n",
    "import matplotlib.pyplot as plt\n",
    "import seaborn as sns\n",
    "import yaml\n",
    "import xarray as xr\n",
    "\n",
    "import kd_analysis.main.kd_utils as kd\n",
    "import kd_analysis.main.kd_plotting as kp\n",
    "import kd_analysis.main.kd_hypno as kh\n",
    "import kd_analysis.main.kd_pandas as kpd\n",
    "import sleep_score_for_me.v4 as ssfm\n",
    "\n",
    "import plotly.express as px\n",
    "import plotly.io as pio\n",
    "pio.templates.default = \"plotly_dark\"\n",
    "\n",
    "bp_def = dict(delta1=(0.75, 1.75), delta2=(2.5, 3.5), delta=(0.75, 4), theta=(4, 8), alpha = (8, 13), sigma = (11, 16), beta = (13, 30), low_gamma = (30, 55), high_gamma = (65, 90))\n",
    "bands = list(bp_def.keys())"
   ]
  },
  {
   "cell_type": "code",
   "execution_count": 8,
   "metadata": {},
   "outputs": [],
   "source": [
    "import sys\n",
    "sys.path.append(\"..\")\n",
    "\n",
    "import acr_mod.acr_utils as au\n",
    "import acr_mod.subjects as sub"
   ]
  },
  {
   "cell_type": "code",
   "execution_count": null,
   "metadata": {},
   "outputs": [],
   "source": [
    "a10_info = sub.a10_info\n",
    "a11_info = sub.a11_info\n",
    "\n",
    "a10_bp = acu.load_dataset(a10_info, '-bp')\n",
    "a10_hyp = acu.load_dataset(a10_info, '-hyp')\n",
    "a11_bp = acu.load_dataset(a11_info, '-bp')\n",
    "a11_hyp = acu.load_dataset(a11_info, '-hyp')"
   ]
  },
  {
   "cell_type": "code",
   "execution_count": null,
   "metadata": {},
   "outputs": [],
   "source": [
    "b1 = tdt.read_block('/Volumes/opto_loc/Data/headstage_probe_tests/headstage_B1/', t1=0, t2=0)\n",
    "b2 = tdt.read_block('/Volumes/opto_loc/Data/headstage_probe_tests/headstage_B2/', t1=0, t2=0)"
   ]
  },
  {
   "cell_type": "code",
   "execution_count": null,
   "metadata": {},
   "outputs": [],
   "source": [
    "chans = list(np.arange(1, 17))"
   ]
  },
  {
   "cell_type": "code",
   "execution_count": null,
   "metadata": {},
   "outputs": [],
   "source": [
    "b1= kd.load_sev_store('/Volumes/opto_loc/Data/headstage_probe_tests/headstage_B1/', t1=0, t2=0, channel=chans, store='Wav1')\n",
    "b2 = kd.load_sev_store('/Volumes/opto_loc/Data/headstage_probe_tests/headstage_B2/', t1=0, t2=0, channel=chans, store='Wav1')"
   ]
  },
  {
   "cell_type": "code",
   "execution_count": null,
   "metadata": {},
   "outputs": [],
   "source": [
    "b1.sel(channel=2).plot()"
   ]
  },
  {
   "cell_type": "code",
   "execution_count": null,
   "metadata": {},
   "outputs": [],
   "source": [
    "b2.sel(channel=2).plot()"
   ]
  },
  {
   "cell_type": "markdown",
   "metadata": {},
   "source": [
    "# Raw Delta"
   ]
  },
  {
   "cell_type": "code",
   "execution_count": null,
   "metadata": {},
   "outputs": [],
   "source": [
    "px.line(a10_bp['laser1'], x='datetime', y='delta', color='channel', title='ACR_10 Delta Rebound')"
   ]
  },
  {
   "cell_type": "code",
   "execution_count": null,
   "metadata": {},
   "outputs": [],
   "source": [
    "px.line(a11_bp['laser1'].filt_state(['NREM']), x='datetime', y='delta', color='channel', title='ACR_11 Delta Rebound')"
   ]
  },
  {
   "cell_type": "markdown",
   "metadata": {},
   "source": [
    "# Relative to Baseline "
   ]
  },
  {
   "cell_type": "code",
   "execution_count": null,
   "metadata": {},
   "outputs": [],
   "source": [
    "def r2bl(data)"
   ]
  },
  {
   "cell_type": "code",
   "execution_count": null,
   "metadata": {},
   "outputs": [],
   "source": [
    "means = a10_bp['laser1-bl'].filt_state(['NREM']).groupby('channel').mean()\n",
    "means.delta\n",
    "a10_bp['laser1-rel'] = (a10_bp['laser1'].set_index(['datetime', 'channel'])/means).reset_index()\n",
    "a10_bp['laser1-rel']['state'] = a10_bp['laser1']['state']"
   ]
  },
  {
   "cell_type": "code",
   "execution_count": null,
   "metadata": {},
   "outputs": [],
   "source": [
    "means = a11_bp['laser1-bl'].filt_state(['NREM']).groupby('channel').mean()\n",
    "means.delta\n",
    "a11_bp['laser1-rel'] = (a11_bp['laser1'].set_index(['datetime', 'channel'])/means).reset_index()\n",
    "a11_bp['laser1-rel']['state'] = a11_bp['laser1']['state']"
   ]
  },
  {
   "cell_type": "markdown",
   "metadata": {},
   "source": [
    "## ACR_10"
   ]
  },
  {
   "cell_type": "code",
   "execution_count": null,
   "metadata": {},
   "outputs": [],
   "source": [
    "px.line(a10_bp['laser1-rel'].filt_state(['NREM']), x='datetime', y='delta', color='channel', title='ACR_10 Delta R2BL')"
   ]
  },
  {
   "cell_type": "code",
   "execution_count": null,
   "metadata": {},
   "outputs": [],
   "source": [
    "px.histogram(a10_bp['laser1-rel'].filt_state(['NREM']), x='delta', color='channel', barmode='overlay', marginal='box', title='ACR_10 Delta R2BL')"
   ]
  },
  {
   "cell_type": "markdown",
   "metadata": {},
   "source": [
    "## ACR_11"
   ]
  },
  {
   "cell_type": "code",
   "execution_count": null,
   "metadata": {},
   "outputs": [],
   "source": [
    "px.line(a11_bp['laser1-rel'].filt_state(['NREM']), x='datetime', y='delta', color='channel', title='ACR_11 Delta R2BL')"
   ]
  },
  {
   "cell_type": "code",
   "execution_count": null,
   "metadata": {},
   "outputs": [],
   "source": [
    "px.histogram(a11_bp['laser1-rel'].filt_state(['NREM']), x='delta', color='channel', barmode='overlay', marginal='box', title='ACR_11 Delta R2BL')"
   ]
  }
 ],
 "metadata": {
  "kernelspec": {
   "display_name": "Python 3.9.7 ('ecephys_t2')",
   "language": "python",
   "name": "python3"
  },
  "language_info": {
   "codemirror_mode": {
    "name": "ipython",
    "version": 3
   },
   "file_extension": ".py",
   "mimetype": "text/x-python",
   "name": "python",
   "nbconvert_exporter": "python",
   "pygments_lexer": "ipython3",
   "version": "3.9.7"
  },
  "orig_nbformat": 4,
  "vscode": {
   "interpreter": {
    "hash": "8b4e5f83c5c43fbba261d328a2df1f0567bfa5b389d8ccfa34ce3cfd2f216fff"
   }
  }
 },
 "nbformat": 4,
 "nbformat_minor": 2
}

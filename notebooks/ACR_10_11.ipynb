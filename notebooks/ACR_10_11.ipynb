{
 "cells": [
  {
   "cell_type": "code",
   "execution_count": 4,
   "metadata": {},
   "outputs": [
    {
     "ename": "ModuleNotFoundError",
     "evalue": "No module named 'kd_analysis.main.kd_utils'",
     "output_type": "error",
     "traceback": [
      "\u001b[0;31m---------------------------------------------------------------------------\u001b[0m",
      "\u001b[0;31mModuleNotFoundError\u001b[0m                       Traceback (most recent call last)",
      "\u001b[0;32m/tmp/ipykernel_1693481/409340607.py\u001b[0m in \u001b[0;36m<module>\u001b[0;34m\u001b[0m\n\u001b[1;32m     16\u001b[0m \u001b[0;32mimport\u001b[0m \u001b[0mkd_analysis\u001b[0m\u001b[0;34m.\u001b[0m\u001b[0mmain\u001b[0m\u001b[0;34m.\u001b[0m\u001b[0mhypno\u001b[0m \u001b[0;32mas\u001b[0m \u001b[0mkh\u001b[0m\u001b[0;34m\u001b[0m\u001b[0;34m\u001b[0m\u001b[0m\n\u001b[1;32m     17\u001b[0m \u001b[0;32mimport\u001b[0m \u001b[0mkd_analysis\u001b[0m\u001b[0;34m.\u001b[0m\u001b[0mmain\u001b[0m\u001b[0;34m.\u001b[0m\u001b[0mpandas\u001b[0m \u001b[0;32mas\u001b[0m \u001b[0mkpd\u001b[0m\u001b[0;34m\u001b[0m\u001b[0;34m\u001b[0m\u001b[0m\n\u001b[0;32m---> 18\u001b[0;31m \u001b[0;32mimport\u001b[0m \u001b[0msleep_score_for_me\u001b[0m\u001b[0;34m.\u001b[0m\u001b[0mv4\u001b[0m \u001b[0;32mas\u001b[0m \u001b[0mssfm\u001b[0m\u001b[0;34m\u001b[0m\u001b[0;34m\u001b[0m\u001b[0m\n\u001b[0m\u001b[1;32m     19\u001b[0m \u001b[0;34m\u001b[0m\u001b[0m\n\u001b[1;32m     20\u001b[0m \u001b[0;32mimport\u001b[0m \u001b[0mplotly\u001b[0m\u001b[0;34m.\u001b[0m\u001b[0mexpress\u001b[0m \u001b[0;32mas\u001b[0m \u001b[0mpx\u001b[0m\u001b[0;34m\u001b[0m\u001b[0;34m\u001b[0m\u001b[0m\n",
      "\u001b[0;32m~/github_t2/sleep_score_for_me/sleep_score_for_me/v4.py\u001b[0m in \u001b[0;36m<module>\u001b[0;34m\u001b[0m\n\u001b[1;32m      5\u001b[0m \u001b[0;32mimport\u001b[0m \u001b[0mmatplotlib\u001b[0m\u001b[0;34m.\u001b[0m\u001b[0mpyplot\u001b[0m \u001b[0;32mas\u001b[0m \u001b[0mplt\u001b[0m\u001b[0;34m\u001b[0m\u001b[0;34m\u001b[0m\u001b[0m\n\u001b[1;32m      6\u001b[0m \u001b[0;32mimport\u001b[0m \u001b[0mscipy\u001b[0m\u001b[0;34m\u001b[0m\u001b[0;34m\u001b[0m\u001b[0m\n\u001b[0;32m----> 7\u001b[0;31m \u001b[0;32mimport\u001b[0m \u001b[0msleep_score_for_me\u001b[0m\u001b[0;34m.\u001b[0m\u001b[0mutils\u001b[0m\u001b[0;34m.\u001b[0m\u001b[0mssfm_utils\u001b[0m \u001b[0;32mas\u001b[0m \u001b[0mssu\u001b[0m\u001b[0;34m\u001b[0m\u001b[0;34m\u001b[0m\u001b[0m\n\u001b[0m\u001b[1;32m      8\u001b[0m \u001b[0;32mfrom\u001b[0m \u001b[0msklearn\u001b[0m\u001b[0;34m.\u001b[0m\u001b[0mdecomposition\u001b[0m \u001b[0;32mimport\u001b[0m \u001b[0mPCA\u001b[0m\u001b[0;34m\u001b[0m\u001b[0;34m\u001b[0m\u001b[0m\n\u001b[1;32m      9\u001b[0m \u001b[0;32mfrom\u001b[0m \u001b[0mscipy\u001b[0m\u001b[0;34m.\u001b[0m\u001b[0msignal\u001b[0m \u001b[0;32mimport\u001b[0m \u001b[0mbutter\u001b[0m\u001b[0;34m,\u001b[0m \u001b[0mlfilter\u001b[0m\u001b[0;34m\u001b[0m\u001b[0;34m\u001b[0m\u001b[0m\n",
      "\u001b[0;32m~/github_t2/sleep_score_for_me/sleep_score_for_me/utils/ssfm_utils.py\u001b[0m in \u001b[0;36m<module>\u001b[0;34m\u001b[0m\n\u001b[1;32m      5\u001b[0m \u001b[0;32mimport\u001b[0m \u001b[0mneurodsp\u001b[0m\u001b[0;34m.\u001b[0m\u001b[0mplts\u001b[0m\u001b[0;34m.\u001b[0m\u001b[0mutils\u001b[0m \u001b[0;32mas\u001b[0m \u001b[0mdspu\u001b[0m\u001b[0;34m\u001b[0m\u001b[0;34m\u001b[0m\u001b[0m\n\u001b[1;32m      6\u001b[0m \u001b[0;34m\u001b[0m\u001b[0m\n\u001b[0;32m----> 7\u001b[0;31m \u001b[0;32mimport\u001b[0m \u001b[0mkd_analysis\u001b[0m\u001b[0;34m.\u001b[0m\u001b[0mmain\u001b[0m\u001b[0;34m.\u001b[0m\u001b[0mkd_utils\u001b[0m \u001b[0;32mas\u001b[0m \u001b[0mkd\u001b[0m\u001b[0;34m\u001b[0m\u001b[0;34m\u001b[0m\u001b[0m\n\u001b[0m\u001b[1;32m      8\u001b[0m \u001b[0;34m\u001b[0m\u001b[0m\n\u001b[1;32m      9\u001b[0m \u001b[0;34m\u001b[0m\u001b[0m\n",
      "\u001b[0;31mModuleNotFoundError\u001b[0m: No module named 'kd_analysis.main.kd_utils'"
     ]
    }
   ],
   "source": [
    "%matplotlib widget\n",
    "%reload_ext autoreload\n",
    "%autoreload 2\n",
    "\n",
    "import numpy as np\n",
    "import pandas as pd\n",
    "import tdt\n",
    "from pathlib import Path\n",
    "import matplotlib.pyplot as plt\n",
    "import seaborn as sns\n",
    "import yaml\n",
    "import xarray as xr\n",
    "\n",
    "import kd_analysis.main.utils as kd\n",
    "import kd_analysis.main.plots as kp\n",
    "import kd_analysis.main.hypno as kh\n",
    "import kd_analysis.main.pandas as kpd\n",
    "import sleep_score_for_me.v4 as ssfm\n",
    "\n",
    "import plotly.express as px\n",
    "import plotly.io as pio\n",
    "pio.templates.default = \"plotly_dark\"\n",
    "\n",
    "bp_def = dict(delta1=(0.75, 1.75), delta2=(2.5, 3.5), delta=(0.75, 4), theta=(4, 8), alpha = (8, 13), sigma = (11, 16), beta = (13, 30), low_gamma = (30, 55), high_gamma = (65, 90))\n",
    "bands = list(bp_def.keys())"
   ]
  },
  {
   "cell_type": "code",
   "execution_count": 8,
   "metadata": {},
   "outputs": [],
   "source": [
    "import sys\n",
    "\n",
    "sys.path.append(\"..\")\n",
    "\n",
    "import acr_mod.acr_utils as au\n",
    "import acr_mod.subjects as sub"
   ]
  },
  {
   "cell_type": "code",
   "execution_count": null,
   "metadata": {},
   "outputs": [],
   "source": [
    "a10_info = sub.a10_info\n",
    "a11_info = sub.a11_info\n",
    "\n",
    "a10_bp = acu.load_dataset(a10_info, \"-bp\")\n",
    "a10_hyp = acu.load_dataset(a10_info, \"-hyp\")\n",
    "a11_bp = acu.load_dataset(a11_info, \"-bp\")\n",
    "a11_hyp = acu.load_dataset(a11_info, \"-hyp\")"
   ]
  },
  {
   "cell_type": "code",
   "execution_count": null,
   "metadata": {},
   "outputs": [],
   "source": [
    "b1 = tdt.read_block(\n",
    "    \"/Volumes/opto_loc/Data/headstage_probe_tests/headstage_B1/\", t1=0, t2=0\n",
    ")\n",
    "b2 = tdt.read_block(\n",
    "    \"/Volumes/opto_loc/Data/headstage_probe_tests/headstage_B2/\", t1=0, t2=0\n",
    ")"
   ]
  },
  {
   "cell_type": "code",
   "execution_count": null,
   "metadata": {},
   "outputs": [],
   "source": [
    "chans = list(np.arange(1, 17))"
   ]
  },
  {
   "cell_type": "code",
   "execution_count": null,
   "metadata": {},
   "outputs": [],
   "source": [
    "b1 = kd.load_sev_store(\n",
    "    \"/Volumes/opto_loc/Data/headstage_probe_tests/headstage_B1/\",\n",
    "    t1=0,\n",
    "    t2=0,\n",
    "    channel=chans,\n",
    "    store=\"Wav1\",\n",
    ")\n",
    "b2 = kd.load_sev_store(\n",
    "    \"/Volumes/opto_loc/Data/headstage_probe_tests/headstage_B2/\",\n",
    "    t1=0,\n",
    "    t2=0,\n",
    "    channel=chans,\n",
    "    store=\"Wav1\",\n",
    ")"
   ]
  },
  {
   "cell_type": "code",
   "execution_count": null,
   "metadata": {},
   "outputs": [],
   "source": [
    "b1.sel(channel=2).plot()"
   ]
  },
  {
   "cell_type": "code",
   "execution_count": null,
   "metadata": {},
   "outputs": [],
   "source": [
    "b2.sel(channel=2).plot()"
   ]
  },
  {
   "cell_type": "markdown",
   "metadata": {},
   "source": [
    "# Raw Delta"
   ]
  },
  {
   "cell_type": "code",
   "execution_count": null,
   "metadata": {},
   "outputs": [],
   "source": [
    "px.line(\n",
    "    a10_bp[\"laser1\"],\n",
    "    x=\"datetime\",\n",
    "    y=\"delta\",\n",
    "    color=\"channel\",\n",
    "    title=\"ACR_10 Delta Rebound\",\n",
    ")"
   ]
  },
  {
   "cell_type": "code",
   "execution_count": null,
   "metadata": {},
   "outputs": [],
   "source": [
    "px.line(\n",
    "    a11_bp[\"laser1\"].filt_state([\"NREM\"]),\n",
    "    x=\"datetime\",\n",
    "    y=\"delta\",\n",
    "    color=\"channel\",\n",
    "    title=\"ACR_11 Delta Rebound\",\n",
    ")"
   ]
  },
  {
   "cell_type": "markdown",
   "metadata": {},
   "source": [
    "# Relative to Baseline "
   ]
  },
  {
   "cell_type": "code",
   "execution_count": null,
   "metadata": {},
   "outputs": [],
   "source": [
    "def r2bl(data)"
   ]
  },
  {
   "cell_type": "code",
   "execution_count": null,
   "metadata": {},
   "outputs": [],
   "source": [
    "means = a10_bp[\"laser1-bl\"].filt_state([\"NREM\"]).groupby(\"channel\").mean()\n",
    "means.delta\n",
    "a10_bp[\"laser1-rel\"] = (\n",
    "    a10_bp[\"laser1\"].set_index([\"datetime\", \"channel\"]) / means\n",
    ").reset_index()\n",
    "a10_bp[\"laser1-rel\"][\"state\"] = a10_bp[\"laser1\"][\"state\"]"
   ]
  },
  {
   "cell_type": "code",
   "execution_count": null,
   "metadata": {},
   "outputs": [],
   "source": [
    "means = a11_bp[\"laser1-bl\"].filt_state([\"NREM\"]).groupby(\"channel\").mean()\n",
    "means.delta\n",
    "a11_bp[\"laser1-rel\"] = (\n",
    "    a11_bp[\"laser1\"].set_index([\"datetime\", \"channel\"]) / means\n",
    ").reset_index()\n",
    "a11_bp[\"laser1-rel\"][\"state\"] = a11_bp[\"laser1\"][\"state\"]"
   ]
  },
  {
   "cell_type": "markdown",
   "metadata": {},
   "source": [
    "## ACR_10"
   ]
  },
  {
   "cell_type": "code",
   "execution_count": null,
   "metadata": {},
   "outputs": [],
   "source": [
    "px.line(\n",
    "    a10_bp[\"laser1-rel\"].filt_state([\"NREM\"]),\n",
    "    x=\"datetime\",\n",
    "    y=\"delta\",\n",
    "    color=\"channel\",\n",
    "    title=\"ACR_10 Delta R2BL\",\n",
    ")"
   ]
  },
  {
   "cell_type": "code",
   "execution_count": null,
   "metadata": {},
   "outputs": [],
   "source": [
    "px.histogram(\n",
    "    a10_bp[\"laser1-rel\"].filt_state([\"NREM\"]),\n",
    "    x=\"delta\",\n",
    "    color=\"channel\",\n",
    "    barmode=\"overlay\",\n",
    "    marginal=\"box\",\n",
    "    title=\"ACR_10 Delta R2BL\",\n",
    ")"
   ]
  },
  {
   "cell_type": "markdown",
   "metadata": {},
   "source": [
    "## ACR_11"
   ]
  },
  {
   "cell_type": "code",
   "execution_count": null,
   "metadata": {},
   "outputs": [],
   "source": [
    "px.line(\n",
    "    a11_bp[\"laser1-rel\"].filt_state([\"NREM\"]),\n",
    "    x=\"datetime\",\n",
    "    y=\"delta\",\n",
    "    color=\"channel\",\n",
    "    title=\"ACR_11 Delta R2BL\",\n",
    ")"
   ]
  },
  {
   "cell_type": "code",
   "execution_count": null,
   "metadata": {},
   "outputs": [],
   "source": [
    "px.histogram(\n",
    "    a11_bp[\"laser1-rel\"].filt_state([\"NREM\"]),\n",
    "    x=\"delta\",\n",
    "    color=\"channel\",\n",
    "    barmode=\"overlay\",\n",
    "    marginal=\"box\",\n",
    "    title=\"ACR_11 Delta R2BL\",\n",
    ")"
   ]
  }
 ],
 "metadata": {
  "kernelspec": {
   "display_name": "Python 3.10.6 ('acr')",
   "language": "python",
   "name": "python3"
  },
  "language_info": {
   "codemirror_mode": {
    "name": "ipython",
    "version": 3
   },
   "file_extension": ".py",
   "mimetype": "text/x-python",
   "name": "python",
   "nbconvert_exporter": "python",
   "pygments_lexer": "ipython3",
   "version": "3.10.6"
  },
  "orig_nbformat": 4,
  "vscode": {
   "interpreter": {
    "hash": "8452ab91a3948d5467ebd39dafa915e230ab5ad1e9d110d083c75b8319b6ff58"
   }
  }
 },
 "nbformat": 4,
 "nbformat_minor": 2
}

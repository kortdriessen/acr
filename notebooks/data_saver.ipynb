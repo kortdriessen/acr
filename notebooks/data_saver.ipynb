{
 "cells": [
  {
   "cell_type": "code",
   "execution_count": 4,
   "metadata": {},
   "outputs": [],
   "source": [
    "%matplotlib widget\n",
    "%reload_ext autoreload\n",
    "%autoreload 2\n",
    "\n",
    "import numpy as np\n",
    "import pandas as pd\n",
    "import tdt\n",
    "from pathlib import Path\n",
    "import matplotlib.pyplot as plt\n",
    "import seaborn as sns\n",
    "import yaml\n",
    "import xarray as xr\n",
    "\n",
    "import kdephys.hypno as kh\n",
    "import kdephys.pd as kp\n",
    "import kdephys.xr as kx\n",
    "import kdephys.utils as ku\n",
    "import kdephys.ssfm as ss\n",
    "import ipywidgets as wd\n",
    "import acr.subjects as asub\n",
    "\n",
    "import acr\n",
    "\n",
    "import plotly.express as px\n",
    "import plotly.io as pio\n",
    "pio.templates.default = \"plotly_dark\"\n",
    "\n",
    "bands = ku.spectral.bands"
   ]
  },
  {
   "cell_type": "code",
   "execution_count": 19,
   "metadata": {},
   "outputs": [],
   "source": [
    "acr9_info = {}\n",
    "acr9_info['subject'] = 'ACR_9'\n",
    "acr9_info['complete_key_list'] = ['control1', 'laser1']"
   ]
  },
  {
   "cell_type": "markdown",
   "metadata": {},
   "source": [
    "# ACR_9"
   ]
  },
  {
   "cell_type": "code",
   "execution_count": 7,
   "metadata": {},
   "outputs": [
    {
     "name": "stdout",
     "output_type": "stream",
     "text": [
      "read from t=0s to t=86657.69s\n",
      "Using 1017.2526 Hz as SEV sampling rate for EEGr\n",
      "read from t=0s to t=86657.69s\n",
      "Using 610.3516 Hz as SEV sampling rate for LFP_\n",
      "read from t=0s to t=92125.79s\n",
      "Using 1017.2526 Hz as SEV sampling rate for EEGr\n",
      "read from t=0s to t=92125.79s\n",
      "Using 610.3516 Hz as SEV sampling rate for LFP_\n",
      "assertion error in add_states:  \n",
      "assertion error in add_states:  \n",
      "assertion error in add_states:  \n",
      "assertion error in add_states:  \n",
      "assertion error in add_states:  \n",
      "assertion error in add_states:  \n",
      "assertion error in add_states:  \n",
      "assertion error in add_states:  \n",
      "assertion error in add_states:  \n",
      "assertion error in add_states:  \n",
      "assertion error in add_states:  \n",
      "assertion error in add_states:  \n",
      "control1-EEGr saved\n",
      "control1-LFP_ saved\n",
      "laser1-EEGr saved\n",
      "laser1-LFP_ saved\n",
      "control1 saved\n",
      "laser1 saved\n"
     ]
    }
   ],
   "source": [
    "a9_info = asub.a9_info\n",
    "\n",
    "# Load all data\n",
    "a9data, a9spg, a9bp, a9hyp = acr.io.acr_load_master(a9_info)\n",
    "\n",
    "# Save the BP data and Hypnograms\n",
    "acr.io.save_dataframes(a9bp, a9_info)\n",
    "acr.io.save_dataframes(a9hyp, a9_info, type='-hyp')"
   ]
  },
  {
   "cell_type": "markdown",
   "metadata": {},
   "source": [
    "# ACR_10"
   ]
  },
  {
   "cell_type": "code",
   "execution_count": 8,
   "metadata": {},
   "outputs": [
    {
     "name": "stdout",
     "output_type": "stream",
     "text": [
      "read from t=0s to t=19129.73s\n",
      "Using 1017.2526 Hz as SEV sampling rate for EEGr\n",
      "read from t=0s to t=83401.57s\n",
      "Using 1017.2526 Hz as SEV sampling rate for EEGr\n",
      "assertion error in add_states: Hypnogram does not exist or data does not have datetime dimension (often intended)\n",
      "assertion error in add_states: Hypnogram does not exist or data does not have datetime dimension (often intended)\n",
      "assertion error in add_states: Hypnogram does not exist or data does not have datetime dimension (often intended)\n",
      "assertion error in add_states: Hypnogram does not exist or data does not have datetime dimension (often intended)\n",
      "assertion error in add_states: Hypnogram does not exist or data does not have datetime dimension (often intended)\n",
      "assertion error in add_states: Hypnogram does not exist or data does not have datetime dimension (often intended)\n",
      "assertion error in add_states: Hypnogram does not exist or data does not have datetime dimension (often intended)\n",
      "assertion error in add_states: Hypnogram does not exist or data does not have datetime dimension (often intended)\n",
      "assertion error in add_states: Hypnogram does not exist or data does not have datetime dimension (often intended)\n",
      "laser1-EEGr saved\n",
      "laser1-bl-EEGr saved\n",
      "laser1 saved\n",
      "laser1-bl saved\n"
     ]
    }
   ],
   "source": [
    "a10_info = asub.a10_info\n",
    "\n",
    "# Load all data\n",
    "a10data, a10spg, a10bp, a10hyp = acr.io.acr_load_master(a10_info, stores=['EEGr'])\n",
    "\n",
    "# Save the BP data and Hypnograms\n",
    "acr.io.save_dataframes(a10bp, a10_info)\n",
    "acr.io.save_dataframes(a10hyp, a10_info, type='-hyp')"
   ]
  },
  {
   "cell_type": "markdown",
   "metadata": {},
   "source": [
    "# ACR_11"
   ]
  },
  {
   "cell_type": "code",
   "execution_count": 10,
   "metadata": {},
   "outputs": [
    {
     "name": "stdout",
     "output_type": "stream",
     "text": [
      "read from t=0s to t=21237.75s\n",
      "Using 1017.2526 Hz as SEV sampling rate for EEGr\n",
      "read from t=0s to t=86792.58s\n",
      "Using 1017.2526 Hz as SEV sampling rate for EEGr\n",
      "assertion error in add_states: Hypnogram does not exist or data does not have datetime dimension (often intended)\n",
      "assertion error in add_states: Hypnogram does not exist or data does not have datetime dimension (often intended)\n",
      "assertion error in add_states: Hypnogram does not exist or data does not have datetime dimension (often intended)\n",
      "assertion error in add_states: Hypnogram does not exist or data does not have datetime dimension (often intended)\n",
      "assertion error in add_states: Hypnogram does not exist or data does not have datetime dimension (often intended)\n",
      "assertion error in add_states: Hypnogram does not exist or data does not have datetime dimension (often intended)\n",
      "assertion error in add_states: Hypnogram does not exist or data does not have datetime dimension (often intended)\n",
      "assertion error in add_states: Hypnogram does not exist or data does not have datetime dimension (often intended)\n",
      "assertion error in add_states: Hypnogram does not exist or data does not have datetime dimension (often intended)\n",
      "laser1-EEGr saved\n",
      "laser1-bl-EEGr saved\n",
      "laser1 saved\n",
      "laser1-bl saved\n"
     ]
    }
   ],
   "source": [
    "a11_info = asub.a11_info\n",
    "\n",
    "# Load all data\n",
    "a11data, a11spg, a11bp, a11hyp = acr.io.acr_load_master(a11_info, stores=['EEGr'])\n",
    "\n",
    "# Save the BP data and Hypnograms\n",
    "acr.io.save_dataframes(a11bp, a11_info)\n",
    "acr.io.save_dataframes(a11hyp, a11_info, type='-hyp')"
   ]
  },
  {
   "cell_type": "markdown",
   "metadata": {},
   "source": [
    "# ACR_12"
   ]
  },
  {
   "cell_type": "code",
   "execution_count": 11,
   "metadata": {},
   "outputs": [
    {
     "name": "stdout",
     "output_type": "stream",
     "text": [
      "read from t=0s to t=86262.5s\n",
      "Using 1017.2526 Hz as SEV sampling rate for EEGr\n",
      "read from t=0s to t=86262.5s\n",
      "Using 610.3516 Hz as SEV sampling rate for LFP_\n",
      "read from t=0s to t=86340.14s\n",
      "Using 1017.2526 Hz as SEV sampling rate for EEGr\n",
      "read from t=0s to t=86340.14s\n",
      "Using 610.3516 Hz as SEV sampling rate for LFP_\n",
      "read from t=0s to t=99445.86s\n",
      "Using 1017.2526 Hz as SEV sampling rate for EEGr\n",
      "read from t=0s to t=99445.86s\n",
      "Using 610.3516 Hz as SEV sampling rate for LFP_\n",
      "read from t=0s to t=93689.19s\n",
      "Using 1017.2526 Hz as SEV sampling rate for EEGr\n",
      "read from t=0s to t=93689.19s\n",
      "Using 610.3516 Hz as SEV sampling rate for LFP_\n",
      "No hypnogram for condition:  laser1-bl\n",
      "No hypnogram for condition:  control1\n",
      "assertion error in add_states: Hypnogram does not exist or data does not have datetime dimension (often intended)\n",
      "assertion error in add_states: Hypnogram does not exist or data does not have datetime dimension (often intended)\n",
      "assertion error in add_states: Hypnogram does not exist or data does not have datetime dimension (often intended)\n",
      "assertion error in add_states: Hypnogram does not exist or data does not have datetime dimension (often intended)\n",
      "assertion error in add_states: Hypnogram does not exist or data does not have datetime dimension (often intended)\n",
      "assertion error in add_states: Hypnogram does not exist or data does not have datetime dimension (often intended)\n",
      "assertion error in add_states: Hypnogram does not exist or data does not have datetime dimension (often intended)\n",
      "assertion error in add_states: Hypnogram does not exist or data does not have datetime dimension (often intended)\n",
      "assertion error in add_states: Hypnogram does not exist or data does not have datetime dimension (often intended)\n",
      "assertion error in add_states: Hypnogram does not exist or data does not have datetime dimension (often intended)\n",
      "assertion error in add_states: Hypnogram does not exist or data does not have datetime dimension (often intended)\n",
      "assertion error in add_states: Hypnogram does not exist or data does not have datetime dimension (often intended)\n",
      "assertion error in add_states: Hypnogram does not exist or data does not have datetime dimension (often intended)\n",
      "assertion error in add_states: Hypnogram does not exist or data does not have datetime dimension (often intended)\n",
      "assertion error in add_states: Hypnogram does not exist or data does not have datetime dimension (often intended)\n",
      "assertion error in add_states: Hypnogram does not exist or data does not have datetime dimension (often intended)\n",
      "assertion error in add_states: Hypnogram does not exist or data does not have datetime dimension (often intended)\n",
      "assertion error in add_states: Hypnogram does not exist or data does not have datetime dimension (often intended)\n",
      "control1-bl-EEGr saved\n",
      "control1-bl-LFP_ saved\n",
      "laser1-bl-EEGr saved\n",
      "laser1-bl-LFP_ saved\n",
      "control1-EEGr saved\n",
      "control1-LFP_ saved\n",
      "laser1-EEGr saved\n",
      "laser1-LFP_ saved\n",
      "control1-bl saved\n",
      "laser1 saved\n"
     ]
    }
   ],
   "source": [
    "a12_info = asub.a12_info\n",
    "\n",
    "# Load all data\n",
    "a12data, a12spg, a12bp, a12hyp = acr.io.acr_load_master(a12_info)\n",
    "\n",
    "# Save the BP data and Hypnograms\n",
    "acr.io.save_dataframes(a12bp, a12_info)\n",
    "acr.io.save_dataframes(a12hyp, a12_info, type='-hyp')"
   ]
  },
  {
   "cell_type": "markdown",
   "metadata": {},
   "source": [
    "# Misc. Functions"
   ]
  },
  {
   "cell_type": "code",
   "execution_count": null,
   "metadata": {},
   "outputs": [],
   "source": [
    "def get_rel_bp_set(df, laser_on):\n",
    "    bl_period = slice(df.datetime.min(), laser_on)\n",
    "    bl_df = df.ts(bl_period)\n",
    "    df = df.set_index(['datetime', 'channel'])\n",
    "    bl_df.set_index(['datetime', 'channel'], inplace=True)\n",
    "    means = bl_df.groupby(['channel']).mean()\n",
    "    for col in list(means.columns):\n",
    "        df[col] = df[col]/means[col]\n",
    "    df = df.reset_index()\n",
    "    return df"
   ]
  },
  {
   "cell_type": "code",
   "execution_count": null,
   "metadata": {},
   "outputs": [],
   "source": [
    "def means_meds(bp_set, times, condition, dtype, channel=1, periods=15, band='delta', state=['NREM']):\n",
    "    bp = bp_set[condition+dtype].ch(channel)\n",
    "    if state:\n",
    "        bp = bp.filt_state(states=state)\n",
    "    time_interval = pd.date_range(times[condition]['stim_on_dt'], bp.datetime.max(), periods=periods)\n",
    "    mn = []\n",
    "    md = []\n",
    "    for i in range(0, len(time_interval)-1):\n",
    "        mn.append(bp.ts(slice(time_interval[i], time_interval[i+1]))[band].mean())\n",
    "        md.append(bp.ts(slice(time_interval[i], time_interval[i+1]))[band].median())\n",
    "    vals = pd.DataFrame(mn, index=time_interval[1:periods], columns=[band+'_mean'])\n",
    "    vals[band+'_median'] = md\n",
    "    vals['condition'] = condition\n",
    "    vals['count'] = np.arange(0, len(vals))\n",
    "    vals['timedelta'] = (vals.index.values - np.datetime64(times[condition]['stim_on_dt'])).astype('timedelta64[m]')\n",
    "    return vals"
   ]
  }
 ],
 "metadata": {
  "kernelspec": {
   "display_name": "Python 3.10.6 ('acr')",
   "language": "python",
   "name": "python3"
  },
  "language_info": {
   "codemirror_mode": {
    "name": "ipython",
    "version": 3
   },
   "file_extension": ".py",
   "mimetype": "text/x-python",
   "name": "python",
   "nbconvert_exporter": "python",
   "pygments_lexer": "ipython3",
   "version": "3.10.6"
  },
  "orig_nbformat": 4,
  "vscode": {
   "interpreter": {
    "hash": "8452ab91a3948d5467ebd39dafa915e230ab5ad1e9d110d083c75b8319b6ff58"
   }
  }
 },
 "nbformat": 4,
 "nbformat_minor": 2
}

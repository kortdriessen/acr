{
 "cells": [
  {
   "cell_type": "code",
   "execution_count": 2,
   "metadata": {},
   "outputs": [],
   "source": [
    "%matplotlib widget\n",
    "%reload_ext autoreload\n",
    "%autoreload 2\n",
    "\n",
    "import numpy as np\n",
    "import pandas as pd\n",
    "import tdt\n",
    "from pathlib import Path\n",
    "import matplotlib.pyplot as plt\n",
    "import seaborn as sns\n",
    "import yaml\n",
    "import xarray as xr\n",
    "\n",
    "import kdephys.hypno as kh\n",
    "import kdephys.pd as kp\n",
    "import kdephys.xr as kx\n",
    "import kdephys.utils as ku\n",
    "import kdephys.ssfm as ss\n",
    "import ipywidgets as wd\n",
    "import acr.subjects as asub\n",
    "\n",
    "import acr\n",
    "\n",
    "import plotly.express as px\n",
    "import plotly.io as pio\n",
    "pio.templates.default = \"plotly_dark\"\n",
    "\n",
    "bands = ku.spectral.bands"
   ]
  },
  {
   "cell_type": "code",
   "execution_count": 19,
   "metadata": {},
   "outputs": [],
   "source": [
    "acr9_info = {}\n",
    "acr9_info['subject'] = 'ACR_9'\n",
    "acr9_info['complete_key_list'] = ['control1', 'laser1']"
   ]
  },
  {
   "cell_type": "code",
   "execution_count": 8,
   "metadata": {},
   "outputs": [],
   "source": []
  },
  {
   "cell_type": "code",
   "execution_count": 9,
   "metadata": {},
   "outputs": [],
   "source": []
  },
  {
   "cell_type": "code",
   "execution_count": 10,
   "metadata": {},
   "outputs": [],
   "source": [
    "def save_dataframes(df_dict, si, type='-bp'):\n",
    "    sub = si['subject']\n",
    "    save_path = '/Volumes/opto_loc/Data/ACR_PROJECT_MATERIALS/'+sub+'/'+'analysis-data/'\n",
    "    for key in list(df_dict.keys()):\n",
    "        df_dict[key].to_pickle(save_path+key+type+'.pkl')\n",
    "        print(f'{key} saved')\n",
    "    return None"
   ]
  },
  {
   "cell_type": "code",
   "execution_count": 11,
   "metadata": {},
   "outputs": [],
   "source": [
    "def add_time_class(df, times):\n",
    "    if 'control1' in df.condition[0]:\n",
    "        stim_on = times['control1']['stim_on_dt']\n",
    "        stim_off = times['control1']['stim_off_dt']\n",
    "    elif 'laser1' in df.condition[0]:\n",
    "        stim_on = times['laser1']['stim_on_dt']\n",
    "        stim_off = times['laser1']['stim_off_dt']\n",
    "    df['time_class'] = 'NA'\n",
    "    df.loc[df.datetime.between(df.datetime.min(), stim_on), 'time_class'] = 'Baseline'\n",
    "    stim_mid = stim_on + pd.Timedelta('2H')\n",
    "    df.loc[df.datetime.between(stim_on, stim_mid), 'time_class'] = 'Photostim, 0-2Hr'\n",
    "    df.loc[df.datetime.between(stim_mid, stim_off), 'time_class'] = 'Photostim, 2-4Hr'\n",
    "    c1 = stim_off+pd.Timedelta('2H')\n",
    "    c2 = stim_off+pd.Timedelta('4H')\n",
    "    c3 = stim_off+pd.Timedelta('6H')\n",
    "    df.loc[df.datetime.between(stim_off, c1), 'time_class'] = 'Post Stim, 0-2Hr'\n",
    "    df.loc[df.datetime.between(c1, c2), 'time_class'] = 'Post Stim, 2-4Hr'\n",
    "    df.loc[df.datetime.between(c2, c3), 'time_class'] = 'Post Stim, 4-6Hr'\n",
    "    return df"
   ]
  },
  {
   "cell_type": "markdown",
   "metadata": {},
   "source": [
    "# ACR_9"
   ]
  },
  {
   "cell_type": "code",
   "execution_count": 142,
   "metadata": {},
   "outputs": [],
   "source": [
    "import acr.acr_info as ai\n",
    "t = ai.a9_times\n",
    "control_laser_on = t['control1']['stim_on_dt']\n",
    "control_laser_off = t['control1']['stim_off_dt']\n",
    "laser_laser_on = t['laser1']['stim_on_dt']\n",
    "laser_laser_off = t['laser1']['stim_off_dt']"
   ]
  },
  {
   "cell_type": "code",
   "execution_count": null,
   "metadata": {},
   "outputs": [],
   "source": [
    "a9_times_c1 = {}\n",
    "a9_times_c1['bl_sleep_start'] = 5753\n",
    "a9_times_c1['stim_on'] = 6574\n",
    "a9_times_c1['stim_off'] = 20974\n",
    "a9_times_c1['stim_on_dt'] = pd.Timestamp('2022-06-14 10:40:27.383717400')\n",
    "a9_times_c1['stim_off_dt'] = pd.Timestamp('2022-06-14 14:40:27.385437720')\n",
    "a9_times_l1 = {}\n",
    "a9_times_l1['bl_sleep_start'] = 9107\n",
    "a9_times_l1['stim_on'] = 9921\n",
    "a9_times_l1['stim_off'] = 24321\n",
    "a9_times_l1['stim_on_dt'] = pd.Timestamp('2022-06-17 11:18:33.631271960')\n",
    "a9_times_l1['stim_off_dt'] = pd.Timestamp('2022-06-17 15:18:33.632992280')\n",
    "a9_times = {}\n",
    "a9_times['control1'] = a9_times_c1\n",
    "a9_times['laser1'] = a9_times_l1"
   ]
  },
  {
   "cell_type": "code",
   "execution_count": null,
   "metadata": {},
   "outputs": [],
   "source": [
    "key_list = acr9_info['complete_key_list']\n",
    "pth = acu.get_paths(acr9_info['subject'], key_list)"
   ]
  },
  {
   "cell_type": "code",
   "execution_count": 16,
   "metadata": {},
   "outputs": [
    {
     "name": "stdout",
     "output_type": "stream",
     "text": [
      "read from t=5723s to t=44120.52s\n",
      "Using 1017.2526 Hz as SEV sampling rate for EEGr\n",
      "read from t=9077s to t=47213.6s\n",
      "Using 1017.2526 Hz as SEV sampling rate for EEGr\n",
      "read from t=5723s to t=44120.52s\n",
      "Using 610.3516 Hz as SEV sampling rate for LFP_\n",
      "read from t=9077s to t=47213.6s\n",
      "Using 610.3516 Hz as SEV sampling rate for LFP_\n"
     ]
    }
   ],
   "source": [
    "a9 = {}\n",
    "a9['control1-eeg'] = kx.io.get_data(pth['control1'], 'EEGr', t1=5723, t2=42575, channel=[1,2])\n",
    "a9['laser1-eeg'] = kx.io.get_data(pth['laser1'], 'EEGr', t1=9077, t2=45922, channel=[1,2])\n",
    "a9['control1-lfp'] = kx.io.get_data(pth['control1'], 'LFP_', t1=5723, t2=42575, channel=[1,2,3,4,5,6,7,8,9,10,11,12,13,14,15,16])\n",
    "a9['laser1-lfp'] = kx.io.get_data(pth['laser1'], 'LFP_', t1=9077, t2=45922, channel=[1,2,3,4,5,6,7,8,9,10,11,12,13,14,15,16])"
   ]
  },
  {
   "cell_type": "code",
   "execution_count": 19,
   "metadata": {},
   "outputs": [],
   "source": [
    "control_start = a9['control1-eeg'].datetime.values.min()\n",
    "laser_start = a9['laser1-eeg'].datetime.values.min()\n",
    "a9_hyp = {}\n",
    "a9_hyp['control1'] = load_hypno('ACR_9', 'control1', control_start)\n",
    "a9_hyp['laser1'] = load_hypno('ACR_9', 'laser1', laser_start)"
   ]
  },
  {
   "cell_type": "code",
   "execution_count": 20,
   "metadata": {},
   "outputs": [],
   "source": [
    "a9_spg = kx.spectral.get_spg_from_dataset(a9)\n",
    "a9_spg = add_hypnograms_to_dataset(a9_spg, a9_hyp)\n",
    "\n",
    "\n",
    "for key in a9_spg.keys():\n",
    "    a9_spg[key] = xarray_to_pandas(a9_spg[key], name='spg')\n",
    "    a9_spg[key] = redo_timdelta(a9_spg[key])\n",
    "a9_bp = {}\n",
    "for key in list(a9_spg.keys()):\n",
    "    a9_bp[key] = kx.spectral.get_bp_set(a9_spg[key], bands)\n",
    "a9_bp = add_hypnograms_to_dataset(a9_bp, a9_hyp)\n",
    "\n",
    "for key in list(a9_bp.keys()):\n",
    "    a9_bp[key] = xarray_to_pandas(a9_bp[key])\n",
    "    a9_bp[key] = redo_timdelta(a9_bp[key])\n",
    "    a9_bp[key]['condition'] = key\n",
    "    a9_bp[key] = a9_bp[key].reset_index()"
   ]
  },
  {
   "cell_type": "code",
   "execution_count": 44,
   "metadata": {},
   "outputs": [
    {
     "name": "stdout",
     "output_type": "stream",
     "text": [
      "control1-eeg saved\n",
      "laser1-eeg saved\n",
      "control1-lfp saved\n",
      "laser1-lfp saved\n"
     ]
    }
   ],
   "source": [
    "save_path = '/Volumes/opto_loc/Data/ACR_PROJECT_MATERIALS/ACR_9/analysis-data/'\n",
    "save_dataframes(a9_bp, save_path, type='-bp')"
   ]
  },
  {
   "cell_type": "code",
   "execution_count": null,
   "metadata": {},
   "outputs": [],
   "source": [
    "save_hypnograms(a9_hyp, save_path)"
   ]
  },
  {
   "cell_type": "code",
   "execution_count": null,
   "metadata": {},
   "outputs": [],
   "source": [
    "\n",
    "save_dataframes(a9_spg, save_path, type='-spg')"
   ]
  },
  {
   "cell_type": "markdown",
   "metadata": {},
   "source": [
    "# ACR_10"
   ]
  },
  {
   "cell_type": "code",
   "execution_count": 38,
   "metadata": {},
   "outputs": [],
   "source": [
    "a10_info = {}\n",
    "a10_info['subject'] = 'ACR_10'\n",
    "a10_info['complete_key_list'] = ['laser1', 'laser1-bl']\n",
    "a10_info['paths'] = acu.get_paths(a10_info['subject'], a10_info['complete_key_list'])\n",
    "a10_info['start_times'] = {}\n",
    "a10_info['start_times']['laser1'] = 4158\n",
    "a10_info['start_times']['laser1-bl'] = 0"
   ]
  },
  {
   "cell_type": "code",
   "execution_count": 16,
   "metadata": {},
   "outputs": [
    {
     "name": "stdout",
     "output_type": "stream",
     "text": [
      "read from t=4158s to t=19129.73s\n",
      "Using 1017.2526 Hz as SEV sampling rate for EEGr\n",
      "read from t=0s to t=21096.09s\n",
      "Using 1017.2526 Hz as SEV sampling rate for EEGr\n"
     ]
    }
   ],
   "source": [
    "a10 = {}\n",
    "a10['laser1'] = kx.io.get_data(a10_info['paths']['laser1'], 'EEGr', t1=4158, t2=4158+14400, channel=[1,2])\n",
    "a10['laser1-bl'] = kx.io.get_data(a10_info['paths']['laser1-bl'], 'EEGr', t1=0, t2=14400, channel=[1,2])"
   ]
  },
  {
   "cell_type": "code",
   "execution_count": 29,
   "metadata": {},
   "outputs": [],
   "source": [
    "a10_hyp = load_hypno(a10_info, a10)"
   ]
  },
  {
   "cell_type": "code",
   "execution_count": 43,
   "metadata": {},
   "outputs": [],
   "source": [
    "a10_spg, a10_bp = get_spectral(a10_info, a10, a10_hyp)"
   ]
  },
  {
   "cell_type": "code",
   "execution_count": 48,
   "metadata": {},
   "outputs": [
    {
     "name": "stdout",
     "output_type": "stream",
     "text": [
      "laser1 saved\n",
      "laser1-bl saved\n"
     ]
    }
   ],
   "source": [
    "save_dataframes(a10_bp, a10_info, type='-bp')\n",
    "save_dataframes(a10_hyp, a10_info, type='-hyp')"
   ]
  },
  {
   "cell_type": "markdown",
   "metadata": {},
   "source": [
    "# ACR_11"
   ]
  },
  {
   "cell_type": "code",
   "execution_count": 33,
   "metadata": {},
   "outputs": [],
   "source": [
    "a11_info = {}\n",
    "a11_info['subject'] = 'ACR_11'\n",
    "a11_info['complete_key_list'] = ['laser1', 'laser1-bl']\n",
    "a11_info['paths'] = acu.get_paths(a11_info['subject'], a11_info['complete_key_list'])\n",
    "a11_info['start_times'] = {}\n",
    "a11_info['start_times']['laser1'] = 5974\n",
    "a11_info['start_times']['laser1-bl'] = 0"
   ]
  },
  {
   "cell_type": "code",
   "execution_count": 15,
   "metadata": {},
   "outputs": [
    {
     "name": "stdout",
     "output_type": "stream",
     "text": [
      "read from t=5974s to t=21096.01s\n",
      "Using 1017.2526 Hz as SEV sampling rate for EEGr\n",
      "read from t=0s to t=21096.01s\n",
      "Using 1017.2526 Hz as SEV sampling rate for EEGr\n"
     ]
    }
   ],
   "source": [
    "a11 = {}\n",
    "a11['laser1'] = kx.io.get_data(a11_info['paths']['laser1'], 'EEGr', t1=5974, t2=5974+14400, channel=[1,2])\n",
    "a11['laser1-bl'] = kx.io.get_data(a11_info['paths']['laser1-bl'], 'EEGr', t1=0, t2=14400, channel=[1,2])"
   ]
  },
  {
   "cell_type": "code",
   "execution_count": 30,
   "metadata": {},
   "outputs": [],
   "source": [
    "a11_hyp = load_hypno(a11_info, a11)"
   ]
  },
  {
   "cell_type": "code",
   "execution_count": 45,
   "metadata": {},
   "outputs": [],
   "source": [
    "a11_spg, a11_bp = get_spectral(a11_info, a11, a11_hyp)"
   ]
  },
  {
   "cell_type": "code",
   "execution_count": 51,
   "metadata": {},
   "outputs": [
    {
     "name": "stdout",
     "output_type": "stream",
     "text": [
      "laser1 saved\n",
      "laser1-bl saved\n",
      "laser1 saved\n",
      "laser1-bl saved\n"
     ]
    }
   ],
   "source": [
    "save_dataframes(a11_bp, a11_info, type='-bp')\n",
    "save_dataframes(a11_hyp, a11_info, type='-hyp')"
   ]
  },
  {
   "cell_type": "markdown",
   "metadata": {},
   "source": [
    "# ACR_12"
   ]
  },
  {
   "cell_type": "code",
   "execution_count": 3,
   "metadata": {},
   "outputs": [],
   "source": [
    "a12_info = asub.a12_info"
   ]
  },
  {
   "cell_type": "code",
   "execution_count": null,
   "metadata": {},
   "outputs": [],
   "source": [
    "a12, spg, bp, hyp = acr.io.acr_load_master(a12_info, stores=['EEGr', 'NNXr'])"
   ]
  },
  {
   "cell_type": "markdown",
   "metadata": {},
   "source": [
    "# Misc. Functions"
   ]
  },
  {
   "cell_type": "code",
   "execution_count": null,
   "metadata": {},
   "outputs": [],
   "source": [
    "def get_rel_bp_set(df, laser_on):\n",
    "    bl_period = slice(df.datetime.min(), laser_on)\n",
    "    bl_df = df.ts(bl_period)\n",
    "    df = df.set_index(['datetime', 'channel'])\n",
    "    bl_df.set_index(['datetime', 'channel'], inplace=True)\n",
    "    means = bl_df.groupby(['channel']).mean()\n",
    "    for col in list(means.columns):\n",
    "        df[col] = df[col]/means[col]\n",
    "    df = df.reset_index()\n",
    "    return df"
   ]
  },
  {
   "cell_type": "code",
   "execution_count": null,
   "metadata": {},
   "outputs": [],
   "source": [
    "def means_meds(bp_set, times, condition, dtype, channel=1, periods=15, band='delta', state=['NREM']):\n",
    "    bp = bp_set[condition+dtype].ch(channel)\n",
    "    if state:\n",
    "        bp = bp.filt_state(states=state)\n",
    "    time_interval = pd.date_range(times[condition]['stim_on_dt'], bp.datetime.max(), periods=periods)\n",
    "    mn = []\n",
    "    md = []\n",
    "    for i in range(0, len(time_interval)-1):\n",
    "        mn.append(bp.ts(slice(time_interval[i], time_interval[i+1]))[band].mean())\n",
    "        md.append(bp.ts(slice(time_interval[i], time_interval[i+1]))[band].median())\n",
    "    vals = pd.DataFrame(mn, index=time_interval[1:periods], columns=[band+'_mean'])\n",
    "    vals[band+'_median'] = md\n",
    "    vals['condition'] = condition\n",
    "    vals['count'] = np.arange(0, len(vals))\n",
    "    vals['timedelta'] = (vals.index.values - np.datetime64(times[condition]['stim_on_dt'])).astype('timedelta64[m]')\n",
    "    return vals"
   ]
  }
 ],
 "metadata": {
  "kernelspec": {
   "display_name": "Python 3.10.6 ('acr')",
   "language": "python",
   "name": "python3"
  },
  "language_info": {
   "codemirror_mode": {
    "name": "ipython",
    "version": 3
   },
   "file_extension": ".py",
   "mimetype": "text/x-python",
   "name": "python",
   "nbconvert_exporter": "python",
   "pygments_lexer": "ipython3",
   "version": "3.10.6"
  },
  "orig_nbformat": 4,
  "vscode": {
   "interpreter": {
    "hash": "8452ab91a3948d5467ebd39dafa915e230ab5ad1e9d110d083c75b8319b6ff58"
   }
  }
 },
 "nbformat": 4,
 "nbformat_minor": 2
}

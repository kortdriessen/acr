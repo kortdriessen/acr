{
 "cells": [
  {
   "cell_type": "code",
   "execution_count": 2,
   "metadata": {},
   "outputs": [],
   "source": [
    "%matplotlib inline\n",
    "%reload_ext autoreload\n",
    "%autoreload 2\n",
    "\n",
    "import numpy as np\n",
    "import pandas as pd\n",
    "import tdt\n",
    "from pathlib import Path\n",
    "import matplotlib.pyplot as plt\n",
    "import seaborn as sns\n",
    "import yaml\n",
    "import xarray as xr\n",
    "import yaml\n",
    "\n",
    "import kdephys.hypno as kh\n",
    "import kdephys.pd as kpd\n",
    "import kdephys.xr as kx\n",
    "import kdephys.utils as ku\n",
    "import kdephys.ssfm as ss\n",
    "\n",
    "import acr.subjects as subs\n",
    "import acr\n",
    "import acr.utils as acu\n",
    "import plotly.express as px\n",
    "plt.style.use('acr_plots.mplstyle')"
   ]
  },
  {
   "cell_type": "code",
   "execution_count": 37,
   "metadata": {},
   "outputs": [],
   "source": [
    "#quick editing/exploration\n",
    "dp = f'/Volumes/opto_loc/Data/ACR_PROJECT_MATERIALS/ACR_12/subject_info.yml'\n",
    "with open(dp) as f:\n",
    "        data = yaml.load(f, Loader=yaml.FullLoader)\n",
    "data = {}"
   ]
  },
  {
   "cell_type": "code",
   "execution_count": null,
   "metadata": {},
   "outputs": [],
   "source": [
    "params = {}\n",
    "params['subject'] = 'ACR_'\n",
    "params['exps'] = []\n",
    "params['stores'] = []\n",
    "params['channels'] = {}"
   ]
  },
  {
   "cell_type": "code",
   "execution_count": 56,
   "metadata": {},
   "outputs": [
    {
     "data": {
      "text/plain": [
       "99445.862213"
      ]
     },
     "execution_count": 56,
     "metadata": {},
     "output_type": "execute_result"
    }
   ],
   "source": [
    "float(t['control1'][2])"
   ]
  },
  {
   "cell_type": "code",
   "execution_count": null,
   "metadata": {},
   "outputs": [],
   "source": [
    "with open(dp, \"w\") as f:\n",
    "    yaml.dump(data, f)"
   ]
  },
  {
   "cell_type": "code",
   "execution_count": 57,
   "metadata": {},
   "outputs": [],
   "source": [
    "def get_rec_times(params):\n",
    "    times = {}\n",
    "    sub = params['subject']\n",
    "    for exp in params['exps']:\n",
    "        p = acr.io.acr_path(sub, exp)\n",
    "        d = tdt.read_block(p, t1=0, t2=1, evtype=[\"scalars\"])\n",
    "        i = d.info\n",
    "        start = np.datetime64(i.start_date)\n",
    "        end = np.datetime64(i.stop_date)\n",
    "        d = (end - start) / np.timedelta64(1, \"s\")\n",
    "        times[exp] = (str(start.astype(str)), str(end.astype(str)), float(d))\n",
    "    return times\n",
    "\n",
    "def subject_info_gen(params):\n",
    "    \"\"\"Params is a dictionary with the following keys:\n",
    "    subject: str\n",
    "    exps: list of experiment keys\n",
    "    stores: list of relevant data stores, to be used in preprocessing of raw data\n",
    "    channels: a dictionary whose keys are values from stores, and values are the channels to use for each store\n",
    "    \"\"\"\n",
    "    subject = params['subject']\n",
    "    exps = params['exps']\n",
    "    stores = params['stores']\n",
    "    channels = params['channels']\n",
    "    path = f'/Volumes/opto_loc/Data/ACR_PROJECT_MATERIALS/{subject}/subject_info.yml'\n",
    "    with open(path) as f:\n",
    "        data = yaml.load(f, Loader=yaml.FullLoader)\n",
    "    data = {}\n",
    "    data['subject'] = subject\n",
    "    times = get_rec_times(params)\n",
    "    data['rec_times'] = times\n",
    "    data['channels'] = channels\n",
    "    data['paths'] = acr.io.get_acr_paths(subject, exps)\n",
    "    data['stores'] = stores\n",
    "    with open(path, \"w\") as f:\n",
    "        yaml.dump(data, f)"
   ]
  },
  {
   "cell_type": "code",
   "execution_count": 5,
   "metadata": {},
   "outputs": [],
   "source": [
    "path_to_pm = '/Volumes/opto_loc/Data/ACR_PROJECT_MATERIALS/'\n",
    "subject = 'ACR_12'\n",
    "stores = ['EEGr', 'EMGr', 'NNXr']\n",
    "channels = {'EEGr': [1, 2], 'EMGr': [1, 2], 'NNXr': list(range(1, 17))}\n",
    "exps = ['control1', 'laser1']"
   ]
  },
  {
   "cell_type": "code",
   "execution_count": 14,
   "metadata": {},
   "outputs": [],
   "source": [
    "params = {}\n",
    "params['subject'] = 'ACR_12'\n",
    "params['exps'] = [\"control1-bl\", \"laser1-bl\", \"control1\", \"laser1\"]\n",
    "params['stores'] = [{'EEGr': [1, 2], 'EMGr': [1, 2], 'NNXr': list(range(1, 17))}]\n",
    "params['channels'] = {}\n",
    "subject_info_gen()"
   ]
  },
  {
   "cell_type": "code",
   "execution_count": 15,
   "metadata": {},
   "outputs": [
    {
     "name": "stdout",
     "output_type": "stream",
     "text": [
      "read from t=0s to t=1617.32s\n",
      "read from t=0s to t=1651.55s\n"
     ]
    }
   ],
   "source": [
    "t = get_rec_times(exps, subject)"
   ]
  },
  {
   "cell_type": "code",
   "execution_count": 38,
   "metadata": {},
   "outputs": [],
   "source": [
    "data['recording_times'] = {}\n",
    "for key in exps:\n",
    "    data['recording_times'][key] = {}\n",
    "    data['recording_times'][key]['start'] = str(t[key][0])\n",
    "    data['recording_times'][key]['end'] = str(t[key][1])"
   ]
  },
  {
   "cell_type": "code",
   "execution_count": 41,
   "metadata": {},
   "outputs": [],
   "source": [
    "data['subject'] = subject"
   ]
  },
  {
   "cell_type": "code",
   "execution_count": 44,
   "metadata": {},
   "outputs": [],
   "source": [
    "data['paths'] = acr.io.get_acr_paths(subject, exps)"
   ]
  },
  {
   "cell_type": "code",
   "execution_count": 46,
   "metadata": {},
   "outputs": [],
   "source": [
    "data['channels'] = {}\n",
    "for store in stores:\n",
    "    data['channels'][store] = channels[store]"
   ]
  },
  {
   "cell_type": "code",
   "execution_count": 43,
   "metadata": {},
   "outputs": [
    {
     "data": {
      "text/plain": [
       "{'control1': '/Volumes/opto_loc/Data/ACR_12/ACR_12-control1',\n",
       " 'laser1': '/Volumes/opto_loc/Data/ACR_12/ACR_12-laser1'}"
      ]
     },
     "execution_count": 43,
     "metadata": {},
     "output_type": "execute_result"
    }
   ],
   "source": [
    "acr.io.get_acr_paths(subject, exps)"
   ]
  },
  {
   "cell_type": "code",
   "execution_count": 32,
   "metadata": {},
   "outputs": [
    {
     "data": {
      "text/plain": [
       "numpy.str_"
      ]
     },
     "execution_count": 32,
     "metadata": {},
     "output_type": "execute_result"
    }
   ],
   "source": [
    "type(t['control1'][0])"
   ]
  },
  {
   "cell_type": "code",
   "execution_count": 36,
   "metadata": {},
   "outputs": [
    {
     "data": {
      "text/plain": [
       "str"
      ]
     },
     "execution_count": 36,
     "metadata": {},
     "output_type": "execute_result"
    }
   ],
   "source": [
    "type(str(t['control1'][0]))"
   ]
  }
 ],
 "metadata": {
  "kernelspec": {
   "display_name": "Python 3.10.6 ('acr')",
   "language": "python",
   "name": "python3"
  },
  "language_info": {
   "codemirror_mode": {
    "name": "ipython",
    "version": 3
   },
   "file_extension": ".py",
   "mimetype": "text/x-python",
   "name": "python",
   "nbconvert_exporter": "python",
   "pygments_lexer": "ipython3",
   "version": "3.10.6"
  },
  "orig_nbformat": 4,
  "vscode": {
   "interpreter": {
    "hash": "8452ab91a3948d5467ebd39dafa915e230ab5ad1e9d110d083c75b8319b6ff58"
   }
  }
 },
 "nbformat": 4,
 "nbformat_minor": 2
}

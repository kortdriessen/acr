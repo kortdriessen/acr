{
 "cells": [
  {
   "cell_type": "code",
   "execution_count": null,
   "metadata": {},
   "outputs": [],
   "source": [
    "%matplotlib inline\n",
    "%reload_ext autoreload\n",
    "%autoreload 2\n",
    "\n",
    "import numpy as np\n",
    "import pandas as pd\n",
    "import tdt\n",
    "from pathlib import Path\n",
    "import matplotlib.pyplot as plt\n",
    "import seaborn as sns\n",
    "import yaml\n",
    "import xarray as xr\n",
    "import yaml\n",
    "\n",
    "import kdephys.hypno as kh\n",
    "import kdephys.pd as kpd\n",
    "import kdephys.xr as kx\n",
    "import kdephys.utils as ku\n",
    "import kdephys.ssfm as ss\n",
    "\n",
    "import acr.subjects as subs\n",
    "import acr\n",
    "import acr.utils as acu\n",
    "import plotly.express as px\n",
    "plt.style.use('acr_plots.mplstyle')\n",
    "import os\n",
    "from itertools import cycle"
   ]
  },
  {
   "cell_type": "code",
   "execution_count": null,
   "metadata": {},
   "outputs": [],
   "source": [
    "da.assign_coords({\"lon\": (((da.lon + 180) % 360) - 180)})\n",
    "\n",
    "da.assign_coords(lon=(((da.lon + 180) % 360) - 180))"
   ]
  },
  {
   "cell_type": "code",
   "execution_count": null,
   "metadata": {},
   "outputs": [],
   "source": [
    "d = add_stim_mask(on, off, data, freq)"
   ]
  },
  {
   "cell_type": "code",
   "execution_count": null,
   "metadata": {},
   "outputs": [],
   "source": [
    "path = f'/Volumes/opto_loc/Data/ACR_14/ACR_14-ep-test1/'\n",
    "ed = kx.io.get_data(path, 'EEGr', channel=[1, 2])\n",
    "eps = tdt.read_block(path, evtype=['epocs'])\n",
    "wav = tdt.read_block(path, evtype=['streams'])"
   ]
  },
  {
   "cell_type": "code",
   "execution_count": null,
   "metadata": {},
   "outputs": [],
   "source": [
    "eps.epocs"
   ]
  },
  {
   "cell_type": "code",
   "execution_count": null,
   "metadata": {},
   "outputs": [],
   "source": [
    "on, off = epoc_extractor(sub, 'swi', 'Pu1_')"
   ]
  },
  {
   "cell_type": "markdown",
   "metadata": {},
   "source": [
    "# When TDT gives you built-in onset and offset values"
   ]
  },
  {
   "cell_type": "code",
   "execution_count": null,
   "metadata": {},
   "outputs": [],
   "source": [
    "f = 1/((onset[1] - onset[0])/np.timedelta64(1, 's'))"
   ]
  },
  {
   "cell_type": "code",
   "execution_count": null,
   "metadata": {},
   "outputs": [],
   "source": [
    "round(f, 1)"
   ]
  },
  {
   "cell_type": "code",
   "execution_count": null,
   "metadata": {},
   "outputs": [],
   "source": [
    "onset, offset = epoc_extractor('ACR_14', 'ep-test1', 'ptrn')"
   ]
  },
  {
   "cell_type": "markdown",
   "metadata": {},
   "source": [
    "# Specific for Wav2 stores"
   ]
  },
  {
   "cell_type": "markdown",
   "metadata": {},
   "source": [
    "occasionally (ACR_13 and ACR_14 only, hopefully) we need to pull out values where the Wav2 store is above a certain threshold, defined by the offset value. These functions accomplish that. "
   ]
  },
  {
   "cell_type": "code",
   "execution_count": null,
   "metadata": {},
   "outputs": [],
   "source": [
    "wav_up = get_wav2_up_data('ACR_14', 'ep-test1', t1=0, t2=0, store='Wav2', thresh=1.1e6)"
   ]
  },
  {
   "cell_type": "code",
   "execution_count": null,
   "metadata": {},
   "outputs": [],
   "source": [
    "ons, offs = get_wav2_on_and_off(wav_up)"
   ]
  },
  {
   "cell_type": "markdown",
   "metadata": {},
   "source": [
    "# Quick PrePro Test"
   ]
  },
  {
   "cell_type": "code",
   "execution_count": null,
   "metadata": {},
   "outputs": [],
   "source": [
    "params = {}\n",
    "params[\"subject\"] = \"ACR_13\"\n",
    "params[\"raw_stores\"] = [\"NNXo\", \"NNXr\", \"EEGr\", \"EMGr\"]\n",
    "params[\"lite_stores\"] = [\"EEG_\", \"EMGr\", \"LFP_\", \"LFPo\"]\n",
    "\n",
    "params[\"preprocess-list\"] = [\n",
    "    \"laser1-bl\",\n",
    "    \"laser1-post2\",\n",
    "    \"laser1\",\n",
    "    \"sdpi-post\",\n",
    "    \"sdpi\",\n",
    "    \"laser1-post1\",\n",
    "    \"sdpi-bl\",\n",
    "]\n",
    "\n",
    "params[\"channels\"] = {\n",
    "    \"NNXr\": [1, 2, 3, 4, 5, 6, 7, 8, 9, 10, 11, 12, 13, 14, 15, 16],\n",
    "    \"NNXo\": [1, 2, 3, 4, 5, 6, 7, 8, 9, 10, 11, 12, 13, 14, 15, 16],\n",
    "    \"EEGr\": [1, 2],\n",
    "    \"EMGr\": [1, 2],\n",
    "    \"EEG_\": [1, 2],\n",
    "    \"LFP_\": [2, 6, 10, 14],\n",
    "    \"LFPo\": [2, 6, 10, 14],\n",
    "}\n",
    "\n",
    "params[\"stim-exps\"] = {\"laser1\": \"Wav2\", \"sdpi\": \"Wav2\"}\n",
    "\n",
    "acr.info_pipeline.subject_info_gen(params)"
   ]
  },
  {
   "cell_type": "code",
   "execution_count": null,
   "metadata": {},
   "outputs": [],
   "source": [
    "acr.info_pipeline.preprocess_and_save_exps('ACR_13')"
   ]
  },
  {
   "cell_type": "code",
   "execution_count": null,
   "metadata": {},
   "outputs": [],
   "source": [
    "acr.info_pipeline.prepro_lite('ACR_13')"
   ]
  },
  {
   "cell_type": "code",
   "execution_count": null,
   "metadata": {},
   "outputs": [],
   "source": [
    "raw_data = {}\n",
    "ls = params[\"light_stores\"]\n",
    "try:\n",
    "    for store in params['lite_stores']:\n",
    "        raw_data[rec + \"-\" + store] = kx.io.get_(\n",
    "            path, store, channel=[\"channels\"][store], t1=0, t2=120\n",
    "        )\n",
    "except:\n",
    "    print(\"no lite stores for \" + rec)\n",
    "    print(\"using raw_stores for \" + rec)\n",
    "    for store in [\"raw_stores\"]:\n",
    "        raw_[rec + \"-\" + store] = kx.io.get_(\n",
    "            path, store, channel=[\"channels\"][store], t1=0, t2=120\n",
    "        )"
   ]
  },
  {
   "cell_type": "code",
   "execution_count": null,
   "metadata": {},
   "outputs": [],
   "source": [
    "e = kx.io.get_data('/Volumes/opto_loc/Data/ACR_13/ACR_13-sdpi-post/', 'EEGr', channel=[1, 2], t1=0, t2=300)"
   ]
  },
  {
   "cell_type": "code",
   "execution_count": null,
   "metadata": {},
   "outputs": [],
   "source": [
    "kx.utils.decimate?"
   ]
  }
 ],
 "metadata": {
  "kernelspec": {
   "display_name": "Python 3.10.6 ('acr')",
   "language": "python",
   "name": "python3"
  },
  "language_info": {
   "codemirror_mode": {
    "name": "ipython",
    "version": 3
   },
   "file_extension": ".py",
   "mimetype": "text/x-python",
   "name": "python",
   "nbconvert_exporter": "python",
   "pygments_lexer": "ipython3",
   "version": "3.10.6"
  },
  "orig_nbformat": 4,
  "vscode": {
   "interpreter": {
    "hash": "8452ab91a3948d5467ebd39dafa915e230ab5ad1e9d110d083c75b8319b6ff58"
   }
  }
 },
 "nbformat": 4,
 "nbformat_minor": 2
}

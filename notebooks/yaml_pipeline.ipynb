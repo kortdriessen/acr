{
 "cells": [
  {
   "cell_type": "code",
   "execution_count": null,
   "metadata": {},
   "outputs": [],
   "source": [
    "%matplotlib inline\n",
    "%reload_ext autoreload\n",
    "%autoreload 2\n",
    "\n",
    "import numpy as np\n",
    "import pandas as pd\n",
    "import tdt\n",
    "from pathlib import Path\n",
    "import matplotlib.pyplot as plt\n",
    "import seaborn as sns\n",
    "import yaml\n",
    "import xarray as xr\n",
    "import yaml\n",
    "\n",
    "import kdephys.hypno as kh\n",
    "import kdephys.pd as kpd\n",
    "import kdephys.xr as kx\n",
    "import kdephys.utils as ku\n",
    "import kdephys.ssfm as ss\n",
    "\n",
    "import acr.subjects as subs\n",
    "import acr\n",
    "import acr.utils as acu\n",
    "import plotly.express as px\n",
    "plt.style.use('acr_plots.mplstyle')\n",
    "import os\n",
    "from itertools import cycle"
   ]
  },
  {
   "cell_type": "code",
   "execution_count": null,
   "metadata": {},
   "outputs": [],
   "source": [
    "da.assign_coords({\"lon\": (((da.lon + 180) % 360) - 180)})\n",
    "\n",
    "da.assign_coords(lon=(((da.lon + 180) % 360) - 180))"
   ]
  },
  {
   "cell_type": "code",
   "execution_count": null,
   "metadata": {},
   "outputs": [],
   "source": [
    "d = add_stim_mask(on, off, data, freq)"
   ]
  },
  {
   "cell_type": "code",
   "execution_count": null,
   "metadata": {},
   "outputs": [],
   "source": [
    "path = f'/Volumes/opto_loc/Data/ACR_14/ACR_14-ep-test1/'\n",
    "ed = kx.io.get_data(path, 'EEGr', channel=[1, 2])\n",
    "eps = tdt.read_block(path, evtype=['epocs'])\n",
    "wav = tdt.read_block(path, evtype=['streams'])"
   ]
  },
  {
   "cell_type": "code",
   "execution_count": null,
   "metadata": {},
   "outputs": [],
   "source": [
    "eps.epocs"
   ]
  },
  {
   "cell_type": "code",
   "execution_count": null,
   "metadata": {},
   "outputs": [],
   "source": [
    "on, off = epoc_extractor(sub, 'swi', 'Pu1_')"
   ]
  },
  {
   "cell_type": "markdown",
   "metadata": {},
   "source": [
    "# When TDT gives you built-in onset and offset values"
   ]
  },
  {
   "cell_type": "code",
   "execution_count": null,
   "metadata": {},
   "outputs": [],
   "source": [
    "f = 1/((onset[1] - onset[0])/np.timedelta64(1, 's'))"
   ]
  },
  {
   "cell_type": "code",
   "execution_count": null,
   "metadata": {},
   "outputs": [],
   "source": [
    "round(f, 1)"
   ]
  },
  {
   "cell_type": "code",
   "execution_count": null,
   "metadata": {},
   "outputs": [],
   "source": [
    "onset, offset = epoc_extractor('ACR_14', 'ep-test1', 'ptrn')"
   ]
  },
  {
   "cell_type": "markdown",
   "metadata": {},
   "source": [
    "# Specific for Wav2 stores"
   ]
  },
  {
   "cell_type": "markdown",
   "metadata": {},
   "source": [
    "occasionally (ACR_13 and ACR_14 only, hopefully) we need to pull out values where the Wav2 store is above a certain threshold, defined by the offset value. These functions accomplish that. "
   ]
  },
  {
   "cell_type": "code",
   "execution_count": null,
   "metadata": {},
   "outputs": [],
   "source": [
    "wav_up = get_wav2_up_data('ACR_14', 'ep-test1', t1=0, t2=0, store='Wav2', thresh=1.1e6)"
   ]
  },
  {
   "cell_type": "code",
   "execution_count": null,
   "metadata": {},
   "outputs": [],
   "source": [
    "ons, offs = get_wav2_on_and_off(wav_up)"
   ]
  },
  {
   "cell_type": "markdown",
   "metadata": {},
   "source": [
    "# Quick PrePro Test"
   ]
  },
  {
   "cell_type": "code",
   "execution_count": 27,
   "metadata": {},
   "outputs": [
    {
     "name": "stdout",
     "output_type": "stream",
     "text": [
      "read from t=0s to t=878.5s\n",
      "read from t=0s to t=1004.12s\n",
      "read from t=0s to t=988.8s\n",
      "read from t=0s to t=930.91s\n",
      "read from t=0s to t=1000.92s\n",
      "read from t=0s to t=1134.56s\n",
      "read from t=0s to t=857.06s\n",
      "read from t=0s to t=798.81s\n",
      "read from t=0s to t=812.19s\n",
      "read from t=0s to t=1041.55s\n",
      "read from t=0s to t=821.16s\n",
      "read from t=0s to t=580.35s\n"
     ]
    }
   ],
   "source": [
    "params = {}\n",
    "params[\"subject\"] = \"ACR_13\"\n",
    "params[\"raw_stores\"] = [\"NNXo\", \"NNXr\", \"EEGr\", \"EMGr\"]\n",
    "params[\"lite_stores\"] = [\"EEG_\", \"EMGr\", \"LFP_\", \"LFPo\"]\n",
    "\n",
    "params[\"preprocess-list\"] = [\n",
    "    \"laser1-bl\",\n",
    "    \"laser1-post2\",\n",
    "    \"laser1\",\n",
    "    \"sdpi-post\",\n",
    "    \"sdpi\",\n",
    "    \"laser1-post1\",\n",
    "    \"sdpi-bl\",\n",
    "]\n",
    "\n",
    "params[\"channels\"] = {\n",
    "    \"NNXr\": [1, 2, 3, 4, 5, 6, 7, 8, 9, 10, 11, 12, 13, 14, 15, 16],\n",
    "    \"NNXo\": [1, 2, 3, 4, 5, 6, 7, 8, 9, 10, 11, 12, 13, 14, 15, 16],\n",
    "    \"EEGr\": [1, 2],\n",
    "    \"EMGr\": [1, 2],\n",
    "    \"EEG_\": [1, 2],\n",
    "    \"LFP_\": [2, 6, 10, 14],\n",
    "    \"LFPo\": [2, 6, 10, 14],\n",
    "}\n",
    "\n",
    "params[\"stim-exps\"] = {\"laser1\": \"Wav2\", \"sdpi\": \"Wav2\"}\n",
    "\n",
    "acr.info_pipeline.subject_info_gen(params)"
   ]
  },
  {
   "cell_type": "code",
   "execution_count": null,
   "metadata": {},
   "outputs": [],
   "source": [
    "acr.info_pipeline.preprocess_and_save_exps('ACR_13')"
   ]
  },
  {
   "cell_type": "code",
   "execution_count": 29,
   "metadata": {},
   "outputs": [
    {
     "name": "stdout",
     "output_type": "stream",
     "text": [
      "read from t=0s to t=878.5s\n",
      "Using 152.5879 Hz as SEV sampling rate for EEG_\n",
      "read from t=0s to t=878.5s\n",
      "Using 1017.2526 Hz as SEV sampling rate for EMGr\n",
      "read from t=0s to t=878.5s\n",
      "Using 610.3516 Hz as SEV sampling rate for LFP_\n",
      "read from t=0s to t=878.5s\n",
      "Using 610.3516 Hz as SEV sampling rate for LFPo\n",
      "read from t=0s to t=1004.12s\n",
      "Using 152.5879 Hz as SEV sampling rate for EEG_\n",
      "read from t=0s to t=1004.12s\n",
      "Using 1017.2526 Hz as SEV sampling rate for EMGr\n",
      "read from t=0s to t=1004.12s\n",
      "Using 305.1758 Hz as SEV sampling rate for LFP_\n",
      "read from t=0s to t=1004.12s\n",
      "Using 305.1758 Hz as SEV sampling rate for LFPo\n",
      "read from t=0s to t=930.91s\n",
      "Using 152.5879 Hz as SEV sampling rate for EEG_\n",
      "read from t=0s to t=930.91s\n",
      "Using 1017.2526 Hz as SEV sampling rate for EMGr\n",
      "read from t=0s to t=930.91s\n",
      "Using 305.1758 Hz as SEV sampling rate for LFP_\n",
      "read from t=0s to t=930.91s\n",
      "Using 305.1758 Hz as SEV sampling rate for LFPo\n",
      "read from t=0s to t=1134.56s\n",
      "Using 152.5879 Hz as SEV sampling rate for EEG_\n",
      "read from t=0s to t=1134.56s\n",
      "Using 1017.2526 Hz as SEV sampling rate for EMGr\n",
      "read from t=0s to t=1134.56s\n",
      "Using 305.1758 Hz as SEV sampling rate for LFP_\n",
      "read from t=0s to t=1134.56s\n",
      "Using 305.1758 Hz as SEV sampling rate for LFPo\n",
      "read from t=0s to t=1041.55s\n",
      "Using 152.5879 Hz as SEV sampling rate for EEG_\n",
      "read from t=0s to t=1041.55s\n",
      "Using 1017.2526 Hz as SEV sampling rate for EMGr\n",
      "read from t=0s to t=1041.55s\n",
      "Using 305.1758 Hz as SEV sampling rate for LFP_\n",
      "read from t=0s to t=1041.55s\n",
      "Using 305.1758 Hz as SEV sampling rate for LFPo\n",
      "decimating: isolated_test-EEG_\n",
      "fs_target is higher than original fs, skipping decimation for isolated_test-EEG_\n",
      "fs_target: 100\n",
      "original fs: 152.587891\n",
      "decimating: isolated_test-EMGr\n",
      "decimating: isolated_test-LFP_\n",
      "decimating: isolated_test-LFPo\n",
      "decimating: laser1-premon-EEG_\n",
      "fs_target is higher than original fs, skipping decimation for laser1-premon-EEG_\n",
      "fs_target: 100\n",
      "original fs: 152.587891\n",
      "decimating: laser1-premon-EMGr\n",
      "decimating: laser1-premon-LFP_\n",
      "decimating: laser1-premon-LFPo\n",
      "decimating: plugged_test-EEG_\n",
      "fs_target is higher than original fs, skipping decimation for plugged_test-EEG_\n",
      "fs_target: 100\n",
      "original fs: 152.587891\n",
      "decimating: plugged_test-EMGr\n",
      "decimating: plugged_test-LFP_\n",
      "decimating: plugged_test-LFPo\n",
      "decimating: mon2-EEG_\n",
      "fs_target is higher than original fs, skipping decimation for mon2-EEG_\n",
      "fs_target: 100\n",
      "original fs: 152.587891\n",
      "decimating: mon2-EMGr\n",
      "decimating: mon2-LFP_\n",
      "decimating: mon2-LFPo\n",
      "decimating: mon1-EEG_\n",
      "fs_target is higher than original fs, skipping decimation for mon1-EEG_\n",
      "fs_target: 100\n",
      "original fs: 152.587891\n",
      "decimating: mon1-EMGr\n",
      "decimating: mon1-LFP_\n",
      "decimating: mon1-LFPo\n",
      "saving: isolated_test-EMGr\n",
      "saving: isolated_test-LFP_\n",
      "saving: isolated_test-LFPo\n",
      "saving: laser1-premon-EMGr\n",
      "saving: laser1-premon-LFP_\n",
      "saving: laser1-premon-LFPo\n",
      "saving: plugged_test-EMGr\n",
      "saving: plugged_test-LFP_\n",
      "saving: plugged_test-LFPo\n",
      "saving: mon2-EMGr\n",
      "saving: mon2-LFP_\n",
      "saving: mon2-LFPo\n",
      "saving: mon1-EMGr\n",
      "saving: mon1-LFP_\n",
      "saving: mon1-LFPo\n"
     ]
    }
   ],
   "source": [
    "acr.info_pipeline.prepro_lite('ACR_13')"
   ]
  },
  {
   "cell_type": "code",
   "execution_count": null,
   "metadata": {},
   "outputs": [],
   "source": [
    "raw_data = {}\n",
    "ls = params[\"light_stores\"]\n",
    "try:\n",
    "    for store in params['lite_stores']:\n",
    "        raw_data[rec + \"-\" + store] = kx.io.get_(\n",
    "            path, store, channel=[\"channels\"][store], t1=0, t2=120\n",
    "        )\n",
    "except:\n",
    "    print(\"no lite stores for \" + rec)\n",
    "    print(\"using raw_stores for \" + rec)\n",
    "    for store in [\"raw_stores\"]:\n",
    "        raw_[rec + \"-\" + store] = kx.io.get_(\n",
    "            path, store, channel=[\"channels\"][store], t1=0, t2=120\n",
    "        )"
   ]
  },
  {
   "cell_type": "code",
   "execution_count": null,
   "metadata": {},
   "outputs": [],
   "source": [
    "e = kx.io.get_data('/Volumes/opto_loc/Data/ACR_13/ACR_13-sdpi-post/', 'EEGr', channel=[1, 2], t1=0, t2=300)"
   ]
  },
  {
   "cell_type": "code",
   "execution_count": 32,
   "metadata": {},
   "outputs": [
    {
     "name": "stdout",
     "output_type": "stream",
     "text": [
      "read from t=0s to t=988.8s\n",
      "Using 24414.0625 Hz as SEV sampling rate for NNXo\n",
      "read from t=0s to t=988.8s\n",
      "Using 24414.0625 Hz as SEV sampling rate for NNXr\n",
      "read from t=0s to t=988.8s\n",
      "Using 1017.2526 Hz as SEV sampling rate for EEGr\n",
      "read from t=0s to t=988.8s\n",
      "Using 1017.2526 Hz as SEV sampling rate for EMGr\n",
      "read from t=0s to t=1000.92s\n",
      "Using 24414.0625 Hz as SEV sampling rate for NNXo\n",
      "read from t=0s to t=1000.92s\n",
      "Using 24414.0625 Hz as SEV sampling rate for NNXr\n",
      "read from t=0s to t=1000.92s\n",
      "Using 1017.2526 Hz as SEV sampling rate for EEGr\n",
      "read from t=0s to t=1000.92s\n",
      "Using 1017.2526 Hz as SEV sampling rate for EMGr\n",
      "read from t=0s to t=857.06s\n",
      "Using 24414.0625 Hz as SEV sampling rate for NNXo\n",
      "read from t=0s to t=857.06s\n",
      "Using 24414.0625 Hz as SEV sampling rate for NNXr\n",
      "read from t=0s to t=857.06s\n",
      "Using 1017.2526 Hz as SEV sampling rate for EEGr\n",
      "read from t=0s to t=857.06s\n",
      "Using 1017.2526 Hz as SEV sampling rate for EMGr\n",
      "read from t=0s to t=798.81s\n",
      "Using 24414.0625 Hz as SEV sampling rate for NNXo\n",
      "read from t=0s to t=798.81s\n",
      "Using 24414.0625 Hz as SEV sampling rate for NNXr\n",
      "read from t=0s to t=798.81s\n",
      "Using 305.1758 Hz as SEV sampling rate for EEGr\n",
      "read from t=0s to t=798.81s\n",
      "Using 1017.2526 Hz as SEV sampling rate for EMGr\n",
      "read from t=0s to t=812.19s\n",
      "Using 24414.0625 Hz as SEV sampling rate for NNXo\n",
      "read from t=0s to t=812.19s\n",
      "Using 24414.0625 Hz as SEV sampling rate for NNXr\n",
      "read from t=0s to t=812.19s\n",
      "Using 1017.2526 Hz as SEV sampling rate for EEGr\n",
      "read from t=0s to t=812.19s\n",
      "Using 1017.2526 Hz as SEV sampling rate for EMGr\n",
      "read from t=0s to t=821.16s\n",
      "Using 24414.0625 Hz as SEV sampling rate for NNXo\n",
      "read from t=0s to t=821.16s\n",
      "Using 24414.0625 Hz as SEV sampling rate for NNXr\n",
      "read from t=0s to t=821.16s\n",
      "Using 1017.2526 Hz as SEV sampling rate for EEGr\n",
      "read from t=0s to t=821.16s\n",
      "Using 1017.2526 Hz as SEV sampling rate for EMGr\n",
      "read from t=0s to t=580.35s\n",
      "Using 24414.0625 Hz as SEV sampling rate for NNXo\n",
      "read from t=0s to t=580.35s\n",
      "Using 24414.0625 Hz as SEV sampling rate for NNXr\n",
      "read from t=0s to t=580.35s\n",
      "Using 1017.2526 Hz as SEV sampling rate for EEGr\n",
      "read from t=0s to t=580.35s\n",
      "Using 1017.2526 Hz as SEV sampling rate for EMGr\n",
      "decimating: laser1-bl-NNXo\n",
      "decimating: laser1-bl-NNXr\n",
      "decimating: laser1-bl-EEGr\n",
      "decimating: laser1-bl-EMGr\n",
      "decimating: laser1-post2-NNXo\n",
      "decimating: laser1-post2-NNXr\n",
      "decimating: laser1-post2-EEGr\n",
      "decimating: laser1-post2-EMGr\n",
      "decimating: laser1-NNXo\n",
      "decimating: laser1-NNXr\n",
      "decimating: laser1-EEGr\n",
      "decimating: laser1-EMGr\n",
      "decimating: sdpi-post-NNXo\n",
      "decimating: sdpi-post-NNXr\n",
      "decimating: sdpi-post-EEGr\n",
      "decimating: sdpi-post-EMGr\n",
      "decimating: sdpi-NNXo\n",
      "decimating: sdpi-NNXr\n",
      "decimating: sdpi-EEGr\n",
      "decimating: sdpi-EMGr\n",
      "decimating: laser1-post1-NNXo\n",
      "decimating: laser1-post1-NNXr\n",
      "decimating: laser1-post1-EEGr\n",
      "decimating: laser1-post1-EMGr\n",
      "decimating: sdpi-bl-NNXo\n",
      "decimating: sdpi-bl-NNXr\n",
      "decimating: sdpi-bl-EEGr\n",
      "decimating: sdpi-bl-EMGr\n",
      "saving: laser1-bl-NNXo\n",
      "saving: laser1-bl-NNXr\n",
      "saving: laser1-bl-EEGr\n",
      "saving: laser1-bl-EMGr\n",
      "saving: laser1-post2-NNXo\n",
      "saving: laser1-post2-NNXr\n",
      "saving: laser1-post2-EEGr\n",
      "saving: laser1-post2-EMGr\n",
      "saving: laser1-NNXo\n",
      "saving: laser1-NNXr\n",
      "saving: laser1-EEGr\n",
      "saving: laser1-EMGr\n",
      "saving: sdpi-post-NNXo\n",
      "saving: sdpi-post-NNXr\n",
      "saving: sdpi-post-EEGr\n",
      "saving: sdpi-post-EMGr\n",
      "saving: sdpi-NNXo\n",
      "saving: sdpi-NNXr\n",
      "saving: sdpi-EEGr\n",
      "saving: sdpi-EMGr\n",
      "saving: laser1-post1-NNXo\n",
      "saving: laser1-post1-NNXr\n",
      "saving: laser1-post1-EEGr\n",
      "saving: laser1-post1-EMGr\n",
      "saving: sdpi-bl-NNXo\n",
      "saving: sdpi-bl-NNXr\n",
      "saving: sdpi-bl-EEGr\n",
      "saving: sdpi-bl-EMGr\n"
     ]
    },
    {
     "data": {
      "text/plain": [
       "True"
      ]
     },
     "execution_count": 32,
     "metadata": {},
     "output_type": "execute_result"
    }
   ],
   "source": [
    "acr.info_pipeline.prepro_test('ACR_14', target=100, type='full')"
   ]
  },
  {
   "cell_type": "code",
   "execution_count": null,
   "metadata": {},
   "outputs": [],
   "source": []
  }
 ],
 "metadata": {
  "kernelspec": {
   "display_name": "Python 3.10.6 ('acr')",
   "language": "python",
   "name": "python3"
  },
  "language_info": {
   "codemirror_mode": {
    "name": "ipython",
    "version": 3
   },
   "file_extension": ".py",
   "mimetype": "text/x-python",
   "name": "python",
   "nbconvert_exporter": "python",
   "pygments_lexer": "ipython3",
   "version": "3.10.6"
  },
  "orig_nbformat": 4,
  "vscode": {
   "interpreter": {
    "hash": "8452ab91a3948d5467ebd39dafa915e230ab5ad1e9d110d083c75b8319b6ff58"
   }
  }
 },
 "nbformat": 4,
 "nbformat_minor": 2
}

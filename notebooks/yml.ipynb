{
 "cells": [
  {
   "cell_type": "code",
   "execution_count": 4,
   "metadata": {},
   "outputs": [],
   "source": [
    "import yaml\n",
    "from pathlib import Path"
   ]
  },
  {
   "cell_type": "code",
   "execution_count": 5,
   "metadata": {},
   "outputs": [
    {
     "data": {
      "text/plain": [
       "{'EMGdatapath': None,\n",
       " 'datasets': [{'binPath': 'L:\\\\Data\\\\ACR_12\\\\ACR_12-control1-bl',\n",
       "   'chanLabelsMap': None,\n",
       "   'chanList': ['EMGr-1',\n",
       "    'EEG_-1',\n",
       "    'EEG_-2',\n",
       "    'LFP_-2',\n",
       "    'LFP_-4',\n",
       "    'LFP_-6',\n",
       "    'LFP_-8',\n",
       "    'LFP_-12',\n",
       "    'LFP_-15'],\n",
       "   'datatype': 'TDT',\n",
       "   'name': None}],\n",
       " 'downSample': 100.0,\n",
       " 'ds_method': 'interpolation',\n",
       " 'kwargs_sleep': {'states_config_file': 'L:\\\\Data\\\\ACR_PROJECT_MATERIALS\\\\states_config.yml'},\n",
       " 'tEnd': 7200,\n",
       " 'tStart': 0}"
      ]
     },
     "execution_count": 5,
     "metadata": {},
     "output_type": "execute_result"
    }
   ],
   "source": [
    "dp = f'/Volumes/opto_loc/Data/ACR_PROJECT_MATERIALS/ACR_12/config-files/'\n",
    "file = f'ACR_12_sleepscore-config_control1-bl-chunk1'\n",
    "fp = f'{dp}{file}.yml'\n",
    "with open(fp) as f:\n",
    "        data = yaml.load(f, Loader=yaml.FullLoader)\n",
    "data"
   ]
  },
  {
   "cell_type": "code",
   "execution_count": 14,
   "metadata": {},
   "outputs": [
    {
     "data": {
      "text/plain": [
       "'L:\\\\Data\\\\ACR_12\\\\ACR_12-control1-bl'"
      ]
     },
     "execution_count": 14,
     "metadata": {},
     "output_type": "execute_result"
    }
   ],
   "source": [
    "data['datasets'][0]['binPath']"
   ]
  },
  {
   "cell_type": "code",
   "execution_count": 8,
   "metadata": {},
   "outputs": [],
   "source": [
    "# Quick Editing of Config Files\n",
    "\n",
    "dp = f'/Volumes/opto_loc/Data/ACR_PROJECT_MATERIALS/ACR_12/config-files/'\n",
    "file = f'ACR_12_sleepscore-config_control1-bl-chunk1'\n",
    "fp = f'{dp}{file}.yml'\n",
    "\n",
    "folder = Path(dp)\n",
    "files = [str(p) for p in folder.glob('*.yml')]\n",
    "for config_path in files:\n",
    "    with open(config_path) as f:\n",
    "        data = yaml.load(f, Loader=yaml.FullLoader)\n",
    "    data['datasets'][0]['chanList'] = [\"EMGr-1\", \"EEG_-1\", \"EEG_-2\", \"LFP_-2\", \"LFP_-4\", \"LFP_-6\", \"LFP_-8\", \"LFP_-12\", \"LFP_-15\"]\n",
    "    with open(config_path, 'w') as f:\n",
    "        yaml.dump(data, f)"
   ]
  },
  {
   "cell_type": "code",
   "execution_count": 15,
   "metadata": {},
   "outputs": [],
   "source": [
    "def generate_config(subject='', chunks=6, exp='', chans=[\"EMGr-1\", \"EEG_-1\", \"EEG_-2\", \"LFP_-2\", \"LFP_-6\", \"LFP_-10\", \"LFP_-14\"]):\n",
    "    config_directory = f'/Volumes/opto_loc/Data/ACR_PROJECT_MATERIALS/'+subject+'/config-files/'\n",
    "    data_path = f'L:\\Data\\{subject}\\{subject}-{exp}'\n",
    "    for chunk in range(1, chunks+1):\n",
    "        #First load the file\n",
    "        config_path = config_directory+f'{subject}_sleepscore-config_{exp}-chunk{chunk}.yml'\n",
    "        with open(config_path) as f:\n",
    "            data = yaml.load(f, Loader=yaml.FullLoader)\n",
    "        # set the binPath\n",
    "        data['datasets'][0]['binPath'] = data_path\n",
    "        # Set the channels\n",
    "        data['datasets'][0]['chanList'] = chans\n",
    "        # Set the times\n",
    "        tend = chunk*7200\n",
    "        data['tStart'] = tend-7200\n",
    "        data['tEnd'] = tend\n",
    "        # Save the file\n",
    "        with open(config_path, 'w') as f:\n",
    "            yaml.dump(data, f)"
   ]
  },
  {
   "cell_type": "code",
   "execution_count": 17,
   "metadata": {},
   "outputs": [],
   "source": [
    "generate_config(subject='ACR_13', chunks=6, exp='laser1-bl', chans=[\"EMGr-1\", \"EEG_-1\", \"EEG_-2\", \"LFP_-3\", \"LFP_-6\", \"LFP_-13\", \"LFP_-16\", \"LFPo-3\", \"LFPo-6\", \"LFPo-13\", \"LFPo-16\"])"
   ]
  },
  {
   "cell_type": "code",
   "execution_count": 18,
   "metadata": {},
   "outputs": [],
   "source": [
    "def gen_config(subject='', chunks=6, exp='', chans=[\"EMGr-1\", \"EEG_-1\", \"EEG_-2\", \"LFP_-2\", \"LFP_-6\", \"LFP_-10\", \"LFP_-14\"]):\n",
    "    template_name = 'ACR_X_sleepscore-config_experiment-chunk.yml'\n",
    "    config_directory = f'/Volumes/opto_loc/Data/ACR_PROJECT_MATERIALS/'+subject+'/config-files/'\n",
    "    template_path = config_directory+template_name\n",
    "    data_path = f'L:\\Data\\{subject}\\{subject}-{exp}'\n",
    "    for chunk in range(1, chunks+1):\n",
    "        #First load the template file\n",
    "        with open(template_path) as f:\n",
    "            data = yaml.load(f, Loader=yaml.FullLoader)\n",
    "        # set the binPath\n",
    "        data['datasets'][0]['binPath'] = data_path\n",
    "        # Set the channels\n",
    "        data['datasets'][0]['chanList'] = chans\n",
    "        # Set the times\n",
    "        tend = chunk*7200\n",
    "        data['tStart'] = tend-7200\n",
    "        data['tEnd'] = tend\n",
    "        # Save the file with a new name based on the actual subject, experiment, and chunk\n",
    "        config_path = config_directory+f'{subject}_sleepscore-config_{exp}-chunk{chunk}.yml'\n",
    "        with open(config_path, 'w') as f:\n",
    "            yaml.dump(data, f)"
   ]
  },
  {
   "cell_type": "code",
   "execution_count": 19,
   "metadata": {},
   "outputs": [],
   "source": [
    "gen_config(subject='ACR_13', chunks=6, exp='laser1-bl', chans=[\"EMGr-1\", \"EEG_-1\", \"EEG_-2\", \"LFP_-3\", \"LFP_-6\", \"LFP_-13\", \"LFP_-16\", \"LFPo-3\", \"LFPo-6\", \"LFPo-13\", \"LFPo-16\"])"
   ]
  }
 ],
 "metadata": {
  "kernelspec": {
   "display_name": "Python 3.10.6 ('acr')",
   "language": "python",
   "name": "python3"
  },
  "language_info": {
   "codemirror_mode": {
    "name": "ipython",
    "version": 3
   },
   "file_extension": ".py",
   "mimetype": "text/x-python",
   "name": "python",
   "nbconvert_exporter": "python",
   "pygments_lexer": "ipython3",
   "version": "3.10.6"
  },
  "orig_nbformat": 4,
  "vscode": {
   "interpreter": {
    "hash": "8452ab91a3948d5467ebd39dafa915e230ab5ad1e9d110d083c75b8319b6ff58"
   }
  }
 },
 "nbformat": 4,
 "nbformat_minor": 2
}

{
 "cells": [
  {
   "cell_type": "code",
   "execution_count": 30,
   "metadata": {},
   "outputs": [],
   "source": [
    "import yaml\n",
    "from pathlib import Path"
   ]
  },
  {
   "cell_type": "code",
   "execution_count": 8,
   "metadata": {},
   "outputs": [],
   "source": [
    "# Quick Editing of Config Files\n",
    "\n",
    "dp = f'/Volumes/opto_loc/Data/ACR_PROJECT_MATERIALS/ACR_12/config-files/'\n",
    "file = f'ACR_12_sleepscore-config_control1-bl-chunk1'\n",
    "fp = f'{dp}{file}.yml'\n",
    "\n",
    "folder = Path(dp)\n",
    "files = [str(p) for p in folder.glob('*.yml')]\n",
    "for config_path in files:\n",
    "    with open(config_path) as f:\n",
    "        data = yaml.load(f, Loader=yaml.FullLoader)\n",
    "    data['datasets'][0]['chanList'] = [\"EMGr-1\", \"EEG_-1\", \"EEG_-2\", \"LFP_-2\", \"LFP_-4\", \"LFP_-6\", \"LFP_-8\", \"LFP_-12\", \"LFP_-15\"]\n",
    "    with open(config_path, 'w') as f:\n",
    "        yaml.dump(data, f)"
   ]
  }
 ],
 "metadata": {
  "kernelspec": {
   "display_name": "Python 3.10.6 ('acr')",
   "language": "python",
   "name": "python3"
  },
  "language_info": {
   "codemirror_mode": {
    "name": "ipython",
    "version": 3
   },
   "file_extension": ".py",
   "mimetype": "text/x-python",
   "name": "python",
   "nbconvert_exporter": "python",
   "pygments_lexer": "ipython3",
   "version": "3.10.6"
  },
  "orig_nbformat": 4,
  "vscode": {
   "interpreter": {
    "hash": "8452ab91a3948d5467ebd39dafa915e230ab5ad1e9d110d083c75b8319b6ff58"
   }
  }
 },
 "nbformat": 4,
 "nbformat_minor": 2
}

{
 "cells": [
  {
   "cell_type": "code",
   "execution_count": 1,
   "metadata": {},
   "outputs": [],
   "source": [
    "%matplotlib widget\n",
    "%reload_ext autoreload\n",
    "%autoreload 2\n",
    "\n",
    "import numpy as np\n",
    "import pandas as pd\n",
    "import tdt\n",
    "from pathlib import Path\n",
    "import matplotlib.pyplot as plt\n",
    "import seaborn as sns\n",
    "import yaml\n",
    "import xarray as xr\n",
    "\n",
    "import kdephys.hypno as kh\n",
    "import kdephys.pd as kp\n",
    "import kdephys.xr as kx\n",
    "import kdephys.utils as ku\n",
    "import kdephys.ssfm as ss\n",
    "import ipywidgets as wd\n",
    "import acr"
   ]
  },
  {
   "cell_type": "code",
   "execution_count": null,
   "metadata": {},
   "outputs": [],
   "source": [
    "import acr.subjects as asub\n",
    "def load_subject_data(info, stores=['EEGr', 'NNXr']):\n",
    "    data = {}\n",
    "    for exp in info['complete_key_list']:\n",
    "        t1 = info['load_times'][exp][0]\n",
    "        t2 = info['load_times'][exp][1]\n",
    "        for store in stores:\n",
    "            chans = info['channels'][store]\n",
    "            data[exp+'-'+store] = kx.io.get_data(info['paths'][exp], store, t1=t1, t2=t2, channel=chans)\n",
    "    return data"
   ]
  },
  {
   "cell_type": "code",
   "execution_count": null,
   "metadata": {},
   "outputs": [],
   "source": [
    "a12 = load_subject_data(asub.a12_info, stores=['EEGr', 'LFP_'])\n",
    "a12_spg = kx.spectral.get_spg_from_dataset(a12)\n",
    "a12_bp = kx.spectral.get_bp_from_dataset(a12_spg)"
   ]
  },
  {
   "cell_type": "code",
   "execution_count": null,
   "metadata": {},
   "outputs": [],
   "source": [
    "key = 'control1-bl'\n",
    "data_tag = 'EEGr'\n",
    "key = key+'-'+data_tag\n",
    "for d in a12.keys():\n",
    "    if key in d:\n",
    "        start_time = a12[d].datetime.values.min()\n",
    "        print(start_time)"
   ]
  },
  {
   "cell_type": "code",
   "execution_count": null,
   "metadata": {},
   "outputs": [],
   "source": [
    "a12['control1-bl-LFP_'].datetime.values.min()"
   ]
  },
  {
   "cell_type": "code",
   "execution_count": null,
   "metadata": {},
   "outputs": [],
   "source": [
    "a12, spg, bp, hyp = acr.io.acr_load_master(asub.a12_info)"
   ]
  },
  {
   "cell_type": "code",
   "execution_count": null,
   "metadata": {},
   "outputs": [],
   "source": [
    "acr.io.save_dataframes(spg, asub.a12_info, type='-spg')\n",
    "acr.io.save_dataframes(bp, asub.a12_info, type='-bp')\n",
    "acr.io.save_dataframes(hyp, asub.a12_info, type='-hyp')"
   ]
  }
 ],
 "metadata": {
  "kernelspec": {
   "display_name": "Python 3.10.6 ('acr')",
   "language": "python",
   "name": "python3"
  },
  "language_info": {
   "codemirror_mode": {
    "name": "ipython",
    "version": 3
   },
   "file_extension": ".py",
   "mimetype": "text/x-python",
   "name": "python",
   "nbconvert_exporter": "python",
   "pygments_lexer": "ipython3",
   "version": "3.10.6"
  },
  "orig_nbformat": 4,
  "vscode": {
   "interpreter": {
    "hash": "8452ab91a3948d5467ebd39dafa915e230ab5ad1e9d110d083c75b8319b6ff58"
   }
  }
 },
 "nbformat": 4,
 "nbformat_minor": 2
}

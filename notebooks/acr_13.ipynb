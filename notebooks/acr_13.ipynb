{
 "cells": [
  {
   "cell_type": "code",
   "execution_count": null,
   "metadata": {},
   "outputs": [],
   "source": [
    "%matplotlib widget\n",
    "%reload_ext autoreload\n",
    "%autoreload 2\n",
    "\n",
    "import numpy as np\n",
    "import pandas as pd\n",
    "import tdt\n",
    "from pathlib import Path\n",
    "import matplotlib.pyplot as plt\n",
    "import seaborn as sns\n",
    "import yaml\n",
    "import xarray as xr\n",
    "\n",
    "import kdephys.hypno as kh\n",
    "import kdephys.pd as kpd\n",
    "import kdephys.xr as kx\n",
    "import kdephys.utils as ku\n",
    "import kdephys.ssfm as ss\n",
    "\n",
    "import acr.subjects as subs\n",
    "import acr\n",
    "import plotly.express as px"
   ]
  },
  {
   "cell_type": "markdown",
   "metadata": {},
   "source": [
    "# Scoring Parameters/Times"
   ]
  },
  {
   "cell_type": "code",
   "execution_count": null,
   "metadata": {},
   "outputs": [],
   "source": [
    "info = subs.a13_info\n",
    "info['paths']['laser1']\n",
    "\n",
    "# load a second of the data to get the metadata\n",
    "data = tdt.read_block(info[\"paths\"]['laser1'], t1=0, t2=1)\n",
    "\n",
    "# and load all of the epocs\n",
    "ep = tdt.read_block(info[\"paths\"]['laser1'], t1=0, t2=0, evtype=['epocs'])\n",
    "\n",
    "#start of the file\n",
    "start_time = np.datetime64(data.info.start_date)\n",
    "\n",
    "# First times we want to know are the start and end times of the laser stimulation:\n",
    "stim_on = ep.epocs.Wdr_.onset[2]\n",
    "stim_off = ep.epocs.Wdr_.offset[2]\n",
    "\n",
    "# Then we will give ourselves a 5-min buffer on either side of the laser stimulation\n",
    "stim_on = stim_on - 5*60\n",
    "stim_off = stim_off + 5*60\n",
    "\n",
    "# Then we also want to set the times for the second bout of receovery sleep:\n",
    "# First we will specify RS2 as starting at 2:05pm, which is ~a 5min buffer from when I noted it as ending\n",
    "rs_start = np.datetime64('2022-09-09T14:05:00')\n",
    "# Then we get that as a TDT-time\n",
    "rs_start_sec = (rs_start - start_time) / np.timedelta64(1, 's')"
   ]
  },
  {
   "cell_type": "code",
   "execution_count": null,
   "metadata": {},
   "outputs": [],
   "source": [
    "# we need hypnogram start times (hst) to get the correct times loaded for the hypnogram\n",
    "# First specify them in seconds:\n",
    "hst = {}\n",
    "hst['laser1-stim'] = 16067\n",
    "hst['laser1-rs'] = 25127\n",
    "hst['laser1-bl'] = 0\n",
    "\n",
    "# Then convert to datetime64:\n",
    "#stim-1\n",
    "t = tdt.read_block(info[\"paths\"]['laser1'], t1=16067, t2=16068)\n",
    "hst['laser1-stim'] = np.datetime64(t.info.start_date) + pd.to_timedelta(16067, unit='s')\n",
    "\n",
    "# RS\n",
    "rs = tdt.read_block(info[\"paths\"]['laser1'], t1=rs_start_sec, t2=rs_start_sec+1)\n",
    "hst['laser1-rs'] = np.datetime64(rs.info.start_date) + pd.to_timedelta(rs_start_sec, unit='s')\n",
    "\n",
    "# BL\n",
    "bl = tdt.read_block(info[\"paths\"]['laser1-bl'], t1=0, t2=1)\n",
    "hst['laser1-bl'] = np.datetime64(bl.info.start_date)"
   ]
  },
  {
   "cell_type": "code",
   "execution_count": 35,
   "metadata": {},
   "outputs": [],
   "source": [
    "# We will have to do some manual loading of the hypnograms because they are discontinuous\n",
    "def hypno_path(subject, key):\n",
    "    hypnograms_yaml_file = (\n",
    "        \"/Volumes/opto_loc/Data/ACR_PROJECT_MATERIALS/acr-hypno-paths.yaml\"\n",
    "    )\n",
    "    with open(hypnograms_yaml_file) as fp:\n",
    "        yaml_data = yaml.safe_load(fp)\n",
    "    root = Path(yaml_data[subject][\"hypno-root\"])\n",
    "    path = root / (key + \".txt\")\n",
    "    return path\n",
    "\n",
    "hypno = {}\n",
    "p = hypno_path('ACR_13', 'hypno_laser1-stim')\n",
    "hypno['laser1-stim'] = kh.load_hypno_file(p, hst['laser1-stim'])\n",
    "\n",
    "p = hypno_path('ACR_13', 'hypno_laser1-rs_chunk1')\n",
    "hypno['laser1-rs'] = kh.load_hypno_file(p, hst['laser1-rs'])\n",
    "\n",
    "hypno['laser1-bl'] = acr.io._load_hypno('ACR_13', 'laser1-bl', hst['laser1-bl'])\n",
    "\n",
    "hypno['laser1'] = pd.concat([hypno['laser1-stim'], hypno['laser1-rs']])"
   ]
  },
  {
   "cell_type": "code",
   "execution_count": 36,
   "metadata": {},
   "outputs": [
    {
     "name": "stdout",
     "output_type": "stream",
     "text": [
      "read from t=0s to t=15274.98s\n",
      "Using 1017.2526 Hz as SEV sampling rate for EEGr\n",
      "read from t=0s to t=15274.98s\n",
      "Using 610.3516 Hz as SEV sampling rate for LFP_\n",
      "read from t=0s to t=15274.98s\n",
      "Using 610.3516 Hz as SEV sampling rate for LFPo\n",
      "read from t=16067s to t=30020.83s\n",
      "Using 1017.2526 Hz as SEV sampling rate for EEGr\n",
      "read from t=16067s to t=30020.83s\n",
      "Using 610.3516 Hz as SEV sampling rate for LFP_\n",
      "read from t=16067s to t=30020.83s\n",
      "Using 610.3516 Hz as SEV sampling rate for LFPo\n"
     ]
    },
    {
     "ename": "AttributeError",
     "evalue": "'bool' object has no attribute 'keys'",
     "output_type": "error",
     "traceback": [
      "\u001b[0;31m---------------------------------------------------------------------------\u001b[0m",
      "\u001b[0;31mAttributeError\u001b[0m                            Traceback (most recent call last)",
      "\u001b[1;32m/home/kdriessen/github_t2/acr/notebooks/acr_13.ipynb Cell 6\u001b[0m in \u001b[0;36m<cell line: 2>\u001b[0;34m()\u001b[0m\n\u001b[1;32m      <a href='vscode-notebook-cell://ssh-remote%2Btononi-2/home/kdriessen/github_t2/acr/notebooks/acr_13.ipynb#W3sdnNjb2RlLXJlbW90ZQ%3D%3D?line=0'>1</a>\u001b[0m a13_info \u001b[39m=\u001b[39m subs\u001b[39m.\u001b[39ma13_info\n\u001b[0;32m----> <a href='vscode-notebook-cell://ssh-remote%2Btononi-2/home/kdriessen/github_t2/acr/notebooks/acr_13.ipynb#W3sdnNjb2RlLXJlbW90ZQ%3D%3D?line=1'>2</a>\u001b[0m data, spg, bp, hyp \u001b[39m=\u001b[39m acr\u001b[39m.\u001b[39;49mio\u001b[39m.\u001b[39;49macr_load_master(a13_info, \u001b[39mtype\u001b[39;49m\u001b[39m=\u001b[39;49m\u001b[39m\"\u001b[39;49m\u001b[39mxarray\u001b[39;49m\u001b[39m\"\u001b[39;49m, stores\u001b[39m=\u001b[39;49m[\u001b[39m\"\u001b[39;49m\u001b[39mEEGr\u001b[39;49m\u001b[39m\"\u001b[39;49m, \u001b[39m\"\u001b[39;49m\u001b[39mLFP_\u001b[39;49m\u001b[39m\"\u001b[39;49m, \u001b[39m\"\u001b[39;49m\u001b[39mLFPo\u001b[39;49m\u001b[39m\"\u001b[39;49m], hyp\u001b[39m=\u001b[39;49m\u001b[39mFalse\u001b[39;49;00m)\n",
      "File \u001b[0;32m~/github_t2/acr/acr/io.py:247\u001b[0m, in \u001b[0;36macr_load_master\u001b[0;34m(info, type, stores, hyp)\u001b[0m\n\u001b[1;32m    244\u001b[0m     data \u001b[39m=\u001b[39m add_hypnograms_to_dataset(data, hyp)\n\u001b[1;32m    246\u001b[0m \u001b[39m# Calculate the spectral data\u001b[39;00m\n\u001b[0;32m--> 247\u001b[0m spg, bp \u001b[39m=\u001b[39m get_spectral(data, hyp)\n\u001b[1;32m    249\u001b[0m \u001b[39mif\u001b[39;00m \u001b[39mtype\u001b[39m \u001b[39m==\u001b[39m \u001b[39m\"\u001b[39m\u001b[39mxarray\u001b[39m\u001b[39m\"\u001b[39m:\n\u001b[1;32m    250\u001b[0m     \u001b[39mreturn\u001b[39;00m data, spg, bp, hyp \u001b[39mif\u001b[39;00m hyp \u001b[39melse\u001b[39;00m data, spg, bp\n",
      "File \u001b[0;32m~/github_t2/acr/acr/io.py:127\u001b[0m, in \u001b[0;36mget_spectral\u001b[0;34m(data, hyp, bp_def)\u001b[0m\n\u001b[1;32m    125\u001b[0m \u001b[39mdef\u001b[39;00m \u001b[39mget_spectral\u001b[39m(data, hyp, bp_def\u001b[39m=\u001b[39mbands):\n\u001b[1;32m    126\u001b[0m     spg \u001b[39m=\u001b[39m kx\u001b[39m.\u001b[39mspectral\u001b[39m.\u001b[39mget_spg_from_dataset(data)\n\u001b[0;32m--> 127\u001b[0m     spg \u001b[39m=\u001b[39m add_hypnograms_to_dataset(spg, hyp)\n\u001b[1;32m    128\u001b[0m     bp \u001b[39m=\u001b[39m {}\n\u001b[1;32m    129\u001b[0m     \u001b[39mfor\u001b[39;00m key \u001b[39min\u001b[39;00m \u001b[39mlist\u001b[39m(spg\u001b[39m.\u001b[39mkeys()):\n",
      "File \u001b[0;32m~/github_t2/acr/acr/io.py:118\u001b[0m, in \u001b[0;36madd_hypnograms_to_dataset\u001b[0;34m(dataset, hypno_set)\u001b[0m\n\u001b[1;32m    117\u001b[0m \u001b[39mdef\u001b[39;00m \u001b[39madd_hypnograms_to_dataset\u001b[39m(dataset, hypno_set):\n\u001b[0;32m--> 118\u001b[0m     \u001b[39mfor\u001b[39;00m key \u001b[39min\u001b[39;00m hypno_set\u001b[39m.\u001b[39;49mkeys():\n\u001b[1;32m    119\u001b[0m         \u001b[39mfor\u001b[39;00m exp \u001b[39min\u001b[39;00m dataset\u001b[39m.\u001b[39mkeys():\n\u001b[1;32m    120\u001b[0m             \u001b[39mif\u001b[39;00m key \u001b[39min\u001b[39;00m exp:\n",
      "\u001b[0;31mAttributeError\u001b[0m: 'bool' object has no attribute 'keys'"
     ]
    }
   ],
   "source": [
    "a13_info = subs.a13_info\n",
    "data, spg, bp, hyp = acr.io.acr_load_master(a13_info, type=\"xarray\", stores=[\"EEGr\", \"LFP_\", \"LFPo\"], hyp=False)"
   ]
  },
  {
   "cell_type": "code",
   "execution_count": null,
   "metadata": {},
   "outputs": [],
   "source": [
    "acr.io.save_dataframes(hyp, a13_info, \"-hypno\")\n",
    "acr.io.save_dataframes(bp, a13_info, \"-bp\")\n",
    "hyp = acr.io.load_saved_dataset(a13_info, None, '-hypno')"
   ]
  },
  {
   "cell_type": "code",
   "execution_count": null,
   "metadata": {},
   "outputs": [],
   "source": [
    "bp = acr.io.load_saved_dataset(a13_info, ['-LFP_', '-LFPo'], '-bp')"
   ]
  },
  {
   "cell_type": "code",
   "execution_count": null,
   "metadata": {},
   "outputs": [],
   "source": [
    "# get the average delta value for each channel\n",
    "bp = kpd.pd_utils.add_states_to_dataset(bp, hyp)"
   ]
  },
  {
   "cell_type": "code",
   "execution_count": null,
   "metadata": {},
   "outputs": [],
   "source": [
    "pm = bp['laser1-bl-LFP_'].filt_state(['NREM']).groupby('channel').mean()"
   ]
  },
  {
   "cell_type": "code",
   "execution_count": null,
   "metadata": {},
   "outputs": [],
   "source": [
    "om = bp['laser1-bl-LFPo'].filt_state(['NREM']).groupby('channel').mean()"
   ]
  },
  {
   "cell_type": "code",
   "execution_count": null,
   "metadata": {},
   "outputs": [],
   "source": [
    "p = bp['laser1-LFP_']\n",
    "o = bp['laser1-LFPo']"
   ]
  },
  {
   "cell_type": "code",
   "execution_count": null,
   "metadata": {},
   "outputs": [],
   "source": [
    "stim_p = p.ts(slice(np.datetime64('2022-09-09T10:05:00'), np.datetime64('2022-09-09T12:10:00')))"
   ]
  },
  {
   "cell_type": "code",
   "execution_count": null,
   "metadata": {},
   "outputs": [],
   "source": [
    "stim_o = o.ts(slice(np.datetime64('2022-09-09T10:05:00'), np.datetime64('2022-09-09T12:10:00')))"
   ]
  },
  {
   "cell_type": "code",
   "execution_count": null,
   "metadata": {},
   "outputs": [],
   "source": [
    "stim_p.filt_state()"
   ]
  },
  {
   "cell_type": "code",
   "execution_count": null,
   "metadata": {},
   "outputs": [],
   "source": [
    "bp['laser1-bl-LFPo'].filt_state(['NREM']).ch(4).delta.median()"
   ]
  },
  {
   "cell_type": "code",
   "execution_count": null,
   "metadata": {},
   "outputs": [],
   "source": [
    "bp['laser1-LFPo'].filt_state(['NREM']).ch(4).delta.median()"
   ]
  },
  {
   "cell_type": "code",
   "execution_count": null,
   "metadata": {},
   "outputs": [],
   "source": [
    "p.reset_index(inplace=True)"
   ]
  },
  {
   "cell_type": "code",
   "execution_count": null,
   "metadata": {},
   "outputs": [],
   "source": [
    "op.groupby(['channel', ).mean().plot()"
   ]
  },
  {
   "cell_type": "code",
   "execution_count": null,
   "metadata": {},
   "outputs": [],
   "source": [
    "stim_p.set_index(['datetime','channel'], inplace=True)"
   ]
  },
  {
   "cell_type": "code",
   "execution_count": null,
   "metadata": {},
   "outputs": [],
   "source": [
    "stim_o.set_index(['datetime','channel'], inplace=True)"
   ]
  },
  {
   "cell_type": "code",
   "execution_count": null,
   "metadata": {},
   "outputs": [],
   "source": [
    "stim_p['delta'] = stim_p['delta']/pm['delta']"
   ]
  },
  {
   "cell_type": "code",
   "execution_count": null,
   "metadata": {},
   "outputs": [],
   "source": [
    "stim_o['delta'] = stim_o['delta']/om['delta']"
   ]
  },
  {
   "cell_type": "code",
   "execution_count": null,
   "metadata": {},
   "outputs": [],
   "source": [
    "op_stim = pd.concat([stim_p, stim_o])"
   ]
  },
  {
   "cell_type": "code",
   "execution_count": null,
   "metadata": {},
   "outputs": [],
   "source": [
    "op_stim.filt_state()"
   ]
  },
  {
   "cell_type": "code",
   "execution_count": null,
   "metadata": {},
   "outputs": [],
   "source": [
    "px.box(op_stim.ri().filt_state(), x='channel', y='delta', color='dtype')"
   ]
  },
  {
   "cell_type": "code",
   "execution_count": null,
   "metadata": {},
   "outputs": [],
   "source": [
    "bp['laser1-LFP_']['dtype'] = 'Probe'\n",
    "bp['laser1-LFPo']['dtype'] = 'Optrode'"
   ]
  },
  {
   "cell_type": "code",
   "execution_count": null,
   "metadata": {},
   "outputs": [],
   "source": [
    "probes = [bp['laser1-LFPo'], bp['laser1-LFP_']]\n",
    "ps = pd.concat(probes)"
   ]
  }
 ],
 "metadata": {
  "kernelspec": {
   "display_name": "Python 3.10.6 ('acr')",
   "language": "python",
   "name": "python3"
  },
  "language_info": {
   "codemirror_mode": {
    "name": "ipython",
    "version": 3
   },
   "file_extension": ".py",
   "mimetype": "text/x-python",
   "name": "python",
   "nbconvert_exporter": "python",
   "pygments_lexer": "ipython3",
   "version": "3.10.6"
  },
  "orig_nbformat": 4,
  "vscode": {
   "interpreter": {
    "hash": "8452ab91a3948d5467ebd39dafa915e230ab5ad1e9d110d083c75b8319b6ff58"
   }
  }
 },
 "nbformat": 4,
 "nbformat_minor": 2
}

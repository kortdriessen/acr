{
 "cells": [
  {
   "cell_type": "code",
   "execution_count": null,
   "metadata": {},
   "outputs": [],
   "source": [
    "%matplotlib inline\n",
    "%reload_ext autoreload\n",
    "%autoreload 2\n",
    "\n",
    "import numpy as np\n",
    "import pandas as pd\n",
    "import tdt\n",
    "from pathlib import Path\n",
    "import matplotlib.pyplot as plt\n",
    "import seaborn as sns\n",
    "import yaml\n",
    "import xarray as xr\n",
    "\n",
    "import kdephys.hypno as kh\n",
    "import kdephys.pd as kpd\n",
    "import kdephys.xr as kx\n",
    "import kdephys.utils as ku\n",
    "import kdephys.ssfm as ss\n",
    "\n",
    "import acr.subjects as subs\n",
    "import acr\n",
    "import plotly.express as px"
   ]
  },
  {
   "cell_type": "code",
   "execution_count": null,
   "metadata": {},
   "outputs": [],
   "source": [
    "a12 = {}\n",
    "a12[\"subject\"] = \"ACR_12\"\n",
    "a12[\"complete_key_list\"] = [\"control1-bl\"]\n",
    "a12[\"paths\"] = acr.io.get_acr_paths(a12[\"subject\"], a12[\"complete_key_list\"])\n",
    "a12[\"load_times\"] = {}\n",
    "a12[\"load_times\"][\"control1-bl\"] = (0, 1)\n",
    "a12[\"load_times\"][\"laser1-bl\"] = (0, 0)\n",
    "a12[\"load_times\"][\"control1\"] = (0, 0)\n",
    "a12[\"load_times\"][\"laser1\"] = (0, 0)\n",
    "a12[\"channels\"] = {}\n",
    "a12[\"channels\"][\"EEGr\"] = [1, 2]\n",
    "a12[\"channels\"][\"NNXr\"] = [3, 14]\n",
    "a12[\"channels\"][\"LFP_\"] = [3, 14]\n"
   ]
  },
  {
   "cell_type": "code",
   "execution_count": null,
   "metadata": {},
   "outputs": [],
   "source": [
    "data, spg, bp = acr.io.acr_load_master(a12, type='pandas', stores=['NNXr', 'LFP_'], hyp=False)"
   ]
  },
  {
   "cell_type": "code",
   "execution_count": null,
   "metadata": {},
   "outputs": [],
   "source": [
    "datax, spgx, bpx = acr.io.acr_load_master(a12, type='xarray', stores=['NNXr', 'LFP_'], hyp=False)"
   ]
  },
  {
   "cell_type": "code",
   "execution_count": null,
   "metadata": {},
   "outputs": [],
   "source": [
    "type(bp['control1-bl-LFP_'])"
   ]
  },
  {
   "cell_type": "code",
   "execution_count": null,
   "metadata": {},
   "outputs": [],
   "source": [
    "f, ax = plt.subplots(2, 1, figsize=(20, 10))\n",
    "ax[0].plot(bp['control1-bl-LFP_'].xc(3).dt(), bp['control1-bl-LFP_'].xc(3).sigma)\n",
    "ax[0].plot(bp['control1-bl-NNXr'].xc(3).dt(), bp['control1-bl-NNXr'].xc(3).sigma)\n",
    "ax[1].plot(bp['control1-bl-LFP_'].xc(14).dt(), bp['control1-bl-LFP_'].xc(14).sigma)\n",
    "ax[1].plot(bp['control1-bl-NNXr'].xc(14).dt(), bp['control1-bl-NNXr'].xc(14).sigma)\n",
    "ax[0].set_ylim(0, 100000)"
   ]
  },
  {
   "cell_type": "code",
   "execution_count": null,
   "metadata": {},
   "outputs": [],
   "source": [
    "f, ax = plt.subplots(2, 1, figsize=(20, 10))\n",
    "ax[0].plot(bp['control1-bl-LFP_'].xc(3).dt(), bp['control1-bl-LFP_'].xc(3).delta)\n",
    "ax[0].plot(bp['control1-bl-NNXr'].xc(3).dt(), bp['control1-bl-NNXr'].xc(3).delta)\n",
    "ax[1].plot(bp['control1-bl-LFP_'].xc(14).dt(), bp['control1-bl-LFP_'].xc(14).delta)\n",
    "ax[1].plot(bp['control1-bl-NNXr'].xc(14).dt(), bp['control1-bl-NNXr'].xc(14).delta)\n",
    "ax[0].set_ylim(0, 100000)"
   ]
  },
  {
   "cell_type": "code",
   "execution_count": null,
   "metadata": {},
   "outputs": [],
   "source": [
    "import scipy.signal as signal\n"
   ]
  },
  {
   "cell_type": "code",
   "execution_count": null,
   "metadata": {},
   "outputs": [],
   "source": [
    "def decimate(sig, q=5):\n",
    "    dat = signal.decimate(sig.values, q=q, ftype=\"fir\", axis=0)\n",
    "    rs = xr.DataArray(\n",
    "        dat,\n",
    "        dims=sig.dims,\n",
    "        coords={\n",
    "            **sig[\"datetime\"][::q].coords,\n",
    "            **sig[sig.dims[-1]].coords,\n",
    "        },\n",
    "        attrs=sig.attrs,\n",
    "    )\n",
    "    rs.attrs[\"fs\"] = sig.fs / q\n",
    "    return rs"
   ]
  },
  {
   "cell_type": "code",
   "execution_count": null,
   "metadata": {},
   "outputs": [],
   "source": [
    "ds = datax['control1-bl-NNXr']"
   ]
  },
  {
   "cell_type": "code",
   "execution_count": null,
   "metadata": {},
   "outputs": [],
   "source": [
    "rs = decimate(ds, q=122)"
   ]
  },
  {
   "cell_type": "code",
   "execution_count": null,
   "metadata": {},
   "outputs": [],
   "source": [
    "rs_dict = {}\n",
    "rs_dict['c14'] = rs"
   ]
  },
  {
   "cell_type": "code",
   "execution_count": null,
   "metadata": {},
   "outputs": [],
   "source": [
    "srs, brs = acr.io.get_spectral(rs_dict)"
   ]
  },
  {
   "cell_type": "code",
   "execution_count": null,
   "metadata": {},
   "outputs": [],
   "source": [
    "brs['c14']"
   ]
  },
  {
   "cell_type": "code",
   "execution_count": null,
   "metadata": {},
   "outputs": [],
   "source": [
    "d = data['control1-bl-NNXr']"
   ]
  },
  {
   "cell_type": "code",
   "execution_count": null,
   "metadata": {},
   "outputs": [],
   "source": [
    "@xr.register_dataset_accessor(\"ex\")\n",
    "@xr.register_dataarray_accessor(\"ex\")\n",
    "class xraccessor:\n",
    "    def __init__(self, xarray_obj):\n",
    "        self._obj = xarray_obj\n",
    "\n",
    "    def is_coordinate_on_dimension(self, coord, dim):\n",
    "        return coord in self._obj[dim].coords.keys()\n",
    "\n",
    "    def get_dimension(self, coord):\n",
    "        matching_dims = [\n",
    "            dim for dim in self._obj.dims if self.is_coordinate_on_dimension(coord, dim)\n",
    "        ]\n",
    "        assert (\n",
    "            len(matching_dims) == 1\n",
    "        ), \"Selection coordinate must be present on exatly one dimension.\"\n",
    "        return matching_dims[0]\n",
    "    def xc(self, chan):\n",
    "        return self._obj.sel(channel=chan)"
   ]
  },
  {
   "cell_type": "code",
   "execution_count": null,
   "metadata": {},
   "outputs": [],
   "source": [
    "f, ax = plt.subplots(2, 1, figsize=(20, 10))\n",
    "ax[0].plot(brs['c14'].datetime, brs['c14'].sel(channel=3).delta)\n",
    "ax[0].plot(bp['control1-bl-NNXr'].xc(3).dt(), bp['control1-bl-NNXr'].xc(3).delta)\n",
    "ax[0].set_ylim(0, 100000)"
   ]
  },
  {
   "cell_type": "code",
   "execution_count": null,
   "metadata": {},
   "outputs": [],
   "source": [
    "t_end = [40, 60, 80]\n",
    "paths = ['p1', 'p2', 'p3']\n",
    "\n",
    "def create_string(st, intg):\n",
    "    return st + str(intg)\n",
    "\n",
    "recs = [create_string(p, end) for p, end in zip(paths, t_end)]\n",
    "recs"
   ]
  },
  {
   "cell_type": "code",
   "execution_count": null,
   "metadata": {},
   "outputs": [],
   "source": [
    "ferrule_data = pd.read_csv(p, header=18, sep=';')"
   ]
  },
  {
   "cell_type": "code",
   "execution_count": null,
   "metadata": {},
   "outputs": [],
   "source": [
    "ferrule_data"
   ]
  },
  {
   "cell_type": "code",
   "execution_count": null,
   "metadata": {},
   "outputs": [],
   "source": [
    "# convert all commas to dots\n",
    "ferrule_data = ferrule_data.replace(',', '.', regex=True)\n",
    "ferrule_data['Power (W)'] = ferrule_data['Power (W)'].astype(float)\n",
    "ferrule_data"
   ]
  },
  {
   "cell_type": "code",
   "execution_count": null,
   "metadata": {},
   "outputs": [],
   "source": [
    "def read_ferrule_data(path):\n",
    "        \"\"\"\n",
    "        Reads the ferrule data from the specified path (single .csv file).\n",
    "        \"\"\"\n",
    "\n",
    "        path = Path(path)\n",
    "        \n",
    "        # Read the ferrule data\n",
    "        ferrule_data = pd.read_csv(path, header=18, sep=';')\n",
    "        ferrule_data = ferrule_data.replace(',', '.', regex=True).astype(float)\n",
    "\n",
    "        # Convert to seconds and microWatts\n",
    "        ferrule_data['Power (W)'] = ferrule_data['Power (W)'] * 1e6\n",
    "        ferrule_data['Time (ms)'] = ferrule_data['Time (ms)']/1e3\n",
    "\n",
    "        # rename the columns with the correct units\n",
    "        ferrule_data.rename(columns={'Time (ms)': 'Time (s)', 'Power (W)': 'Power (uW)'}, inplace=True)\n",
    "\n",
    "        #add a column for the ferrule ID\n",
    "        ferrule_data['Ferrule'] = path.stem.split('-')[0]\n",
    "\n",
    "        #add a column for the patch-cord identifier (or fiber split)\n",
    "        ferrule_data['Fiber'] = path.stem.split('-')[1]\n",
    "\n",
    "        # add a column for the knob value\n",
    "        ferrule_data['Knob'] = path.stem.split('-')[-1]\n",
    "\n",
    "        return ferrule_data"
   ]
  },
  {
   "cell_type": "code",
   "execution_count": null,
   "metadata": {},
   "outputs": [],
   "source": [
    "p = '/Volumes/opto_loc/Data/ACR_PROJECT_MATERIALS/ferrules/f1-pc1-9.0-2.41-ss-0.5hz(warm1).csv'\n",
    "data = read_ferrule_data(p)"
   ]
  },
  {
   "cell_type": "code",
   "execution_count": 146,
   "metadata": {},
   "outputs": [
    {
     "data": {
      "text/plain": [
       "('/Volumes/opto_loc/Data/ACR_PROJECT_MATERIALS/ferrules',\n",
       " 'f1-pc1-9.0-2.41-ss-0.5hz(warm1).csv')"
      ]
     },
     "execution_count": 146,
     "metadata": {},
     "output_type": "execute_result"
    }
   ],
   "source": [
    "os.path.split(p)"
   ]
  },
  {
   "cell_type": "code",
   "execution_count": 149,
   "metadata": {},
   "outputs": [
    {
     "data": {
      "text/plain": [
       "{'f1-pc1-9.0-2.41-bttn-na(post_warmup).csv',\n",
       " 'f1-pc1-9.0-2.41-ss-0.5hz(short_post_warmup)-1.0amp-2.2offset.csv',\n",
       " 'f1-pc1-9.0-2.41-ss-0.5hz(short_post_warmup).csv',\n",
       " 'f1-pc1-9.0-2.41-ss-0.5hz(short_pre_warmup).csv',\n",
       " 'f1-pc1-9.0-2.41-ss-0.5hz(warm1).csv',\n",
       " 'f1-pc1-9.0-2.41-ss-0.5hz(warm2).csv',\n",
       " 'f1-pc1-9.0-2.41-ss-2hz(post_warmup).csv',\n",
       " 'f1-pc1-9.0-2.41-ttl-2hz(post_warmup)-0.92amp-2.2offset.csv',\n",
       " 'f1-pc1-9.0-2.41-ttl-2hz(post_warmup)-part2.csv',\n",
       " 'f1-pc1-9.0-2.41-ttl-2hz(post_warmup).csv',\n",
       " 'f1-pc1-9.0-2.41-ttl-2hz(pre_warmup).csv'}"
      ]
     },
     "execution_count": 149,
     "metadata": {},
     "output_type": "execute_result"
    }
   ],
   "source": [
    "def get_ferrule_names(root):\n",
    "    root = Path(root)\n",
    "    files = [str(p) for p in root.glob(\"*.csv\")]\n",
    "    ferrule_names = set()\n",
    "    for f in files:\n",
    "        f = Path(f)\n",
    "        ferrule_names.add(os.path.split(f)[1])\n",
    "    return ferrule_names\n",
    "\n",
    "get_ferrule_names('/Volumes/opto_loc/Data/ACR_PROJECT_MATERIALS/ferrules/')"
   ]
  },
  {
   "cell_type": "code",
   "execution_count": null,
   "metadata": {},
   "outputs": [],
   "source": [
    "px.line(data, x='Time (s)', y='Power (uW)')"
   ]
  }
 ],
 "metadata": {
  "kernelspec": {
   "display_name": "Python 3.10.6 ('acr')",
   "language": "python",
   "name": "python3"
  },
  "language_info": {
   "codemirror_mode": {
    "name": "ipython",
    "version": 3
   },
   "file_extension": ".py",
   "mimetype": "text/x-python",
   "name": "python",
   "nbconvert_exporter": "python",
   "pygments_lexer": "ipython3",
   "version": "3.10.6"
  },
  "orig_nbformat": 4,
  "vscode": {
   "interpreter": {
    "hash": "8452ab91a3948d5467ebd39dafa915e230ab5ad1e9d110d083c75b8319b6ff58"
   }
  }
 },
 "nbformat": 4,
 "nbformat_minor": 2
}

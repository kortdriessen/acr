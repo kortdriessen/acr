{
 "cells": [
  {
   "cell_type": "code",
   "execution_count": 2,
   "metadata": {},
   "outputs": [
    {
     "name": "stderr",
     "output_type": "stream",
     "text": [
      "/home/kdriessen/miniconda3/envs/acrdev/lib/python3.10/site-packages/xarray/backends/cfgrib_.py:29: UserWarning: Failed to load cfgrib - most likely there is a problem accessing the ecCodes library. Try `import cfgrib` to get the full error message\n",
      "  warnings.warn(\n"
     ]
    }
   ],
   "source": [
    "%matplotlib inline\n",
    "%reload_ext autoreload\n",
    "%autoreload 2\n",
    "\n",
    "import numpy as np\n",
    "import pandas as pd\n",
    "import tdt\n",
    "from pathlib import Path\n",
    "import matplotlib.pyplot as plt\n",
    "import seaborn as sns\n",
    "import yaml\n",
    "import xarray as xr\n",
    "\n",
    "import kdephys.hypno as kh\n",
    "import kdephys.pd as kpd\n",
    "import kdephys.xr as kx\n",
    "import kdephys.utils as ku\n",
    "\n",
    "import acr\n",
    "import plotly.express as px\n",
    "import acr.info_pipeline as aip"
   ]
  },
  {
   "cell_type": "code",
   "execution_count": 3,
   "metadata": {},
   "outputs": [
    {
     "name": "stdout",
     "output_type": "stream",
     "text": [
      "read from t=0s to t=1013.85s\n",
      "Using 152.5879 Hz as SEV sampling rate for EEG_\n",
      "Using 152.5879 Hz as SEV sampling rate for LFP_\n",
      "Using 152.5879 Hz as SEV sampling rate for LFPo\n",
      "Using 24414.0625 Hz as SEV sampling rate for NNXo\n",
      "Using 1017.2526 Hz as SEV sampling rate for EEGr\n",
      "Using 1017.2526 Hz as SEV sampling rate for EMGr\n",
      "Using 24414.0625 Hz as SEV sampling rate for NNXr\n",
      "streams for test-pre-snip are ['NRe2', 'NRe3', 'EEG_', 'LFP_', 'LFPo', 'NNXo', 'EEGr', 'EMGr', 'NNXr', 'Wavt']\n",
      "using ['NNXr', 'NNXo'] to get end times for test-pre-snip\n",
      "read from t=71903s to t=71933.41s\n",
      "Using 24414.0625 Hz as SEV sampling rate for NNXo\n",
      "Using 24414.0625 Hz as SEV sampling rate for NNXr\n",
      "read from t=0s to t=1021.82s\n",
      "Using 152.5879 Hz as SEV sampling rate for EEG_\n",
      "Using 152.5879 Hz as SEV sampling rate for LFP_\n",
      "Using 152.5879 Hz as SEV sampling rate for LFPo\n",
      "Using 24414.0625 Hz as SEV sampling rate for NNXo\n",
      "Using 1017.2526 Hz as SEV sampling rate for EEGr\n",
      "Using 1017.2526 Hz as SEV sampling rate for EMGr\n",
      "Using 24414.0625 Hz as SEV sampling rate for NNXr\n",
      "streams for pulse-calibration are ['NRe2', 'NRe3', 'EEG_', 'LFP_', 'LFPo', 'NNXo', 'EEGr', 'EMGr', 'NNXr', 'Wavt']\n",
      "using ['NNXr', 'NNXo'] to get end times for pulse-calibration\n",
      "read from t=76173s to t=76203.66s\n",
      "Using 24414.0625 Hz as SEV sampling rate for NNXo\n",
      "Using 24414.0625 Hz as SEV sampling rate for NNXr\n",
      "read from t=0s to t=1051.61s\n",
      "Using 152.5879 Hz as SEV sampling rate for EEG_\n",
      "Using 152.5879 Hz as SEV sampling rate for LFP_\n",
      "Using 152.5879 Hz as SEV sampling rate for LFPo\n",
      "Using 24414.0625 Hz as SEV sampling rate for NNXo\n",
      "Using 1017.2526 Hz as SEV sampling rate for EEGr\n",
      "Using 1017.2526 Hz as SEV sampling rate for EMGr\n",
      "Using 24414.0625 Hz as SEV sampling rate for NNXr\n",
      "streams for test-post-snip are ['NRe2', 'NRe3', 'EEG_', 'LFP_', 'LFPo', 'NNXo', 'EEGr', 'EMGr', 'NNXr', 'Wavt']\n",
      "using ['NNXr', 'NNXo'] to get end times for test-post-snip\n",
      "read from t=85108s to t=85138.73s\n",
      "Using 24414.0625 Hz as SEV sampling rate for NNXo\n",
      "Using 24414.0625 Hz as SEV sampling rate for NNXr\n"
     ]
    }
   ],
   "source": [
    "import acr.info_pipeline as aip\n",
    "\n",
    "# Set the params to generate the subject_info file\n",
    "params = {}\n",
    "params[\"subject\"] = \"ACR_15\"\n",
    "params[\"raw_stores\"] = [\"NNXo\", \"NNXr\", \"EEGr\", \"EMGr\"]\n",
    "params[\"lite_stores\"] = [\"EEG_\", \"EMGr\", \"LFP_\", \"LFPo\"]\n",
    "params[\"time_stores\"] = ['NNXr', 'NNXo']\n",
    "\n",
    "params[\"preprocess-list\"] = [\n",
    "    \"test-pre-snip\",\n",
    "    \"test-post-snip\",\n",
    "    \"pulse-calibration\",\n",
    "]\n",
    "\n",
    "params[\"channels\"] = {\n",
    "    \"NNXr\": [1, 2, 3, 4, 5, 6, 7, 8, 9, 10, 11, 12, 13, 14, 15, 16],\n",
    "    \"NNXo\": [1, 2, 3, 4, 5, 6, 7, 8, 9, 10, 11, 12, 13, 14, 15, 16],\n",
    "    \"EEGr\": [1, 2],\n",
    "    \"EMGr\": [1, 2],\n",
    "    \"EEG_\": [1, 2],\n",
    "    \"LFP_\": [2, 6, 10, 14],\n",
    "    \"LFPo\": [2, 6, 10, 14],\n",
    "}\n",
    "\n",
    "params[\"stim-exps\"] = {}\n",
    "aip.subject_info_gen(params)"
   ]
  },
  {
   "cell_type": "code",
   "execution_count": 17,
   "metadata": {},
   "outputs": [],
   "source": [
    "aip.rec_time_comparitor(params[\"subject\"])"
   ]
  },
  {
   "cell_type": "code",
   "execution_count": 4,
   "metadata": {},
   "outputs": [],
   "source": [
    "hypno_file = f\"/Volumes/opto_loc/Data/ACR_PROJECT_MATERIALS/acr-hypno-paths.yaml\"\n",
    "with open(hypno_file, \"r\") as f:\n",
    "    hypno_info = yaml.load(f, Loader=yaml.FullLoader)"
   ]
  },
  {
   "cell_type": "code",
   "execution_count": 16,
   "metadata": {},
   "outputs": [
    {
     "data": {
      "text/plain": [
       "False"
      ]
     },
     "execution_count": 16,
     "metadata": {},
     "output_type": "execute_result"
    }
   ],
   "source": [
    "'ACR_15' not in hypno_info"
   ]
  },
  {
   "cell_type": "code",
   "execution_count": 15,
   "metadata": {},
   "outputs": [],
   "source": [
    "hypno_info['ACR_15'] = {}"
   ]
  },
  {
   "cell_type": "code",
   "execution_count": null,
   "metadata": {},
   "outputs": [],
   "source": [
    "def xcat(ds, recordings, stores=['NNXo', 'NNXr']):\n",
    "    data = {}\n",
    "    for store in stores:\n",
    "        to_concat = []\n",
    "        for recording in recordings:\n",
    "            to_concat.append(ds[f'{recording}-{store}'])\n",
    "        data[store] = xr.concat(to_concat, dim='datetime')\n",
    "    return data"
   ]
  },
  {
   "cell_type": "code",
   "execution_count": 82,
   "metadata": {},
   "outputs": [
    {
     "name": "stdout",
     "output_type": "stream",
     "text": [
      "read from t=0s to t=1646.77s\n",
      "Using 152.5879 Hz as SEV sampling rate for EEG_\n",
      "Using 610.3516 Hz as SEV sampling rate for LFP_\n",
      "Using 1017.2526 Hz as SEV sampling rate for EEGr\n",
      "Using 1017.2526 Hz as SEV sampling rate for EMGr\n",
      "Using 24414.0625 Hz as SEV sampling rate for NNXr\n"
     ]
    }
   ],
   "source": [
    "data = tdt.read_block('/Volumes/opto_loc/Data/ACR_9/ACR_9-laser1', evtype=['streams'], t1=0, t2=10)"
   ]
  },
  {
   "cell_type": "code",
   "execution_count": 83,
   "metadata": {},
   "outputs": [
    {
     "data": {
      "text/plain": [
       "NRe2\t[struct]\n",
       "Wav2\t[struct]\n",
       "EEG_\t[struct]\n",
       "LFP_\t[struct]\n",
       "uS2r\t[struct]\n",
       "EEGr\t[struct]\n",
       "EMGr\t[struct]\n",
       "NNXr\t[struct]"
      ]
     },
     "execution_count": 83,
     "metadata": {},
     "output_type": "execute_result"
    }
   ],
   "source": [
    "data.streams"
   ]
  },
  {
   "cell_type": "code",
   "execution_count": 1,
   "metadata": {},
   "outputs": [
    {
     "ename": "NameError",
     "evalue": "name 'data' is not defined",
     "output_type": "error",
     "traceback": [
      "\u001b[0;31m---------------------------------------------------------------------------\u001b[0m",
      "\u001b[0;31mNameError\u001b[0m                                 Traceback (most recent call last)",
      "Cell \u001b[0;32mIn [1], line 1\u001b[0m\n\u001b[0;32m----> 1\u001b[0m on \u001b[39m=\u001b[39m data\u001b[39m.\u001b[39mepocs\u001b[39m.\u001b[39mBttn\u001b[39m.\u001b[39monset\n\u001b[1;32m      2\u001b[0m off \u001b[39m=\u001b[39m data\u001b[39m.\u001b[39mepocs\u001b[39m.\u001b[39mBttn\u001b[39m.\u001b[39moffset\n",
      "\u001b[0;31mNameError\u001b[0m: name 'data' is not defined"
     ]
    }
   ],
   "source": [
    "on = data.epocs.Bttn.onset\n",
    "off = data.epocs.Bttn.offset"
   ]
  },
  {
   "cell_type": "code",
   "execution_count": 75,
   "metadata": {},
   "outputs": [
    {
     "data": {
      "text/plain": [
       "557.890969600001"
      ]
     },
     "execution_count": 75,
     "metadata": {},
     "output_type": "execute_result"
    }
   ],
   "source": [
    "off[0] - on[0])"
   ]
  },
  {
   "cell_type": "code",
   "execution_count": 76,
   "metadata": {},
   "outputs": [
    {
     "name": "stdout",
     "output_type": "stream",
     "text": [
      "read from t=0s to t=1651.55s\n",
      "Using 152.5879 Hz as SEV sampling rate for EEG_\n",
      "Using 610.3516 Hz as SEV sampling rate for LFP_\n",
      "Using 1017.2526 Hz as SEV sampling rate for EEGr\n",
      "Using 1017.2526 Hz as SEV sampling rate for EMGr\n",
      "Using 24414.0625 Hz as SEV sampling rate for NNXr\n",
      "streams for laser1 are ['NRe2', 'Wav2', 'EEG_', 'LFP_', 'uS2r', 'EEGr', 'EMGr', 'NNXr']\n",
      "using ['NNXr'] to get end times for laser1\n",
      "read from t=93659s to t=93689.19s\n",
      "Using 24414.0625 Hz as SEV sampling rate for NNXr\n",
      "read from t=0s to t=1617.32s\n",
      "Using 152.5879 Hz as SEV sampling rate for EEG_\n",
      "Using 610.3516 Hz as SEV sampling rate for LFP_\n",
      "Using 1017.2526 Hz as SEV sampling rate for EEGr\n",
      "Using 1017.2526 Hz as SEV sampling rate for EMGr\n",
      "Using 24414.0625 Hz as SEV sampling rate for NNXr\n",
      "streams for control1 are ['NRe2', 'Wav2', 'EEG_', 'LFP_', 'uS2r', 'EEGr', 'EMGr', 'NNXr']\n",
      "using ['NNXr'] to get end times for control1\n",
      "read from t=99415s to t=99445.86s\n",
      "Using 24414.0625 Hz as SEV sampling rate for NNXr\n"
     ]
    }
   ],
   "source": [
    "t = aip.get_rec_times('ACR_12', ['laser1', 'control1'], time_stores=['NNXr'], backup_store=['EEG_'])"
   ]
  },
  {
   "cell_type": "code",
   "execution_count": 79,
   "metadata": {},
   "outputs": [],
   "source": [
    "params = {}\n",
    "params[\"subject\"] = \"ACR_9\"\n",
    "params[\"raw_stores\"] = [\"NNXr\", \"EEGr\", \"EMGr\"]\n",
    "params[\"lite_stores\"] = [\"EEG_\", \"EMGr\", \"LFP_\"]\n",
    "params[\"time_stores\"] = ['NNXr']\n",
    "\n",
    "params[\"preprocess-list\"] = [\n",
    "    \"laser1-bl\",\n",
    "    \"laser1\",\n",
    "    \"control1-bl\",\n",
    "    \"control1\",\n",
    "    \"pulse-exp\"\n",
    "]\n",
    "\n",
    "params[\"channels\"] = {\n",
    "    \"NNXr\": [1, 2, 3, 4, 5, 6, 7, 8, 9, 10, 11, 12, 13, 14, 15, 16],\n",
    "    \"EEGr\": [1, 2],\n",
    "    \"EMGr\": [1, 2],\n",
    "    \"EEG_\": [1, 2],\n",
    "    \"LFP_\": [2, 6, 10, 14],\n",
    "}\n",
    "\n",
    "params[\"stim-exps\"] = {\"laser1\": \"Wav2\", \"pulse-exp\": \"Bttn\"}"
   ]
  },
  {
   "cell_type": "code",
   "execution_count": 80,
   "metadata": {},
   "outputs": [
    {
     "name": "stdout",
     "output_type": "stream",
     "text": [
      "read from t=0s to t=1651.55s\n",
      "Using 152.5879 Hz as SEV sampling rate for EEG_\n",
      "Using 610.3516 Hz as SEV sampling rate for LFP_\n",
      "Using 1017.2526 Hz as SEV sampling rate for EEGr\n",
      "Using 1017.2526 Hz as SEV sampling rate for EMGr\n",
      "Using 24414.0625 Hz as SEV sampling rate for NNXr\n",
      "streams for laser1 are ['NRe2', 'Wav2', 'EEG_', 'LFP_', 'uS2r', 'EEGr', 'EMGr', 'NNXr']\n",
      "using ['NNXr'] to get end times for laser1\n",
      "read from t=93659s to t=93689.19s\n",
      "Using 24414.0625 Hz as SEV sampling rate for NNXr\n",
      "read from t=0s to t=1617.32s\n",
      "Using 152.5879 Hz as SEV sampling rate for EEG_\n",
      "Using 610.3516 Hz as SEV sampling rate for LFP_\n",
      "Using 1017.2526 Hz as SEV sampling rate for EEGr\n",
      "Using 1017.2526 Hz as SEV sampling rate for EMGr\n",
      "Using 24414.0625 Hz as SEV sampling rate for NNXr\n",
      "streams for control1 are ['NRe2', 'Wav2', 'EEG_', 'LFP_', 'uS2r', 'EEGr', 'EMGr', 'NNXr']\n",
      "using ['NNXr'] to get end times for control1\n",
      "read from t=99415s to t=99445.86s\n",
      "Using 24414.0625 Hz as SEV sampling rate for NNXr\n"
     ]
    }
   ],
   "source": [
    "t = aip.get_rec_times('ACR_12', ['laser1', 'control1'], time_stores=params['time_stores'], backup_store=params['lite_stores'][0])"
   ]
  },
  {
   "cell_type": "code",
   "execution_count": 81,
   "metadata": {},
   "outputs": [
    {
     "data": {
      "text/plain": [
       "{'laser1': {'start': '2022-08-18T09:02:28.999999',\n",
       "  'NNXr-duration': 93689.17512192,\n",
       "  'NNXr-end': '2022-08-19 11:03:58.175120920'},\n",
       " 'control1': {'start': '2022-08-11T09:02:15.999999',\n",
       "  'NNXr-duration': 99445.77347584,\n",
       "  'NNXr-end': '2022-08-12 12:39:41.773474840'}}"
      ]
     },
     "execution_count": 81,
     "metadata": {},
     "output_type": "execute_result"
    }
   ],
   "source": []
  }
 ],
 "metadata": {
  "kernelspec": {
   "display_name": "Python 3.10.6 ('acrdev')",
   "language": "python",
   "name": "python3"
  },
  "language_info": {
   "codemirror_mode": {
    "name": "ipython",
    "version": 3
   },
   "file_extension": ".py",
   "mimetype": "text/x-python",
   "name": "python",
   "nbconvert_exporter": "python",
   "pygments_lexer": "ipython3",
   "version": "3.10.6"
  },
  "orig_nbformat": 4,
  "vscode": {
   "interpreter": {
    "hash": "f1d71d528ced425d3e458548722e2339c6e39870f631ffe4f2412117d27fa354"
   }
  }
 },
 "nbformat": 4,
 "nbformat_minor": 2
}

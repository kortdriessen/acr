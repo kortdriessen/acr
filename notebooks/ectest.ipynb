{
 "cells": [
  {
   "cell_type": "code",
   "execution_count": 1,
   "metadata": {},
   "outputs": [],
   "source": [
    "import tdt\n",
    "import ecephys as e\n",
    "import kdephys as kd"
   ]
  },
  {
   "cell_type": "code",
   "execution_count": 2,
   "metadata": {},
   "outputs": [],
   "source": [
    "path = '/Volumes/opto_loc/Data/ACR_12/ACR_12-control1-bl/'"
   ]
  },
  {
   "cell_type": "code",
   "execution_count": 3,
   "metadata": {},
   "outputs": [
    {
     "name": "stdout",
     "output_type": "stream",
     "text": [
      "read from t=0s to t=1679.86s\n",
      "Using 1017.2526 Hz as SEV sampling rate for EEGr\n"
     ]
    }
   ],
   "source": [
    "data = kd.xr.utils.load_sev_store(path, t1=0, t2=600, channel=[1,2], store='EEGr')"
   ]
  },
  {
   "cell_type": "code",
   "execution_count": null,
   "metadata": {},
   "outputs": [],
   "source": [
    "def get_spextrogram(sig, window_length=4, overlap=2, **kwargs):\n",
    "    \"\"\"Calculates a spectrogram and returns as xr.DataArray with dimensions datetime, frequency, channel\n",
    "    Parameters\n",
    "    ----------\n",
    "    Sig --> Should be an xr.DataArray with time or datetime dimension\n",
    "    \"\"\"\n",
    "    if type(sig) == str:\n",
    "        return sig\n",
    "    try:\n",
    "        sig = sig.swap_dims({\"datetime\": \"time\"})\n",
    "    except:\n",
    "        print(\"Passing Error in get_spextrogram because sig already has time dimension\")\n",
    "    kwargs[\"nperseg\"] = int(\n",
    "        window_length * sig.fs\n",
    "    )  # window length in number of samples\n",
    "    kwargs[\"noverlap\"] = int(overlap * sig.fs)  # overlap in number of samples\n",
    "    \n",
    "    spg = e.signal.timefrequency.parallel_spectrogram_welch(sig, **kwargs)\n",
    "    return spg.swap_dims({\"time\": \"datetime\"})"
   ]
  },
  {
   "cell_type": "code",
   "execution_count": 9,
   "metadata": {},
   "outputs": [
    {
     "data": {
      "text/html": [
       "<div>\n",
       "<style scoped>\n",
       "    .dataframe tbody tr th:only-of-type {\n",
       "        vertical-align: middle;\n",
       "    }\n",
       "\n",
       "    .dataframe tbody tr th {\n",
       "        vertical-align: top;\n",
       "    }\n",
       "\n",
       "    .dataframe thead th {\n",
       "        text-align: right;\n",
       "    }\n",
       "</style>\n",
       "<table border=\"1\" class=\"dataframe\">\n",
       "  <thead>\n",
       "    <tr style=\"text-align: right;\">\n",
       "      <th></th>\n",
       "      <th>1</th>\n",
       "      <th>2</th>\n",
       "      <th>datetime</th>\n",
       "      <th>timedelta</th>\n",
       "      <th>tdt_time</th>\n",
       "    </tr>\n",
       "  </thead>\n",
       "  <tbody>\n",
       "    <tr>\n",
       "      <th>0</th>\n",
       "      <td>51.199997</td>\n",
       "      <td>206.335983</td>\n",
       "      <td>2022-08-10 09:04:34.999999000</td>\n",
       "      <td>0 days 00:00:00</td>\n",
       "      <td>0.000000</td>\n",
       "    </tr>\n",
       "    <tr>\n",
       "      <th>1</th>\n",
       "      <td>23.807999</td>\n",
       "      <td>245.055969</td>\n",
       "      <td>2022-08-10 09:04:35.000982039</td>\n",
       "      <td>0 days 00:00:00.000983039</td>\n",
       "      <td>0.000983</td>\n",
       "    </tr>\n",
       "    <tr>\n",
       "      <th>2</th>\n",
       "      <td>-20.287998</td>\n",
       "      <td>273.151978</td>\n",
       "      <td>2022-08-10 09:04:35.001965079</td>\n",
       "      <td>0 days 00:00:00.001966079</td>\n",
       "      <td>0.001966</td>\n",
       "    </tr>\n",
       "    <tr>\n",
       "      <th>3</th>\n",
       "      <td>-58.431995</td>\n",
       "      <td>273.343994</td>\n",
       "      <td>2022-08-10 09:04:35.002948120</td>\n",
       "      <td>0 days 00:00:00.002949120</td>\n",
       "      <td>0.002949</td>\n",
       "    </tr>\n",
       "    <tr>\n",
       "      <th>4</th>\n",
       "      <td>-22.655998</td>\n",
       "      <td>278.783997</td>\n",
       "      <td>2022-08-10 09:04:35.003931159</td>\n",
       "      <td>0 days 00:00:00.003932159</td>\n",
       "      <td>0.003932</td>\n",
       "    </tr>\n",
       "    <tr>\n",
       "      <th>...</th>\n",
       "      <td>...</td>\n",
       "      <td>...</td>\n",
       "      <td>...</td>\n",
       "      <td>...</td>\n",
       "      <td>...</td>\n",
       "    </tr>\n",
       "    <tr>\n",
       "      <th>508622</th>\n",
       "      <td>-16.639999</td>\n",
       "      <td>2.368000</td>\n",
       "      <td>2022-08-10 09:12:54.995759640</td>\n",
       "      <td>0 days 00:08:19.995760640</td>\n",
       "      <td>499.995761</td>\n",
       "    </tr>\n",
       "    <tr>\n",
       "      <th>508623</th>\n",
       "      <td>9.791999</td>\n",
       "      <td>-3.712000</td>\n",
       "      <td>2022-08-10 09:12:54.996742680</td>\n",
       "      <td>0 days 00:08:19.996743680</td>\n",
       "      <td>499.996744</td>\n",
       "    </tr>\n",
       "    <tr>\n",
       "      <th>508624</th>\n",
       "      <td>-17.983999</td>\n",
       "      <td>4.416000</td>\n",
       "      <td>2022-08-10 09:12:54.997725720</td>\n",
       "      <td>0 days 00:08:19.997726720</td>\n",
       "      <td>499.997727</td>\n",
       "    </tr>\n",
       "    <tr>\n",
       "      <th>508625</th>\n",
       "      <td>19.199999</td>\n",
       "      <td>42.751995</td>\n",
       "      <td>2022-08-10 09:12:54.998708760</td>\n",
       "      <td>0 days 00:08:19.998709760</td>\n",
       "      <td>499.998710</td>\n",
       "    </tr>\n",
       "    <tr>\n",
       "      <th>508626</th>\n",
       "      <td>75.264000</td>\n",
       "      <td>57.023998</td>\n",
       "      <td>2022-08-10 09:12:54.999691800</td>\n",
       "      <td>0 days 00:08:19.999692800</td>\n",
       "      <td>499.999693</td>\n",
       "    </tr>\n",
       "  </tbody>\n",
       "</table>\n",
       "<p>508627 rows × 5 columns</p>\n",
       "</div>"
      ],
      "text/plain": [
       "                1           2                      datetime  \\\n",
       "0       51.199997  206.335983 2022-08-10 09:04:34.999999000   \n",
       "1       23.807999  245.055969 2022-08-10 09:04:35.000982039   \n",
       "2      -20.287998  273.151978 2022-08-10 09:04:35.001965079   \n",
       "3      -58.431995  273.343994 2022-08-10 09:04:35.002948120   \n",
       "4      -22.655998  278.783997 2022-08-10 09:04:35.003931159   \n",
       "...           ...         ...                           ...   \n",
       "508622 -16.639999    2.368000 2022-08-10 09:12:54.995759640   \n",
       "508623   9.791999   -3.712000 2022-08-10 09:12:54.996742680   \n",
       "508624 -17.983999    4.416000 2022-08-10 09:12:54.997725720   \n",
       "508625  19.199999   42.751995 2022-08-10 09:12:54.998708760   \n",
       "508626  75.264000   57.023998 2022-08-10 09:12:54.999691800   \n",
       "\n",
       "                       timedelta    tdt_time  \n",
       "0                0 days 00:00:00    0.000000  \n",
       "1      0 days 00:00:00.000983039    0.000983  \n",
       "2      0 days 00:00:00.001966079    0.001966  \n",
       "3      0 days 00:00:00.002949120    0.002949  \n",
       "4      0 days 00:00:00.003932159    0.003932  \n",
       "...                          ...         ...  \n",
       "508622 0 days 00:08:19.995760640  499.995761  \n",
       "508623 0 days 00:08:19.996743680  499.996744  \n",
       "508624 0 days 00:08:19.997726720  499.997727  \n",
       "508625 0 days 00:08:19.998709760  499.998710  \n",
       "508626 0 days 00:08:19.999692800  499.999693  \n",
       "\n",
       "[508627 rows x 5 columns]"
      ]
     },
     "execution_count": 9,
     "metadata": {},
     "output_type": "execute_result"
    }
   ],
   "source": [
    "def xr_spg(xr):\n",
    "    "
   ]
  }
 ],
 "metadata": {
  "kernelspec": {
   "display_name": "Python 3.10.6 ('ectest')",
   "language": "python",
   "name": "python3"
  },
  "language_info": {
   "codemirror_mode": {
    "name": "ipython",
    "version": 3
   },
   "file_extension": ".py",
   "mimetype": "text/x-python",
   "name": "python",
   "nbconvert_exporter": "python",
   "pygments_lexer": "ipython3",
   "version": "3.10.6"
  },
  "orig_nbformat": 4,
  "vscode": {
   "interpreter": {
    "hash": "4a0f4475ecaf59d83cb5eca5289fe2715fc2968af57c28a6c3f41e2c110701bd"
   }
  }
 },
 "nbformat": 4,
 "nbformat_minor": 2
}

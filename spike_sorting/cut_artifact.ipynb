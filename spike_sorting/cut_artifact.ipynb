{
 "cells": [
  {
   "cell_type": "code",
   "execution_count": 1,
   "metadata": {},
   "outputs": [
    {
     "name": "stderr",
     "output_type": "stream",
     "text": [
      "/home/kdriessen/miniconda3/envs/acr/lib/python3.11/site-packages/tqdm/auto.py:21: TqdmWarning: IProgress not found. Please update jupyter and ipywidgets. See https://ipywidgets.readthedocs.io/en/stable/user_install.html\n",
      "  from .autonotebook import tqdm as notebook_tqdm\n"
     ]
    }
   ],
   "source": [
    "#-------------------------- Standard Imports --------------------------#\n",
    "%reload_ext autoreload\n",
    "%autoreload 2\n",
    "import kdephys as kde\n",
    "import pandas as pd\n",
    "import polars as pl\n",
    "import matplotlib.pyplot as plt\n",
    "import seaborn as sns\n",
    "import numpy as np\n",
    "import acr\n",
    "plt.style.use('fast')\n",
    "plt.style.use('/home/kdriessen/gh_master/kdephys/kdephys/plot/acr_plots.mplstyle')\n",
    "# ---------------------------- EXTRAS --------------------------------#"
   ]
  },
  {
   "cell_type": "code",
   "execution_count": 2,
   "metadata": {},
   "outputs": [],
   "source": [
    "subject = 'ACR_26'\n",
    "exp = 'swi'\n",
    "h = acr.io.load_hypno_full_exp(subject, exp)\n",
    "si = acr.info_pipeline.load_subject_info(subject)\n",
    "params = acr.info_pipeline.subject_params(subject)\n",
    "stores = params['time_stores']\n",
    "recordings = acr.info_pipeline.get_exp_recs(subject, exp)"
   ]
  },
  {
   "cell_type": "code",
   "execution_count": 56,
   "metadata": {},
   "outputs": [],
   "source": [
    "exclusion_rec = 'swi'\n",
    "h = acr.io.load_hypno(subject, exclusion_rec, corrections=True, float=True)"
   ]
  },
  {
   "cell_type": "code",
   "execution_count": 42,
   "metadata": {},
   "outputs": [],
   "source": [
    "def generate_exclusion_times(hypno):\n",
    "    \"\"\"generates start and end times for sorting exclusion\n",
    "\n",
    "    Parameters\n",
    "    ----------\n",
    "    hypno : float hypnogram\n",
    "        this must be a hypnogram of ONLY A SINGLE RECORDING with some Sort-Exclude states\n",
    "    \"\"\"\n",
    "    hypno = hypno.loc[hypno.state=='Sort-Exclude']\n",
    "    starts = hypno.loc[hypno.state=='Sort-Exclude'].end_time.values\n",
    "    starts = np.insert(starts, 0, 0.0)\n",
    "    \n",
    "    ends = hypno.loc[hypno.state=='Sort-Exclude'].start_time.values\n",
    "    ends = np.append(ends, 0.0)\n",
    "    \n",
    "    if (starts[0] == 0) and (ends[0]==0):\n",
    "        starts = starts[1:]\n",
    "        ends = ends[1:]\n",
    "    \n",
    "    return starts, ends"
   ]
  },
  {
   "cell_type": "code",
   "execution_count": 43,
   "metadata": {},
   "outputs": [],
   "source": [
    "s, e = generate_exclusion_times(h)"
   ]
  },
  {
   "cell_type": "code",
   "execution_count": 54,
   "metadata": {},
   "outputs": [
    {
     "data": {
      "text/plain": [
       "15"
      ]
     },
     "execution_count": 54,
     "metadata": {},
     "output_type": "execute_result"
    }
   ],
   "source": [
    "len(s)"
   ]
  },
  {
   "cell_type": "code",
   "execution_count": 61,
   "metadata": {},
   "outputs": [],
   "source": [
    "paths = [f\"/Volumes/neuropixel_archive/Data/acr_archive/{subject}/{subject}-{exclusion_rec}\"] * 15"
   ]
  },
  {
   "cell_type": "code",
   "execution_count": 63,
   "metadata": {},
   "outputs": [
    {
     "data": {
      "text/plain": [
       "'/Volumes/neuropixel_archive/Data/acr_archive/ACR_26/ACR_26-swi-bl'"
      ]
     },
     "execution_count": 63,
     "metadata": {},
     "output_type": "execute_result"
    }
   ],
   "source": [
    "f\"/Volumes/neuropixel_archive/Data/acr_archive/{subject}/{subject}-{exclusion_rec}-bl\""
   ]
  },
  {
   "cell_type": "code",
   "execution_count": 67,
   "metadata": {},
   "outputs": [],
   "source": [
    "all_paths = \n",
    "[\n",
    "'/Volumes/neuropixel_archive/Data/acr_archive/ACR_26/ACR_26-swi-bl',\n",
    "'/Volumes/neuropixel_archive/Data/acr_archive/ACR_26/ACR_26-swi',\n",
    "'/Volumes/neuropixel_archive/Data/acr_archive/ACR_26/ACR_26-swi',\n",
    "'/Volumes/neuropixel_archive/Data/acr_archive/ACR_26/ACR_26-swi',\n",
    "'/Volumes/neuropixel_archive/Data/acr_archive/ACR_26/ACR_26-swi',\n",
    "'/Volumes/neuropixel_archive/Data/acr_archive/ACR_26/ACR_26-swi',\n",
    "'/Volumes/neuropixel_archive/Data/acr_archive/ACR_26/ACR_26-swi',\n",
    "'/Volumes/neuropixel_archive/Data/acr_archive/ACR_26/ACR_26-swi',\n",
    "'/Volumes/neuropixel_archive/Data/acr_archive/ACR_26/ACR_26-swi',\n",
    "'/Volumes/neuropixel_archive/Data/acr_archive/ACR_26/ACR_26-swi',\n",
    "'/Volumes/neuropixel_archive/Data/acr_archive/ACR_26/ACR_26-swi',\n",
    "'/Volumes/neuropixel_archive/Data/acr_archive/ACR_26/ACR_26-swi',\n",
    "'/Volumes/neuropixel_archive/Data/acr_archive/ACR_26/ACR_26-swi',\n",
    "'/Volumes/neuropixel_archive/Data/acr_archive/ACR_26/ACR_26-swi',\n",
    "'/Volumes/neuropixel_archive/Data/acr_archive/ACR_26/ACR_26-swi',\n",
    "'/Volumes/neuropixel_archive/Data/acr_archive/ACR_26/ACR_26-swi',\n",
    "'/Volumes/neuropixel_archive/Data/acr_archive/ACR_26/ACR_26-swi-post'\n",
    "]"
   ]
  },
  {
   "cell_type": "code",
   "execution_count": 65,
   "metadata": {},
   "outputs": [],
   "source": [
    "starts = [0.0, 18.98999977,  3934.48999023,  4359.58984375,  5619.79003906, 6362.79003906,  7568.08023071,  8126.02026367,  8824.63024902, 9219.09020996,  9710.12011719, 10642.28027344, 10702.08032227, 12253.41015625, 13590.89013672, 13777.94042969, 0.0]"
   ]
  },
  {
   "cell_type": "code",
   "execution_count": 66,
   "metadata": {},
   "outputs": [],
   "source": [
    "ends = [0.0, 3891.79003906,  4351.37988281,  4621.79003906,  5779.58984375, 6863.08984375,  8063.63024902,  8787.72021484,  9163.81018066, 9659.06030273, 10446.3203125 , 10654.47021484, 11902.04003906, 13257.45019531, 13657.0, 0.0, 0.0]"
   ]
  }
 ],
 "metadata": {
  "kernelspec": {
   "display_name": "acr",
   "language": "python",
   "name": "python3"
  },
  "language_info": {
   "codemirror_mode": {
    "name": "ipython",
    "version": 3
   },
   "file_extension": ".py",
   "mimetype": "text/x-python",
   "name": "python",
   "nbconvert_exporter": "python",
   "pygments_lexer": "ipython3",
   "version": "3.11.4"
  },
  "orig_nbformat": 4
 },
 "nbformat": 4,
 "nbformat_minor": 2
}
